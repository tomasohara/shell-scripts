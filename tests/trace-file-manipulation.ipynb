{
 "cells": [
  {
   "cell_type": "code",
   "execution_count": 1,
   "id": "6dcea75d",
   "metadata": {
    "scrolled": true
   },
   "outputs": [],
   "source": [
    "## SETUP (OPTIONAL - USE IF REQUIRED)\n",
    "## Bracketed Paste is disabled to prevent characters after output\n",
    "## Example: \n",
    "## $ echo 'Hii'\n",
    "## | Hi?2004l\n",
    "# bind 'set enable-bracketed-paste off'"
   ]
  },
  {
   "cell_type": "code",
   "execution_count": 2,
   "id": "65d43538",
   "metadata": {},
   "outputs": [
    {
     "name": "stdout",
     "output_type": "stream",
     "text": [
      "0\n"
     ]
    }
   ],
   "source": [
    "## TEST:  Make sure simple prompt used (e.g., no escapes that might contaminate output)\n",
    "## PS1=\"$ \"\n",
    "## TODO: PS1=\"> \" \n",
    "\n",
    "## NOTE: The Jupyter bash kernel requires that PS1 not be modified as they customize it. \n",
    "# echo $PS1\n",
    "actual=${PS1: -1}\n",
    "[ \"$actual\" = \">\" ]; echo $?"
   ]
  },
  {
   "cell_type": "code",
   "execution_count": 3,
   "id": "d623c9a9",
   "metadata": {},
   "outputs": [],
   "source": [
    "## BAD *SUPER BAD*\n",
    "# # Delete all aliases and function\n",
    "# # TODO: Instead start from pristine environment\n",
    "# unalias -a\n",
    "# alias | wc -l\n",
    "# for f in $(typeset -f | egrep '^\\w+'); do unset -f $f; done\n",
    "# typeset -f | egrep '^\\w+' | wc -l"
   ]
  },
  {
   "cell_type": "code",
   "execution_count": 4,
   "id": "16cdccbd",
   "metadata": {},
   "outputs": [],
   "source": [
    "# Global Setup\n",
    "alias testuser=\"sed -r \"s/\"$USER\"+/user/g\"\"\n",
    "## alias testnum=\"sed -r \"s/[0-9]/X/g\"\"\n",
    "\n",
    "## For testnum being non-critical\n",
    "alias testnum=\"sed -r \"s/[0-9][0-9]*/X/g\"\""
   ]
  },
  {
   "cell_type": "code",
   "execution_count": 5,
   "id": "0ff8f157",
   "metadata": {},
   "outputs": [],
   "source": [
    "## Setting a temp directory for tests\n",
    "## OLD: Reworked with temp-dir\n",
    "# TMP=/tmp/test-file-manipulation\n",
    "\n",
    "## NOTE: Source it directly from the ./tests directory.\n",
    "## OLD\n",
    "# BIN_DIR=$PWD/..\n",
    "\n",
    "## OLD\n",
    "# alias | wc -l"
   ]
  },
  {
   "cell_type": "code",
   "execution_count": 6,
   "id": "ab954c7f",
   "metadata": {},
   "outputs": [
    {
     "name": "stdout",
     "output_type": "stream",
     "text": [
      "renamed '/tmp/test-trace-file/trace-file-manipulation' -> '/tmp/test-trace-file/trace-file-manipulation.02May24.14'\n"
     ]
    }
   ],
   "source": [
    "## NOTE: For reproducability, the directory name needs to be fixed\n",
    "## In place of $$, use a psuedo random number (e,g., 9890)\n",
    "## *** All output from one run to the next needs to be the same ***\n",
    "\n",
    "## temp_dir=$TMP/test-$$\n",
    "## OLD\n",
    "# mkdir -p \"$temp_dir\"\n",
    "# # TODO: /bin/rm -rvf \"$temp_dir\"\n",
    "# cd \"$temp_dir\"\n",
    "# pwd\n",
    "\n",
    "## OLD: Used the concept of trash-dir, instead use unique temp_dirs\n",
    "# temp_dir=$TMP/test-9890\n",
    "# trash_dir=$TMP/\"_temp-trash-$(date \"+%Y%m%d%H%M%S\")\"\n",
    "# command mkdir -p \"$temp_dir\"\n",
    "# command mkdir -p \"$trash_dir\"\n",
    "# # TODO: /bin/rm -rvf \"$temp_dir\"\n",
    "# command cd \"$temp_dir\"\n",
    "\n",
    "TMP=${TMP:-/tmp}\n",
    "if [ \"$DEBUG_LEVEL\" -lt 4 ]; then TMP=/tmp/test-trace-file; fi\n",
    "temp_dir=$TMP/trace-file-manipulation\n",
    "rename-with-file-date \"$temp_dir\"\n",
    "command mkdir -p \"$temp_dir\"\n",
    "command cd $temp_dir\n",
    "\n",
    "## OLD:\n",
    "## ALIAS FOR PRINTING SEPERATION LINES (FOR JUPYTER)\n",
    "# alias linebr=\"printf '%*s\\n' \"${COLUMNS:-$(tput cols)}\" '' | tr ' ' -\""
   ]
  },
  {
   "cell_type": "code",
   "execution_count": 7,
   "id": "ec6df159",
   "metadata": {},
   "outputs": [
    {
     "name": "stdout",
     "output_type": "stream",
     "text": [
      "0\n"
     ]
    }
   ],
   "source": [
    "## Count aliases proper; NEW: Added testnum pipeline\n",
    "# alias | wc -l | testnum\n",
    "alias | { [ $(wc -l < /dev/stdin) -ne 0 ]; echo $?; }"
   ]
  },
  {
   "cell_type": "code",
   "execution_count": 8,
   "id": "a1426f49",
   "metadata": {},
   "outputs": [
    {
     "name": "stdout",
     "output_type": "stream",
     "text": [
      "0\n"
     ]
    }
   ],
   "source": [
    "## Count functions; NEW: Added testnum pipeline\n",
    "# typeset -f | egrep '^\\w+' | wc -l | testnum\n",
    "typeset -f | egrep '^\\w+' | { [ $(wc -l < /dev/stdin) -ne 0 ]; echo $?; }"
   ]
  },
  {
   "cell_type": "code",
   "execution_count": 9,
   "id": "ff56cd62",
   "metadata": {},
   "outputs": [],
   "source": [
    "## BAD\n",
    "# source $BIN_DIR/tomohara-aliases.bash"
   ]
  },
  {
   "cell_type": "code",
   "execution_count": 10,
   "id": "0d1949fc",
   "metadata": {},
   "outputs": [],
   "source": [
    "# bad: rm -rf ./* > /dev/null\n",
    "\n",
    "## NEED HELP\n",
    "# $ asc-it freemem_mb.txt\n",
    "# | Backing up 'freemem_mb.txt' to './backup/freemem_mb.txt'\n",
    "# | bash: BACKUP/freemem_mb.txt: No such file or directory\n",
    "\n",
    "# ls -l ./backup/ | testuser | testnum | awk '!($6=\"\")'\n",
    "# linebr\n",
    "\n",
    "# cat ./backup/freemem_mb.txt | testnum\n",
    "\n",
    "## OLD\n",
    "# free -m > freemem_mb.txt"
   ]
  },
  {
   "cell_type": "code",
   "execution_count": 11,
   "id": "1d95de59",
   "metadata": {},
   "outputs": [],
   "source": [
    "## NEW: SEPERATED FROM CELL 10\n",
    "# free -m > freemem_mb.txt"
   ]
  },
  {
   "cell_type": "code",
   "execution_count": 12,
   "id": "260b6c04",
   "metadata": {},
   "outputs": [],
   "source": [
    "# BUG: Cell 10: asc-it not working properly\n",
    "# TODO: Fix asc-it\n",
    "\n",
    "## OLD\n",
    "# cp ./freemem_mb.txt ./backup/freemem_mb.txt\n",
    "# command mkdir ./backup"
   ]
  },
  {
   "cell_type": "code",
   "execution_count": 13,
   "id": "9d9abc8e",
   "metadata": {},
   "outputs": [
    {
     "name": "stdout",
     "output_type": "stream",
     "text": [
      "0\n"
     ]
    }
   ],
   "source": [
    "## BAD: Use dobackup alias \n",
    "# # command mkdir ./backup\n",
    "# cp ./freemem_mb.txt ./backup/freemem_mb.txt > /dev/null\n",
    "free -m > freemem_mb.txt\n",
    "dobackup freemem_mb.txt > /dev/null\n",
    "[ \"$(cat ./backup/freemem_mb.txt | grep -c \"Swap\")\" -gt 0 ]; echo $?"
   ]
  },
  {
   "cell_type": "code",
   "execution_count": 14,
   "id": "5fcbc4e2",
   "metadata": {},
   "outputs": [],
   "source": [
    "## OLD: DEBUG\n",
    "# ls -l ./backup/ | testuser | testnum | awk '!($6=\"\")'"
   ]
  },
  {
   "cell_type": "code",
   "execution_count": 15,
   "id": "43514fc3",
   "metadata": {},
   "outputs": [],
   "source": [
    "## OLD\n",
    "# cat ./backup/freemem_mb.txt | testnum \n",
    "# cat ./backup/freemem_mb.txt | grep -q \"Swap\" && echo \"True\" || echo \"False\""
   ]
  },
  {
   "cell_type": "code",
   "execution_count": 16,
   "id": "5e6bb71e",
   "metadata": {},
   "outputs": [
    {
     "name": "stdout",
     "output_type": "stream",
     "text": [
      "0\n"
     ]
    }
   ],
   "source": [
    "# perl-slurp IS AN ALIAS FOR 'perl -0777'\n",
    "\n",
    "## OLD\n",
    "# perl-slurp -v | testnum | head -n 1\n",
    "# perl-slurp -v | grep -q \"man perl\" && echo \"True\" || echo \"False\"\n",
    "[ \"$(perl-slurp -v | grep -c \"man perl\")\" -gt 0 ]; echo $?"
   ]
  },
  {
   "cell_type": "code",
   "execution_count": 17,
   "id": "1b62ea73",
   "metadata": {},
   "outputs": [],
   "source": [
    "# remove-cr & alt-remove-cr REMOVES \\r from TEXT\n",
    "# function test-text () { printf \"THIS IS A TEST. \\rTHIS IS ALSO A TEST\\r. THIS IS A TEST TOO.\"; }\n",
    "# OLD: test-text\n",
    "test_text=\"I do not know what '\\r' does.\"\n",
    "modified_text=$(printf '%s' \"$test-text\" | tr '\\r' 'X')\n",
    "# if [[ \"$modified_text\" == *\"X\"* ]]; then\n",
    "#     echo \"Carriage return detected.\"\n",
    "# else\n",
    "#     echo \"Carriage return not detected.\"\n",
    "# fi\n",
    "\n",
    "\n",
    "## OLD\n",
    "# printf \"\\n\"\n",
    "# linebr\n",
    "\n",
    "# test-text | remove-cr\n",
    "\n",
    "# printf \"\\n\"\n",
    "# linebr\n",
    "\n",
    "# test-text | alt-remove-cr"
   ]
  },
  {
   "cell_type": "code",
   "execution_count": 18,
   "id": "e1a5901e",
   "metadata": {},
   "outputs": [
    {
     "name": "stdout",
     "output_type": "stream",
     "text": [
      "0\n"
     ]
    }
   ],
   "source": [
    "## OLD: test-text | remove-cr\n",
    "# test-text | remove-cr | grep -q \"THIS IS A TEST. THIS IS ALSO A TEST. THIS IS A TEST TOO.\" && echo \"True\" || echo \"False\"\n",
    "[ ! \"$(echo test_text | remove-cr)\" == *\"\\r\"* ]; echo $?"
   ]
  },
  {
   "cell_type": "code",
   "execution_count": 19,
   "id": "5fa6f0ad",
   "metadata": {},
   "outputs": [
    {
     "name": "stdout",
     "output_type": "stream",
     "text": [
      "0\n"
     ]
    }
   ],
   "source": [
    "## OLD: Use if \"/r\" exists in the string\n",
    "# test-text | alt-remove-cr\n",
    "# test-text | alt-remove-cr | grep -q \"THIS IS A TEST. THIS IS ALSO A TEST. THIS IS A TEST TOO.\" && echo \"True\" || echo \"False\"\n",
    "[ ! \"$(echo test_text | alt-remove-cr)\" == *\"\\r\"* ]; echo $?"
   ]
  },
  {
   "cell_type": "code",
   "execution_count": 20,
   "id": "37e401f5",
   "metadata": {
    "scrolled": true
   },
   "outputs": [
    {
     "name": "stdout",
     "output_type": "stream",
     "text": [
      "0\n"
     ]
    }
   ],
   "source": [
    "# remove-cr-and-backup REMOVES \\r AND ALSO CREATES A BACKUP IN THE BACKUP FOLDER\n",
    "ps -l > process_list.txt\n",
    "## OLD\n",
    "# remove-cr-and-backup process_list.txt\n",
    "remove-cr-and-backup process_list.txt > /dev/null\n",
    "[[ -n \"$(ls | grep \"process_list.txt\")\" && -n \"$(ls backup | grep -c \"process_list.txt\")\" ]]; echo $?"
   ]
  },
  {
   "cell_type": "code",
   "execution_count": 21,
   "id": "a356c468",
   "metadata": {},
   "outputs": [
    {
     "name": "stdout",
     "output_type": "stream",
     "text": [
      "0\n"
     ]
    }
   ],
   "source": [
    "# perl-remove-cr REMOVES \\r USING PERL\n",
    "printf \"This is a line with \\r character.\\r\n",
    "This is another line with \\r character.\\r\n",
    "\" > remove-cr-test.txt\n",
    "[ \"$(perl-remove-cr remove-cr-test.txt | grep -c \"\\r\")\" -eq 0 ]; echo $?\n",
    "# cat perl_remove_output.txt "
   ]
  },
  {
   "cell_type": "code",
   "execution_count": 22,
   "id": "744c8bef",
   "metadata": {},
   "outputs": [],
   "source": [
    "# OLD\" cat perl_remove_output.txt"
   ]
  },
  {
   "cell_type": "code",
   "execution_count": 23,
   "id": "d88eaa6b",
   "metadata": {
    "scrolled": true
   },
   "outputs": [],
   "source": [
    "# TESTING INTERSECTION FOR ps\n",
    "ps -u > ntest1.txt\n",
    "ps -l > ntest2.txt\n",
    "free -m > free1.txt\n",
    "free > free2.txt\n",
    "\n",
    "## OLD\n",
    "# intersection ntest1.txt ntest2.txt | testnum"
   ]
  },
  {
   "cell_type": "code",
   "execution_count": 24,
   "id": "73861304",
   "metadata": {},
   "outputs": [
    {
     "name": "stdout",
     "output_type": "stream",
     "text": [
      "0\n"
     ]
    }
   ],
   "source": [
    "## OLD: Rework using conditional-echo\n",
    "# intersection ntest1.txt ntest2.txt | grep -q \"TIME\" && echo \"True\" || echo \"False\"\n",
    "[ -n \"$(intersection ntest1.txt ntest2.txt | grep \"TIME\")\" ]; echo $?"
   ]
  },
  {
   "cell_type": "code",
   "execution_count": 25,
   "id": "1d1a7f24",
   "metadata": {},
   "outputs": [
    {
     "name": "stdout",
     "output_type": "stream",
     "text": [
      "0\n"
     ]
    }
   ],
   "source": [
    "# difference = intersection -diff\n",
    "## OLD: Rework using conditional-echo\n",
    "# difference ntest1.txt ntest2.txt | testuser | testnum | head -n 10\n",
    "# difference ntest1.txt ntest2.txt | grep -q \"%CPU\" && echo \"True\" || echo \"False\"\n",
    "[ -n \"$(difference ntest1.txt ntest2.txt | grep \"%CPU\")\" ]; echo $?"
   ]
  },
  {
   "cell_type": "code",
   "execution_count": 26,
   "id": "7fa686e6",
   "metadata": {},
   "outputs": [
    {
     "name": "stdout",
     "output_type": "stream",
     "text": [
      "0\n"
     ]
    }
   ],
   "source": [
    "## OLD: Rework using conditional-echo\n",
    "# line-intersection free1.txt free2.txt | grep -q \"shared\" && echo \"True\" || echo \"False\"\n",
    "[ -n \"$(line-intersection free1.txt free2.txt | grep \"shared\")\" ]; echo $?"
   ]
  },
  {
   "cell_type": "code",
   "execution_count": 27,
   "id": "7f1183a5",
   "metadata": {},
   "outputs": [],
   "source": [
    "# line-intersection = intersection -line\n",
    "## OLD: Moved this section to cell 23\n",
    "# line-intersection free1.txt free2.txt\n",
    "# free -m > free1.txt\n",
    "# free > free2.txt"
   ]
  },
  {
   "cell_type": "code",
   "execution_count": 28,
   "id": "5077b85c",
   "metadata": {
    "scrolled": true
   },
   "outputs": [],
   "source": [
    "# line-difference = intersecton -diff -line\n",
    "# line-difference free1.txt free2.txt | testnum\n",
    "## OLD\n",
    "# line-difference free1.txt free2.txt | testnum\n",
    "# linebr\n",
    "# line-difference free2.txt free1.txt | testnum"
   ]
  },
  {
   "cell_type": "code",
   "execution_count": 29,
   "id": "c0eea4ec",
   "metadata": {},
   "outputs": [
    {
     "name": "stdout",
     "output_type": "stream",
     "text": [
      "0\n"
     ]
    }
   ],
   "source": [
    "## OLD\n",
    "# line-difference free2.txt free1.txt | testnum\n",
    "[ -n \"$(line-difference free2.txt free1.txt | grep -e \"Mem:\" -e \"Swap:\" -e \"[0-9]\")\" ]; echo $?"
   ]
  },
  {
   "cell_type": "code",
   "execution_count": 30,
   "id": "49d75322",
   "metadata": {
    "scrolled": true
   },
   "outputs": [
    {
     "name": "stdout",
     "output_type": "stream",
     "text": [
      "0\n"
     ]
    }
   ],
   "source": [
    "# show-line SHOWS n LINE FROM A FILE \n",
    "# (SYNTAX: show-line [LINE-NUMBER] [SOURCE-FILE])\n",
    "\n",
    "## OLD\n",
    "# linebr\n",
    "# show-line 3 ntest1.txt | testuser | testnum\n",
    "# cat ntest1.txt | testuser | testnum | head -n 2\n",
    "\n",
    "## OLD: Rework using conditional-echo\n",
    "# cat ntest1.txt |  grep -q \"libexec\" && echo \"True\" || echo \"False\"\n",
    "[ -n \"$(cat ntest1.txt |  grep \"libexec\")\" ]; echo $?"
   ]
  },
  {
   "cell_type": "code",
   "execution_count": 31,
   "id": "fee766fe",
   "metadata": {},
   "outputs": [
    {
     "name": "stdout",
     "output_type": "stream",
     "text": [
      "0\n"
     ]
    }
   ],
   "source": [
    "## OLD: Rework using conditional-echo\n",
    "# show-line 3 ntest1.txt | testuser | testnum\n",
    "# show-line 3 ntest1.txt | { [ $(wc -l < /dev/stdin) -ne 1 ] && echo \"NotOne\" || echo \"One\"; }\n",
    "# show-line 3 ntest1.txt | { [ $(wc -l < /dev/stdin) -ne 1 ] && echo $?; }\n",
    "show-line 3 ntest1.txt | { [ $(wc -l < /dev/stdin) -eq 1 ]; }; echo $?\n"
   ]
  },
  {
   "cell_type": "code",
   "execution_count": 32,
   "id": "2e160f0e",
   "metadata": {
    "scrolled": true
   },
   "outputs": [
    {
     "name": "stdout",
     "output_type": "stream",
     "text": [
      "0\n"
     ]
    }
   ],
   "source": [
    "# last-n-with-header GIVES LAST n LINES + HEADING LINE\n",
    "## OLD\n",
    "# linebr\n",
    "# last-n-with-header 2 ntest2.txt | testuser | testnum\n",
    "\n",
    "## OLD: Rework using conditional-echo\n",
    "# For 4 lines, wc -l returns 5 (+1 for heading)\n",
    "# last-n-with-header 4 ntest1.txt | { [ $(wc -l < /dev/stdin) -ne 5 ] && echo \"NotWorking\" || echo \"Working\"; }\n",
    "# last-n-with-header 4 ntest1.txt | { [ $(wc -l < /dev/stdin) -ne 5 ] && echo $?; } ; echo $?\n",
    "# last-n-with-header 4 ntest1.txt | { [ $(wc -l < /dev/stdin) -ne 5 ] }; echo $?\n",
    "last-n-with-header 4 ntest1.txt | { [ $(wc -l < /dev/stdin) -eq 5 ]; }; echo $?\n"
   ]
  },
  {
   "cell_type": "code",
   "execution_count": 33,
   "id": "49adcfa3",
   "metadata": {},
   "outputs": [
    {
     "name": "stdout",
     "output_type": "stream",
     "text": [
      "0\n"
     ]
    }
   ],
   "source": [
    "## OLD: Rework using conditional-echo\n",
    "# last-n-with-header 2 ntest2.txt | testuser | testnum\n",
    "last-n-with-header 2 ntest1.txt | { [ $(wc -l < /dev/stdin) -eq 3 ]; } ; echo $?\n",
    "\n",
    "# For n lines, wc -l returns n+1 (+1 for heading)\n",
    "# last-n-with-header 2 ntest2.txt | { [ $(wc -l < /dev/stdin) -ne 3 ] && echo \"NotWorking\" || echo \"Working\"; }"
   ]
  },
  {
   "cell_type": "code",
   "execution_count": 34,
   "id": "475b5f63",
   "metadata": {},
   "outputs": [
    {
     "name": "stdout",
     "output_type": "stream",
     "text": [
      "Done\n"
     ]
    }
   ],
   "source": [
    "## CLEARS THE TEST FOLDER\n",
    "## Bad: rm -rf ./* > /dev/null\n",
    "## Bad 2: command mv -f * \"$trash_dir\"\n",
    "echo \"Done\""
   ]
  }
 ],
 "metadata": {
  "kernelspec": {
   "display_name": "Bash",
   "language": "bash",
   "name": "bash"
  },
  "language_info": {
   "codemirror_mode": "shell",
   "file_extension": ".sh",
   "mimetype": "text/x-sh",
   "name": "bash"
  }
 },
 "nbformat": 4,
 "nbformat_minor": 5
}
