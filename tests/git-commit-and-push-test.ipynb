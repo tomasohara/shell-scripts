{
 "cells": [
  {
   "cell_type": "code",
   "execution_count": 7,
   "id": "00f17b36-fe6b-4ed7-a54b-8721e615c726",
   "metadata": {},
   "outputs": [
    {
     "name": "stdout",
     "output_type": "stream",
     "text": [
      "\u001b]1;$ lolo [~]\u0007\u001b]2;$ lolo [~]\u0007\n",
      "remote: Enumerating objects: 89, done.\u001b[K\n",
      "remote: Counting objects: 100% (89/89), done.\u001b[K\n",
      "remote: Compressing objects: 100% (57/57), done.\u001b[K\n",
      "remote: Total 89 (delta 15), reused 82 (delta 8), pack-reused 0\u001b[K\n",
      "Unpacking objects: 100% (89/89), 7.38 KiB | 236.00 KiB/s, done.\n",
      "From https://github.com/LorenzoFerraces/bash-test\n",
      " * branch            main       -> FETCH_HEAD\n",
      " * [new branch]      main       -> origin/main\n"
     ]
    }
   ],
   "source": [
    "#creating temp repo to test on\n",
    "cd \n",
    "mkdir temp-update-git-test >/dev/null\n",
    "cd temp-update-git-test >/dev/null\n",
    "git init >/dev/null \n",
    "git remote add origin https://github.com/LorenzoFerraces/bash-test.git >/dev/null\n",
    "git pull -r origin main"
   ]
  },
  {
   "cell_type": "code",
   "execution_count": 8,
   "id": "3a930fd5-5676-40de-93eb-f1b15746b0de",
   "metadata": {},
   "outputs": [],
   "source": [
    "# add a change to the file\n",
    "echo \"hello world\" >> hello.txt"
   ]
  },
  {
   "cell_type": "code",
   "execution_count": 9,
   "id": "dd6e23b7-929e-489e-a303-d938345f3c1d",
   "metadata": {},
   "outputs": [
    {
     "name": "stdout",
     "output_type": "stream",
     "text": [
      "On branch main\n",
      "Changes not staged for commit:\n",
      "  (use \"git add <file>...\" to update what will be committed)\n",
      "  (use \"git restore <file>...\" to discard changes in working directory)\n",
      "\t\u001b[31mmodified:   hello.txt\u001b[m\n",
      "\n",
      "no changes added to commit (use \"git add\" and/or \"git commit -a\")\n"
     ]
    }
   ],
   "source": [
    "#show the unstaged changes\n",
    "git status"
   ]
  },
  {
   "cell_type": "code",
   "execution_count": 10,
   "id": "ff9cf578-c81f-4684-950d-4dbcc6a60e12",
   "metadata": {},
   "outputs": [],
   "source": [
    "export GIT_MESSAGE=\"hello\"\n",
    "export GIT_NO_CONFIRM=\"1\""
   ]
  },
  {
   "cell_type": "code",
   "execution_count": 11,
   "id": "7f0a7ed0-2728-4b24-9383-96c513f53fb6",
   "metadata": {},
   "outputs": [
    {
     "name": "stdout",
     "output_type": "stream",
     "text": [
      "issuing: git add hello.txt\n",
      "\n",
      "GIT_NO_CONFIRM set to 1, so skipping confirmation\n",
      "issuing: git commit -m 'hello'\n",
      "    [main c8f9cef] hello\n",
      "     1 file changed, 1 insertion(+)\n",
      "GIT_NO_CONFIRM set to 1, so skipping confirmation\n",
      "issuing: git push --verbose\n",
      "Pushing to https://github.com/LorenzoFerraces/bash-test.git\n",
      "Enumerating objects: 5, done.\n",
      "Counting objects: 100% (5/5), done.\n",
      "Delta compression using up to 4 threads\n",
      "Compressing objects: 100% (2/2), done.\n",
      "Writing objects: 100% (3/3), 279 bytes | 279.00 KiB/s, done.\n",
      "Total 3 (delta 1), reused 0 (delta 0), pack-reused 0\n",
      "POST git-receive-pack (452 bytes)\n",
      "remote: Resolving deltas: 100% (1/1), completed with 1 local object.\u001b[K\n",
      "To https://github.com/LorenzoFerraces/bash-test.git\n",
      "   012a902..c8f9cef  main -> main\n",
      "updating local tracking ref 'refs/remotes/origin/main'\n",
      "[main c8f9cef] hello\n",
      " 1 file changed, 1 insertion(+)\n",
      "branch 'main' set up to track 'origin/main'.\n",
      "\n"
     ]
    }
   ],
   "source": [
    "git-commit-and-push hello.txt"
   ]
  },
  {
   "cell_type": "code",
   "execution_count": 6,
   "id": "72d989a5-747a-4b8e-a1af-04104219ee56",
   "metadata": {},
   "outputs": [
    {
     "name": "stdout",
     "output_type": "stream",
     "text": [
      "\u001b]1;$ lolo [~]\u0007\u001b]2;$ lolo [~]\u0007\n"
     ]
    }
   ],
   "source": [
    "#cleanup\n",
    "cd\n",
    "rm -rf temp-update-git-test > /dev/null"
   ]
  }
 ],
 "metadata": {
  "kernelspec": {
   "display_name": "Bash",
   "language": "bash",
   "name": "bash"
  },
  "language_info": {
   "codemirror_mode": "shell",
   "file_extension": ".sh",
   "mimetype": "text/x-sh",
   "name": "bash"
  }
 },
 "nbformat": 4,
 "nbformat_minor": 5
}
