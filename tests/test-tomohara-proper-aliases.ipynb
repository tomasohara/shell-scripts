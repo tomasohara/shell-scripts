{
 "cells": [
  {
   "cell_type": "code",
   "execution_count": 1,
   "id": "7ae74a7f-143d-4601-ade2-8eb7560414f2",
   "metadata": {},
   "outputs": [],
   "source": [
    "# Test of aliases defined in tomohara-proper-aliases.bash"
   ]
  },
  {
   "cell_type": "code",
   "execution_count": 2,
   "id": "9ed2ea02-d24e-46c8-b7a5-12ba9fb3823f",
   "metadata": {},
   "outputs": [],
   "source": [
    "# TODO2: add tests for, action-lint-yaml, all-tomohara-aliases,\n",
    "#     all-tomohara-settings, alt-git-extract-all-versions, calendar,\n",
    "#     clone-repo, color-test-failures, color-test-results,\n",
    "#     convert-emoticons-aux, create-zip, create-zip-from-parent, detach-job,\n",
    "#     distro-version-info, distro-version-info-neo, docker-cleanup,\n",
    "#     free-memory, get-host-nickname, git-add-, git-all-update,\n",
    "#     git-diff-, git-difftool-, git-extract-all-versions,\n",
    "#     git-files-changed, git-log-, git-repo-url, git-script-update,\n",
    "#     git-update-, git-vdiff, indent-text, json-validate, kill-chromiun,\n",
    "#     kill-firefox, kill-hp, kill-jupyter, kill-kdiff, kill-sleep,\n",
    "#     make-screencast-video, nvidia-batched, nvidia-top, nvsmi, oscar,\n",
    "#     para-len-alt, plint-tester-testee, pristine-bash, remote-prompt,\n",
    "#     rename-last-snapshot, reset-prompt-label, reset-under-emacs,\n",
    "#     root-prompt-remote, script-config, shell-check-last-snippet, shell-check-stdin,\n",
    "#     show-sd-prompts, sleep-for, tabify,\n",
    "#     test-python-script-method, test-python-script-method-strict,\n",
    "#     test-python-script-strict, tomohara-proper-aliases, trace-array-vars,\n",
    "#     yaml-validate, youtube-transcript, youtube-transcript-alt,\n",
    "#     zip-from-parent"
   ]
  },
  {
   "cell_type": "code",
   "execution_count": 3,
   "id": "f222e081-05a9-40f7-bba2-c1c1085fa874",
   "metadata": {},
   "outputs": [],
   "source": [
    "# Global setup\n",
    "TMP=${TMP:-/tmp}\n",
    "temp_dir=\"$TMP/test-tomohara-proper-aliases\"\n",
    "rename-with-file-date \"$temp_dir\" > /dev/null\n",
    "command mkdir -p \"$temp_dir\"\n",
    "test_dir=\"$PWD\""
   ]
  },
  {
   "cell_type": "code",
   "execution_count": 4,
   "id": "712237b1-61f6-46cd-8d1b-c71b971fc456",
   "metadata": {},
   "outputs": [],
   "source": [
    "#-------------------------------------------------------------------------------\n",
    "# trace-vars"
   ]
  },
  {
   "cell_type": "code",
   "execution_count": 5,
   "id": "1cab18b9-2bfd-4b23-b469-52f57affb890",
   "metadata": {},
   "outputs": [
    {
     "name": "stdout",
     "output_type": "stream",
     "text": [
      "one=1; two=2; \n"
     ]
    }
   ],
   "source": [
    "one=1\n",
    "two=2\n",
    "trace-vars one two"
   ]
  },
  {
   "cell_type": "code",
   "execution_count": 6,
   "id": "f06e6cb3-27da-424a-96ac-db6a541e5eea",
   "metadata": {},
   "outputs": [
    {
     "name": "stdout",
     "output_type": "stream",
     "text": [
      "2\n"
     ]
    }
   ],
   "source": [
    "trace-vars one two 2>&1 | tr ' ' $'\\n' | grep --perl-regexp --count '\\w+=\\d;'"
   ]
  },
  {
   "cell_type": "code",
   "execution_count": 7,
   "id": "407f4682-81cf-4cab-a7ee-75393b59f599",
   "metadata": {},
   "outputs": [],
   "source": [
    "#-------------------------------------------------------------------------------\n",
    "# run-python-script\n",
    "#\n",
    "# note:\n",
    "# - The output and log filenames use _PSL_ counter (e.g., \"_$basename.$date.$_PSL_.log\").\n",
    "# - Sample output:\n",
    "#\n",
    "# $ run-python-script template.py --help \n",
    "# ==> ./_template.25feb25.17.log <==\n",
    "# my_regex.__init__(): self=<mezcla.my_regex.regex_wrapper object at 0x768d28f1b1d0>\n",
    "# mezcla version: 1.4.0.3\n",
    "# Warning: redefining env entry for FILE_BASE: env_options.get(var)='Basename for output fi\n",
    "# Main.__init__(): self=<mezcla.main.Main object at 0x768d28f7e390>\n",
    "# Assertion failed: \"TODO:\" not in __doc__\\n (at /usr/local/misc/programs/bash/tom-shell-sc\n",
    "# Main.__init__(): self=<__main__.Script object at 0x768d296eca90>\n",
    "# Using sys.argv[1:] for runtime args: ['--help']\n",
    "# [/tpo/misc/programs/python/tom-mezcla-clone/mezcla/debug.py] unloaded at 2025-02-25 21:30\n",
    "# 0.14user 0.00system 0:00.14elapsed 100%CPU (0avgtext+0avgdata 27924maxresident)k\n",
    "# 0inputs+24outputs (0major+6007minor)pagefaults 0swaps\n",
    "# \n",
    "# ==> ./_template.25feb25.17.out <==\n",
    "#     TEMP_BASE    Debugging override for temporary file basename (None)\n",
    "#     TEMP_FILE    Debugging override for temporary filename: avoid if possible (None)\n",
    "#     TEMP_LOG_FILE    Log file for stderr such as for issue function ('/home/testuser/temp\n",
    "#     TEMP_PREFIX    Prefix to use for temp files ('_temp-')\n",
    "#     TEMP_SCRIPT_FILE    File for command invocation ('/home/testuser/temp/tmp/_temp-_laut\n",
    "#     TEMP_SUFFIX    Suffix to use for temp files ('_')\n",
    "#     TMP    Temporary directory ('/tmp')\n",
    "#     TODO_FUBAR    TODO:Fouled Up Beyond All Recognition processing (False)\n",
    "#     TRACK_PAGES    Track page boundaries by form feed--\\f or ^L (False)\n",
    "#     USE_TEMP_BASE_DIR    Whether TEMP_BASE should be a dir instead of prefix (False)\n",
    "# 16       Main.__init__(): self=<mezcla.main.Main object at 0x768d28f7e390>\n",
    "# 17   >>> Assertion failed: \"TODO:\" not in __doc__\\n (at /usr/local/misc/programs/bash/tom\n",
    "# 18       Main.__init__(): self=<__main__.Script object at 0x768d296eca90>\n",
    "# 19       Using sys.argv[1:] for runtime args: ['--help']\n"
   ]
  },
  {
   "cell_type": "code",
   "execution_count": 8,
   "id": "46d0cf6d-c6ba-4a43-8dcb-0cdb1612b72a",
   "metadata": {},
   "outputs": [
    {
     "name": "stdout",
     "output_type": "stream",
     "text": [
      "Usage: [ENV-OPTIONS] run-python-script script arg ...\n",
      "   ENV-OPTIONS: [USE_STDIN=B] [USE_STDOUT=B] [PROFILE_SCRIPT=B] [TRACE_SCRIPT=B] [PYTHON_DEBUG_LEVEL=n] [PYTHON_OUT_DIR=p] [PRUNE_OUT=b]\n",
      "note:\n",
      "- PYTHON_DEBUG_LEVEL uses 4 by default (unless regular DEBUG_LEVEL)\n",
      "- PYTHON_OUT_DIR is script dir unless a full path\n"
     ]
    }
   ],
   "source": [
    "run-python-script"
   ]
  },
  {
   "cell_type": "code",
   "execution_count": 9,
   "id": "fc6efda3-db35-461c-94c8-3a4c01e28c63",
   "metadata": {},
   "outputs": [
    {
     "name": "stdout",
     "output_type": "stream",
     "text": [
      "_PSL_=; \n"
     ]
    }
   ],
   "source": [
    "trace-vars _PSL_"
   ]
  },
  {
   "cell_type": "code",
   "execution_count": 10,
   "id": "71263425-b9f3-4263-9fae-239e8b098010",
   "metadata": {},
   "outputs": [
    {
     "name": "stdout",
     "output_type": "stream",
     "text": [
      "0\n"
     ]
    }
   ],
   "source": [
    "[ \"$_PSL_\" == \"\" ]; echo $?"
   ]
  },
  {
   "cell_type": "code",
   "execution_count": 11,
   "id": "c1c83605-bcea-47ae-bb7c-c5f28794b98b",
   "metadata": {},
   "outputs": [
    {
     "name": "stdout",
     "output_type": "stream",
     "text": [
      "bash: ./_template.26feb25.1.out: cannot overwrite existing file\n"
     ]
    }
   ],
   "source": [
    "# Setup\n",
    "log_file=\"$temp_dir/run-python-script.log\"\n",
    "PYTHON_DEBUG_LEVEL=0 run-python-script template.py --help > \"$log_file\""
   ]
  },
  {
   "cell_type": "code",
   "execution_count": 12,
   "id": "162824fc-d4aa-4b1d-aeeb-a205a1dd3252",
   "metadata": {},
   "outputs": [
    {
     "name": "stdout",
     "output_type": "stream",
     "text": [
      "\u001b[01;31m\u001b[K==>\u001b[m\u001b[K ./_template.26feb25.1.log <==\n",
      "/home/testuser/Mezcla/mezcla/template.py --help\n",
      "\u001b[36m\u001b[K--\u001b[m\u001b[K\n",
      "\u001b[01;31m\u001b[K==>\u001b[m\u001b[K ./_template.26feb25.1.out <==\n",
      "  filename    Input filename\n"
     ]
    }
   ],
   "source": [
    "grep -A1 '==>' \"$log_file\""
   ]
  },
  {
   "cell_type": "code",
   "execution_count": 13,
   "id": "52f96858-8b1d-4f77-bdf7-c1b6495f533a",
   "metadata": {},
   "outputs": [
    {
     "name": "stdout",
     "output_type": "stream",
     "text": [
      "_PSL_=1; \n"
     ]
    }
   ],
   "source": [
    "trace-vars _PSL_"
   ]
  },
  {
   "cell_type": "code",
   "execution_count": 14,
   "id": "8859f484-2415-4443-9a46-39515b807ca6",
   "metadata": {},
   "outputs": [
    {
     "name": "stdout",
     "output_type": "stream",
     "text": [
      "0\n"
     ]
    }
   ],
   "source": [
    "[ \"$_PSL_\" == \"1\" ]; echo $?"
   ]
  },
  {
   "cell_type": "code",
   "execution_count": 15,
   "id": "7939b958-d616-4501-8bc0-5fc6bbb01538",
   "metadata": {},
   "outputs": [
    {
     "name": "stdout",
     "output_type": "stream",
     "text": [
      "bash: ./_template.26feb25.2.out: cannot overwrite existing file\n",
      "\u001b[01;31m\u001b[K==>\u001b[m\u001b[K ./_template.26feb25.2.log <==\n",
      "/home/testuser/Mezcla/mezcla/template.py --help\n",
      "\u001b[36m\u001b[K--\u001b[m\u001b[K\n",
      "\u001b[01;31m\u001b[K==>\u001b[m\u001b[K ./_template.26feb25.2.out <==\n",
      "  filename    Input filename\n"
     ]
    }
   ],
   "source": [
    "# note: Run again to ensure counter used in filename updated \n",
    "PYTHON_DEBUG_LEVEL=0 run-python-script template.py --help >| \"$log_file\"\n",
    "grep -A1 '==>' \"$log_file\""
   ]
  },
  {
   "cell_type": "code",
   "execution_count": 16,
   "id": "348c12f8-7816-4263-9bfe-012fc9388a35",
   "metadata": {},
   "outputs": [
    {
     "name": "stdout",
     "output_type": "stream",
     "text": [
      "_PSL_=2; \n"
     ]
    }
   ],
   "source": [
    "trace-vars _PSL_"
   ]
  },
  {
   "cell_type": "code",
   "execution_count": 17,
   "id": "ad18859b-26b5-4d9c-9521-94d379ea8144",
   "metadata": {},
   "outputs": [
    {
     "name": "stdout",
     "output_type": "stream",
     "text": [
      "0\n"
     ]
    }
   ],
   "source": [
    "[ \"$_PSL_\" == \"2\" ]; echo $?"
   ]
  },
  {
   "cell_type": "code",
   "execution_count": 18,
   "id": "044c2903-1a2f-49c1-ad7a-08820edd0770",
   "metadata": {},
   "outputs": [],
   "source": [
    "run-python-script-reset"
   ]
  },
  {
   "cell_type": "code",
   "execution_count": 19,
   "id": "02071fd5-5c5a-4b2c-8348-dedb7e6e4266",
   "metadata": {},
   "outputs": [
    {
     "name": "stdout",
     "output_type": "stream",
     "text": [
      "0\n"
     ]
    }
   ],
   "source": [
    "[ \"$_PSL_\" == \"0\" ]; echo $?"
   ]
  },
  {
   "cell_type": "code",
   "execution_count": 20,
   "id": "afc4e4a7-4b8a-4ae0-9329-6e90e6289293",
   "metadata": {},
   "outputs": [],
   "source": [
    "#-------------------------------------------------------------------------------\n",
    "# test-python-script\n",
    "#\n",
    "# Sample output:\n",
    "#\n",
    "# $ PYTEST_DEBUG_LEVEL=0 test-python-script test_jupyter_to_batspp.py\n",
    "# ==> ./_test_jupyter_to_batspp.25feb25.15.log <==\n",
    "# /usr/local/misc/programs/anaconda3/envs/nlp-py-3-11/bin/pytest -vv --capture=tee-sys test\n",
    "# \n",
    "# ==> ./_test_jupyter_to_batspp.25feb25.15.out <==\n",
    "# cachedir: .pytest_cache\n",
    "# hypothesis profile 'default' -> database=DirectoryBasedExampleDatabase(PosixPath('/tpo/mi\n",
    "# rootdir: /tpo/misc/programs/bash/shell-scripts-devel/tests\n",
    "# plugins: hypothesis-6.97.0, devtools-0.12.2, anyio-3.7.1\n",
    "# collecting ... collected 2 items\n",
    "#\n",
    "# test_jupyter_to_batspp.py::TestIt::test_data_file XFAIL                             [ 50%\n",
    "# test_jupyter_to_batspp.py::TestIt::test_valid_notebook XPASS                        [100%\n",
    "#\n",
    "# ============================== 1 xfailed, 1 xpassed in 0.35s ============================\n"
   ]
  },
  {
   "cell_type": "code",
   "execution_count": 21,
   "id": "328bb4eb-c58f-4814-845a-12b2e18bbf7f",
   "metadata": {},
   "outputs": [],
   "source": [
    "# Setup\n",
    "log_file=\"$temp_dir/test-python-script.log\"\n",
    "PYTEST_DEBUG_LEVEL=0 test-python-script test_jupyter_to_batspp.py > \"$log_file\""
   ]
  },
  {
   "cell_type": "code",
   "execution_count": 22,
   "id": "8cf5cdce-3bb0-4e31-b7f8-e6543520bd89",
   "metadata": {
    "scrolled": true
   },
   "outputs": [
    {
     "name": "stdout",
     "output_type": "stream",
     "text": [
      "test_jupyter_to_batspp.py::TestIt::test_data_file\n",
      "test_jupyter_to_batspp.py::TestIt::test_valid_notebook\n"
     ]
    }
   ],
   "source": [
    "extract-matches '^\\S+::TestIt::\\S+' \"$log_file\""
   ]
  },
  {
   "cell_type": "code",
   "execution_count": 23,
   "id": "9fbc99ce-0a8d-4acc-97b0-fab813cb5c63",
   "metadata": {},
   "outputs": [
    {
     "name": "stdout",
     "output_type": "stream",
     "text": [
      "1\n"
     ]
    }
   ],
   "source": [
    "egrep -c '(failed|passed).* in' \"$log_file\""
   ]
  },
  {
   "cell_type": "code",
   "execution_count": 24,
   "id": "2e44729a-fff0-46b4-b93e-b0955efeede3",
   "metadata": {},
   "outputs": [],
   "source": [
    "#-------------------------------------------------------------------------------\n",
    "# git-clone-alias\n",
    "#\n",
    "# Sample output:\n",
    "# \n",
    "# $ git-clone-alias https://github.com/tomasohara/git-sandbox\n",
    "# Script started, output log file is '_clone-git-sandbox-26feb25.log'.\n",
    "# Cloning into 'git-sandbox'...\n",
    "# remote: Enumerating objects: 42, done.\n",
    "# remote: Counting objects: 100% (42/42), done.\n",
    "# remote: Compressing objects: 100% (28/28), done.\n",
    "# remote: Total 42 (delta 14), reused 33 (delta 8), pack-reused 0 (from 0)\n",
    "# Receiving objects: 100% (42/42), 16.38 KiB | 5.46 MiB/s, done.\n",
    "# Resolving deltas: 100% (14/14), done.\n",
    "# Script done.\n",
    "# FYI: script-based clone done (see _clone-git-sandbox-26feb25.log)\n"
   ]
  },
  {
   "cell_type": "code",
   "execution_count": 25,
   "id": "ee432c11-3a49-4a7c-956a-e41c1465daa0",
   "metadata": {},
   "outputs": [],
   "source": [
    "# Setup\n",
    "command cd \"$temp_dir\"\n",
    "git-clone-alias https://github.com/tomasohara/git-sandbox > \"_clone.log\" 2>&1"
   ]
  },
  {
   "cell_type": "code",
   "execution_count": 26,
   "id": "ca99ee7a-4b84-467e-bc09-4df09ed91107",
   "metadata": {},
   "outputs": [
    {
     "name": "stdout",
     "output_type": "stream",
     "text": [
      "ls: cannot access 'git-sandbox/*LIC*': No such file or directory\n"
     ]
    },
    {
     "ename": "",
     "evalue": "2",
     "output_type": "error",
     "traceback": []
    }
   ],
   "source": [
    "ls git-sandbox/*LIC*"
   ]
  },
  {
   "cell_type": "code",
   "execution_count": null,
   "id": "e8d7fac2-6913-44dc-b805-6ed3402cf108",
   "metadata": {},
   "outputs": [],
   "source": [
    "extract-matches \"remote: (Compressing|Counting|Enumerating|Total)\" _clone-git-sandbox-$(T).log | sort -u"
   ]
  },
  {
   "cell_type": "code",
   "execution_count": null,
   "id": "15b65d76-5103-4a16-ba95-a9f629d71973",
   "metadata": {},
   "outputs": [],
   "source": [
    "# Setup\n",
    "## TODO3: Add '# Cleanup' to [simple_]batspp.py comment-indicator flags\n",
    "command cd \"$test_dir\""
   ]
  }
 ],
 "metadata": {
  "kernelspec": {
   "display_name": "Bash",
   "language": "bash",
   "name": "bash"
  },
  "language_info": {
   "codemirror_mode": "shell",
   "file_extension": ".sh",
   "mimetype": "text/x-sh",
   "name": "bash"
  }
 },
 "nbformat": 4,
 "nbformat_minor": 5
}
