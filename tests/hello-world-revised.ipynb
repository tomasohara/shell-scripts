{
 "cells": [
  {
   "cell_type": "code",
   "execution_count": 1,
   "id": "cc34e95a",
   "metadata": {},
   "outputs": [],
   "source": [
    "## OLD\n",
    "## shopt -s expand_aliases"
   ]
  },
  {
   "cell_type": "code",
   "execution_count": 2,
   "id": "220201d8",
   "metadata": {},
   "outputs": [],
   "source": [
    "# Global Setup\n",
    "alias testuser=\"sed -r \"s/\"$USER\"+/userxf333/g\"\"\n",
    "alias testnum=\"sed -r \"s/[0-9]/N/g\"\"\n",
    "\n",
    "## For testnum being non-critical\n",
    "# alias testnum=\"sed -r \"s/[0-9][0-9]*/X/g\"\""
   ]
  },
  {
   "cell_type": "code",
   "execution_count": 3,
   "id": "10e4aac0",
   "metadata": {},
   "outputs": [
    {
     "name": "stdout",
     "output_type": "stream",
     "text": [
      "Hi Mom!\n"
     ]
    }
   ],
   "source": [
    "echo \"Hi Mom!\""
   ]
  },
  {
   "cell_type": "code",
   "execution_count": 4,
   "id": "93dfcf88",
   "metadata": {},
   "outputs": [
    {
     "name": "stdout",
     "output_type": "stream",
     "text": [
      "1\n"
     ]
    }
   ],
   "source": [
    "echo 'Hello world' | wc -l"
   ]
  },
  {
   "cell_type": "code",
   "execution_count": 5,
   "id": "95585f5b",
   "metadata": {},
   "outputs": [
    {
     "name": "stdout",
     "output_type": "stream",
     "text": [
      "userxf333\n"
     ]
    }
   ],
   "source": [
    "## OLD\n",
    "# pwd | testuser\n",
    "\n",
    "whoami | testuser"
   ]
  },
  {
   "cell_type": "code",
   "execution_count": 6,
   "id": "1c7c7b9a",
   "metadata": {},
   "outputs": [],
   "source": [
    "# THIS IS A COMMENT"
   ]
  },
  {
   "cell_type": "code",
   "execution_count": 7,
   "id": "7e5dcc7c",
   "metadata": {},
   "outputs": [
    {
     "name": "stdout",
     "output_type": "stream",
     "text": [
      "/usr/bin/systemd\n"
     ]
    }
   ],
   "source": [
    "# SKIP\n",
    "which systemd"
   ]
  },
  {
   "cell_type": "code",
   "execution_count": 8,
   "id": "a3e68607",
   "metadata": {
    "scrolled": true
   },
   "outputs": [
    {
     "name": "stdout",
     "output_type": "stream",
     "text": [
      "1\n"
     ]
    }
   ],
   "source": [
    "## OLD\n",
    "# man date | head -n 10\n",
    "## Focus on pattern matching\n",
    "date | grep --perl-regexp --count --ignore-case '^[A-Z]{3}.*[0-9]{4}$'"
   ]
  },
  {
   "cell_type": "code",
   "execution_count": 9,
   "id": "ec969a63",
   "metadata": {
    "scrolled": true
   },
   "outputs": [
    {
     "name": "stdout",
     "output_type": "stream",
     "text": [
      "F S    C PRI NI ADDR  WCHAN TTY  CMD\n",
      "N S    N NN N -  do_wai pts/N  bash\n",
      "N R    N NN N -  - pts/N  ps\n",
      "N S    N NN N -  pipe_r pts/N  awk\n",
      "N S    N NN N -  pipe_r pts/N  sed\n"
     ]
    }
   ],
   "source": [
    "# awk will be used to remove any factors that may cause an error\n",
    "ps -l | awk '!($3=$4=$5=$10=$13=\"\")' | testnum"
   ]
  },
  {
   "cell_type": "code",
   "execution_count": 10,
   "id": "95a43fbc",
   "metadata": {
    "scrolled": true
   },
   "outputs": [
    {
     "name": "stdout",
     "output_type": "stream",
     "text": [
      "    PID TTY          TIME CMD\n",
      "  NNNNN pts/N    NN:NN:NN bash\n",
      "  NNNNN pts/N    NN:NN:NN ps\n",
      "  NNNNN pts/N    NN:NN:NN head\n",
      "  NNNNN pts/N    NN:NN:NN sed\n",
      "  NNNNN pts/N    NN:NN:NN sed\n"
     ]
    }
   ],
   "source": [
    "ps | head -n 10 | testuser | testnum"
   ]
  },
  {
   "cell_type": "code",
   "execution_count": 11,
   "id": "038ec2ec",
   "metadata": {},
   "outputs": [
    {
     "name": "stdout",
     "output_type": "stream",
     "text": [
      "0\n"
     ]
    }
   ],
   "source": [
    "## Zero or Non-Zero checking for wc -l reduces non-critical tests\n",
    "ps | { [ $(wc -l < /dev/stdin) -ne 0 ] && echo $?; }"
   ]
  },
  {
   "cell_type": "code",
   "execution_count": 12,
   "id": "4b05bb35",
   "metadata": {},
   "outputs": [
    {
     "name": "stdout",
     "output_type": "stream",
     "text": [
      ".py files present\n"
     ]
    }
   ],
   "source": [
    "## grep-echo pipeline filter: Return true if \"character\" present else false\n",
    "## Example: Check if there are python files (py) in testfolders\n",
    "ls | grep -q \"py\" && echo \".py files present\" || echo \"No .py files present\""
   ]
  },
  {
   "cell_type": "code",
   "execution_count": 13,
   "id": "ef05beae",
   "metadata": {},
   "outputs": [
    {
     "ename": "",
     "evalue": "1",
     "output_type": "error",
     "traceback": []
    }
   ],
   "source": [
    "# Incase of a false condition, echo $? returns nothing\n",
    "ls | grep -q \"pyx\" && echo $?"
   ]
  }
 ],
 "metadata": {
  "kernelspec": {
   "display_name": "Bash",
   "language": "bash",
   "name": "bash"
  },
  "language_info": {
   "codemirror_mode": "shell",
   "file_extension": ".sh",
   "mimetype": "text/x-sh",
   "name": "bash"
  }
 },
 "nbformat": 4,
 "nbformat_minor": 5
}
