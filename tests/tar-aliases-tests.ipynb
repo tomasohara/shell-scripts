{
 "cells": [
  {
   "cell_type": "code",
   "execution_count": null,
   "id": "0cdca65b-a245-4813-8168-54bfbf4fde82",
   "metadata": {},
   "outputs": [],
   "source": [
    "# Notebook tests for tar aliases (e.g., sort-tar-archive, tar-this-dir-dated, etc)\n",
    "\n",
    "# Note: The aliases should be defined before Jupyter is invoked.\n",
    "# For BatsPP, they can loaded via '--source all-tomohara-aliases-etc.bash' option."
   ]
  },
  {
   "cell_type": "code",
   "execution_count": 2,
   "id": "182169ec-5945-4e57-87a6-5afaa1d55a8f",
   "metadata": {},
   "outputs": [],
   "source": [
    "#Global Setup\n",
    "\n",
    "TMP=/tmp/temp-aliases-test\n",
    "\n",
    "mkdir $TMP --parents\n",
    "command cd $TMP\n",
    "\n",
    "mkdir tarFolder/first/second/third --parents"
   ]
  },
  {
   "cell_type": "code",
   "execution_count": 3,
   "id": "ae699859-8c71-4b52-93dd-ea71de976eba",
   "metadata": {},
   "outputs": [
    {
     "name": "stdout",
     "output_type": "stream",
     "text": [
      "tarFolder/\n",
      "tarFolder/first/\n",
      "tarFolder/first/second/\n",
      "tarFolder/first/second/third/\n",
      "tarFolder/first/second/third/tar.txt\n",
      "removed 'tarFolder/first/second/third/tar.txt'\n",
      "removed directory 'tarFolder/first/second/third'\n",
      "removed directory 'tarFolder/first/second'\n",
      "removed directory 'tarFolder/first'\n",
      "removed directory 'tarFolder'\n"
     ]
    }
   ],
   "source": [
    "# extract-tar tests\n",
    "# create tar to later extract\n",
    "TXT=tarFolder/first/second/third/tar.txt\n",
    "echo \"tar this\" > $TXT\n",
    "tar -zcvf tared.tar.gz tarFolder && rm -rf tarFolder"
   ]
  },
  {
   "cell_type": "code",
   "execution_count": 4,
   "id": "de060e84-bdba-4781-b832-5765cac56c70",
   "metadata": {
    "scrolled": true
   },
   "outputs": [
    {
     "name": "stdout",
     "output_type": "stream",
     "text": [
      "tarFolder/\n",
      "tarFolder/first/\n",
      "tarFolder/first/second/\n",
      "tarFolder/first/second/third/\n",
      "tarFolder/first/second/third/tar.txt\n"
     ]
    }
   ],
   "source": [
    "# extract the tar just created\n",
    "extract-tar tared.tar.gz"
   ]
  },
  {
   "cell_type": "code",
   "execution_count": 5,
   "id": "ec15a7ed-8f58-472e-b30d-5a1aefa49dba",
   "metadata": {},
   "outputs": [
    {
     "name": "stdout",
     "output_type": "stream",
     "text": [
      "0\n"
     ]
    }
   ],
   "source": [
    "# Assert the files are extracted\n",
    "[ $(ls | grep Folder | wc -l) -eq 1 ]; echo $?;"
   ]
  },
  {
   "cell_type": "code",
   "execution_count": 6,
   "id": "dfd24c00-e62e-4b30-9f16-750680c78b1b",
   "metadata": {},
   "outputs": [
    {
     "name": "stdout",
     "output_type": "stream",
     "text": [
      "tarFolder/\n",
      "tarFolder/first/\n",
      "tarFolder/first/second/\n",
      "tarFolder/first/second/third/\n",
      "tarFolder/first/second/third/tar.txt\n"
     ]
    }
   ],
   "source": [
    "#extract-tar-force tests\n",
    "echo \"tar this 2\" >> $TXT\n",
    "prev_lines=$(cat $TXT | wc -l )\n",
    "extract-tar-force tared.tar.gz"
   ]
  },
  {
   "cell_type": "code",
   "execution_count": 7,
   "id": "602759a8-5389-4ead-8c91-66946a716fc2",
   "metadata": {},
   "outputs": [
    {
     "name": "stdout",
     "output_type": "stream",
     "text": [
      "0\n",
      "0\n"
     ]
    }
   ],
   "source": [
    "#Assert amount of lines after and before extract-force\n",
    "[ $prev_lines -eq 2 ]; echo $?;\n",
    "[ $(cat $TXT | wc -l) -eq 1 ]; echo $?;"
   ]
  },
  {
   "cell_type": "code",
   "execution_count": 8,
   "id": "cd459dbc-8af8-4435-a755-31fd916cb8ab",
   "metadata": {},
   "outputs": [
    {
     "name": "stdout",
     "output_type": "stream",
     "text": [
      "removed 'tarFolder/first/second/third/tar.txt'\n",
      "removed directory 'tarFolder/first/second/third'\n",
      "removed directory 'tarFolder/first/second'\n",
      "removed directory 'tarFolder/first'\n",
      "removed directory 'tarFolder'\n",
      "tarFolder/\n",
      "tarFolder/first/\n",
      "tarFolder/first/second/\n",
      "tarFolder/first/second/third/\n",
      "tarFolder/first/second/third/tar.txt\n"
     ]
    }
   ],
   "source": [
    "# un-tar tests\n",
    "# same as extract-tar\n",
    "rm -rf tarFolder\n",
    "un-tar tared.tar.gz"
   ]
  },
  {
   "cell_type": "code",
   "execution_count": 9,
   "id": "d3ddf72c-3947-475d-8324-0fd4fa0d1eb1",
   "metadata": {},
   "outputs": [
    {
     "name": "stdout",
     "output_type": "stream",
     "text": [
      "0\n"
     ]
    }
   ],
   "source": [
    "# Assert the files are extracted\n",
    "[ $(ls | grep tarFolder | wc -l) -eq 1 ]; echo $?;"
   ]
  },
  {
   "cell_type": "code",
   "execution_count": 10,
   "id": "abc71837-f5f8-48dc-b23a-34daad400cc2",
   "metadata": {},
   "outputs": [
    {
     "name": "stdout",
     "output_type": "stream",
     "text": [
      "/tmp/temp-aliases-test/testFolder\n",
      "/tmp/temp-aliases-test /tmp/temp-aliases-test/testFolder\n",
      "\u001b]1;$ temp-aliases-test [/tmp/temp-aliases-test]\u0007\u001b]2;$ temp-aliases-test [/tmp/temp-aliases-test]\u0007tarFolder/\n",
      "tarFolder/first/\n",
      "tarFolder/first/second/\n",
      "tarFolder/first/second/third/\n",
      "tarFolder/first/second/third/tar.txt\n",
      "tar: tarFolder/first/second/third/tar.txt: Cannot open: File exists\n",
      "tar: Exiting with failure status due to previous errors\n",
      "/tmp/temp-aliases-test/testFolder\n",
      "\u001b]1;$ testFolder [/tmp/temp-aliases-test/testFolder]\u0007\u001b]2;$ testFolder [/tmp/temp-aliases-test/testFolder]\u0007\n"
     ]
    }
   ],
   "source": [
    "#extract-tar-here tests\n",
    "mkdir testFolder\n",
    "command cd $TMP\n",
    "command cd testFolder\n",
    "extract-tar-here tared.tar.gz"
   ]
  },
  {
   "cell_type": "code",
   "execution_count": 11,
   "id": "07cc0b64-d282-441f-8fad-61fde42a500b",
   "metadata": {},
   "outputs": [
    {
     "name": "stdout",
     "output_type": "stream",
     "text": [
      "0\n"
     ]
    }
   ],
   "source": [
    "# Assert the files are extracted\n",
    "command cd $TMP\n",
    "[ $(ls | grep testFolder | wc -l) -eq 1 ]; echo $?;"
   ]
  },
  {
   "cell_type": "code",
   "execution_count": 12,
   "id": "f4b7bf34-cd65-49ac-b94d-088d1cc8dd52",
   "metadata": {},
   "outputs": [
    {
     "name": "stdout",
     "output_type": "stream",
     "text": [
      "0\n"
     ]
    }
   ],
   "source": [
    "# view-tar tests\n",
    "# Assert the existence of five dirs inside tar\n",
    "lines_tared=$(view-tar tared.tar.gz | wc -l)\n",
    "[ $lines_tared -eq 5 ]; echo $?;"
   ]
  },
  {
   "cell_type": "code",
   "execution_count": 13,
   "id": "5a9088c6-a713-4272-a802-ee3bb969c432",
   "metadata": {},
   "outputs": [
    {
     "name": "stdout",
     "output_type": "stream",
     "text": [
      "-rw-rw-r-- 1 lolo lolo 214 dic 22 10:32 test.tar.gz\n",
      "tarFolder/\n",
      "tarFolder/first/\n",
      "tarFolder/first/second/\n",
      "tarFolder/first/second/third/\n",
      "tarFolder/first/second/third/tar.txt\n",
      "-rw-rw-r-- 1 lolo lolo 214 dic 22 10:32 test.tar.gz\n",
      "test.tar.gz\n"
     ]
    }
   ],
   "source": [
    "# make-tar tests\n",
    "# test with no optional args\n",
    "make-tar test tarFolder \n",
    "lines_test=$(view-tar test.tar.gz | wc -l)"
   ]
  },
  {
   "cell_type": "code",
   "execution_count": 14,
   "id": "0a4bb5be-d1f3-44e5-b128-e1bc3bc17917",
   "metadata": {},
   "outputs": [
    {
     "name": "stdout",
     "output_type": "stream",
     "text": [
      "0\n"
     ]
    }
   ],
   "source": [
    "# assert lines_test should be equal to lines_tared\n",
    "[ $lines_tared -eq $lines_test ]; echo $?"
   ]
  },
  {
   "cell_type": "code",
   "execution_count": 15,
   "id": "95c7e282-2241-4ccb-8180-c8ac6b4b68e1",
   "metadata": {},
   "outputs": [
    {
     "name": "stdout",
     "output_type": "stream",
     "text": [
      "removed 'test.tar.gz'\n",
      "-rw-rw-r-- 1 lolo lolo 154 dic 22 10:32 test.tar.gz\n",
      "tarFolder/first/second/third/tar.txt\n",
      "-rw-rw-r-- 1 lolo lolo 154 dic 22 10:32 test.tar.gz\n",
      "test.tar.gz\n"
     ]
    }
   ],
   "source": [
    "rm -f test.tar.gz\n",
    "# make-tar with arguments ignores empty dirs\n",
    "make-tar test tarFolder 5\n",
    "lines_test=$(view-tar test.tar.gz | wc -l)\n"
   ]
  },
  {
   "cell_type": "code",
   "execution_count": 16,
   "id": "6f34b58d-df0b-43db-a796-97ac41027ccc",
   "metadata": {},
   "outputs": [
    {
     "name": "stdout",
     "output_type": "stream",
     "text": [
      "0\n"
     ]
    }
   ],
   "source": [
    "# assert theres only one line\n",
    "[ $lines_test -eq 1 ]; echo $?"
   ]
  },
  {
   "cell_type": "code",
   "execution_count": 17,
   "id": "16e15ebc-52c3-4e4a-9d6f-e17093cc5a4a",
   "metadata": {},
   "outputs": [],
   "source": [
    "#if no optional arguments are given\n",
    "# make-tar skips filtering and a few other steps, \n",
    "# so it should execute less commands overall\n",
    "\n",
    "lines_filtered=$(trace-cmd make-tar test dir 5 | wc -l) \n",
    "lines_unfiltered=$(trace-cmd make-tar test dir | wc -l) "
   ]
  },
  {
   "cell_type": "code",
   "execution_count": 18,
   "id": "55b3fdef-e68b-4da5-b279-1d025f9adbc6",
   "metadata": {},
   "outputs": [
    {
     "name": "stdout",
     "output_type": "stream",
     "text": [
      "0\n"
     ]
    }
   ],
   "source": [
    "[ $lines_filtered -gt $lines_unfiltered ]; echo $?;"
   ]
  },
  {
   "cell_type": "code",
   "execution_count": 19,
   "id": "aa6ec678-8491-4031-aa53-06422bba4df1",
   "metadata": {},
   "outputs": [
    {
     "name": "stdout",
     "output_type": "stream",
     "text": [
      "-rw-rw-r-- 1 lolo lolo 236 dic 22 10:32 /home/lolo/temp/tarFolder.tar.gz\n",
      "tar: Removing leading `/' from member names\n",
      "/tmp/temp-aliases-test/tarFolder/\n",
      "/tmp/temp-aliases-test/tarFolder/first/\n",
      "/tmp/temp-aliases-test/tarFolder/first/second/\n",
      "/tmp/temp-aliases-test/tarFolder/first/second/third/\n",
      "/tmp/temp-aliases-test/tarFolder/first/second/third/tar.txt\n",
      "-rw-rw-r-- 1 lolo lolo 236 dic 22 10:32 /home/lolo/temp/tarFolder.tar.gz\n",
      "~/temp/tarFolder.tar.gz\n"
     ]
    }
   ],
   "source": [
    "# tar-dir tests\n",
    "command cd $HOME\n",
    "tar-dir $TMP/tarFolder"
   ]
  },
  {
   "cell_type": "code",
   "execution_count": 20,
   "id": "1dc5b250-ecfc-4391-93de-3b454986aeb3",
   "metadata": {},
   "outputs": [
    {
     "name": "stdout",
     "output_type": "stream",
     "text": [
      "0\n"
     ]
    }
   ],
   "source": [
    "# lines_tar_dir should also be equal to lines_tared, but since it uses \n",
    "# make-tar it probably shouldn't\n",
    "lines_tar_dir=$(view-tar $TEMP/tarFolder.tar.gz | wc -l)\n",
    "[ $lines_tared -eq $lines_tar_dir ]; echo $?;"
   ]
  },
  {
   "cell_type": "code",
   "execution_count": 44,
   "id": "96e186b1-dd48-4313-a3a7-68e20c43c61a",
   "metadata": {},
   "outputs": [
    {
     "name": "stdout",
     "output_type": "stream",
     "text": [
      "-rw-rw-r-- 1 lolo lolo 169 dic 22 11:00 /home/lolo/temp/third.tar.gz\n",
      "tar: Removing leading `/' from member names\n",
      "/tmp/temp-aliases-test/tarFolder/first/second/third/tar.txt\n",
      "tar: Removing leading `/' from hard link targets\n",
      "-rw-rw-r-- 1 lolo lolo 169 dic 22 11:00 /home/lolo/temp/third.tar.gz\n",
      "~/temp/third.tar.gz\n",
      "-rw-rw-r-- 1 lolo lolo 45 dic 22 11:00 /home/lolo/temp/tarFolder.tar.gz\n",
      "-rw-rw-r-- 1 lolo lolo 45 dic 22 11:00 /home/lolo/temp/tarFolder.tar.gz\n",
      "~/temp/tarFolder.tar.gz\n"
     ]
    }
   ],
   "source": [
    "# tar-just-dir tests\n",
    "# tar-just-dir tars the given dir with specified depth of 1\n",
    "tar-just-dir $TMP/tarFolder/first/second/third\n",
    "tar-just-dir $TMP/tarFolder\n",
    "lines_not_empty=$(view-tar $HOME/temp/third.tar.gz | wc -l)\n",
    "lines_empty=$(view-tar $HOME/temp/tarFolder.tar.gz | wc -l)"
   ]
  },
  {
   "cell_type": "code",
   "execution_count": 51,
   "id": "aca72473-19e0-44bd-9878-dd42daa2bfb6",
   "metadata": {},
   "outputs": [
    {
     "name": "stdout",
     "output_type": "stream",
     "text": [
      "0\n"
     ]
    }
   ],
   "source": [
    "#assert lines_empty equals 0 and lines_not_empty is not (should equals 1)\n",
    "[ $lines_not_empty -gt $lines_empty ] && [ $lines_empty -eq 0 ]; echo $?;"
   ]
  },
  {
   "cell_type": "code",
   "execution_count": null,
   "id": "669fe68a-5ce1-4f7b-b61b-656e499b7211",
   "metadata": {},
   "outputs": [],
   "source": [
    "command cd $HOME\n",
    "[ $TMP == /tmp/temp-aliases-test ] && rm -rf $TMP\n",
    "rm -rf temp"
   ]
  }
 ],
 "metadata": {
  "kernelspec": {
   "display_name": "Bash",
   "language": "bash",
   "name": "bash"
  },
  "language_info": {
   "codemirror_mode": "shell",
   "file_extension": ".sh",
   "mimetype": "text/x-sh",
   "name": "bash"
  }
 },
 "nbformat": 4,
 "nbformat_minor": 5
}
