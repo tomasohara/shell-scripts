{
 "cells": [
  {
   "cell_type": "code",
   "execution_count": 1,
   "id": "0cdca65b-a245-4813-8168-54bfbf4fde82",
   "metadata": {},
   "outputs": [],
   "source": [
    "# Notebook tests for tar aliases (e.g., sort-tar-archive, tar-this-dir-dated, etc)\n",
    "\n",
    "# Note: The aliases should be defined before Jupyter is invoked.\n",
    "# For BatsPP, they can loaded via '--source all-tomohara-aliases-etc.bash' option."
   ]
  },
  {
   "cell_type": "code",
   "execution_count": 2,
   "id": "182169ec-5945-4e57-87a6-5afaa1d55a8f",
   "metadata": {},
   "outputs": [],
   "source": [
    "#Global Setup\n",
    "\n",
    "TMP=/tmp/temp-aliases-test\n",
    "TAR_TEMP=$HOME/temp/tarFolder\n",
    "\n",
    "mkdir $TMP --parents\n",
    "command cd $TMP\n",
    "mkdir tarFolder/first/second/third --parents\n",
    "mkdir tarFolder/temp"
   ]
  },
  {
   "cell_type": "code",
   "execution_count": 3,
   "id": "ae699859-8c71-4b52-93dd-ea71de976eba",
   "metadata": {},
   "outputs": [],
   "source": [
    "# extract-tar tests\n",
    "# create tar to later extract\n",
    "\n",
    "echo \"logs\" > tarFolder/temp/temp.log\n",
    "TXT=tarFolder/first/second/third/tar.txt\n",
    "echo \"tar this\" > $TXT\n",
    "tar -zcvf tared.tar.gz tarFolder > /dev/null\n",
    "rm -rf tarFolder > /dev/null"
   ]
  },
  {
   "cell_type": "code",
   "execution_count": 4,
   "id": "de060e84-bdba-4781-b832-5765cac56c70",
   "metadata": {
    "scrolled": true
   },
   "outputs": [],
   "source": [
    "# extract the tar just created\n",
    "\n",
    "extract-tar tared.tar.gz > /dev/null"
   ]
  },
  {
   "cell_type": "code",
   "execution_count": 5,
   "id": "ec15a7ed-8f58-472e-b30d-5a1aefa49dba",
   "metadata": {},
   "outputs": [
    {
     "name": "stdout",
     "output_type": "stream",
     "text": [
      "0\n"
     ]
    }
   ],
   "source": [
    "# Assert the files are extracted\n",
    "\n",
    "[ $(ls | grep Folder | wc -l) -eq 1 ]; echo $?;"
   ]
  },
  {
   "cell_type": "code",
   "execution_count": 6,
   "id": "dfd24c00-e62e-4b30-9f16-750680c78b1b",
   "metadata": {},
   "outputs": [],
   "source": [
    "#extract-tar-force tests\n",
    "\n",
    "echo \"tar this 2\" >> $TXT\n",
    "prev_lines=$(cat $TXT | wc -l )\n",
    "extract-tar-force tared.tar.gz > /dev/null"
   ]
  },
  {
   "cell_type": "code",
   "execution_count": 7,
   "id": "602759a8-5389-4ead-8c91-66946a716fc2",
   "metadata": {},
   "outputs": [
    {
     "name": "stdout",
     "output_type": "stream",
     "text": [
      "0\n"
     ]
    }
   ],
   "source": [
    "#Assert amount of lines after and before extract-force\n",
    "\n",
    "[ $prev_lines -eq 2 ] && [ $(cat $TXT | wc -l) -eq 1 ]; echo $?;"
   ]
  },
  {
   "cell_type": "code",
   "execution_count": 8,
   "id": "cd459dbc-8af8-4435-a755-31fd916cb8ab",
   "metadata": {},
   "outputs": [],
   "source": [
    "# un-tar tests\n",
    "# same as extract-tar\n",
    "\n",
    "rm -rf tarFolder > /dev/null\n",
    "un-tar tared.tar.gz > /dev/null"
   ]
  },
  {
   "cell_type": "code",
   "execution_count": 9,
   "id": "d3ddf72c-3947-475d-8324-0fd4fa0d1eb1",
   "metadata": {},
   "outputs": [
    {
     "name": "stdout",
     "output_type": "stream",
     "text": [
      "0\n"
     ]
    }
   ],
   "source": [
    "# Assert the files are extracted\n",
    "\n",
    "[ $(ls | grep tarFolder | wc -l) -eq 1 ]; echo $?;"
   ]
  },
  {
   "cell_type": "code",
   "execution_count": 10,
   "id": "abc71837-f5f8-48dc-b23a-34daad400cc2",
   "metadata": {},
   "outputs": [],
   "source": [
    "#extract-tar-here tests\n",
    "\n",
    "mkdir testFolder\n",
    "command cd $TMP/testFolder\n",
    "extract-tar-here tared.tar.gz > /dev/null"
   ]
  },
  {
   "cell_type": "code",
   "execution_count": 11,
   "id": "07cc0b64-d282-441f-8fad-61fde42a500b",
   "metadata": {},
   "outputs": [
    {
     "name": "stdout",
     "output_type": "stream",
     "text": [
      "0\n"
     ]
    }
   ],
   "source": [
    "# Assert the files are extracted\n",
    "\n",
    "command cd $TMP\n",
    "[ $(ls | grep testFolder | wc -l) -eq 1 ]; echo $?;"
   ]
  },
  {
   "cell_type": "code",
   "execution_count": 12,
   "id": "f4b7bf34-cd65-49ac-b94d-088d1cc8dd52",
   "metadata": {},
   "outputs": [
    {
     "name": "stdout",
     "output_type": "stream",
     "text": [
      "0\n"
     ]
    }
   ],
   "source": [
    "# view-tar tests\n",
    "# Assert the existence of five dirs inside tar\n",
    "\n",
    "tared=$(view-tar tared.tar.gz | wc -l)\n",
    "[ $tared -eq 7 ]; echo $?;"
   ]
  },
  {
   "cell_type": "code",
   "execution_count": 13,
   "id": "5a9088c6-a713-4272-a802-ee3bb969c432",
   "metadata": {},
   "outputs": [],
   "source": [
    "# make-tar tests\n",
    "# test with no optional args\n",
    "\n",
    "make-tar test tarFolder > /dev/null\n",
    "test=$(view-tar test.tar.gz | wc -l)"
   ]
  },
  {
   "cell_type": "code",
   "execution_count": 14,
   "id": "0a4bb5be-d1f3-44e5-b128-e1bc3bc17917",
   "metadata": {},
   "outputs": [
    {
     "name": "stdout",
     "output_type": "stream",
     "text": [
      "0\n"
     ]
    }
   ],
   "source": [
    "# assert lines_test should be equal to lines_tared\n",
    "\n",
    "[ $tared -eq $test ]; echo $?"
   ]
  },
  {
   "cell_type": "code",
   "execution_count": 15,
   "id": "95c7e282-2241-4ccb-8180-c8ac6b4b68e1",
   "metadata": {},
   "outputs": [
    {
     "name": "stdout",
     "output_type": "stream",
     "text": [
      "removed 'test.tar.gz'\n"
     ]
    }
   ],
   "source": [
    "rm -f test.tar.gz\n",
    "# make-tar with arguments ignores empty dirs\n",
    "\n",
    "make-tar test tarFolder 5 > /dev/null\n",
    "test=$(view-tar test.tar.gz | wc -l)\n"
   ]
  },
  {
   "cell_type": "code",
   "execution_count": 16,
   "id": "6f34b58d-df0b-43db-a796-97ac41027ccc",
   "metadata": {},
   "outputs": [
    {
     "name": "stdout",
     "output_type": "stream",
     "text": [
      "0\n"
     ]
    }
   ],
   "source": [
    "# assert theres only one line\n",
    "\n",
    "[ $test -eq 2 ]; echo $?"
   ]
  },
  {
   "cell_type": "code",
   "execution_count": 17,
   "id": "16e15ebc-52c3-4e4a-9d6f-e17093cc5a4a",
   "metadata": {},
   "outputs": [],
   "source": [
    "#if no optional arguments are given\n",
    "# make-tar skips filtering and a few other steps, \n",
    "# so it should execute less commands overall\n",
    "\n",
    "filtered=$(trace-cmd make-tar test dir 5 | wc -l) \n",
    "unfiltered=$(trace-cmd make-tar test dir | wc -l) "
   ]
  },
  {
   "cell_type": "code",
   "execution_count": 18,
   "id": "55b3fdef-e68b-4da5-b279-1d025f9adbc6",
   "metadata": {},
   "outputs": [
    {
     "name": "stdout",
     "output_type": "stream",
     "text": [
      "0\n"
     ]
    }
   ],
   "source": [
    "[ $filtered -gt $unfiltered ]; echo $?;"
   ]
  },
  {
   "cell_type": "code",
   "execution_count": 19,
   "id": "aa6ec678-8491-4031-aa53-06422bba4df1",
   "metadata": {},
   "outputs": [],
   "source": [
    "# tar-dir tests\n",
    "\n",
    "command cd $HOME\n",
    "tar-dir $TMP/tarFolder > /dev/null"
   ]
  },
  {
   "cell_type": "code",
   "execution_count": 20,
   "id": "1dc5b250-ecfc-4391-93de-3b454986aeb3",
   "metadata": {},
   "outputs": [
    {
     "name": "stdout",
     "output_type": "stream",
     "text": [
      "0\n"
     ]
    }
   ],
   "source": [
    "# lines_tar_dir should also be equal to lines_tared, but since it uses \n",
    "# make-tar it probably shouldn't\n",
    "\n",
    "tar_dir=$(view-tar $TEMP/tarFolder.tar.gz | wc -l)\n",
    "[ $tared -eq $tar_dir ]; echo $?;"
   ]
  },
  {
   "cell_type": "code",
   "execution_count": 21,
   "id": "96e186b1-dd48-4313-a3a7-68e20c43c61a",
   "metadata": {},
   "outputs": [],
   "source": [
    "# tar-just-dir tests\n",
    "# tar-just-dir tars the given dir with specified depth of 1\n",
    "\n",
    "tar-just-dir $TMP/tarFolder/first/second/third > /dev/null\n",
    "tar-just-dir $TMP/tarFolder > /dev/null\n",
    "not_empty=$(view-tar $HOME/temp/third.tar.gz | wc -l)\n",
    "empty=$(view-tar $TAR_TEMP.tar.gz | wc -l)"
   ]
  },
  {
   "cell_type": "code",
   "execution_count": 22,
   "id": "aca72473-19e0-44bd-9878-dd42daa2bfb6",
   "metadata": {},
   "outputs": [
    {
     "name": "stdout",
     "output_type": "stream",
     "text": [
      "0\n"
     ]
    }
   ],
   "source": [
    "#assert lines_empty equals 0 and lines_not_empty is not (should equals 1)\n",
    "\n",
    "[ $not_empty -gt $empty ] && [ $empty -eq 0 ]; echo $?;"
   ]
  },
  {
   "cell_type": "code",
   "execution_count": 23,
   "id": "d2ccfa66-f8ab-4a0e-b4a5-cfaa4dce797e",
   "metadata": {},
   "outputs": [],
   "source": [
    "# tar-this-dir tests\n",
    "\n",
    "command cd $TMP/tarFolder\n",
    "tar-this-dir > /dev/null\n",
    "this_dir=$(view-tar $TAR_TEMP.tar.gz | wc -l )"
   ]
  },
  {
   "cell_type": "code",
   "execution_count": 24,
   "id": "e4d4d958-8cd3-47a5-a0c6-8bb88e8de3bf",
   "metadata": {},
   "outputs": [
    {
     "name": "stdout",
     "output_type": "stream",
     "text": [
      "0\n"
     ]
    }
   ],
   "source": [
    "# assert the .tar includes all subdirs and files in tarFolder\n",
    "\n",
    "[ $this_dir -eq 7 ]; echo $?;"
   ]
  },
  {
   "cell_type": "code",
   "execution_count": 25,
   "id": "753cf7e4-a746-4ba9-b4b0-822ea7a578a0",
   "metadata": {},
   "outputs": [
    {
     "name": "stdout",
     "output_type": "stream",
     "text": [
      "removed '/home/lolo/temp/tarFolder.tar.gz'\n"
     ]
    }
   ],
   "source": [
    "# new-tar-this-dir tests\n",
    "# NOTE: THIS PRODUCES A TAR FILE WITHOUT NAME\n",
    "\n",
    "rm -f $HOME/temp/tarFolder.tar.gz\n",
    "new-tar-this-dir > /dev/null\n",
    "new_this_dir=$(view-tar $HOME/temp/tarFolder.tar.gz | wc -l)"
   ]
  },
  {
   "cell_type": "code",
   "execution_count": 26,
   "id": "13cc153b-e2bb-44d9-87b9-b0968d51fc8b",
   "metadata": {},
   "outputs": [
    {
     "name": "stdout",
     "output_type": "stream",
     "text": [
      "1\n"
     ]
    }
   ],
   "source": [
    "#assert new-tar-this-dir produced the tar with the correct name and files inside\n",
    "[ $new_this_dir -eq 7 ]; echo $?;"
   ]
  },
  {
   "cell_type": "code",
   "execution_count": 27,
   "id": "28413367-1f5a-4d55-962b-622ee4d2a482",
   "metadata": {},
   "outputs": [
    {
     "name": "stdout",
     "output_type": "stream",
     "text": [
      "removed '/home/lolo/temp/tarFolder-27dic23.tar.gz'\n"
     ]
    }
   ],
   "source": [
    "# tar-this-dir-dated tests\n",
    "tar-this-dir-dated > /dev/null\n",
    "this_dir_dated=$(view-tar $TAR_TEMP-$(TODAY).tar.gz | wc -l )\n",
    "rm -f $TAR_TEMP-$(TODAY).tar.gz"
   ]
  },
  {
   "cell_type": "code",
   "execution_count": 28,
   "id": "d12fb4a4-bcef-4cb5-bbcd-6d062707f479",
   "metadata": {},
   "outputs": [
    {
     "name": "stdout",
     "output_type": "stream",
     "text": [
      "0\n"
     ]
    }
   ],
   "source": [
    "#assert tar-this-dir-dated \n",
    "[ $this_dir_dated -eq $this_dir ]; echo $?;"
   ]
  },
  {
   "cell_type": "code",
   "execution_count": 29,
   "id": "4f7cfbe9-30b3-49eb-b3b1-c8612eb13786",
   "metadata": {},
   "outputs": [],
   "source": [
    "# tar-this-dir-normal tests\n",
    "# normal excludes temp, backup and archive folders\n",
    "\n",
    "#DOESN'T WORK BECAUSE DEFINITION OF TAR-DIR IS WRONG\n",
    "\n",
    "tar-this-dir-normal > /dev/null\n",
    "this_dir_normal=$(view-tar $TAR_TEMP.tar.gz | wc -l )"
   ]
  },
  {
   "cell_type": "code",
   "execution_count": 30,
   "id": "d7ac6bc3-f604-41a3-ba57-c2f7cfd38659",
   "metadata": {},
   "outputs": [
    {
     "name": "stdout",
     "output_type": "stream",
     "text": [
      "1\n"
     ]
    }
   ],
   "source": [
    "[ $this_dir_normal -eq 1 ]; echo $?"
   ]
  },
  {
   "cell_type": "code",
   "execution_count": 31,
   "id": "1d965a97-0aaf-4ea8-a408-c2bd90debbe6",
   "metadata": {},
   "outputs": [
    {
     "name": "stdout",
     "output_type": "stream",
     "text": [
      "/tmp/temp-aliases-test/tarFolder/temp\n"
     ]
    }
   ],
   "source": [
    "# tar-just-this-dir tests\n",
    "\n",
    "# since tarFolder just contains folders, and tarFolder/temp contains one file,\n",
    "# tarFolder_plain = 0 and tarFolder_temp = 1 should be true\n",
    "command cd $TMP/tarFolder\n",
    "tar-just-this-dir > /dev/null\n",
    "tarFolder_plain=$(view-tar $HOME/temp/tarFolder.tar.gz | wc -l)\n",
    "\n",
    "command cd temp\n",
    "tar-just-this-dir > /dev/null\n",
    "tarFolder_temp=$(view-tar $HOME/temp/temp.tar.gz | wc -l)"
   ]
  },
  {
   "cell_type": "code",
   "execution_count": 32,
   "id": "3dec9e16-44c4-44a8-b583-4c8dd4e8e4c6",
   "metadata": {},
   "outputs": [
    {
     "name": "stdout",
     "output_type": "stream",
     "text": [
      "0\n"
     ]
    }
   ],
   "source": [
    "# assert the results are correct\n",
    "[ $tarFolder_plain -eq 0 ] && [ $tarFolder_temp -eq 1 ]; echo $?;"
   ]
  },
  {
   "cell_type": "code",
   "execution_count": 33,
   "id": "69cebd84-bdf9-41a2-9511-7e89ceae381f",
   "metadata": {},
   "outputs": [
    {
     "name": "stdout",
     "output_type": "stream",
     "text": [
      "/tmp/temp-aliases-test/tarFolder/temp\n"
     ]
    }
   ],
   "source": [
    "# tar-just-this-dir-dated tests\n",
    "\n",
    "# should produce same results as not dated version\n",
    "\n",
    "command cd $TMP/tarFolder\n",
    "tar-just-this-dir-dated > /dev/null\n",
    "tarFolder_plain_dated=$(view-tar $HOME/temp/tarFolder-$(TODAY).tar.gz | wc -l)\n",
    "\n",
    "command cd temp\n",
    "tar-just-this-dir-dated > /dev/null\n",
    "tarFolder_temp_dated=$(view-tar $HOME/temp/temp-$(TODAY).tar.gz | wc -l)"
   ]
  },
  {
   "cell_type": "code",
   "execution_count": 34,
   "id": "6a69d878-d423-4bbe-a2db-8a94f65faa75",
   "metadata": {},
   "outputs": [
    {
     "name": "stdout",
     "output_type": "stream",
     "text": [
      "0\n"
     ]
    }
   ],
   "source": [
    "# assert the results are consistent with the non-dated version\n",
    "\n",
    "[ $tarFolder_plain_dated -eq $tarFolder_plain ] && [ $tarFolder_temp_dated -eq $tarFolder_temp ]; echo $?; "
   ]
  },
  {
   "cell_type": "code",
   "execution_count": 35,
   "id": "97fcf8b5-bcb4-4a04-8444-41a7e2e7ccc7",
   "metadata": {},
   "outputs": [],
   "source": [
    "# make-recent-tar tests\n",
    "# make-recent-tar - 0 is for files that have been just created, otherwise it specifies less than how many days old the files can be, ignoring folders\n",
    "command cd $TMP/tarFolder\n",
    "make-recent-tar test.tar.gz 1 > /dev/null\n",
    "recent_tar=$(view-tar test.tar.gz | wc -l)"
   ]
  },
  {
   "cell_type": "code",
   "execution_count": 36,
   "id": "594db337-c51a-41fd-a891-fe861d5f8f08",
   "metadata": {},
   "outputs": [
    {
     "name": "stdout",
     "output_type": "stream",
     "text": [
      "0\n"
     ]
    }
   ],
   "source": [
    "# assert make-recent-tar takes both files inside tarFolder\n",
    "[ $recent_tar -eq 2 ]; echo $?;"
   ]
  },
  {
   "cell_type": "code",
   "execution_count": 37,
   "id": "3322df5c-d157-4f81-8406-e4e445f49d90",
   "metadata": {},
   "outputs": [
    {
     "name": "stdout",
     "output_type": "stream",
     "text": [
      "removed 'test.tar.gz'\n"
     ]
    }
   ],
   "source": [
    "# recent-tar-this-dir tests\n",
    "# should make the same result as make-recent-tar\n",
    "\n",
    "# make-recent-tar DOESNT INCLUDE .tar.gz in the file name\n",
    "rm -f test.tar.gz\n",
    "recent-tar-this-dir 1 > /dev/null\n",
    "recent_this_dir_one=$(view-tar ~/temp/recent-tarFolder.tar.gz | wc -l)\n",
    "\n"
   ]
  },
  {
   "cell_type": "code",
   "execution_count": 38,
   "id": "8f10a396-6085-4c7e-bd1b-3acc8e7c528d",
   "metadata": {},
   "outputs": [
    {
     "name": "stdout",
     "output_type": "stream",
     "text": [
      "1\n"
     ]
    }
   ],
   "source": [
    "#assert there are two files created recently\n",
    "[ $recent_this_dir_one -eq 2 ]; echo $?;"
   ]
  },
  {
   "cell_type": "code",
   "execution_count": 39,
   "id": "669fe68a-5ce1-4f7b-b61b-656e499b7211",
   "metadata": {},
   "outputs": [
    {
     "name": "stdout",
     "output_type": "stream",
     "text": [
      "removed '/tmp/temp-aliases-test/tarFolder/temp/temp.log'\n",
      "removed directory '/tmp/temp-aliases-test/tarFolder/temp'\n",
      "removed '/tmp/temp-aliases-test/tarFolder/first/second/third/tar.txt'\n",
      "removed directory '/tmp/temp-aliases-test/tarFolder/first/second/third'\n",
      "removed directory '/tmp/temp-aliases-test/tarFolder/first/second'\n",
      "removed directory '/tmp/temp-aliases-test/tarFolder/first'\n",
      "removed directory '/tmp/temp-aliases-test/tarFolder'\n",
      "removed '/tmp/temp-aliases-test/test.tar.log'\n",
      "removed '/tmp/temp-aliases-test/tared.tar.gz'\n",
      "removed directory '/tmp/temp-aliases-test/testFolder'\n",
      "removed '/tmp/temp-aliases-test/test.tar.gz'\n",
      "removed directory '/tmp/temp-aliases-test'\n",
      "/home/lolo/temp\n",
      "removed 'recent-tarFolder'\n",
      "removed 'tarFolder-27dic23.tar.gz'\n",
      "removed 'tarFolder-27dic23.tar.log'\n",
      "removed 'tarFolder-27dic23.tar.log-2'\n",
      "removed 'tarFolder.tar.gz'\n",
      "removed 'tarFolder.tar.log'\n",
      "removed 'temp-27dic23.tar.gz'\n",
      "removed 'temp-27dic23.tar.log'\n",
      "removed 'temp.tar.gz'\n",
      "removed 'temp.tar.log'\n",
      "removed 'third.tar.gz'\n",
      "removed 'third.tar.log'\n"
     ]
    }
   ],
   "source": [
    "command cd $HOME\n",
    "[ $TMP == /tmp/temp-aliases-test ] && rm -rf $TMP\n",
    "command cd temp \n",
    "rm -f $(ls | grep tar)"
   ]
  }
 ],
 "metadata": {
  "kernelspec": {
   "display_name": "Bash",
   "language": "bash",
   "name": "bash"
  },
  "language_info": {
   "codemirror_mode": "shell",
   "file_extension": ".sh",
   "mimetype": "text/x-sh",
   "name": "bash"
  }
 },
 "nbformat": 4,
 "nbformat_minor": 5
}
