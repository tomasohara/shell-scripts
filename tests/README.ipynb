{
 "cells": [
  {
   "cell_type": "code",
   "execution_count": 1,
   "id": "47e5bb3c-914c-458d-8401-9172c79b8d2f",
   "metadata": {},
   "outputs": [],
   "source": [
    "# NOTE: Work-in-progress revision to testing paradigm.\n",
    "#\n",
    "# This directory contains alias tests using the BatsPP testing infrastructure framework.\n",
    "# (Bash functions are included as well, so \"alias\" is used in a generic sense. We also\n",
    "# refer to them collectively as \"macros\", but that is not a common usage elsewhere.\n",
    "#\n",
    "# The tests can be defined via Jupyter notebooks or ascii shell-script like files with output\n",
    "# included (.e.e., the .batspp format). \n",
    "#     https://github.com/LimaBD/batspp\n",
    "# The get converter to Bats tests:\n",
    "#     https://github.com/bats-core/bats-core\n",
    "#\n",
    "# The aliases to be defined are taken from \n",
    "#      aliases-for-testing.bash\n",
    "# Currently, this in turn gets the alias and functions from the following files:\n",
    "#      tomohara-aliases.bash, more-tomohara-aliases.bash, tomohara-proper-aliases.bash\n",
    "# For historical reasons, most of the alias files involve 'tomohara'.\n",
    "#\n",
    "# The Bash kernel is used in order to evaluate notebooks under Jupyter:\n",
    "#      https://github.com/takluyver/bash_kernel\n",
    "# Currently, aliases-for-testing.bash needs to be sourced from your ~/.bashrc file for\n",
    "# the aliases to be defined.\n",
    "#--------------------------------------------------------------------------------------\n",
    "# Warnings\n",
    "#\n",
    "# - *** Run under a less privileged testing account (e.g., testuser) to avoid \n",
    "# inadvertant loss of data ***. Some of the tests delete temporary folders which might\n",
    "# be inadvertantly include useful files. In additon, they might make configuration changes.\n",
    "#\n",
    "# - When starting Juptyter, the best way to ensure the right macros are loaded is follows:\n",
    "#      cd .../shell-scripts/tests\n",
    "#      BASH_ENV=\"$PWD/aliases-for-testing.bash\" run-jupyter-notebook\n",
    "# This way the Bash kernel will use the right set in case you have multiple repo's.\n",
    "# (Otherwise, you need to modify ~/.bashrc to conditionally load the desired set.)\n",
    "#--------------------------------------------------------------------------------------\n",
    "# General Tips\n",
    "#\n",
    "# *** Remember to \"Keep It Simple, Sam\" (i.e., KISS principle). That is, test for simple \n",
    "# things that can be verified with grep or similar commands. For example, rather than\n",
    "# outputting an entire pylint report, grep for specific issues (e.g., redefining keyword).\n",
    "#\n",
    "# For simplicity, the output can still be done as before. However, we will need to\n",
    "# add a mechanism so that the test target doesn't change to match the alias revision.\n",
    "# For example, if alias fubar were changed to output \"foobar\", the test output would\n",
    "# change once the Jupyter notebook output gets re-generated.\n",
    "#\n",
    "# We will extend bats_pp to allow for special case tests of the following format:\n",
    "#    condition; echo $?\n",
    "# The test will be considered passing if and only if the output is 0.\n",
    "# For example,\n",
    "#    num_lines=$(my-alias | grep -c \"pattern\"}\n",
    "#    [ $num_lines -gt 2 ]; echo $?\n",
    "#\n",
    "# Therefore, one cell can show the command output as done before, and the next cell\n",
    "# show the test. For example,\n",
    "#    cell 1:\n",
    "#       code: \n",
    "#           echo \"a b c D E F\" > _abcDEF_.txt_\n",
    "#           cat _abcDEF_.txt_\n",
    "#       output:\n",
    "#           a b c D E F\n",
    "#    cell 2:\n",
    "#       code:\n",
    "#           num_lower=$(tr \" \" \"\\n\" _abcDEF_.txt_ | grep -c \"[a-z]\")\n",
    "#           [ $num_lower -eq 3 ]; echo $?\n",
    "#       output:\n",
    "#           0\n",
    "#"
   ]
  },
  {
   "cell_type": "code",
   "execution_count": 2,
   "id": "1d30de52-801f-48fd-8145-e60af7a8da18",
   "metadata": {},
   "outputs": [],
   "source": [
    "## DEBUG\n",
    "## # Show user groups\n",
    "## (whoami; groups)"
   ]
  },
  {
   "cell_type": "code",
   "execution_count": 3,
   "id": "3564e6de-0a29-488a-9821-be2f201dd258",
   "metadata": {},
   "outputs": [],
   "source": [
    "# Warn if user not in operators group\n",
    "is_operator=$(groups | grep -c operator)\n",
    "if [ $is_operator -eq 0 ]; then\n",
    "    echo \"*** Warning: should be run as operator ***\" 1>&2\n",
    "fi"
   ]
  },
  {
   "cell_type": "code",
   "execution_count": 5,
   "id": "13ae4c10-0262-4d53-b781-5ccbe17bc11a",
   "metadata": {},
   "outputs": [],
   "source": [
    "# Abort if user in admin-like group unless FORCE_RUN env var set\n",
    "# Note: The bash kernel restarts, so this just blocks run-all-cells usage.\n",
    "# TODO1: * add script for use here and in batspp_report.py!\n",
    "force_run=\"${FORCE_RUN:-0}\"\n",
    "is_admin=$(groups $USER | egrep -c \"root|admin|adm\")\n",
    "jupyter_session=${JPY_SESSION_NAME:-\"\"}\n",
    "## DEBUG: trace-vars force_run is_admin jupyter_session\n",
    "if [ $is_admin -eq 1 ]; then\n",
    "    if [ \"$force_run\" == \"0\" ]; then\n",
    "        echo \"*** Error: should not be run as operator unless FORCE_RUN ***\" 1>&2\n",
    "        if [ \"$jupyter_session\" != \"\" ]; then\n",
    "            exit\n",
    "        fi\n",
    "    fi\n",
    "    echo \"FYI: not recommended to run under admin account\"\n",
    "fi"
   ]
  },
  {
   "cell_type": "code",
   "execution_count": 6,
   "id": "c3c687e3-e2a3-4168-b0dd-70727832ab71",
   "metadata": {},
   "outputs": [
    {
     "name": "stdout",
     "output_type": "stream",
     "text": [
      "/tmp/test-tips/657398\n"
     ]
    }
   ],
   "source": [
    "# Global setup\n",
    "#\n",
    "# NOTE: For reproducibility, the directory name needs to be fixed\n",
    "# In place of $$, use a pseudo-random number (e,g., 1210)\n",
    "# *** All output from one run to the next needs to be the same ***\n",
    "\n",
    "# Set a temp directory for this test (should be unique)\n",
    "TMP=${TMP:-/tmp}\n",
    "if [ \"$DEBUG_LEVEL\" -lt 4 ]; then TMP=/tmp/test-tips; fi\n",
    "#\n",
    "# note: if in doubt for a good random number, try the following:\n",
    "#    python -c \"import random; print(random.randint(100000, 999999))\"\n",
    "temp_dir=$TMP/657398\n",
    "\n",
    "# Create the directory and changed into it\n",
    "# Note: uses command to avoid escapes for cd/pwd aliases\n",
    "mkdir -p \"$temp_dir\"\n",
    "command cd \"$temp_dir\"\n",
    "command pwd"
   ]
  },
  {
   "cell_type": "code",
   "execution_count": 7,
   "id": "102d3e2f-04f8-4300-9b90-8104f5eb9d1c",
   "metadata": {},
   "outputs": [],
   "source": [
    "# TEMP: \n",
    "# To avoid issues with 'rm -r' the file clobber operator is used (i.e., \">|\")\n",
    "# That itself is dangerous, so the filenames start and end with _ to minimize conflict.\n",
    "# For example, \"file.txt\" => \"_file.txt_\")."
   ]
  },
  {
   "cell_type": "code",
   "execution_count": 8,
   "id": "6edd07c8-b27b-4096-bbdb-c7adc96b2aac",
   "metadata": {},
   "outputs": [
    {
     "name": "stdout",
     "output_type": "stream",
     "text": [
      "a b c D E F\n"
     ]
    }
   ],
   "source": [
    "# Create test file with letters\n",
    "echo \"a b c D E F\" >| _abcDEF_.txt_\n",
    "cat _abcDEF_.txt_"
   ]
  },
  {
   "cell_type": "code",
   "execution_count": 9,
   "id": "27990ce0-cf70-4218-8231-3b777078334d",
   "metadata": {},
   "outputs": [
    {
     "name": "stdout",
     "output_type": "stream",
     "text": [
      "0\n"
     ]
    }
   ],
   "source": [
    "# Make sure 3 lowercase chars\n",
    "# note: count-it is alias tabulating regex pattern occurrences\n",
    "num_lower=$(count-it \"[a-z]\" _abcDEF_.txt_ | wc -l)\n",
    "[ $num_lower -eq 3 ]; echo $?"
   ]
  }
 ],
 "metadata": {
  "kernelspec": {
   "display_name": "Bash",
   "language": "bash",
   "name": "bash"
  },
  "language_info": {
   "codemirror_mode": "shell",
   "file_extension": ".sh",
   "mimetype": "text/x-sh",
   "name": "bash"
  }
 },
 "nbformat": 4,
 "nbformat_minor": 5
}
