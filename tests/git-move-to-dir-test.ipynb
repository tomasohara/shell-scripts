{
 "cells": [
  {
   "cell_type": "code",
   "execution_count": 5,
   "id": "d4c4a91e-a648-445e-84a1-079831e52f2b",
   "metadata": {},
   "outputs": [
    {
     "name": "stdout",
     "output_type": "stream",
     "text": [
      "\u001b]1;$ lolo [~]\u0007\u001b]2;$ lolo [~]\u0007\n",
      "Initialized empty Git repository in /home/lolo/temp-update-git-test/.git/\n",
      "remote: Enumerating objects: 95, done.\u001b[K\n",
      "remote: Counting objects: 100% (95/95), done.\u001b[K\n",
      "remote: Compressing objects: 100% (61/61), done.\u001b[K\n",
      "remote: Total 95 (delta 16), reused 87 (delta 8), pack-reused 0\u001b[K\n",
      "Unpacking objects: 100% (95/95), 7.91 KiB | 323.00 KiB/s, done.\n",
      "From https://github.com/LorenzoFerraces/bash-test\n",
      " * branch            main       -> FETCH_HEAD\n",
      " * [new branch]      main       -> origin/main\n"
     ]
    }
   ],
   "source": [
    "#creating temp repo to test on\n",
    "cd \n",
    "mkdir temp-update-git-test \n",
    "cd temp-update-git-test >/dev/null\n",
    "git init \n",
    "git remote add origin https://github.com/LorenzoFerraces/bash-test.git \n",
    "git pull -r origin main "
   ]
  },
  {
   "cell_type": "code",
   "execution_count": 17,
   "id": "a24cb818-4d6e-41f6-85ad-98e6c5cd23cb",
   "metadata": {},
   "outputs": [
    {
     "name": "stdout",
     "output_type": "stream",
     "text": [
      "diff.txt  \u001b[0m\u001b[01;34mmoved\u001b[0m\n"
     ]
    }
   ],
   "source": [
    "#show files in current dir\n",
    "ls\n"
   ]
  },
  {
   "cell_type": "code",
   "execution_count": 18,
   "id": "52957bcd-344c-4a84-8c58-a5d2cf72d08b",
   "metadata": {},
   "outputs": [
    {
     "name": "stdout",
     "output_type": "stream",
     "text": [
      "issuing: git mv moving.txt moved\n",
      "fatal: not under version control, source=moving.txt, destination=moved/moving.txt\n",
      "issuing: git add moving.txt moved/moving.txt\n",
      "\n",
      "GIT_NO_CONFIRM set to 1, so skipping confirmation\n",
      "issuing: git commit -m 'moved'\n",
      "    *** Error(s):\n",
      "    1    >>> fatal: pathspec 'moved/moving.txt' did not match any files <<<\n",
      "    fatal: pathspec 'moved/moving.txt' did not match any files\n",
      "    On branch main\n",
      "    Untracked files:\n",
      "      (use \"git add <file>...\" to include in what will be committed)\n",
      "    \tmoving.txt\n",
      "    \n",
      "    nothing added to commit but untracked files present (use \"git add\" to track)\n",
      "GIT_NO_CONFIRM set to 1, so skipping confirmation\n",
      "issuing: git push --verbose\n",
      "Pushing to https://github.com/LorenzoFerraces/bash-test.git\n",
      "To https://github.com/LorenzoFerraces/bash-test.git\n",
      " = [up to date]      main -> main\n",
      "updating local tracking ref 'refs/remotes/origin/main'\n",
      "Everything up-to-date\n",
      "*** Error(s):\n",
      "1        *** Error(s):\n",
      "2        1    >>> fatal: pathspec 'moved/moving.txt' did not match any files <<<\n",
      "3    >>> fatal: pathspec 'moved/moving.txt' did not match any files <<<\n",
      "4        On branch main\n",
      "5        Untracked files:\n",
      "6          (use \"git add <file>...\" to include in what will be committed)\n",
      "7        \tmoving.txt\n",
      "8        \n",
      "1    >>> fatal: pathspec 'moved/moving.txt' did not match any files <<<\n",
      "fatal: pathspec 'moved/moving.txt' did not match any files\n",
      "On branch main\n",
      "Untracked files:\n",
      "  (use \"git add <file>...\" to include in what will be committed)\n",
      "\tmoving.txt\n",
      "\n",
      "nothing added to commit but untracked files present (use \"git add\" to track)\n",
      "branch 'main' set up to track 'origin/main'.\n",
      "\n"
     ]
    },
    {
     "ename": "",
     "evalue": "1",
     "output_type": "error",
     "traceback": []
    }
   ],
   "source": [
    "#export GIT_MESSAGE and GIT_NO_CONFIRM\n",
    "export GIT_MESSAGE=\"moved\"\n",
    "export GIT_NO_CONFIRM=\"1\"\n",
    "echo \"file to move\" > moving.txt\n",
    "git-move-to-dir moved moving.txt"
   ]
  },
  {
   "cell_type": "code",
   "execution_count": null,
   "id": "7faba0e0-e808-44c5-b0ac-34787dfbb742",
   "metadata": {},
   "outputs": [],
   "source": [
    "ls"
   ]
  },
  {
   "cell_type": "code",
   "execution_count": 4,
   "id": "271d0c8f-2be2-4b89-a209-ec1991a46100",
   "metadata": {},
   "outputs": [
    {
     "name": "stdout",
     "output_type": "stream",
     "text": [
      "\u001b]1;$ lolo [~]\u0007\u001b]2;$ lolo [~]\u0007\n"
     ]
    }
   ],
   "source": [
    "#cleanup\n",
    "cd \n",
    "rm -rf temp-update-git-test > /dev/null\n"
   ]
  }
 ],
 "metadata": {
  "kernelspec": {
   "display_name": "Bash",
   "language": "bash",
   "name": "bash"
  },
  "language_info": {
   "codemirror_mode": "shell",
   "file_extension": ".sh",
   "mimetype": "text/x-sh",
   "name": "bash"
  }
 },
 "nbformat": 4,
 "nbformat_minor": 5
}
