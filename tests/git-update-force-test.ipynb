{
 "cells": [
  {
   "cell_type": "code",
   "execution_count": 1,
   "id": "0fd940d1-bc2f-4c08-9100-8ab92479e60b",
   "metadata": {},
   "outputs": [
    {
     "name": "stdout",
     "output_type": "stream",
     "text": [
      "\u001b]1;$ lolo [~]\u0007\u001b]2;$ lolo [~]\u0007\n",
      "mkdir: cannot create directory ‘temp-update-git-test’: File exists\n",
      "error: remote origin already exists.\n",
      "From https://github.com/LorenzoFerraces/bash-test\n",
      " * branch            main       -> FETCH_HEAD\n",
      "Already up to date.\n"
     ]
    }
   ],
   "source": [
    "#creating temp repo to test on\n",
    "cd \n",
    "mkdir temp-update-git-test >/dev/null\n",
    "cd temp-update-git-test >/dev/null\n",
    "git init >/dev/null \n",
    "git remote add origin https://github.com/LorenzoFerraces/bash-test.git >/dev/null\n",
    "git pull -r origin main\n"
   ]
  },
  {
   "cell_type": "code",
   "execution_count": 2,
   "id": "74877487-cb28-4871-835c-22127606dc27",
   "metadata": {},
   "outputs": [
    {
     "name": "stdout",
     "output_type": "stream",
     "text": [
      "\u001b]1;$ lolo [~]\u0007\u001b]2;$ lolo [~]\u0007\n",
      "remote: Enumerating objects: 97, done.\u001b[K\n",
      "remote: Counting objects: 100% (97/97), done.\u001b[K\n",
      "remote: Compressing objects: 100% (63/63), done.\u001b[K\n",
      "remote: Total 97 (delta 18), reused 87 (delta 8), pack-reused 0\u001b[K\n",
      "Unpacking objects: 100% (97/97), 8.02 KiB | 357.00 KiB/s, done.\n",
      "From https://github.com/LorenzoFerraces/bash-test\n",
      " * branch            main       -> FETCH_HEAD\n",
      " * [new branch]      main       -> origin/main\n",
      "From https://github.com/LorenzoFerraces/bash-test\n",
      " * branch            main       -> FETCH_HEAD\n"
     ]
    }
   ],
   "source": [
    "#create second repo with its own commit and link to remote\n",
    "cd \n",
    "mkdir temp-update-git-test-B >/dev/null\n",
    "cd temp-update-git-test-B >/dev/null\n",
    "git init >/dev/null\n",
    "git remote add origin https://github.com/LorenzoFerraces/bash-test.git\n",
    "git fetch origin main\n",
    "git pull -r origin main >/dev/null\n",
    "echo \"first commit here\" >| hello.txt\n"
   ]
  },
  {
   "cell_type": "code",
   "execution_count": 3,
   "id": "fb3460ff-b1c3-47bb-abab-076abee587ac",
   "metadata": {},
   "outputs": [
    {
     "name": "stdout",
     "output_type": "stream",
     "text": [
      "\u001b]1;$ lolo [~]\u0007\u001b]2;$ lolo [~]\u0007\n",
      "/home/lolo/temp-update-git-test\n",
      "\u001b]1;$ temp-update-git-test [~/temp-update-git-test]\u0007\u001b]2;$ temp-update-git-test [~/temp-update-git-test]\u0007\n",
      "The following paths are ignored by one of your .gitignore files:\n",
      "_git-trash\n",
      "log-files\n",
      "\u001b[33mhint: Use -f if you really want to add them.\u001b[m\n",
      "\u001b[33mhint: Turn this message off by running\u001b[m\n",
      "\u001b[33mhint: \"git config advice.addIgnoredFile false\"\u001b[m\n",
      "[main 6c8db6a] first commit\n",
      " 1 file changed, 1 insertion(+)\n",
      " create mode 100644 file.txt\n",
      "Enumerating objects: 4, done.\n",
      "Counting objects: 100% (4/4), done.\n",
      "Delta compression using up to 4 threads\n",
      "Compressing objects: 100% (2/2), done.\n",
      "Writing objects: 100% (3/3), 278 bytes | 278.00 KiB/s, done.\n",
      "Total 3 (delta 1), reused 0 (delta 0), pack-reused 0\n",
      "remote: Resolving deltas: 100% (1/1), completed with 1 local object.\u001b[K\n",
      "To https://github.com/LorenzoFerraces/bash-test.git\n",
      "   6a05c8b..6c8db6a  main -> main\n",
      "branch 'main' set up to track 'origin/main'.\n"
     ]
    }
   ],
   "source": [
    "#add a change to first repo\n",
    "cd \n",
    "cd temp-update-git-test\n",
    "echo \"first line\" >| file.txt\n",
    "git add *\n",
    "git commit -m \"first commit\"\n",
    "git push "
   ]
  },
  {
   "cell_type": "code",
   "execution_count": 4,
   "id": "e34d7afb-8aab-4ed6-ad5e-a762261bac1d",
   "metadata": {},
   "outputs": [
    {
     "name": "stdout",
     "output_type": "stream",
     "text": [
      "\u001b]1;$ lolo [~]\u0007\u001b]2;$ lolo [~]\u0007\n",
      "/home/lolo/temp-update-git-test-B\n",
      "\u001b]1;$ temp-update-git-test-B [~/temp-update-git-test-B]\u0007\u001b]2;$ temp-update-git-test-B [~/temp-update-git-test-B]\u0007\n",
      "On branch main\n",
      "Changes not staged for commit:\n",
      "  (use \"git add <file>...\" to update what will be committed)\n",
      "  (use \"git restore <file>...\" to discard changes in working directory)\n",
      "\t\u001b[31mmodified:   hello.txt\u001b[m\n",
      "\n",
      "no changes added to commit (use \"git add\" and/or \"git commit -a\")\n"
     ]
    }
   ],
   "source": [
    "#show that remote of second local is ahead \n",
    "cd \n",
    "cd temp-update-git-test-B\n",
    "git status"
   ]
  },
  {
   "cell_type": "code",
   "execution_count": 5,
   "id": "0e71c91a-41c3-469b-ba9e-4999f3aba0d3",
   "metadata": {},
   "outputs": [
    {
     "name": "stdout",
     "output_type": "stream",
     "text": [
      "Not zipping changes because PRESERVE_GIT_STASH not 1\n",
      "issuing: git stash\n",
      "issuing: git pull --all\n",
      "remote: Enumerating objects: 4, done.\u001b[K\n",
      "remote: Counting objects: 100% (4/4), done.\u001b[K\n",
      "remote: Compressing objects: 100% (1/1), done.\u001b[K\n",
      "remote: Total 3 (delta 1), reused 3 (delta 1), pack-reused 0\u001b[K\n",
      "Unpacking objects: 100% (3/3), 258 bytes | 258.00 KiB/s, done.\n",
      "From https://github.com/LorenzoFerraces/bash-test\n",
      "   6a05c8b..6c8db6a  main       -> origin/main\n",
      " * [new branch]      master     -> origin/master\n",
      "There is no tracking information for the current branch.\n",
      "Please specify which branch you want to merge with.\n",
      "See git-pull(1) for details.\n",
      "\n",
      "    git pull <remote> <branch>\n",
      "\n",
      "If you wish to set tracking information for this branch you can do so with:\n",
      "\n",
      "    git branch --set-upstream-to=origin/<branch> main\n",
      "\n",
      "Warning: problem with pull (status=0)\n",
      "issuing: git stash pop\n",
      "Not unzipping changes (because PRESERVE_GIT_STASH not 1)\n",
      "Saved working directory and index state WIP on main: 6a05c8b hello.txt\n",
      "On branch main\n",
      "Changes not staged for commit:\n",
      "  (use \"git add <file>...\" to update what will be committed)\n",
      "  (use \"git restore <file>...\" to discard changes in working directory)\n",
      "\tmodified:   hello.txt\n",
      "\n",
      "no changes added to commit (use \"git add\" and/or \"git commit -a\")\n",
      "Dropped refs/stash@{0} (92dd7b9bf3b9b1cae13de99fdf9dde0726fd2485)\n",
      "\n"
     ]
    }
   ],
   "source": [
    "#should pull even with changed files\n",
    "git-update-force"
   ]
  },
  {
   "cell_type": "code",
   "execution_count": null,
   "id": "f53594b5-b158-4586-902c-66e48322734c",
   "metadata": {},
   "outputs": [],
   "source": [
    "#\n",
    "git status"
   ]
  },
  {
   "cell_type": "code",
   "execution_count": null,
   "id": "8b6147ef-b0c9-4747-8db4-f59caa1560a5",
   "metadata": {},
   "outputs": [
    {
     "name": "stdout",
     "output_type": "stream",
     "text": [
      "fatal: pathspec 'hello.txt' did not match any files\n"
     ]
    }
   ],
   "source": [
    "#cleanup\n",
    "cd \n",
    "\n",
    "rm -rf temp-update-git-test > /dev/null\n",
    "rm -rf temp-update-git-test-B > /dev/null\n"
   ]
  }
 ],
 "metadata": {
  "kernelspec": {
   "display_name": "Bash",
   "language": "bash",
   "name": "bash"
  },
  "language_info": {
   "codemirror_mode": "shell",
   "file_extension": ".sh",
   "mimetype": "text/x-sh",
   "name": "bash"
  }
 },
 "nbformat": 4,
 "nbformat_minor": 5
}
