{
 "cells": [
  {
   "cell_type": "code",
   "execution_count": 1,
   "id": "5d83283f",
   "metadata": {},
   "outputs": [],
   "source": [
    "source /home/ricekiller/tomProject/shell-scripts/x.bash.nocomments"
   ]
  },
  {
   "cell_type": "code",
   "execution_count": 2,
   "id": "22143b4c",
   "metadata": {},
   "outputs": [
    {
     "name": "stdout",
     "output_type": "stream",
     "text": [
      "11\n"
     ]
    }
   ],
   "source": [
    "calc-int 10-2+3"
   ]
  },
  {
   "cell_type": "code",
   "execution_count": 3,
   "id": "fc4975b5",
   "metadata": {},
   "outputs": [
    {
     "name": "stdout",
     "output_type": "stream",
     "text": [
      "/usr/bin/python\n"
     ]
    }
   ],
   "source": [
    "which-python"
   ]
  },
  {
   "cell_type": "code",
   "execution_count": 4,
   "id": "548c3a1b",
   "metadata": {},
   "outputs": [
    {
     "name": "stdout",
     "output_type": "stream",
     "text": [
      "pop-os\n"
     ]
    }
   ],
   "source": [
    "uname-node"
   ]
  }
 ],
 "metadata": {
  "kernelspec": {
   "display_name": "Bash",
   "language": "bash",
   "name": "bash"
  },
  "language_info": {
   "codemirror_mode": "shell",
   "file_extension": ".sh",
   "mimetype": "text/x-sh",
   "name": "bash"
  }
 },
 "nbformat": 4,
 "nbformat_minor": 5
}
