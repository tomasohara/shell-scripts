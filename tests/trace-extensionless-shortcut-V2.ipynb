{
 "cells": [
  {
   "cell_type": "code",
   "execution_count": 1,
   "id": "ee0d8a16",
   "metadata": {},
   "outputs": [],
   "source": [
    "## SETUP (OPTIONAL - USE IF REQUIRED)\n",
    "## Bracketed Paste is disabled to prevent characters after output\n",
    "## Example: \n",
    "## $ echo 'Hii'\n",
    "## | Hi?2004l\n",
    "# bind 'set enable-bracketed-paste off'"
   ]
  },
  {
   "cell_type": "code",
   "execution_count": 2,
   "id": "65d43538",
   "metadata": {},
   "outputs": [
    {
     "name": "stdout",
     "output_type": "stream",
     "text": [
      "0\n"
     ]
    }
   ],
   "source": [
    "## OLD: echo $PS1\n",
    "actual=${PS1: -1}\n",
    "[ \"$actual\" = \">\" ]; echo $?"
   ]
  },
  {
   "cell_type": "code",
   "execution_count": 3,
   "id": "d623c9a9",
   "metadata": {},
   "outputs": [],
   "source": [
    "## BAD\n",
    "# # Delete all aliases and function\n",
    "# # TODO: Instead start from pristine environment\n",
    "# unalias -a\n",
    "# alias | wc -l\n",
    "# for f in $(typeset -f | egrep '^\\w+'); do unset -f $f; done\n",
    "# typeset -f | egrep '^\\w+' | wc -l\n",
    "\n",
    "## OLD: Using approach with rename-with-file-date\n",
    "## Setting a temp directory for tests\n",
    "# TMP=/tmp/test-extensionless\n",
    "# BIN_DIR=$PWD/..\n",
    "TMP=${TMP:-/tmp}\n",
    "temp_dir=$TMP/trace-extensionless-shortcut-v2\n"
   ]
  },
  {
   "cell_type": "code",
   "execution_count": 4,
   "id": "f93dc93d",
   "metadata": {},
   "outputs": [],
   "source": [
    "## OLD: Defined Below @ 8\n",
    "# alias testuser=\"sed -r \"s/\"$USER\"+/user/g\"\""
   ]
  },
  {
   "cell_type": "code",
   "execution_count": 5,
   "id": "ab954c7f",
   "metadata": {},
   "outputs": [],
   "source": [
    "## OLD: Used the concept of trash-dir, instead use unique temp_dirs\n",
    "# temp_dir=$TMP/test-3570\n",
    "# trash_dir=$TMP/\"_temp-trash-$(date \"+%Y%m%d%H%M%S\")\"\n",
    "\n",
    "## OLD \n",
    "# mkdir -p \"$temp_dir\"\n",
    "# cd \"$temp_dir\"\n",
    "# pwd\n",
    "\n",
    "rename-with-file-date \"$temp_dir\" > /dev/null\n",
    "command mkdir -p \"$temp_dir\"\n",
    "# command mkdir -p \"$trash_dir\"\n",
    "command cd \"$temp_dir\"\n",
    "#ALIAS FOR PRINTING SEPERATION LINES (FOR JUPYTER)\n",
    "alias linebr=\"printf '%*s\\n' \"${COLUMNS:-$(tput cols)}\" '' | tr ' ' -\""
   ]
  },
  {
   "cell_type": "code",
   "execution_count": 6,
   "id": "8d2d64e7",
   "metadata": {},
   "outputs": [],
   "source": [
    "# Global Setup\n",
    "\n",
    "alias testuser=\"sed -r \"s/\"$USER\"+/userxf333/g\"\"\n",
    "## For number of digits not being critical\n",
    "alias testnum=\"sed -r \"s/[0-9][0-9]*/N/g\"\"\n",
    "## OLD\n",
    "## alias testnum=\"sed -r \"s/[0-9]/N/g\"\" "
   ]
  },
  {
   "cell_type": "code",
   "execution_count": 7,
   "id": "5527171c",
   "metadata": {},
   "outputs": [
    {
     "name": "stdout",
     "output_type": "stream",
     "text": [
      "0\n"
     ]
    }
   ],
   "source": [
    "# Count aliases proper\n",
    "# OLD: alias | wc -l | testnum\n",
    "alias | { [ $(wc -l < /dev/stdin) -ne 0 ]; echo $?; }"
   ]
  },
  {
   "cell_type": "code",
   "execution_count": 8,
   "id": "bfb7e7ba",
   "metadata": {},
   "outputs": [
    {
     "name": "stdout",
     "output_type": "stream",
     "text": [
      "0\n"
     ]
    }
   ],
   "source": [
    "# Count functions\n",
    "# typeset -f | egrep '^\\w+' | wc -l | testnum\n",
    "typeset -f | egrep '^\\w+' | { [ $(wc -l < /dev/stdin) -ne 0 ]; echo $?; }"
   ]
  },
  {
   "cell_type": "code",
   "execution_count": 9,
   "id": "faf99139",
   "metadata": {},
   "outputs": [],
   "source": [
    "## BAD\n",
    "# source $BIN_DIR/tomohara-aliases.bash"
   ]
  },
  {
   "cell_type": "code",
   "execution_count": 10,
   "id": "b2919e2f",
   "metadata": {},
   "outputs": [
    {
     "name": "stdout",
     "output_type": "stream",
     "text": [
      "N\n"
     ]
    }
   ],
   "source": [
    "# # 1.1) NO EXAMPLES RN FOR kill-em and kill-it [NEED HELP]\n",
    "# kill-em () | kill-em and kill-it returns same value\n",
    "kill-em --test firefox | wc -l | testnum"
   ]
  },
  {
   "cell_type": "code",
   "execution_count": 11,
   "id": "40460077",
   "metadata": {},
   "outputs": [
    {
     "name": "stdout",
     "output_type": "stream",
     "text": [
      "N\n"
     ]
    }
   ],
   "source": [
    "# kill-it ()\n",
    "kill-it --test firefox | wc -l | testnum"
   ]
  },
  {
   "cell_type": "code",
   "execution_count": 12,
   "id": "94ed70f0",
   "metadata": {},
   "outputs": [],
   "source": [
    "## 1.2) ERROR GENERATED - SCRIPT MISSING\n",
    "# $ convert-termstrings\n",
    "# | Can't open perl script \"convert_termstrings.perl\": No such file or directory"
   ]
  },
  {
   "cell_type": "code",
   "execution_count": 13,
   "id": "98b974b4",
   "metadata": {},
   "outputs": [],
   "source": [
    "# BAD: rm -rf ./* > /dev/null\n",
    "# command mv -f * \"$trash_dir\"\n",
    "printf \"TOP\\nTHIS IS A TEST\\nBOTTOM\" > test.txt\n",
    "printf \"THIS IS A FILE TO MOVE\" > tomove.txt\n",
    "command mkdir newdir1\n",
    "\n",
    "# OLD: move tomove.txt ./newdir1/\n",
    "move tomove.txt ./newdir1/ > /dev/null\n",
    "\n",
    "## OLD\n",
    "# ls\n",
    "# dobackup test.txt\n",
    "# linebr\n",
    "# ls"
   ]
  },
  {
   "cell_type": "code",
   "execution_count": 14,
   "id": "142d960b",
   "metadata": {},
   "outputs": [
    {
     "name": "stdout",
     "output_type": "stream",
     "text": [
      "0\n"
     ]
    }
   ],
   "source": [
    "## Debug Purpose\n",
    "# OLD: ls\n",
    "[[ -n \"$(ls | grep \"newdir1\")\" && -n \"$(ls newdir1 | grep \"tomove.txt\")\" ]]; echo $?"
   ]
  },
  {
   "cell_type": "code",
   "execution_count": 15,
   "id": "0ef5e724",
   "metadata": {},
   "outputs": [
    {
     "name": "stdout",
     "output_type": "stream",
     "text": [
      "0\n"
     ]
    }
   ],
   "source": [
    "## Backing up files using dobackup\n",
    "dobackup test.txt > /dev/null\n",
    "[[ -n \"$(ls | grep \"backup\")\" && -n \"$(ls backup | grep \"test.txt\")\" && -n \"$(ls | grep \"test.txt\")\" ]]; echo $?"
   ]
  },
  {
   "cell_type": "code",
   "execution_count": 16,
   "id": "1584698d",
   "metadata": {},
   "outputs": [
    {
     "name": "stdout",
     "output_type": "stream",
     "text": [
      "0\n"
     ]
    }
   ],
   "source": [
    "# Large List of process with full process paths\n",
    "# Number of process is random\n",
    "\n",
    "## OLD: ps_mine.sh moved to archive\n",
    "# OLD: ps-mine-all | wc -l | testnum\n",
    "\n",
    "[ \"$(ps-mine-all | wc -l)\" -gt 1 ]; echo $?"
   ]
  },
  {
   "cell_type": "code",
   "execution_count": 17,
   "id": "c7070a99",
   "metadata": {},
   "outputs": [],
   "source": [
    "# HELP REQUIRED FOR RCS FILES (TBC)\n",
    "\n",
    "## OLD : do_rcsdiff.sh moved to archive\n",
    "\n",
    "## OLD 2: bash: /home/zavee/tomProject/shell-scripts/archive/do_rcsdiff.sh: Permission denied\n",
    "# do-rcsdiff | head -n 1"
   ]
  },
  {
   "cell_type": "code",
   "execution_count": 18,
   "id": "22a23226",
   "metadata": {},
   "outputs": [],
   "source": [
    "uname -r > versionR.txt\n",
    "uname -a > versionA.txta\n",
    "uname -v > versionV.txt\n",
    "uname -i > versionI.txt\n",
    "uname > \"version none.txt\"\n",
    "uname -ra > \"version?.txt\"\n",
    "\n",
    "man grep > grep_manual.txt\n",
    "\n",
    "# cp ./versionR.txt ./versionR-1.txt\n",
    "command cp ./versionR.txt ./versionR-1.txt\n",
    "# ls"
   ]
  },
  {
   "cell_type": "code",
   "execution_count": 19,
   "id": "a99c8f04",
   "metadata": {},
   "outputs": [
    {
     "name": "stdout",
     "output_type": "stream",
     "text": [
      "0\n"
     ]
    }
   ],
   "source": [
    "# Debug purpose\n",
    "## OLD: ls | wc -l | testuser\n",
    "[[ -n \"$(ls | grep \"versionR.txt\")\" && -n \"$(ls | grep \"versionR-1.txt\")\" ]]; echo $?"
   ]
  },
  {
   "cell_type": "code",
   "execution_count": 20,
   "id": "d6117d46",
   "metadata": {},
   "outputs": [
    {
     "name": "stdout",
     "output_type": "stream",
     "text": [
      "renaming \"test.txt\" to \"harry.txt\"\n",
      "0\n"
     ]
    }
   ],
   "source": [
    "rename-files -q test.txt harry.txt > /dev/null\n",
    "[[ -n \"$(ls | grep \"harry.txt\")\" && ! -n \"$(ls | grep \"test.txt\")\" ]]; echo $?"
   ]
  },
  {
   "cell_type": "code",
   "execution_count": 21,
   "id": "95161560",
   "metadata": {},
   "outputs": [],
   "source": [
    "# # NEED HELP (TBC)\n",
    "\n",
    "# $ testwn\n",
    "# | Undefined subroutine &main::NO_OP called at /home/xaea12/bin/common.perl line 2172.\n"
   ]
  },
  {
   "cell_type": "code",
   "execution_count": 22,
   "id": "8298cf91",
   "metadata": {},
   "outputs": [
    {
     "name": "stdout",
     "output_type": "stream",
     "text": [
      "0\n"
     ]
    }
   ],
   "source": [
    "## OLD: Command revised to show the working of perlgrep\n",
    "# perlgrep \"print\" ./grep_manual.txt\n",
    "# [ \"$(perlgrep \"print\" ./grep_manual.txt | wc -w)\" -gt 300 ]; echo $?\n",
    "[ \"$(cat ./grep_manual.txt | perlgrep -c \"print\")\" -gt 10 ]; echo $?"
   ]
  },
  {
   "cell_type": "code",
   "execution_count": 23,
   "id": "3ca47040",
   "metadata": {},
   "outputs": [],
   "source": [
    "# Need Help with example\n",
    "\n",
    "## OLD: domainname.sh moved to archive\n",
    "# foreach \"echo $f\" *.txt | wc -l | testnum"
   ]
  },
  {
   "cell_type": "code",
   "execution_count": 24,
   "id": "5877539b",
   "metadata": {},
   "outputs": [
    {
     "name": "stdout",
     "output_type": "stream",
     "text": [
      "renaming \"version none.txt\" to \"version_none.txt\"\n",
      "0\n"
     ]
    }
   ],
   "source": [
    "rename-spaces >/dev/null\n",
    "[[ -n \"$(ls | grep \"version_none.txt\")\" && ! -e \"$(ls | grep \"version none.txt\")\" ]]; echo $?"
   ]
  },
  {
   "cell_type": "code",
   "execution_count": 25,
   "id": "b4a3202e",
   "metadata": {},
   "outputs": [
    {
     "name": "stdout",
     "output_type": "stream",
     "text": [
      "0\n"
     ]
    }
   ],
   "source": [
    "rename-special-punct 2>/dev/null\n",
    "[[ -n \"$(ls | grep \"version_.txt\")\" && ! -e \"$(ls | grep \"version?.txt\")\" ]]; echo $?"
   ]
  },
  {
   "cell_type": "code",
   "execution_count": 26,
   "id": "104d555f",
   "metadata": {},
   "outputs": [],
   "source": [
    "ps -l >> \"process(L).md\"\n",
    "ps -u >> \"process(U).md\"\n",
    "ps -x >> \"process(X).md\"\n",
    "ps -al >> \"process'all'.md\"\n",
    "ps -aux >> 'psaux(1).txt'\n",
    "ps -aux >> 'psaux(2).txt'\n",
    "ps -aux >> 'psaux(3).txt'"
   ]
  },
  {
   "cell_type": "code",
   "execution_count": 27,
   "id": "66ff2781",
   "metadata": {},
   "outputs": [
    {
     "name": "stdout",
     "output_type": "stream",
     "text": [
      "0\n"
     ]
    }
   ],
   "source": [
    "move-duplicates > /dev/null\n",
    "[[ -n \"$(ls | grep \"duplicates\")\" && \"$(ls -l duplicates | wc -l)\" -eq 3+1 ]]; echo $?"
   ]
  },
  {
   "cell_type": "code",
   "execution_count": 28,
   "id": "33d36d20",
   "metadata": {},
   "outputs": [
    {
     "name": "stdout",
     "output_type": "stream",
     "text": [
      "0\n"
     ]
    }
   ],
   "source": [
    "# Check for files with paranthesis (there are 3 files)\n",
    "[ \"$(ls | grep -E \"^process\\([A-Z]\\)\\.md$\" | wc -l)\" -eq 3 ]; echo $?"
   ]
  },
  {
   "cell_type": "code",
   "execution_count": 29,
   "id": "83dfb50a",
   "metadata": {},
   "outputs": [
    {
     "name": "stdout",
     "output_type": "stream",
     "text": [
      "renaming \"process(L).md\" to \"processL.md\"\n",
      "renaming \"process(U).md\" to \"processU.md\"\n",
      "renaming \"process(X).md\" to \"processX.md\"\n",
      "0\n"
     ]
    }
   ],
   "source": [
    "rename-parens -v > /dev/null\n",
    "# Check if conversion is successful \n",
    "[ \"$(ls | grep -E \"^process\\([A-Z]\\)\\.md$\" | wc -l)\" -eq 0 ]; echo $?"
   ]
  },
  {
   "cell_type": "code",
   "execution_count": 30,
   "id": "312df7a5",
   "metadata": {},
   "outputs": [],
   "source": [
    "## OLD: Shifted to cell above\n",
    "## Check if conversion is successful \n",
    "# [ \"$(ls | grep -E \"^process\\([A-Z]\\)\\.md$\" | wc -l)\" -eq 0 ]; echo $?"
   ]
  },
  {
   "cell_type": "code",
   "execution_count": 31,
   "id": "8e6b254c",
   "metadata": {},
   "outputs": [
    {
     "name": "stdout",
     "output_type": "stream",
     "text": [
      "renaming \"process'all'.md\" to \"processall.md\"\n",
      "0\n"
     ]
    }
   ],
   "source": [
    "##  Need Help \n",
    "rename-quotes > /dev/null\n",
    "[ \"$(ls | grep \"process'all'\\.md\" | wc -l) -eq 0\" ]; echo $?"
   ]
  },
  {
   "cell_type": "code",
   "execution_count": 32,
   "id": "3a5731b8",
   "metadata": {},
   "outputs": [],
   "source": [
    "## DEBUG\n",
    "# ls"
   ]
  },
  {
   "cell_type": "code",
   "execution_count": 33,
   "id": "672d1bd6",
   "metadata": {},
   "outputs": [],
   "source": [
    "## OLD & USELESS\n",
    "# man sudo > sudo_manual.out\n",
    "# man ansifilter > fakelog.log\n",
    "# ps -aux > process_all.html"
   ]
  },
  {
   "cell_type": "code",
   "execution_count": 34,
   "id": "2b2b495d",
   "metadata": {},
   "outputs": [],
   "source": [
    "# # HELP REQUIRED - TBF\n",
    "# $ move-log-files\n",
    "# | /bin/mv: missing destination file operand after 'log-files'\n",
    "# | Try '/bin/mv --help' for more information."
   ]
  },
  {
   "cell_type": "code",
   "execution_count": 35,
   "id": "527d72eb",
   "metadata": {},
   "outputs": [],
   "source": [
    "# # HELP REQUIRED - TBF\n",
    "# $ move-output-files\n",
    "# | mv: cannot stat '$eval_middle': No such file or directory"
   ]
  },
  {
   "cell_type": "code",
   "execution_count": 36,
   "id": "937d9242",
   "metadata": {},
   "outputs": [
    {
     "name": "stdout",
     "output_type": "stream",
     "text": [
      "0\n"
     ]
    }
   ],
   "source": [
    "## OLD: copy-with-file-date *.md | wc -l | testnum\n",
    "copy-with-file-date processL.md > /dev/null\n",
    "[ \"$(ls | grep processL.md | wc -l)\" -eq 2 ]; echo $?"
   ]
  },
  {
   "cell_type": "code",
   "execution_count": 37,
   "id": "59ae3af6",
   "metadata": {},
   "outputs": [
    {
     "name": "stdout",
     "output_type": "stream",
     "text": [
      "0\n"
     ]
    }
   ],
   "source": [
    "rename-with-file-date versionI.txt > /dev/null\n",
    "[ \"$(ls | grep \"versionI.txt.\"* | wc -l)\" -eq 1 ]; echo $?"
   ]
  },
  {
   "cell_type": "code",
   "execution_count": 38,
   "id": "d9ba3659",
   "metadata": {},
   "outputs": [],
   "source": [
    "man cat > man_cat.txt"
   ]
  },
  {
   "cell_type": "code",
   "execution_count": 39,
   "id": "92e8abbd",
   "metadata": {},
   "outputs": [],
   "source": [
    "## Before addition, adding TOM_BIN to archive\n",
    "TOM_BIN_BAK=$TOM_BIN\n",
    "TOM_BIN=$TOM_BIN/archive"
   ]
  },
  {
   "cell_type": "code",
   "execution_count": 40,
   "id": "c7e4c426",
   "metadata": {
    "scrolled": false
   },
   "outputs": [
    {
     "name": "stdout",
     "output_type": "stream",
     "text": [
      "0\n"
     ]
    }
   ],
   "source": [
    "## OLD: count_bigrams.perl moved to archive\n",
    "# unigrams man_cat.txt | grep -w \"cat\" | head -n 1 | testnum\n",
    "[ \"$(unigrams man_cat.txt | grep -w \"cat\" | wc -l)\" -ne 0 ]; echo $?  "
   ]
  },
  {
   "cell_type": "code",
   "execution_count": 41,
   "id": "1d96c16e",
   "metadata": {
    "scrolled": true
   },
   "outputs": [
    {
     "name": "stdout",
     "output_type": "stream",
     "text": [
      "0\n"
     ]
    }
   ],
   "source": [
    "## OLD: count_bigrams.perl moved to archive\n",
    "# word-count ./man_cat.txt | testuser | testnum\n",
    "# word-count man_cat.txt | grep -w \"cat\" | head -n 1 | testnum\n",
    "[ \"$(word-count man_cat.txt | grep -w \"cat\" | wc -l)\" -ne 0 ]; echo $?  "
   ]
  },
  {
   "cell_type": "code",
   "execution_count": 42,
   "id": "71adad1d",
   "metadata": {},
   "outputs": [
    {
     "name": "stdout",
     "output_type": "stream",
     "text": [
      "0\n"
     ]
    }
   ],
   "source": [
    "## OLD: count_bigrams.perl moved to archive\n",
    "# bigrams ./man_cat.txt | testuser | testnum\n",
    "# bigrams ./man_cat.txt | grep -w \"cat\" | head -n 1 | testnum\n",
    "[ \"$(bigrams ./man_cat.txt | grep -w \"cat\" | wc -l)\" -ne 0 ]; echo $? "
   ]
  },
  {
   "cell_type": "code",
   "execution_count": 43,
   "id": "d57951d5",
   "metadata": {},
   "outputs": [],
   "source": [
    "# # WORKS FINE - HALTS PROCESS\n",
    "# $ lynx-html"
   ]
  },
  {
   "cell_type": "code",
   "execution_count": 44,
   "id": "9c99b8aa",
   "metadata": {},
   "outputs": [],
   "source": [
    "TOM_BIN=$TOM_BIN_BAK"
   ]
  },
  {
   "cell_type": "code",
   "execution_count": 45,
   "id": "86419b9f",
   "metadata": {},
   "outputs": [
    {
     "name": "stdout",
     "output_type": "stream",
     "text": [
      "0\n"
     ]
    }
   ],
   "source": [
    "## OLD\n",
    "# lynx-dump-stdout | head -n 1\n",
    "# lynx-dump-stdout | grep -q \"Lynx\" && echo \"True\" || echo \"False\"\n",
    "[ ! \"$(lynx-dump-stdout | grep -q \"Lynx\")\" ]; echo $?"
   ]
  },
  {
   "cell_type": "code",
   "execution_count": 46,
   "id": "d9ed2744",
   "metadata": {},
   "outputs": [],
   "source": [
    "# (Need Help)\n",
    "# $ lynx-dump\n",
    "# | bash: .txt: cannot overwrite existing file"
   ]
  },
  {
   "cell_type": "code",
   "execution_count": 47,
   "id": "f45efa52",
   "metadata": {},
   "outputs": [
    {
     "name": "stdout",
     "output_type": "stream",
     "text": [
      "0\n"
     ]
    }
   ],
   "source": [
    "USERNAME_TEMP=\"xaea12-temp\"\n",
    "setenv MY_USERNAME xaea12-temp\n",
    "[ \"$(echo $MY_USERNAME)\" == \"$USERNAME_TEMP\" ]; echo $?"
   ]
  },
  {
   "cell_type": "code",
   "execution_count": 48,
   "id": "addf3591",
   "metadata": {},
   "outputs": [
    {
     "name": "stdout",
     "output_type": "stream",
     "text": [
      "0\n"
     ]
    }
   ],
   "source": [
    "unexport MY_USERNAME\n",
    "# echo $MY_USERNAME\n",
    "[ \"$(echo $MY_USERNAME)\" == \"\" ]; echo $?"
   ]
  },
  {
   "cell_type": "code",
   "execution_count": 49,
   "id": "49d6d56d",
   "metadata": {
    "scrolled": true
   },
   "outputs": [
    {
     "name": "stdout",
     "output_type": "stream",
     "text": [
      "END\n"
     ]
    }
   ],
   "source": [
    "# NOTE (PROPOSED APPROACH): Add timestamp to the directory before moving them to trash_dir\n",
    "# command mv -f * \"$trash_dir\"\n",
    "echo \"END\""
   ]
  }
 ],
 "metadata": {
  "kernelspec": {
   "display_name": "Bash",
   "language": "bash",
   "name": "bash"
  },
  "language_info": {
   "codemirror_mode": "shell",
   "file_extension": ".sh",
   "mimetype": "text/x-sh",
   "name": "bash"
  }
 },
 "nbformat": 4,
 "nbformat_minor": 5
}
