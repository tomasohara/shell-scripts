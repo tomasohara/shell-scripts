{
 "cells": [
  {
   "cell_type": "code",
   "execution_count": 1,
   "id": "ee0d8a16",
   "metadata": {},
   "outputs": [],
   "source": [
    "## SETUP (OPTIONAL - USE IF REQUIRED)\n",
    "## Bracketed Paste is disabled to prevent characters after output\n",
    "## Example: \n",
    "## $ echo 'Hii'\n",
    "## | Hi?2004l\n",
    "# bind 'set enable-bracketed-paste off'"
   ]
  },
  {
   "cell_type": "code",
   "execution_count": 2,
   "id": "65d43538",
   "metadata": {},
   "outputs": [
    {
     "name": "stdout",
     "output_type": "stream",
     "text": [
      "PROMPT_FANKHNUDTDBZ\\[\\]>\n"
     ]
    }
   ],
   "source": [
    "echo $PS1"
   ]
  },
  {
   "cell_type": "code",
   "execution_count": 3,
   "id": "d623c9a9",
   "metadata": {},
   "outputs": [],
   "source": [
    "## BAD\n",
    "# # Delete all aliases and function\n",
    "# # TODO: Instead start from pristine environment\n",
    "# unalias -a\n",
    "# alias | wc -l\n",
    "# for f in $(typeset -f | egrep '^\\w+'); do unset -f $f; done\n",
    "# typeset -f | egrep '^\\w+' | wc -l\n",
    "\n",
    "# Setting a temp directory for tests\n",
    "TMP=/tmp/test-extensionless\n",
    "BIN_DIR=$PWD/.."
   ]
  },
  {
   "cell_type": "code",
   "execution_count": 4,
   "id": "f93dc93d",
   "metadata": {},
   "outputs": [],
   "source": [
    "## OLD: Defined Below @ 8\n",
    "# alias testuser=\"sed -r \"s/\"$USER\"+/user/g\"\""
   ]
  },
  {
   "cell_type": "code",
   "execution_count": 5,
   "id": "ab954c7f",
   "metadata": {},
   "outputs": [],
   "source": [
    "temp_dir=$TMP/test-3570\n",
    "trash_dir=$TMP/\"_temp-trash-$(date \"+%Y%m%d%H%M%S\")\"\n",
    "## OLD \n",
    "# mkdir -p \"$temp_dir\"\n",
    "# cd \"$temp_dir\"\n",
    "# pwd\n",
    "command mkdir -p \"$temp_dir\"\n",
    "command mkdir -p \"$trash_dir\"\n",
    "command cd \"$temp_dir\"\n",
    "#ALIAS FOR PRINTING SEPERATION LINES (FOR JUPYTER)\n",
    "alias linebr=\"printf '%*s\\n' \"${COLUMNS:-$(tput cols)}\" '' | tr ' ' -\""
   ]
  },
  {
   "cell_type": "code",
   "execution_count": 6,
   "id": "8d2d64e7",
   "metadata": {},
   "outputs": [],
   "source": [
    "# Global Setup\n",
    "\n",
    "alias testuser=\"sed -r \"s/\"$USER\"+/userxf333/g\"\"\n",
    "## For number of digits not being critical\n",
    "alias testnum=\"sed -r \"s/[0-9][0-9]*/N/g\"\"\n",
    "## OLD\n",
    "## alias testnum=\"sed -r \"s/[0-9]/N/g\"\" "
   ]
  },
  {
   "cell_type": "code",
   "execution_count": 7,
   "id": "5527171c",
   "metadata": {},
   "outputs": [
    {
     "name": "stdout",
     "output_type": "stream",
     "text": [
      "N\n"
     ]
    }
   ],
   "source": [
    "# Count aliases proper\n",
    "alias | wc -l | testnum"
   ]
  },
  {
   "cell_type": "code",
   "execution_count": 8,
   "id": "bfb7e7ba",
   "metadata": {},
   "outputs": [
    {
     "name": "stdout",
     "output_type": "stream",
     "text": [
      "N\n"
     ]
    }
   ],
   "source": [
    "# Count functions\n",
    "typeset -f | egrep '^\\w+' | wc -l | testnum"
   ]
  },
  {
   "cell_type": "code",
   "execution_count": 9,
   "id": "faf99139",
   "metadata": {},
   "outputs": [],
   "source": [
    "## BAD\n",
    "# source $BIN_DIR/tomohara-aliases.bash"
   ]
  },
  {
   "cell_type": "code",
   "execution_count": 10,
   "id": "b2919e2f",
   "metadata": {},
   "outputs": [
    {
     "name": "stdout",
     "output_type": "stream",
     "text": [
      "N\n"
     ]
    }
   ],
   "source": [
    "# # 1.1) NO EXAMPLES RN FOR kill-em and kill-it\n",
    "# kill-em () | kill-em and kill-it returns same value\n",
    "kill-em --test firefox | wc -l | testnum"
   ]
  },
  {
   "cell_type": "code",
   "execution_count": 11,
   "id": "40460077",
   "metadata": {},
   "outputs": [
    {
     "name": "stdout",
     "output_type": "stream",
     "text": [
      "N\n"
     ]
    }
   ],
   "source": [
    "# kill-it ()\n",
    "kill-it --test firefox | wc -l | testnum"
   ]
  },
  {
   "cell_type": "code",
   "execution_count": 12,
   "id": "94ed70f0",
   "metadata": {},
   "outputs": [],
   "source": [
    "## 1.2) ERROR GENERATED - SCRIPT MISSING\n",
    "# $ convert-termstrings\n",
    "# | Can't open perl script \"convert_termstrings.perl\": No such file or directory"
   ]
  },
  {
   "cell_type": "code",
   "execution_count": 13,
   "id": "98b974b4",
   "metadata": {},
   "outputs": [
    {
     "name": "stdout",
     "output_type": "stream",
     "text": [
      "renamed 'tomove.txt' -> './newdir1/tomove.txt'\n"
     ]
    }
   ],
   "source": [
    "# BAD: rm -rf ./* > /dev/null\n",
    "command mv -f * \"$trash_dir\"\n",
    "printf \"TOP\\nTHIS IS A TEST\\nBOTTOM\" > test.txt\n",
    "printf \"THIS IS A FILE TO MOVE\" > tomove.txt\n",
    "command mkdir newdir1\n",
    "\n",
    "move tomove.txt ./newdir1/\n",
    "\n",
    "## OLD\n",
    "# ls\n",
    "# dobackup test.txt\n",
    "# linebr\n",
    "# ls"
   ]
  },
  {
   "cell_type": "code",
   "execution_count": 14,
   "id": "142d960b",
   "metadata": {},
   "outputs": [
    {
     "name": "stdout",
     "output_type": "stream",
     "text": [
      "\u001b[0m\u001b[01;34mnewdir1\u001b[0m  test.txt\n"
     ]
    }
   ],
   "source": [
    "## Debug Purpose\n",
    "ls"
   ]
  },
  {
   "cell_type": "code",
   "execution_count": 15,
   "id": "0f400c25",
   "metadata": {},
   "outputs": [
    {
     "name": "stdout",
     "output_type": "stream",
     "text": [
      "Backing up 'test.txt' to './backup/test.txt'\n"
     ]
    }
   ],
   "source": [
    "## Backing up files using dobackup\n",
    "dobackup test.txt"
   ]
  },
  {
   "cell_type": "code",
   "execution_count": 16,
   "id": "0ef5e724",
   "metadata": {},
   "outputs": [
    {
     "name": "stdout",
     "output_type": "stream",
     "text": [
      "\u001b[0m\u001b[01;34mbackup\u001b[0m  \u001b[01;34mnewdir1\u001b[0m  test.txt\n"
     ]
    }
   ],
   "source": [
    "## Debug Purpose\n",
    "ls"
   ]
  },
  {
   "cell_type": "code",
   "execution_count": 17,
   "id": "1584698d",
   "metadata": {},
   "outputs": [],
   "source": [
    "# Large List of process with full process paths\n",
    "# Number of process is random\n",
    "\n",
    "## OLD: ps_mine.sh moved to archive\n",
    "# ps-mine-all | wc -l | testnum "
   ]
  },
  {
   "cell_type": "code",
   "execution_count": 18,
   "id": "c7070a99",
   "metadata": {},
   "outputs": [],
   "source": [
    "# HELP REQUIRED FOR RCS FILES (TBC)\n",
    "\n",
    "## OLD : do_rcsdiff.sh moved to archive\n",
    "# do-rcsdiff | head -n 1"
   ]
  },
  {
   "cell_type": "code",
   "execution_count": 19,
   "id": "22a23226",
   "metadata": {},
   "outputs": [
    {
     "name": "stdout",
     "output_type": "stream",
     "text": [
      "'./versionR.txt' -> './versionR-1.txt'\n"
     ]
    }
   ],
   "source": [
    "uname -r > versionR.txt\n",
    "uname -a > versionA.txta\n",
    "uname -v > versionV.txt\n",
    "uname -i > versionI.txt\n",
    "uname > \"version none.txt\"\n",
    "uname -ra > \"version?.txt\"\n",
    "\n",
    "man grep > grep_manual.txt\n",
    "\n",
    "cp ./versionR.txt ./versionR-1.txt\n",
    "# ls"
   ]
  },
  {
   "cell_type": "code",
   "execution_count": 20,
   "id": "a99c8f04",
   "metadata": {},
   "outputs": [
    {
     "name": "stdout",
     "output_type": "stream",
     "text": [
      "11\n"
     ]
    }
   ],
   "source": [
    "# Debug purpose\n",
    "ls | wc -l | testuser"
   ]
  },
  {
   "cell_type": "code",
   "execution_count": 21,
   "id": "d6117d46",
   "metadata": {},
   "outputs": [
    {
     "name": "stdout",
     "output_type": "stream",
     "text": [
      "renaming \"test.txt\" to \"harry.txt\"\n"
     ]
    }
   ],
   "source": [
    "rename-files -q test.txt harry.txt"
   ]
  },
  {
   "cell_type": "code",
   "execution_count": 22,
   "id": "95161560",
   "metadata": {},
   "outputs": [],
   "source": [
    "# # NEED HELP (TBC)\n",
    "\n",
    "# $ testwn\n",
    "# | Undefined subroutine &main::NO_OP called at /home/xaea12/bin/common.perl line 2172.\n"
   ]
  },
  {
   "cell_type": "code",
   "execution_count": 23,
   "id": "8298cf91",
   "metadata": {},
   "outputs": [
    {
     "name": "stdout",
     "output_type": "stream",
     "text": [
      "              Suppress  normal output; instead print a count of matching lines\n",
      "              Suppress normal output; instead print the  name  of  each  input\n",
      "              file from which no output would normally have been printed.\n",
      "              Suppress  normal  output;  instead  print the name of each input\n",
      "              file  from  which  output  would  normally  have  been  printed.\n",
      "              output,  grep  ensures  that the standard input is positioned to\n",
      "              lines,  it  outputs  any trailing context lines.  When the -c or\n",
      "              --count option is also  used,  grep  does  not  output  a  count\n",
      "              used, grep stops after outputting NUM non-matching lines.\n",
      "              with each such part on a separate output line.\n",
      "              Quiet;   do   not  write  anything  to  standard  output.   Exit\n",
      "              line of output.  If -o (--only-matching) is specified, print the\n",
      "              Suppress the prefixing of file names on  output.   This  is  the\n",
      "              Prefix each line of output with the 1-based line  number  within\n",
      "              is  useful  with  options that prefix their output to the actual\n",
      "              -lZ  outputs  a  zero  byte  after each file name instead of the\n",
      "              usual newline.  This option makes the output  unambiguous,  even\n",
      "              Print NUM lines of output context.  Places a line  containing  a\n",
      "              bytes indicate binary data; these are either output  bytes  that\n",
      "              By default, TYPE is binary, and  grep  suppresses  output  after\n",
      "              null  input  binary  data  is  discovered, and suppresses output\n",
      "              lines that contain improperly encoded data.  When some output is\n",
      "              suppressed,  grep  follows  any  output  with a one-line message\n",
      "              Warning:  The  -a  option might output binary garbage, which can\n",
      "              have nasty side effects if the output is a terminal and  if  the\n",
      "              Use line buffering on output.   This  can  cause  a  performance\n",
      "              Treat  input  and  output  data  as  sequences  of  lines,  each\n",
      "              various  parts  of  the  output.  Its value is a colon-separated\n",
      "       The following example outputs the location and  contents  of  any  line\n",
      "       rectory whose names contain “g” and end in “.h”.  The -n option outputs\n",
      "       file names to be output even if only one file name happens to be of the\n"
     ]
    }
   ],
   "source": [
    "## OLD\n",
    "# perlgrep \"print\" ./grep_manual.txt\n",
    "perlgrep \"output\" ./grep_manual.txt"
   ]
  },
  {
   "cell_type": "code",
   "execution_count": 24,
   "id": "3ca47040",
   "metadata": {},
   "outputs": [],
   "source": [
    "# Need Help with example\n",
    "\n",
    "## OLD: domainname.sh moved to archive\n",
    "# foreach \"echo $f\" *.txt | wc -l | testnum"
   ]
  },
  {
   "cell_type": "code",
   "execution_count": 25,
   "id": "5877539b",
   "metadata": {},
   "outputs": [
    {
     "name": "stdout",
     "output_type": "stream",
     "text": [
      "renaming \"version none.txt\" to \"version_none.txt\"\n"
     ]
    }
   ],
   "source": [
    "rename-spaces"
   ]
  },
  {
   "cell_type": "code",
   "execution_count": 26,
   "id": "b4a3202e",
   "metadata": {},
   "outputs": [
    {
     "name": "stdout",
     "output_type": "stream",
     "text": [
      "renaming \"version?.txt\" to \"version_.txt\"\n"
     ]
    }
   ],
   "source": [
    "rename-special-punct"
   ]
  },
  {
   "cell_type": "code",
   "execution_count": 27,
   "id": "104d555f",
   "metadata": {},
   "outputs": [],
   "source": [
    "ps -l >> \"process(L).md\"\n",
    "ps -u >> \"process(U).md\"\n",
    "ps -x >> \"process(X).md\"\n",
    "ps -al >> \"process'all'.md\"\n",
    "ps -aux >> 'psaux(1).txt'\n",
    "ps -aux >> 'psaux(2).txt'\n",
    "ps -aux >> 'psaux(3).txt'"
   ]
  },
  {
   "cell_type": "code",
   "execution_count": 28,
   "id": "66ff2781",
   "metadata": {},
   "outputs": [
    {
     "name": "stdout",
     "output_type": "stream",
     "text": [
      "renamed 'psaux(1).txt' -> 'duplicates/psaux(1).txt'\n",
      "renamed 'psaux(2).txt' -> 'duplicates/psaux(2).txt'\n",
      "renamed 'psaux(3).txt' -> 'duplicates/psaux(3).txt'\n"
     ]
    }
   ],
   "source": [
    "move-duplicates"
   ]
  },
  {
   "cell_type": "code",
   "execution_count": 29,
   "id": "33d36d20",
   "metadata": {},
   "outputs": [
    {
     "name": "stdout",
     "output_type": "stream",
     "text": [
      "renaming \"process(L).md\" to \"processL.md\"\n",
      "renaming \"process(U).md\" to \"processU.md\"\n",
      "renaming \"process(X).md\" to \"processX.md\"\n"
     ]
    }
   ],
   "source": [
    "rename-parens -v"
   ]
  },
  {
   "cell_type": "code",
   "execution_count": 30,
   "id": "8e6b254c",
   "metadata": {},
   "outputs": [
    {
     "name": "stdout",
     "output_type": "stream",
     "text": [
      "WARNING: Ignoring -quick mode as files specified\n"
     ]
    }
   ],
   "source": [
    "# Need Help \n",
    "rename-quotes -v"
   ]
  },
  {
   "cell_type": "code",
   "execution_count": 31,
   "id": "3a5731b8",
   "metadata": {},
   "outputs": [
    {
     "name": "stdout",
     "output_type": "stream",
     "text": [
      " \u001b[0m\u001b[01;34mbackup\u001b[0m            \u001b[01;34mnewdir1\u001b[0m            processX.md        versionR-1.txt\n",
      " \u001b[01;34mduplicates\u001b[0m       \"process'all'.md\"   versionA.txta      versionR.txt\n",
      " grep_manual.txt   processL.md        versionI.txt       version_.txt\n",
      " harry.txt         processU.md        version_none.txt   versionV.txt\n"
     ]
    }
   ],
   "source": [
    "## DEBUG\n",
    "ls"
   ]
  },
  {
   "cell_type": "code",
   "execution_count": 32,
   "id": "672d1bd6",
   "metadata": {},
   "outputs": [],
   "source": [
    "## OLD & USELESS\n",
    "# man sudo > sudo_manual.out\n",
    "# man ansifilter > fakelog.log\n",
    "# ps -aux > process_all.html"
   ]
  },
  {
   "cell_type": "code",
   "execution_count": 33,
   "id": "2b2b495d",
   "metadata": {},
   "outputs": [],
   "source": [
    "# # HELP REQUIRED - TBF\n",
    "# $ move-log-files\n",
    "# | /bin/mv: missing destination file operand after 'log-files'\n",
    "# | Try '/bin/mv --help' for more information."
   ]
  },
  {
   "cell_type": "code",
   "execution_count": 34,
   "id": "527d72eb",
   "metadata": {},
   "outputs": [],
   "source": [
    "# # HELP REQUIRED - TBF\n",
    "# $ move-output-files\n",
    "# | mv: cannot stat '$eval_middle': No such file or directory"
   ]
  },
  {
   "cell_type": "code",
   "execution_count": 35,
   "id": "937d9242",
   "metadata": {},
   "outputs": [
    {
     "name": "stdout",
     "output_type": "stream",
     "text": [
      "cp: cannot stat 'processall.md': No such file or directory\n",
      "N\n"
     ]
    }
   ],
   "source": [
    "copy-with-file-date *.md | wc -l | testnum"
   ]
  },
  {
   "cell_type": "code",
   "execution_count": 36,
   "id": "d9ba3659",
   "metadata": {},
   "outputs": [],
   "source": [
    "man cat > man_cat.txt"
   ]
  },
  {
   "cell_type": "code",
   "execution_count": 37,
   "id": "c7e4c426",
   "metadata": {
    "scrolled": false
   },
   "outputs": [],
   "source": [
    "## OLD: count_bigrams.perl moved to archive\n",
    "# unigrams ./man_cat.txt | grep -w \"cat\" | head -n 1 | testnum"
   ]
  },
  {
   "cell_type": "code",
   "execution_count": 38,
   "id": "1d96c16e",
   "metadata": {
    "scrolled": true
   },
   "outputs": [],
   "source": [
    "## OLD: count_bigrams.perl moved to archive\n",
    "# word-count ./man_cat.txt | testuser | testnum\n",
    "# word-count ./man_cat.txt | grep -w \"cat\" | head -n 1 | testnum"
   ]
  },
  {
   "cell_type": "code",
   "execution_count": 39,
   "id": "71adad1d",
   "metadata": {},
   "outputs": [],
   "source": [
    "## OLD: count_bigrams.perl moved to archive\n",
    "# bigrams ./man_cat.txt | testuser | testnum\n",
    "# bigrams ./man_cat.txt | grep -w \"cat\" | head -n 1 | testnum"
   ]
  },
  {
   "cell_type": "code",
   "execution_count": 40,
   "id": "d57951d5",
   "metadata": {},
   "outputs": [],
   "source": [
    "# # WORKS FINE - HALTS PROCESS\n",
    "# $ lynx-html"
   ]
  },
  {
   "cell_type": "code",
   "execution_count": 41,
   "id": "86419b9f",
   "metadata": {},
   "outputs": [
    {
     "name": "stdout",
     "output_type": "stream",
     "text": [
      "True\n"
     ]
    }
   ],
   "source": [
    "## OLD\n",
    "# lynx-dump-stdout | head -n 1\n",
    "lynx-dump-stdout | grep -q \"Lynx\" && echo \"True\" || echo \"False\""
   ]
  },
  {
   "cell_type": "code",
   "execution_count": 42,
   "id": "d9ed2744",
   "metadata": {},
   "outputs": [],
   "source": [
    "# (Need Help)\n",
    "# $ lynx-dump\n",
    "# | bash: .txt: cannot overwrite existing file"
   ]
  },
  {
   "cell_type": "code",
   "execution_count": 43,
   "id": "f45efa52",
   "metadata": {},
   "outputs": [
    {
     "name": "stdout",
     "output_type": "stream",
     "text": [
      "xaea12-temp\n"
     ]
    }
   ],
   "source": [
    "setenv MY_USERNAME xaea12-temp\n",
    "echo $MY_USERNAME"
   ]
  },
  {
   "cell_type": "code",
   "execution_count": 44,
   "id": "addf3591",
   "metadata": {},
   "outputs": [
    {
     "name": "stdout",
     "output_type": "stream",
     "text": [
      "\n"
     ]
    }
   ],
   "source": [
    "unexport MY_USERNAME\n",
    "echo $MY_USERNAME"
   ]
  },
  {
   "cell_type": "code",
   "execution_count": 45,
   "id": "49d6d56d",
   "metadata": {},
   "outputs": [
    {
     "name": "stdout",
     "output_type": "stream",
     "text": [
      "mv: cannot move 'backup' to '/tmp/test-extensionless/_temp-trash-20240404182336/backup': Directory not empty\n",
      "mv: cannot move 'newdir1' to '/tmp/test-extensionless/_temp-trash-20240404182336/newdir1': Directory not empty\n",
      "END\n"
     ]
    }
   ],
   "source": [
    "# NOTE (PROPOSED APPROACH): Add timestamp to the directory before moving them to trash_dir\n",
    "command mv -f * \"$trash_dir\"\n",
    "echo \"END\""
   ]
  }
 ],
 "metadata": {
  "kernelspec": {
   "display_name": "Bash",
   "language": "bash",
   "name": "bash"
  },
  "language_info": {
   "codemirror_mode": "shell",
   "file_extension": ".sh",
   "mimetype": "text/x-sh",
   "name": "bash"
  }
 },
 "nbformat": 4,
 "nbformat_minor": 5
}
