{
 "cells": [
  {
   "cell_type": "code",
   "execution_count": 1,
   "id": "6e4f0bbd-bf91-4477-a0c0-0450bbbd822b",
   "metadata": {},
   "outputs": [],
   "source": [
    "# Tips for for new testers of the tomohara aliases (see https://github.com/tomasohara/shell-scripts repo).\n",
    "#\n",
    "# Notes:\n",
    "# - In general, a distinct test is a Jupyter cell with output.\n",
    "#      $ echo \"hola, mundo\"\n",
    "#      hola, mundo\n",
    "# - If you need to do a series of commands for a particular test, use the '# Setup' comment\n",
    "#      # Setup\n",
    "#      echo \"fu\" > /tmp/fu.list\n",
    "# - There is also a global setup, such as for aliases used trhoughout\n",
    "#      # Global setup\n",
    "#      alias num-users=\"who --short | cut -f1 -d' ' | uniq | wc -l\"\n",
    "# - The following Bash aliases are used\n",
    "#     display-macros: show the alias or function definition (helpful for designing clever tests)\n",
    "#     tracs-vars: display values of Bash variables (useful for debugging the tests)\n",
    "# - The following Bash idiom is used and the end of tests:\n",
    "#      [ condition ]; echo $?\n",
    "#   It outputs 0 if and only if the test succeeds. For example,\n",
    "#      [ $count -gt 0]; echo $?\n",
    "#   will output 0 if the count is above 0.\n",
    "# - For more details on this testing paradigm, see <repo>/tests/README.ipynb.\n",
    "# - See <repo>/template.bash for a cheatsheet for common constructs used in the aliases.\n",
    "# - Warning: Bash is a real bear! Be careful not to spend too much learning its cryptic syntax, etc."
   ]
  },
  {
   "cell_type": "code",
   "execution_count": 2,
   "id": "5718e26a-1a98-49e6-a106-5c8131bcd23e",
   "metadata": {},
   "outputs": [],
   "source": [
    "# Global setup\n",
    "# Note: Put any helper aliases for your tests here\n",
    "alias current-time-in-seconds='date +%s'\n",
    "alias num-sleep-processes='ps | grep sleep | wc -l'"
   ]
  },
  {
   "cell_type": "code",
   "execution_count": 3,
   "id": "364865f3-373c-4446-ad7d-3f32ec5607ef",
   "metadata": {},
   "outputs": [],
   "source": [
    "#................................................................................"
   ]
  },
  {
   "cell_type": "code",
   "execution_count": 4,
   "id": "a65eaae5-8a3b-4dfa-8b03-3f8f20e2c2af",
   "metadata": {},
   "outputs": [
    {
     "name": "stdout",
     "output_type": "stream",
     "text": [
      "sleep-for () \n",
      "{ \n",
      "    local sec=\"$1\";\n",
      "    local msg=\"${2:-\"delay for ${sec}s\"}\";\n",
      "    echo \"$msg\";\n",
      "    sleep \"$sec\"\n",
      "}\n",
      "\n"
     ]
    }
   ],
   "source": [
    "# Test sleep-for function\n",
    "#\n",
    "# note: The sleep-for function shows a message and sleeps for a given amount of time.\n",
    "# This test uses the date command to capture elapsed time in seconds to verify sleep-for\n",
    "# works as expected. The main complication comes in the Bash syntax for arithmetic.\n",
    "#\n",
    "## DEBUG\n",
    "display-macros sleep-for"
   ]
  },
  {
   "cell_type": "code",
   "execution_count": 5,
   "id": "d23fe0ea-0688-45d2-8540-1bcc2f3ccdf8",
   "metadata": {},
   "outputs": [
    {
     "name": "stdout",
     "output_type": "stream",
     "text": [
      "delay for 2s\n",
      "time_before=1696576947; time_after=1696576949; time_diff=2; \n"
     ]
    }
   ],
   "source": [
    "# Setup\n",
    "# Make sure 'sleep-for N' sleeeps for at least N seconds\n",
    "#\n",
    "# Sleep for specified seconds \n",
    "time_before=$(current-time-in-seconds)\n",
    "delay=2\n",
    "sleep-for $delay\n",
    "#\n",
    "# Get time difference\n",
    "time_after=$(current-time-in-seconds)\n",
    "time_diff=$(($time_after - $time_before))\n",
    "## DEBUG:\n",
    "trace-vars time_before time_after time_diff 1>&2"
   ]
  },
  {
   "cell_type": "code",
   "execution_count": 6,
   "id": "400d78aa-eb0c-42fb-8bdc-243e62d677d7",
   "metadata": {},
   "outputs": [
    {
     "name": "stdout",
     "output_type": "stream",
     "text": [
      "0\n"
     ]
    }
   ],
   "source": [
    "# Make sure at least required delay\n",
    "[ $time_diff -ge $delay ]; echo $?"
   ]
  },
  {
   "cell_type": "code",
   "execution_count": 7,
   "id": "b967dc5c-efd6-4064-b8e6-06d84addf013",
   "metadata": {},
   "outputs": [
    {
     "name": "stdout",
     "output_type": "stream",
     "text": [
      "alias kill-sleep='kill_em.sh sleep'\n",
      "\n"
     ]
    }
   ],
   "source": [
    "#................................................................................\n",
    "# Test kill-sleep alias\n",
    "#\n",
    "# Note: this alias is simple, but testing it is complicated by the need to put a process \n",
    "# in the background and to ensure that nothing is already sleeping. In addition, the\n",
    "# steps are split across cells to show what is going on. This is why '# Setup' is used.\n",
    "#\n",
    "## DEBUG\n",
    "display-macros kill-sleep"
   ]
  },
  {
   "cell_type": "code",
   "execution_count": 8,
   "id": "19170b73-8b6c-4ba0-adba-886cf53d0e9d",
   "metadata": {},
   "outputs": [
    {
     "name": "stdout",
     "output_type": "stream",
     "text": [
      "0\n"
     ]
    }
   ],
   "source": [
    "# Setup: make sure no sleep processes\n",
    "num-sleep-processes"
   ]
  },
  {
   "cell_type": "code",
   "execution_count": 9,
   "id": "7d73bba8-1441-477b-97b0-840cf957a667",
   "metadata": {},
   "outputs": [
    {
     "name": "stdout",
     "output_type": "stream",
     "text": [
      "[1] 87927\n"
     ]
    }
   ],
   "source": [
    "# Setup: start a sleeping process\n",
    "sleep 30 &"
   ]
  },
  {
   "cell_type": "code",
   "execution_count": 10,
   "id": "fe6b050f-cb69-4b2c-9014-de63c9204227",
   "metadata": {},
   "outputs": [
    {
     "name": "stdout",
     "output_type": "stream",
     "text": [
      "1\n"
     ]
    }
   ],
   "source": [
    "# Setup: make sure 1 sleep process\n",
    "num-sleep-processes"
   ]
  },
  {
   "cell_type": "code",
   "execution_count": 11,
   "id": "bb696409-88c3-4246-b2f2-2301bf07e3b6",
   "metadata": {},
   "outputs": [
    {
     "name": "stdout",
     "output_type": "stream",
     "text": [
      "[1]+  Killed                  sleep 30\n",
      "0\n"
     ]
    }
   ],
   "source": [
    "# Kill the sleep process and make sure none running\n",
    "kill-sleep >| /tmp/kill-sleep-$$.log\n",
    "num_sleeping=$(num-sleep-processes)\n",
    "[ $num_sleeping -eq 0 ]; echo $?"
   ]
  }
 ],
 "metadata": {
  "kernelspec": {
   "display_name": "Bash",
   "language": "bash",
   "name": "bash"
  },
  "language_info": {
   "codemirror_mode": "shell",
   "file_extension": ".sh",
   "mimetype": "text/x-sh",
   "name": "bash"
  }
 },
 "nbformat": 4,
 "nbformat_minor": 5
}
