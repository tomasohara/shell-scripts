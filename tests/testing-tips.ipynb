{
    "cells": [
     {
      "cell_type": "code",
      "execution_count": 1,
      "id": "6e4f0bbd-bf91-4477-a0c0-0450bbbd822b",
      "metadata": {},
      "outputs": [],
      "source": [
       "# Tips for for new testers of the tomohara aliases (see https://github.com/tomasohara/shell-scripts repo).\n",
       "#\n",
       "# Notes:\n",
       "# - In general, a distinct test is a Jupyter cell with output.\n",
       "#      $ echo \"hola, mundo\"\n",
       "#      hola, mundo\n",
       "# - If you need to do a series of commands for a particular test, use the '# Setup' comment\n",
       "#      # Setup\n",
       "#      echo \"fu\" > /tmp/fu.list\n",
       "# - There is also a global setup, such as for aliases used trhoughout\n",
       "#      # Global setup\n",
       "#      alias num-users=\"who --short | cut -f1 -d' ' | uniq | wc -l\"\n",
       "# - The following Bash aliases are used\n",
       "#     display-macros: show the alias or function definition (helpful for designing clever tests)\n",
       "#     tracs-vars: display values of Bash variables (useful for debugging the tests)\n",
       "# - The following Bash idiom is used and the end of tests:\n",
       "#      [ condition ]; echo $?\n",
       "#   It outputs 0 if and only if the test succeeds. For example,\n",
       "#      [ $count -gt 0]; echo $?\n",
       "#   will output 0 if the count is above 0.\n",
       "# - For more details on this testing paradigm, see <repo>/tests/README.ipynb.\n",
       "# - See <repo>/template.bash for a cheatsheet for common constructs used in the aliases.\n",
       "# - Warnings:\n",
       "#   - Comments need to preceed Bash commands (i.e., not intermixed): it is best to use separate cells\n",
       "#     for multi-step sequences.\n",
       "#   - Bash is a real bear! Be careful not to spend too much learning its cryptic syntax, etc."
      ]
     },
     {
      "cell_type": "code",
      "execution_count": 2,
      "id": "5718e26a-1a98-49e6-a106-5c8131bcd23e",
      "metadata": {},
      "outputs": [],
      "source": [
       "# Global setup\n",
       "# Note: Put any helper aliases for your tests here\n",
       "alias current-time-in-seconds='date +%s'\n",
       "alias num-sleep-processes='ps | grep sleep | wc -l'"
      ]
     },
     {
      "cell_type": "code",
      "execution_count": 3,
      "id": "364865f3-373c-4446-ad7d-3f32ec5607ef",
      "metadata": {},
      "outputs": [],
      "source": [
       "#................................................................................"
      ]
     },
     {
      "cell_type": "code",
      "execution_count": 4,
      "id": "a65eaae5-8a3b-4dfa-8b03-3f8f20e2c2af",
      "metadata": {},
      "outputs": [],
      "source": [
       "# Test sleep-for function\n",
       "#\n",
       "# note: The sleep-for function shows a message and sleeps for a given amount of time.\n",
       "# This test uses the date command to capture elapsed time in seconds to verify sleep-for\n",
       "# works as expected. The main complication comes in the Bash syntax for arithmetic.\n",
       "#\n",
       "## DEBUG display-macros sleep-for"
      ]
     },
     {
      "cell_type": "code",
      "execution_count": 5,
      "id": "d23fe0ea-0688-45d2-8540-1bcc2f3ccdf8",
      "metadata": {},
      "outputs": [
       {
        "name": "stdout",
        "output_type": "stream",
        "text": [
         "delay for 2s\n"
        ]
       }
      ],
      "source": [
       "# Setup\n",
       "# Make sure 'sleep-for N' sleeps for at least N seconds\n",
       "#\n",
       "# Sleep for specified seconds \n",
       "time_before=$(current-time-in-seconds)\n",
       "delay=2\n",
       "sleep-for $delay"
      ]
     },
     {
      "cell_type": "code",
      "execution_count": 6,
      "id": "b3acca49-d755-4be0-9dbb-2ceb7c20d928",
      "metadata": {},
      "outputs": [],
      "source": [
       "# Setup\n",
       "# Get time difference\n",
       "time_after=$(current-time-in-seconds)\n",
       "time_diff=$(($time_after - $time_before))"
      ]
     },
     {
      "cell_type": "code",
      "execution_count": 7,
      "id": "976112a2-7110-4c92-b711-9db7cec9c8b4",
      "metadata": {},
      "outputs": [
       {
        "name": "stdout",
        "output_type": "stream",
        "text": [
         "time_before=1698539884; time_after=1698539886; time_diff=2; \n"
        ]
       }
      ],
      "source": [
       "## DEBUG: trace-vars time_before time_after time_diff 1>&2"
      ]
     },
     {
      "cell_type": "code",
      "execution_count": 8,
      "id": "1d057acd-ef39-41d6-9947-64aa86553062",
      "metadata": {},
      "outputs": [
       {
        "name": "stdout",
        "output_type": "stream",
        "text": [
         "0\n"
        ]
       }
      ],
      "source": [
       "# Make sure at least required delay\n",
       "[ $time_diff -ge $delay ]; echo $?"
      ]
     },
     {
      "cell_type": "code",
      "execution_count": 9,
      "id": "b967dc5c-efd6-4064-b8e6-06d84addf013",
      "metadata": {},
      "outputs": [],
      "source": [
       "#................................................................................\n",
       "# Test kill-sleep alias\n",
       "#\n",
       "# Note: this alias is simple, but testing it is complicated by the need to put a process \n",
       "# in the background and to ensure that nothing is already sleeping. In addition, the\n",
       "# steps are split across cells to show what is going on. This is why '# Setup' is used.\n",
       "#\n",
       "## DEBUG: display-macros kill-sleep"
      ]
     },
     {
      "cell_type": "code",
      "execution_count": 10,
      "id": "19170b73-8b6c-4ba0-adba-886cf53d0e9d",
      "metadata": {},
      "outputs": [
       {
        "name": "stdout",
        "output_type": "stream",
        "text": [
         "0\n"
        ]
       }
      ],
      "source": [
       "# Setup: make sure no sleep processes\n",
       "num-sleep-processes"
      ]
     },
     {
      "cell_type": "code",
      "execution_count": 11,
      "id": "7d73bba8-1441-477b-97b0-840cf957a667",
      "metadata": {},
      "outputs": [
       {
        "name": "stdout",
        "output_type": "stream",
        "text": [
         "[1] 841564\n"
        ]
       }
      ],
      "source": [
       "# Setup: start a sleeping process\n",
       "sleep 10 &"
      ]
     },
     {
      "cell_type": "code",
      "execution_count": 12,
      "id": "fe6b050f-cb69-4b2c-9014-de63c9204227",
      "metadata": {},
      "outputs": [
       {
        "name": "stdout",
        "output_type": "stream",
        "text": [
         "1\n"
        ]
       }
      ],
      "source": [
       "# Output number of sleep processes\n",
       "num-sleep-processes"
      ]
     },
     {
      "cell_type": "code",
      "execution_count": 13,
      "id": "cfb14e20-9146-4582-bdc6-078b8dac7956",
      "metadata": {},
      "outputs": [
       {
        "name": "stdout",
        "output_type": "stream",
        "text": [
         "0\n"
        ]
       }
      ],
      "source": [
       "# Make sure 1 sleep process\n",
       "num_sleeping=$(num-sleep-processes)\n",
       "[ \"$num_sleeping\" -eq 1 ]; echo $?"
      ]
     },
     {
      "cell_type": "code",
      "execution_count": 14,
      "id": "82ec583b-381d-4528-ae2b-283b64556b29",
      "metadata": {},
      "outputs": [
       {
        "name": "stdout",
        "output_type": "stream",
        "text": [
         "[1]+  Killed                  sleep 10\n"
        ]
       }
      ],
      "source": [
       "# Wrapup\n",
       "# Kill the sleep process\n",
       "# note: made part of wrapup as output placement not deterministic\n",
       "kill-sleep >| /tmp/kill-sleep-$$.log 2>&1"
      ]
     },
     {
      "cell_type": "code",
      "execution_count": null,
      "id": "6cd21265-d9e9-46ae-b4b7-7ff007002954",
      "metadata": {},
      "outputs": [],
      "source": []
     }
    ],
    "metadata": {
     "kernelspec": {
      "display_name": "Bash",
      "language": "bash",
      "name": "bash"
     },
     "language_info": {
      "codemirror_mode": "shell",
      "file_extension": ".sh",
      "mimetype": "text/x-sh",
      "name": "bash"
     }
    },
    "nbformat": 4,
    "nbformat_minor": 5
   }