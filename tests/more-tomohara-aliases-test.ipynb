{
 "cells": [
  {
   "cell_type": "code",
   "execution_count": 1,
   "metadata": {},
   "outputs": [],
   "source": [
    "# More tests for tomohara-aliases.bash"
   ]
  },
  {
   "cell_type": "code",
   "execution_count": 2,
   "metadata": {},
   "outputs": [],
   "source": [
    "# Global Setup\n",
    "## TEST: cd /usr/local/misc/programs/bash/shell-scripts-aviyan/tests\n",
    "## For number of digits not being critical\n",
    "alias testnum=\"sed -r \"s/[0-9][0-9]*/N/g\"\"\n",
    "alias testuser=\"sed -r \"s/\"$USER\"+/userxf333/g\"\""
   ]
  },
  {
   "cell_type": "code",
   "execution_count": 3,
   "metadata": {},
   "outputs": [
    {
     "name": "stdout",
     "output_type": "stream",
     "text": [
      "tests\n"
     ]
    }
   ],
   "source": [
    "basename $PWD"
   ]
  },
  {
   "cell_type": "code",
   "execution_count": 4,
   "metadata": {},
   "outputs": [],
   "source": [
    "# Setup temp. dir\n",
    "# note: variable not used in rm as a precaution\n",
    "# BAD: /bin/rm -rf \"/tmp/test-dir-15485863\"\n",
    "\n",
    "## OLD: Used the concept of trash-dir\n",
    "# test_dir=\"/tmp/test-dir-15485863\"\n",
    "# trash_dir=$TMP/\"_temp-trash-$(date \"+%Y%m%d%H%M%S\")\"\n",
    "# mkdir -p \"$test_dir\"\n",
    "# mkdir -p \"$trash_dir\"\n",
    "# command cd \"$test_dir\"\n",
    "\n",
    "\n",
    "TMP=${TMP:-/tmp}\n",
    "if [ \"$DEBUG_LEVEL\" -lt 4 ]; then TMP=/tmp/test-more-tomohara-aliases; fi\n",
    "temp_dir=$TMP/more-tomohara-aliases-test\n",
    "rename-with-file-date \"$temp_dir\"\n",
    "command mkdir -p \"$temp_dir\"\n",
    "command cd \"$temp_dir\""
   ]
  },
  {
   "cell_type": "code",
   "execution_count": 5,
   "metadata": {},
   "outputs": [],
   "source": [
    "#===============================================================================\n",
    "# TODO: find jupyter way to do divider line (or at least bash)"
   ]
  },
  {
   "cell_type": "code",
   "execution_count": 6,
   "metadata": {},
   "outputs": [],
   "source": [
    "# test url-path\n",
    "echo \"<html>This is a HTML file</html>\" > template.html"
   ]
  },
  {
   "cell_type": "code",
   "execution_count": 7,
   "metadata": {},
   "outputs": [
    {
     "name": "stdout",
     "output_type": "stream",
     "text": [
      "template.html\n"
     ]
    }
   ],
   "source": [
    "## OLD\n",
    "# ls ../*.html\n",
    "command ls *.html"
   ]
  },
  {
   "cell_type": "code",
   "execution_count": 8,
   "metadata": {},
   "outputs": [],
   "source": [
    "dir=$(realpath \"..\")\n",
    "## OLD: Seperated to next cell\n",
    "# url-path ../template.html | perl -pe \"s@$dir@/x/y/z@;\""
   ]
  },
  {
   "cell_type": "code",
   "execution_count": 9,
   "metadata": {},
   "outputs": [],
   "source": [
    "url-path ../template.html | perl -pe \"s@$dir@/x/y/z@;\" > url_path.out"
   ]
  },
  {
   "cell_type": "code",
   "execution_count": 10,
   "metadata": {},
   "outputs": [
    {
     "name": "stdout",
     "output_type": "stream",
     "text": [
      "True\n"
     ]
    }
   ],
   "source": [
    "cat url_path.out | grep -q \"file:////x/y/z/template.html\" && echo \"True\" || echo \"False\""
   ]
  },
  {
   "cell_type": "code",
   "execution_count": 11,
   "metadata": {},
   "outputs": [],
   "source": [
    "# # Test dir alias \n",
    "# # note: time-dependent details changed\n",
    "umask ug=rwx,o=r\n",
    "\n",
    "## OLD: Seperated to cells\n",
    "# mkdir abc def\n",
    "# touch ghi jkl\n",
    "# echo > mno\n",
    "# dir | perl -pe \"s/ (\\d+) [\\w ]{2,8}/ \\1 username /; s/\\w\\w\\w \\d+ \\d\\d:\\d\\d/mon \\1 hh:mm/;\";"
   ]
  },
  {
   "cell_type": "code",
   "execution_count": 12,
   "metadata": {},
   "outputs": [],
   "source": [
    "mkdir abc def\n",
    "touch ghi jkl\n",
    "echo > mno"
   ]
  },
  {
   "cell_type": "code",
   "execution_count": 13,
   "metadata": {
    "scrolled": true
   },
   "outputs": [],
   "source": [
    "# dir | perl -pe \"s/ (\\d+) [\\w ]{2,8}/ \\1 username /; s/\\w\\w\\w \\d+ \\d\\d:\\d\\d/mon \\1 hh:mm/;\"\n",
    "dir | perl -pe \"s/ (\\d+) [\\w ]{2,8}/ \\1 username /; s/\\w\\w\\w \\d+ \\d\\d:\\d\\d/mon \\1 hh:mm/;\" > dir_perl.out"
   ]
  },
  {
   "cell_type": "code",
   "execution_count": 14,
   "metadata": {},
   "outputs": [
    {
     "name": "stdout",
     "output_type": "stream",
     "text": [
      "-rw-rw-r-- N username er    N mon  hh:mm mno\n"
     ]
    }
   ],
   "source": [
    "cat dir_perl.out | head -n 4 | tail -n 1 | testnum"
   ]
  },
  {
   "cell_type": "code",
   "execution_count": 15,
   "metadata": {},
   "outputs": [
    {
     "name": "stdout",
     "output_type": "stream",
     "text": [
      "END\n"
     ]
    }
   ],
   "source": [
    "# Remove everything after use\n",
    "## OLD: command mv -f * \"$trash_dir\"\n",
    "echo \"END\""
   ]
  }
 ],
 "metadata": {
  "kernelspec": {
   "display_name": "Bash",
   "language": "bash",
   "name": "bash"
  },
  "language_info": {
   "codemirror_mode": "shell",
   "file_extension": ".sh",
   "mimetype": "text/x-sh",
   "name": "bash"
  }
 },
 "nbformat": 4,
 "nbformat_minor": 4
}
