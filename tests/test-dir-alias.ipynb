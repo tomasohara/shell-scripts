{
 "cells": [
  {
   "cell_type": "code",
   "execution_count": 1,
   "id": "49caebb2",
   "metadata": {},
   "outputs": [],
   "source": [
    "## SETUP (OPTIONAL - USE IF REQUIRED)\n",
    "## Bracketed Paste is disabled to prevent characters after output\n",
    "## Example: \n",
    "## $ echo 'Hii'\n",
    "## | Hi?2004l\n",
    "# bind 'set enable-bracketed-paste off'"
   ]
  },
  {
   "cell_type": "code",
   "execution_count": 2,
   "id": "bf51aad6",
   "metadata": {},
   "outputs": [
    {
     "name": "stdout",
     "output_type": "stream",
     "text": [
      "0\n"
     ]
    }
   ],
   "source": [
    "## TEST:  Make sure simple prompt used (e.g., no escapes that might contaminate output)\n",
    "## PS1=\"$ \"\n",
    "## TODO: PS1=\"> \"\n",
    "## NOTE: The Jupyter bash kernel requires that PS1 not be modified as they customize it. \n",
    "## OLD:\n",
    "# echo $PS1\n",
    "# OLD ATTEMPT: echo $PS1 | tail -c 2 returns >\n",
    "\n",
    "# OLD: echo $PS1\n",
    "actual=${PS1: -1}\n",
    "[ \"$actual\" = \">\" ]; echo $?"
   ]
  },
  {
   "cell_type": "code",
   "execution_count": 3,
   "id": "51f6221f",
   "metadata": {},
   "outputs": [],
   "source": [
    "# Global Setup\n",
    "## For number of digits not being critical\n",
    "alias testnum=\"sed -r \"s/[0-9][0-9]*/N/g\"\""
   ]
  },
  {
   "cell_type": "code",
   "execution_count": 4,
   "id": "a52f6603",
   "metadata": {},
   "outputs": [],
   "source": [
    "## BAD\n",
    "# # Delete all aliases and function\n",
    "# # TODO: Instead start from pristine environment\n",
    "# unalias -a\n",
    "# alias | wc -l\n",
    "# for f in $(typeset -f | egrep '^\\w+'); do unset -f $f; done\n",
    "# typeset -f | egrep '^\\w+' | wc -l"
   ]
  },
  {
   "cell_type": "code",
   "execution_count": 5,
   "id": "025265a3",
   "metadata": {},
   "outputs": [
    {
     "name": "stdout",
     "output_type": "stream",
     "text": [
      "0\n"
     ]
    }
   ],
   "source": [
    "## NOTE: All directory references should be standard directories\n",
    "## (e.g., /home/xaea12/bin => /tmp/test-alias/bin). \n",
    "## In addition, avoid using personal directories to help weed out local usages\n",
    "\n",
    "## OLD: AVEE_BIN=/home/xaea12/bin\n",
    "# SPECIFYING AN IDENTIFIER FOR TMP\n",
    "## OLD: TMP=temp/tmp\n",
    "TMP=/tmp/test-dir-aliases\n",
    "\n",
    "## NOTE: Source it directly from the ./tests directory.\n",
    "BIN_DIR=$PWD/..\n",
    "## You will need to run jupyter from that directory.\n",
    "## source $TEMP_BIN/_dir-aliases.bash\n",
    "\n",
    "## OLD\n",
    "# source _dir-aliases.bash\n",
    "# alias | wc -l\n",
    "[ \"$BIN_DIR\" != \"$PWD\" ]; echo $?"
   ]
  },
  {
   "cell_type": "code",
   "execution_count": 6,
   "id": "e6048986",
   "metadata": {},
   "outputs": [
    {
     "name": "stdout",
     "output_type": "stream",
     "text": [
      "0\n"
     ]
    }
   ],
   "source": [
    "## OLD\n",
    "## Count aliases proper\n",
    "# alias | wc -l\n",
    "# alias | { [ $(wc -l < /dev/stdin) -ne 0 ]; echo $?; }\n",
    "\n",
    "[ \"$(alias | wc -l)\" -ne 0 ]; echo $?"
   ]
  },
  {
   "cell_type": "code",
   "execution_count": 7,
   "id": "4617f706",
   "metadata": {},
   "outputs": [
    {
     "name": "stdout",
     "output_type": "stream",
     "text": [
      "0\n"
     ]
    }
   ],
   "source": [
    "## OLD\n",
    "## Count functions\n",
    "# typeset -f | egrep '^\\w+' | wc -l\n",
    "\n",
    "# typeset -f | egrep '^\\w+' | { [ $(wc -l < /dev/stdin) -ne 0 ]; echo $?; }\n",
    "[ \"$(typeset -f | egrep '^\\w+' | wc -l)\" -ne 0 ]; echo $?"
   ]
  },
  {
   "cell_type": "code",
   "execution_count": 8,
   "id": "a83d74be",
   "metadata": {},
   "outputs": [],
   "source": [
    "## NOTE: For reproducability, the directory name needs to be fixed\n",
    "## In place of $$, use a psuedo random number (e,g., 7919)\n",
    "## *** All output from one run to the next needs to be the same ***\n",
    "\n",
    "# Test safe symbolic links\n",
    "## temp_dir=$TMP/test-$$\n",
    "# OLD: temp_dir=$TMP/test-7919\n",
    "\n",
    "TMP=${TMP:-/tmp}\n",
    "temp_dir=$TMP/trace-extensionless-shortcut-v2\n",
    "\n",
    "## OLD \n",
    "# mkdir -p \"$temp_dir\"\n",
    "rename-with-file-date \"$temp_dir\" > /dev/null\n",
    "command mkdir -p \"$temp_dir\"\n",
    "# TODO: /bin/rm -rvf \"$temp_dir\"\n",
    "## OLD\n",
    "# cd \"$temp_dir\"\n",
    "command cd \"$temp_dir\"\n",
    "\n",
    "## OLD\n",
    "# pwd"
   ]
  },
  {
   "cell_type": "code",
   "execution_count": 9,
   "id": "2cf5e78c",
   "metadata": {},
   "outputs": [],
   "source": [
    "# Clean up temp dir\n",
    "#\n",
    "# NOTE: To place it safe, the directory path is reproduced here.\n",
    "# IN addition, the output is omitted.\n",
    "\n",
    "## OLD: /bin/rm -rvf \"$temp_dir\"/*\n",
    "\n",
    "# BAD: Remove the user of trashdir\n",
    "# /bin/rm -rvf /tmp/test-dir-aliases/test-7919/* >| /tmp/_cleanup-test-dir-aliases.log 2>&1"
   ]
  },
  {
   "cell_type": "code",
   "execution_count": 10,
   "id": "03acd9e4",
   "metadata": {},
   "outputs": [],
   "source": [
    "## OLD\n",
    "# # The first case succeed\n",
    "# touch file1\n",
    "# ln-symbolic file1 link1\n",
    "# # 'link1' -> 'file1'\n",
    "\n",
    "# # The second case should should fail\n",
    "# ln-symbolic file1 link1\n",
    "# # => \"ln: failed to create symbolic link 'link1': File exists?\"\n",
    "\n",
    "# # Should only be four files total (along with . and ..)\n",
    "# ls -R | wc -l\n",
    "# # => 3"
   ]
  },
  {
   "cell_type": "code",
   "execution_count": 11,
   "id": "ea266c6d",
   "metadata": {},
   "outputs": [
    {
     "name": "stdout",
     "output_type": "stream",
     "text": [
      "0\n"
     ]
    }
   ],
   "source": [
    "# The first case succeed\n",
    "touch file1\n",
    "ln-symbolic file1 link1 > /dev/null\n",
    "[ -h link1 ]; echo $?"
   ]
  },
  {
   "cell_type": "code",
   "execution_count": 12,
   "id": "f6a81cd1",
   "metadata": {},
   "outputs": [],
   "source": [
    "# # The second case should should fail\n",
    "# $ ln-symbolic file1 link1\n",
    "# | ln: failed to create symbolic link 'link1': File exists"
   ]
  },
  {
   "cell_type": "code",
   "execution_count": 13,
   "id": "de07d2f9",
   "metadata": {},
   "outputs": [
    {
     "name": "stdout",
     "output_type": "stream",
     "text": [
      "0\n"
     ]
    }
   ],
   "source": [
    "# Should only be four files total (along with . and ..)\n",
    "# OLD: ls -R | wc -l\n",
    "[ \"$(ls -l | wc -l)\" -eq 3 ]; echo $?"
   ]
  },
  {
   "cell_type": "code",
   "execution_count": 14,
   "id": "8cdb8526",
   "metadata": {
    "scrolled": true
   },
   "outputs": [],
   "source": [
    "# FYI: the current aliases and functions\n",
    "## OLD: cat $AVEE_BIN/_dir-aliases.bash\n",
    "\n",
    "## ERROR PRONE COMMAND (BATSPP) - WORKS FINE\n",
    "# cat $BIN_DIR/tests/_dir-aliases.bash\n",
    "\n",
    "## TODO: convert this to inline comments (to avoid clutter in the output)"
   ]
  },
  {
   "cell_type": "code",
   "execution_count": 15,
   "id": "c56d7627",
   "metadata": {},
   "outputs": [],
   "source": [
    "## BAD\n",
    "# bash $BIN_DIR/tests/_dir-aliases.bash"
   ]
  },
  {
   "cell_type": "code",
   "execution_count": 16,
   "id": "d349511a",
   "metadata": {},
   "outputs": [
    {
     "name": "stdout",
     "output_type": "stream",
     "text": [
      "0\n"
     ]
    }
   ],
   "source": [
    "## Note: to make reproducible, only show pemrissions and the file info shown at end,\n",
    "## omitting details like the user and time that could be different.\n",
    "##\n",
    "## $ cd test-7919\n",
    "## /tmp/test-dir-aliases/test-7919\n",
    "##\n",
    "## $ ls -l\n",
    "## total 0\n",
    "## -rw-rw-r-- 1 tomohara tomohara 0 Jun 12 18:48 file1\n",
    "## lrwxrwxrwx 1 tomohara tomohara 5 Jun 12 18:48 link1 -> file1\n",
    "##\n",
    "## $ echo 123456789-123456789-123456789-123456789-123456789-123456789-123456789-\n",
    "## 123456789-123456789-123456789-123456789-123456789-123456789-123456789-\n",
    "##\n",
    "## # ls -l | cut --characters=12-46 --complement\n",
    "## total 0\n",
    "## -rw-rw-r-- file1\n",
    "## lrwxrwxrwx link1 -> file1\n",
    "\n",
    "## OLD: \n",
    "# ls -l\n",
    "# command ls\n",
    "\n",
    "# ls -l | cut --characters=12-46 --complement\n",
    "[ -n \"$(ls -l | cut --characters=12-46 --complement | grep \"link1 -> file1\")\" ]; echo $?"
   ]
  },
  {
   "cell_type": "code",
   "execution_count": 17,
   "id": "75b34acf",
   "metadata": {},
   "outputs": [
    {
     "name": "stdout",
     "output_type": "stream",
     "text": [
      "0\n"
     ]
    }
   ],
   "source": [
    "ln-symbolic /tmp temp-link > /dev/null\n",
    "[ -n \"$(ls -l | cut --characters=12-46 --complement | grep \"temp-link -> /tmp\")\" ]; echo $?"
   ]
  },
  {
   "cell_type": "code",
   "execution_count": 18,
   "id": "fe083afe",
   "metadata": {},
   "outputs": [],
   "source": [
    "## OLD: Shifted to cell above\n",
    "# ls -l\n",
    "# command ls\n",
    "# ls -l | cut --characters=12-46 --complement"
   ]
  },
  {
   "cell_type": "code",
   "execution_count": 19,
   "id": "92e3158b",
   "metadata": {},
   "outputs": [
    {
     "name": "stdout",
     "output_type": "stream",
     "text": [
      "0\n"
     ]
    }
   ],
   "source": [
    "link-symbolic-safe --force /tmp/tmp temp-link > /dev/null\n",
    "[ -n \"$(ls -l | cut --characters=12-46 --complement | grep \"temp-link -> /tmp/tmp\")\" ]; echo $?"
   ]
  },
  {
   "cell_type": "code",
   "execution_count": 20,
   "id": "b84ff56c",
   "metadata": {},
   "outputs": [],
   "source": [
    "## OLD: Shifted to cell above\n",
    "# ls -l\n",
    "# command ls\n",
    "# ls -l | cut --characters=12-46 --complement "
   ]
  },
  {
   "cell_type": "code",
   "execution_count": 21,
   "id": "e867fdf5",
   "metadata": {},
   "outputs": [],
   "source": [
    "# Global Setup\n",
    "alias ln-symbolic-force='ln-symbolic --force'"
   ]
  },
  {
   "cell_type": "code",
   "execution_count": 22,
   "id": "18d748bf",
   "metadata": {},
   "outputs": [],
   "source": [
    "# # SINCE temp-link EXISTS, THE COMMAND FAILS\n",
    "# $ ln-symbolic /tmp temp-link\n",
    "# | ln: failed to create symbolic link 'temp-link': File exists\n"
   ]
  },
  {
   "cell_type": "code",
   "execution_count": 23,
   "id": "45c7253b",
   "metadata": {},
   "outputs": [
    {
     "name": "stdout",
     "output_type": "stream",
     "text": [
      "0\n"
     ]
    }
   ],
   "source": [
    "## OLD: Doesn't count as success when tested\n",
    "# ln-symbolic-force /tmp temp-link > /dev/null\n",
    "# [ $? -eq 0 ]; echo $?\n",
    "ln-symbolic-force /tmp temp-link > /dev/null\n",
    "[ -n \"$(ls -l | grep \"temp-link -> /tmp\")\" ]; echo $?"
   ]
  },
  {
   "cell_type": "code",
   "execution_count": 24,
   "id": "0aec5836",
   "metadata": {},
   "outputs": [
    {
     "name": "stdout",
     "output_type": "stream",
     "text": [
      "0\n"
     ]
    }
   ],
   "source": [
    "## OLD: Doesn't count as success when tested\n",
    "# link-symbolic-safe --force /tmp/tmp temp-link > /dev/null\n",
    "# [ $? -eq 0 ]; echo $?\n",
    "link-symbolic-safe --force /tmp/tmp temp-link > /dev/null\n",
    "[ -n \"$(ls -l | grep \"temp-link -> /tmp/tmp\")\" ]; echo $?"
   ]
  },
  {
   "cell_type": "code",
   "execution_count": 25,
   "id": "b4742a89",
   "metadata": {
    "scrolled": true
   },
   "outputs": [],
   "source": [
    "## OLD: \n",
    "# ls -l\n",
    "# command ls\n",
    "# ls -l | cut --characters=12-46 --complement\n",
    "\n",
    "## OLD: Assertion performed on cell 23, 24\n",
    "# [ -n \"$(ls -l | cut --characters=12-46 --complement | grep -e \"link1 -> file1\" -e \"temp-link -> /tmp/tmp\")\" ]; echo $?"
   ]
  }
 ],
 "metadata": {
  "kernelspec": {
   "display_name": "Bash",
   "language": "bash",
   "name": "bash"
  },
  "language_info": {
   "codemirror_mode": "shell",
   "file_extension": ".sh",
   "mimetype": "text/x-sh",
   "name": "bash"
  }
 },
 "nbformat": 4,
 "nbformat_minor": 5
}
