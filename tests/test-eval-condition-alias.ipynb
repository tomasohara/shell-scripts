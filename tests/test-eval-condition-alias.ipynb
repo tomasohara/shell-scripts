{
 "cells": [
  {
   "cell_type": "code",
   "execution_count": 1,
   "metadata": {
    "vscode": {
     "languageId": "shellscript"
    }
   },
   "outputs": [
    {
     "name": "stdout",
     "output_type": "stream",
     "text": [
      "Hello World\n"
     ]
    }
   ],
   "source": [
    "## TEST: Make sure command is executed when condition is evaluated to true\n",
    "eval-condition \"True\" --exec \"echo 'Hello World'\""
   ]
  },
  {
   "cell_type": "code",
   "execution_count": 2,
   "metadata": {
    "vscode": {
     "languageId": "shellscript"
    }
   },
   "outputs": [
    {
     "name": "stdout",
     "output_type": "stream",
     "text": [
      "\n"
     ]
    }
   ],
   "source": [
    "## TEST: Make sure command is not executed when condition is evaluated to false\n",
    "eval-condition \"False\" --exec \"echo 'Hello World'\""
   ]
  },
  {
   "cell_type": "code",
   "execution_count": 3,
   "metadata": {
    "vscode": {
     "languageId": "shellscript"
    }
   },
   "outputs": [
    {
     "name": "stdout",
     "output_type": "stream",
     "text": [
      "Evaluation of condition '0==(4*1)': False\n",
      "\n"
     ]
    }
   ],
   "source": [
    "## TEST: Make sure condition evaluation result is printed when --verbose is specified\n",
    "eval-condition \"0==(4*1)\" --verbose --exec \"echo 'Hello World'\""
   ]
  },
  {
   "cell_type": "code",
   "execution_count": 7,
   "metadata": {
    "vscode": {
     "languageId": "shellscript"
    }
   },
   "outputs": [
    {
     "name": "stdout",
     "output_type": "stream",
     "text": [
      "Processing entire input\n",
      "Evaluation of condition '10 < len(stdin.splitlines()) < 40': False\n",
      "False\n"
     ]
    }
   ],
   "source": [
    "## TEST: Make sure the stdin is replaced in the condition\n",
    "ls / | eval-condition \"10 < len(stdin.splitlines()) < 40\" --verbose"
   ]
  },
  {
   "cell_type": "code",
   "execution_count": null,
   "metadata": {
    "vscode": {
     "languageId": "shellscript"
    }
   },
   "outputs": [],
   "source": []
  }
 ],
 "metadata": {
  "kernelspec": {
   "display_name": "Bash",
   "language": "bash",
   "name": "bash"
  },
  "language_info": {
   "codemirror_mode": "shell",
   "file_extension": ".sh",
   "mimetype": "text/x-sh",
   "name": "bash"
  }
 },
 "nbformat": 4,
 "nbformat_minor": 2
}
