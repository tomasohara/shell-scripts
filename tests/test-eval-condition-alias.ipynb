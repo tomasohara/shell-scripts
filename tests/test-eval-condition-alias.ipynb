{
 "cells": [
  {
   "cell_type": "code",
   "execution_count": 1,
   "metadata": {
    "vscode": {
     "languageId": "shellscript"
    }
   },
   "outputs": [
    {
     "name": "stdout",
     "output_type": "stream",
     "text": [
      "True\n"
     ]
    }
   ],
   "source": [
    "## TEST: Make sure command is executed when condition is evaluated to true\n",
    "eval-condition \"1 > 0\""
   ]
  },
  {
   "cell_type": "code",
   "execution_count": 2,
   "metadata": {
    "vscode": {
     "languageId": "shellscript"
    }
   },
   "outputs": [
    {
     "name": "stdout",
     "output_type": "stream",
     "text": [
      "\n"
     ]
    }
   ],
   "source": [
    "## TEST: Make sure command is not executed when condition is evaluated to false\n",
    "eval-condition \"False\" --exec \"echo 'This should not be printed'\""
   ]
  },
  {
   "cell_type": "code",
   "execution_count": 3,
   "metadata": {
    "vscode": {
     "languageId": "shellscript"
    }
   },
   "outputs": [
    {
     "name": "stdout",
     "output_type": "stream",
     "text": [
      "Evaluation of condition 'not True': False\n",
      "\n"
     ]
    }
   ],
   "source": [
    "## TEST: Make sure condition evaluation result is printed when --verbose is specified\n",
    "eval-condition \"not True\" --verbose --exec \"echo 'This should not be printed'\""
   ]
  },
  {
   "cell_type": "code",
   "execution_count": 4,
   "metadata": {
    "vscode": {
     "languageId": "shellscript"
    }
   },
   "outputs": [
    {
     "name": "stdout",
     "output_type": "stream",
     "text": [
      "Processing entire input\n",
      "True\n"
     ]
    }
   ],
   "source": [
    "## TEST: Make sure the stdin is replaced in the condition\n",
    "ls . | eval-condition \"10 < len(stdin.splitlines()) <= 90\""
   ]
  }
 ],
 "metadata": {
  "kernelspec": {
   "display_name": "Bash",
   "language": "bash",
   "name": "bash"
  },
  "language_info": {
   "codemirror_mode": "shell",
   "file_extension": ".sh",
   "mimetype": "text/x-sh",
   "name": "bash"
  }
 },
 "nbformat": 4,
 "nbformat_minor": 2
}
