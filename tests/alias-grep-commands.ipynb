{
 "cells": [
  {
   "cell_type": "code",
   "execution_count": 1,
   "id": "9a234961",
   "metadata": {},
   "outputs": [],
   "source": [
    "## SETUP (OPTIONAL - USE IF REQUIRED)\n",
    "## Bracketed Paste is disabled to prevent characters after output\n",
    "## Example: \n",
    "## $ echo 'Hii'\n",
    "## | Hi?2004l\n",
    "# bind 'set enable-bracketed-paste off'"
   ]
  },
  {
   "cell_type": "code",
   "execution_count": 2,
   "id": "36ea45cf",
   "metadata": {},
   "outputs": [
    {
     "name": "stdout",
     "output_type": "stream",
     "text": [
      "0\n"
     ]
    }
   ],
   "source": [
    "## TEST:  Make sure simple prompt used (e.g., no escapes that might contaminate output)\n",
    "## PS1=\"$ \"\n",
    "## TODO: PS1=\"> \"\n",
    "\n",
    "## NOTE: The Jupyter bash kernel requires that PS1 not be modified as they customize it.\n",
    "# echo \"TODO:\"\n",
    "# echo \"  echo \\\"\\$PS1\\\" | command grep --count --perl-regexp '[\\x00-\\x1f]'\"\n",
    "\n",
    "actual=${PS1: -1}\n",
    "[ \"$actual\" = \">\" ]; echo $?"
   ]
  },
  {
   "cell_type": "code",
   "execution_count": 3,
   "id": "118f4d68",
   "metadata": {},
   "outputs": [
    {
     "name": "stdout",
     "output_type": "stream",
     "text": [
      "0\n"
     ]
    }
   ],
   "source": [
    "# Setting a temp directory for tests\n",
    "[ \"$DEBUG_LEVEL\" -lt 4 ]; echo \"$?\""
   ]
  },
  {
   "cell_type": "code",
   "execution_count": 4,
   "id": "58f47ac9",
   "metadata": {},
   "outputs": [],
   "source": [
    "# Global Setup\n",
    "\n",
    "## Aliases for censoring username and/or numbers\n",
    "alias testnum=\"sed -r \"s/[0-9]/N/g\"\" \n",
    "alias testuser=\"sed -r \"s/\"$USER\"+/userxf333/g\"\"\n",
    "alias testuserpath=\"sed 's|/home/[^/]\\+/|USER_PATH/|'\"\n",
    "alias linebr=\"printf '%132s\\n' ' ' | tr ' ' '-'\""
   ]
  },
  {
   "cell_type": "code",
   "execution_count": 5,
   "id": "482c3dcb",
   "metadata": {},
   "outputs": [
    {
     "name": "stdout",
     "output_type": "stream",
     "text": [
      "renamed '/tmp/test-grep-commands/alias-grep-commands' -> '/tmp/test-grep-commands/alias-grep-commands.16Apr24.9'\n"
     ]
    }
   ],
   "source": [
    "# Global setup\n",
    "\n",
    "## Setting a temp directory for tests\n",
    "## NOTE: If debugging uses $TMP\n",
    "## Use of rm command is heavily discouraged, use move to $trash_dir instead\n",
    "\n",
    "TMP=${TMP:-/tmp}\n",
    "if [ \"$DEBUG_LEVEL\" -lt 4 ]; then TMP=/tmp/test-grep-commands; fi\n",
    "\n",
    "## OLD: Used the concept of trash-dir, instead use unique temp_dirs\n",
    "# temp_dir=$TMP/test-7371\n",
    "# trash_dir=$TMP/\"_temp-trash-$(date \"+%Y%m%d%H%M%S\")\"\n",
    "# command mkdir -p $temp_dir\n",
    "# command mkdir -p $trash_dir\n",
    "# command cd $temp_dir\n",
    "\n",
    "temp_dir=$TMP/alias-grep-commands\n",
    "rename-with-file-date \"$temp_dir\"\n",
    "command mkdir -p \"$temp_dir\"\n",
    "command cd \"$temp_dir\""
   ]
  },
  {
   "cell_type": "code",
   "execution_count": 6,
   "id": "ab6448b5",
   "metadata": {},
   "outputs": [
    {
     "name": "stdout",
     "output_type": "stream",
     "text": [
      "0\n"
     ]
    }
   ],
   "source": [
    "## Count aliases w/ -dir in name\n",
    "\n",
    "## Example:\n",
    "##   $ alias | egrep '\\-dir\\b' | wc -l\n",
    "##   29\n",
    "\n",
    "dir_aliases=$(alias | egrep '\\-dir\\b' | wc -l)\n",
    "[ \"$dir_aliases\" -gt 20 ]; echo \"$?\""
   ]
  },
  {
   "cell_type": "code",
   "execution_count": 7,
   "id": "4eb0b066",
   "metadata": {},
   "outputs": [
    {
     "name": "stdout",
     "output_type": "stream",
     "text": [
      "0\n"
     ]
    }
   ],
   "source": [
    "## Count functions w/ -dir in name\n",
    "\n",
    "## Example:\n",
    "## $ typeset -f | egrep '^\\w+' | wc -l\n",
    "## | 474\n",
    "\n",
    "dir_functions=$(typeset -f | egrep '\\-dir\\b' | wc -l)\n",
    "[ \"$dir_functions\" -gt 35 ]; echo \"$?\""
   ]
  },
  {
   "cell_type": "code",
   "execution_count": 8,
   "id": "993a90d3",
   "metadata": {},
   "outputs": [],
   "source": [
    "## BAD\n",
    "# source $BIN_DIR/tomohara-aliases.bash"
   ]
  },
  {
   "cell_type": "code",
   "execution_count": 9,
   "id": "37c6221e",
   "metadata": {},
   "outputs": [
    {
     "name": "stdout",
     "output_type": "stream",
     "text": [
      "grep (GNU grep) 3.7\n"
     ]
    }
   ],
   "source": [
    "grep_ver=$(grep -V | head -n 1 | tail )\n",
    "echo $grep_ver"
   ]
  },
  {
   "cell_type": "code",
   "execution_count": 10,
   "id": "135998e6",
   "metadata": {},
   "outputs": [],
   "source": [
    "# Global Setup\n",
    "\n",
    "## SETTING UP FOR GREP TEST\n",
    "## BAD: rm -rf ./* > /dev/null\n",
    "# Not recommended as not contents in directory: mv -f ./* $trash_dir\n",
    "\n",
    "# THE WORD TO BE TESTED - sensitive\n",
    "command mkdir testdir1 testdir2\n",
    "echo \"As grep commands are case sensitive, one of the most useful operators for grep searches as they are sensitive is -i. Instead of printing lowercase results only, the terminal displays both uppercase and lowercase results. The output includes lines with mixed case entries.\n",
    "\" > testgrep1\n",
    "echo \"sensitive sensitive sensitive Sensitive SENSITIVE lorem ipsum\" > testgrep2\n",
    "echo \"no mentions here\" > testgrep3\n",
    "echo \"Passwords are generally case sensitive\" > testgrep4\n",
    "printf \"Non ASCII: Ñ\\nNext\\nNon ASCII: §\" > testgrep5\n"
   ]
  },
  {
   "cell_type": "code",
   "execution_count": 11,
   "id": "f906642e",
   "metadata": {},
   "outputs": [
    {
     "name": "stdout",
     "output_type": "stream",
     "text": [
      "\u001b[35m\u001b[Ktestgrep1\u001b[m\u001b[K\u001b[36m\u001b[K:\u001b[m\u001b[KAs grep commands are case \u001b[01;31m\u001b[Ksensitive\u001b[m\u001b[K, one of the most useful operators for grep searches as they are \u001b[01;31m\u001b[Ksensitive\u001b[m\u001b[K is -i. Instead of printing lowercase results only, the terminal displays both uppercase and lowercase results. The output includes lines with mixed case entries.\n",
      "\u001b[35m\u001b[Ktestgrep2\u001b[m\u001b[K\u001b[36m\u001b[K:\u001b[m\u001b[K\u001b[01;31m\u001b[Ksensitive\u001b[m\u001b[K \u001b[01;31m\u001b[Ksensitive\u001b[m\u001b[K \u001b[01;31m\u001b[Ksensitive\u001b[m\u001b[K Sensitive SENSITIVE lorem ipsum\n",
      "\u001b[35m\u001b[Ktestgrep4\u001b[m\u001b[K\u001b[36m\u001b[K:\u001b[m\u001b[KPasswords are generally case \u001b[01;31m\u001b[Ksensitive\u001b[m\u001b[K\n"
     ]
    }
   ],
   "source": [
    "## TEST-2: TESTING GREP ALIASES\n",
    "\n",
    "# 0) grep \n",
    "grep sensitive testgrep1 testgrep2 testgrep3 testgrep4\n",
    "\n",
    "## OLD\n",
    "# linebr\n",
    "# # A) gu (grep-unique i-)\n",
    "# gu sensitive testgrep1 testgrep2 testgrep3 testgrep4\n",
    "# linebr\n",
    "# # B) gu- (grep-unique)\n",
    "# gu- sensitive testgrep1 testgrep2 testgrep3 testgrep4\n",
    "# linebr\n",
    "# # C) grepl- (grep-to-less)\n",
    "# grepl- \"sensitive\" testgrep1 testgrep2 testgrep3 testgrep4 | wc -l\n",
    "# # NOTE: wc -l is pipelined as command goes to a loop"
   ]
  },
  {
   "cell_type": "code",
   "execution_count": 12,
   "id": "b209fa0d",
   "metadata": {},
   "outputs": [
    {
     "name": "stdout",
     "output_type": "stream",
     "text": [
      "testgrep4:1\n",
      "testgrep2:1\n",
      "testgrep1:1\n"
     ]
    }
   ],
   "source": [
    "# A) gu (grep-unique i-)\n",
    "gu sensitive testgrep1 testgrep2 testgrep3 testgrep4"
   ]
  },
  {
   "cell_type": "code",
   "execution_count": 13,
   "id": "66375e3e",
   "metadata": {},
   "outputs": [
    {
     "name": "stdout",
     "output_type": "stream",
     "text": [
      "testgrep4:1\n",
      "testgrep2:1\n",
      "testgrep1:1\n"
     ]
    }
   ],
   "source": [
    "# B) gu- (grep-unique)\n",
    "gu- sensitive testgrep1 testgrep2 testgrep3 testgrep4"
   ]
  },
  {
   "cell_type": "code",
   "execution_count": 14,
   "id": "4a61dbfa",
   "metadata": {},
   "outputs": [
    {
     "name": "stdout",
     "output_type": "stream",
     "text": [
      "3\n"
     ]
    }
   ],
   "source": [
    "# C) grepl- (grep-to-less)\n",
    "grepl- \"sensitive\" testgrep1 testgrep2 testgrep3 testgrep4 | wc -l"
   ]
  },
  {
   "cell_type": "code",
   "execution_count": 15,
   "id": "690311c9",
   "metadata": {},
   "outputs": [],
   "source": [
    "## Halts test\n",
    "# show-line-context testgrep3"
   ]
  },
  {
   "cell_type": "code",
   "execution_count": 16,
   "id": "c1709353",
   "metadata": {
    "scrolled": true
   },
   "outputs": [
    {
     "name": "stdout",
     "output_type": "stream",
     "text": [
      "1:sensitive sensitive sensitive Sensitive SENSITIVE lorem ipsum\n"
     ]
    }
   ],
   "source": [
    "## OLD\n",
    "cat testgrep2 | gr-less lorem"
   ]
  },
  {
   "cell_type": "code",
   "execution_count": 17,
   "id": "4221570d",
   "metadata": {},
   "outputs": [
    {
     "name": "stdout",
     "output_type": "stream",
     "text": [
      "Non ASCII: Ñ\n",
      "Non ASCII: §\n"
     ]
    }
   ],
   "source": [
    "cat testgrep5 | grep-nonascii"
   ]
  },
  {
   "cell_type": "code",
   "execution_count": 18,
   "id": "76128375",
   "metadata": {},
   "outputs": [],
   "source": [
    "# Need help for: fs-, findgrep, fgr, fgr-py"
   ]
  },
  {
   "cell_type": "code",
   "execution_count": 19,
   "id": "e51dcd01",
   "metadata": {
    "scrolled": true
   },
   "outputs": [
    {
     "name": "stdout",
     "output_type": "stream",
     "text": [
      "-rw-r--r-- N userxfNNN userxfNNN N  NN NN:NN ./ls-alR.list\n",
      "-rw-r--r-- N userxfNNN userxfNNN NN  NN NN:NN ./ls-alR.list.log\n",
      "-rw-r--r-- N userxfNNN userxfNNN N  NN NN:NN ./ls-aR.list\n",
      "-rw-r--r-- N userxfNNN userxfNNN NN  NN NN:NN ./ls-aR.list.log\n"
     ]
    }
   ],
   "source": [
    "prepare-find-files-here | testuser | testnum | awk '!($6=\"\")'\n",
    "# prepare-find-files-here | sed 's|\\([^ ]\\+\\) \\([^ ]\\+\\) \\([^ ]\\+\\) \\([^ ]\\+\\) \\([^ ]\\+\\) \\([^ ]\\+\\) \\([^ ]\\+\\) \\([^ ]\\+\\) \\(.*\\)|\\1 \\6 \\7 \\8|'"
   ]
  },
  {
   "cell_type": "code",
   "execution_count": 20,
   "id": "584ac3a6",
   "metadata": {},
   "outputs": [
    {
     "name": "stdout",
     "output_type": "stream",
     "text": [
      "\u001b[0m\u001b[01;34mbackup\u001b[0m       ls-alR.list.log  ls-aR.list.log  \u001b[01;34mtestdir2\u001b[0m   testgrep2  testgrep4\n",
      "ls-alR.list  ls-aR.list       \u001b[01;34mtestdir1\u001b[0m        testgrep1  testgrep3  testgrep5\n"
     ]
    }
   ],
   "source": [
    "command mkdir backup/\n",
    "ls"
   ]
  },
  {
   "cell_type": "code",
   "execution_count": 21,
   "id": "4da38cda",
   "metadata": {},
   "outputs": [],
   "source": [
    "find-files \"ls*\" | testuser | testnum | awk '!($6=\"\")'"
   ]
  },
  {
   "cell_type": "code",
   "execution_count": 22,
   "id": "f7c048b8",
   "metadata": {},
   "outputs": [],
   "source": [
    "# # Need Help (Non-ending process)\n",
    "# $ find-files- \"testgrep4\" | wc -l"
   ]
  },
  {
   "cell_type": "code",
   "execution_count": 23,
   "id": "1572700d",
   "metadata": {},
   "outputs": [],
   "source": [
    "# # # ISSUE\n",
    "# # $ make-file-listing\n",
    "# | cp: cannot stat 'ls-aR.list': No such file or directory\n",
    "# | chmod: cannot access './backup/ls-aR.list': No such file or directory\n",
    "## BAD: command mv -f * $trash_dir"
   ]
  },
  {
   "cell_type": "code",
   "execution_count": 24,
   "id": "dc3f2836",
   "metadata": {
    "scrolled": false
   },
   "outputs": [
    {
     "name": "stdout",
     "output_type": "stream",
     "text": [
      "END\n"
     ]
    }
   ],
   "source": [
    "echo \"END\""
   ]
  }
 ],
 "metadata": {
  "kernelspec": {
   "display_name": "Bash",
   "language": "bash",
   "name": "bash"
  },
  "language_info": {
   "codemirror_mode": "shell",
   "file_extension": ".sh",
   "mimetype": "text/x-sh",
   "name": "bash"
  }
 },
 "nbformat": 4,
 "nbformat_minor": 5
}
