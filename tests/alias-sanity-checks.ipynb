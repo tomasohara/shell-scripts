{
 "cells": [
  {
   "cell_type": "code",
   "execution_count": 1,
   "id": "fe85044f-80ba-433b-b065-f863b8ab92d9",
   "metadata": {},
   "outputs": [],
   "source": [
    "# Sanity check for aliases definitions \n",
    "#\n",
    "# Note:\n",
    "# - This was added to diagnose problems loading the new testing aliases\n",
    "#   under tests/aliases-for-testing.bash.\n",
    "# - It will also serve as a way to detect other issues loading the definitions."
   ]
  },
  {
   "cell_type": "code",
   "execution_count": null,
   "id": "991f4b31-7cdc-46f0-b48f-e5d4376700f3",
   "metadata": {},
   "outputs": [],
   "source": [
    "# Tip: When debugging, loading issues it can be helpful to compare the names of the\n",
    "# macros that are defined. This can be done as follows:\n",
    "#\n",
    "# - under Jupyter:\n",
    "#     show-macros-proper . | sort > $TMP/show-macros.jupyetr.list\n",
    "# - under Bash:\n",
    "#     show-macros-proper . | sort > $TMP/show-macros.bash.list\n",
    "#     diff $TMP/show-macros.bash.list $TMP/show-macros.jupyetr.list"
   ]
  },
  {
   "cell_type": "code",
   "execution_count": null,
   "id": "043037eb-2619-4387-863d-679884e72058",
   "metadata": {},
   "outputs": [],
   "source": [
    "# Global setup\n",
    "alias encode-nums='perl -pe \"s/\\d/N/g;\"'"
   ]
  },
  {
   "cell_type": "code",
   "execution_count": 3,
   "id": "38d0fcb9-c55d-4e50-abd3-0cc656c91f02",
   "metadata": {},
   "outputs": [
    {
     "name": "stdout",
     "output_type": "stream",
     "text": [
      "eval-condition: command not found\n"
     ]
    },
    {
     "ename": "",
     "evalue": "127",
     "output_type": "error",
     "traceback": []
    }
   ],
   "source": [
    "# Make sure at least 900 macros (i.e., aliases and functions)\n",
    "show-macros-proper . | eval-condition '900 < len(stdin.split())'"
   ]
  },
  {
   "cell_type": "code",
   "execution_count": 4,
   "id": "4d598d31-fd6e-41cd-add4-b52f19e32e33",
   "metadata": {},
   "outputs": [
    {
     "name": "stdout",
     "output_type": "stream",
     "text": [
      "eval-condition: command not found\n",
      "Unable to flush stdout: Broken pipe\n"
     ]
    },
    {
     "ename": "",
     "evalue": "127",
     "output_type": "error",
     "traceback": []
    }
   ],
   "source": [
    "# Make sure the macro definitions take 4,000+ lines\n",
    "show-macros | eval-condition '4000 < len(stdin.split())'"
   ]
  },
  {
   "cell_type": "code",
   "execution_count": 5,
   "id": "60c62427-c919-4364-afbf-055df2e9ff14",
   "metadata": {},
   "outputs": [
    {
     "name": "stdout",
     "output_type": "stream",
     "text": [
      "4684\n"
     ]
    }
   ],
   "source": [
    "show-macros | wc -l"
   ]
  },
  {
   "cell_type": "code",
   "execution_count": 6,
   "id": "f9af74e6-2750-48a5-a4fc-a78915eeea3c",
   "metadata": {},
   "outputs": [],
   "source": [
    "## NOTE When debugging, loading issues it can be helpful to compare the names of the\n",
    "## macros that are defined.\n",
    "##\n",
    "## - under Jupyter:\n",
    "##     show-macros-proper . | sort > $TMP/show-macros.jupyetr.list\n",
    "## - under Bash:\n",
    "##     show-macros-proper . | sort > $TMP/show-macros.bash.list\n",
    "##     diff $TMP/show-macros.bash.list $TMP/show-macros.jupyetr.list"
   ]
  },
  {
   "cell_type": "code",
   "execution_count": 7,
   "id": "f55d4a28-d806-4d1e-96ea-71fb6d0560c1",
   "metadata": {},
   "outputs": [
    {
     "name": "stdout",
     "output_type": "stream",
     "text": [
      "\n"
     ]
    }
   ],
   "source": [
    "## DEBUG\n",
    "##\n",
    "## Note: that aliases and function definitions are not taken from the terminal,\n",
    "## but, environment variables are.\n",
    "##\n",
    "## TEST: \n",
    "## - via Bash:\n",
    "##   export MY_VAR=123; alias my-alias='echo hey;'; function my-function { echo joe; }\n",
    "##   run-jupyter-notebook\n",
    "## via http://localhost:8888:\n",
    "##    echo $MY_VAR;  alias my-alias;  typeset -f | grep my-function"
   ]
  }
 ],
 "metadata": {
  "kernelspec": {
   "display_name": "Bash",
   "language": "bash",
   "name": "bash"
  },
  "language_info": {
   "codemirror_mode": "shell",
   "file_extension": ".sh",
   "mimetype": "text/x-sh",
   "name": "bash"
  }
 },
 "nbformat": 4,
 "nbformat_minor": 5
}
