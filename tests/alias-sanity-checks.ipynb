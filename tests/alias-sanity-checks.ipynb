{
 "cells": [
  {
   "cell_type": "code",
   "execution_count": 1,
   "id": "fe85044f-80ba-433b-b065-f863b8ab92d9",
   "metadata": {},
   "outputs": [],
   "source": [
    "# Sanity check for aliases definitions \n",
    "#\n",
    "# Note:\n",
    "# - This was added to diagnose problems loading the new testing aliases\n",
    "#   under tests/aliases-for-testing.bash.\n",
    "# - It will also serve as a way to detect other issues loading the definitions."
   ]
  },
  {
   "cell_type": "code",
   "execution_count": 2,
   "id": "991f4b31-7cdc-46f0-b48f-e5d4376700f3",
   "metadata": {},
   "outputs": [],
   "source": [
    "# Tip: When debugging, loading issues it can be helpful to compare the names of the\n",
    "# macros that are defined. This can be done as follows:\n",
    "#\n",
    "# - under Jupyter:\n",
    "#     show-macros-proper . | sort > $TMP/show-macros.jupyetr.list\n",
    "# - under Bash:\n",
    "#     show-macros-proper . | sort > $TMP/show-macros.bash.list\n",
    "#     diff $TMP/show-macros.bash.list $TMP/show-macros.jupyetr.list"
   ]
  },
  {
   "cell_type": "code",
   "execution_count": 3,
   "id": "456a7dc5-62ab-4296-83c6-f6af836b0270",
   "metadata": {},
   "outputs": [],
   "source": [
    "## DEBUG:\n",
    "## pwd"
   ]
  },
  {
   "cell_type": "code",
   "execution_count": 4,
   "id": "22350267-e05d-4ff9-b832-039ee56f83ee",
   "metadata": {},
   "outputs": [],
   "source": [
    "# Global setup\n",
    "alias encode-nums='perl -pe \"s/\\d/N/g;\"'"
   ]
  },
  {
   "cell_type": "code",
   "execution_count": 5,
   "id": "c38dfb22-3972-46e3-8fc5-ad18190ff6b3",
   "metadata": {},
   "outputs": [
    {
     "name": "stdout",
     "output_type": "stream",
     "text": [
      "alias eval-condition='DURING_ALIAS=1 python3 ./eval_condition.py'\n",
      "\n",
      "alias eval-equals='DURING_ALIAS=1 python3 ./eval_condition.py --equals'\n",
      "\n",
      "alias eval-not-equals='DURING_ALIAS=1 python3 ./eval_condition.py --not-equals'\n",
      "\n"
     ]
    }
   ],
   "source": [
    "# Global setup\n",
    "# Make sure testing aliases defined\n",
    "# Warning: only source conditionally so that the proper aliases are loaded\n",
    "if [ \"\" == \"$(show-macros eval_condition)\" ]; then\n",
    "    source aliases-for-testing.bash\n",
    "fi\n",
    "show-macros eval_condition"
   ]
  },
  {
   "cell_type": "code",
   "execution_count": 6,
   "id": "fca9d7ee-4c5a-4f10-89a2-cf3c8f9a0011",
   "metadata": {},
   "outputs": [
    {
     "name": "stdout",
     "output_type": "stream",
     "text": [
      "True\n"
     ]
    }
   ],
   "source": [
    "# Make sure at least 900 macros (i.e., aliases and functions)\n",
    "show-macros-proper . | eval-condition '900 < len(stdin.split())'"
   ]
  },
  {
   "cell_type": "code",
   "execution_count": 7,
   "id": "4d598d31-fd6e-41cd-add4-b52f19e32e33",
   "metadata": {},
   "outputs": [
    {
     "name": "stdout",
     "output_type": "stream",
     "text": [
      "True\n"
     ]
    }
   ],
   "source": [
    "# Make sure the macro definitions take 4,000+ lines\n",
    "show-macros | eval-condition '4000 < len(stdin.split())'"
   ]
  },
  {
   "cell_type": "code",
   "execution_count": 8,
   "id": "60c62427-c919-4364-afbf-055df2e9ff14",
   "metadata": {},
   "outputs": [
    {
     "name": "stdout",
     "output_type": "stream",
     "text": [
      "NNNN\n"
     ]
    }
   ],
   "source": [
    "show-macros | wc -l | encode-nums"
   ]
  },
  {
   "cell_type": "code",
   "execution_count": 9,
   "id": "f9af74e6-2750-48a5-a4fc-a78915eeea3c",
   "metadata": {},
   "outputs": [],
   "source": [
    "## NOTE When debugging loading issues, it can be helpful to compare the names of the\n",
    "## macros that are defined.\n",
    "##\n",
    "## - under Jupyter:\n",
    "##     show-macros-proper . | sort > $TMP/show-macros.jupyter.list\n",
    "##     show-macros-proper . | sort > $TMP/show-macros.jupyter.list\n",
    "## - under Bash:\n",
    "##     show-macros-proper . | sort > $TMP/show-macros.bash.list\n",
    "##     diff $TMP/show-macros.bash.list $TMP/show-macros.jupyter.list"
   ]
  },
  {
   "cell_type": "code",
   "execution_count": 10,
   "id": "35eb3bde-89df-4199-b184-a0d94eb8b436",
   "metadata": {},
   "outputs": [],
   "source": [
    "## NOTE: The bash kernel defines a few aliases for displaying images and formatted text (via HTML),\n",
    "## as well as for invoking JavScript. See https://github.com/takluyver/bash_kernel.\n",
    "##\n",
    "## show-macros display"
   ]
  },
  {
   "cell_type": "code",
   "execution_count": 11,
   "id": "e1ce56c5-8456-451e-8b4e-529bf8dc9710",
   "metadata": {},
   "outputs": [],
   "source": [
    "## DEBUG: Examples based on https://github.com/takluyver/bash_kernel\n",
    "##\n",
    "## cat ~/temp/Flag_of_Argentina.svg.png | display\n",
    "## echo \"<b>Dog</b>, not a cat.\" | displayHTML\n",
    "## echo \"alert('It is known khaleesi\\!');\" | displayJS"
   ]
  },
  {
   "cell_type": "code",
   "execution_count": 12,
   "id": "c336bfba-17d5-48b5-935c-e056b1d0f566",
   "metadata": {},
   "outputs": [],
   "source": [
    "## DEBUG\n",
    "##\n",
    "## Note: that aliases and function definitions are not taken from the terminal,\n",
    "## but, environment variables are.\n",
    "##\n",
    "## TEST: \n",
    "## - via Bash:\n",
    "##   export MY_VAR=123; alias my-alias='echo hey;'; function my-function { echo joe; }\n",
    "##   run-jupyter-notebook\n",
    "## via http://localhost:8888:\n",
    "##    echo $MY_VAR;  alias my-alias;  typeset -f | grep my-function"
   ]
  },
  {
   "cell_type": "code",
   "execution_count": null,
   "id": "7b7e4462-5722-4477-b6ff-ea2ae95ad267",
   "metadata": {},
   "outputs": [],
   "source": [
    "## DEBUG\n",
    "perl -version"
   ]
  },
  {
   "cell_type": "code",
   "execution_count": null,
   "id": "9eb95e82-7353-4c3a-811b-1f91a727a382",
   "metadata": {},
   "outputs": [],
   "source": [
    "## DEBUG\n",
    "perl.sh -version"
   ]
  },
  {
   "cell_type": "code",
   "execution_count": null,
   "id": "94728a2d-4871-4f3d-a08b-2c24d107ac31",
   "metadata": {},
   "outputs": [],
   "source": [
    "# Make sure perl.sh invokes perl properly\n",
    "perl_version=$(perl -version 2>&1 | extract-matches \"\\(v(\\S+)\\)\")\n",
    "perl_sh_version=$(perl.sh -version 2>&1 | extract-matches \"\\(v(\\S+)\\)\")\n",
    "eval-not-equals \"$perl_version\" \"\" \n",
    "eval-equals \"$perl_version\" \"$perl_sh_version\" "
   ]
  },
  {
   "cell_type": "code",
   "execution_count": 14,
   "id": "c5fa8aab-da3a-4b3a-aafa-e2fe515e7c5f",
   "metadata": {},
   "outputs": [
    {
     "name": "stdout",
     "output_type": "stream",
     "text": [
      "True\n",
      "0\n"
     ]
    }
   ],
   "source": [
    "eval-equals \"$perl_version\" \"$perl_sh_version\" \n",
    "[ \"$perl_help\" == \"$perl_sh_help\" ]; echo $?"
   ]
  }
 ],
 "metadata": {
  "kernelspec": {
   "display_name": "Bash",
   "language": "bash",
   "name": "bash"
  },
  "language_info": {
   "codemirror_mode": "shell",
   "file_extension": ".sh",
   "mimetype": "text/x-sh",
   "name": "bash"
  }
 },
 "nbformat": 4,
 "nbformat_minor": 5
}
