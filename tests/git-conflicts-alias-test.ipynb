{
 "cells": [
  {
   "cell_type": "code",
   "execution_count": 8,
   "id": "0de261fb-1b92-48f3-9078-e13e3273385d",
   "metadata": {},
   "outputs": [
    {
     "name": "stdout",
     "output_type": "stream",
     "text": [
      "\u001b]1;$ lolo [~]\u0007\u001b]2;$ lolo [~]\u0007\n",
      "Initialized empty Git repository in /home/lolo/temp-update-git-test/.git/\n",
      "[main (root-commit) 9641b7c] first commit conflict\n",
      " 1 file changed, 1 insertion(+)\n",
      " create mode 100644 conflicts.txt\n"
     ]
    }
   ],
   "source": [
    "#creating temp repo to test on \n",
    "cd \n",
    "mkdir temp-update-git-test \n",
    "cd temp-update-git-test >/dev/null\n",
    "git init \n",
    "echo \"conflict file\" > conflicts.txt\n",
    "git add .\n",
    "git commit -m \"first commit conflict\"\n"
   ]
  },
  {
   "cell_type": "code",
   "execution_count": 9,
   "id": "b8696c9d-1961-4427-ab1b-339cdad904b4",
   "metadata": {},
   "outputs": [],
   "source": [
    "#show no conflicts on actual repo\n",
    "git-conflicts-alias | true"
   ]
  },
  {
   "cell_type": "code",
   "execution_count": 10,
   "id": "0878a4bc-8ec4-4989-83e9-61eaf0317ecd",
   "metadata": {},
   "outputs": [],
   "source": [
    "# create two new branches to make conflicts with\n",
    "git branch branch-a\n",
    "git branch branch-b"
   ]
  },
  {
   "cell_type": "code",
   "execution_count": 11,
   "id": "52626031-969b-49eb-82f7-c112922e8820",
   "metadata": {},
   "outputs": [
    {
     "name": "stdout",
     "output_type": "stream",
     "text": [
      "Switched to branch 'branch-a'\n",
      "[branch-a 9d94ec6] first commit branch-a\n",
      " 1 file changed, 1 insertion(+)\n"
     ]
    }
   ],
   "source": [
    "# add changes to conflicts.txt\n",
    "git checkout branch-a\n",
    "echo \"line a\" >> conflicts.txt\n",
    "git add . \n",
    "git commit -m \"first commit branch-a\""
   ]
  },
  {
   "cell_type": "code",
   "execution_count": 12,
   "id": "35bc3505-d4f0-4382-976e-66697af596c5",
   "metadata": {},
   "outputs": [
    {
     "name": "stdout",
     "output_type": "stream",
     "text": [
      "Switched to branch 'branch-b'\n",
      "[branch-b 251819a] first commit branch-b\n",
      " 1 file changed, 1 insertion(+)\n"
     ]
    }
   ],
   "source": [
    "#add different changes on other branch\n",
    "git switch branch-b\n",
    "echo \"line b\" >> conflicts.txt\n",
    "git add . \n",
    "git commit -m \"first commit branch-b\"\n"
   ]
  },
  {
   "cell_type": "code",
   "execution_count": 13,
   "id": "2c26b3a8-6f8e-473b-bf0f-63321ebf96d6",
   "metadata": {},
   "outputs": [
    {
     "name": "stdout",
     "output_type": "stream",
     "text": [
      "Switched to branch 'main'\n",
      "Updating 9641b7c..9d94ec6\n",
      "Fast-forward\n",
      " conflicts.txt | 1 \u001b[32m+\u001b[m\n",
      " 1 file changed, 1 insertion(+)\n"
     ]
    }
   ],
   "source": [
    "# merge both branchs, generating conflicts\n",
    "git switch main\n",
    "git merge branch-a\n",
    "git merge branch-b | true\n"
   ]
  },
  {
   "cell_type": "code",
   "execution_count": 14,
   "id": "73746c0c-e47f-406b-9a6e-558d74ed2fe4",
   "metadata": {},
   "outputs": [
    {
     "name": "stdout",
     "output_type": "stream",
     "text": [
      "conflicts.txt:<<<<<<< HEAD\n"
     ]
    }
   ],
   "source": [
    "#show new conflicts\n",
    "git-conflicts-alias"
   ]
  },
  {
   "cell_type": "code",
   "execution_count": 15,
   "id": "dfa004d4-9a64-4b39-9368-9351de3d58e7",
   "metadata": {},
   "outputs": [
    {
     "name": "stdout",
     "output_type": "stream",
     "text": [
      "\u001b]1;$ lolo [~]\u0007\u001b]2;$ lolo [~]\u0007\n"
     ]
    }
   ],
   "source": [
    "#cleanup\n",
    "cd \n",
    "rm -rf temp-update-git-test > /dev/null"
   ]
  }
 ],
 "metadata": {
  "kernelspec": {
   "display_name": "Bash",
   "language": "bash",
   "name": "bash"
  },
  "language_info": {
   "codemirror_mode": "shell",
   "file_extension": ".sh",
   "mimetype": "text/x-sh",
   "name": "bash"
  }
 },
 "nbformat": 4,
 "nbformat_minor": 5
}
