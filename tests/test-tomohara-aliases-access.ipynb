{
 "cells": [
  {
   "cell_type": "code",
   "execution_count": 1,
   "metadata": {},
   "outputs": [],
   "source": [
    "# Warning: this creates a temporary directory for aliases"
   ]
  },
  {
   "cell_type": "code",
   "execution_count": 2,
   "metadata": {},
   "outputs": [],
   "source": [
    "# Set directory for alias work\n",
    "export TEMP_TOM_BIN=/tmp/tomasohara-shell-scripts\n",
    "export TOM_ALIAS_FILE=\"$TEMP_TOM_BIN/tomohara-aliases.bash\"\n",
    "# mkdir -p \"$TEMP_TOM_BIN\"\n",
    "## OLD\n",
    "export trash_dir=$TMP/\"_trash-$(date \"+%Y%m%d%H%M%S\")\"\n",
    "command mkdir -p \"$TEMP_TOM_BIN\"\n",
    "command mkdir -p \"$trash_dir\"\n",
    "command cd \"$TEMP_TOM_BIN\""
   ]
  },
  {
   "cell_type": "code",
   "execution_count": 3,
   "metadata": {},
   "outputs": [
    {
     "name": "stdout",
     "output_type": "stream",
     "text": [
      "  % Total    % Received % Xferd  Average Speed   Time    Time     Time  Current\n",
      "                                 Dload  Upload   Total   Spent    Left  Speed\n",
      "100  146k  100  146k    0     0   363k      0 --:--:-- --:--:-- --:--:--  363k\n"
     ]
    }
   ],
   "source": [
    "# # Get latest version of aliases\n",
    "# curl https://raw.githubusercontent.com/tomasohara/shell-scripts/main/tomohara-aliases.bash > \"$TOM_ALIAS_FILE\" > /dev/null\n",
    "curl https://raw.githubusercontent.com/tomasohara/shell-scripts/main/tomohara-aliases.bash > \"$TOM_ALIAS_FILE\""
   ]
  },
  {
   "cell_type": "code",
   "execution_count": 4,
   "metadata": {},
   "outputs": [
    {
     "name": "stdout",
     "output_type": "stream",
     "text": [
      "/tmp/tomasohara-shell-scripts/tomohara-aliases.bash: Bourne-Again shell script, Unicode text, UTF-8 text executable\n"
     ]
    }
   ],
   "source": [
    "file \"$TOM_ALIAS_FILE\""
   ]
  },
  {
   "cell_type": "code",
   "execution_count": 5,
   "metadata": {
    "scrolled": true
   },
   "outputs": [],
   "source": [
    "# Note: batch mode needed for Jupyter usage\n",
    "export BATCH_MODE=1\n",
    "source \"$TOM_ALIAS_FILE\""
   ]
  },
  {
   "cell_type": "code",
   "execution_count": 6,
   "metadata": {},
   "outputs": [
    {
     "name": "stdout",
     "output_type": "stream",
     "text": [
      "NotZero\n"
     ]
    }
   ],
   "source": [
    "show-macros | wc -l | { [ $(wc -l < /dev/stdin) -ne 0 ] && echo \"NotZero\" || echo \"Zero\"; }"
   ]
  },
  {
   "cell_type": "code",
   "execution_count": 7,
   "metadata": {},
   "outputs": [],
   "source": [
    "## OLD\n",
    "# rm -rf \"$TEMP_TOM_BIN\"\n",
    "# BAD: rm -rf \"$TEMP_TOM_BIN\" > /dev/null\n",
    "command mv -f * \"$trash_dir\""
   ]
  }
 ],
 "metadata": {
  "kernelspec": {
   "display_name": "Bash",
   "language": "bash",
   "name": "bash"
  },
  "language_info": {
   "codemirror_mode": "shell",
   "file_extension": ".sh",
   "mimetype": "text/x-sh",
   "name": "bash"
  }
 },
 "nbformat": 4,
 "nbformat_minor": 4
}
