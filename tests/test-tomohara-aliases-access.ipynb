{
 "cells": [
  {
   "cell_type": "code",
   "execution_count": 1,
   "metadata": {},
   "outputs": [],
   "source": [
    "# Warning: this creates a temporary directory for aliases"
   ]
  },
  {
   "cell_type": "code",
   "execution_count": 2,
   "metadata": {},
   "outputs": [],
   "source": [
    "# Set directory for alias work\n",
    "export TEMP_TOM_BIN=/tmp/tomasohara-shell-scripts\n",
    "export TOM_ALIAS_FILE=\"$TEMP_TOM_BIN/tomohara-aliases.bash\"\n",
    "# mkdir -p \"$TEMP_TOM_BIN\"\n",
    "\n",
    "## OLD: Dropped the use of trash_dir\n",
    "# export trash_dir=$TMP/\"_temp-trash-$(date \"+%Y%m%d%H%M%S\")\"\n",
    "# command mkdir -p \"$trash_dir\"\n",
    "rename-with-file-date \"$TEMP_TOM_BIN\" > /dev/null\n",
    "command mkdir -p \"$TEMP_TOM_BIN\"\n",
    "command cd \"$TEMP_TOM_BIN\""
   ]
  },
  {
   "cell_type": "code",
   "execution_count": 3,
   "metadata": {},
   "outputs": [],
   "source": [
    "# # Get latest version of aliases\n",
    "# curl https://raw.githubusercontent.com/tomasohara/shell-scripts/main/tomohara-aliases.bash > \"$TOM_ALIAS_FILE\" > /dev/null\n",
    "curl -s https://raw.githubusercontent.com/tomasohara/shell-scripts/main/tomohara-aliases.bash > \"$TOM_ALIAS_FILE\""
   ]
  },
  {
   "cell_type": "code",
   "execution_count": 4,
   "metadata": {},
   "outputs": [
    {
     "name": "stdout",
     "output_type": "stream",
     "text": [
      "0\n"
     ]
    }
   ],
   "source": [
    "# file \"$TOM_ALIAS_FILE\"\n",
    "tom_alias_file=$(file \"$TOM_ALIAS_FILE\")\n",
    "[[ -n \"$tom_alias_file\" && \"$tom_alias_file\" =~ shell-scripts/tomohara-aliases.bash ]]; echo $?"
   ]
  },
  {
   "cell_type": "code",
   "execution_count": 5,
   "metadata": {
    "scrolled": true
   },
   "outputs": [
    {
     "name": "stdout",
     "output_type": "stream",
     "text": [
      "0\n"
     ]
    }
   ],
   "source": [
    "# Note: batch mode needed for Jupyter usage\n",
    "export BATCH_MODE=1\n",
    "source \"$TOM_ALIAS_FILE\"\n",
    "\n",
    "[[ $BATCH_MODE = 1 &&  $0 != \"$TOM_ALIAS_FILE\" ]]; echo $?"
   ]
  },
  {
   "cell_type": "code",
   "execution_count": 6,
   "metadata": {},
   "outputs": [
    {
     "name": "stdout",
     "output_type": "stream",
     "text": [
      "0\n"
     ]
    }
   ],
   "source": [
    "# show-macros | wc -l | { [ $(wc -l < /dev/stdin) -ne 0 ] && echo \"NotZero\" || echo \"Zero\"; }\n",
    "show-macros | wc -l | { [ $(wc -l < /dev/stdin) -ne 0 ] && echo $?; }"
   ]
  },
  {
   "cell_type": "code",
   "execution_count": 7,
   "metadata": {},
   "outputs": [],
   "source": [
    "## OLD\n",
    "# rm -rf \"$TEMP_TOM_BIN\"\n",
    "# BAD: rm -rf \"$TEMP_TOM_BIN\" > /dev/null\n",
    "# BAD TOO: command mv -f * \"$trash_dir\""
   ]
  }
 ],
 "metadata": {
  "kernelspec": {
   "display_name": "Bash",
   "language": "bash",
   "name": "bash"
  },
  "language_info": {
   "codemirror_mode": "shell",
   "file_extension": ".sh",
   "mimetype": "text/x-sh",
   "name": "bash"
  }
 },
 "nbformat": 4,
 "nbformat_minor": 4
}
