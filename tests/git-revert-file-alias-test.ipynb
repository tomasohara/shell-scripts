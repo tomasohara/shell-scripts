{
 "cells": [
  {
   "cell_type": "code",
   "execution_count": 1,
   "id": "95161d34-bec1-4284-8515-d7188ff82777",
   "metadata": {},
   "outputs": [
    {
     "name": "stdout",
     "output_type": "stream",
     "text": [
      "\u001b]1;$ lolo [~]\u0007\u001b]2;$ lolo [~]\u0007\n",
      "Initialized empty Git repository in /home/lolo/temp-update-git-test/.git/\n",
      "remote: Enumerating objects: 97, done.\u001b[K\n",
      "remote: Counting objects: 100% (97/97), done.\u001b[K\n",
      "remote: Compressing objects: 100% (63/63), done.\u001b[K\n",
      "remote: Total 97 (delta 18), reused 87 (delta 8), pack-reused 0\u001b[K\n",
      "Unpacking objects: 100% (97/97), 8.02 KiB | 357.00 KiB/s, done.\n",
      "From https://github.com/LorenzoFerraces/bash-test\n",
      " * branch            main       -> FETCH_HEAD\n",
      " * [new branch]      main       -> origin/main\n"
     ]
    }
   ],
   "source": [
    "#creating temp repo to test on\n",
    "cd \n",
    "mkdir temp-update-git-test \n",
    "cd temp-update-git-test >/dev/null\n",
    "git init \n",
    "git remote add origin https://github.com/LorenzoFerraces/bash-test.git \n",
    "git pull -r origin main "
   ]
  },
  {
   "cell_type": "code",
   "execution_count": 2,
   "id": "d3ea45e5-251b-4b3e-987e-3a1859a2f1e5",
   "metadata": {},
   "outputs": [
    {
     "name": "stdout",
     "output_type": "stream",
     "text": [
      "hello2\n"
     ]
    }
   ],
   "source": [
    "#adding changes to a file\n",
    "cat hello.txt\n",
    "echo \"hello2\" >> hello.txt"
   ]
  },
  {
   "cell_type": "code",
   "execution_count": 3,
   "id": "42efa76e-368c-4679-b728-1f093bd42c92",
   "metadata": {},
   "outputs": [
    {
     "name": "stdout",
     "output_type": "stream",
     "text": [
      "issuing: cp -vpf hello.txt _git-trash\n",
      "issuing: git reset HEAD hello.txt\n",
      "issuing: git checkout -- hello.txt\n",
      "issuing: git stash list\n",
      "'hello.txt' -> '_git-trash/hello.txt'\n",
      "Unstaged changes after reset:\n",
      "M\thello.txt\n"
     ]
    }
   ],
   "source": [
    "#revert the previously changed file\n",
    "git-revert-file-alias hello.txt"
   ]
  },
  {
   "cell_type": "code",
   "execution_count": 4,
   "id": "116fa8ff-f203-4f90-b4e0-9b4433ee550b",
   "metadata": {},
   "outputs": [
    {
     "name": "stdout",
     "output_type": "stream",
     "text": [
      "On branch main\n",
      "nothing to commit, working tree clean\n"
     ]
    }
   ],
   "source": [
    "# show the changes not being there \n",
    "git status"
   ]
  },
  {
   "cell_type": "code",
   "execution_count": 5,
   "id": "9e8c3359-0840-40a4-95d8-5da1aa0194f6",
   "metadata": {},
   "outputs": [
    {
     "name": "stdout",
     "output_type": "stream",
     "text": [
      "hello2\n"
     ]
    }
   ],
   "source": [
    "cat hello.txt"
   ]
  },
  {
   "cell_type": "code",
   "execution_count": 6,
   "id": "6fe10d74-bc4a-4bde-838a-3802ab684023",
   "metadata": {},
   "outputs": [
    {
     "name": "stdout",
     "output_type": "stream",
     "text": [
      "removed 'hello.txt'\n",
      "removed '_git-trash/hello.txt'\n",
      "removed directory '_git-trash'\n",
      "branch 'master' set up to track 'origin/master'.\n",
      "Everything up-to-date\n",
      "\u001b]1;$ lolo [~]\u0007\u001b]2;$ lolo [~]\u0007\n"
     ]
    }
   ],
   "source": [
    "#cleanup\n",
    "cd \n",
    "\n",
    "rm -rf temp-update-git-test > /dev/null\n",
    "rm -rf temp-update-git-test-B > /dev/null\n"
   ]
  },
  {
   "cell_type": "code",
   "execution_count": null,
   "id": "c8f7bc66-d068-4986-96cb-3dbe9a0f230d",
   "metadata": {},
   "outputs": [],
   "source": []
  }
 ],
 "metadata": {
  "kernelspec": {
   "display_name": "Bash",
   "language": "bash",
   "name": "bash"
  },
  "language_info": {
   "codemirror_mode": "shell",
   "file_extension": ".sh",
   "mimetype": "text/x-sh",
   "name": "bash"
  }
 },
 "nbformat": 4,
 "nbformat_minor": 5
}
