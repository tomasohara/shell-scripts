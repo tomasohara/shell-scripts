{
 "cells": [
  {
   "cell_type": "code",
   "execution_count": 1,
   "id": "d4c4a91e-a648-445e-84a1-079831e52f2b",
   "metadata": {},
   "outputs": [
    {
     "name": "stdout",
     "output_type": "stream",
     "text": [
      "\u001b]1;$ lolo [~]\u0007\u001b]2;$ lolo [~]\u0007\n",
      "Initialized empty Git repository in /home/lolo/temp-update-git-test/.git/\n",
      "remote: Enumerating objects: 77, done.\u001b[K\n",
      "remote: Counting objects: 100% (77/77), done.\u001b[K\n",
      "remote: Compressing objects: 100% (50/50), done.\u001b[K\n",
      "remote: Total 77 (delta 11), reused 73 (delta 7), pack-reused 0\u001b[K\n",
      "Unpacking objects: 100% (77/77), 6.52 KiB | 256.00 KiB/s, done.\n",
      "From https://github.com/LorenzoFerraces/bash-test\n",
      " * branch            main       -> FETCH_HEAD\n",
      " * [new branch]      main       -> origin/main\n"
     ]
    }
   ],
   "source": [
    "#creating temp repo to test on\n",
    "cd \n",
    "mkdir temp-update-git-test \n",
    "cd temp-update-git-test >/dev/null\n",
    "git init \n",
    "git remote add origin https://github.com/LorenzoFerraces/bash-test.git \n",
    "git pull -r origin main "
   ]
  },
  {
   "cell_type": "code",
   "execution_count": 2,
   "id": "52957bcd-344c-4a84-8c58-a5d2cf72d08b",
   "metadata": {},
   "outputs": [
    {
     "name": "stdout",
     "output_type": "stream",
     "text": [
      "diff.txt  hello.txt  newHello.txt\n",
      "hello2\n"
     ]
    }
   ],
   "source": [
    "#show current files in dir\n",
    "ls \n",
    "cat hello.txt"
   ]
  },
  {
   "cell_type": "code",
   "execution_count": 3,
   "id": "a24cb818-4d6e-41f6-85ad-98e6c5cd23cb",
   "metadata": {},
   "outputs": [
    {
     "name": "stdout",
     "output_type": "stream",
     "text": [
      "issuing: git mv hello.txt newHello.txt\n",
      "fatal: destination exists, source=hello.txt, destination=newHello.txt\n",
      "issuing: git add newHello.txt\n",
      "\n",
      "GIT_NO_CONFIRM set to 1, so skipping confirmation\n",
      "issuing: git commit -m 'renamed'\n",
      "    On branch main\n",
      "    nothing to commit, working tree clean\n",
      "GIT_NO_CONFIRM set to 1, so skipping confirmation\n",
      "issuing: git push --verbose\n",
      "Pushing to https://github.com/LorenzoFerraces/bash-test.git\n",
      "To https://github.com/LorenzoFerraces/bash-test.git\n",
      " = [up to date]      main -> main\n",
      "updating local tracking ref 'refs/remotes/origin/main'\n",
      "Everything up-to-date\n",
      "On branch main\n",
      "nothing to commit, working tree clean\n",
      "branch 'main' set up to track 'origin/main'.\n",
      "\n",
      "issuing: git reset HEAD hello.txt\n"
     ]
    }
   ],
   "source": [
    "#export GIT_MESSAGE and GIT_NO_CONFIRM\n",
    "export GIT_MESSAGE=\"renamed\"\n",
    "export GIT_NO_CONFIRM=\"1\"\n",
    "git-rename-file hello.txt newHello.txt"
   ]
  },
  {
   "cell_type": "code",
   "execution_count": 4,
   "id": "7faba0e0-e808-44c5-b0ac-34787dfbb742",
   "metadata": {},
   "outputs": [
    {
     "name": "stdout",
     "output_type": "stream",
     "text": [
      "hello2\n",
      "issuing: git mv newHello.txt hello.txt\n",
      "fatal: destination exists, source=newHello.txt, destination=hello.txt\n",
      "issuing: git add hello.txt\n",
      "\n",
      "GIT_NO_CONFIRM set to 1, so skipping confirmation\n",
      "issuing: git commit -m 'renamed'\n",
      "    On branch main\n",
      "    Your branch is up to date with 'origin/main'.\n",
      "    \n",
      "    nothing to commit, working tree clean\n",
      "GIT_NO_CONFIRM set to 1, so skipping confirmation\n",
      "issuing: git push --verbose\n",
      "Pushing to https://github.com/LorenzoFerraces/bash-test.git\n",
      "To https://github.com/LorenzoFerraces/bash-test.git\n",
      " = [up to date]      main -> main\n",
      "updating local tracking ref 'refs/remotes/origin/main'\n",
      "Everything up-to-date\n",
      "On branch main\n",
      "Your branch is up to date with 'origin/main'.\n",
      "\n",
      "nothing to commit, working tree clean\n",
      "\n",
      "issuing: git reset HEAD newHello.txt\n"
     ]
    }
   ],
   "source": [
    "#show renamed file and change name back to normal\n",
    "export GIT_MESSAGE=\"renamed\"\n",
    "export GIT_NO_CONFIRM=\"1\"\n",
    "cat newHello.txt\n",
    "\n",
    "git-rename-file newHello.txt hello.txt"
   ]
  },
  {
   "cell_type": "code",
   "execution_count": 5,
   "id": "271d0c8f-2be2-4b89-a209-ec1991a46100",
   "metadata": {},
   "outputs": [
    {
     "name": "stdout",
     "output_type": "stream",
     "text": [
      "\u001b]1;$ lolo [~]\u0007\u001b]2;$ lolo [~]\u0007\n"
     ]
    }
   ],
   "source": [
    "#cleanup\n",
    "cd \n",
    "rm -rf temp-update-git-test > /dev/null"
   ]
  }
 ],
 "metadata": {
  "kernelspec": {
   "display_name": "Bash",
   "language": "bash",
   "name": "bash"
  },
  "language_info": {
   "codemirror_mode": "shell",
   "file_extension": ".sh",
   "mimetype": "text/x-sh",
   "name": "bash"
  }
 },
 "nbformat": 4,
 "nbformat_minor": 5
}
