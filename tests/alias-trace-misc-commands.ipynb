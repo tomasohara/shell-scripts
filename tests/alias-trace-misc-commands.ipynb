{
 "cells": [
  {
   "cell_type": "code",
   "execution_count": 1,
   "id": "7f30b45d-2c43-4340-9e3d-ed7650ae8f28",
   "metadata": {},
   "outputs": [],
   "source": [
    "## TODO1: *** Finish cleaning this up following the changes made to dir-aliases-test-revised.ipynb ***\n",
    "## EX: allow user value for $TMP; and make sure tests are not dependent on local environment.\n",
    "## *** Make sure 'rm -r' not used (here and elsewhere)!!!"
   ]
  },
  {
   "cell_type": "code",
   "execution_count": 2,
   "id": "4c2c8f81-fab7-4d27-8ea0-006d5af7cef2",
   "metadata": {},
   "outputs": [],
   "source": [
    "## TEST:  Make sure simple prompt used (e.g., no escapes that might contaminate output)\n",
    "## PS1=\"$ \"\n",
    "## TODO: PS1=\"> \"\n",
    "\n",
    "## NOTE: The Jupyter bash kernel requires that PS1 not be modified as they customize it. \n",
    "## BAD: echo $PS1"
   ]
  },
  {
   "cell_type": "code",
   "execution_count": 3,
   "id": "9d4c30cc",
   "metadata": {},
   "outputs": [],
   "source": [
    "## BAD:\n",
    "## # Delete all aliases and function\n",
    "## # TODO: Instead start from pristine environment\n",
    "## unalias -a\n",
    "## alias | wc -l\n",
    "## for f in $(typeset -f | egrep '^\\w+'); do unset -f $f; done\n",
    "## typeset -f | egrep '^\\w+' | wc -l"
   ]
  },
  {
   "cell_type": "code",
   "execution_count": 4,
   "id": "cddb7968",
   "metadata": {},
   "outputs": [],
   "source": [
    "# Global setup\n",
    "# Setting a temp directory for tests\n",
    "# TODO2: Use $TMP if debugging\n",
    "TMP=/tmp/test-trace-misc\n",
    "\n",
    "## OLD\n",
    "## ## NOTE: Source it directly from the ./tests directory.\n",
    "## BIN_DIR=$PWD/..\n",
    "\n",
    "## OLD\n",
    "## ## You will need to run jupyter from that directory.\n",
    "## alias | wc -l"
   ]
  },
  {
   "cell_type": "code",
   "execution_count": 5,
   "id": "ce58f3f6-2f78-4bff-a96a-23e4f1983d94",
   "metadata": {},
   "outputs": [],
   "source": [
    "# Global setup\n",
    "## NOTE: For reproducability, the directory name needs to be fixed\n",
    "## In place of $$, use a psuedo random number (e,g., 1210)\n",
    "## *** All output from one run to the next needs to be the same ***\n",
    "## temp_dir=$TMP/test-$$\n",
    "temp_dir=$TMP/test-1210\n",
    "trash_dir=$TMP/\"_temp-trash-$(date \"+%Y%m%d%H%M%S\")\"\n",
    "##\n",
    "mkdir -p \"$temp_dir\"\n",
    "mkdir -p \"$trash_dir\""
   ]
  },
  {
   "cell_type": "code",
   "execution_count": 6,
   "id": "400e083a-b2b1-48ef-83a2-13805e3a8bd9",
   "metadata": {},
   "outputs": [],
   "source": [
    "## DEBUG:\n",
    "## echo \"$temp_dir\""
   ]
  },
  {
   "cell_type": "code",
   "execution_count": 7,
   "id": "21b33380-da9a-4fbd-ba94-a7b6c2754cb5",
   "metadata": {},
   "outputs": [],
   "source": [
    "# Global setup\n",
    "#\n",
    "## OLD: \n",
    "## # TODO: /bin/rm -rvf \"$temp_dir\"\n",
    "## ## cd \"$temp_dir\"\n",
    "## command cd \"$temp_dir\"\n",
    "## ## OLD: pwd\n",
    "## command pwd\n",
    "#\n",
    "#ALIAS FOR PRINTING SEPERATION LINES (FOR JUPYTER)\n",
    "alias linebr=\"printf '%*s\\n' \"${COLUMNS:-$(tput cols)}\" '' | tr ' ' -\""
   ]
  },
  {
   "cell_type": "code",
   "execution_count": 8,
   "id": "d0153e76-a5aa-4792-b0bc-81a1c0aed50e",
   "metadata": {},
   "outputs": [
    {
     "name": "stdout",
     "output_type": "stream",
     "text": [
      "/tmp/test-trace-misc/test-1210\n"
     ]
    }
   ],
   "source": [
    "command cd \"$temp_dir\"\n",
    "command pwd"
   ]
  },
  {
   "cell_type": "code",
   "execution_count": 9,
   "id": "66e35e72-5233-4294-8762-3c65d4ba4e13",
   "metadata": {},
   "outputs": [],
   "source": [
    "## BAD\n",
    "## # Count aliases proper\n",
    "## alias | wc -l\n",
    "## # Count functions\n",
    "## typeset -f | egrep '^\\w+' | wc -l"
   ]
  },
  {
   "cell_type": "code",
   "execution_count": 10,
   "id": "fa868993",
   "metadata": {},
   "outputs": [],
   "source": [
    "# Global Setup\n",
    "alias testuser=\"sed -r \"s/\"$USER\"+/userxf333/g\"\"\n",
    "alias testnum=\"sed -r \"s/[0-9]/N/g\"\" \n",
    "alias testnumhex=\"sed -r \"s/[0-9,a-f,A-F]/h/g\"\" "
   ]
  },
  {
   "cell_type": "code",
   "execution_count": 11,
   "id": "a0f513ae",
   "metadata": {},
   "outputs": [],
   "source": [
    "## BAD: source $BIN_DIR/tomohara-aliases.bash"
   ]
  },
  {
   "cell_type": "code",
   "execution_count": 12,
   "id": "e149fbc9",
   "metadata": {},
   "outputs": [],
   "source": [
    "##1 SHOWS HISTORY OF BASH COMMANDS\n",
    "## BAD: alias hist='history $LINES'\n",
    "##2 SHOWS HISTORY WITHOUT TIMESTAMPS\n",
    "## BAD: function h { hist | perl -pe 's/^(\\s*\\d+\\s*)(\\[[^\\]]+\\])(.*)/$1$3/;'; }\n",
    "\n",
    "## CREATES ERROR (INVALID SYNTAX)\n",
    "# $ hist\n",
    "# $ h"
   ]
  },
  {
   "cell_type": "code",
   "execution_count": 13,
   "id": "ed1a5eb4",
   "metadata": {},
   "outputs": [
    {
     "name": "stdout",
     "output_type": "stream",
     "text": [
      "DDD MMM N N:N:N N\n"
     ]
    }
   ],
   "source": [
    "##3 ASCTIME\n",
    "## BAD: function asctime() { perl -e 'print (scalar localtime($1));'; echo ''; }\n",
    "## BAD: asctime | perl -pe 's/\\d/N/g; s/\\w+ \\w+/DDD MMM/;'\n",
    "asctime | perl -pe 's/\\d+/N/g; s/\\w+ \\w+/DDD MMM/;'"
   ]
  },
  {
   "cell_type": "code",
   "execution_count": 14,
   "id": "f7c6a03a",
   "metadata": {},
   "outputs": [
    {
     "name": "stdout",
     "output_type": "stream",
     "text": [
      "    PID TTY          TIME CMD\n",
      " NNNNNN pts/N    NN:NN:NN bash\n",
      " NNNNNN pts/N    NN:NN:NN ps\n",
      " NNNNNN pts/N    NN:NN:NN bash\n",
      " NNNNNN pts/N    NN:NN:NN sed\n",
      " NNNNNN pts/N    NN:NN:NN perl\n"
     ]
    }
   ],
   "source": [
    "##4 FILTER DIRECTORY NAMES\n",
    "## function filter-dirnames () { perl -pe 's/\\/[^ \\\"]+\\/([^ \\/\\\"]+)/$1/g;'; }\n",
    "\n",
    "# awk is used for removing PID column (1st col)\n",
    "ps | filter-dirnames | testnum"
   ]
  },
  {
   "cell_type": "code",
   "execution_count": 15,
   "id": "0a69f15f",
   "metadata": {},
   "outputs": [
    {
     "name": "stdout",
     "output_type": "stream",
     "text": [
      "99,012,342,305,324,254\n"
     ]
    }
   ],
   "source": [
    "##5 COMMAIZE NUMBERS\n",
    "echo '99012342305324254' | comma-ize-number"
   ]
  },
  {
   "cell_type": "code",
   "execution_count": 16,
   "id": "fd7d2c34",
   "metadata": {},
   "outputs": [
    {
     "name": "stdout",
     "output_type": "stream",
     "text": [
      "7.45G\n"
     ]
    }
   ],
   "source": [
    "##6 APPLYING NUMERIC SUFFIXES\n",
    "echo \"8000000000\" | apply-numeric-suffixes"
   ]
  },
  {
   "cell_type": "code",
   "execution_count": 17,
   "id": "d6e23378",
   "metadata": {},
   "outputs": [
    {
     "name": "stdout",
     "output_type": "stream",
     "text": [
      "7.45T\n",
      "7.63G\n"
     ]
    }
   ],
   "source": [
    "##6.1 APPLYING USAGE NUMERIC SUFFIXES\n",
    "echo \"8000000000\" | apply-usage-numeric-suffixes\n",
    "echo \"8000000\" | apply-usage-numeric-suffixes "
   ]
  },
  {
   "cell_type": "code",
   "execution_count": 18,
   "id": "28d9cce7",
   "metadata": {},
   "outputs": [
    {
     "name": "stdout",
     "output_type": "stream",
     "text": [
      "Backing up 'usage.bytes.list' to './backup/usage.bytes.list'\n",
      "NN.NM\t.\n",
      "N.NNM\t./backup\n",
      "N.NNM\t./info\n",
      "renamed 'usage.list' -> 'usage.list.NNAugNN.NN'\n",
      "NNNK\t.\n",
      "NNK\t./backup\n",
      "NK\t./info\n"
     ]
    }
   ],
   "source": [
    "# #7 usage-pp\n",
    "# ## BATSPP 2.1.X EXCEPTION ERROR AT LINE 8\n",
    "#\n",
    "# function usage {\n",
    "#     output_file=$(default_assignment \"$1\" \"usage.list\")\n",
    "#     rename-with-file-date \"$output_file\";\n",
    "#     $NICE du --block-size=1K --one-file-system 2>&1 | $NICE sort -rn | apply-usage-numeric-suffixes >| $output_file 2>&1;\n",
    "#     $PAGER $output_file;\n",
    "# }\n",
    "#\n",
    "# function usage-alt {\n",
    "#     local output_file=$TEMP/$(basename $PWD)\"-usage.list\";\n",
    "#     usage \"$output_file\"\n",
    "# }\n",
    "#\n",
    "# function byte-usage () { output_file=\"usage.bytes.list\"; backup-file $output_file; $NICE du --bytes --one-file-system 2>&1 | $NICE sort -rn | apply-usage-numeric-suffixes >| $output_file 2>&1; $PAGER $output_file; }\n",
    "#\n",
    "# alias usage-pp='usage | apply-usage-numeric-suffixes | $PAGER'\n",
    "#\n",
    "byte-usage | testnum\n",
    "usage-pp | testnum"
   ]
  },
  {
   "cell_type": "code",
   "execution_count": 19,
   "id": "95bda88c",
   "metadata": {},
   "outputs": [
    {
     "name": "stdout",
     "output_type": "stream",
     "text": [
      "204K\t.\n",
      "16K\t./backup\n",
      "8K\t./info\n"
     ]
    }
   ],
   "source": [
    "# ERROR GENERATED - MULTIPLE\n",
    "# $ ups a > psa.txt\n",
    "# $ usage psa.txt\n",
    "# | bash: ups: command not found\n",
    "# | bash: default_assignment: command not found\n",
    "# | bash: rename-with-file-date: command not found\n",
    "# | bash: $output_file: ambiguous redirect\n",
    "# | sort: fflush failed: 'standard output': Broken pipe\n",
    "# | sort: write error\n",
    "## OLD: usage \n",
    "usage | tail --lines=+2"
   ]
  },
  {
   "cell_type": "code",
   "execution_count": 20,
   "id": "db031306",
   "metadata": {},
   "outputs": [
    {
     "name": "stdout",
     "output_type": "stream",
     "text": [
      "mkdir: cannot create directory ‘backup’: File exists\n",
      "bash: thisisatest.txt: cannot overwrite existing file\n",
      "bash: process.txt: cannot overwrite existing file\n",
      "1: THIS IS THE START\n",
      "1: USER         PID %CPU %MEM    VSZ   RSS TTY      STAT START   TIME COMMAND\n"
     ]
    }
   ],
   "source": [
    "#8.1) \n",
    "##\n",
    "## TODO: what the hell???!!!\n",
    "##   rm -rf ./* > /dev/null\n",
    "## NOTE: 'rm  -r' is way too dangerous: rework via another way to ensure uniqueness!\n",
    "##\n",
    "mkdir backup\n",
    "printf \"THIS IS THE START\\nTHIS IS A TEST\\nTHIS IS A TEST\\nTHIS IS A TEST\\nTHIS IS A TEST\\nTHIS IS A TEST\\nTHIS IS THE END\\n\" > thisisatest.txt\n",
    "ps -aux > process.txt\n",
    "#\n",
    "number-columns thisisatest.txt\n",
    "number-columns-comma process.txt"
   ]
  },
  {
   "cell_type": "code",
   "execution_count": 21,
   "id": "ae8977b2",
   "metadata": {},
   "outputs": [
    {
     "name": "stdout",
     "output_type": "stream",
     "text": [
      "THIS IS THE START\n",
      "THIS IS A TEST\n",
      "THIS IS A TEST\n",
      "THIS IS A TEST\n",
      "THIS IS A TEST\n",
      "THIS IS A TEST\n",
      "THIS IS THE END\n",
      "--------------------------------------------------------------------------------\n",
      "THIS IS THE END\n",
      "THIS IS A TEST\n",
      "THIS IS A TEST\n",
      "THIS IS A TEST\n",
      "THIS IS A TEST\n",
      "THIS IS A TEST\n",
      "THIS IS THE START\n"
     ]
    }
   ],
   "source": [
    "#9) reverse REVERSES cat COMMAND\n",
    "## BAD: alias reverse='tac'\n",
    "cat thisisatest.txt\n",
    "linebr\n",
    "reverse thisisatest.txt"
   ]
  },
  {
   "cell_type": "code",
   "execution_count": 22,
   "id": "29a5af6d",
   "metadata": {},
   "outputs": [
    {
     "name": "stdout",
     "output_type": "stream",
     "text": [
      "Backing up 'thisisatest.txt' to './backup/thisisatest.txt'\n"
     ]
    }
   ],
   "source": [
    "# HALTS NOTEBOOK\n",
    "## BATSPP 2.1.X EXCEPTION ERROR AT LINE 4 (OUTPUT)\n",
    "backup-file thisisatest.txt"
   ]
  },
  {
   "cell_type": "code",
   "execution_count": 23,
   "id": "a8c89aa1",
   "metadata": {},
   "outputs": [
    {
     "name": "stdout",
     "output_type": "stream",
     "text": [
      "Backing up 'usage.bytes.list' to './backup/usage.bytes.list'\n",
      "NN.NM\t.\n",
      "N.NNM\t./backup\n",
      "N.NNM\t./info\n"
     ]
    }
   ],
   "source": [
    "## BATSPP 2.1.X EXCEPTION ERROR AT LINE 5 (OUTPUT)\n",
    "byte-usage process.txt | testnum\n",
    "# (Same output for 'byte-usage \"Hi Mom\"' and 'byte-usage thisisatest.txt')"
   ]
  },
  {
   "cell_type": "code",
   "execution_count": 24,
   "id": "9f2bfe8c",
   "metadata": {
    "scrolled": true
   },
   "outputs": [],
   "source": [
    "#11 - LOG FILES ARE REQUIRED FOR check-errors\n",
    "## BATSPP 2.1.X EXCEPTION ERROR AT LINE 10 (OUTPUT)\n",
    "## TODO2: track down hangup when running entire notebook from scratch\n",
    "## NOTE: perhaps related to use of less (see \"[1]+ Stopped\" in end of output, not visible by default)\n",
    "\n",
    "## TODO\n",
    "## check-errors process.txt\n",
    "## linebr\n",
    "## check-all-errors process.txt\n",
    "## linebr\n",
    "## check-warnings\n",
    "## linebr\n",
    "## check-all-warnings\n",
    "## linebr\n",
    "## check-errors-excerpt process.txt"
   ]
  },
  {
   "cell_type": "code",
   "execution_count": 25,
   "id": "5c1dc2a2",
   "metadata": {},
   "outputs": [],
   "source": [
    "## Issue (Doesn't halt tests, command not found error)\n",
    "# $ rdiff process1.txt psa.txt | testnum\n",
    "# | Echo: Command not found.\n",
    "# | ???\n",
    "# | cvs: Command not found.\n",
    "# |\n",
    "# | echo: No match.\n",
    "# | echo: No match.\n",
    "# | issuing: tkdiff.tcl -r.-X processX.txt\n",
    "# | [X] XXXX\n",
    "# | tkdiff.tcl: Command not found.\n"
   ]
  },
  {
   "cell_type": "code",
   "execution_count": 26,
   "id": "895d01b9",
   "metadata": {},
   "outputs": [],
   "source": [
    "## Issue (testnum not working)\n",
    "# $ tkdiff- process.txt psa.txt\n",
    "# | [1] 5244"
   ]
  },
  {
   "cell_type": "code",
   "execution_count": 27,
   "id": "4e48f66b",
   "metadata": {},
   "outputs": [],
   "source": [
    "## Issue (testnum not working)\n",
    "# $ vdiff process.txt psa.txt\n",
    "# | Error in startup script: couldn't read file \"/home/xaea12/bin/tkdiff.tcl\": no such file or directory\n",
    "# | [2] 5251\n",
    "# | [1]   Exit 1                  wish -f $TOM_BIN/tkdiff.tcl \"$@\"\n"
   ]
  },
  {
   "cell_type": "code",
   "execution_count": 28,
   "id": "d5cf2239",
   "metadata": {},
   "outputs": [],
   "source": [
    "# diff\n",
    "## BAD: \n",
    "## diff_options=\"--ignore-space-change --ignore-blank-lines\"\n",
    "## alias diff='command diff $diff_options'\n",
    "## alias diff-default='command diff'\n",
    "## alias diff-ignore-spacing='diff --ignore-all-space'\n",
    "##\n",
    "## alias do-diff='do_diff.sh'\n",
    "## \n",
    "## function diff-rev () {\n",
    "##     local diff_program=\"diff\"\n",
    "##     if [ \"$1\" = \"--diff-prog\" ]; then\n",
    "##         diff_program=\"$2\"\n",
    "##         shift 2\n",
    "##     fi\n",
    "##     local right_file=\"$1\"\n",
    "##     local left_file=\"$2\"\n",
    "##     \n",
    "##     if [ -d \"$left_file\" ]; then left_file=\"$left_file\"/$(basename \"$right_file\"); fi\n",
    "##     \"$diff_program\" \"$left_file\" \"$right_file\"\n",
    "## }\n",
    "## alias kdiff-rev='diff-rev --diff-prog kdiff'\n",
    "## alias diff-log-output='compare-log-output.sh'\n",
    "## alias vdiff-rev=kdiff-rev"
   ]
  },
  {
   "cell_type": "code",
   "execution_count": 29,
   "id": "0c36d6d5",
   "metadata": {
    "scrolled": true
   },
   "outputs": [
    {
     "name": "stdout",
     "output_type": "stream",
     "text": [
      "bash: process1.txt: cannot overwrite existing file\n",
      "bash: process2.txt: cannot overwrite existing file\n",
      "/tmp/test-trace-misc/test-1210\n"
     ]
    }
   ],
   "source": [
    "# # TESTING diff COMMANDS\n",
    "#\n",
    "# # EVERY DIFF COMMANDS WORK NORMALLY, BUT TESTS HALT AFTER\n",
    "\n",
    "## OLD\n",
    "# linebr\n",
    "ps -u > process1.txt\n",
    "ps -u > process2.txt\n",
    "\n",
    "# # Create or update process1.txt.tmp with new content\n",
    "# ps -u > process1.txt.tmp\n",
    "\n",
    "# # Rename process1.txt.tmp to process1.txt\n",
    "# mv process1.txt.tmp process1.txt\n",
    "\n",
    "# # Repeat the same process for process2.txt\n",
    "# ps -u > process2.txt.tmp\n",
    "# mv process2.txt.tmp process2.txt\n",
    "pwd\n"
   ]
  },
  {
   "cell_type": "code",
   "execution_count": 30,
   "id": "a19413d5",
   "metadata": {},
   "outputs": [
    {
     "name": "stdout",
     "output_type": "stream",
     "text": [
      "hhhhhhhhhhh\n",
      "< ushrxhhhh  hhhhhh  h.h  h.h  hhhhh  hhhh pts/h    Ss   hh:hh   h:hh /usr/hin/hhsh\n",
      "< ushrxhhhh  hhhhhh  h.h  h.h  hhhhh  hhhh pts/h    R+   hh:hh   h:hh ps -u\n",
      "---\n",
      "> ushrxhhhh  hhhhhh  h.h  h.h  hhhhh  hhhh pts/h    Ss   hh:hh   h:hh /usr/hin/hhsh\n",
      "> ushrxhhhh  hhhhhh  hhh  h.h  hhhhh  hhhh pts/h    R+   hh:hh   h:hh ps -u\n"
     ]
    }
   ],
   "source": [
    "# #1) diff - HALTS PROCESS (WORKS FINE)\n",
    "\n",
    "# $ diff process1.txt process2.txt #(DIFFERENTIATING PROCESSES FOR DIFFERENT INSTANCES)\n",
    "diff process1.txt process2.txt | testuser | testnumhex"
   ]
  },
  {
   "cell_type": "code",
   "execution_count": 31,
   "id": "169b9a64",
   "metadata": {},
   "outputs": [
    {
     "name": "stdout",
     "output_type": "stream",
     "text": [
      "hhhhhhhhhhh\n",
      "< ushrxhhhh  hhhhhh  h.h  h.h  hhhhh  hhhh pts/h    Ss   hh:hh   h:hh /usr/hin/hhsh\n",
      "< ushrxhhhh  hhhhhh  h.h  h.h  hhhhh  hhhh pts/h    R+   hh:hh   h:hh ps -u\n",
      "---\n",
      "> ushrxhhhh  hhhhhh  h.h  h.h  hhhhh  hhhh pts/h    Ss   hh:hh   h:hh /usr/hin/hhsh\n",
      "> ushrxhhhh  hhhhhh  hhh  h.h  hhhhh  hhhh pts/h    R+   hh:hh   h:hh ps -u\n"
     ]
    }
   ],
   "source": [
    "# #2) diff-default - HALTED (WORKS FINE)\n",
    "# $ diff-default process1.txt process2.txt\n",
    "diff-default process1.txt process2.txt | testuser | testnumhex"
   ]
  },
  {
   "cell_type": "code",
   "execution_count": 32,
   "id": "636168eb",
   "metadata": {},
   "outputs": [
    {
     "name": "stdout",
     "output_type": "stream",
     "text": [
      "hhhhhhhhhhh\n",
      "< ushrxhhhh  hhhhhh  h.h  h.h  hhhhh  hhhh pts/h    Ss   hh:hh   h:hh /usr/hin/hhsh\n",
      "< ushrxhhhh  hhhhhh  h.h  h.h  hhhhh  hhhh pts/h    R+   hh:hh   h:hh ps -u\n",
      "---\n",
      "> ushrxhhhh  hhhhhh  h.h  h.h  hhhhh  hhhh pts/h    Ss   hh:hh   h:hh /usr/hin/hhsh\n",
      "> ushrxhhhh  hhhhhh  hhh  h.h  hhhhh  hhhh pts/h    R+   hh:hh   h:hh ps -u\n"
     ]
    }
   ],
   "source": [
    "# #3) diff-ignore-spacing -HALTED (WORKS FINE)\n",
    "diff-ignore-spacing process1.txt process2.txt | testuser | testnumhex"
   ]
  },
  {
   "cell_type": "code",
   "execution_count": 33,
   "id": "486aec7d",
   "metadata": {},
   "outputs": [
    {
     "name": "stdout",
     "output_type": "stream",
     "text": [
      "prohhssh.txt vs. prohhssh.txt\n",
      "hihhhrhnhhs: prohhssh.txt prohhssh.txt\n",
      "-rw-r--r-- h ushrxhhhh ushrxhhhh hhhh hug hh hh:hh prohhssh.txt\n",
      "-rw-r--r-- h ushrxhhhh ushrxhhhh hhhh hug hh hh:hh prohhssh.txt\n",
      "hhhhhhhhhhh\n",
      "< ushrxhhhh  hhhhhh  h.h  h.h  hhhhh  hhhh pts/h    Ss   hh:hh   h:hh /usr/hin/hhsh\n",
      "< ushrxhhhh  hhhhhh  h.h  h.h  hhhhh  hhhh pts/h    R+   hh:hh   h:hh ps -u\n",
      "---\n",
      "> ushrxhhhh  hhhhhh  h.h  h.h  hhhhh  hhhh pts/h    Ss   hh:hh   h:hh /usr/hin/hhsh\n",
      "> ushrxhhhh  hhhhhh  hhh  h.h  hhhhh  hhhh pts/h    R+   hh:hh   h:hh ps -u\n",
      "------------------------------------------------------------------------\n",
      "\n"
     ]
    }
   ],
   "source": [
    "# #4) do-diff - HALTED (WORKS FINE)\n",
    "do-diff process1.txt process2.txt | testuser | testnumhex"
   ]
  },
  {
   "cell_type": "code",
   "execution_count": 34,
   "id": "903ac57f",
   "metadata": {},
   "outputs": [],
   "source": [
    "# #5) kdiff-rev & vdiff-rev PERFORM THE SAME TASK - HALTS (WORKS FINE)\n",
    "# $ kdiff-rev process1.txt process2.txt\n",
    "# $ linebr\n",
    "# $ vdiff-rev process1.txt process2.txt\n",
    "\n",
    "# | [1] 7234\n",
    "# | --------------------------------------------------------------------------------\n",
    "# | [1]+  Done                    kdiff.sh \"$@\"\n",
    "# | [1] 7238\n"
   ]
  },
  {
   "cell_type": "code",
   "execution_count": 35,
   "id": "cbe6782b",
   "metadata": {},
   "outputs": [
    {
     "name": "stdout",
     "output_type": "stream",
     "text": [
      "bash: testtxt1.txt: cannot overwrite existing file\n",
      "bash: testtxt2.txt: cannot overwrite existing file\n",
      "renamed './ls-alR.list' -> './ls-alR.list.NNAugNN.N'  \n",
      "renamed './ls-alR.list.log' -> './ls-alR.list.log.NNAugNN.N'  \n",
      "renamed './ls-aR.list' -> './ls-aR.list.NNAugNN.N'  \n",
      "renamed './ls-aR.list.log' -> './ls-aR.list.log.NNAugNN.N'  \n",
      "-rw-r--r-- N userxfNNN userxfNNN N.NK  NN NN:NN ./ls-alR.list\n",
      "-rw-r--r-- N userxfNNN userxfNNN N  NN NN:NN ./ls-alR.list.log\n",
      "-rw-r--r-- N userxfNNN userxfNNN N.NK  NN NN:NN ./ls-aR.list\n",
      "-rw-r--r-- N userxfNNN userxfNNN N  NN NN:NN ./ls-aR.list.log\n"
     ]
    }
   ],
   "source": [
    "# 6) diff-log-output\n",
    "# A. CREATING log files for tests\n",
    "printf \"TESTFILE1\\nNEXT LINE\" > testtxt1.txt\n",
    "printf \"TESTFILE2\\nNEXT LINE2\" > testtxt2.txt\n",
    "prepare-find-files-here | testuser | testnum | awk '!($6=\"\")'"
   ]
  },
  {
   "cell_type": "code",
   "execution_count": 36,
   "id": "1985ac69",
   "metadata": {},
   "outputs": [],
   "source": [
    "## BAD: don't test UI apps (n.b., disrupts execution)\n",
    "## # Opens kdiff (doesn't halt process)\n",
    "## diff-log-output ls-alR.list.log ls-R.list.log\n",
    "## TODO2: use --plain-diff"
   ]
  },
  {
   "cell_type": "code",
   "execution_count": 37,
   "id": "c401e80e",
   "metadata": {},
   "outputs": [
    {
     "name": "stdout",
     "output_type": "stream",
     "text": [
      "bash: /tmp/test-trace-misc/test-1210/info/.noice-signature: No such file or directory\n"
     ]
    },
    {
     "ename": "",
     "evalue": "1",
     "output_type": "error",
     "traceback": []
    }
   ],
   "source": [
    "# Global Setup\n",
    "#\n",
    "## WTF?: rm -rf $HOME/info > /dev/null\n",
    "## HACK: map HOME to current directory\n",
    "save_HOME=$HOME\n",
    "HOME=$PWD\n",
    "mkdir -p $HOME/info\n",
    "# BAD: rm -rf ./* > /dev/null\n",
    "command mv -f * $trash_dir\n",
    "echo \"THIS IS A NOICE SIGNATURE\" > $HOME/info/.noice-signature"
   ]
  },
  {
   "cell_type": "code",
   "execution_count": null,
   "id": "ae4468ab",
   "metadata": {},
   "outputs": [],
   "source": [
    "## BAD: signature noice | testuser\n",
    "signature noice | tail --lines=+2 | testuser"
   ]
  },
  {
   "cell_type": "code",
   "execution_count": null,
   "id": "aa359b7a-165a-4909-9e1a-405940dc564d",
   "metadata": {},
   "outputs": [],
   "source": [
    "## HACK: restore HOME\n",
    "HOME=$save_HOME"
   ]
  },
  {
   "cell_type": "code",
   "execution_count": null,
   "id": "06a251ce-184b-4c6d-81e0-ae6a7bfe5837",
   "metadata": {},
   "outputs": [],
   "source": [
    "## BAD:\n",
    "## /bin/rm $HOME/info/.noice-signature 2> /dev/null"
   ]
  },
  {
   "cell_type": "code",
   "execution_count": null,
   "id": "1c375a69",
   "metadata": {},
   "outputs": [],
   "source": [
    "# most-recent-backup(file): returns most recent backup for FILE in ./backup, accounting for revisions (e.g., extract_matches.perl.~4~)\n",
    "## BATSPP 2.1.X EXCEPTION ERROR AT LINE 13\n",
    "\n",
    "# function most-recent-backup() {\n",
    "#     if [ '$1' = '' ]; then\n",
    "#         echo 'usage: most-recent-backup filename'\n",
    "#         echo 'use BACKUP_DIR=dir ... to override use of ./backup'\n",
    "#         return\n",
    "#     fi\n",
    "#     local file='$1';\n",
    "#         local dir='$BACKUP_DIR'; if [ '$dir' = '' ]; then dir=./backup; fi\n",
    "    \n",
    "#     $LS -t $dir/* | /bin/egrep '/$file(~|.~*)?' | head -1;\n",
    "# }\n",
    "\n",
    "# function diff-backup-helper {\n",
    "#     local diff='$1'; local file='$2'; \n",
    "#     '$diff' $(most-recent-backup \"$file\") '$file';\n",
    "# }\n",
    "\n",
    "# alias diff-backup='diff-backup-helper diff'\n",
    "# alias kdiff-backup='diff-backup-helper kdiff'"
   ]
  },
  {
   "cell_type": "code",
   "execution_count": null,
   "id": "f0222991",
   "metadata": {},
   "outputs": [],
   "source": [
    "dobackup process1.txt"
   ]
  },
  {
   "cell_type": "code",
   "execution_count": null,
   "id": "bc964696",
   "metadata": {},
   "outputs": [],
   "source": [
    "## COMMENTED: Uses kdiff\n",
    "# ## WORKS FINE - MAY HALT THE NOTEBOOK TESTS (Opens kdiff)\n",
    "# # $ diff-backup process1.txt\n",
    "# diff-backup process1.txt"
   ]
  },
  {
   "cell_type": "code",
   "execution_count": null,
   "id": "198d4bae",
   "metadata": {},
   "outputs": [],
   "source": [
    "## BAD: the tests are console based (n.b., GUI apps can pause the script)\n",
    "## ## WORKS FINE - MAY HALT THE NOTEBOOK TESTS (Opens kdiff)\n",
    "## kdiff-backup process1.txt"
   ]
  },
  {
   "cell_type": "code",
   "execution_count": null,
   "id": "b0c3f7d4-591b-4905-ba3e-12cebb2f0c4f",
   "metadata": {},
   "outputs": [],
   "source": [
    "## BAD: do this outside of Jupyter (e.g., in case temp_dir set to /tmp)!\n",
    "## # NEW (Remove temp after use)\n",
    "## rm -rf $temp_dir > /dev/null\n",
    "command mv $HOME/info/.noice-signature "
   ]
  },
  {
   "cell_type": "code",
   "execution_count": null,
   "id": "60a12cb0-8269-4498-b05c-5bd358da8245",
   "metadata": {},
   "outputs": [],
   "source": [
    "## DEBUG:\n",
    "## echo \"Done\""
   ]
  }
 ],
 "metadata": {
  "kernelspec": {
   "display_name": "Bash",
   "language": "bash",
   "name": "bash"
  },
  "language_info": {
   "codemirror_mode": "shell",
   "file_extension": ".sh",
   "mimetype": "text/x-sh",
   "name": "bash"
  }
 },
 "nbformat": 4,
 "nbformat_minor": 5
}
