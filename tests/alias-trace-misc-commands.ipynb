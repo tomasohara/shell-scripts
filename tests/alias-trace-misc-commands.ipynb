{
 "cells": [
  {
   "cell_type": "code",
   "execution_count": 1,
   "id": "7f30b45d-2c43-4340-9e3d-ed7650ae8f28",
   "metadata": {},
   "outputs": [],
   "source": [
    "## TODO1: *** Finish cleaning this up following the changes made to dir-aliases-test-revised.ipynb ***\n",
    "## EX: allow user value for $TMP; and make sure tests are not dependent on local environment.\n",
    "## *** Make sure 'rm -r' not used (here and elsewhere)!!!"
   ]
  },
  {
   "cell_type": "code",
   "execution_count": 2,
   "id": "4c2c8f81-fab7-4d27-8ea0-006d5af7cef2",
   "metadata": {},
   "outputs": [],
   "source": [
    "## TEST:  Make sure simple prompt used (e.g., no escapes that might contaminate output)\n",
    "## PS1=\"$ \"\n",
    "## TODO: PS1=\"> \"\n",
    "\n",
    "## NOTE: The Jupyter bash kernel requires that PS1 not be modified as they customize it. \n",
    "## BAD: echo $PS1"
   ]
  },
  {
   "cell_type": "code",
   "execution_count": 3,
   "id": "9d4c30cc",
   "metadata": {},
   "outputs": [],
   "source": [
    "## BAD:\n",
    "## # Delete all aliases and function\n",
    "## # TODO: Instead start from pristine environment\n",
    "## unalias -a\n",
    "## alias | wc -l\n",
    "## for f in $(typeset -f | egrep '^\\w+'); do unset -f $f; done\n",
    "## typeset -f | egrep '^\\w+' | wc -l"
   ]
  },
  {
   "cell_type": "code",
   "execution_count": 4,
   "id": "cddb7968",
   "metadata": {},
   "outputs": [],
   "source": [
    "# Global Setup\n",
    "\n",
    "## Aliases for censoring username and/or numbers\n",
    "alias testnum=\"sed -r \"s/[0-9]/N/g\"\"\n",
    "alias testnumhex=\"sed -r \"s/[0-9][A-F][a-F]/N/g\"\"\n",
    "alias testuser=\"sed -r \"s/\"$USER\"+/userxf333/g\"\"\n",
    "alias testuserpath=\"sed 's|/home/[^/]\\+/|USER_PATH/|'\"\n",
    "alias linebr=\"printf '%132s\\n' ' ' | tr ' ' '-'\""
   ]
  },
  {
   "cell_type": "code",
   "execution_count": 5,
   "id": "ce58f3f6-2f78-4bff-a96a-23e4f1983d94",
   "metadata": {},
   "outputs": [],
   "source": [
    "# Global setup\n",
    "## NOTE: For reproducability, the directory name needs to be fixed\n",
    "## In place of $$, use a psuedo random number (e,g., 1210)\n",
    "## *** All output from one run to the next needs to be the same ***\n",
    "## temp_dir=$TMP/test-$$\n",
    "TMP=${TMP:-/tmp}\n",
    "if [ \"$DEBUG_LEVEL\" -lt 4 ]; then TMP=/tmp/test-trace-misc; fi\n",
    "\n",
    "## OLD: Used the concept of trash-dir, instead use unique temp_dirs\n",
    "# temp_dir=$TMP/test-1001\n",
    "# rename-with-file-date \"$temp_dir\"\n",
    "# mkdir -p $temp_dir\n",
    "# trash_dir=$TMP/\"_temp-trash-$(date \"+%Y%m%d%H%M%S\")\"\n",
    "# command mkdir -p $trash_dir\n",
    "\n",
    "temp_dir=$TMP/alias-trace-misc\n",
    "rename-with-file-date \"$temp_dir\" > /dev/null\n",
    "command mkdir -p \"$temp_dir\"\n",
    "command cd $temp_dir"
   ]
  },
  {
   "cell_type": "code",
   "execution_count": 6,
   "id": "400e083a-b2b1-48ef-83a2-13805e3a8bd9",
   "metadata": {},
   "outputs": [],
   "source": [
    "## DEBUG:\n",
    "## echo \"$temp_dir\""
   ]
  },
  {
   "cell_type": "code",
   "execution_count": 7,
   "id": "66e35e72-5233-4294-8762-3c65d4ba4e13",
   "metadata": {},
   "outputs": [],
   "source": [
    "## BAD\n",
    "## # Count aliases proper\n",
    "## alias | wc -l\n",
    "## # Count functions\n",
    "## typeset -f | egrep '^\\w+' | wc -l"
   ]
  },
  {
   "cell_type": "code",
   "execution_count": 8,
   "id": "a0f513ae",
   "metadata": {},
   "outputs": [],
   "source": [
    "## BAD: source $BIN_DIR/tomohara-aliases.bash"
   ]
  },
  {
   "cell_type": "code",
   "execution_count": 9,
   "id": "e149fbc9",
   "metadata": {},
   "outputs": [
    {
     "name": "stdout",
     "output_type": "stream",
     "text": [
      "0\n"
     ]
    }
   ],
   "source": [
    "##1 SHOWS HISTORY OF BASH COMMANDS\n",
    "## BAD: alias hist='history $LINES'\n",
    "##2 SHOWS HISTORY WITHOUT TIMESTAMPS\n",
    "## BAD: function h { hist | perl -pe 's/^(\\s*\\d+\\s*)(\\[[^\\]]+\\])(.*)/$1$3/;'; }\n",
    "\n",
    "## CREATES ERROR (INVALID SYNTAX)\n",
    "# $ hist\n",
    "# $ h\n",
    "# [ hist | perl -pe 's/^\\d+\\s+\\[\\d{4}-\\d{2}-\\d{2}\\s+\\d{2}:\\d{2}:\\d{2}\\]$//' ]; echo $?\n",
    "hist | perl -pe 's/^\\d+\\s+\\[\\d{4}-\\d{2}-\\d{2}\\s+\\d{2}:\\d{2}:\\d{2}\\]$//' > /dev/null && echo $?"
   ]
  },
  {
   "cell_type": "code",
   "execution_count": 10,
   "id": "ed1a5eb4",
   "metadata": {},
   "outputs": [
    {
     "name": "stdout",
     "output_type": "stream",
     "text": [
      "0\n"
     ]
    }
   ],
   "source": [
    "##3 ASCTIME\n",
    "## BAD: function asctime() { perl -e 'print (scalar localtime($1));'; echo ''; }\n",
    "## BAD: asctime | perl -pe 's/\\d/N/g; s/\\w+ \\w+/DDD MMM/;'\n",
    "\n",
    "# asctime | perl -pe 's/\\d+/N/g; s/\\w+ \\w+/DDD MMM/;'\n",
    "[ \"$(asctime | perl -pe 's/\\d+/N/g; s/\\w+ \\w+/DDD MMM/;')\" = \"DDD MMM N N:N:N N\" ]; echo $?"
   ]
  },
  {
   "cell_type": "code",
   "execution_count": 11,
   "id": "f7c6a03a",
   "metadata": {},
   "outputs": [
    {
     "name": "stdout",
     "output_type": "stream",
     "text": [
      "0\n"
     ]
    }
   ],
   "source": [
    "##4 FILTER DIRECTORY NAMES\n",
    "## function filter-dirnames () { perl -pe 's/\\/[^ \\\"]+\\/([^ \\/\\\"]+)/$1/g;'; }\n",
    "\n",
    "## awk is used for removing PID column (1st col)\n",
    "# ps | filter-dirnames | testnum\n",
    "[ -n \"$(ps | filter-dirnames | grep -e \"bash\" -e \"ps\" -e \"sed\" -e \"perl\")\" ]; echo $?"
   ]
  },
  {
   "cell_type": "code",
   "execution_count": 12,
   "id": "0a69f15f",
   "metadata": {},
   "outputs": [
    {
     "name": "stdout",
     "output_type": "stream",
     "text": [
      "0\n"
     ]
    }
   ],
   "source": [
    "##5 COMMAIZE NUMBERS\n",
    "[ \"$(echo '99012342305324254' | comma-ize-number)\" = \"99,012,342,305,324,254\" ]; echo $?"
   ]
  },
  {
   "cell_type": "code",
   "execution_count": 13,
   "id": "fd7d2c34",
   "metadata": {},
   "outputs": [
    {
     "name": "stdout",
     "output_type": "stream",
     "text": [
      "0\n"
     ]
    }
   ],
   "source": [
    "##6 APPLYING NUMERIC SUFFIXES\n",
    "[ \"$(echo \"8000000000\" | apply-numeric-suffixes)\" = \"7.45G\" ]; echo $?"
   ]
  },
  {
   "cell_type": "code",
   "execution_count": 14,
   "id": "d6e23378",
   "metadata": {},
   "outputs": [
    {
     "name": "stdout",
     "output_type": "stream",
     "text": [
      "0\n"
     ]
    }
   ],
   "source": [
    "##6.1 APPLYING USAGE NUMERIC SUFFIXES\n",
    "[ \"$(echo \"8000000000\" | apply-usage-numeric-suffixes)\" = \"7.45T\" ]; echo $?\n",
    "\n",
    "# echo \"8000000\" | apply-usage-numeric-suffixes returns 7.63G"
   ]
  },
  {
   "cell_type": "code",
   "execution_count": 15,
   "id": "28d9cce7",
   "metadata": {},
   "outputs": [
    {
     "name": "stdout",
     "output_type": "stream",
     "text": [
      "0\n"
     ]
    }
   ],
   "source": [
    "# #7 usage-pp\n",
    "# ## BATSPP 2.1.X EXCEPTION ERROR AT LINE 8\n",
    "#\n",
    "# function usage {\n",
    "#     output_file=$(default_assignment \"$1\" \"usage.list\")\n",
    "#     rename-with-file-date \"$output_file\";\n",
    "#     $NICE du --block-size=1K --one-file-system 2>&1 | $NICE sort -rn | apply-usage-numeric-suffixes >| $output_file 2>&1;\n",
    "#     $PAGER $output_file;\n",
    "# }\n",
    "#\n",
    "# function usage-alt {\n",
    "#     local output_file=$TEMP/$(basename $PWD)\"-usage.list\";\n",
    "#     usage \"$output_file\"\n",
    "# }\n",
    "#\n",
    "# function byte-usage () { output_file=\"usage.bytes.list\"; backup-file $output_file; $NICE du --bytes --one-file-system 2>&1 | $NICE sort -rn | apply-usage-numeric-suffixes >| $output_file 2>&1; $PAGER $output_file; }\n",
    "#\n",
    "# alias usage-pp='usage | apply-usage-numeric-suffixes | $PAGER'\n",
    "\n",
    "## OLD: Used conditional-echo assertion\n",
    "# byte-usage | testnum\n",
    "# usage-pp | testnum\n",
    "\n",
    "[[ -n \"$(byte-usage | grep \"[0-9]M\")\" && -n \"$(usage-pp | grep \"[0-9]K\")\" ]]; echo $?"
   ]
  },
  {
   "cell_type": "code",
   "execution_count": 16,
   "id": "95bda88c",
   "metadata": {},
   "outputs": [
    {
     "name": "stdout",
     "output_type": "stream",
     "text": [
      "0\n"
     ]
    }
   ],
   "source": [
    "# ERROR GENERATED - MULTIPLE\n",
    "# $ ups a > psa.txt\n",
    "# $ usage psa.txt\n",
    "# | bash: ups: command not found\n",
    "# | bash: default_assignment: command not found\n",
    "# | bash: rename-with-file-date: command not found\n",
    "# | bash: $output_file: ambiguous redirect\n",
    "# | sort: fflush failed: 'standard output': Broken pipe\n",
    "# | sort: write error\n",
    "## OLD: usage \n",
    "\n",
    "## OLD: Used conditional-echo assertion\n",
    "# $ usage | tail --lines=+2\n",
    "# | 12K\t.\n",
    "[ -n \"$(usage | tail --lines=+2 | grep [0-9]K)\" ]; echo $?"
   ]
  },
  {
   "cell_type": "code",
   "execution_count": 17,
   "id": "db031306",
   "metadata": {},
   "outputs": [
    {
     "name": "stdout",
     "output_type": "stream",
     "text": [
      "0\n"
     ]
    }
   ],
   "source": [
    "#8.1) \n",
    "##\n",
    "## TODO: what the hell???!!!\n",
    "##   rm -rf ./* > /dev/null\n",
    "## NOTE: 'rm  -r' is way too dangerous: rework via another way to ensure uniqueness!\n",
    "\n",
    "printf \"THIS IS THE START\\nTHIS IS A TEST\\nTHIS IS A TEST\\nTHIS IS A TEST\\nTHIS IS A TEST\\nTHIS IS A TEST\\nTHIS IS THE END\\n\" > thisisatest.txt\n",
    "ps -aux > process.txt\n",
    "[[ -e thisisatest.txt && -e process.txt ]]; echo $?\n",
    "# number-columns thisisatest.txt\n",
    "# number-columns-comma process.txt"
   ]
  },
  {
   "cell_type": "code",
   "execution_count": 18,
   "id": "659f29b7",
   "metadata": {},
   "outputs": [
    {
     "name": "stdout",
     "output_type": "stream",
     "text": [
      "0\n"
     ]
    }
   ],
   "source": [
    "[[ \"$(number-columns thisisatest.txt)\" =~ \"1:\" && \"$(number-columns-comma process.txt)\" =~ \"1:\" ]]; echo $?  "
   ]
  },
  {
   "cell_type": "code",
   "execution_count": 19,
   "id": "ae8977b2",
   "metadata": {},
   "outputs": [
    {
     "name": "stdout",
     "output_type": "stream",
     "text": [
      "0\n"
     ]
    }
   ],
   "source": [
    "#9) reverse REVERSES cat COMMAND\n",
    "## BAD: alias reverse='tac'\n",
    "\n",
    "# # Another approach\n",
    "# cat thisisatest.txt\n",
    "# linebr\n",
    "# reverse thisisatest.txt\n",
    "\n",
    "echo \"\\n1111\\n0000\\n1010\\n\" > tacexample.txt\n",
    "# tac tacexample.txt\n",
    "[[ \"$(tac tacexample.txt | head -n 1)\" =~ \"1010\" ]]; echo $?"
   ]
  },
  {
   "cell_type": "code",
   "execution_count": 20,
   "id": "29a5af6d",
   "metadata": {},
   "outputs": [
    {
     "name": "stdout",
     "output_type": "stream",
     "text": [
      "0\n"
     ]
    }
   ],
   "source": [
    "# HALTS NOTEBOOK\n",
    "## BATSPP 2.1.X EXCEPTION ERROR AT LINE 4 (OUTPUT)\n",
    "backup-file thisisatest.txt > /dev/null\n",
    "[[ -e \"thisisatest.txt\" && -e \"backup/thisisatest.txt\" ]]; echo $?"
   ]
  },
  {
   "cell_type": "code",
   "execution_count": 21,
   "id": "a8c89aa1",
   "metadata": {},
   "outputs": [
    {
     "name": "stdout",
     "output_type": "stream",
     "text": [
      "0\n"
     ]
    }
   ],
   "source": [
    "## BATSPP 2.1.X EXCEPTION ERROR AT LINE 5 (OUTPUT)\n",
    "byte-usage process.txt > /dev/null\n",
    "# (Same output for 'byte-usage \"Hi Mom\"' and 'byte-usage thisisatest.txt')\n",
    "[[ -e \"usage.bytes.list\" && -e \"backup/usage.bytes.list\" && -n \"$(cat usage.bytes.list | grep -e 'backup' -e '[0-9]M')\" ]]; echo $?"
   ]
  },
  {
   "cell_type": "code",
   "execution_count": 22,
   "id": "9f2bfe8c",
   "metadata": {
    "scrolled": true
   },
   "outputs": [],
   "source": [
    "#11 - LOG FILES ARE REQUIRED FOR check-errors\n",
    "## BATSPP 2.1.X EXCEPTION ERROR AT LINE 10 (OUTPUT)\n",
    "## TODO2: track down hangup when running entire notebook from scratch\n",
    "## NOTE: perhaps related to use of less (see \"[1]+ Stopped\" in end of output, not visible by default)\n",
    "\n",
    "## TODO\n",
    "## check-errors process.txt\n",
    "## linebr\n",
    "## check-all-errors process.txt\n",
    "## linebr\n",
    "## check-warnings\n",
    "## linebr\n",
    "## check-all-warnings\n",
    "## linebr\n",
    "## check-errors-excerpt process.txt"
   ]
  },
  {
   "cell_type": "code",
   "execution_count": 23,
   "id": "5c1dc2a2",
   "metadata": {},
   "outputs": [],
   "source": [
    "## Issue (Doesn't halt tests, command not found error)\n",
    "# $ rdiff process1.txt psa.txt | testnum\n",
    "# | Echo: Command not found.\n",
    "# | ???\n",
    "# | cvs: Command not found.\n",
    "# |\n",
    "# | echo: No match.\n",
    "# | echo: No match.\n",
    "# | issuing: tkdiff.tcl -r.-X processX.txt\n",
    "# | [X] XXXX\n",
    "# | tkdiff.tcl: Command not found.\n"
   ]
  },
  {
   "cell_type": "code",
   "execution_count": 24,
   "id": "895d01b9",
   "metadata": {},
   "outputs": [],
   "source": [
    "## Issue (testnum not working)\n",
    "# $ tkdiff- process.txt psa.txt\n",
    "# | [1] 5244"
   ]
  },
  {
   "cell_type": "code",
   "execution_count": 25,
   "id": "4e48f66b",
   "metadata": {},
   "outputs": [],
   "source": [
    "## Issue (testnum not working)\n",
    "# $ vdiff process.txt psa.txt\n",
    "# | Error in startup script: couldn't read file \"/home/xaea12/bin/tkdiff.tcl\": no such file or directory\n",
    "# | [2] 5251\n",
    "# | [1]   Exit 1                  wish -f $TOM_BIN/tkdiff.tcl \"$@\"\n"
   ]
  },
  {
   "cell_type": "code",
   "execution_count": 26,
   "id": "d5cf2239",
   "metadata": {},
   "outputs": [],
   "source": [
    "# diff\n",
    "## BAD: \n",
    "## diff_options=\"--ignore-space-change --ignore-blank-lines\"\n",
    "## alias diff='command diff $diff_options'\n",
    "## alias diff-default='command diff'\n",
    "## alias diff-ignore-spacing='diff --ignore-all-space'\n",
    "##\n",
    "## alias do-diff='do_diff.sh'\n",
    "## \n",
    "## function diff-rev () {\n",
    "##     local diff_program=\"diff\"\n",
    "##     if [ \"$1\" = \"--diff-prog\" ]; then\n",
    "##         diff_program=\"$2\"\n",
    "##         shift 2\n",
    "##     fi\n",
    "##     local right_file=\"$1\"\n",
    "##     local left_file=\"$2\"\n",
    "##     \n",
    "##     if [ -d \"$left_file\" ]; then left_file=\"$left_file\"/$(basename \"$right_file\"); fi\n",
    "##     \"$diff_program\" \"$left_file\" \"$right_file\"\n",
    "## }\n",
    "## alias kdiff-rev='diff-rev --diff-prog kdiff'\n",
    "## alias diff-log-output='compare-log-output.sh'\n",
    "## alias vdiff-rev=kdiff-rev"
   ]
  },
  {
   "cell_type": "code",
   "execution_count": 27,
   "id": "0c36d6d5",
   "metadata": {
    "scrolled": true
   },
   "outputs": [
    {
     "name": "stdout",
     "output_type": "stream",
     "text": [
      "0\n"
     ]
    }
   ],
   "source": [
    "# # TESTING diff COMMANDS\n",
    "#\n",
    "# # EVERY DIFF COMMANDS WORK NORMALLY, BUT TESTS HALT AFTER\n",
    "\n",
    "## OLD\n",
    "# linebr\n",
    "ps -u > process1.txt\n",
    "ps -u > process2.txt\n",
    "\n",
    "# # Create or update process1.txt.tmp with new content\n",
    "# ps -u > process1.txt.tmp\n",
    "\n",
    "# # Rename process1.txt.tmp to process1.txt\n",
    "# mv process1.txt.tmp process1.txt\n",
    "\n",
    "# # Repeat the same process for process2.txt\n",
    "# ps -u > process2.txt.tmp\n",
    "# mv process2.txt.tmp process2.txt\n",
    "[[ -n $(pwd | grep \"/tmp/\") && -n \"$(ls | grep -e process1.txt -e process2.txt)\" ]]; echo $?\n",
    "\n"
   ]
  },
  {
   "cell_type": "code",
   "execution_count": 28,
   "id": "a19413d5",
   "metadata": {},
   "outputs": [
    {
     "name": "stdout",
     "output_type": "stream",
     "text": [
      "0\n"
     ]
    }
   ],
   "source": [
    "# #1) diff - HALTS PROCESS (WORKS FINE)\n",
    "\n",
    "# $ diff process1.txt process2.txt #(DIFFERENTIATING PROCESSES FOR DIFFERENT INSTANCES)\n",
    "\n",
    "# diff process1.txt process2.txt | testuser | testnumhex\n",
    "\n",
    "diff process1.txt process2.txt > diff_output.txt 2>&1\n",
    "[[ -n \"$(cat diff_output.txt | grep -e \"13c13\")\" && \"$(cat diff_output.txt | grep -e \">\" -e \"<\" | wc -l)\" = 2 ]]; echo $?"
   ]
  },
  {
   "cell_type": "code",
   "execution_count": 29,
   "id": "169b9a64",
   "metadata": {},
   "outputs": [
    {
     "name": "stdout",
     "output_type": "stream",
     "text": [
      "0\n"
     ]
    }
   ],
   "source": [
    "# #2) diff-default - HALTED (WORKS FINE)\n",
    "# $ diff-default process1.txt process2.txt\n",
    "\n",
    "# diff-default process1.txt process2.txt | testuser | testnumhex\n",
    "diff-default process1.txt process2.txt > diff_default_output.txt 2>&1\n",
    "[[ -n \"$(cat diff_default_output.txt | grep -e \"13c13\")\" && \"$(cat diff_default_output.txt | grep -e \">\" -e \"<\" | wc -l)\" = 2 ]]; echo $?"
   ]
  },
  {
   "cell_type": "code",
   "execution_count": 30,
   "id": "636168eb",
   "metadata": {},
   "outputs": [
    {
     "name": "stdout",
     "output_type": "stream",
     "text": [
      "0\n"
     ]
    }
   ],
   "source": [
    "# #3) diff-ignore-spacing -HALTED (WORKS FINE)\n",
    "\n",
    "# diff-ignore-spacing process1.txt process2.txt | testuser | testnumhex\n",
    "diff-ignore-spacing process1.txt process2.txt > diff_ignore_spacing.txt 2>&1\n",
    "[[ -n \"$(cat diff_ignore_spacing.txt | grep -e \"13c13\")\" && \"$(cat diff_ignore_spacing.txt | grep -e \">\" -e \"<\" | wc -l)\" = 2 ]]; echo $?"
   ]
  },
  {
   "cell_type": "code",
   "execution_count": 31,
   "id": "486aec7d",
   "metadata": {},
   "outputs": [
    {
     "name": "stdout",
     "output_type": "stream",
     "text": [
      "0\n"
     ]
    }
   ],
   "source": [
    "# #4) do-diff - HALTED (WORKS FINE)\n",
    "\n",
    "# do-diff process1.txt process2.txt | testuser | testnumhex\n",
    "do-diff process1.txt process2.txt > do_diff.txt 2>&1\n",
    "[[ -n \"$(cat do_diff.txt | grep -e \"13c13\" -e \"process1.txt vs. process2.txt\" -e \"Differences:\")\" && \"$(cat do_diff.txt | grep -e \">\" -e \"<\" | wc -l)\" = 2 ]]; echo $?"
   ]
  },
  {
   "cell_type": "code",
   "execution_count": 32,
   "id": "903ac57f",
   "metadata": {},
   "outputs": [],
   "source": [
    "# #5) kdiff-rev & vdiff-rev PERFORM THE SAME TASK - HALTS (WORKS FINE)\n",
    "# $ kdiff-rev process1.txt process2.txt\n",
    "# $ linebr\n",
    "# $ vdiff-rev process1.txt process2.txt\n",
    "\n",
    "# | [1] 7234\n",
    "# | --------------------------------------------------------------------------------\n",
    "# | [1]+  Done                    kdiff.sh \"$@\"\n",
    "# | [1] 7238\n"
   ]
  },
  {
   "cell_type": "code",
   "execution_count": 33,
   "id": "cbe6782b",
   "metadata": {},
   "outputs": [
    {
     "name": "stdout",
     "output_type": "stream",
     "text": [
      "0\n"
     ]
    }
   ],
   "source": [
    "# 6) diff-log-output\n",
    "# A. CREATING log files for tests\n",
    "printf \"TESTFILE1\\nNEXT LINE\" > testtxt1.txt\n",
    "printf \"TESTFILE2\\nNEXT LINE2\" > testtxt2.txt\n",
    "[[ -e testtxt1.txt && -e testtxt2.txt ]]; echo $?"
   ]
  },
  {
   "cell_type": "code",
   "execution_count": 34,
   "id": "8f56d6fc",
   "metadata": {},
   "outputs": [
    {
     "name": "stdout",
     "output_type": "stream",
     "text": [
      "0\n"
     ]
    }
   ],
   "source": [
    "# prepare-find-files-here | testuser | testnum | awk '!($6=\"\")'\n",
    "[[ \"$(prepare-find-files-here | wc -l)\" -eq 4 && \"$(ls | grep -E 'ls-(a)?l?R' | wc -l)\" -eq 4 ]]; echo $?"
   ]
  },
  {
   "cell_type": "code",
   "execution_count": 35,
   "id": "1985ac69",
   "metadata": {},
   "outputs": [],
   "source": [
    "## BAD: don't test UI apps (n.b., disrupts execution)\n",
    "## # Opens kdiff (doesn't halt process)\n",
    "## diff-log-output ls-alR.list.log ls-R.list.log\n",
    "## TODO2: use --plain-diff"
   ]
  },
  {
   "cell_type": "code",
   "execution_count": 36,
   "id": "c401e80e",
   "metadata": {},
   "outputs": [
    {
     "name": "stdout",
     "output_type": "stream",
     "text": [
      "0\n"
     ]
    }
   ],
   "source": [
    "# Global Setup\n",
    "#\n",
    "## WTF?: rm -rf $HOME/info > /dev/null\n",
    "## HACK: map HOME to current directory\n",
    "\n",
    "# OLD:\n",
    "save_HOME=$HOME\n",
    "HOME=$PWD\n",
    "mkdir -p $HOME/info\n",
    "# BAD: rm -rf ./* > /dev/null\n",
    "# command mv -f * $trash_dir\n",
    "noice_signature=\"THIS IS A NOICE SIGNATURE\"\n",
    "echo $noice_signature > $HOME/info/.noice-signature\n",
    "[ -e $HOME/info/.noice-signature ]; echo $?"
   ]
  },
  {
   "cell_type": "code",
   "execution_count": 37,
   "id": "ae4468ab",
   "metadata": {},
   "outputs": [
    {
     "name": "stdout",
     "output_type": "stream",
     "text": [
      "0\n"
     ]
    }
   ],
   "source": [
    "## BAD: signature noice | testuser\n",
    "[[ \"$(signature noice | tail --lines=+2 | testuser)\" = $noice_signature ]]; echo $?"
   ]
  },
  {
   "cell_type": "code",
   "execution_count": 38,
   "id": "aa359b7a-165a-4909-9e1a-405940dc564d",
   "metadata": {},
   "outputs": [
    {
     "name": "stdout",
     "output_type": "stream",
     "text": [
      "0\n"
     ]
    }
   ],
   "source": [
    "## HACK: restore HOME\n",
    "HOME=$save_HOME\n",
    "[ \"$HOME\" != \"$PWD\" ]; echo $?"
   ]
  },
  {
   "cell_type": "code",
   "execution_count": 39,
   "id": "06a251ce-184b-4c6d-81e0-ae6a7bfe5837",
   "metadata": {},
   "outputs": [],
   "source": [
    "## BAD:\n",
    "## /bin/rm $HOME/info/.noice-signature 2> /dev/null"
   ]
  },
  {
   "cell_type": "code",
   "execution_count": 40,
   "id": "1c375a69",
   "metadata": {},
   "outputs": [],
   "source": [
    "# most-recent-backup(file): returns most recent backup for FILE in ./backup, accounting for revisions (e.g., extract_matches.perl.~4~)\n",
    "## BATSPP 2.1.X EXCEPTION ERROR AT LINE 13\n",
    "\n",
    "# function most-recent-backup() {\n",
    "#     if [ '$1' = '' ]; then\n",
    "#         echo 'usage: most-recent-backup filename'\n",
    "#         echo 'use BACKUP_DIR=dir ... to override use of ./backup'\n",
    "#         return\n",
    "#     fi\n",
    "#     local file='$1';\n",
    "#         local dir='$BACKUP_DIR'; if [ '$dir' = '' ]; then dir=./backup; fi\n",
    "    \n",
    "#     $LS -t $dir/* | /bin/egrep '/$file(~|.~*)?' | head -1;\n",
    "# }\n",
    "\n",
    "# function diff-backup-helper {\n",
    "#     local diff='$1'; local file='$2'; \n",
    "#     '$diff' $(most-recent-backup \"$file\") '$file';\n",
    "# }\n",
    "\n",
    "# alias diff-backup='diff-backup-helper diff'\n",
    "# alias kdiff-backup='diff-backup-helper kdiff'"
   ]
  },
  {
   "cell_type": "code",
   "execution_count": 41,
   "id": "f0222991",
   "metadata": {},
   "outputs": [
    {
     "name": "stdout",
     "output_type": "stream",
     "text": [
      "0\n"
     ]
    }
   ],
   "source": [
    "dobackup process1.txt > /dev/null\n",
    "[[ -e \"process1.txt\" && -e \"backup/process1.txt\" ]]; echo $?"
   ]
  },
  {
   "cell_type": "code",
   "execution_count": 42,
   "id": "bc964696",
   "metadata": {},
   "outputs": [],
   "source": [
    "## COMMENTED: Uses kdiff\n",
    "# ## WORKS FINE - MAY HALT THE NOTEBOOK TESTS (Opens kdiff)\n",
    "# # $ diff-backup process1.txt\n",
    "# diff-backup process1.txt"
   ]
  },
  {
   "cell_type": "code",
   "execution_count": 43,
   "id": "198d4bae",
   "metadata": {},
   "outputs": [],
   "source": [
    "## BAD: the tests are console based (n.b., GUI apps can pause the script)\n",
    "## ## WORKS FINE - MAY HALT THE NOTEBOOK TESTS (Opens kdiff)\n",
    "## kdiff-backup process1.txt"
   ]
  },
  {
   "cell_type": "code",
   "execution_count": 44,
   "id": "b0c3f7d4-591b-4905-ba3e-12cebb2f0c4f",
   "metadata": {
    "scrolled": true
   },
   "outputs": [],
   "source": [
    "## BAD: do this outside of Jupyter (e.g., in case temp_dir set to /tmp)!\n",
    "## # NEW (Remove temp after use)\n",
    "## rm -rf $temp_dir > /dev/null\n",
    "\n",
    "## OLD & BAD: command mv -f * $trash_dir \n"
   ]
  },
  {
   "cell_type": "code",
   "execution_count": 45,
   "id": "60a12cb0-8269-4498-b05c-5bd358da8245",
   "metadata": {},
   "outputs": [
    {
     "name": "stdout",
     "output_type": "stream",
     "text": [
      "Done\n"
     ]
    }
   ],
   "source": [
    "## DEBUG:\n",
    "echo \"Done\""
   ]
  }
 ],
 "metadata": {
  "kernelspec": {
   "display_name": "Bash",
   "language": "bash",
   "name": "bash"
  },
  "language_info": {
   "codemirror_mode": "shell",
   "file_extension": ".sh",
   "mimetype": "text/x-sh",
   "name": "bash"
  }
 },
 "nbformat": 4,
 "nbformat_minor": 5
}
