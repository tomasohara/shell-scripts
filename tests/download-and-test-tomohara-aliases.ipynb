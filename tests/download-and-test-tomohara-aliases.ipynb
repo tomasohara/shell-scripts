{
 "cells": [
  {
   "cell_type": "code",
   "execution_count": 1,
   "metadata": {},
   "outputs": [],
   "source": [
    "## BAD APPROACH: rm -rf is very dangerous\n",
    "## Warning: this creates a temporary directory for aliases\n",
    "# /bin/rm -rf /tmp/tomasohara-shell-scripts/*"
   ]
  },
  {
   "cell_type": "code",
   "execution_count": 2,
   "metadata": {},
   "outputs": [],
   "source": [
    "# Set directory for alias work\n",
    "# Creation of temp directory as trash\n",
    "export TEMP_TOM_BIN=/tmp/tomasohara-shell-scripts\n",
    "export trash_dir=/tmp/_temp-trash-$(date \"+%Y%m%d%H%M%S\")\n",
    "export TEMP_TOM_ALIAS_FILE=\"$TEMP_TOM_BIN/tomohara-aliases.bash\"\n",
    "mkdir -p \"$TEMP_TOM_BIN\"\n",
    "mkdir -p \"$trash_dir\"\n",
    "command cd \"$TEMP_TOM_BIN\""
   ]
  },
  {
   "cell_type": "code",
   "execution_count": 3,
   "metadata": {},
   "outputs": [
    {
     "name": "stdout",
     "output_type": "stream",
     "text": [
      "1\n"
     ]
    }
   ],
   "source": [
    "## Checks if the directory is empty (1)\n",
    "command ls | { [ $(wc -l < /dev/stdin) -ne 0 ]; echo $?; }"
   ]
  },
  {
   "cell_type": "code",
   "execution_count": 4,
   "metadata": {},
   "outputs": [],
   "source": [
    "# Get latest version of aliases\n",
    "curl https://raw.githubusercontent.com/tomasohara/shell-scripts/main/tomohara-aliases.bash > \"$TEMP_TOM_ALIAS_FILE\" 2>/dev/null"
   ]
  },
  {
   "cell_type": "code",
   "execution_count": 5,
   "metadata": {},
   "outputs": [
    {
     "name": "stdout",
     "output_type": "stream",
     "text": [
      "0\n"
     ]
    }
   ],
   "source": [
    "## Checks if the directory is non-empty (0)\n",
    "command ls | { [ $(wc -l < /dev/stdin) -ne 0 ]; echo $?; }"
   ]
  },
  {
   "cell_type": "code",
   "execution_count": 6,
   "metadata": {},
   "outputs": [
    {
     "name": "stdout",
     "output_type": "stream",
     "text": [
      "/tmp/tomasohara-shell-scripts/tomohara-aliases.bash: Bourne-Again shell script, Unicode text, UTF-8 text executable\n"
     ]
    }
   ],
   "source": [
    "file \"$TEMP_TOM_ALIAS_FILE\""
   ]
  },
  {
   "cell_type": "code",
   "execution_count": 7,
   "metadata": {},
   "outputs": [],
   "source": [
    "## OLD: set -o xtrace halts the tests\n",
    "# # Note: batch mode needed for Jupyter usage\n",
    "# export BATCH_MODE=1\n",
    "# set -o xtrace\n",
    "# source \"$TOM_ALIAS_FILE\"\n",
    "# echo done"
   ]
  },
  {
   "cell_type": "code",
   "execution_count": 8,
   "metadata": {},
   "outputs": [],
   "source": [
    "# # Note: batch mode needed for Jupyter usage\n",
    "# Global Setup\n",
    "export BATCH_MODE=1"
   ]
  },
  {
   "cell_type": "code",
   "execution_count": 9,
   "metadata": {},
   "outputs": [],
   "source": [
    "# set -o xtrace"
   ]
  },
  {
   "cell_type": "code",
   "execution_count": 10,
   "metadata": {},
   "outputs": [],
   "source": [
    "source \"$TEMP_TOM_ALIAS_FILE\""
   ]
  },
  {
   "cell_type": "code",
   "execution_count": 11,
   "metadata": {},
   "outputs": [
    {
     "name": "stdout",
     "output_type": "stream",
     "text": [
      "0\n"
     ]
    }
   ],
   "source": [
    "show-macros | { [ $(wc -l < /dev/stdin) -ne 0 ]; echo $?; }"
   ]
  },
  {
   "cell_type": "code",
   "execution_count": 12,
   "metadata": {},
   "outputs": [],
   "source": [
    "# Removed the testfile to remove everything after completion\n",
    "command mv -f * \"$trash_dir\""
   ]
  }
 ],
 "metadata": {
  "kernelspec": {
   "display_name": "Bash",
   "language": "bash",
   "name": "bash"
  },
  "language_info": {
   "codemirror_mode": "shell",
   "file_extension": ".sh",
   "mimetype": "text/x-sh",
   "name": "bash"
  }
 },
 "nbformat": 4,
 "nbformat_minor": 4
}
