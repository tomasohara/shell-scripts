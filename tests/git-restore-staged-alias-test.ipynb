{
 "cells": [
  {
   "cell_type": "code",
   "execution_count": 4,
   "id": "79ed45fa-77e3-4e1b-841c-6d364512ca64",
   "metadata": {},
   "outputs": [
    {
     "name": "stdout",
     "output_type": "stream",
     "text": [
      "\u001b]1;$ lolo [~]\u0007\u001b]2;$ lolo [~]\u0007\n",
      "mkdir: cannot create directory ‘temp-update-git-test’: File exists\n",
      "Reinitialized existing Git repository in /home/lolo/temp-update-git-test/.git/\n",
      "error: remote origin already exists.\n",
      "From https://github.com/LorenzoFerraces/bash-test\n",
      " * branch            main       -> FETCH_HEAD\n",
      "Already up to date.\n"
     ]
    }
   ],
   "source": [
    "#creating temp repo to test on\n",
    "cd \n",
    "mkdir temp-update-git-test \n",
    "cd temp-update-git-test >/dev/null\n",
    "git init \n",
    "git remote add origin https://github.com/LorenzoFerraces/bash-test.git \n",
    "git pull -r origin main "
   ]
  },
  {
   "cell_type": "code",
   "execution_count": 5,
   "id": "dd846ff6-12bf-4503-8dfe-0f619b82bd21",
   "metadata": {},
   "outputs": [
    {
     "name": "stdout",
     "output_type": "stream",
     "text": [
      "hello2\n"
     ]
    }
   ],
   "source": [
    "#adding changes to a file and stage them\n",
    "cat hello.txt\n",
    "echo \"hello2\" >> hello.txt\n",
    "git add hello.txt"
   ]
  },
  {
   "cell_type": "code",
   "execution_count": 6,
   "id": "fc003b4a-39b6-49af-b85c-35408723b148",
   "metadata": {},
   "outputs": [
    {
     "name": "stdout",
     "output_type": "stream",
     "text": [
      "On branch main\n",
      "Your branch is up to date with 'origin/main'.\n",
      "\n",
      "Changes to be committed:\n",
      "  (use \"git restore --staged <file>...\" to unstage)\n",
      "\t\u001b[32mmodified:   hello.txt\u001b[m\n",
      "\n"
     ]
    }
   ],
   "source": [
    "#git status to show staged changes\n",
    "git status"
   ]
  },
  {
   "cell_type": "code",
   "execution_count": 7,
   "id": "a0c354b9-e9c6-49cd-8120-8ff90087e0f0",
   "metadata": {},
   "outputs": [
    {
     "name": "stdout",
     "output_type": "stream",
     "text": [
      "issuing: cp -vpf hello.txt _git-trash\n",
      "issuing: git restore --staged hello.txt\n",
      "'hello.txt' -> '_git-trash/hello.txt'\n"
     ]
    }
   ],
   "source": [
    "#restore the previously changed file\n",
    "git-restore-staged-alias hello.txt"
   ]
  },
  {
   "cell_type": "code",
   "execution_count": 8,
   "id": "0c535d9c-8998-46e8-a637-b90b4e9aae83",
   "metadata": {},
   "outputs": [
    {
     "name": "stdout",
     "output_type": "stream",
     "text": [
      "On branch main\n",
      "Your branch is up to date with 'origin/main'.\n",
      "\n",
      "Changes not staged for commit:\n",
      "  (use \"git add <file>...\" to update what will be committed)\n",
      "  (use \"git restore <file>...\" to discard changes in working directory)\n",
      "\t\u001b[31mmodified:   hello.txt\u001b[m\n",
      "\n",
      "no changes added to commit (use \"git add\" and/or \"git commit -a\")\n"
     ]
    }
   ],
   "source": [
    "#show the changes now being unstaged\n",
    "git status"
   ]
  },
  {
   "cell_type": "code",
   "execution_count": 9,
   "id": "6e691314-5c4b-494b-812b-6e84e7dacf28",
   "metadata": {},
   "outputs": [
    {
     "name": "stdout",
     "output_type": "stream",
     "text": [
      "hello2\n",
      "hello2\n"
     ]
    }
   ],
   "source": [
    "#but the changes are still present in the local file\n",
    "cat hello.txt"
   ]
  },
  {
   "cell_type": "code",
   "execution_count": 10,
   "id": "ee07dde0-b4c6-492c-a41c-3514744f50e4",
   "metadata": {},
   "outputs": [
    {
     "name": "stdout",
     "output_type": "stream",
     "text": [
      "\u001b]1;$ lolo [~]\u0007\u001b]2;$ lolo [~]\u0007\n"
     ]
    }
   ],
   "source": [
    "#cleanup\n",
    "cd \n",
    "rm -rf temp-update-git-test > /dev/null"
   ]
  }
 ],
 "metadata": {
  "kernelspec": {
   "display_name": "Bash",
   "language": "bash",
   "name": "bash"
  },
  "language_info": {
   "codemirror_mode": "shell",
   "file_extension": ".sh",
   "mimetype": "text/x-sh",
   "name": "bash"
  }
 },
 "nbformat": 4,
 "nbformat_minor": 5
}
