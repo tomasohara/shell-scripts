{
 "cells": [
  {
   "cell_type": "code",
   "execution_count": 1,
   "metadata": {},
   "outputs": [],
   "source": [
    "## OLD\n",
    "# ls *.html"
   ]
  },
  {
   "cell_type": "code",
   "execution_count": 2,
   "metadata": {},
   "outputs": [],
   "source": [
    "## OLD\n",
    "# url-path template.html"
   ]
  },
  {
   "cell_type": "code",
   "execution_count": 3,
   "metadata": {},
   "outputs": [],
   "source": [
    "#===============================================================================\n",
    "# TODO: find jupyter way to do divider line (or at least bash)"
   ]
  },
  {
   "cell_type": "code",
   "execution_count": 4,
   "metadata": {},
   "outputs": [],
   "source": [
    "# Global Setup\n",
    "\n",
    "## linebr Uses simple bash command to create a series of hypens (-)\n",
    "## OLD\n",
    "# alias linebr=\"printf '%*s\\n' \"${COLUMNS:-$(tput cols)}\" '' | tr ' ' -\"\n",
    "\n",
    "alias linebr=\"printf '%132s\\n' ' ' | tr ' ' '-'\"\n",
    "alias testuserpath=\"sed 's|/home/[^/]\\+/|USER_PATH/|'\""
   ]
  },
  {
   "cell_type": "code",
   "execution_count": 5,
   "metadata": {},
   "outputs": [
    {
     "name": "stdout",
     "output_type": "stream",
     "text": [
      "0\n"
     ]
    }
   ],
   "source": [
    "[ \"$(linebr | grep -o \"-\" | wc -l)\" -eq 132 ]; echo $?"
   ]
  },
  {
   "cell_type": "code",
   "execution_count": 6,
   "metadata": {},
   "outputs": [
    {
     "name": "stdout",
     "output_type": "stream",
     "text": [
      "0\n"
     ]
    }
   ],
   "source": [
    "# ls *.rst\n",
    "[[ -n \"$(ls *.rst)\" &&  \"$(ls *.rst)\" =~ docshtest.rst ]]; echo $?"
   ]
  },
  {
   "cell_type": "code",
   "execution_count": 7,
   "metadata": {},
   "outputs": [],
   "source": [
    "# ## OLD\n",
    "# # $ url-path docshtest.rst\n",
    "# # | file:////PATH_TO_SHELL_SCRIPTS/shell-scripts/tests/docshtest.rst\n",
    "# ## This trims the all unnecessary paths from reverse and reverses the trim\n",
    "\n",
    "# ## OLD: url-path docshtest.rst | cut -d ' ' -f 2 | rev | cut -c 1-20 | rev | sed \"s|^|PATH_TO_SHELL_SCRIPTS|\"\n",
    "\n",
    "# # Testuserpath from alias-cd-commands\n",
    "# alias testuserpath=\"sed 's|/home/[^/]\\+/|USER_PATH/|'\"\n",
    "# # alias testuserpath=\"sed 's|/home/[^/]\\+/|USER_PATH/[^/]\\+/|'\"\n",
    "\n",
    "# pwd *.rst | testuserpath\n",
    "# ## Sample Output: USER_PATH/tomProject/shell-scripts/tests\n",
    "\n",
    "# [ \"$(pwd *.rst | testuserpath)\" == \"USER_PATH\\/([^\\/]+\\/)*shell-scripts\\/tests\" ]; echo $?\n"
   ]
  },
  {
   "cell_type": "code",
   "execution_count": 8,
   "metadata": {},
   "outputs": [
    {
     "name": "stdout",
     "output_type": "stream",
     "text": [
      "0\n"
     ]
    }
   ],
   "source": [
    "# Get the absolute paths of all .rst files in the current directory and replace the home directory path\n",
    "# with \"USER_PATH\" using the defined alias\n",
    "output=$(pwd *.rst | testuserpath)\n",
    "\n",
    "# Check if the resulting path matches the expected pattern\n",
    "[[ \"$output\" =~ USER_PATH/([^/]+/)*shell-scripts/tests ]]; echo $?"
   ]
  }
 ],
 "metadata": {
  "kernelspec": {
   "display_name": "Bash",
   "language": "bash",
   "name": "bash"
  },
  "language_info": {
   "codemirror_mode": "shell",
   "file_extension": ".sh",
   "mimetype": "text/x-sh",
   "name": "bash"
  }
 },
 "nbformat": 4,
 "nbformat_minor": 4
}
