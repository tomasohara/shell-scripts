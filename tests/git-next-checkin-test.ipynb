{
 "cells": [
  {
   "cell_type": "code",
   "execution_count": 2,
   "id": "20af0408-f26a-4b2f-afd6-43a780d36951",
   "metadata": {
    "scrolled": true
   },
   "outputs": [
    {
     "name": "stdout",
     "output_type": "stream",
     "text": [
      "\u001b]1;$ lolo [~]\u0007\u001b]2;$ lolo [~]\u0007\n",
      "remote: Enumerating objects: 95, done.\u001b[K\n",
      "remote: Counting objects: 100% (95/95), done.\u001b[K\n",
      "remote: Compressing objects: 100% (61/61), done.\u001b[K\n",
      "remote: Total 95 (delta 16), reused 87 (delta 8), pack-reused 0\u001b[K\n",
      "Unpacking objects: 100% (95/95), 7.91 KiB | 279.00 KiB/s, done.\n",
      "From https://github.com/LorenzoFerraces/bash-test\n",
      " * branch            main       -> FETCH_HEAD\n",
      " * [new branch]      main       -> origin/main\n"
     ]
    }
   ],
   "source": [
    "#creating temp repo to test on\n",
    "cd \n",
    "mkdir temp-update-git-test >/dev/null\n",
    "cd temp-update-git-test >/dev/null\n",
    "git init >/dev/null \n",
    "git remote add origin https://github.com/LorenzoFerraces/bash-test.git >/dev/null\n",
    "git pull -r origin main\n"
   ]
  },
  {
   "cell_type": "code",
   "execution_count": 3,
   "id": "e1539b1e-ad5c-4ab0-9f3a-1bed14064408",
   "metadata": {},
   "outputs": [
    {
     "name": "stdout",
     "output_type": "stream",
     "text": [
      "On branch main\n",
      "Untracked files:\n",
      "  (use \"git add <file>...\" to include in what will be committed)\n",
      "\t\u001b[31mhello.txt\u001b[m\n",
      "\n",
      "nothing added to commit but untracked files present (use \"git add\" to track)\n"
     ]
    }
   ],
   "source": [
    "#changing the file but not stashing changes\n",
    "echo \"hello\" >> hello.txt\n",
    "git status"
   ]
  },
  {
   "cell_type": "code",
   "execution_count": 4,
   "id": "0b31474f-a114-4cf5-9ccc-32bc0f8ff2ce",
   "metadata": {
    "scrolled": true
   },
   "outputs": [
    {
     "name": "stdout",
     "output_type": "stream",
     "text": [
      "Warning: unable to infer modified file. Perhaps,\n",
      "    Tha-tha-that's all folks!\n",
      "\n",
      "................................................................................\n",
      "issuing: git status \n",
      "On branch main\n",
      "Untracked files:\n",
      "  (use \"git add <file>...\" to include in what will be committed)\n",
      "\thello.txt\n",
      "\n",
      "nothing added to commit but untracked files present (use \"git add\" to track)\n",
      "...\n"
     ]
    }
   ],
   "source": [
    "export GIT_MESSAGE=\"void\"\n",
    "export GIT_MESSAGE=\"1\"\n",
    "git-next-checkin\n"
   ]
  },
  {
   "cell_type": "code",
   "execution_count": 5,
   "id": "3e57e3b6-ea5c-4c80-80c9-89b001bc4120",
   "metadata": {},
   "outputs": [
    {
     "name": "stdout",
     "output_type": "stream",
     "text": [
      "\u001b]1;$ lolo [~]\u0007\u001b]2;$ lolo [~]\u0007\n"
     ]
    }
   ],
   "source": [
    "#cleanup\n",
    "cd\n",
    "rm -rf temp-update-git-test > /dev/null"
   ]
  }
 ],
 "metadata": {
  "kernelspec": {
   "display_name": "Bash",
   "language": "bash",
   "name": "bash"
  },
  "language_info": {
   "codemirror_mode": "shell",
   "file_extension": ".sh",
   "mimetype": "text/x-sh",
   "name": "bash"
  }
 },
 "nbformat": 4,
 "nbformat_minor": 5
}
