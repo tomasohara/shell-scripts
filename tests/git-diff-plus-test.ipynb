{
 "cells": [
  {
   "cell_type": "code",
   "execution_count": 2,
   "id": "0de261fb-1b92-48f3-9078-e13e3273385d",
   "metadata": {},
   "outputs": [
    {
     "name": "stdout",
     "output_type": "stream",
     "text": [
      "\u001b]1;$ lolo [~]\u0007\u001b]2;$ lolo [~]\u0007\n",
      "Initialized empty Git repository in /home/lolo/temp-update-git-test/.git/\n",
      "remote: Enumerating objects: 92, done.\u001b[K\n",
      "remote: Counting objects: 100% (92/92), done.\u001b[K\n",
      "remote: Compressing objects: 100% (59/59), done.\u001b[K\n",
      "remote: Total 92 (delta 16), reused 84 (delta 8), pack-reused 0\u001b[K\n",
      "Unpacking objects: 100% (92/92), 7.60 KiB | 116.00 KiB/s, done.\n",
      "From https://github.com/LorenzoFerraces/bash-test\n",
      " * branch            main       -> FETCH_HEAD\n",
      " * [new branch]      main       -> origin/main\n"
     ]
    }
   ],
   "source": [
    "#creating temp repo to test on\n",
    "cd \n",
    "mkdir temp-update-git-test \n",
    "cd temp-update-git-test >/dev/null\n",
    "git init \n",
    "git remote add origin https://github.com/LorenzoFerraces/bash-test.git \n",
    "git pull origin main"
   ]
  },
  {
   "cell_type": "code",
   "execution_count": 3,
   "id": "2708db0d-2940-4593-995f-6d9eba40dd4a",
   "metadata": {},
   "outputs": [],
   "source": [
    "# add changes to two files \n",
    "echo \"git diff test one\" >> diff.txt\n",
    "echo \"git diff test two\" >> diff.txt\n",
    "echo \"hello 1\" >> hello.txt\n",
    "echo \"hello 2\" >> hello.txt"
   ]
  },
  {
   "cell_type": "code",
   "execution_count": 4,
   "id": "34cda488-624c-4ab1-a1bb-ac3462111fcc",
   "metadata": {},
   "outputs": [
    {
     "name": "stdout",
     "output_type": "stream",
     "text": [
      "\u001b[?1h\u001b=\n",
      "\n",
      "\n",
      "\n",
      "\n",
      "\n",
      "\n",
      "\n",
      "\n",
      "\n",
      "\n",
      "\n",
      "\n",
      "\n",
      "\n",
      "\n",
      "\n",
      "\n",
      "\n",
      "\n",
      "\n",
      "\n",
      "\n",
      "\u001b[K\u001b[24;1H\u001b[H\u001b[2J\u001b[H\u001b[H\u001b[2J\u001b[H\u001b[7mdiff\u001b[27m --git a: diff.txt b: diff.txt\n",
      "index c9aa877..799bf82 100644\n",
      "--- a: diff.txt\n",
      "+++ b: diff.txt\n",
      "@@ -1 +1,3 @@\n",
      " diff2\n",
      "+git diff test one\n",
      "+git diff test two\n",
      "\u001b[7mdiff\u001b[27m --git a: hello.txt b: hello.txt\n",
      "index bec1e3b..1ef116b 100644\n",
      "--- a: hello.txt\n",
      "+++ b: hello.txt\n",
      "@@ -1,3 +1,5 @@\n",
      " hello conflicts\n",
      " hello\n",
      " hello world\n",
      "+hello 1\n",
      "+hello 2\n",
      "\u001b[1m~\u001b[0m\n",
      "\u001b[1m~\u001b[0m\n",
      "\u001b[1m~\u001b[0m\n",
      "\u001b[1m~\u001b[0m\n",
      "\u001b[1m~\u001b[0m\n",
      "\u001b[K\u001b[?1l\u001b>\n"
     ]
    }
   ],
   "source": [
    "#use both files on git-diff-plus\n",
    "#i'm not sure why there's all that whitespace at the beggining\n",
    "git-diff-plus diff.txt hello.txt"
   ]
  },
  {
   "cell_type": "code",
   "execution_count": 1,
   "id": "dfa004d4-9a64-4b39-9368-9351de3d58e7",
   "metadata": {},
   "outputs": [
    {
     "name": "stdout",
     "output_type": "stream",
     "text": [
      "\u001b]1;$ lolo [~]\u0007\u001b]2;$ lolo [~]\u0007\n"
     ]
    }
   ],
   "source": [
    "#cleanup\n",
    "cd \n",
    "rm -rf temp-update-git-test > /dev/null"
   ]
  }
 ],
 "metadata": {
  "kernelspec": {
   "display_name": "Bash",
   "language": "bash",
   "name": "bash"
  },
  "language_info": {
   "codemirror_mode": "shell",
   "file_extension": ".sh",
   "mimetype": "text/x-sh",
   "name": "bash"
  }
 },
 "nbformat": 4,
 "nbformat_minor": 5
}
