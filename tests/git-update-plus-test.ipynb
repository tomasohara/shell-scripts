{
 "cells": [
  {
   "cell_type": "code",
   "execution_count": 3,
   "id": "0fd940d1-bc2f-4c08-9100-8ab92479e60b",
   "metadata": {},
   "outputs": [
    {
     "name": "stdout",
     "output_type": "stream",
     "text": [
      "\u001b]1;$ lolo [~]\u0007\u001b]2;$ lolo [~]\u0007\n",
      "\u001b[33mhint: Using 'master' as the name for the initial branch. This default branch name\u001b[m\n",
      "\u001b[33mhint: is subject to change. To configure the initial branch name to use in all\u001b[m\n",
      "\u001b[33mhint: of your new repositories, which will suppress this warning, call:\u001b[m\n",
      "\u001b[33mhint: \u001b[m\n",
      "\u001b[33mhint: \tgit config --global init.defaultBranch <name>\u001b[m\n",
      "\u001b[33mhint: \u001b[m\n",
      "\u001b[33mhint: Names commonly chosen instead of 'master' are 'main', 'trunk' and\u001b[m\n",
      "\u001b[33mhint: 'development'. The just-created branch can be renamed via this command:\u001b[m\n",
      "\u001b[33mhint: \u001b[m\n",
      "\u001b[33mhint: \tgit branch -m <name>\u001b[m\n",
      "remote: Enumerating objects: 40, done.\u001b[K\n",
      "remote: Counting objects: 100% (40/40), done.\u001b[K\n",
      "remote: Compressing objects: 100% (25/25), done.\u001b[K\n",
      "remote: Total 40 (delta 6), reused 40 (delta 6), pack-reused 0\u001b[K\n",
      "Unpacking objects: 100% (40/40), 3.42 KiB | 269.00 KiB/s, done.\n",
      "From https://github.com/LorenzoFerraces/bash-test\n",
      " * branch            master     -> FETCH_HEAD\n",
      " * [new branch]      master     -> origin/master\n"
     ]
    }
   ],
   "source": [
    "#creating temp repo to test on\n",
    "cd \n",
    "mkdir temp-update-git-test >/dev/null\n",
    "cd temp-update-git-test >/dev/null\n",
    "git init >/dev/null \n",
    "git remote add origin https://github.com/LorenzoFerraces/bash-test.git >/dev/null\n",
    "git pull -r origin main\n"
   ]
  },
  {
   "cell_type": "code",
   "execution_count": 2,
   "id": "74877487-cb28-4871-835c-22127606dc27",
   "metadata": {},
   "outputs": [
    {
     "name": "stdout",
     "output_type": "stream",
     "text": [
      "\u001b]1;$ lolo [~]\u0007\u001b]2;$ lolo [~]\u0007\n",
      "\u001b[33mhint: Using 'master' as the name for the initial branch. This default branch name\u001b[m\n",
      "\u001b[33mhint: is subject to change. To configure the initial branch name to use in all\u001b[m\n",
      "\u001b[33mhint: of your new repositories, which will suppress this warning, call:\u001b[m\n",
      "\u001b[33mhint: \u001b[m\n",
      "\u001b[33mhint: \tgit config --global init.defaultBranch <name>\u001b[m\n",
      "\u001b[33mhint: \u001b[m\n",
      "\u001b[33mhint: Names commonly chosen instead of 'master' are 'main', 'trunk' and\u001b[m\n",
      "\u001b[33mhint: 'development'. The just-created branch can be renamed via this command:\u001b[m\n",
      "\u001b[33mhint: \u001b[m\n",
      "\u001b[33mhint: \tgit branch -m <name>\u001b[m\n",
      "remote: Enumerating objects: 40, done.\u001b[K\n",
      "remote: Counting objects: 100% (40/40), done.\u001b[K\n",
      "remote: Compressing objects: 100% (25/25), done.\u001b[K\n",
      "remote: Total 40 (delta 6), reused 40 (delta 6), pack-reused 0\u001b[K\n",
      "Unpacking objects: 100% (40/40), 3.42 KiB | 292.00 KiB/s, done.\n",
      "From https://github.com/LorenzoFerraces/bash-test\n",
      " * branch            master     -> FETCH_HEAD\n",
      " * [new branch]      master     -> origin/master\n",
      "From https://github.com/LorenzoFerraces/bash-test\n",
      " * branch            master     -> FETCH_HEAD\n",
      "branch 'master' set up to track 'origin/master'.\n"
     ]
    }
   ],
   "source": [
    "#create second repo with its own commit and link to remote\n",
    "cd \n",
    "mkdir temp-update-git-test-B >/dev/null\n",
    "cd temp-update-git-test-B >/dev/null\n",
    "git init >/dev/null\n",
    "git remote add origin https://github.com/LorenzoFerraces/bash-test.git\n",
    "git fetch origin main\n",
    "git pull -r origin main >/dev/null\n",
    "echo \"first commit here\" >| hello.txt\n"
   ]
  },
  {
   "cell_type": "code",
   "execution_count": 3,
   "id": "fb3460ff-b1c3-47bb-abab-076abee587ac",
   "metadata": {},
   "outputs": [
    {
     "name": "stdout",
     "output_type": "stream",
     "text": [
      "\u001b]1;$ lolo [~]\u0007\u001b]2;$ lolo [~]\u0007\n",
      "/home/lolo/temp-update-git-test\n",
      "\u001b]1;$ temp-update-git-test [~/temp-update-git-test]\u0007\u001b]2;$ temp-update-git-test [~/temp-update-git-test]\u0007\n",
      "On branch master\n",
      "nothing to commit, working tree clean\n",
      "branch 'master' set up to track 'origin/master'.\n",
      "Everything up-to-date\n"
     ]
    }
   ],
   "source": [
    "#add a change to first repo\n",
    "cd \n",
    "cd temp-update-git-test\n",
    "echo \"first line\" >| file.txt\n",
    "git add *\n",
    "git commit -m \"first commit\"\n",
    "git push "
   ]
  },
  {
   "cell_type": "code",
   "execution_count": 4,
   "id": "e34d7afb-8aab-4ed6-ad5e-a762261bac1d",
   "metadata": {},
   "outputs": [
    {
     "name": "stdout",
     "output_type": "stream",
     "text": [
      "\u001b]1;$ lolo [~]\u0007\u001b]2;$ lolo [~]\u0007\n",
      "/home/lolo/temp-update-git-test-B\n",
      "\u001b]1;$ temp-update-git-test-B [~/temp-update-git-test-B]\u0007\u001b]2;$ temp-update-git-test-B [~/temp-update-git-test-B]\u0007\n",
      "On branch master\n",
      "Your branch is up to date with 'origin/master'.\n",
      "\n",
      "Changes not staged for commit:\n",
      "  (use \"git add <file>...\" to update what will be committed)\n",
      "  (use \"git restore <file>...\" to discard changes in working directory)\n",
      "\t\u001b[31mmodified:   hello.txt\u001b[m\n",
      "\n",
      "no changes added to commit (use \"git add\" and/or \"git commit -a\")\n"
     ]
    }
   ],
   "source": [
    "#show that remote of second local is ahead \n",
    "cd \n",
    "cd temp-update-git-test-B\n",
    "git status"
   ]
  },
  {
   "cell_type": "code",
   "execution_count": 5,
   "id": "0e71c91a-41c3-469b-ba9e-4999f3aba0d3",
   "metadata": {},
   "outputs": [
    {
     "name": "stdout",
     "output_type": "stream",
     "text": [
      "Error: Use 'git-update-force' to update with changed files (n.b., potential for conflicts)\n"
     ]
    }
   ],
   "source": [
    "#should not pull if there are changed files\n",
    "git-update-plus"
   ]
  },
  {
   "cell_type": "code",
   "execution_count": 6,
   "id": "5df153a3-bc55-42fd-a7fe-6bf429c4be7c",
   "metadata": {},
   "outputs": [
    {
     "name": "stdout",
     "output_type": "stream",
     "text": [
      "No changed files so no pre-stash-pop timestamp check\n",
      "issuing: git stash\n",
      "issuing: git pull --all\n",
      "issuing: git stash pop\n",
      "No changed files so no post-stash-pop timestamp check\n",
      "  (use \"git add <file>...\" to update what will be committed)\n",
      "  (use \"git restore <file>...\" to discard changes in working directory)\n",
      "\tmodified:   hello.txt\n",
      "\n",
      "Untracked files:\n",
      "  (use \"git add <file>...\" to include in what will be committed)\n",
      "\tlog-files/_git-update-05nov23-1706-KdO.log\n",
      "\n",
      "Dropped refs/stash@{0} (b8a379d8e6da69b62bf28d0506896ded93458aab)\n",
      "\n"
     ]
    }
   ],
   "source": [
    "#stage changes, and now it should work normally\n",
    "git add * \n",
    "git-update-plus"
   ]
  },
  {
   "cell_type": "code",
   "execution_count": 7,
   "id": "f53594b5-b158-4586-902c-66e48322734c",
   "metadata": {},
   "outputs": [
    {
     "name": "stdout",
     "output_type": "stream",
     "text": [
      "On branch master\n",
      "Your branch is up to date with 'origin/master'.\n",
      "\n",
      "Changes to be committed:\n",
      "  (use \"git restore --staged <file>...\" to unstage)\n",
      "\t\u001b[32mnew file:   log-files/_git-update-05nov23-1706-5ts.log\u001b[m\n",
      "\n",
      "Changes not staged for commit:\n",
      "  (use \"git add <file>...\" to update what will be committed)\n",
      "  (use \"git restore <file>...\" to discard changes in working directory)\n",
      "\t\u001b[31mmodified:   hello.txt\u001b[m\n",
      "\n",
      "Untracked files:\n",
      "  (use \"git add <file>...\" to include in what will be committed)\n",
      "\t\u001b[31mlog-files/_git-update-05nov23-1706-KdO.log\u001b[m\n",
      "\n"
     ]
    }
   ],
   "source": [
    "#\n",
    "git status"
   ]
  },
  {
   "cell_type": "code",
   "execution_count": 4,
   "id": "8b6147ef-b0c9-4747-8db4-f59caa1560a5",
   "metadata": {},
   "outputs": [
    {
     "name": "stdout",
     "output_type": "stream",
     "text": [
      "branch 'master' set up to track 'origin/master'.\n",
      "Everything up-to-date\n",
      "\u001b]1;$ lolo [~]\u0007\u001b]2;$ lolo [~]\u0007\n"
     ]
    }
   ],
   "source": [
    "#cleanup\n",
    "cd \n",
    "\n",
    "rm -rf temp-update-git-test > /dev/null\n",
    "rm -rf temp-update-git-test-B > /dev/null\n"
   ]
  }
 ],
 "metadata": {
  "kernelspec": {
   "display_name": "Bash",
   "language": "bash",
   "name": "bash"
  },
  "language_info": {
   "codemirror_mode": "shell",
   "file_extension": ".sh",
   "mimetype": "text/x-sh",
   "name": "bash"
  }
 },
 "nbformat": 4,
 "nbformat_minor": 5
}
