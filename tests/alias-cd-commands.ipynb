{
 "cells": [
  {
   "cell_type": "code",
   "execution_count": 1,
   "id": "273ee5ab",
   "metadata": {
    "scrolled": true
   },
   "outputs": [],
   "source": [
    "# Setup (OPTIONAL - USED IF NEEDED)\n",
    "## bind 'set enable-bracketed-paste off'"
   ]
  },
  {
   "cell_type": "code",
   "execution_count": 2,
   "id": "90b1a7f3",
   "metadata": {},
   "outputs": [
    {
     "name": "stdout",
     "output_type": "stream",
     "text": [
      "0\n"
     ]
    }
   ],
   "source": [
    "## TEST:  Make sure simple prompt used (e.g., no escapes that might contaminate output)\n",
    "## PS1=\"$ \"\n",
    "## TODO: PS1=\"> \"\n",
    "\n",
    "## NOTE: The Jupyter bash kernel requires that PS1 not be modified as they customize it. \n",
    "# echo $PS1\n",
    "actual=${PS1: -1}\n",
    "[ \"$actual\" = \">\" ]; echo $?"
   ]
  },
  {
   "cell_type": "code",
   "execution_count": 3,
   "id": "c8665c2d-276b-4376-a666-0f1cf32bab91",
   "metadata": {},
   "outputs": [],
   "source": [
    "# # Delete all aliases and function\n",
    "# # TODO: Instead start from pristine environment\n",
    "# unalias -a\n",
    "# alias | wc -l\n",
    "# for f in $(typeset -f | egrep '^\\w+'); do unset -f $f; done\n",
    "# typeset -f | egrep '^\\w+' | wc -l"
   ]
  },
  {
   "cell_type": "code",
   "execution_count": 4,
   "id": "5e52c8d9",
   "metadata": {},
   "outputs": [],
   "source": [
    "# Global Setup\n",
    "alias testnum=\"sed -r \"s/[0-9]/N/g\"\" \n",
    "alias testuser=\"sed -r \"s/\"$USER\"+/user/g\"\"\n",
    "alias testuserpath=\"sed 's|/home/[^/]\\+/|USER_PATH/|'\"\n"
   ]
  },
  {
   "cell_type": "code",
   "execution_count": 5,
   "id": "29cebb30",
   "metadata": {},
   "outputs": [],
   "source": [
    "## NOTE: For reproducability, the directory name needs to be fixed\n",
    "## In place of $$, use a psuedo random number (e,g., 6869)\n",
    "## *** All output from one run to the next needs to be the same ***\n",
    "\n",
    "## temp_dir=$TMP/test-$$\n",
    "## OLD\n",
    "# mkdir -p \"$temp_dir\"\n",
    "# # TODO: /bin/rm -rvf \"$temp_dir\"\n",
    "# cd \"$temp_dir\"\n",
    "# pwd\n",
    "\n",
    "## OLD: Used the concept of trash-dir, instead use unique temp_dirs\n",
    "# TMP=/tmp/test-cp-mv\n",
    "# temp_dir=$TMP/test-6869\n",
    "# trash_dir=$TMP/\"_temp-trash-$(date \"+%Y%m%d%H%M%S\")\"\n",
    "# command mkdir -p $temp_dir\n",
    "# command mkdir -p $trash_dir\n",
    "# command cd $temp_dir\n",
    "\n",
    "TMP=${TMP:-/tmp}\n",
    "temp_dir=$TMP/alias-cd-commands\n",
    "rename-with-file-date \"$temp_dir\" > /dev/null\n",
    "command mkdir -p \"$temp_dir\"\n",
    "command cd \"$temp_dir\"\n",
    "\n",
    "## OLD\n",
    "# # ALIAS FOR PRINTING SEPERATION LINES (FOR JUPYTER)\n",
    "# alias linebr=\"printf '%*s\\n' \"${COLUMNS:-$(tput cols)}\" '' | tr ' ' -\""
   ]
  },
  {
   "cell_type": "code",
   "execution_count": 6,
   "id": "9e1fb88a",
   "metadata": {},
   "outputs": [
    {
     "name": "stdout",
     "output_type": "stream",
     "text": [
      "0\n"
     ]
    }
   ],
   "source": [
    "## OLD\n",
    "# Count aliases proper\n",
    "# alias | wc -l\n",
    "\n",
    "# alias | wc -l | testnum\n",
    "\n",
    "#alias | { [ $(wc -l < /dev/stdin) -ne 0 ]; echo $?; }\n",
    "[ \"$(alias | wc -l)\" -ne 0 ]; echo $?"
   ]
  },
  {
   "cell_type": "code",
   "execution_count": 7,
   "id": "6a1cb00b",
   "metadata": {},
   "outputs": [
    {
     "name": "stdout",
     "output_type": "stream",
     "text": [
      "0\n"
     ]
    }
   ],
   "source": [
    "## OLD\n",
    "## Count functions\n",
    "# typeset -f | egrep '^\\w+' | wc -l \n",
    "# typeset -f | egrep '^\\w+' | wc -l | testnum\n",
    "\n",
    "# typeset -f | egrep '^\\w+' | { [ $(wc -l < /dev/stdin) -ne 0 ]; echo $?; }\n",
    "[ \"$(typeset -f | egrep '^\\w+' | wc -l)\" -ne 0 ]; echo $?"
   ]
  },
  {
   "cell_type": "code",
   "execution_count": 8,
   "id": "8a6085e9",
   "metadata": {},
   "outputs": [],
   "source": [
    "## BAD\n",
    "# source $BIN_DIR/tomohara-aliases.bash"
   ]
  },
  {
   "cell_type": "code",
   "execution_count": 9,
   "id": "6cce12a4",
   "metadata": {},
   "outputs": [],
   "source": [
    "## DEBUG\n",
    "## SHOWS CURRENT WORKING DIRECTORY\n",
    "# pwd"
   ]
  },
  {
   "cell_type": "code",
   "execution_count": 10,
   "id": "069ed8cc",
   "metadata": {},
   "outputs": [
    {
     "name": "stdout",
     "output_type": "stream",
     "text": [
      "0\n"
     ]
    }
   ],
   "source": [
    "## chdir works as cd\n",
    "chdir .. > /dev/null\n",
    "actual1=$(command pwd | testuserpath)\n",
    "expected1=\"USER_PATH/temp/tmp\"\n",
    "## OLD: chdir \"test-6869\"/ > /dev/null\n",
    "chdir \"$temp_dir\" > /dev/null\n",
    "actual2=$(command pwd | testuserpath)\n",
    "expected2=\"USER_PATH/temp/tmp/alias-cd-commands\"\n",
    "\n",
    "[[ $actual1 = $expected1 && $actual2 = $expected2 ]]; echo $?"
   ]
  },
  {
   "cell_type": "code",
   "execution_count": 11,
   "id": "36fb8fbd",
   "metadata": {},
   "outputs": [
    {
     "name": "stdout",
     "output_type": "stream",
     "text": [
      "0\n"
     ]
    }
   ],
   "source": [
    "## cd-realdir - ditto for current directory\n",
    "# cd-realdir .. >/dev/null\n",
    "# command pwd | testuserpath\n",
    "# cd-realdir \"$temp_dir\" >/dev/null\n",
    "# command pwd | testuserpath\n",
    "\n",
    "cd-realdir .. >/dev/null\n",
    "actual1=$(command pwd | testuserpath)\n",
    "expected1=\"USER_PATH/temp/tmp\"\n",
    "\n",
    "cd-realdir \"$temp_dir\" >/dev/null\n",
    "actual2=$(command pwd | testuserpath)\n",
    "expected2=\"USER_PATH/temp/tmp/alias-cd-commands\"\n",
    "\n",
    "[[ \"$actual1\" = \"$expected1\" && \"$actual2\" = \"$expected2\" ]]; echo $?\n"
   ]
  },
  {
   "cell_type": "code",
   "execution_count": 12,
   "id": "9cce96fc",
   "metadata": {},
   "outputs": [
    {
     "name": "stdout",
     "output_type": "stream",
     "text": [
      "0\n"
     ]
    }
   ],
   "source": [
    "## cd-this-realdir is an alias for cd-realdir .\n",
    "cd-this-realdir .. >/dev/null\n",
    "## OLD: cd-this-realdir test-6869/\n",
    "actual1=$(command pwd | testuserpath)\n",
    "expected=\"USER_PATH/temp/tmp/alias-cd-commands\"\n",
    "cd-this-realdir \"$temp_dir\" >/dev/null\n",
    "actual2=$(command pwd | testuserpath)\n",
    "\n",
    "[[ \"$actual1\" = \"$expected\" && \"$actual2\" = \"$expected\" ]]; echo $?"
   ]
  },
  {
   "cell_type": "code",
   "execution_count": 13,
   "id": "4033a985",
   "metadata": {},
   "outputs": [
    {
     "name": "stdout",
     "output_type": "stream",
     "text": [
      "0\n"
     ]
    }
   ],
   "source": [
    "## BAD: rm -rf ./* > /dev/null\n",
    "## BAD: command mv -f * $trash_dir\n",
    "# mkdir testdir89 testdir90\n",
    "command mkdir testdir89 testdir90\n",
    "echo \"Testfile1\" > testdir89/f11.txt\n",
    "echo \"Testfile2\" > testdir89/f12.txt\n",
    "[ \"$(ls -d ./* | wc -w)\" -eq 2 ]; echo $?"
   ]
  },
  {
   "cell_type": "code",
   "execution_count": 14,
   "id": "e4b7b6fc",
   "metadata": {},
   "outputs": [
    {
     "name": "stdout",
     "output_type": "stream",
     "text": [
      "0\n"
     ]
    }
   ],
   "source": [
    "pushd-q testdir89\n",
    "# Check if testdir89 in path\n",
    "[[ \"$(ls | grep -e 'f*.txt' | wc -l)\" -eq 2 && \"$(pwd)\" =~ \"testdir89\" ]]; echo $?\n",
    "\n",
    "# linebr\n",
    "# popd-q \n",
    "# command ls"
   ]
  },
  {
   "cell_type": "code",
   "execution_count": 15,
   "id": "14b95b96",
   "metadata": {
    "scrolled": true
   },
   "outputs": [
    {
     "name": "stdout",
     "output_type": "stream",
     "text": [
      "0\n"
     ]
    }
   ],
   "source": [
    "## popd-q is equivalent to cd ..\n",
    "popd-q \n",
    "## OLD\n",
    "# ls\n",
    "[[ \"$(ls | grep -e 'testdir*' | wc -l)\" -eq 2 && ! \"$(pwd)\" =~ \"testdir\" ]]; echo $?"
   ]
  },
  {
   "cell_type": "code",
   "execution_count": 16,
   "id": "e4b21b38",
   "metadata": {
    "scrolled": true
   },
   "outputs": [
    {
     "name": "stdout",
     "output_type": "stream",
     "text": [
      "END\n"
     ]
    }
   ],
   "source": [
    "echo \"END\""
   ]
  }
 ],
 "metadata": {
  "kernelspec": {
   "display_name": "Bash",
   "language": "bash",
   "name": "bash"
  },
  "language_info": {
   "codemirror_mode": "shell",
   "file_extension": ".sh",
   "mimetype": "text/x-sh",
   "name": "bash"
  }
 },
 "nbformat": 4,
 "nbformat_minor": 5
}
