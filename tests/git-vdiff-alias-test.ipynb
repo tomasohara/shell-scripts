{
 "cells": [
  {
   "cell_type": "code",
   "execution_count": 1,
   "id": "0de261fb-1b92-48f3-9078-e13e3273385d",
   "metadata": {},
   "outputs": [
    {
     "name": "stdout",
     "output_type": "stream",
     "text": [
      "\u001b]1;$ lolo [~]\u0007\u001b]2;$ lolo [~]\u0007\n",
      "Initialized empty Git repository in /home/lolo/temp-update-git-test/.git/\n",
      "remote: Enumerating objects: 73, done.\u001b[K\n",
      "remote: Counting objects: 100% (73/73), done.\u001b[K\n",
      "remote: Compressing objects: 100% (46/46), done.\u001b[K\n",
      "remote: Total 73 (delta 9), reused 71 (delta 7), pack-reused 0\u001b[K\n",
      "Unpacking objects: 100% (73/73), 6.18 KiB | 301.00 KiB/s, done.\n",
      "From https://github.com/LorenzoFerraces/bash-test\n",
      " * branch            main       -> FETCH_HEAD\n",
      " * [new branch]      main       -> origin/main\n"
     ]
    }
   ],
   "source": [
    "#creating temp repo to test on\n",
    "cd \n",
    "mkdir temp-update-git-test \n",
    "cd temp-update-git-test >/dev/null\n",
    "git init \n",
    "git remote add origin https://github.com/LorenzoFerraces/bash-test.git \n",
    "git pull origin main"
   ]
  },
  {
   "cell_type": "code",
   "execution_count": 2,
   "id": "2708db0d-2940-4593-995f-6d9eba40dd4a",
   "metadata": {},
   "outputs": [],
   "source": [
    "# add changes to two files \n",
    "echo \"git diff test one\" >> diff.txt\n",
    "echo \"git diff test two\" >> diff.txt\n",
    "echo \"hello 1\" >> hello.txt\n",
    "echo \"hello 2\" >> hello.txt"
   ]
  },
  {
   "cell_type": "code",
   "execution_count": 3,
   "id": "34cda488-624c-4ab1-a1bb-ac3462111fcc",
   "metadata": {},
   "outputs": [
    {
     "name": "stdout",
     "output_type": "stream",
     "text": [
      "[1] 33140\n",
      "\u001b[?1049h\u001b[22;0;0t\u001b[22;0t\u001b[?1h\u001b=\u001b[H\u001b[2J\u001b]11;?\u0007\u001b[?2004h\u001b[?u\u001b[c\u001b[?25h\n",
      "[1]+  Stopped                 git-difftool-plus \"$@\"\n"
     ]
    }
   ],
   "source": [
    "#use both files on git-vdiff-alias and output to file\n",
    "git-vdiff-alias diff.txt hello.txt > log.txt\n",
    "cat log.txt"
   ]
  },
  {
   "cell_type": "code",
   "execution_count": 4,
   "id": "dfa004d4-9a64-4b39-9368-9351de3d58e7",
   "metadata": {},
   "outputs": [
    {
     "name": "stdout",
     "output_type": "stream",
     "text": [
      "\u001b]1;$ lolo [~]\u0007\u001b]2;$ lolo [~]\u0007\n"
     ]
    }
   ],
   "source": [
    "#cleanup\n",
    "cd \n",
    "rm -rf temp-update-git-test > /dev/null"
   ]
  }
 ],
 "metadata": {
  "kernelspec": {
   "display_name": "Bash",
   "language": "bash",
   "name": "bash"
  },
  "language_info": {
   "codemirror_mode": "shell",
   "file_extension": ".sh",
   "mimetype": "text/x-sh",
   "name": "bash"
  }
 },
 "nbformat": 4,
 "nbformat_minor": 5
}
