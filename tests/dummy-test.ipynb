{
 "cells": [
  {
   "cell_type": "code",
   "execution_count": 3,
   "id": "9bddc194",
   "metadata": {},
   "outputs": [],
   "source": [
    "# Dummy test for debugging purposes\n",
    "# For use with BatsPP."
   ]
  },
  {
   "cell_type": "code",
   "execution_count": 4,
   "id": "abb31f9a",
   "metadata": {},
   "outputs": [
    {
     "name": "stdout",
     "output_type": "stream",
     "text": [
      "dummy\n"
     ]
    }
   ],
   "source": [
    "# This test will pass\n",
    "echo dummy"
   ]
  },
  {
   "cell_type": "code",
   "execution_count": 7,
   "id": "ae0d6781",
   "metadata": {},
   "outputs": [
    {
     "name": "stdout",
     "output_type": "stream",
     "text": [
      "Wed Jun 21 06:30:51 CDT 2023\n"
     ]
    }
   ],
   "source": [
    "# This test will fail: the time will be different when tested\n",
    "date"
   ]
  }
 ],
 "metadata": {
  "kernelspec": {
   "display_name": "Bash",
   "language": "bash",
   "name": "bash"
  },
  "language_info": {
   "codemirror_mode": "shell",
   "file_extension": ".sh",
   "mimetype": "text/x-sh",
   "name": "bash"
  }
 },
 "nbformat": 4,
 "nbformat_minor": 5
}
