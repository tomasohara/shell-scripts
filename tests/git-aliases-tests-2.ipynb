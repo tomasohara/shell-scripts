{
 "cells": [
  {
   "cell_type": "code",
   "execution_count": 1,
   "id": "c4a5e6eb-8fb2-4ae8-9644-2e9b7308003f",
   "metadata": {},
   "outputs": [],
   "source": [
    "#Second test for git aliases (e.g., git-update-plus, git-next-checkin, etc)\n",
    "\n",
    "# Note: The aliases should be defined before Jupyter is invoked.\n",
    "# For BatsPP, they can loaded via '--source all-tomohara-aliases-etc.bash' option."
   ]
  },
  {
   "cell_type": "code",
   "execution_count": null,
   "id": "03674cfc-2c78-4aea-a54f-7c17cf985d27",
   "metadata": {},
   "outputs": [],
   "source": [
    "## TODO1: *** Don't delay fixes: it is frustrating that multiple requests not acted on! ***"
   ]
  },
  {
   "cell_type": "code",
   "execution_count": null,
   "id": "381f2af2-7415-4a7c-957e-69ba1648d974",
   "metadata": {},
   "outputs": [],
   "source": [
    "# Global Setup\n",
    "# Creating temp local repos to test on\n",
    "\n",
    "## TODO2: Use something like TEMP_TEST_DIR becuase you are not changing system temp directory.\n",
    "TMP=/tmp/temp-git-test-2\n",
    "\n",
    "## BAD\n",
    "## git clone https://github.com/LorenzoFerraces/bash-test.git \"$TMP\"\n",
    "##\n",
    "## # Move to second local to push some changes\n",
    "## command cd \"$TMP\" \n",
    "## git pull origin main \n",
    "## echo \"hello second local\" > hello.txt\n",
    "## git add hello.txt\n",
    "## git commit -m \"first commit on second local\"\n",
    "## git push"
   ]
  },
  {
   "cell_type": "code",
   "execution_count": null,
   "id": "2799db40-d46e-48be-b83d-6c45dcda2382",
   "metadata": {},
   "outputs": [],
   "source": [
    "## TODO1 Fix this following git-aliases-tests-1 as requested"
   ]
  },
  {
   "cell_type": "code",
   "execution_count": null,
   "id": "1cc7b4d5-034a-4c06-9d56-754bc826244e",
   "metadata": {},
   "outputs": [],
   "source": [
    "# Global setup\n",
    "git clone https://github.com/tomasohara/git-bash-test.git \"$TMP\" > /dev/null 2>&1"
   ]
  },
  {
   "cell_type": "code",
   "execution_count": null,
   "id": "614c487d-a32f-45d2-838e-87270307187c",
   "metadata": {},
   "outputs": [],
   "source": [
    "# Global setup\n",
    "# Move to second local to push some changes\n",
    "command cd \"$TMP\" > /dev/null 2>&1\n",
    "git pull origin main > /dev/null 2>&1\n",
    "echo \"hello second local\" > hello.txt\n",
    "git add hello.txt > /dev/null 2>&1\n",
    "git commit -m \"first commit on second local\" > /dev/null 2>&1\n",
    "git push  > /dev/null 2>&1"
   ]
  },
  {
   "cell_type": "code",
   "execution_count": null,
   "id": "c1353dbf-ed12-4811-989a-542a468ee534",
   "metadata": {},
   "outputs": [],
   "source": [
    "# git-rename-file tests\n",
    "# Assert file doesn't exist\n",
    "[ ! -f \"newHello.txt\" ]; echo $?;"
   ]
  },
  {
   "cell_type": "code",
   "execution_count": 4,
   "id": "a196403d-b012-415d-a69c-33a2e68cd0d9",
   "metadata": {},
   "outputs": [
    {
     "name": "stdout",
     "output_type": "stream",
     "text": [
      "issuing: git mv hello.txt newHello.txt\n",
      "issuing: git add newHello.txt\n",
      "\n",
      "GIT_NO_CONFIRM set to 1, so skipping confirmation\n",
      "issuing: git commit -m 'renamed hello.txt'\n",
      "    [main 7606053] renamed hello.txt\n",
      "     1 file changed, 0 insertions(+), 0 deletions(-)\n",
      "     rename hello.txt => newHello.txt (100%)\n",
      "GIT_NO_CONFIRM set to 1, so skipping confirmation\n",
      "issuing: git push --verbose\n",
      "Pushing to https://github.com/LorenzoFerraces/bash-test.git\n",
      "Enumerating objects: 3, done.\n",
      "Counting objects: 100% (3/3), done.\n",
      "Delta compression using up to 4 threads\n",
      "Compressing objects: 100% (2/2), done.\n",
      "Writing objects: 100% (2/2), 279 bytes | 279.00 KiB/s, done.\n",
      "Total 2 (delta 0), reused 0 (delta 0), pack-reused 0\n",
      "POST git-receive-pack (452 bytes)\n",
      "To https://github.com/LorenzoFerraces/bash-test.git\n",
      "   968fb56..7606053  main -> main\n",
      "updating local tracking ref 'refs/remotes/origin/main'\n",
      "[main 7606053] renamed hello.txt\n",
      " 1 file changed, 0 insertions(+), 0 deletions(-)\n",
      " rename hello.txt => newHello.txt (100%)\n",
      "\n",
      "issuing: git reset HEAD hello.txt\n"
     ]
    }
   ],
   "source": [
    "export GIT_MESSAGE=\"renamed hello.txt\"\n",
    "previous=$GIT_NO_CONFIRM\n",
    "export GIT_NO_CONFIRM=\"1\"\n",
    "contents=\"$(cat hello.txt)\"\n",
    "git-rename-file hello.txt newHello.txt"
   ]
  },
  {
   "cell_type": "code",
   "execution_count": 5,
   "id": "165c686d-2202-4642-8eee-9a1b245dbf5a",
   "metadata": {
    "scrolled": true
   },
   "outputs": [
    {
     "name": "stdout",
     "output_type": "stream",
     "text": [
      "0\n"
     ]
    }
   ],
   "source": [
    "# Asserts\n",
    "[ -f \"newHello.txt\" ] && [ \"$(cat newHello.txt)\" == \"$(echo $contents)\" ]; \n",
    "echo $?;"
   ]
  },
  {
   "cell_type": "code",
   "execution_count": 6,
   "id": "352e510f-c581-4fd8-aabd-154420c9eebc",
   "metadata": {},
   "outputs": [],
   "source": [
    "# git-restore-staged-alias test\n",
    "echo \"second change on local\" >> newHello.txt\n",
    "git add newHello.txt"
   ]
  },
  {
   "cell_type": "code",
   "execution_count": 7,
   "id": "ff7ac3e7-88e9-4556-984b-47b9b5b0c665",
   "metadata": {},
   "outputs": [
    {
     "name": "stdout",
     "output_type": "stream",
     "text": [
      "0\n"
     ]
    }
   ],
   "source": [
    "# Assert theres is one staged file \n",
    "[ $(git status -s | grep -c \"^[MTADRCU]\") -eq 1 ]; echo $?; "
   ]
  },
  {
   "cell_type": "code",
   "execution_count": 8,
   "id": "d59e48e0-e1ce-4800-a3c7-3036a3f1a0e9",
   "metadata": {},
   "outputs": [
    {
     "name": "stdout",
     "output_type": "stream",
     "text": [
      "issuing: cp -vpf newHello.txt _git-trash\n",
      "issuing: git restore --staged newHello.txt\n",
      "'newHello.txt' -> '_git-trash/newHello.txt'\n",
      "removed '_git-trash/newHello.txt'\n",
      "removed directory '_git-trash'\n"
     ]
    }
   ],
   "source": [
    "## TODO2: add .gitignore for _git-trash (see shell-scripts version)\n",
    "export GIT_MESSAGE=\"restored newHello.txt\"\n",
    "export GIT_NO_CONFIRM=\"1\"\n",
    "git-restore-staged-alias newHello.txt\n",
    "rm -rf _git-trash"
   ]
  },
  {
   "cell_type": "code",
   "execution_count": 9,
   "id": "b61ec172-ee7d-4c50-8586-0cf428ce9b5f",
   "metadata": {},
   "outputs": [
    {
     "name": "stdout",
     "output_type": "stream",
     "text": [
      "0\n"
     ]
    }
   ],
   "source": [
    "# Assert theres are no staged files\n",
    "[ $(git status -s | grep -c \"^[MTADRCU]\") -eq 0 ]; echo $?; "
   ]
  },
  {
   "cell_type": "code",
   "execution_count": 10,
   "id": "4f7a09e7-c073-4a1a-8a30-1c7d1c72a2ac",
   "metadata": {},
   "outputs": [],
   "source": [
    "# git-revert-file-alias tests\n",
    "echo \"second change on local\" >> newHello.txt\n"
   ]
  },
  {
   "cell_type": "code",
   "execution_count": 11,
   "id": "a42bda6d-2234-4dea-b3cb-50bae54ce2ba",
   "metadata": {},
   "outputs": [
    {
     "name": "stdout",
     "output_type": "stream",
     "text": [
      "0\n"
     ]
    }
   ],
   "source": [
    "# Assert theres is 1 unstaged file\n",
    "[ $(git status -s | grep -c \"^\\s[MTADRCU]\") -eq 1 ]; echo $?; "
   ]
  },
  {
   "cell_type": "code",
   "execution_count": 12,
   "id": "c99820a0-ea49-423f-8f1d-ebf95674ca51",
   "metadata": {},
   "outputs": [
    {
     "name": "stdout",
     "output_type": "stream",
     "text": [
      "issuing: cp -vpf newHello.txt _git-trash\n",
      "issuing: git reset HEAD newHello.txt\n",
      "issuing: git checkout -- newHello.txt\n",
      "issuing: git stash list\n",
      "'newHello.txt' -> '_git-trash/newHello.txt'\n",
      "Unstaged changes after reset:\n",
      "M\tnewHello.txt\n",
      "removed '_git-trash/newHello.txt'\n",
      "removed directory '_git-trash'\n"
     ]
    }
   ],
   "source": [
    "#revert unstaged file\n",
    "export GIT_MESSAGE=\"reverted newHello.txt\"\n",
    "export GIT_NO_CONFIRM=\"1\"\n",
    "git-revert-file-alias newHello.txt\n",
    "rm -rf _git-trash"
   ]
  },
  {
   "cell_type": "code",
   "execution_count": 13,
   "id": "d8ba1634-a8a4-4952-b88c-90876299a779",
   "metadata": {},
   "outputs": [
    {
     "name": "stdout",
     "output_type": "stream",
     "text": [
      "0\n"
     ]
    }
   ],
   "source": [
    "# Assert file was reverted\n",
    "# this matches any files except untracked\n",
    "# read https://git-scm.com/docs/git-status#_short_formatz\n",
    "[ $(git status -s | grep -c \"^\\s*[MTADRCU]\") -eq 0 ]; echo $?; "
   ]
  },
  {
   "cell_type": "code",
   "execution_count": 14,
   "id": "f1f58cae-5f75-4ef4-ab60-9061cf89728f",
   "metadata": {},
   "outputs": [
    {
     "name": "stdout",
     "output_type": "stream",
     "text": [
      "/tmp/temp-git-test/folder\n"
     ]
    }
   ],
   "source": [
    "# git-move-to-dir tests\n",
    "mkdir folder\n",
    "git add folder\n",
    "git-move-to-dir \"$TMP/folder\" newHello.txt | true\n",
    "command cd folder"
   ]
  },
  {
   "cell_type": "code",
   "execution_count": 15,
   "id": "885c41a1-52fb-48f7-b722-f5633ba5f793",
   "metadata": {},
   "outputs": [
    {
     "name": "stdout",
     "output_type": "stream",
     "text": [
      "1\n"
     ]
    }
   ],
   "source": [
    "#Assert the file has been moved to folder\n",
    "[ $(ls | wc -l) -eq 1 ]; echo $?;\n"
   ]
  },
  {
   "cell_type": "code",
   "execution_count": 16,
   "id": "379b916e-bcbe-4142-9240-a6a0ef0844fb",
   "metadata": {},
   "outputs": [
    {
     "name": "stdout",
     "output_type": "stream",
     "text": [
      "0\n"
     ]
    }
   ],
   "source": [
    "# git-conflicts-alias tests\n",
    "command cd $TMP\n",
    "\n",
    "# first assert there are no conflicts\n",
    "[ $(git-conflicts-alias | wc -l) -eq 0 ]; echo $?"
   ]
  },
  {
   "cell_type": "code",
   "execution_count": 17,
   "id": "03583297-cf3a-4de2-84ef-72997f529672",
   "metadata": {},
   "outputs": [
    {
     "name": "stdout",
     "output_type": "stream",
     "text": [
      "Switched to branch 'branch-a'\n",
      "[branch-a 545f76f] first commit branch-a\n",
      " 1 file changed, 1 insertion(+)\n",
      " create mode 100644 conflicts.txt\n",
      "Switched to branch 'branch-b'\n",
      "[branch-b 898caf3] first commit branch-b\n",
      " 1 file changed, 1 insertion(+)\n",
      " create mode 100644 conflicts.txt\n"
     ]
    }
   ],
   "source": [
    "# create branches that conflict later\n",
    "git branch branch-a\n",
    "git branch branch-b\n",
    "\n",
    "git checkout branch-a\n",
    "echo \"line a\" >> conflicts.txt\n",
    "git add . \n",
    "git commit -m \"first commit branch-a\"\n",
    "\n",
    "git switch branch-b\n",
    "echo \"line b\" >> conflicts.txt\n",
    "git add . \n",
    "git commit -m \"first commit branch-b\""
   ]
  },
  {
   "cell_type": "code",
   "execution_count": 18,
   "id": "4df4623a-a77d-451f-9f56-0c257cadb6d5",
   "metadata": {},
   "outputs": [
    {
     "name": "stdout",
     "output_type": "stream",
     "text": [
      "Switched to branch 'main'\n",
      "Your branch is up to date with 'origin/main'.\n",
      "Updating 7606053..545f76f\n",
      "Fast-forward\n",
      " conflicts.txt | 1 \u001b[32m+\u001b[m\n",
      " 1 file changed, 1 insertion(+)\n",
      " create mode 100644 conflicts.txt\n"
     ]
    }
   ],
   "source": [
    "# merge branches \n",
    "git switch main\n",
    "git merge branch-a\n",
    "git merge branch-b | true"
   ]
  },
  {
   "cell_type": "code",
   "execution_count": 19,
   "id": "443ee833-6600-404a-a831-ac32bc929be4",
   "metadata": {},
   "outputs": [
    {
     "name": "stdout",
     "output_type": "stream",
     "text": [
      "0\n"
     ]
    }
   ],
   "source": [
    "# assert there are now conflicts \n",
    "[ $(git-conflicts-alias | wc -l) -gt 0 ]; echo $?;"
   ]
  },
  {
   "cell_type": "code",
   "execution_count": 20,
   "id": "ba066216-d9de-408b-b542-116a5406994d",
   "metadata": {},
   "outputs": [
    {
     "name": "stdout",
     "output_type": "stream",
     "text": [
      "fatal: pathspec 'folder' did not match any files\n",
      "[main 0f30a78] cleanup test files\n",
      " 2 files changed, 2 deletions(-)\n",
      " delete mode 100644 conflicts.txt\n",
      " delete mode 100644 newHello.txt\n",
      "Enumerating objects: 6, done.\n",
      "Counting objects: 100% (6/6), done.\n",
      "Delta compression using up to 4 threads\n",
      "Compressing objects: 100% (3/3), done.\n",
      "Writing objects: 100% (5/5), 542 bytes | 542.00 KiB/s, done.\n",
      "Total 5 (delta 0), reused 1 (delta 0), pack-reused 0\n",
      "To https://github.com/LorenzoFerraces/bash-test.git\n",
      "   7606053..0f30a78  main -> main\n"
     ]
    }
   ],
   "source": [
    "# undo changes and remove newly created files\n",
    "\n",
    "# TODO2:\n",
    "## also, converting unique ID's to codes like temp-git-test/.git/objects/pack/pack-HEX.idx\n",
    "## EX: cat $log | perl -pe 's/\\b[0-9]+\\b/NUM/g; s/\\b[a-f0-9]+\\b/HEX/g;'\n",
    "## BAD: rm -f *.txt > /dev/null\n",
    "\n",
    "## TODO1: Use much safer alternative (e.g., explicit filenames)!\n"
   ]
  },
  {
   "cell_type": "code",
   "execution_count": null,
   "id": "f361e865-181c-4756-9db7-e8923dde582a",
   "metadata": {},
   "outputs": [],
   "source": [
    "# Cleanup cont.\n",
    "git rm -f *.txt > /dev/null\n",
    "git rm -rf folder"
   ]
  },
  {
   "cell_type": "code",
   "execution_count": null,
   "id": "6f872d76-618e-4a31-ac77-39244f2562f4",
   "metadata": {},
   "outputs": [],
   "source": [
    "# Check-in cleanup\n",
    "git add . > /dev/null\n",
    "git commit -m \"cleanup test files\"\n",
    "git push"
   ]
  },
  {
   "cell_type": "code",
   "execution_count": 1,
   "id": "bda24665-9bd0-4383-babc-1f1819ebb87b",
   "metadata": {},
   "outputs": [],
   "source": [
    "# delete test local repos\n",
    "\n",
    "command cd \"/tmp\"\n"
   ]
  },
  {
   "cell_type": "code",
   "execution_count": null,
   "id": "4238d6d3-14d5-448c-91f5-75eca30fd208",
   "metadata": {},
   "outputs": [],
   "source": [
    "## TODO1: rename using timestamp (e.g., to allow for posthoc analysis)!\n",
    "## BAD: rm -rf temp-git-test > /dev/null"
   ]
  },
  {
   "cell_type": "code",
   "execution_count": null,
   "id": "2a7a81a3-7810-4026-a0a4-0093fef7baab",
   "metadata": {},
   "outputs": [],
   "source": [
    "## TODO: drop (no need to cleanup up environment in notebook)\n",
    "export GIT_NO_CONFIRM=$previous"
   ]
  }
 ],
 "metadata": {
  "kernelspec": {
   "display_name": "Bash",
   "language": "bash",
   "name": "bash"
  },
  "language_info": {
   "codemirror_mode": "shell",
   "file_extension": ".sh",
   "mimetype": "text/x-sh",
   "name": "bash"
  }
 },
 "nbformat": 4,
 "nbformat_minor": 5
}
