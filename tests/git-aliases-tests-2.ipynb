{
 "cells": [
  {
   "cell_type": "code",
   "execution_count": 1,
   "id": "c4a5e6eb-8fb2-4ae8-9644-2e9b7308003f",
   "metadata": {},
   "outputs": [],
   "source": [
    "#Second test for git aliases (e.g., git-update-plus, git-next-checkin, etc)\n",
    "\n",
    "# Note: The aliases should be defined before Jupyter is invoked.\n",
    "# For BatsPP, they can loaded via '--source all-tomohara-aliases-etc.bash' option."
   ]
  },
  {
   "cell_type": "code",
   "execution_count": 2,
   "id": "550a4ed7-8b7c-48f0-b1f5-ff0137834292",
   "metadata": {},
   "outputs": [
    {
     "name": "stdout",
     "output_type": "stream",
     "text": [
      "Cloning into '/tmp/temp-git-test'...\n",
      "remote: Enumerating objects: 265, done.\u001b[K\n",
      "remote: Counting objects: 100% (29/29), done.\u001b[K\n",
      "remote: Compressing objects: 100% (28/28), done.\u001b[K\n",
      "remote: Total 265 (delta 23), reused 6 (delta 0), pack-reused 236\u001b[K\n",
      "Receiving objects: 100% (265/265), 22.20 KiB | 494.00 KiB/s, done.\n",
      "Resolving deltas: 100% (157/157), done.\n",
      "From https://github.com/LorenzoFerraces/bash-test\n",
      " * branch            main       -> FETCH_HEAD\n",
      "Already up to date.\n",
      "[main 4ca90f0] first commit on second local\n",
      " 1 file changed, 1 insertion(+)\n",
      " create mode 100644 hello.txt\n",
      "Enumerating objects: 4, done.\n",
      "Counting objects: 100% (4/4), done.\n",
      "Delta compression using up to 6 threads\n",
      "Compressing objects: 100% (2/2), done.\n",
      "Writing objects: 100% (3/3), 312 bytes | 312.00 KiB/s, done.\n",
      "Total 3 (delta 0), reused 1 (delta 0), pack-reused 0\n",
      "To https://github.com/LorenzoFerraces/bash-test.git\n",
      "   de2b210..4ca90f0  main -> main\n"
     ]
    }
   ],
   "source": [
    "# Global Setup\n",
    "# Creating temp local repos to test on\n",
    "\n",
    "TMP=/tmp/temp-git-test\n",
    "\n",
    "\n",
    "git clone https://github.com/LorenzoFerraces/bash-test.git \"$TMP\"\n",
    "\n",
    "# Move to second local to push some changes\n",
    "command cd \"$TMP\" \n",
    "git pull origin main \n",
    "echo \"hello second local\" > hello.txt\n",
    "git add hello.txt\n",
    "git commit -m \"first commit on second local\"\n",
    "git push\n"
   ]
  },
  {
   "cell_type": "code",
   "execution_count": 3,
   "id": "5d86d816-a054-4170-aa86-115f31b04a3c",
   "metadata": {},
   "outputs": [
    {
     "name": "stdout",
     "output_type": "stream",
     "text": [
      "0\n"
     ]
    }
   ],
   "source": [
    "# git-rename-file tests\n",
    "# Assert file doesn't exist\n",
    "[ ! -f \"newHello.txt\" ]; echo $?;"
   ]
  },
  {
   "cell_type": "code",
   "execution_count": 4,
   "id": "a196403d-b012-415d-a69c-33a2e68cd0d9",
   "metadata": {},
   "outputs": [
    {
     "name": "stdout",
     "output_type": "stream",
     "text": [
      "issuing: git mv hello.txt newHello.txt\n",
      "issuing: git add newHello.txt\n",
      "\n",
      "GIT_NO_CONFIRM set to 1, so skipping confirmation\n",
      "issuing: git commit -m 'renamed hello.txt'\n",
      "    [main 216a92b] renamed hello.txt\n",
      "     1 file changed, 0 insertions(+), 0 deletions(-)\n",
      "     rename hello.txt => newHello.txt (100%)\n",
      "GIT_NO_CONFIRM set to 1, so skipping confirmation\n",
      "issuing: git push --verbose\n",
      "Pushing to https://github.com/LorenzoFerraces/bash-test.git\n",
      "Enumerating objects: 3, done.\n",
      "Counting objects: 100% (3/3), done.\n",
      "Delta compression using up to 6 threads\n",
      "Compressing objects: 100% (2/2), done.\n",
      "Writing objects: 100% (2/2), 280 bytes | 280.00 KiB/s, done.\n",
      "Total 2 (delta 0), reused 0 (delta 0), pack-reused 0\n",
      "POST git-receive-pack (453 bytes)\n",
      "To https://github.com/LorenzoFerraces/bash-test.git\n",
      "   4ca90f0..216a92b  main -> main\n",
      "updating local tracking ref 'refs/remotes/origin/main'\n",
      "[main 216a92b] renamed hello.txt\n",
      " 1 file changed, 0 insertions(+), 0 deletions(-)\n",
      " rename hello.txt => newHello.txt (100%)\n",
      "\n",
      "issuing: git reset HEAD hello.txt\n"
     ]
    }
   ],
   "source": [
    "export GIT_MESSAGE=\"renamed hello.txt\"\n",
    "previous=$GIT_NO_CONFIRM\n",
    "export GIT_NO_CONFIRM=\"1\"\n",
    "contents=\"$(cat hello.txt)\"\n",
    "git-rename-file hello.txt newHello.txt"
   ]
  },
  {
   "cell_type": "code",
   "execution_count": 5,
   "id": "165c686d-2202-4642-8eee-9a1b245dbf5a",
   "metadata": {
    "scrolled": true
   },
   "outputs": [
    {
     "name": "stdout",
     "output_type": "stream",
     "text": [
      "0\n"
     ]
    }
   ],
   "source": [
    "# Asserts\n",
    "[ -f \"newHello.txt\" ] && [ \"$(cat newHello.txt)\" == \"$(echo $contents)\" ]; \n",
    "echo $?;"
   ]
  },
  {
   "cell_type": "code",
   "execution_count": 6,
   "id": "352e510f-c581-4fd8-aabd-154420c9eebc",
   "metadata": {},
   "outputs": [],
   "source": [
    "# git-restore-staged-alias test\n",
    "echo \"second change on local\" >> newHello.txt\n",
    "git add newHello.txt"
   ]
  },
  {
   "cell_type": "code",
   "execution_count": 7,
   "id": "ff7ac3e7-88e9-4556-984b-47b9b5b0c665",
   "metadata": {},
   "outputs": [
    {
     "name": "stdout",
     "output_type": "stream",
     "text": [
      "0\n"
     ]
    }
   ],
   "source": [
    "# Assert theres is one staged file \n",
    "[ $(git status -s | grep -c \"^[MTADRCU]\") -eq 1 ]; echo $?; "
   ]
  },
  {
   "cell_type": "code",
   "execution_count": 8,
   "id": "d59e48e0-e1ce-4800-a3c7-3036a3f1a0e9",
   "metadata": {},
   "outputs": [
    {
     "name": "stdout",
     "output_type": "stream",
     "text": [
      "issuing: cp -vpf newHello.txt _git-trash\n",
      "issuing: git restore --staged newHello.txt\n",
      "'newHello.txt' -> '_git-trash/newHello.txt'\n",
      "removed '_git-trash/newHello.txt'\n",
      "removed directory '_git-trash'\n"
     ]
    }
   ],
   "source": [
    "export GIT_MESSAGE=\"restored newHello.txt\"\n",
    "export GIT_NO_CONFIRM=\"1\"\n",
    "git-restore-staged-alias newHello.txt\n",
    "rm -rf _git-trash"
   ]
  },
  {
   "cell_type": "code",
   "execution_count": 9,
   "id": "b61ec172-ee7d-4c50-8586-0cf428ce9b5f",
   "metadata": {},
   "outputs": [
    {
     "name": "stdout",
     "output_type": "stream",
     "text": [
      "0\n"
     ]
    }
   ],
   "source": [
    "# Assert theres are no staged files\n",
    "[ $(git status -s | grep -c \"^[MTADRCU]\") -eq 0 ]; echo $?; "
   ]
  },
  {
   "cell_type": "code",
   "execution_count": 10,
   "id": "4f7a09e7-c073-4a1a-8a30-1c7d1c72a2ac",
   "metadata": {},
   "outputs": [],
   "source": [
    "# git-revert-file-alias tests\n",
    "echo \"second change on local\" >> newHello.txt\n"
   ]
  },
  {
   "cell_type": "code",
   "execution_count": 11,
   "id": "a42bda6d-2234-4dea-b3cb-50bae54ce2ba",
   "metadata": {},
   "outputs": [
    {
     "name": "stdout",
     "output_type": "stream",
     "text": [
      "0\n"
     ]
    }
   ],
   "source": [
    "# Assert theres is 1 unstaged file\n",
    "[ $(git status -s | grep -c \"^\\s[MTADRCU]\") -eq 1 ]; echo $?; "
   ]
  },
  {
   "cell_type": "code",
   "execution_count": 12,
   "id": "c99820a0-ea49-423f-8f1d-ebf95674ca51",
   "metadata": {},
   "outputs": [
    {
     "name": "stdout",
     "output_type": "stream",
     "text": [
      "issuing: cp -vpf newHello.txt _git-trash\n",
      "issuing: git reset HEAD newHello.txt\n",
      "issuing: git checkout -- newHello.txt\n",
      "issuing: git stash list\n",
      "'newHello.txt' -> '_git-trash/newHello.txt'\n",
      "Unstaged changes after reset:\n",
      "M\tnewHello.txt\n",
      "removed '_git-trash/newHello.txt'\n",
      "removed directory '_git-trash'\n"
     ]
    }
   ],
   "source": [
    "#revert unstaged file\n",
    "export GIT_MESSAGE=\"reverted newHello.txt\"\n",
    "export GIT_NO_CONFIRM=\"1\"\n",
    "git-revert-file-alias newHello.txt\n",
    "rm -rf _git-trash"
   ]
  },
  {
   "cell_type": "code",
   "execution_count": 13,
   "id": "d8ba1634-a8a4-4952-b88c-90876299a779",
   "metadata": {},
   "outputs": [
    {
     "name": "stdout",
     "output_type": "stream",
     "text": [
      "0\n"
     ]
    }
   ],
   "source": [
    "# Assert file was reverted\n",
    "# this matches any files except untracked\n",
    "# read https://git-scm.com/docs/git-status#_short_formatz\n",
    "[ $(git status -s | grep -c \"^\\s*[MTADRCU]\") -eq 0 ]; echo $?; \n"
   ]
  },
  {
   "cell_type": "code",
   "execution_count": 14,
   "id": "f1f58cae-5f75-4ef4-ab60-9061cf89728f",
   "metadata": {},
   "outputs": [
    {
     "name": "stdout",
     "output_type": "stream",
     "text": [
      "\u001b[0m\u001b[01;34mlog-files\u001b[0m  newHello.txt\n"
     ]
    }
   ],
   "source": [
    "# git-move-to-dir tests\n",
    "amount_files=$(ls | wc -l)\n",
    "ls"
   ]
  },
  {
   "cell_type": "code",
   "execution_count": 15,
   "id": "885c41a1-52fb-48f7-b722-f5633ba5f793",
   "metadata": {},
   "outputs": [
    {
     "name": "stdout",
     "output_type": "stream",
     "text": [
      "0\n",
      "issuing: git mv newHello.txt /tmp/temp-git-test/folder\n",
      "issuing: git add newHello.txt /tmp/temp-git-test/folder/newHello.txt\n",
      "\n",
      "GIT_NO_CONFIRM set to 1, so skipping confirmation\n",
      "issuing: git commit -m 'reverted newHello.txt'\n",
      "    *** Error(s):\n",
      "    1    >>> fatal: pathspec 'newHello.txt' did not match any files <<<\n",
      "    fatal: pathspec 'newHello.txt' did not match any files\n",
      "    [main bf53103] reverted newHello.txt\n",
      "     1 file changed, 0 insertions(+), 0 deletions(-)\n",
      "     rename newHello.txt => folder/newHello.txt (100%)\n",
      "GIT_NO_CONFIRM set to 1, so skipping confirmation\n",
      "issuing: git push --verbose\n",
      "Pushing to https://github.com/LorenzoFerraces/bash-test.git\n",
      "Enumerating objects: 4, done.\n",
      "Counting objects: 100% (4/4), done.\n",
      "Delta compression using up to 6 threads\n",
      "Compressing objects: 100% (2/2), done.\n",
      "Writing objects: 100% (3/3), 333 bytes | 333.00 KiB/s, done.\n",
      "Total 3 (delta 0), reused 2 (delta 0), pack-reused 0\n",
      "POST git-receive-pack (506 bytes)\n",
      "To https://github.com/LorenzoFerraces/bash-test.git\n",
      "   216a92b..bf53103  main -> main\n",
      "updating local tracking ref 'refs/remotes/origin/main'\n",
      "*** Error(s):\n",
      "1        *** Error(s):\n",
      "2        1    >>> fatal: pathspec 'newHello.txt' did not match any files <<<\n",
      "3    >>> fatal: pathspec 'newHello.txt' did not match any files <<<\n",
      "4        [main bf53103] reverted newHello.txt\n",
      "5         1 file changed, 0 insertions(+), 0 deletions(-)\n",
      "6         rename newHello.txt => folder/newHello.txt (100%)\n",
      "7        \n",
      "*** Error(s):\n",
      "1    >>> fatal: pathspec 'newHello.txt' did not match any files <<<\n",
      "fatal: pathspec 'newHello.txt' did not match any files\n",
      "[main bf53103] reverted newHello.txt\n",
      " 1 file changed, 0 insertions(+), 0 deletions(-)\n",
      " rename newHello.txt => folder/newHello.txt (100%)\n",
      "\n"
     ]
    },
    {
     "ename": "",
     "evalue": "1",
     "output_type": "error",
     "traceback": []
    }
   ],
   "source": [
    "mkdir folder\n",
    "git add folder\n",
    "git-move-to-dir \"$TMP/folder\" newHello.txt"
   ]
  },
  {
   "cell_type": "code",
   "execution_count": null,
   "id": "5ff51916-004f-4152-b367-38f1a343661f",
   "metadata": {},
   "outputs": [],
   "source": [
    "# Assert\n",
    "new_amount_files=$(ls | wc -l)\n",
    "[ $($new_amount_files + 1) == $amount_files ]"
   ]
  },
  {
   "cell_type": "code",
   "execution_count": 19,
   "id": "ba066216-d9de-408b-b542-116a5406994d",
   "metadata": {},
   "outputs": [
    {
     "name": "stdout",
     "output_type": "stream",
     "text": [
      "fatal: not a git repository (or any of the parent directories): .git\n",
      "fatal: not a git repository (or any of the parent directories): .git\n",
      "fatal: not a git repository (or any of the parent directories): .git\n",
      "fatal: not a git repository (or any of the parent directories): .git\n"
     ]
    },
    {
     "ename": "",
     "evalue": "128",
     "output_type": "error",
     "traceback": []
    }
   ],
   "source": [
    "# undo changes and remove newly created files\n",
    "\n",
    "# TODO2:\n",
    "## also, converting unique ID's to codes like temp-git-test/.git/objects/pack/pack-HEX.idx\n",
    "## EX: cat $log | perl -pe 's/\\b[0-9]+\\b/NUM/g; s/\\b[a-f0-9]+\\b/HEX/g;'\n",
    "rm -f *.txt > /dev/null\n",
    "git rm -f *.txt > /dev/null\n",
    "git add . > /dev/null\n",
    "git commit -m \"cleanup test files\"\n",
    "git push"
   ]
  },
  {
   "cell_type": "code",
   "execution_count": 18,
   "id": "a0226010-dce0-4a96-b5ac-a2e72bc3c47d",
   "metadata": {},
   "outputs": [],
   "source": [
    "# delete test local repos\n",
    "\n",
    "command cd \"/tmp\"\n",
    "rm -rf temp-git-test > /dev/null\n",
    "export GIT_NO_CONFIRM=$previous\n"
   ]
  }
 ],
 "metadata": {
  "kernelspec": {
   "display_name": "Bash",
   "language": "bash",
   "name": "bash"
  },
  "language_info": {
   "codemirror_mode": "shell",
   "file_extension": ".sh",
   "mimetype": "text/x-sh",
   "name": "bash"
  }
 },
 "nbformat": 4,
 "nbformat_minor": 5
}
