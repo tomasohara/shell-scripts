{
 "cells": [
  {
   "cell_type": "code",
   "execution_count": null,
   "id": "c4a5e6eb-8fb2-4ae8-9644-2e9b7308003f",
   "metadata": {},
   "outputs": [],
   "source": [
    "#Second test for git aliases (e.g., git-update-plus, git-next-checkin, etc)\n",
    "\n",
    "# Note: The aliases should be defined before Jupyter is invoked.\n",
    "# For BatsPP, they can loaded via '--source all-tomohara-aliases-etc.bash' option."
   ]
  },
  {
   "cell_type": "code",
   "execution_count": 1,
   "id": "550a4ed7-8b7c-48f0-b1f5-ff0137834292",
   "metadata": {},
   "outputs": [
    {
     "name": "stdout",
     "output_type": "stream",
     "text": [
      "Cloning into '/tmp/temp-git-test'...\n",
      "remote: Enumerating objects: 219, done.\u001b[K\n",
      "remote: Counting objects: 100% (37/37), done.\u001b[K\n",
      "remote: Compressing objects: 100% (37/37), done.\u001b[K\n",
      "remote: Total 219 (delta 34), reused 3 (delta 0), pack-reused 182\u001b[K\n",
      "Receiving objects: 100% (219/219), 18.38 KiB | 495.00 KiB/s, done.\n",
      "Resolving deltas: 100% (114/114), done.\n",
      "From https://github.com/LorenzoFerraces/bash-test\n",
      " * branch            main       -> FETCH_HEAD\n",
      "Already up to date.\n",
      "[main 0714c05] first commit on second local\n",
      " 1 file changed, 1 insertion(+)\n",
      " create mode 100644 hello.txt\n",
      "Enumerating objects: 4, done.\n",
      "Counting objects: 100% (4/4), done.\n",
      "Delta compression using up to 6 threads\n",
      "Compressing objects: 100% (2/2), done.\n",
      "Writing objects: 100% (3/3), 310 bytes | 310.00 KiB/s, done.\n",
      "Total 3 (delta 0), reused 1 (delta 0), pack-reused 0\n",
      "To https://github.com/LorenzoFerraces/bash-test.git\n",
      "   aabb100..0714c05  main -> main\n"
     ]
    }
   ],
   "source": [
    "# Global Setup\n",
    "# Creating temp local repos to test on\n",
    "\n",
    "TMP=/tmp/temp-git-test\n",
    "\n",
    "\n",
    "git clone https://github.com/LorenzoFerraces/bash-test.git \"$TMP\"\n",
    "\n",
    "# Move to second local to push some changes\n",
    "command cd \"$TMP\" \n",
    "git pull origin main \n",
    "echo \"hello second local\" > hello.txt\n",
    "git add hello.txt\n",
    "git commit -m \"first commit on second local\"\n",
    "git push\n"
   ]
  },
  {
   "cell_type": "code",
   "execution_count": 2,
   "id": "5d86d816-a054-4170-aa86-115f31b04a3c",
   "metadata": {},
   "outputs": [
    {
     "name": "stdout",
     "output_type": "stream",
     "text": [
      "0\n"
     ]
    }
   ],
   "source": [
    "# git-rename-file tests\n",
    "# Assert file doesn't exist\n",
    "[ ! -f \"newHello.txt\" ]; echo $?;"
   ]
  },
  {
   "cell_type": "code",
   "execution_count": 3,
   "id": "a196403d-b012-415d-a69c-33a2e68cd0d9",
   "metadata": {},
   "outputs": [
    {
     "name": "stdout",
     "output_type": "stream",
     "text": [
      "issuing: git mv hello.txt newHello.txt\n",
      "issuing: git add newHello.txt\n",
      "\n",
      "GIT_NO_CONFIRM set to 1, so skipping confirmation\n",
      "issuing: git commit -m 'renamed'\n",
      "    [main f71d1ce] renamed\n",
      "     1 file changed, 0 insertions(+), 0 deletions(-)\n",
      "     rename hello.txt => newHello.txt (100%)\n",
      "GIT_NO_CONFIRM set to 1, so skipping confirmation\n",
      "issuing: git push --verbose\n",
      "Pushing to https://github.com/LorenzoFerraces/bash-test.git\n",
      "Enumerating objects: 3, done.\n",
      "Counting objects: 100% (3/3), done.\n",
      "Delta compression using up to 6 threads\n",
      "Compressing objects: 100% (2/2), done.\n",
      "Writing objects: 100% (2/2), 271 bytes | 271.00 KiB/s, done.\n",
      "Total 2 (delta 0), reused 1 (delta 0), pack-reused 0\n",
      "POST git-receive-pack (444 bytes)\n",
      "To https://github.com/LorenzoFerraces/bash-test.git\n",
      "   0714c05..f71d1ce  main -> main\n",
      "updating local tracking ref 'refs/remotes/origin/main'\n",
      "[main f71d1ce] renamed\n",
      " 1 file changed, 0 insertions(+), 0 deletions(-)\n",
      " rename hello.txt => newHello.txt (100%)\n",
      "\n",
      "issuing: git reset HEAD hello.txt\n"
     ]
    }
   ],
   "source": [
    "export GIT_MESSAGE=\"renamed\"\n",
    "previous=$GIT_NO_CONFIRM\n",
    "export GIT_NO_CONFIRM=\"1\"\n",
    "contents=\"$(cat hello.txt)\"\n",
    "git-rename-file hello.txt newHello.txt"
   ]
  },
  {
   "cell_type": "code",
   "execution_count": 4,
   "id": "165c686d-2202-4642-8eee-9a1b245dbf5a",
   "metadata": {},
   "outputs": [
    {
     "name": "stdout",
     "output_type": "stream",
     "text": [
      "0\n"
     ]
    }
   ],
   "source": [
    "# Asserts\n",
    "[ -f \"newHello.txt\" ] && [ \"$(cat newHello.txt)\" == \"$(echo $contents)\" ]; \n",
    "echo $?;"
   ]
  },
  {
   "cell_type": "code",
   "execution_count": 5,
   "id": "352e510f-c581-4fd8-aabd-154420c9eebc",
   "metadata": {},
   "outputs": [],
   "source": [
    "# git-restore-staged-alias test\n",
    "echo \"second change on local\" >> newHello.txt\n",
    "git add newHello.txt"
   ]
  },
  {
   "cell_type": "code",
   "execution_count": 6,
   "id": "ff7ac3e7-88e9-4556-984b-47b9b5b0c665",
   "metadata": {},
   "outputs": [
    {
     "name": "stdout",
     "output_type": "stream",
     "text": [
      "0\n"
     ]
    }
   ],
   "source": [
    "# Assert theres is one staged file \n",
    "[ $(git status -s | grep -c \"^[MTADRCU]\") -eq 1 ]; echo $?; "
   ]
  },
  {
   "cell_type": "code",
   "execution_count": null,
   "id": "d59e48e0-e1ce-4800-a3c7-3036a3f1a0e9",
   "metadata": {},
   "outputs": [
    {
     "name": "stdout",
     "output_type": "stream",
     "text": [
      "issuing: cp -vpf newHello.txt _git-trash\n"
     ]
    }
   ],
   "source": [
    "git-restore-staged-alias newHello.txt"
   ]
  },
  {
   "cell_type": "code",
   "execution_count": 8,
   "id": "b61ec172-ee7d-4c50-8586-0cf428ce9b5f",
   "metadata": {},
   "outputs": [
    {
     "name": "stdout",
     "output_type": "stream",
     "text": [
      "0\n",
      "0\n"
     ]
    }
   ],
   "source": [
    "# Assert theres are none staged files\n",
    "[ $(git status -s | grep -c \"^[MTADRCU]\") -eq 0 ]; echo $?; \n",
    "[ $(git status -s | grep -c \"^\\?\") -eq 0 ]; echo $?; "
   ]
  },
  {
   "cell_type": "code",
   "execution_count": null,
   "id": "4f7a09e7-c073-4a1a-8a30-1c7d1c72a2ac",
   "metadata": {},
   "outputs": [],
   "source": [
    "# git-revert-file-alias tests\n",
    "echo \"second change on local\" >> newHello.txt\n"
   ]
  },
  {
   "cell_type": "code",
   "execution_count": null,
   "id": "a42bda6d-2234-4dea-b3cb-50bae54ce2ba",
   "metadata": {},
   "outputs": [],
   "source": [
    "# Assert theres is 1 unstaged file\n",
    "[ $(git status -s | grep -c \"^[MTADRCU]\") -eq 0 ]; echo $?; "
   ]
  },
  {
   "cell_type": "code",
   "execution_count": null,
   "id": "ba066216-d9de-408b-b542-116a5406994d",
   "metadata": {},
   "outputs": [],
   "source": [
    "# undo changes and remove newly created files\n",
    "\n",
    "# TODO2:\n",
    "## also, converting unique ID's to codes like temp-git-test/.git/objects/pack/pack-HEX.idx\n",
    "## EX: cat $log | perl -pe 's/\\b[0-9]+\\b/NUM/g; s/\\b[a-f0-9]+\\b/HEX/g;'\n",
    "rm -f *.txt > /dev/null\n",
    "git rm -f *.txt > /dev/null\n",
    "git add . > /dev/null\n",
    "git commit -m \"cleanup test files\"\n",
    "git push"
   ]
  },
  {
   "cell_type": "code",
   "execution_count": null,
   "id": "a0226010-dce0-4a96-b5ac-a2e72bc3c47d",
   "metadata": {},
   "outputs": [],
   "source": [
    "# delete test local repos\n",
    "\n",
    "command cd \"/tmp\"\n",
    "rm -rf temp-git-test > /dev/null\n",
    "export GIT_NO_CONFIRM=$previous\n"
   ]
  }
 ],
 "metadata": {
  "kernelspec": {
   "display_name": "Bash",
   "language": "bash",
   "name": "bash"
  },
  "language_info": {
   "codemirror_mode": "shell",
   "file_extension": ".sh",
   "mimetype": "text/x-sh",
   "name": "bash"
  }
 },
 "nbformat": 4,
 "nbformat_minor": 5
}
