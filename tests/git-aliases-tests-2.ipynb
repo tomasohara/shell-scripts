{
 "cells": [
  {
   "cell_type": "code",
   "execution_count": 1,
   "id": "c4a5e6eb-8fb2-4ae8-9644-2e9b7308003f",
   "metadata": {},
   "outputs": [],
   "source": [
    "# Second test for git aliases (e.g., git-update-plus, git-next-checkin, etc)\n",
    "\n",
    "# Note: The aliases should be defined before Jupyter is invoked.\n",
    "# For BatsPP, they can loaded via '--source all-tomohara-aliases-etc.bash' option."
   ]
  },
  {
   "cell_type": "code",
   "execution_count": 2,
   "id": "16f6f349-7b06-4d8c-8043-72b5a4003e5f",
   "metadata": {},
   "outputs": [],
   "source": [
    "# Note:\n",
    "# - Need to be very careful to ensure that the output is reproducible.\n",
    "# - This can be done by encoding numbers as <num>, hex sequences as <hex>, etc.\n",
    "# - In addition, make sure standard error is redirected so that it doesn't confuse BatsPP.\n",
    "# - Uses one cell per output (to make this less brittle).\n",
    "# - For USE_SSH_AUTH usage, see summary_stats.bash.\n",
    "# - Use 'command cmd args' to invoke cmd's to avoid alias overrides (e.g., 'egrep --color=auto').\n",
    "#\n",
    "# BatsPP quirks (circa Dec 2023):\n",
    "# - global setup should not have output, so redirect to /dev/null\n",
    "# - commands and comments cannot be mixed in a cell (i.e., only comments first and then commands)."
   ]
  },
  {
   "cell_type": "code",
   "execution_count": 3,
   "id": "9fce46b8-118d-4899-8761-c96fca6af7c7",
   "metadata": {},
   "outputs": [],
   "source": [
    "# Global Setup\n",
    "# Creating temp local repos to test on\n",
    "# note: true at end is to avoid stderr status due to rename command failure, which also seems\n",
    "# to throw off the bash kernel (e.g., leading to halt during run-all-cells)\n",
    "TMP=${TMP:-/tmp}\n",
    "TMPA=\"$TMP/temp-git-test-2\"\n",
    "rename-with-file-date \"$TMPA\" > /dev/null 2>&1\n",
    "true"
   ]
  },
  {
   "cell_type": "code",
   "execution_count": 4,
   "id": "31ebb818-8a7b-41fe-8b41-3c72dbf0c6ea",
   "metadata": {},
   "outputs": [],
   "source": [
    "# Global setup\n",
    "git clone https://github.com/scrappycito/git-bash-test.git \"$TMPA\" > /dev/null 2>&1"
   ]
  },
  {
   "cell_type": "code",
   "execution_count": 5,
   "id": "7338b000-2deb-4785-b4eb-20a988f006e9",
   "metadata": {},
   "outputs": [],
   "source": [
    "# Global setup\n",
    "# Define aliases for encoding output (e.g., to ensure output the same across runs).\n",
    "## TODO: define a better hex encoder to avoid false positives (e.g., abc).\n",
    "## OLD: alias encode-control-chars='perl -pe \"s/\\t/<tab>/g;  s/[\\x00-\\x08\\x11\\x31]/<cc>/g;\"'\n",
    "alias remove-control-chars='perl -pe \"s/\\t/<tab>/g;  s/[\\x00-\\x08\\x11\\x31]//g;\"'\n",
    "alias encode-nums='perl -pe \"s/[0-9]+/N/g;\"'\n",
    "## OLD: alias encode-hex='perl -pe \"s/[0-9A-F]{4,}/<hex>/ig;\"'\n",
    "alias encode-hex='perl -pe \"s/\\b[0-9A-F]{4,}\\b/<hex>/ig;\"'\n",
    "# note: uses perl slurp mode (i.e., read entire file) to check for consecutive newlines\n",
    "alias encode-newlines='perl -0777 -pe \"while (/\\n\\n/) { s/\\n\\n/\\n<newline>\\n/g; }\"'\n",
    "## OLD: function encode-text () { encode-control-chars | encode-nums | encode-hex | encode-newlines; }\n",
    "function encode-text () { remove-control-chars | encode-hex | encode-nums | encode-newlines; }"
   ]
  },
  {
   "cell_type": "code",
   "execution_count": 6,
   "id": "7495cba8-cf88-46ab-a0c1-c7256d84da83",
   "metadata": {},
   "outputs": [],
   "source": [
    "# Note:\n",
    "# - changed so that all temp files use \"temp-\" prefix\n",
    "# - these test scripts are written with an eye towards Murphy's Law!\n",
    "# ...   That is, what can go wrong will go wrong!"
   ]
  },
  {
   "cell_type": "code",
   "execution_count": 7,
   "id": "614c487d-a32f-45d2-838e-87270307187c",
   "metadata": {},
   "outputs": [],
   "source": [
    "# Global setup\n",
    "# Move to local to push some changes\n",
    "command cd \"$TMPA\" > /dev/null 2>&1\n",
    "git pull origin main > /dev/null 2>&1\n",
    "#\n",
    "# note: optionally setup SSH authentication (for use with Github runner and docker)\n",
    "if [ \"$USE_SSH_AUTH\" == \"1\" ]; then git remote set-url origin \"git@github.com:scrappycito/git-bash-test.git\"; fi\n",
    "#\n",
    "echo \"hello second local\" > temp-hello.txt\n",
    "git add temp-hello.txt > /dev/null 2>&1\n",
    "git commit -m \"first commit on second local\" > /dev/null 2>&1\n",
    "git push  > /dev/null 2>&1"
   ]
  },
  {
   "cell_type": "code",
   "execution_count": 8,
   "id": "c1353dbf-ed12-4811-989a-542a468ee534",
   "metadata": {},
   "outputs": [
    {
     "name": "stdout",
     "output_type": "stream",
     "text": [
      "0\n"
     ]
    }
   ],
   "source": [
    "# git-rename-file tests\n",
    "# Assert file doesn't exist\n",
    "[ ! -f \"temp-new-hello.txt\" ]; echo $?;"
   ]
  },
  {
   "cell_type": "code",
   "execution_count": 9,
   "id": "a196403d-b012-415d-a69c-33a2e68cd0d9",
   "metadata": {},
   "outputs": [
    {
     "name": "stdout",
     "output_type": "stream",
     "text": [
      "issuing: git mv temp-hello.txt temp-new-hello.txt\n",
      "issuing: git add temp-new-hello.txt\n",
      "issuing: git commit -m 'renamed hello.txt'\n",
      "    [main <hex>] renamed hello.txt\n",
      "     rename temp-hello.txt => temp-new-hello.txt (N%)\n",
      "issuing: git push --verbose\n",
      "[main <hex>] renamed hello.txt\n",
      " rename temp-hello.txt => temp-new-hello.txt (N%)\n",
      "issuing: git reset HEAD temp-hello.txt\n"
     ]
    }
   ],
   "source": [
    "export GIT_MESSAGE=\"renamed hello.txt\"\n",
    "previous=$GIT_NO_CONFIRM\n",
    "export GIT_NO_CONFIRM=\"1\"\n",
    "contents=\"$(cat temp-hello.txt)\"\n",
    "git-rename-file temp-hello.txt temp-new-hello.txt 2>&1 | egrep 'hello|issuing' | encode-text"
   ]
  },
  {
   "cell_type": "code",
   "execution_count": 10,
   "id": "165c686d-2202-4642-8eee-9a1b245dbf5a",
   "metadata": {
    "scrolled": true
   },
   "outputs": [
    {
     "name": "stdout",
     "output_type": "stream",
     "text": [
      "0\n"
     ]
    }
   ],
   "source": [
    "# Asserts\n",
    "[ -f \"temp-new-hello.txt\" ] && [ \"$(cat temp-new-hello.txt)\" == \"$(echo $contents)\" ]; \n",
    "echo $?;"
   ]
  },
  {
   "cell_type": "code",
   "execution_count": 11,
   "id": "352e510f-c581-4fd8-aabd-154420c9eebc",
   "metadata": {},
   "outputs": [],
   "source": [
    "# Setup\n",
    "# git-restore-staged-alias test\n",
    "echo \"second change on local\" >> temp-new-hello.txt\n",
    "git add temp-new-hello.txt > /dev/null 2>&1"
   ]
  },
  {
   "cell_type": "code",
   "execution_count": 12,
   "id": "ff7ac3e7-88e9-4556-984b-47b9b5b0c665",
   "metadata": {},
   "outputs": [
    {
     "name": "stdout",
     "output_type": "stream",
     "text": [
      "0\n"
     ]
    }
   ],
   "source": [
    "# Assert theres is one staged file \n",
    "[ $(git status -s | grep -c \"^[MTADRCU]\") -eq 1 ]; echo $?; "
   ]
  },
  {
   "cell_type": "code",
   "execution_count": 13,
   "id": "d59e48e0-e1ce-4800-a3c7-3036a3f1a0e9",
   "metadata": {},
   "outputs": [
    {
     "name": "stdout",
     "output_type": "stream",
     "text": [
      "issuing: cp -vpf temp-new-hello.txt _git-trash\n",
      "issuing: git restore --staged temp-new-hello.txt\n",
      "'temp-new-hello.txt' -> '_git-trash/temp-new-hello.txt'\n",
      "removed '_git-trash/temp-new-hello.txt'\n",
      "removed directory '_git-trash'\n"
     ]
    }
   ],
   "source": [
    "# Setup\n",
    "## TODO2: add .gitignore for _git-trash (see shell-scripts version)\n",
    "export GIT_MESSAGE=\"restored temp-new-hello.txt\"\n",
    "export GIT_NO_CONFIRM=\"1\"\n",
    "git-restore-staged-alias temp-new-hello.txt\n",
    "rm -rf _git-trash"
   ]
  },
  {
   "cell_type": "code",
   "execution_count": 14,
   "id": "b61ec172-ee7d-4c50-8586-0cf428ce9b5f",
   "metadata": {},
   "outputs": [
    {
     "name": "stdout",
     "output_type": "stream",
     "text": [
      "0\n"
     ]
    }
   ],
   "source": [
    "# Assert theres are no staged files\n",
    "[ $(git status -s | grep -c \"^[MTADRCU]\") -eq 0 ]; echo $?; "
   ]
  },
  {
   "cell_type": "code",
   "execution_count": 15,
   "id": "4f7a09e7-c073-4a1a-8a30-1c7d1c72a2ac",
   "metadata": {},
   "outputs": [],
   "source": [
    "# Setup\n",
    "# git-revert-file-alias tests\n",
    "echo \"second change on local\" >> temp-new-hello.txt"
   ]
  },
  {
   "cell_type": "code",
   "execution_count": 16,
   "id": "a42bda6d-2234-4dea-b3cb-50bae54ce2ba",
   "metadata": {},
   "outputs": [
    {
     "name": "stdout",
     "output_type": "stream",
     "text": [
      "0\n"
     ]
    }
   ],
   "source": [
    "# Assert theres is 1 unstaged file\n",
    "[ $(git status -s | grep -c \"^\\s[MTADRCU]\") -eq 1 ]; echo $?; "
   ]
  },
  {
   "cell_type": "code",
   "execution_count": 17,
   "id": "c99820a0-ea49-423f-8f1d-ebf95674ca51",
   "metadata": {},
   "outputs": [
    {
     "name": "stdout",
     "output_type": "stream",
     "text": [
      "issuing: cp -vpf temp-new-hello.txt _git-trash\n",
      "issuing: git reset HEAD temp-new-hello.txt\n",
      "issuing: git checkout -- temp-new-hello.txt\n",
      "issuing: git stash list\n",
      "'temp-new-hello.txt' -> '_git-trash/temp-new-hello.txt'\n",
      "Unstaged changes after reset:\n",
      "M\ttemp-new-hello.txt\n",
      "removed '_git-trash/temp-new-hello.txt'\n",
      "removed directory '_git-trash'\n"
     ]
    }
   ],
   "source": [
    "#revert unstaged file\n",
    "export GIT_MESSAGE=\"reverted temp-new-hello.txt\"\n",
    "export GIT_NO_CONFIRM=\"1\"\n",
    "git-revert-file-alias temp-new-hello.txt\n",
    "rm -rf _git-trash"
   ]
  },
  {
   "cell_type": "code",
   "execution_count": 18,
   "id": "d8ba1634-a8a4-4952-b88c-90876299a779",
   "metadata": {},
   "outputs": [
    {
     "name": "stdout",
     "output_type": "stream",
     "text": [
      "0\n"
     ]
    }
   ],
   "source": [
    "# Assert file was reverted\n",
    "# this matches any files except untracked\n",
    "# read https://git-scm.com/docs/git-status#_short_formatz\n",
    "[ $(git status -s | grep -c \"^\\s*[MTADRCU]\") -eq 0 ]; echo $?; "
   ]
  },
  {
   "cell_type": "code",
   "execution_count": 19,
   "id": "f1f58cae-5f75-4ef4-ab60-9061cf89728f",
   "metadata": {},
   "outputs": [
    {
     "name": "stdout",
     "output_type": "stream",
     "text": [
      "issuing: git mv temp-new-hello.txt temp-folder\n",
      "issuing: git add temp-folder/temp-new-hello.txt\n",
      "issuing: git commit -m 'reverted temp-new-hello.txt'\n",
      "    [main <hex>] reverted temp-new-hello.txt\n",
      "     rename temp-new-hello.txt => temp-folder/temp-new-hello.txt (N%)\n",
      "issuing: git push --verbose\n",
      "[main <hex>] reverted temp-new-hello.txt\n",
      " rename temp-new-hello.txt => temp-folder/temp-new-hello.txt (N%)\n"
     ]
    }
   ],
   "source": [
    "# git-move-to-dir tests\n",
    "mkdir temp-folder\n",
    "## OLD: git-move-to-dir \"$TMPA/temp-folder\" temp-new-hello.txt | true\n",
    "## DEBUG: git-move-to-dir temp-folder temp-new-hello.txt\n",
    "git-move-to-dir temp-folder temp-new-hello.txt 2>&1 | command egrep \"folder|hello|issuing\" | encode-text"
   ]
  },
  {
   "cell_type": "code",
   "execution_count": 20,
   "id": "29283995-ca0e-4b72-9eb9-3d8ee5274141",
   "metadata": {},
   "outputs": [
    {
     "name": "stdout",
     "output_type": "stream",
     "text": [
      "temp-new-hello.txt\n"
     ]
    }
   ],
   "source": [
    "command cd temp-folder > /dev/null\n",
    "ls"
   ]
  },
  {
   "cell_type": "code",
   "execution_count": 21,
   "id": "9d2284eb-bce7-4ecb-af35-33d843c70e34",
   "metadata": {},
   "outputs": [
    {
     "name": "stdout",
     "output_type": "stream",
     "text": [
      "0\n"
     ]
    }
   ],
   "source": [
    "#Assert the file has been moved to folder\n",
    "[ $(ls | wc -l) -eq 1 ]; echo $?;"
   ]
  },
  {
   "cell_type": "code",
   "execution_count": 22,
   "id": "379b916e-bcbe-4142-9240-a6a0ef0844fb",
   "metadata": {},
   "outputs": [
    {
     "name": "stdout",
     "output_type": "stream",
     "text": [
      "0\n"
     ]
    }
   ],
   "source": [
    "# git-conflicts-alias tests\n",
    "command cd \"$TMPA\"\n",
    "\n",
    "# first assert there are no conflicts\n",
    "[ $(git-conflicts-alias | wc -l) -eq 0 ]; echo $?"
   ]
  },
  {
   "cell_type": "code",
   "execution_count": 23,
   "id": "03583297-cf3a-4de2-84ef-72997f529672",
   "metadata": {},
   "outputs": [
    {
     "name": "stdout",
     "output_type": "stream",
     "text": [
      "Switched to branch 'branch-b'\n"
     ]
    }
   ],
   "source": [
    "# Setup\n",
    "# create branches that conflict later\n",
    "git branch branch-a > /dev/null 2>&1\n",
    "git branch branch-b > /dev/null 2>&1\n",
    "\n",
    "git checkout branch-a > /dev/null 2>&1\n",
    "echo \"line a\" >> temp-conflicts.txt\n",
    "git add temp-*txt > /dev/null 2>&1\n",
    "git commit -m \"first commit branch-a\" > /dev/null 2>&1\n",
    "\n",
    "git switch branch-b\n",
    "echo \"line b\" >> temp-conflicts.txt\n",
    "git add temp-*txt > /dev/null 2>&1\n",
    "git commit -m \"first commit branch-b\" > /dev/null 2>&1"
   ]
  },
  {
   "cell_type": "code",
   "execution_count": 24,
   "id": "4df4623a-a77d-451f-9f56-0c257cadb6d5",
   "metadata": {},
   "outputs": [],
   "source": [
    "# Setup\n",
    "# merge branches \n",
    "git switch main > /dev/null 2>&1\n",
    "git merge branch-a > /dev/null 2>&1\n",
    "git merge branch-b | true > /dev/null 2>&1"
   ]
  },
  {
   "cell_type": "code",
   "execution_count": 25,
   "id": "443ee833-6600-404a-a831-ac32bc929be4",
   "metadata": {},
   "outputs": [
    {
     "name": "stdout",
     "output_type": "stream",
     "text": [
      "0\n"
     ]
    }
   ],
   "source": [
    "# assert some conflicts were generated \n",
    "[ $(git-conflicts-alias | wc -l) -gt 0 ]; echo $?;"
   ]
  },
  {
   "cell_type": "code",
   "execution_count": 26,
   "id": "f361e865-181c-4756-9db7-e8923dde582a",
   "metadata": {},
   "outputs": [],
   "source": [
    "# Setup\n",
    "# Cleanup cont.\n",
    "# note: true used to reset $? status\n",
    "git rm -f temp-*.txt > /dev/null 2>&1\n",
    "git rm -rf temp-folder > /dev/null 2>&1\n",
    "true"
   ]
  },
  {
   "cell_type": "code",
   "execution_count": 27,
   "id": "6f872d76-618e-4a31-ac77-39244f2562f4",
   "metadata": {},
   "outputs": [],
   "source": [
    "# Setup\n",
    "# Check-in cleanup\n",
    "git add . > /dev/null 2>&1\n",
    "git commit -m \"cleanup test files\" > /dev/null 2>&1\n",
    "git push > /dev/null 2>&1"
   ]
  },
  {
   "cell_type": "code",
   "execution_count": 28,
   "id": "2a7a81a3-7810-4026-a0a4-0093fef7baab",
   "metadata": {},
   "outputs": [],
   "source": [
    "## NOTE: no need to cleanup up environment in notebook\n",
    "## OLD: export GIT_NO_CONFIRM=$previous"
   ]
  }
 ],
 "metadata": {
  "kernelspec": {
   "display_name": "Bash",
   "language": "bash",
   "name": "bash"
  },
  "language_info": {
   "codemirror_mode": "shell",
   "file_extension": ".sh",
   "mimetype": "text/x-sh",
   "name": "bash"
  }
 },
 "nbformat": 4,
 "nbformat_minor": 5
}
