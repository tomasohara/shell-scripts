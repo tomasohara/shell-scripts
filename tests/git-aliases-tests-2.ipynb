{
 "cells": [
  {
   "cell_type": "code",
   "execution_count": null,
   "id": "c4a5e6eb-8fb2-4ae8-9644-2e9b7308003f",
   "metadata": {},
   "outputs": [],
   "source": [
    "# Second test for git aliases (e.g., git-update-plus, git-next-checkin, etc)\n",
    "\n",
    "# Note: The aliases should be defined before Jupyter is invoked.\n",
    "# For BatsPP, they can loaded via '--source all-tomohara-aliases-etc.bash' option."
   ]
  },
  {
   "cell_type": "code",
   "execution_count": null,
   "id": "550a4ed7-8b7c-48f0-b1f5-ff0137834292",
   "metadata": {},
   "outputs": [],
   "source": [
    "# Global Setup\n",
    "# Creating temp local repos to test on\n",
    "TMPA=/tmp/temp-git-test"
   ]
  },
  {
   "cell_type": "code",
   "execution_count": null,
   "id": "c2f394d6-a4fb-4cf3-99b7-5638dc294582",
   "metadata": {},
   "outputs": [],
   "source": [
    "# Global setup\n",
    "# Define aliases for encoding output (e.g., to ensure output the same across runs).\n",
    "alias encode-control-chars='perl -pe \"s/\\t/<tab>/g;  s/[\\x00-\\x08\\x11\\x31]/<cc>/g;\"'\n",
    "alias encode-nums='perl -pe \"s/[0-9]+/N/g;\"'\n",
    "## TODO: define a better hex encoder to avoid false positives (e.g., abc).\n",
    "alias encode-hex='perl -pe \"s/[0-9A-F]{4,}/<hex>/ig;\"'\n",
    "# note: uses perl slurp mode (i.e., read entire file) to check for consecutive newlines\n",
    "alias encode-newlines='perl -0777 -pe \"while (/\\n\\n/) { s/\\n\\n/\\n<newline>\\n/g; }\"'\n",
    "function encode-text () { encode-control-chars | encode-nums | encode-hex | encode-newlines; }"
   ]
  },
  {
   "cell_type": "code",
   "execution_count": null,
   "id": "4d5300b7-1175-4815-8a83-97f0bbebcc61",
   "metadata": {},
   "outputs": [],
   "source": [
    "# Global setup\n",
    "git clone https://github.com/tomasohara/git-bash-test.git \"$TMPA\" > /dev/null 2>&1"
   ]
  },
  {
   "cell_type": "code",
   "execution_count": null,
   "id": "79f6598a-2e3f-43eb-8d73-b49ffc27dac5",
   "metadata": {},
   "outputs": [],
   "source": [
    "# Setup\n",
    "# Move to second local to push some changes\n",
    "command cd \"$TMPA\" > /dev/null 2>&1\n",
    "git pull origin main > /dev/null 2>&1\n",
    "echo \"hello second local\" > hello.txt\n",
    "git add hello.txt > /dev/null 2>&1\n",
    "git commit -m \"first commit on second local\" > /dev/null 2>&1\n",
    "git push > /dev/null 2>&1"
   ]
  },
  {
   "cell_type": "code",
   "execution_count": null,
   "id": "5d86d816-a054-4170-aa86-115f31b04a3c",
   "metadata": {},
   "outputs": [],
   "source": [
    "# git-rename-file tests\n",
    "# Assert file doesn't exist\n",
    "[ ! -f \"newHello.txt\" ]; echo $?;"
   ]
  },
  {
   "cell_type": "code",
   "execution_count": null,
   "id": "a196403d-b012-415d-a69c-33a2e68cd0d9",
   "metadata": {},
   "outputs": [],
   "source": [
    "# Setup\n",
    "export GIT_MESSAGE=\"renamed hello.txt\"\n",
    "previous=$GIT_NO_CONFIRM\n",
    "export GIT_NO_CONFIRM=\"1\"\n",
    "contents=\"$(cat hello.txt)\"\n",
    "git-rename-file hello.txt newHello.txt > /dev/null 2>&1 "
   ]
  },
  {
   "cell_type": "code",
   "execution_count": null,
   "id": "165c686d-2202-4642-8eee-9a1b245dbf5a",
   "metadata": {
    "scrolled": true
   },
   "outputs": [],
   "source": [
    "# Asserts\n",
    "[ -f \"newHello.txt\" ] && [ \"$(cat newHello.txt)\" == \"$(echo $contents)\" ]; echo $?;"
   ]
  },
  {
   "cell_type": "code",
   "execution_count": null,
   "id": "352e510f-c581-4fd8-aabd-154420c9eebc",
   "metadata": {},
   "outputs": [],
   "source": [
    "# Setup\n",
    "# git-restore-staged-alias test\n",
    "echo \"second change on local\" >> newHello.txt\n",
    "git add newHello.txt > /dev/null 2>&1"
   ]
  },
  {
   "cell_type": "code",
   "execution_count": null,
   "id": "ff7ac3e7-88e9-4556-984b-47b9b5b0c665",
   "metadata": {},
   "outputs": [],
   "source": [
    "# Assert theres is one staged file \n",
    "[ $(git status -s | grep -c \"^[MTADRCU]\") -eq 1 ]; echo $?; "
   ]
  },
  {
   "cell_type": "code",
   "execution_count": null,
   "id": "d59e48e0-e1ce-4800-a3c7-3036a3f1a0e9",
   "metadata": {},
   "outputs": [],
   "source": [
    "# Setup\n",
    "export GIT_MESSAGE=\"restored newHello.txt\"\n",
    "export GIT_NO_CONFIRM=\"1\"\n",
    "git-restore-staged-alias newHello.txt > /dev/null 2>&1\n",
    "rm -rf _git-trash > /dev/null"
   ]
  },
  {
   "cell_type": "code",
   "execution_count": null,
   "id": "b61ec172-ee7d-4c50-8586-0cf428ce9b5f",
   "metadata": {},
   "outputs": [],
   "source": [
    "# Assert theres are no staged files\n",
    "[ $(git status -s | grep -c \"^[MTADRCU]\") -eq 0 ]; echo $?; "
   ]
  },
  {
   "cell_type": "code",
   "execution_count": null,
   "id": "4f7a09e7-c073-4a1a-8a30-1c7d1c72a2ac",
   "metadata": {},
   "outputs": [],
   "source": [
    "# Setup\n",
    "# git-revert-file-alias tests\n",
    "echo \"second change on local\" >> newHello.txt"
   ]
  },
  {
   "cell_type": "code",
   "execution_count": null,
   "id": "a42bda6d-2234-4dea-b3cb-50bae54ce2ba",
   "metadata": {},
   "outputs": [],
   "source": [
    "# Assert theres is 1 unstaged file\n",
    "[ $(git status -s | grep -c \"^\\s[MTADRCU]\") -eq 1 ]; echo $?; "
   ]
  },
  {
   "cell_type": "code",
   "execution_count": null,
   "id": "c99820a0-ea49-423f-8f1d-ebf95674ca51",
   "metadata": {},
   "outputs": [],
   "source": [
    "# Setup\n",
    "# revert unstaged file\n",
    "export GIT_MESSAGE=\"reverted newHello.txt\"\n",
    "export GIT_NO_CONFIRM=\"1\"\n",
    "git-revert-file-alias newHello.txt > /dev/null 2>&1\n",
    "rm -rf _git-trash > /dev/null 2>&1"
   ]
  },
  {
   "cell_type": "code",
   "execution_count": null,
   "id": "d8ba1634-a8a4-4952-b88c-90876299a779",
   "metadata": {},
   "outputs": [],
   "source": [
    "# Assert file was reverted\n",
    "# this matches any files except untracked\n",
    "# read https://git-scm.com/docs/git-status#_short_format\n",
    "[ $(git status -s | grep -c \"^\\s*[MTADRCU]\") -eq 0 ]; echo $?; "
   ]
  },
  {
   "cell_type": "code",
   "execution_count": null,
   "id": "f1f58cae-5f75-4ef4-ab60-9061cf89728f",
   "metadata": {},
   "outputs": [],
   "source": [
    "# Setup\n",
    "# git-move-to-dir tests\n",
    "command mkdir folder\n",
    "git add folder > /dev/null 2>&1\n",
    "git-move-to-dir \"$TMP/folder\" newHello.txt > /dev/null 2>&1 | true \n",
    "command cd folder"
   ]
  },
  {
   "cell_type": "code",
   "execution_count": null,
   "id": "885c41a1-52fb-48f7-b722-f5633ba5f793",
   "metadata": {},
   "outputs": [],
   "source": [
    "# make sure the file was moved (at least one file change)\n",
    "[ $(ls | wc -l) -eq 1 ]; echo $?;"
   ]
  },
  {
   "cell_type": "code",
   "execution_count": null,
   "id": "379b916e-bcbe-4142-9240-a6a0ef0844fb",
   "metadata": {},
   "outputs": [],
   "source": [
    "# Setup\n",
    "# git-conflicts-alias tests\n",
    "command cd $TMPA"
   ]
  },
  {
   "cell_type": "code",
   "execution_count": null,
   "id": "26e15f2f-982b-4c54-8a72-9816ac1824b4",
   "metadata": {},
   "outputs": [],
   "source": [
    "# assert there are no conflicts already\n",
    "[ $(git-conflicts-alias | wc -l) -eq 0 ]; echo $?"
   ]
  },
  {
   "cell_type": "code",
   "execution_count": null,
   "id": "03583297-cf3a-4de2-84ef-72997f529672",
   "metadata": {},
   "outputs": [],
   "source": [
    "# Setup\n",
    "# create branches that conflict later\n",
    "git branch branch-a > /dev/null 2>&1\n",
    "git branch branch-b > /dev/null 2>&1"
   ]
  },
  {
   "cell_type": "code",
   "execution_count": null,
   "id": "e62cbe6b-ff03-4df7-82c7-981d04b30e45",
   "metadata": {},
   "outputs": [],
   "source": [
    "# Setup\n",
    "git checkout branch-a >/dev/null 2>&1\n",
    "echo \"line a\" >> conflicts.txt\n",
    "git add . > /dev/null 2>&1\n",
    "git commit -m \"first commit branch-a\" > /dev/null 2>&1"
   ]
  },
  {
   "cell_type": "code",
   "execution_count": null,
   "id": "4ae0df85-c2dc-4cc1-b020-9282d16f7f5a",
   "metadata": {},
   "outputs": [],
   "source": [
    "# Setup\n",
    "git switch branch-b\n",
    "echo \"line b\" >> conflicts.txt\n",
    "git add . > /dev/null 2>&1\n",
    "git commit -m \"first commit branch-b\" > /dev/null 2>&1"
   ]
  },
  {
   "cell_type": "code",
   "execution_count": null,
   "id": "4df4623a-a77d-451f-9f56-0c257cadb6d5",
   "metadata": {},
   "outputs": [],
   "source": [
    "# Setup\n",
    "# merge branches \n",
    "git switch main > /dev/null 2>&1\n",
    "git merge branch-a > /dev/null 2>&1\n",
    "git merge branch-b | true > /dev/null 2>&1"
   ]
  },
  {
   "cell_type": "code",
   "execution_count": null,
   "id": "443ee833-6600-404a-a831-ac32bc929be4",
   "metadata": {},
   "outputs": [],
   "source": [
    "# assert some conflicts were generated\n",
    "[ $(git-conflicts-alias | wc -l) -gt 0 ]; echo $?;"
   ]
  },
  {
   "cell_type": "code",
   "execution_count": null,
   "id": "ba066216-d9de-408b-b542-116a5406994d",
   "metadata": {},
   "outputs": [],
   "source": [
    "# Setup\n",
    "# undo changes and remove newly created files\n",
    "rm -f newHello.txt conflicts.txt > /dev/null 2>&1\n",
    "git rm -f *.txt > /dev/null 2>&1\n",
    "git rm -rf folder > /dev/null 2>&1\n",
    "git add . > /dev/null 2>&1"
   ]
  },
  {
   "cell_type": "code",
   "execution_count": null,
   "id": "f285c2fd-1f12-449f-89e8-cc82e4b03142",
   "metadata": {},
   "outputs": [],
   "source": [
    "# Setup\n",
    "## Lorenzo-TODO2: use one cell per output (to make this less brittle)\n",
    "git commit -m \"cleanup test files\" > /dev/null 2>&1\n",
    "git push > /dev/null 2>&1"
   ]
  },
  {
   "cell_type": "code",
   "execution_count": null,
   "id": "e6c33cb8-91d2-48c7-bdde-3002cd944a06",
   "metadata": {},
   "outputs": [],
   "source": [
    "# Setup\n",
    "rename-with-file-date /tmp/temp-git-test > /dev/null\n",
    "export GIT_NO_CONFIRM=$previous"
   ]
  }
 ],
 "metadata": {
  "kernelspec": {
   "display_name": "Bash",
   "language": "bash",
   "name": "bash"
  },
  "language_info": {
   "codemirror_mode": "shell",
   "file_extension": ".sh",
   "mimetype": "text/x-sh",
   "name": "bash"
  }
 },
 "nbformat": 4,
 "nbformat_minor": 5
}
