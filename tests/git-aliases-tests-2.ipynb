{
 "cells": [
  {
   "cell_type": "code",
   "execution_count": 1,
   "id": "c4a5e6eb-8fb2-4ae8-9644-2e9b7308003f",
   "metadata": {},
   "outputs": [],
   "source": [
    "#Second test for git aliases (e.g., git-update-plus, git-next-checkin, etc)\n",
    "\n",
    "# Note: The aliases should be defined before Jupyter is invoked.\n",
    "# For BatsPP, they can loaded via '--source all-tomohara-aliases-etc.bash' option."
   ]
  },
  {
   "cell_type": "code",
   "execution_count": 2,
   "id": "550a4ed7-8b7c-48f0-b1f5-ff0137834292",
   "metadata": {
    "scrolled": true
   },
   "outputs": [],
   "source": [
    "# Global Setup\n",
    "# Creating temp local repos to test on\n",
    "\n",
    "TMP=/tmp/temp-git-test"
   ]
  },
  {
   "cell_type": "code",
   "execution_count": 3,
   "id": "0330e808",
   "metadata": {},
   "outputs": [
    {
     "name": "stdout",
     "output_type": "stream",
     "text": [
      "fatal: destination path '/tmp/temp-git-test' already exists and is not an empty directory.\n",
      "From https://github.com/LorenzoFerraces/bash-test\n",
      " * branch            main       -> FETCH_HEAD\n",
      "Already up to date.\n",
      "bash: hello.txt: cannot overwrite existing file\n",
      "On branch main\n",
      "Your branch is up to date with 'origin/main'.\n",
      "\n",
      "nothing to commit, working tree clean\n",
      "remote: Permission to LorenzoFerraces/bash-test.git denied to aveeyan.\n",
      "fatal: unable to access 'https://github.com/LorenzoFerraces/bash-test.git/': The requested URL returned error: 403\n"
     ]
    },
    {
     "ename": "",
     "evalue": "128",
     "output_type": "error",
     "traceback": []
    }
   ],
   "source": [
    "# Moved as Global Setup cannot produce output\n",
    "git clone https://github.com/LorenzoFerraces/bash-test.git \"$TMP\"\n",
    "\n",
    "# Move to second local to push some changes\n",
    "command cd \"$TMP\" \n",
    "git pull origin main \n",
    "echo \"hello second local\" > hello.txt\n",
    "git add hello.txt\n",
    "git commit -m \"first commit on second local\"\n",
    "git push\n"
   ]
  },
  {
   "cell_type": "code",
   "execution_count": null,
   "id": "5d86d816-a054-4170-aa86-115f31b04a3c",
   "metadata": {},
   "outputs": [],
   "source": [
    "# git-rename-file tests\n",
    "# Assert file doesn't exist\n",
    "[ ! -f \"newHello.txt\" ]; echo $?;"
   ]
  },
  {
   "cell_type": "code",
   "execution_count": null,
   "id": "a196403d-b012-415d-a69c-33a2e68cd0d9",
   "metadata": {},
   "outputs": [],
   "source": [
    "export GIT_MESSAGE=\"renamed hello.txt\"\n",
    "previous=$GIT_NO_CONFIRM\n",
    "export GIT_NO_CONFIRM=\"1\"\n",
    "contents=\"$(cat hello.txt)\"\n",
    "git-rename-file hello.txt newHello.txt"
   ]
  },
  {
   "cell_type": "code",
   "execution_count": null,
   "id": "165c686d-2202-4642-8eee-9a1b245dbf5a",
   "metadata": {
    "scrolled": true
   },
   "outputs": [],
   "source": [
    "# Asserts\n",
    "[ -f \"newHello.txt\" ] && [ \"$(cat newHello.txt)\" == \"$(echo $contents)\" ]; \n",
    "echo $?;"
   ]
  },
  {
   "cell_type": "code",
   "execution_count": null,
   "id": "352e510f-c581-4fd8-aabd-154420c9eebc",
   "metadata": {},
   "outputs": [],
   "source": [
    "# git-restore-staged-alias test\n",
    "echo \"second change on local\" >> newHello.txt\n",
    "git add newHello.txt"
   ]
  },
  {
   "cell_type": "code",
   "execution_count": null,
   "id": "ff7ac3e7-88e9-4556-984b-47b9b5b0c665",
   "metadata": {},
   "outputs": [],
   "source": [
    "# Assert theres is one staged file \n",
    "[ $(git status -s | grep -c \"^[MTADRCU]\") -eq 1 ]; echo $?; "
   ]
  },
  {
   "cell_type": "code",
   "execution_count": null,
   "id": "d59e48e0-e1ce-4800-a3c7-3036a3f1a0e9",
   "metadata": {},
   "outputs": [],
   "source": [
    "export GIT_MESSAGE=\"restored newHello.txt\"\n",
    "export GIT_NO_CONFIRM=\"1\"\n",
    "git-restore-staged-alias newHello.txt\n",
    "rm -rf _git-trash"
   ]
  },
  {
   "cell_type": "code",
   "execution_count": null,
   "id": "b61ec172-ee7d-4c50-8586-0cf428ce9b5f",
   "metadata": {},
   "outputs": [],
   "source": [
    "# Assert theres are no staged files\n",
    "[ $(git status -s | grep -c \"^[MTADRCU]\") -eq 0 ]; echo $?; "
   ]
  },
  {
   "cell_type": "code",
   "execution_count": null,
   "id": "4f7a09e7-c073-4a1a-8a30-1c7d1c72a2ac",
   "metadata": {},
   "outputs": [],
   "source": [
    "# git-revert-file-alias tests\n",
    "echo \"second change on local\" >> newHello.txt\n"
   ]
  },
  {
   "cell_type": "code",
   "execution_count": null,
   "id": "a42bda6d-2234-4dea-b3cb-50bae54ce2ba",
   "metadata": {},
   "outputs": [],
   "source": [
    "# Assert theres is 1 unstaged file\n",
    "[ $(git status -s | grep -c \"^\\s[MTADRCU]\") -eq 1 ]; echo $?; "
   ]
  },
  {
   "cell_type": "code",
   "execution_count": null,
   "id": "c99820a0-ea49-423f-8f1d-ebf95674ca51",
   "metadata": {},
   "outputs": [],
   "source": [
    "#revert unstaged file\n",
    "export GIT_MESSAGE=\"reverted newHello.txt\"\n",
    "export GIT_NO_CONFIRM=\"1\"\n",
    "git-revert-file-alias newHello.txt\n",
    "rm -rf _git-trash"
   ]
  },
  {
   "cell_type": "code",
   "execution_count": null,
   "id": "d8ba1634-a8a4-4952-b88c-90876299a779",
   "metadata": {},
   "outputs": [],
   "source": [
    "# Assert file was reverted\n",
    "# this matches any files except untracked\n",
    "# read https://git-scm.com/docs/git-status#_short_formatz\n",
    "[ $(git status -s | grep -c \"^\\s*[MTADRCU]\") -eq 0 ]; echo $?; "
   ]
  },
  {
   "cell_type": "code",
   "execution_count": null,
   "id": "f1f58cae-5f75-4ef4-ab60-9061cf89728f",
   "metadata": {},
   "outputs": [],
   "source": [
    "# git-move-to-dir tests\n",
    "mkdir folder\n",
    "git add folder\n",
    "git-move-to-dir \"$TMP/folder\" newHello.txt | true\n",
    "command cd folder"
   ]
  },
  {
   "cell_type": "code",
   "execution_count": null,
   "id": "885c41a1-52fb-48f7-b722-f5633ba5f793",
   "metadata": {},
   "outputs": [],
   "source": [
    "#Assert the file has been moved to folder\n",
    "[ $(ls | wc -l) -eq 1 ]; echo $?;\n"
   ]
  },
  {
   "cell_type": "code",
   "execution_count": null,
   "id": "379b916e-bcbe-4142-9240-a6a0ef0844fb",
   "metadata": {},
   "outputs": [],
   "source": [
    "# git-conflicts-alias tests\n",
    "command cd $TMP\n",
    "\n",
    "# first assert there are no conflicts\n",
    "[ $(git-conflicts-alias | wc -l) -eq 0 ]; echo $?"
   ]
  },
  {
   "cell_type": "code",
   "execution_count": null,
   "id": "03583297-cf3a-4de2-84ef-72997f529672",
   "metadata": {},
   "outputs": [],
   "source": [
    "# create branches that conflict later\n",
    "git branch branch-a\n",
    "git branch branch-b\n",
    "\n",
    "git checkout branch-a\n",
    "echo \"line a\" >> conflicts.txt\n",
    "git add . \n",
    "git commit -m \"first commit branch-a\"\n",
    "\n",
    "git switch branch-b\n",
    "echo \"line b\" >> conflicts.txt\n",
    "git add . \n",
    "git commit -m \"first commit branch-b\""
   ]
  },
  {
   "cell_type": "code",
   "execution_count": null,
   "id": "4df4623a-a77d-451f-9f56-0c257cadb6d5",
   "metadata": {},
   "outputs": [],
   "source": [
    "# merge branches \n",
    "git switch main\n",
    "git merge branch-a\n",
    "git merge branch-b | true"
   ]
  },
  {
   "cell_type": "code",
   "execution_count": null,
   "id": "443ee833-6600-404a-a831-ac32bc929be4",
   "metadata": {},
   "outputs": [],
   "source": [
    "# assert there are now conflicts \n",
    "[ $(git-conflicts-alias | wc -l) -gt 0 ]; echo $?;"
   ]
  },
  {
   "cell_type": "code",
   "execution_count": null,
   "id": "ba066216-d9de-408b-b542-116a5406994d",
   "metadata": {},
   "outputs": [],
   "source": [
    "# undo changes and remove newly created files\n",
    "\n",
    "# TODO2:\n",
    "## also, converting unique ID's to codes like temp-git-test/.git/objects/pack/pack-HEX.idx\n",
    "## EX: cat $log | perl -pe 's/\\b[0-9]+\\b/NUM/g; s/\\b[a-f0-9]+\\b/HEX/g;'\n",
    "rm -f *.txt > /dev/null\n",
    "git rm -f *.txt > /dev/null\n",
    "git rm -rf folder\n",
    "git add . > /dev/null\n",
    "git commit -m \"cleanup test files\"\n",
    "git push"
   ]
  },
  {
   "cell_type": "code",
   "execution_count": null,
   "id": "a0226010-dce0-4a96-b5ac-a2e72bc3c47d",
   "metadata": {},
   "outputs": [],
   "source": [
    "# delete test local repos\n",
    "\n",
    "command cd \"/tmp\"\n",
    "rm -rf temp-git-test > /dev/null\n",
    "export GIT_NO_CONFIRM=$previous\n"
   ]
  }
 ],
 "metadata": {
  "kernelspec": {
   "display_name": "Bash",
   "language": "bash",
   "name": "bash"
  },
  "language_info": {
   "codemirror_mode": "shell",
   "file_extension": ".sh",
   "mimetype": "text/x-sh",
   "name": "bash"
  }
 },
 "nbformat": 4,
 "nbformat_minor": 5
}
