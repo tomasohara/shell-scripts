{
 "cells": [
  {
   "cell_type": "code",
   "execution_count": 1,
   "id": "c4a5e6eb-8fb2-4ae8-9644-2e9b7308003f",
   "metadata": {},
   "outputs": [],
   "source": [
    "#Second test for git aliases (e.g., git-update-plus, git-next-checkin, etc)\n",
    "\n",
    "# Note: The aliases should be defined before Jupyter is invoked.\n",
    "# For BatsPP, they can loaded via '--source all-tomohara-aliases-etc.bash' option."
   ]
  },
  {
   "cell_type": "code",
   "execution_count": 2,
   "id": "550a4ed7-8b7c-48f0-b1f5-ff0137834292",
   "metadata": {},
   "outputs": [
    {
     "name": "stdout",
     "output_type": "stream",
     "text": [
      "Cloning into '/tmp/temp-git-test'...\n",
      "remote: Enumerating objects: 529, done.\u001b[K\n",
      "remote: Counting objects: 100% (124/124), done.\u001b[K\n",
      "remote: Compressing objects: 100% (75/75), done.\u001b[K\n",
      "remote: Total 529 (delta 85), reused 88 (delta 49), pack-reused 405\u001b[K\n",
      "Receiving objects: 100% (529/529), 46.09 KiB | 963.00 KiB/s, done.\n",
      "Resolving deltas: 100% (322/322), done.\n",
      "From https://github.com/LorenzoFerraces/bash-test\n",
      " * branch            main       -> FETCH_HEAD\n",
      "Already up to date.\n",
      "[main 968fb56] first commit on second local\n",
      " 1 file changed, 1 insertion(+)\n",
      " create mode 100644 hello.txt\n",
      "Enumerating objects: 4, done.\n",
      "Counting objects: 100% (4/4), done.\n",
      "Delta compression using up to 4 threads\n",
      "Compressing objects: 100% (2/2), done.\n",
      "Writing objects: 100% (3/3), 312 bytes | 312.00 KiB/s, done.\n",
      "Total 3 (delta 0), reused 1 (delta 0), pack-reused 0\n",
      "To https://github.com/LorenzoFerraces/bash-test.git\n",
      "   abc709b..968fb56  main -> main\n"
     ]
    }
   ],
   "source": [
    "# Global Setup\n",
    "# Creating temp local repos to test on\n",
    "TMPA=/tmp/temp-git-test"
   ]
  },
  {
   "cell_type": "code",
   "execution_count": null,
   "id": "c2f394d6-a4fb-4cf3-99b7-5638dc294582",
   "metadata": {},
   "outputs": [],
   "source": [
    "# Global setup\n",
    "# Define aliases for encoding output (e.g., to ensure output the same across runs).\n",
    "## OLD: alias encode-control-chars='perl -pe \"s/\\t/<tab>/g;  s/\\n/<nl>/g;  s/[\\x00-\\x31]/<cc>/g;\"'\n",
    "alias encode-control-chars='perl -pe \"s/\\t/<tab>/g;  s/[\\x00-\\x08\\x11\\x31]/<cc>/g;\"'\n",
    "alias encode-nums='perl -pe \"s/[0-9]+/N/g;\"'\n",
    "## TODO: define a better hex encoder to avoid false positives (e.g., abc).\n",
    "alias encode-hex='perl -pe \"s/[0-9A-F]{4,}/<hex>/ig;\"'\n",
    "# note: uses perl slurp mode (i.e., read entire file) to check for consecutive newlines\n",
    "alias encode-newlines='perl -0777 -pe \"while (/\\n\\n/) { s/\\n\\n/\\n<newline>\\n/g; }\"'\n",
    "function encode-text () { encode-control-chars | encode-nums | encode-hex | encode-newlines; }"
   ]
  },
  {
   "cell_type": "code",
   "execution_count": null,
   "id": "4d5300b7-1175-4815-8a83-97f0bbebcc61",
   "metadata": {},
   "outputs": [],
   "source": [
    "git clone https://github.com/LorenzoFerraces/bash-test.git \"$TMPA\" > /dev/null 2>&1"
   ]
  },
  {
   "cell_type": "code",
   "execution_count": null,
   "id": "79f6598a-2e3f-43eb-8d73-b49ffc27dac5",
   "metadata": {},
   "outputs": [],
   "source": [
    "# Move to second local to push some changes\n",
    "command cd \"$TMPA\" > /dev/null 2>&1\n",
    "git pull origin main > /dev/null 2>&1\n",
    "echo \"hello second local\" > hello.txt\n",
    "git add hello.txt > /dev/null 2>&1\n",
    "git commit -m \"first commit on second local\" > /dev/null 2>&1\n",
    "git push > /dev/null 2>&1"
   ]
  },
  {
   "cell_type": "code",
   "execution_count": 3,
   "id": "5d86d816-a054-4170-aa86-115f31b04a3c",
   "metadata": {},
   "outputs": [
    {
     "name": "stdout",
     "output_type": "stream",
     "text": [
      "0\n"
     ]
    }
   ],
   "source": [
    "# git-rename-file tests\n",
    "# Assert file doesn't exist\n",
    "[ ! -f \"newHello.txt\" ]; echo $?;"
   ]
  },
  {
   "cell_type": "code",
   "execution_count": 4,
   "id": "a196403d-b012-415d-a69c-33a2e68cd0d9",
   "metadata": {},
   "outputs": [
    {
     "name": "stdout",
     "output_type": "stream",
     "text": [
      "issuing: git mv hello.txt newHello.txt\n",
      "issuing: git add newHello.txt\n",
      "\n",
      "GIT_NO_CONFIRM set to 1, so skipping confirmation\n",
      "issuing: git commit -m 'renamed hello.txt'\n",
      "    [main 7606053] renamed hello.txt\n",
      "     1 file changed, 0 insertions(+), 0 deletions(-)\n",
      "     rename hello.txt => newHello.txt (100%)\n",
      "GIT_NO_CONFIRM set to 1, so skipping confirmation\n",
      "issuing: git push --verbose\n",
      "Pushing to https://github.com/LorenzoFerraces/bash-test.git\n",
      "Enumerating objects: 3, done.\n",
      "Counting objects: 100% (3/3), done.\n",
      "Delta compression using up to 4 threads\n",
      "Compressing objects: 100% (2/2), done.\n",
      "Writing objects: 100% (2/2), 279 bytes | 279.00 KiB/s, done.\n",
      "Total 2 (delta 0), reused 0 (delta 0), pack-reused 0\n",
      "POST git-receive-pack (452 bytes)\n",
      "To https://github.com/LorenzoFerraces/bash-test.git\n",
      "   968fb56..7606053  main -> main\n",
      "updating local tracking ref 'refs/remotes/origin/main'\n",
      "[main 7606053] renamed hello.txt\n",
      " 1 file changed, 0 insertions(+), 0 deletions(-)\n",
      " rename hello.txt => newHello.txt (100%)\n",
      "\n",
      "issuing: git reset HEAD hello.txt\n"
     ]
    }
   ],
   "source": [
    "export GIT_MESSAGE=\"renamed hello.txt\"\n",
    "previous=$GIT_NO_CONFIRM\n",
    "export GIT_NO_CONFIRM=\"1\"\n",
    "contents=\"$(cat hello.txt)\"\n",
    "git-rename-file hello.txt newHello.txt 2>&1 | encode-text"
   ]
  },
  {
   "cell_type": "code",
   "execution_count": 5,
   "id": "165c686d-2202-4642-8eee-9a1b245dbf5a",
   "metadata": {
    "scrolled": true
   },
   "outputs": [
    {
     "name": "stdout",
     "output_type": "stream",
     "text": [
      "0\n"
     ]
    }
   ],
   "source": [
    "# Asserts\n",
    "[ -f \"newHello.txt\" ] && [ \"$(cat newHello.txt)\" == \"$(echo $contents)\" ]; \n",
    "echo $?;"
   ]
  },
  {
   "cell_type": "code",
   "execution_count": 6,
   "id": "352e510f-c581-4fd8-aabd-154420c9eebc",
   "metadata": {},
   "outputs": [],
   "source": [
    "# git-restore-staged-alias test\n",
    "echo \"second change on local\" >> newHello.txt\n",
    "git add newHello.txt > /dev/null 2>&1"
   ]
  },
  {
   "cell_type": "code",
   "execution_count": 7,
   "id": "ff7ac3e7-88e9-4556-984b-47b9b5b0c665",
   "metadata": {},
   "outputs": [
    {
     "name": "stdout",
     "output_type": "stream",
     "text": [
      "0\n"
     ]
    }
   ],
   "source": [
    "# Assert theres is one staged file \n",
    "[ $(git status -s | grep -c \"^[MTADRCU]\") -eq 1 ]; echo $?; "
   ]
  },
  {
   "cell_type": "code",
   "execution_count": 8,
   "id": "d59e48e0-e1ce-4800-a3c7-3036a3f1a0e9",
   "metadata": {},
   "outputs": [
    {
     "name": "stdout",
     "output_type": "stream",
     "text": [
      "issuing: cp -vpf newHello.txt _git-trash\n",
      "issuing: git restore --staged newHello.txt\n",
      "'newHello.txt' -> '_git-trash/newHello.txt'\n",
      "removed '_git-trash/newHello.txt'\n",
      "removed directory '_git-trash'\n"
     ]
    }
   ],
   "source": [
    "export GIT_MESSAGE=\"restored newHello.txt\"\n",
    "export GIT_NO_CONFIRM=\"1\"\n",
    "git-restore-staged-alias newHello.txt 2>&1 | encode-text\n",
    "rm -rf _git-trash > /dev/null"
   ]
  },
  {
   "cell_type": "code",
   "execution_count": 9,
   "id": "b61ec172-ee7d-4c50-8586-0cf428ce9b5f",
   "metadata": {},
   "outputs": [
    {
     "name": "stdout",
     "output_type": "stream",
     "text": [
      "0\n"
     ]
    }
   ],
   "source": [
    "# Assert theres are no staged files\n",
    "[ $(git status -s | grep -c \"^[MTADRCU]\") -eq 0 ]; echo $?; "
   ]
  },
  {
   "cell_type": "code",
   "execution_count": 10,
   "id": "4f7a09e7-c073-4a1a-8a30-1c7d1c72a2ac",
   "metadata": {},
   "outputs": [],
   "source": [
    "# git-revert-file-alias tests\n",
    "echo \"second change on local\" >> newHello.txt\n"
   ]
  },
  {
   "cell_type": "code",
   "execution_count": 11,
   "id": "a42bda6d-2234-4dea-b3cb-50bae54ce2ba",
   "metadata": {},
   "outputs": [
    {
     "name": "stdout",
     "output_type": "stream",
     "text": [
      "0\n"
     ]
    }
   ],
   "source": [
    "# Assert theres is 1 unstaged file\n",
    "[ $(git status -s | grep -c \"^\\s[MTADRCU]\") -eq 1 ]; echo $?; "
   ]
  },
  {
   "cell_type": "code",
   "execution_count": 12,
   "id": "c99820a0-ea49-423f-8f1d-ebf95674ca51",
   "metadata": {},
   "outputs": [
    {
     "name": "stdout",
     "output_type": "stream",
     "text": [
      "issuing: cp -vpf newHello.txt _git-trash\n",
      "issuing: git reset HEAD newHello.txt\n",
      "issuing: git checkout -- newHello.txt\n",
      "issuing: git stash list\n",
      "'newHello.txt' -> '_git-trash/newHello.txt'\n",
      "Unstaged changes after reset:\n",
      "M\tnewHello.txt\n",
      "removed '_git-trash/newHello.txt'\n",
      "removed directory '_git-trash'\n"
     ]
    }
   ],
   "source": [
    "#revert unstaged file\n",
    "export GIT_MESSAGE=\"reverted newHello.txt\"\n",
    "export GIT_NO_CONFIRM=\"1\"\n",
    "git-revert-file-alias newHello.txt 2>&1 | encode-text\n",
    "rm -rf _git-trash > /dev/null 2>&1"
   ]
  },
  {
   "cell_type": "code",
   "execution_count": 13,
   "id": "d8ba1634-a8a4-4952-b88c-90876299a779",
   "metadata": {},
   "outputs": [
    {
     "name": "stdout",
     "output_type": "stream",
     "text": [
      "0\n"
     ]
    }
   ],
   "source": [
    "# Assert file was reverted\n",
    "# this matches any files except untracked\n",
    "# read https://git-scm.com/docs/git-status#_short_formatz\n",
    "[ $(git status -s | grep -c \"^\\s*[MTADRCU]\") -eq 0 ]; echo $?; "
   ]
  },
  {
   "cell_type": "code",
   "execution_count": 14,
   "id": "f1f58cae-5f75-4ef4-ab60-9061cf89728f",
   "metadata": {},
   "outputs": [
    {
     "name": "stdout",
     "output_type": "stream",
     "text": [
      "/tmp/temp-git-test/folder\n"
     ]
    }
   ],
   "source": [
    "# git-move-to-dir tests\n",
    "mkdir folder\n",
    "git add folder\n",
    "git-move-to-dir \"$TMP/folder\" newHello.txt | true\n",
    "command cd folder"
   ]
  },
  {
   "cell_type": "code",
   "execution_count": 15,
   "id": "885c41a1-52fb-48f7-b722-f5633ba5f793",
   "metadata": {},
   "outputs": [
    {
     "name": "stdout",
     "output_type": "stream",
     "text": [
      "1\n"
     ]
    }
   ],
   "source": [
    "#Assert the file has been moved to folder\n",
    "[ $(ls | wc -l) -eq 1 ]; echo $?;"
   ]
  },
  {
   "cell_type": "code",
   "execution_count": 16,
   "id": "379b916e-bcbe-4142-9240-a6a0ef0844fb",
   "metadata": {},
   "outputs": [
    {
     "name": "stdout",
     "output_type": "stream",
     "text": [
      "0\n"
     ]
    }
   ],
   "source": [
    "# git-conflicts-alias tests\n",
    "command cd $TMPA"
   ]
  },
  {
   "cell_type": "code",
   "execution_count": null,
   "id": "26e15f2f-982b-4c54-8a72-9816ac1824b4",
   "metadata": {},
   "outputs": [],
   "source": [
    "# first assert there are no conflicts\n",
    "[ $(git-conflicts-alias | wc -l) -eq 0 ]; echo $?"
   ]
  },
  {
   "cell_type": "code",
   "execution_count": 17,
   "id": "03583297-cf3a-4de2-84ef-72997f529672",
   "metadata": {},
   "outputs": [
    {
     "name": "stdout",
     "output_type": "stream",
     "text": [
      "Switched to branch 'branch-a'\n",
      "[branch-a 545f76f] first commit branch-a\n",
      " 1 file changed, 1 insertion(+)\n",
      " create mode 100644 conflicts.txt\n",
      "Switched to branch 'branch-b'\n",
      "[branch-b 898caf3] first commit branch-b\n",
      " 1 file changed, 1 insertion(+)\n",
      " create mode 100644 conflicts.txt\n"
     ]
    }
   ],
   "source": [
    "# create branches that conflict later\n",
    "git branch branch-a\n",
    "git branch branch-b\n"
   ]
  },
  {
   "cell_type": "code",
   "execution_count": null,
   "id": "e62cbe6b-ff03-4df7-82c7-981d04b30e45",
   "metadata": {},
   "outputs": [],
   "source": [
    "git checkout branch-a\n",
    "echo \"line a\" >> conflicts.txt\n",
    "git add . > /dev/null 2>&1\n",
    "git commit -m \"first commit branch-a\" > /dev/null 2>&1"
   ]
  },
  {
   "cell_type": "code",
   "execution_count": null,
   "id": "4ae0df85-c2dc-4cc1-b020-9282d16f7f5a",
   "metadata": {},
   "outputs": [],
   "source": [
    "git switch branch-b\n",
    "echo \"line b\" >> conflicts.txt\n",
    "git add . > /dev/null 2>&1\n",
    "git commit -m \"first commit branch-b\" > /dev/null 2>&1"
   ]
  },
  {
   "cell_type": "code",
   "execution_count": 18,
   "id": "4df4623a-a77d-451f-9f56-0c257cadb6d5",
   "metadata": {},
   "outputs": [
    {
     "name": "stdout",
     "output_type": "stream",
     "text": [
      "Switched to branch 'main'\n",
      "Your branch is up to date with 'origin/main'.\n",
      "Updating 7606053..545f76f\n",
      "Fast-forward\n",
      " conflicts.txt | 1 \u001b[32m+\u001b[m\n",
      " 1 file changed, 1 insertion(+)\n",
      " create mode 100644 conflicts.txt\n"
     ]
    }
   ],
   "source": [
    "# merge branches \n",
    "git switch main\n",
    "git merge branch-a > /dev/null 2>&1\n",
    "git merge branch-b | true > /dev/null 2>&1"
   ]
  },
  {
   "cell_type": "code",
   "execution_count": 19,
   "id": "443ee833-6600-404a-a831-ac32bc929be4",
   "metadata": {},
   "outputs": [
    {
     "name": "stdout",
     "output_type": "stream",
     "text": [
      "0\n"
     ]
    }
   ],
   "source": [
    "# assert there are now conflicts \n",
    "[ $(git-conflicts-alias | wc -l) -gt 0 ]; echo $?;"
   ]
  },
  {
   "cell_type": "code",
   "execution_count": 20,
   "id": "ba066216-d9de-408b-b542-116a5406994d",
   "metadata": {},
   "outputs": [
    {
     "name": "stdout",
     "output_type": "stream",
     "text": [
      "fatal: pathspec 'folder' did not match any files\n",
      "[main 0f30a78] cleanup test files\n",
      " 2 files changed, 2 deletions(-)\n",
      " delete mode 100644 conflicts.txt\n",
      " delete mode 100644 newHello.txt\n",
      "Enumerating objects: 6, done.\n",
      "Counting objects: 100% (6/6), done.\n",
      "Delta compression using up to 4 threads\n",
      "Compressing objects: 100% (3/3), done.\n",
      "Writing objects: 100% (5/5), 542 bytes | 542.00 KiB/s, done.\n",
      "Total 5 (delta 0), reused 1 (delta 0), pack-reused 0\n",
      "To https://github.com/LorenzoFerraces/bash-test.git\n",
      "   7606053..0f30a78  main -> main\n"
     ]
    }
   ],
   "source": [
    "# undo changes and remove newly created files\n",
    "\n",
    "# TODO2:\n",
    "## also, converting unique ID's to codes like temp-git-test/.git/objects/pack/pack-HEX.idx\n",
    "## EX: cat $log | perl -pe 's/\\b[0-9]+\\b/NUM/g; s/\\b[a-f0-9]+\\b/HEX/g;'\n",
    "rm -f *.txt > /dev/null 2>&1\n",
    "git rm -f *.txt > /dev/null 2>&1\n",
    "git rm -rf folder 2>&1\n",
    "git add . > /dev/null 2>&1\n"
   ]
  },
  {
   "cell_type": "code",
   "execution_count": null,
   "id": "f285c2fd-1f12-449f-89e8-cc82e4b03142",
   "metadata": {},
   "outputs": [],
   "source": [
    "## Lorenzo-TODO2: use one cell per output (to make this less brittle)\n",
    "git commit -m \"cleanup test files\" > /dev/null 2>&1\n",
    "git push > /dev/null 2>&1"
   ]
  },
  {
   "cell_type": "code",
   "execution_count": 21,
   "id": "a0226010-dce0-4a96-b5ac-a2e72bc3c47d",
   "metadata": {},
   "outputs": [],
   "source": [
    "## OLD: extraneous command as full path can be used as below\n",
    "## # delete test local repos\n",
    "## command cd \"/tmp\""
   ]
  },
  {
   "cell_type": "code",
   "execution_count": null,
   "id": "e6c33cb8-91d2-48c7-bdde-3002cd944a06",
   "metadata": {},
   "outputs": [],
   "source": [
    "## OLD:\n",
    "## rm -rf temp-git-test > /dev/null\n",
    "## Lorenzo-Note: useful for retaining directories for post-hoc analysis\n",
    "rename-with-file-date /tmp/temp-git-test > /dev/null\n",
    "export GIT_NO_CONFIRM=$previous"
   ]
  }
 ],
 "metadata": {
  "kernelspec": {
   "display_name": "Bash",
   "language": "bash",
   "name": "bash"
  },
  "language_info": {
   "codemirror_mode": "shell",
   "file_extension": ".sh",
   "mimetype": "text/x-sh",
   "name": "bash"
  }
 },
 "nbformat": 4,
 "nbformat_minor": 5
}
