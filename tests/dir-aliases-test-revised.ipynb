{
 "cells": [
  {
   "cell_type": "code",
   "execution_count": 1,
   "id": "e0037c65",
   "metadata": {},
   "outputs": [],
   "source": [
    "# Test for directory aliases (e.g., dir-rw)\n",
    "#\n",
    "# Note: The aliases should be defined before Jupyter is invoked.\n",
    "# For BatsPP, they can loaded via '--source all-tomohara-aliases-etc.bash' option."
   ]
  },
  {
   "cell_type": "code",
   "execution_count": 2,
   "id": "c8072444",
   "metadata": {},
   "outputs": [],
   "source": [
    "## SETUP (OPTIONAL - USE IF REQUIRED)\n",
    "## Bracketed Paste is disabled to prevent characters after output\n",
    "## Example: \n",
    "## $ echo 'Hii'\n",
    "## | Hi?2004l\n",
    "# bind 'set enable-bracketed-paste off'"
   ]
  },
  {
   "cell_type": "code",
   "execution_count": 3,
   "id": "aa716826",
   "metadata": {},
   "outputs": [],
   "source": [
    "## TODO: Make sure bash kernel recent\n",
    "## python-module-version bash_kernel\n",
    "## >= 0.9"
   ]
  },
  {
   "cell_type": "code",
   "execution_count": 4,
   "id": "76000ec1",
   "metadata": {},
   "outputs": [],
   "source": [
    "## TEST:  Make sure simple prompt used (e.g., no escapes that might contaminate output)\n",
    "## PS1=\"$ \"\n",
    "## TODO: PS1=\"> \"\n",
    "## NOTE: The Jupyter bash kernel requires that PS1 not be modified as they customize it. \n",
    "#\n",
    "## DEBUG: echo \"PS1='$PS1'\"\n",
    "## RESULT: PS1='[PEXP\\[\\]ECT_PROMPT>'\n",
    "#\n",
    "## The following checks for escape codes (e.g., ESC or Hex 0x1B).\n",
    "## Unfortunately, the Bash kernel hangs up after processing it.\n",
    "##\n",
    "## TODO: echo $PS1 | command grep --count --perl-regexp '[\\x00-\\x1f]'\n",
    "## TEMP: echo 0\n",
    "##\n",
    "## DEBUG\n",
    "## echo \"TODO:\"\n",
    "## echo \"  echo \\\"\\$PS1\\\" | command grep --count --perl-regexp '[\\x00-\\x1f]'\""
   ]
  },
  {
   "cell_type": "code",
   "execution_count": 5,
   "id": "fd292ad6",
   "metadata": {},
   "outputs": [],
   "source": [
    "## BAD\n",
    "## # Delete all aliases and function\n",
    "## # TODO: Instead start from pristine environment\n",
    "## unalias -a\n",
    "## alias | wc -l\n",
    "## for f in $(typeset -f | egrep '^\\w+'); do unset -f $f; done\n",
    "## typeset -f | egrep '^\\w+' | wc -l"
   ]
  },
  {
   "cell_type": "code",
   "execution_count": 6,
   "id": "a0160916",
   "metadata": {},
   "outputs": [],
   "source": [
    "# Global setup\n",
    "## NOTE: Changed so that no warnings from shell-check over\n",
    "## Bash form of tests (e.g., with BASH_EVAL=1).\n",
    "## OLD:\n",
    "## alias testnum=\"sed -r \"s/[0-9]/N/g\"\" \n",
    "## alias testuser=\"sed -r \"s/\"$USER\"+/userxf333/g\"\"\n",
    "alias testnum=\"sed -r 's/[0-9]/N/g'\"\n",
    "alias testuser=\"sed -r \\\"s/\\$USER/userxf333/g\\\"\""
   ]
  },
  {
   "cell_type": "code",
   "execution_count": 7,
   "id": "95ecb191",
   "metadata": {},
   "outputs": [],
   "source": [
    "## BAD\n",
    "## mkdir -p tmp/test-dir-aliases"
   ]
  },
  {
   "cell_type": "code",
   "execution_count": 8,
   "id": "5c9b79f4-a702-4643-aa67-b52663b83665",
   "metadata": {},
   "outputs": [],
   "source": [
    "## NOTE: the debugging level is set outside of Jupyter\n",
    "## ## NEW CELL (exp)\n",
    "## OLD: DEBUG_LEVEL=0\n",
    "DEBUG_LEVEL=${DEBUG_LEVEL:-0}"
   ]
  },
  {
   "cell_type": "code",
   "execution_count": 9,
   "id": "191de70b-e4db-4cba-ba46-cefd40b6cc57",
   "metadata": {},
   "outputs": [
    {
     "name": "stdout",
     "output_type": "stream",
     "text": [
      "0\n"
     ]
    }
   ],
   "source": [
    "# The debugging level should be at most 3\n",
    "# Note: this affects output as bash_kernel conflates stderr w/ stdout\n",
    "## TODO: echo \"DEBUG_LEVEL=$DEBUG_LEVEL\" 1>&2\n",
    "[ \"$DEBUG_LEVEL\" -lt 4 ]; echo \"$?\""
   ]
  },
  {
   "cell_type": "code",
   "execution_count": 10,
   "id": "fa5edbaa",
   "metadata": {},
   "outputs": [],
   "source": [
    "# Global setup\n",
    "# Setting a temp directory for tests\n",
    "# NOTE: If debugging uses $TMP\n",
    "TMP=${TMP:-/tmp}\n",
    "if [ \"$DEBUG_LEVEL\" -lt 4 ]; then TMP=/tmp/dir-aliases-test-revised; fi\n",
    "mkdir --parents \"$TMP\""
   ]
  },
  {
   "cell_type": "code",
   "execution_count": 11,
   "id": "2fc0293a-45b6-46a6-ac0d-fca15bb9c35e",
   "metadata": {},
   "outputs": [],
   "source": [
    "## DEBUG:\n",
    "## echo $TMP"
   ]
  },
  {
   "cell_type": "code",
   "execution_count": 12,
   "id": "3a80dd61-1f0b-447b-a40f-81b98a1334fc",
   "metadata": {},
   "outputs": [],
   "source": [
    "## OLD\n",
    "#mkdir -p $TMP"
   ]
  },
  {
   "cell_type": "code",
   "execution_count": 13,
   "id": "07038ded",
   "metadata": {},
   "outputs": [],
   "source": [
    "## BAD\n",
    "## ## NOTE: Source it directly from the ./tests directory.\n",
    "## BIN_DIR=$PWD/..\n",
    "## ## You will need to run jupyter from that directory.\n",
    "## ## source $TEMP_BIN/_dir-aliases.bash\n",
    "## alias | wc -l\n",
    "## source _dir-aliases.bash"
   ]
  },
  {
   "cell_type": "code",
   "execution_count": 14,
   "id": "8368e019",
   "metadata": {},
   "outputs": [],
   "source": [
    "# Count aliases proper\n",
    "## TODO: \n",
    "## $ show-macros-proper | perl -pe 's/^alias ([^=]+)=.*/\\1/;  s/ \\(\\)$//;'  | grep -iw ^dir | wc -l\n",
    "## 7"
   ]
  },
  {
   "cell_type": "code",
   "execution_count": 15,
   "id": "51e591c6",
   "metadata": {},
   "outputs": [
    {
     "name": "stdout",
     "output_type": "stream",
     "text": [
      "0\n"
     ]
    }
   ],
   "source": [
    "# Count aliases w/ -dir in name\n",
    "# Example:\n",
    "#   $ alias | egrep '\\-dir\\b' | wc -l\n",
    "#   29\n",
    "dir_aliases=$(alias | egrep '\\-dir\\b' | wc -l)\n",
    "[ \"$dir_aliases\" -gt 20 ]; echo \"$?\""
   ]
  },
  {
   "cell_type": "code",
   "execution_count": 16,
   "id": "b4d6fad3",
   "metadata": {},
   "outputs": [],
   "source": [
    "## OLD\n",
    "## # Count functions\n",
    "## typeset -f | egrep '^\\w+' | wc -l\n",
    "## 408"
   ]
  },
  {
   "cell_type": "code",
   "execution_count": 17,
   "id": "5d186616",
   "metadata": {},
   "outputs": [
    {
     "name": "stdout",
     "output_type": "stream",
     "text": [
      "1\n"
     ]
    }
   ],
   "source": [
    "# Count functions with dir\n",
    "dir_functions=$(typeset -f | egrep '\\-dir\\b' | wc -l)\n",
    "[ \"$dir_functions\" -gt 40 ]; echo \"$?\""
   ]
  },
  {
   "cell_type": "code",
   "execution_count": 18,
   "id": "7041eaaf",
   "metadata": {},
   "outputs": [],
   "source": [
    "# Global setup\n",
    "# TODO1: move above\n",
    "## NOTE: For reproducability, the directory name needs to be fixed\n",
    "## In place of $$, use a psuedo random number (e,g., 7919)\n",
    "## *** All output from one run to the next needs to be the same ***\n",
    "#\n",
    "# Test safe symbolic links\n",
    "## temp_dir=$TMP/test-$$\n",
    "TMP=${TMP:-/tmp}\n",
    "if [ \"$DEBUG_LEVEL\" -lt 4 ]; then TMP=/tmp/test-grep-commands; fi\n",
    "\n",
    "## OLD: temp_dir=$TMP/test-7919\n",
    "temp_dir=$TMP/dir-aliases-test-revised\n",
    "#\n",
    "# Move existing file out of way\n",
    "rename-with-file-date \"$temp_dir\" > /dev/null\n",
    "#\n",
    "# Create dir and make current\n",
    "command mkdir -p \"$temp_dir\"\n",
    "# TODO: /bin/rm -rvf \"$temp_dir\"\n",
    "## BAD:\n",
    "## cd \"$temp_dir\"\n",
    "## pwd\n",
    "command cd \"$temp_dir\""
   ]
  },
  {
   "cell_type": "code",
   "execution_count": 19,
   "id": "64b2b1ef",
   "metadata": {},
   "outputs": [],
   "source": [
    "## DEBUG: Show full path for temp dir\n",
    "## pwd"
   ]
  },
  {
   "cell_type": "code",
   "execution_count": 20,
   "id": "cdd285fe",
   "metadata": {},
   "outputs": [],
   "source": [
    "# Clean up temp dir\n",
    "#\n",
    "# NOTE: To place it safe, the directory path is reproduced here.\n",
    "# IN addition, the output is omitted.\n",
    "#\n",
    "## NOTE: only delete if not debugging (e.g., $DEBUG_LEVEL < 4)\n",
    "## OLD: /bin/rm -rvf \"$temp_dir\"/*\n",
    "## OLD /bin/rm -rvf /tmp/test-dir-aliases/test-7919/* >| /tmp/_cleanup-test-dir-aliases.log 2>&1\n",
    "if [ \"$DEBUG_LEVEL\" -lt 4 ]; then /bin/rm -rvf \"$TMP\"/dir-aliases-test-revised/test-7919/* >| /tmp/_cleanup-test-dir-aliases.log 2>&1; fi"
   ]
  },
  {
   "cell_type": "code",
   "execution_count": 21,
   "id": "a82827b2",
   "metadata": {},
   "outputs": [],
   "source": [
    "## DEBUG\n",
    "show-macros-proper | grep symbolic | extract_matches.perl \"alias ([^=]+)=\" | sort -u"
   ]
  },
  {
   "cell_type": "code",
   "execution_count": 22,
   "id": "6af7ef18",
   "metadata": {},
   "outputs": [],
   "source": [
    "## TESTING SYMBOLIC LINKS"
   ]
  },
  {
   "cell_type": "code",
   "execution_count": 23,
   "id": "90277654",
   "metadata": {},
   "outputs": [
    {
     "name": "stdout",
     "output_type": "stream",
     "text": [
      "'link1' -> 'file1'\n"
     ]
    }
   ],
   "source": [
    "# The first case succeed\n",
    "#    'link1' -> 'file1'\n",
    "touch file1\n",
    "ln-symbolic file1 link1"
   ]
  },
  {
   "cell_type": "code",
   "execution_count": 24,
   "id": "079f41f3",
   "metadata": {},
   "outputs": [
    {
     "name": "stdout",
     "output_type": "stream",
     "text": [
      "1\n"
     ]
    }
   ],
   "source": [
    "# The second case should should fail\n",
    "# => \"ln: failed to create symbolic link 'link1': File exists?\"\n",
    "#\n",
    "## BAD: ln-symbolic file1 link1\n",
    "## TEST: ln-symbolic file1 link1 2>&1\n",
    "## NOTE: stderr output might be causing the jupyter bash kernel to hang up\n",
    "ln-symbolic file1 link1 2>&1 | grep -c exists"
   ]
  },
  {
   "cell_type": "code",
   "execution_count": 25,
   "id": "f139543a",
   "metadata": {},
   "outputs": [
    {
     "name": "stdout",
     "output_type": "stream",
     "text": [
      ".:\n",
      "file1\n",
      "link1\n"
     ]
    }
   ],
   "source": [
    "## DEBUG\n",
    "## NOTE: uses cat to avoid color escape codes in output\n",
    "ls -R | cat"
   ]
  },
  {
   "cell_type": "code",
   "execution_count": 26,
   "id": "088ca7d9",
   "metadata": {
    "scrolled": true
   },
   "outputs": [
    {
     "name": "stdout",
     "output_type": "stream",
     "text": [
      "3\n"
     ]
    }
   ],
   "source": [
    "# Should only be four files total (along with . and ..)\n",
    "# => 3\n",
    "ls -R | wc -l"
   ]
  },
  {
   "cell_type": "code",
   "execution_count": 27,
   "id": "df424784",
   "metadata": {
    "scrolled": true
   },
   "outputs": [],
   "source": [
    "# FYI: the current aliases and functions\n",
    "\n",
    "# ERROR IN BATSPP (WORKS FINE)\n",
    "# cat $BIN_DIR/tests/_dir-aliases.bash \n",
    "\n",
    "## TODO: convert this to inline comments (to avoid clutter in the output)"
   ]
  },
  {
   "cell_type": "code",
   "execution_count": 28,
   "id": "cf92e475",
   "metadata": {},
   "outputs": [],
   "source": [
    "## BAD\n",
    "## ##EXECUTING _dir-aliases.bash\n",
    "## bash $BIN_DIR/tests/_dir-aliases.bash"
   ]
  },
  {
   "cell_type": "code",
   "execution_count": 29,
   "id": "209e21d6",
   "metadata": {},
   "outputs": [
    {
     "name": "stdout",
     "output_type": "stream",
     "text": [
      "link1 -> file1\n"
     ]
    }
   ],
   "source": [
    "## OLD: ## Some of the aliases do not work due to the absence of 'sublinks' command\n",
    "\n",
    "# This works with proper sourcing as described at top\n",
    "symlinks-proper"
   ]
  },
  {
   "cell_type": "code",
   "execution_count": 30,
   "id": "78312919",
   "metadata": {},
   "outputs": [
    {
     "name": "stdout",
     "output_type": "stream",
     "text": [
      "'temp-link' -> '/tmp'\n"
     ]
    }
   ],
   "source": [
    "# SYMBOLIC LINK temp-link CREATED WHICH LINKS /tmp DIRECTORY \n",
    "ln-symbolic /tmp temp-link"
   ]
  },
  {
   "cell_type": "code",
   "execution_count": 31,
   "id": "3bdce856",
   "metadata": {
    "scrolled": true
   },
   "outputs": [
    {
     "name": "stdout",
     "output_type": "stream",
     "text": [
      "link1 -> file1\n",
      "temp-link -> /tmp\n"
     ]
    }
   ],
   "source": [
    "## OLD: ls -l | cut CUTS characters between x-y\n",
    "## BAD: ls -l | cut --characters=12-46 --complement\n",
    "## NOTE: the width depends on user name (i.e., not fixed)\n",
    "## DEBUG:\n",
    "##   ls -l | testuser | head -3\n",
    "##   python -c \"print('123456789-' * 6)\"\n",
    "## OLD2: ls -l | testuser | cut --characters=12-51 --complement\n",
    "sublinks-proper"
   ]
  },
  {
   "cell_type": "code",
   "execution_count": 32,
   "id": "4d064e03",
   "metadata": {},
   "outputs": [],
   "source": [
    "## BAD\n",
    "## ## CREATES A SYMBOLIC LINK FORCEFULLY\n",
    "## alias ln-symbolic-force='ln-symbolic --force'"
   ]
  },
  {
   "cell_type": "code",
   "execution_count": 33,
   "id": "b0bc416c",
   "metadata": {},
   "outputs": [],
   "source": [
    "##  HALT (TBF)\n",
    "# ln-symbolic SHOULD GENERATE AN ERROR AS PREVIOUS LINK WITH SAME NAME EXISTS\n",
    "# ln: failed to create symbolic link 'temp-link': File exist\n",
    "## BAD: ln-symbolic /tmp temp-link\n",
    "\n",
    "## OLD (Halts test): ln-symbolic /tmp temp-link 2>1 | grep -c exists"
   ]
  },
  {
   "cell_type": "code",
   "execution_count": 34,
   "id": "40e0e1ae-a8aa-4ae1-9073-d1dfa52266ef",
   "metadata": {},
   "outputs": [
    {
     "name": "stdout",
     "output_type": "stream",
     "text": [
      "'temp-link/tmp' -> '/tmp'\n"
     ]
    }
   ],
   "source": [
    "# ln-symbolic-force SHOULD BYPASS THE CONDITION\n",
    "# ln: failed to create symbolic link 'temp-link': File exist\n",
    "ln-symbolic-force /tmp temp-link"
   ]
  },
  {
   "cell_type": "code",
   "execution_count": 35,
   "id": "30835d26",
   "metadata": {
    "scrolled": true
   },
   "outputs": [
    {
     "name": "stdout",
     "output_type": "stream",
     "text": [
      "'temp-link-safe' -> '/tmp/tmp'\n"
     ]
    }
   ],
   "source": [
    "## CREATES A SAFE SYMBOLIC LINK (link-symbolic-safe='ln-symbolic --no-target-directory --no-dereference')\n",
    "link-symbolic-safe /tmp/tmp temp-link-safe"
   ]
  },
  {
   "cell_type": "code",
   "execution_count": 36,
   "id": "e7abee9a",
   "metadata": {},
   "outputs": [
    {
     "name": "stdout",
     "output_type": "stream",
     "text": [
      "'temp-link-safe' -> '/tmp/tmp'\n"
     ]
    }
   ],
   "source": [
    "## SAFE SYMBOLIC LINK BUT FORCEFUL\n",
    "link-symbolic-safe --force /tmp/tmp temp-link-safe"
   ]
  },
  {
   "cell_type": "code",
   "execution_count": 37,
   "id": "3c388fb0",
   "metadata": {
    "scrolled": true
   },
   "outputs": [
    {
     "name": "stdout",
     "output_type": "stream",
     "text": [
      "total\n",
      "-rw-r--r-- file1\n",
      "lrwxrwxrwx link1 -> file1\n",
      "lrwxrwxrwx temp-link -> /tmp\n",
      "lrwxrwxrwx temp-link-safe -> /tmp/tmp\n"
     ]
    }
   ],
   "source": [
    "## REVIEWING ALL THE RESULTS IN THE DIRECTORY (RESULTS ARE FILTERED)| OLD: ls -l\n",
    "## BAD: ls -l | cut --characters=12-46 --complement\n",
    "## BAD2: ls -l | testuser | cut --characters=12-51 --complement\n",
    "ls-long-tsv | cut --field='1,8-' | tr $'\\t' ' ' "
   ]
  },
  {
   "cell_type": "code",
   "execution_count": 38,
   "id": "8a363240",
   "metadata": {},
   "outputs": [
    {
     "name": "stdout",
     "output_type": "stream",
     "text": [
      "temp-link\n",
      "temp-link-safe\n",
      "link1\n"
     ]
    }
   ],
   "source": [
    "#TO VIEW ALL THE SUBLINKS IN THE TESTING DIRECTORY\n",
    "glob-links"
   ]
  },
  {
   "cell_type": "code",
   "execution_count": 39,
   "id": "0dd2e74d",
   "metadata": {},
   "outputs": [
    {
     "name": "stdout",
     "output_type": "stream",
     "text": [
      "test-7919-b\n",
      "test-7919-a\n"
     ]
    }
   ],
   "source": [
    "## TO VIEW SUBDIRECTORIES IN THE TESTING DIRECTORY\n",
    "## NOTE: separate temporary directory used for each test\n",
    "## BAD: pwd\n",
    "mkdir test-7919-a test-7919-b\n",
    "glob-subdirs"
   ]
  }
 ],
 "metadata": {
  "kernelspec": {
   "display_name": "Bash",
   "language": "bash",
   "name": "bash"
  },
  "language_info": {
   "codemirror_mode": "shell",
   "file_extension": ".sh",
   "mimetype": "text/x-sh",
   "name": "bash"
  }
 },
 "nbformat": 4,
 "nbformat_minor": 5
}
