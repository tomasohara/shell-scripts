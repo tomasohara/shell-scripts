{
 "cells": [
  {
   "cell_type": "code",
   "execution_count": 1,
   "id": "d8d3fc06",
   "metadata": {},
   "outputs": [],
   "source": [
    "## SETUP (OPTIONAL - USE IF REQUIRED)\n",
    "## Bracketed Paste is disabled to prevent characters after output\n",
    "## Example: \n",
    "## $ echo 'Hii'\n",
    "## | Hi?2004l\n",
    "# bind 'set enable-bracketed-paste off'\n",
    "\n",
    "# OLD & BAD: /bin/rm -rf /tmp/test-unix/test-3245 > /dev/null"
   ]
  },
  {
   "cell_type": "code",
   "execution_count": 2,
   "id": "6dcea75d",
   "metadata": {},
   "outputs": [],
   "source": [
    "## TESTS START FROM LINE 2066 (tomohara-aliases.bash)"
   ]
  },
  {
   "cell_type": "code",
   "execution_count": 3,
   "id": "65d43538",
   "metadata": {},
   "outputs": [
    {
     "name": "stdout",
     "output_type": "stream",
     "text": [
      "0\n"
     ]
    }
   ],
   "source": [
    "## TEST:  Make sure simple prompt used (e.g., no escapes that might contaminate output)\n",
    "## PS1=\"$ \"\n",
    "## TODO: PS1=\"> \"\n",
    "\n",
    "## NOTE: The Jupyter bash kernel requires that PS1 not be modified as they customize it. \n",
    "# OLD: echo $PS1\n",
    "actual=${PS1: -1}\n",
    "[ \"$actual\" = \">\" ]; echo $?"
   ]
  },
  {
   "cell_type": "code",
   "execution_count": 4,
   "id": "d623c9a9",
   "metadata": {},
   "outputs": [],
   "source": [
    "## BAD (SUPER BAD)\n",
    "\n",
    "# # Delete all aliases and function\n",
    "# # TODO: Instead start from pristine environment\n",
    "# unalias -a\n",
    "# alias | wc -l\n",
    "# for f in $(typeset -f | egrep '^\\w+'); do unset -f $f; done\n",
    "# typeset -f | egrep '^\\w+' | wc -l"
   ]
  },
  {
   "cell_type": "code",
   "execution_count": 5,
   "id": "a377b19c",
   "metadata": {},
   "outputs": [],
   "source": [
    "# Global Setup\n",
    "## OLD\n",
    "# alias testnum=\"sed -r \"s/[0-9]/N/g\"\" \n",
    "alias testuser=\"sed -r \"s/\"$USER\"+/user/g\"\"\n",
    "## For number of digits not being critical\n",
    "alias testnum=\"sed -r \"s/[0-9][0-9]*/N/g\"\""
   ]
  },
  {
   "cell_type": "code",
   "execution_count": 6,
   "id": "ab954c7f",
   "metadata": {},
   "outputs": [
    {
     "name": "stdout",
     "output_type": "stream",
     "text": [
      "renamed '/tmp/test-trace-line-words/trace-line-words-commands' -> '/tmp/test-trace-line-words/trace-line-words-commands.01May24.14'\n"
     ]
    }
   ],
   "source": [
    "## NOTE: For reproducability, the directory name needs to be fixed\n",
    "## In place of $$, use a psuedo random number (e,g., 3245)\n",
    "## *** All output from one run to the next needs to be the same ***\n",
    "\n",
    "## OLD: Dropped the use of trash-dirs\n",
    "## temp_dir=$TMP/test-$$\n",
    "# TMP=/tmp/test-unix\n",
    "# temp_dir=$TMP/test-3245\n",
    "# trash_dir=$TMP/\"_temp-trash-$(date \"+%Y%m%d%H%M%S\")\"\n",
    "\n",
    "TMP=${TMP:-/tmp}\n",
    "if [ \"$DEBUG_LEVEL\" -lt 4 ]; then TMP=/tmp/test-trace-line-words; fi\n",
    "temp_dir=$TMP/trace-line-words-commands\n",
    "\n",
    "## OLD\n",
    "# mkdir -p \"$temp_dir\"\n",
    "# # TODO: /bin/rm -rvf \"$temp_dir\"\n",
    "# cd \"$temp_dir\"\n",
    "# pwd\n",
    "\n",
    "rename-with-file-date \"$temp_dir\"\n",
    "command mkdir -p \"$temp_dir\"\n",
    "# command mkdir -p \"$trash_dir\"\n",
    "## TODO: /bin/rm -rvf \"$temp_dir\"\n",
    "command cd \"$temp_dir\"\n",
    "\n",
    "## OLD\n",
    "# ALIAS FOR PRINTING SEPERATION LINES (FOR JUPYTER)\n",
    "# alias linebr=\"printf '%*s\\n' \"${COLUMNS:-$(tput cols)}\" '' | tr ' ' -\""
   ]
  },
  {
   "cell_type": "code",
   "execution_count": 7,
   "id": "ec6df159",
   "metadata": {
    "scrolled": true
   },
   "outputs": [
    {
     "name": "stdout",
     "output_type": "stream",
     "text": [
      "0\n"
     ]
    }
   ],
   "source": [
    "## OLD\n",
    "## Count aliases proper\n",
    "# alias | wc -l\n",
    "alias | { [ $(wc -l < /dev/stdin) -ne 0 ]; echo $?; }"
   ]
  },
  {
   "cell_type": "code",
   "execution_count": 8,
   "id": "85787c44",
   "metadata": {},
   "outputs": [
    {
     "name": "stdout",
     "output_type": "stream",
     "text": [
      "0\n"
     ]
    }
   ],
   "source": [
    "## OLD\n",
    "## Count functions\n",
    "# typeset -f | egrep '^\\w+' | wc -l\n",
    "typeset -f | egrep '^\\w+' | { [ $(wc -l < /dev/stdin) -ne 0 ]; echo $?; }"
   ]
  },
  {
   "cell_type": "code",
   "execution_count": 9,
   "id": "15465d13",
   "metadata": {
    "scrolled": true
   },
   "outputs": [],
   "source": [
    "## BAD\n",
    "# # SOURCING\n",
    "# source $BIN_DIR/tomohara-aliases.bash"
   ]
  },
  {
   "cell_type": "code",
   "execution_count": 10,
   "id": "3c57d3b0",
   "metadata": {},
   "outputs": [
    {
     "name": "stdout",
     "output_type": "stream",
     "text": [
      "0\n"
     ]
    }
   ],
   "source": [
    "ps-all | { [ $(wc -l < /dev/stdin) -ne 0 ]; echo $?; }"
   ]
  },
  {
   "cell_type": "code",
   "execution_count": 11,
   "id": "1403d768",
   "metadata": {},
   "outputs": [],
   "source": [
    "# TOM_BIN_BAK=$TOM_BIN\n",
    "# TOM_BIN=$TOM_BIN/archive"
   ]
  },
  {
   "cell_type": "code",
   "execution_count": 12,
   "id": "85982448",
   "metadata": {},
   "outputs": [],
   "source": [
    "# ps-sort -justuser -"
   ]
  },
  {
   "cell_type": "code",
   "execution_count": 13,
   "id": "2395c71a",
   "metadata": {
    "scrolled": false
   },
   "outputs": [],
   "source": [
    "# ## SORTS ALL PROCESS BY TIME\n",
    "# ## Hidden: USER, TTY, STAT, COMMAND\n",
    "# ## OLD\n",
    "# # ps-sort-time | testnum | awk '!($1=$7=$8=$11=\"\")' | tail -n 5\n",
    "# ps-sort-time > ps_sort.out 2>/dev/null\n",
    "\n",
    "# # Extract CPU% for the first and second processes and store them in separate files\n",
    "# awk 'NR==2 {print $3}' ps_sort.out > out1.txt\n",
    "# awk 'NR==3 {print $3}' ps_sort.out > out2.txt\n",
    "\n",
    "# # Read values from the files\n",
    "# VAL1=$(<out1.txt)\n",
    "# VAL2=$(<out2.txt)\n",
    "\n",
    "# # Compares CPU% for first two processes\n",
    "# [ \"$(echo \"$VAL1 >= $VAL2\" | bc -l)\" -eq 1 ]; echo $?\n"
   ]
  },
  {
   "cell_type": "code",
   "execution_count": 14,
   "id": "bc13426e",
   "metadata": {},
   "outputs": [],
   "source": [
    "# ## OLD\n",
    "# ## ACTS THE SAME AS ps-sort-time\n",
    "# # ps-time | testnum | awk '!($1=$7=$8=$11=\"\")' | tail -n 5 \n",
    "# ps-time > ps_time.out 2>/dev/null\n",
    "# cat ps_time.out | head -n 2 | tail -n 1 | awk '{print $3}' > out3.txt\n",
    "# cat ps_time.out | head -n 3 | tail -n 1 | awk '{print $3}' > out4.txt\n",
    "\n",
    "# VAL1=$(cat out3.txt)\n",
    "# VAL2=$(cat out4.txt)\n",
    "# echo \"VAL1: $VAL1, VAL2: $VAL2\"\n",
    "\n",
    "\n",
    "# # Compares CPU% for first two processes\n",
    "# [ $(echo \"$VAL1 >= $VAL2\" | bc -l) -eq 1 ]; echo $?;"
   ]
  },
  {
   "cell_type": "code",
   "execution_count": 15,
   "id": "b688da20",
   "metadata": {},
   "outputs": [],
   "source": [
    "# ## OLD\n",
    "# ## SORTS ALL PROCESS BY MEMORY\n",
    "# # ps-sort-mem | testnum | awk '!($1=$7=$8=$11=\"\")' | tail -n 5\n",
    "\n",
    "# ps-sort-mem > ps_mem.out 2>/dev/null\n",
    "# cat ps_mem.out | head -n 2 | tail -n 1 | awk '{print $3}' > outm1.txt\n",
    "# cat ps_mem.out | head -n 3 | tail -n 1 | awk '{print $3}' > outm2.txt\n",
    "# VAL1=$(cat outm1.txt)\n",
    "# VAL2=$(cat outm2.txt)\n",
    "\n",
    "# # Compares memory for first two processes\n",
    "# [ \"$(echo \"$VAL1 >= $VAL2\" | bc -l)\" -eq 1 ]; echo $?"
   ]
  },
  {
   "cell_type": "code",
   "execution_count": 16,
   "id": "775ea494",
   "metadata": {},
   "outputs": [],
   "source": [
    "# ## ps-mem IS AN ALTERNATIVE OF ps-sort-mem\n",
    "# ## OLD\n",
    "# # ps-mem | testnum | awk '!($1=$7=$8=$11=\"\")' | tail -n 5 \n",
    "\n",
    "# ps-mem > ps_mem_alt.out\n",
    "\n",
    "# ## OLD: syntax error \n",
    "# # cat ps_mem.out | head -n 2 | tail -n 1 | awk '{print $3}' > outma1.txt\n",
    "# # cat ps_mem.out | head -n 3 | tail -n 1 | awk '{print $3}' > outma2.txt\n",
    "# # VAL1=$(cat outma1.txt)\n",
    "# # VAL2=$(cat outma2.txt)\n",
    "\n",
    "# VAL1=$(awk 'NR==2 {print $3}' ps_mem_alt.out)\n",
    "# VAL2=$(awk 'NR==3 {print $3}' ps_mem_alt.out)\n",
    "\n",
    "# echo \"VAL1: $VAL1, VAL2: $VAL2\"\n",
    "\n",
    "# VAL1=$(echo \"$VAL1\" | tr -d '%')\n",
    "# VAL2=$(echo \"$VAL2\" | tr -d '%')\n",
    "\n",
    "# if (( $(echo \"$VAL1 >= $VAL2\" | bc -l) )); then\n",
    "#     echo \"1\"\n",
    "# else\n",
    "#     echo \"0\"\n",
    "# fi"
   ]
  },
  {
   "cell_type": "code",
   "execution_count": 17,
   "id": "88c71418",
   "metadata": {},
   "outputs": [],
   "source": [
    "## The last four cells from here are commented due to the following error:\n",
    "# Error: bad sort field (mem): using cpu\n",
    "# VAL1: , VAL2: \n",
    "# (standard_in) 1: syntax error\n",
    "# 0\n"
   ]
  },
  {
   "cell_type": "code",
   "execution_count": 18,
   "id": "6ed9a120",
   "metadata": {},
   "outputs": [
    {
     "name": "stdout",
     "output_type": "stream",
     "text": [
      "0\n"
     ]
    }
   ],
   "source": [
    "# ERROR GENERATED FOR ps-script [OLD]\n",
    "# $ ps-script\n",
    "# | bash: -v: command not found\n",
    "# | bash: -i: command not found\n",
    "# | OSTYPE: Undefined variable.\n",
    "\n",
    "## OLD\n",
    "# ps-script\n",
    "\n",
    "ps-script > ps_script.out 2>/dev/null\n",
    "cat ps_script.out | { grep -q \"%CPU\"; echo $?; }"
   ]
  },
  {
   "cell_type": "code",
   "execution_count": 19,
   "id": "bf36bf1a",
   "metadata": {},
   "outputs": [
    {
     "name": "stdout",
     "output_type": "stream",
     "text": [
      "0\n"
     ]
    }
   ],
   "source": [
    "# ps al | egrep \"(PID|$$)\" | tail -n 10 | testnum | awk '!($1=\"\")'\n",
    "ps al | egrep \"(PID|$$)\" | tail -n 10 | testnum | awk '!($1=\"\")' > psal.txt 2>/dev/null\n",
    "cat psal.txt | { grep -q \"tail -n\"; echo $?; }"
   ]
  },
  {
   "cell_type": "code",
   "execution_count": 20,
   "id": "f7af5f4b",
   "metadata": {},
   "outputs": [
    {
     "name": "stdout",
     "output_type": "stream",
     "text": [
      "0\n"
     ]
    }
   ],
   "source": [
    "## OLD\n",
    "# get-process-parent : return parent process-id for PID\n",
    "# get-process-parent | testnum | tail -n 5\n",
    "get-process-parent | { [ $(wc -l < /dev/stdin) -ne 0 ]; echo $?; }"
   ]
  },
  {
   "cell_type": "code",
   "execution_count": 21,
   "id": "e73cd7c1",
   "metadata": {},
   "outputs": [],
   "source": [
    "# # ERROR (To be identified)\n",
    "# $ script-update\n",
    "# | cat: /home/xaea12/temp/tmp/_set_xterm_title.5848.full.list: No such file or directory\n",
    "# | cat: /home/xaea12/temp/tmp/_set_xterm_title.5848.icon.list: No such file or directory\n",
    "# | cat: /home/xaea12/temp/tmp/_set_xterm_title.5848.full.list: No such file or directory\n",
    "# | cat: /home/xaea12/temp/tmp/_set_xterm_title.5848.icon.list: No such file or directory\n",
    "# | \u001b]1;script:5848 test-3245 [/tmp/test-unix/test-3245]\u0007\u001b]2;script:5848 test-3245 [/tmp/test-unix/test-3245]\u0007\u001b]1;script:5848 test-3245 [/tmp/test-unix/test-3245]\u0007\u001b]2;script:5848 test-3245 [/tmp/test-unix/test-3245]\u0007Script started, output log file is '_update-06dec22.log'.\n"
   ]
  },
  {
   "cell_type": "code",
   "execution_count": 22,
   "id": "079b0855",
   "metadata": {},
   "outputs": [
    {
     "name": "stdout",
     "output_type": "stream",
     "text": [
      "0\n"
     ]
    }
   ],
   "source": [
    "## EXAMPLE FOR ansi-filter (a brief example required)\n",
    "# rm -rf ./* > /dev/null\n",
    "# echo \"How to use the ansi-filter? \" > ansi-filter-test.txt\n",
    "\n",
    "# touch output.txt\n",
    "# echo \"\\x1b[31mThis is \\x1b[32msome \\x1b[33mcolored \\x1b[0mtext.\" > input.ansi\n",
    "# ansi-filter input.ansi\n",
    "\n",
    "touch output.html\n",
    "echo \"\\x1b[31mThis text should be red.\\x1b[0m\" > ansifilterin.txt\n",
    "ansifilter -i ansifilterin.txt -o output.html --html --line-numbers --font-size=12 --wrap=80\n",
    "\n",
    "# Validating if the output is in HTML format\n",
    "\n",
    "expected1=$(cat output.html | wc -l)\n",
    "expected2=$(cat output.html | grep -c \"<html>\")\n",
    "# Couldn't use <!DOCTYPE html> for validation: [bash: !DOCTYPE: event not found]\n",
    "[[ \"$expected1\" -gt 1 && \"$expected2\" -eq 1 ]]; echo $?"
   ]
  },
  {
   "cell_type": "code",
   "execution_count": 23,
   "id": "1e7238c8",
   "metadata": {},
   "outputs": [],
   "source": [
    "## pause-for-enter: EXITS AFTER PRESSING ENTER, WITH A MESSAGE\n",
    "## DOESN'T WORK FOR JUPYTER, WORKS FOR TERMINAL\n",
    "# $ pause-for-enter\n",
    "# | Press enter to continue \n",
    "## (program terminates after pressing Enter Key)"
   ]
  },
  {
   "cell_type": "code",
   "execution_count": 24,
   "id": "7762153f",
   "metadata": {},
   "outputs": [
    {
     "name": "stdout",
     "output_type": "stream",
     "text": [
      "Done\n"
     ]
    }
   ],
   "source": [
    "## OLD: command mv -f * \"$trash_dir\"\n",
    "echo \"Done\""
   ]
  }
 ],
 "metadata": {
  "kernelspec": {
   "display_name": "Bash",
   "language": "bash",
   "name": "bash"
  },
  "language_info": {
   "codemirror_mode": "shell",
   "file_extension": ".sh",
   "mimetype": "text/x-sh",
   "name": "bash"
  }
 },
 "nbformat": 4,
 "nbformat_minor": 5
}
