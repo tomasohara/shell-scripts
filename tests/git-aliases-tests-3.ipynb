{
 "cells": [
  {
   "cell_type": "code",
   "execution_count": 1,
   "id": "6ffab7b3-f985-43c1-b44a-dc8d1ec92be0",
   "metadata": {},
   "outputs": [],
   "source": [
    "# Third test for git aliases (e.g., git-update-plus, git-next-checkin, etc)\n",
    "\n",
    "# Note: The aliases should be defined before Jupyter is invoked.\n",
    "# For BatsPP, they can loaded via '--source all-tomohara-aliases-etc.bash' option."
   ]
  },
  {
   "cell_type": "code",
   "execution_count": 2,
   "id": "58ab59ac-d764-4a5f-9844-88e0a2fb8340",
   "metadata": {},
   "outputs": [],
   "source": [
    "# Global Setup\n",
    "# Creating temp local repos to test on\n",
    "\n",
    "TMP=/tmp/temp-git-test\n"
   ]
  },
  {
   "cell_type": "code",
   "execution_count": 3,
   "id": "bbeda38e",
   "metadata": {},
   "outputs": [
    {
     "name": "stdout",
     "output_type": "stream",
     "text": [
      "fatal: destination path '/tmp/temp-git-test' already exists and is not an empty directory.\n",
      "From https://github.com/LorenzoFerraces/bash-test\n",
      " * branch            main       -> FETCH_HEAD\n",
      "Already up to date.\n",
      "bash: hello.txt: cannot overwrite existing file\n",
      "On branch main\n",
      "Your branch is up to date with 'origin/main'.\n",
      "\n",
      "nothing to commit, working tree clean\n",
      "remote: Permission to LorenzoFerraces/bash-test.git denied to aveeyan.\n",
      "fatal: unable to access 'https://github.com/LorenzoFerraces/bash-test.git/': The requested URL returned error: 403\n"
     ]
    },
    {
     "ename": "",
     "evalue": "128",
     "output_type": "error",
     "traceback": []
    }
   ],
   "source": [
    "# Moved the contents as Global Setup should not produce output\n",
    "git clone https://github.com/LorenzoFerraces/bash-test.git \"$TMP\"\n",
    "\n",
    "# Move to second local to push some changes\n",
    "command cd \"$TMP\" \n",
    "git pull origin main \n",
    "echo \"hello second local\" > hello.txt\n",
    "git add hello.txt\n",
    "git commit -m \"first commit on second local\"\n",
    "git push"
   ]
  },
  {
   "cell_type": "code",
   "execution_count": null,
   "id": "43e9ade1-cca8-47d1-9cbb-5856351389fb",
   "metadata": {},
   "outputs": [],
   "source": [
    "# git-diff-plus tests\n",
    "cat hello.txt > bye.txt\n",
    "echo \"differ\" >> hello.txt\n",
    "diffs=$(git-diff-plus hello.txt bye.txt | grep \"^\\+\\w\" | wc -l)\n"
   ]
  },
  {
   "cell_type": "code",
   "execution_count": null,
   "id": "173f9f6f-0708-49ed-9743-08e527aa33f0",
   "metadata": {},
   "outputs": [],
   "source": [
    "# Assert \n",
    "# there should only be one line of difference\n",
    "[ $diffs -eq 1 ]; echo $?;"
   ]
  },
  {
   "cell_type": "code",
   "execution_count": null,
   "id": "42810d73-4062-40a8-98b3-0cc9f98a8bc8",
   "metadata": {},
   "outputs": [],
   "source": [
    "# git-diff-list tests\n",
    "changed=$(git-diff-list | wc -l)"
   ]
  },
  {
   "cell_type": "code",
   "execution_count": null,
   "id": "3000e31c-e5ab-4652-adc8-882a85bf0b56",
   "metadata": {},
   "outputs": [],
   "source": [
    "# Assert \n",
    "# there should be one file changed\n",
    "[ $changed -eq 1 ]; echo $?;"
   ]
  },
  {
   "cell_type": "code",
   "execution_count": null,
   "id": "493ef6a9-6793-4408-9b64-fad95baf1e42",
   "metadata": {},
   "outputs": [],
   "source": [
    "# git-vdiff-alias tests\n",
    "killall nvim > /dev/null\n",
    "git-vdiff-alias \n",
    "\n",
    "instances=$(ps -e | grep \"nvim\" | wc -l)"
   ]
  },
  {
   "cell_type": "code",
   "execution_count": null,
   "id": "f59cbfad-4468-4db2-8fd7-f0bf001f185c",
   "metadata": {},
   "outputs": [],
   "source": [
    "# Assert there is an instance of nvim \n",
    "[ $instances -eq 1 ]; echo $?;"
   ]
  },
  {
   "cell_type": "code",
   "execution_count": null,
   "id": "2d537ee8-0129-4e4b-bf4f-f636a1a62bf4",
   "metadata": {},
   "outputs": [],
   "source": [
    "# git-next-checkin tests\n",
    "rm -f bye.txt\n",
    "previous_changes=$( git status -s | wc -l )"
   ]
  },
  {
   "cell_type": "code",
   "execution_count": null,
   "id": "46dce0df-5f71-4206-9481-faf4082d6557",
   "metadata": {},
   "outputs": [],
   "source": [
    "# set env variables and run git-next-checkin\n",
    "export GIT_MESSAGE=\"checkin\"\n",
    "previous=$GIT_NO_CONFIRM\n",
    "export GIT_NO_CONFIRM=\"1\"\n",
    "git-next-checkin hello.txt"
   ]
  },
  {
   "cell_type": "code",
   "execution_count": null,
   "id": "0b798a76-b02a-4f84-a488-ea86f09a49d1",
   "metadata": {},
   "outputs": [],
   "source": [
    "# delete new files created by git-next-cheking and count changes\n",
    "rm -rf $(ls | grep '[.][0-9]*[.]')\n",
    "changes=$( git status -s | wc -l )"
   ]
  },
  {
   "cell_type": "code",
   "execution_count": null,
   "id": "575bd975-9c2d-429e-8df0-717b16353db8",
   "metadata": {},
   "outputs": [],
   "source": [
    "# Assert there were changes before, and no changes now\n",
    "[ $previous_changes -gt 1 ] && [ $changes -eq 0 ]; echo $?;"
   ]
  },
  {
   "cell_type": "code",
   "execution_count": null,
   "id": "e0b57d7f-17ea-4b3f-9734-636ac3b93693",
   "metadata": {},
   "outputs": [],
   "source": [
    "# undo changes and remove newly created files\n",
    "\n",
    "# TODO2:\n",
    "## also, converting unique ID's to codes like temp-git-test/.git/objects/pack/pack-HEX.idx\n",
    "## EX: cat $log | perl -pe 's/\\b[0-9]+\\b/NUM/g; s/\\b[a-f0-9]+\\b/HEX/g;'\n",
    "rm -f *.txt > /dev/null\n",
    "rm -rf $(ls | grep '[.][0-9]*[.]')\n",
    "git rm -f *.txt > /dev/null\n",
    "git add . > /dev/null\n",
    "git commit -m \"cleanup test files\"\n",
    "git push"
   ]
  },
  {
   "cell_type": "code",
   "execution_count": null,
   "id": "738273ed-7b35-4942-8792-ab64b77a2a2a",
   "metadata": {},
   "outputs": [],
   "source": [
    "# delete test local repos\n",
    "\n",
    "command cd \"/tmp\"\n",
    "rm -rf temp-git-test > /dev/null\n",
    "export GIT_NO_CONFIRM=$previous\n"
   ]
  }
 ],
 "metadata": {
  "kernelspec": {
   "display_name": "Bash",
   "language": "bash",
   "name": "bash"
  },
  "language_info": {
   "codemirror_mode": "shell",
   "file_extension": ".sh",
   "mimetype": "text/x-sh",
   "name": "bash"
  }
 },
 "nbformat": 4,
 "nbformat_minor": 5
}
