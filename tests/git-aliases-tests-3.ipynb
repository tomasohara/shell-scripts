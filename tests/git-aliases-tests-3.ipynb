{
 "cells": [
  {
   "cell_type": "code",
   "execution_count": 1,
   "id": "6ffab7b3-f985-43c1-b44a-dc8d1ec92be0",
   "metadata": {},
   "outputs": [],
   "source": [
    "# Third test for git aliases (e.g., git-update-plus, git-next-checkin, etc)\n",
    "\n",
    "# Note: The aliases should be defined before Jupyter is invoked.\n",
    "# For BatsPP, they can loaded via '--source all-tomohara-aliases-etc.bash' option."
   ]
  },
  {
   "cell_type": "code",
   "execution_count": 2,
   "id": "58ab59ac-d764-4a5f-9844-88e0a2fb8340",
   "metadata": {},
   "outputs": [
    {
     "name": "stdout",
     "output_type": "stream",
     "text": [
      "Cloning into '/tmp/temp-git-test'...\n",
      "remote: Enumerating objects: 488, done.\u001b[K\n",
      "remote: Counting objects: 100% (83/83), done.\u001b[K\n",
      "remote: Compressing objects: 100% (34/34), done.\u001b[K\n",
      "remote: Total 488 (delta 49), reused 83 (delta 49), pack-reused 405\u001b[K\n",
      "Receiving objects: 100% (488/488), 42.34 KiB | 535.00 KiB/s, done.\n",
      "Resolving deltas: 100% (286/286), done.\n",
      "From https://github.com/LorenzoFerraces/bash-test\n",
      " * branch            main       -> FETCH_HEAD\n",
      "Already up to date.\n",
      "[main e344142] first commit on second local\n",
      " 1 file changed, 1 insertion(+)\n",
      " create mode 100644 hello.txt\n",
      "Enumerating objects: 4, done.\n",
      "Counting objects: 100% (4/4), done.\n",
      "Delta compression using up to 4 threads\n",
      "Compressing objects: 100% (2/2), done.\n",
      "Writing objects: 100% (3/3), 310 bytes | 310.00 KiB/s, done.\n",
      "Total 3 (delta 0), reused 1 (delta 0), pack-reused 0\n",
      "To https://github.com/LorenzoFerraces/bash-test.git\n",
      "   9f44c53..e344142  main -> main\n"
     ]
    }
   ],
   "source": [
    "# Global Setup\n",
    "# Creating temp local repos to test on\n",
    "TMPA=/tmp/temp-git-test"
   ]
  },
  {
   "cell_type": "code",
   "execution_count": null,
   "id": "3f5b38e2-1864-4f40-8580-6ecf26a46c73",
   "metadata": {},
   "outputs": [],
   "source": [
    "# Global setup\n",
    "# Define aliases for encoding output (e.g., to ensure output the same across runs).\n",
    "## OLD: alias encode-control-chars='perl -pe \"s/\\t/<tab>/g;  s/\\n/<nl>/g;  s/[\\x00-\\x31]/<cc>/g;\"'\n",
    "alias encode-control-chars='perl -pe \"s/\\t/<tab>/g;  s/[\\x00-\\x08\\x11\\x31]/<cc>/g;\"'\n",
    "alias encode-nums='perl -pe \"s/[0-9]+/N/g;\"'\n",
    "## TODO: define a better hex encoder to avoid false positives (e.g., abc).\n",
    "alias encode-hex='perl -pe \"s/[0-9A-F]{4,}/<hex>/ig;\"'\n",
    "# note: uses perl slurp mode (i.e., read entire file) to check for consecutive newlines\n",
    "alias encode-newlines='perl -0777 -pe \"while (/\\n\\n/) { s/\\n\\n/\\n<newline>\\n/g; }\"'\n",
    "function encode-text () { encode-control-chars | encode-nums | encode-hex | encode-newlines; }"
   ]
  },
  {
   "cell_type": "code",
   "execution_count": null,
   "id": "e55b65a2-b096-4b48-ae8d-44b92989a7fa",
   "metadata": {},
   "outputs": [],
   "source": [
    "# Global Setup\n",
    "git clone https://github.com/LorenzoFerraces/bash-test.git \"$TMPA\" > /dev/null 2>&1"
   ]
  },
  {
   "cell_type": "code",
   "execution_count": null,
   "id": "3888ff9c-c692-40b5-99d5-233fb3fce213",
   "metadata": {},
   "outputs": [],
   "source": [
    "# Global Setup\n",
    "# Move to second local to push some changes\n",
    "command cd \"$TMPA\" > /dev/null 2>&1\n",
    "git pull origin main > /dev/null 2>&1\n",
    "echo \"hello second local\" > hello.txt \n",
    "git add hello.txt > /dev/null 2>&1\n",
    "git commit -m \"first commit on second local\" > /dev/null 2>&1\n",
    "git push > /dev/null 2>&1"
   ]
  },
  {
   "cell_type": "code",
   "execution_count": 3,
   "id": "43e9ade1-cca8-47d1-9cbb-5856351389fb",
   "metadata": {},
   "outputs": [],
   "source": [
    "# git-diff-plus tests\n",
    "cat hello.txt > bye.txt\n",
    "echo \"differ\" >> hello.txt\n",
    "diffs=$(git-diff-plus hello.txt bye.txt | grep \"^\\+\\w\" | wc -l)"
   ]
  },
  {
   "cell_type": "code",
   "execution_count": 4,
   "id": "173f9f6f-0708-49ed-9743-08e527aa33f0",
   "metadata": {},
   "outputs": [
    {
     "name": "stdout",
     "output_type": "stream",
     "text": [
      "0\n"
     ]
    }
   ],
   "source": [
    "# Assert \n",
    "# there should only be one line of difference\n",
    "[ $diffs -eq 1 ]; echo $?;"
   ]
  },
  {
   "cell_type": "code",
   "execution_count": 5,
   "id": "42810d73-4062-40a8-98b3-0cc9f98a8bc8",
   "metadata": {},
   "outputs": [],
   "source": [
    "# git-diff-list tests\n",
    "changed=$(git-diff-list | wc -l)"
   ]
  },
  {
   "cell_type": "code",
   "execution_count": 6,
   "id": "3000e31c-e5ab-4652-adc8-882a85bf0b56",
   "metadata": {},
   "outputs": [
    {
     "name": "stdout",
     "output_type": "stream",
     "text": [
      "0\n"
     ]
    }
   ],
   "source": [
    "# Assert \n",
    "# there should be one file changed\n",
    "[ $changed -eq 1 ]; echo $?;"
   ]
  },
  {
   "cell_type": "code",
   "execution_count": 7,
   "id": "493ef6a9-6793-4408-9b64-fad95baf1e42",
   "metadata": {},
   "outputs": [
    {
     "name": "stdout",
     "output_type": "stream",
     "text": [
      "nvim: no process found\n",
      "[1] 15207\n",
      "\n",
      "[1]+  Stopped                 git-difftool-plus \"$@\"\n"
     ]
    }
   ],
   "source": [
    "# git-vdiff-alias tests\n",
    "killall nvim > /dev/null 2>&1\n",
    "git-vdiff-alias | encode-text\n",
    "instances=$(ps -e | grep \"nvim\" | wc -l)"
   ]
  },
  {
   "cell_type": "code",
   "execution_count": 8,
   "id": "f59cbfad-4468-4db2-8fd7-f0bf001f185c",
   "metadata": {},
   "outputs": [
    {
     "name": "stdout",
     "output_type": "stream",
     "text": [
      "0\n"
     ]
    }
   ],
   "source": [
    "# Assert there is an instance of nvim \n",
    "[ $instances -eq 1 ]; echo $?;"
   ]
  },
  {
   "cell_type": "code",
   "execution_count": 9,
   "id": "2d537ee8-0129-4e4b-bf4f-f636a1a62bf4",
   "metadata": {},
   "outputs": [
    {
     "name": "stdout",
     "output_type": "stream",
     "text": [
      "removed 'bye.txt'\n"
     ]
    }
   ],
   "source": [
    "# git-next-checkin tests\n",
    "rm -f bye.txt > /dev/null 2>&1\n",
    "previous_changes=$( git status -s | wc -l )"
   ]
  },
  {
   "cell_type": "code",
   "execution_count": null,
   "id": "46dce0df-5f71-4206-9481-faf4082d6557",
   "metadata": {},
   "outputs": [
    {
     "name": "stdout",
     "output_type": "stream",
     "text": [
      "fatal: Unable to read current working directory: No such file or directory\n",
      "[2]-  Exit 128                ( sleep $delay; git-difftool-plus \"$mod_file\" )  (wd: /tmp/temp-git-test)\n",
      "(wd now: /tmp)\n"
     ]
    }
   ],
   "source": [
    "# set env variables and run git-next-checkin\n",
    "export GIT_MESSAGE=\"checkin\"\n",
    "previous=$GIT_NO_CONFIRM\n",
    "export GIT_NO_CONFIRM=\"1\"\n",
    "git-next-checkin hello.txt | encode-text"
   ]
  },
  {
   "cell_type": "code",
   "execution_count": null,
   "id": "0b798a76-b02a-4f84-a488-ea86f09a49d1",
   "metadata": {},
   "outputs": [],
   "source": [
    "# delete new files created by git-next-cheking and count changes\n",
    "rm -rf $(ls | grep '[.][0-9]*[.]') > /dev/null 2>&1\n",
    "changes=$( git status -s | wc -l )"
   ]
  },
  {
   "cell_type": "code",
   "execution_count": 11,
   "id": "575bd975-9c2d-429e-8df0-717b16353db8",
   "metadata": {},
   "outputs": [
    {
     "name": "stdout",
     "output_type": "stream",
     "text": [
      "0\n",
      "0\n"
     ]
    }
   ],
   "source": [
    "# Assert there were changes before, and no changes now\n",
    "[ $previous_changes -gt 1 ] && [ $changes -eq 0 ]; echo $?;"
   ]
  },
  {
   "cell_type": "code",
   "execution_count": 12,
   "id": "e0b57d7f-17ea-4b3f-9734-636ac3b93693",
   "metadata": {},
   "outputs": [
    {
     "name": "stdout",
     "output_type": "stream",
     "text": [
      "[main dca425a] cleanup test files\n",
      " 1 file changed, 2 deletions(-)\n",
      " delete mode 100644 hello.txt\n",
      "Enumerating objects: 3, done.\n",
      "Counting objects: 100% (3/3), done.\n",
      "Delta compression using up to 4 threads\n",
      "Compressing objects: 100% (1/1), done.\n",
      "Writing objects: 100% (2/2), 245 bytes | 245.00 KiB/s, done.\n",
      "Total 2 (delta 0), reused 1 (delta 0), pack-reused 0\n",
      "To https://github.com/LorenzoFerraces/bash-test.git\n",
      "   fa905c1..dca425a  main -> main\n"
     ]
    }
   ],
   "source": [
    "# undo changes and remove newly created files\n",
    "# TODO2:\n",
    "## also, converting unique ID's to codes like temp-git-test/.git/objects/pack/pack-HEX.idx\n",
    "## EX: cat $log | perl -pe 's/\\b[0-9]+\\b/NUM/g; s/\\b[a-f0-9]+\\b/HEX/g;'\n",
    "rm -f *.txt > /dev/null 2>&1\n",
    "rm -rf $(ls | grep '[.][0-9]*[.]') > /dev/null 2>&1\n",
    "git rm -f *.txt > /dev/null 2>&1\n",
    "git add . > /dev/null 2>&1"
   ]
  },
  {
   "cell_type": "code",
   "execution_count": null,
   "id": "574c2112-c571-41fb-8a1f-3ec4f9a5681a",
   "metadata": {},
   "outputs": [],
   "source": [
    "## Lorenzo-TODO2: use one cell per output (to make this less brittle)\n",
    "git commit -m \"cleanup test files\" > /dev/null 2>&1\n",
    "git push > /dev/null 2>&1"
   ]
  },
  {
   "cell_type": "code",
   "execution_count": 13,
   "id": "738273ed-7b35-4942-8792-ab64b77a2a2a",
   "metadata": {},
   "outputs": [],
   "source": [
    "## OLD: extraneous command as full path can be used as below\n",
    "## # delete test local repos\n",
    "## command cd \"/tmp\""
   ]
  },
  {
   "cell_type": "code",
   "execution_count": null,
   "id": "b6b4d451-a27f-4e72-a08f-92ac99806d3e",
   "metadata": {},
   "outputs": [],
   "source": [
    "## OLD:\n",
    "## rm -rf temp-git-test > /dev/null\n",
    "## Lorenzo-Note: useful for retaining directories for post-hoc analysis\n",
    "rename-with-file-date /tmp/temp-git-test > /dev/null 2>&1\n",
    "export GIT_NO_CONFIRM=$previous"
   ]
  }
 ],
 "metadata": {
  "kernelspec": {
   "display_name": "Bash",
   "language": "bash",
   "name": "bash"
  },
  "language_info": {
   "codemirror_mode": "shell",
   "file_extension": ".sh",
   "mimetype": "text/x-sh",
   "name": "bash"
  }
 },
 "nbformat": 4,
 "nbformat_minor": 5
}
