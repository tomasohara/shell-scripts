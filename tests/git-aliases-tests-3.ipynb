{
 "cells": [
  {
   "cell_type": "code",
   "execution_count": 1,
   "id": "6ffab7b3-f985-43c1-b44a-dc8d1ec92be0",
   "metadata": {},
   "outputs": [],
   "source": [
    "# Third test for git aliases (e.g., git-update-plus, git-next-checkin, etc)\n",
    "\n",
    "# Note: The aliases should be defined before Jupyter is invoked.\n",
    "# For BatsPP, they can loaded via '--source all-tomohara-aliases-etc.bash' option."
   ]
  },
  {
   "cell_type": "code",
   "execution_count": 1,
   "id": "58ab59ac-d764-4a5f-9844-88e0a2fb8340",
   "metadata": {},
   "outputs": [
    {
     "name": "stdout",
     "output_type": "stream",
     "text": [
      "Cloning into '/tmp/temp-git-test'...\n",
      "remote: Enumerating objects: 394, done.\u001b[K\n",
      "remote: Counting objects: 100% (93/93), done.\u001b[K\n",
      "remote: Compressing objects: 100% (71/71), done.\u001b[K\n",
      "remote: Total 394 (delta 43), reused 68 (delta 18), pack-reused 301\u001b[K\n",
      "Receiving objects: 100% (394/394), 34.46 KiB | 820.00 KiB/s, done.\n",
      "Resolving deltas: 100% (224/224), done.\n",
      "From https://github.com/LorenzoFerraces/bash-test\n",
      " * branch            main       -> FETCH_HEAD\n",
      "Already up to date.\n",
      "[main 8cecdc0] first commit on second local\n",
      " 1 file changed, 1 insertion(+)\n",
      " create mode 100644 hello.txt\n",
      "Enumerating objects: 4, done.\n",
      "Counting objects: 100% (4/4), done.\n",
      "Delta compression using up to 4 threads\n",
      "Compressing objects: 100% (2/2), done.\n",
      "Writing objects: 100% (3/3), 309 bytes | 309.00 KiB/s, done.\n",
      "Total 3 (delta 0), reused 1 (delta 0), pack-reused 0\n",
      "To https://github.com/LorenzoFerraces/bash-test.git\n",
      "   754f5a0..8cecdc0  main -> main\n"
     ]
    }
   ],
   "source": [
    "# Global Setup\n",
    "# Creating temp local repos to test on\n",
    "\n",
    "TMP=/tmp/temp-git-test\n",
    "\n",
    "\n",
    "git clone https://github.com/LorenzoFerraces/bash-test.git \"$TMP\"\n",
    "\n",
    "# Move to second local to push some changes\n",
    "command cd \"$TMP\" \n",
    "git pull origin main \n",
    "echo \"hello second local\" > hello.txt\n",
    "git add hello.txt\n",
    "git commit -m \"first commit on second local\"\n",
    "git push\n"
   ]
  },
  {
   "cell_type": "code",
   "execution_count": 2,
   "id": "43e9ade1-cca8-47d1-9cbb-5856351389fb",
   "metadata": {},
   "outputs": [],
   "source": [
    "# git-diff-plus tests\n",
    "cat hello.txt > bye.txt\n",
    "echo \"differ\" >> hello.txt\n",
    "diffs=$(git-diff-plus hello.txt bye.txt | grep \"^\\+\\w\" | wc -l)\n"
   ]
  },
  {
   "cell_type": "code",
   "execution_count": 3,
   "id": "173f9f6f-0708-49ed-9743-08e527aa33f0",
   "metadata": {},
   "outputs": [
    {
     "name": "stdout",
     "output_type": "stream",
     "text": [
      "0\n"
     ]
    }
   ],
   "source": [
    "# Assert \n",
    "# there should only be one line of difference\n",
    "[ $diffs -eq 1 ]; echo $?;"
   ]
  },
  {
   "cell_type": "code",
   "execution_count": 4,
   "id": "42810d73-4062-40a8-98b3-0cc9f98a8bc8",
   "metadata": {},
   "outputs": [
    {
     "name": "stdout",
     "output_type": "stream",
     "text": [
      "hello.txt\n"
     ]
    }
   ],
   "source": [
    "# git-diff-list tests\n",
    "git-diff-list \n",
    "changed=$(git-diff-list | wc -l)"
   ]
  },
  {
   "cell_type": "code",
   "execution_count": 5,
   "id": "3000e31c-e5ab-4652-adc8-882a85bf0b56",
   "metadata": {},
   "outputs": [
    {
     "name": "stdout",
     "output_type": "stream",
     "text": [
      "0\n"
     ]
    }
   ],
   "source": [
    "# Assert \n",
    "# there should be one file changed\n",
    "[ $changed -eq 1 ]; echo $?;"
   ]
  },
  {
   "cell_type": "code",
   "execution_count": 6,
   "id": "493ef6a9-6793-4408-9b64-fad95baf1e42",
   "metadata": {},
   "outputs": [
    {
     "name": "stdout",
     "output_type": "stream",
     "text": [
      "nvim: no process found\n",
      "[1] 4798\n"
     ]
    }
   ],
   "source": [
    "# git-vdiff-alias tests\n",
    "killall nvim /dev/null\n",
    "git-vdiff-alias hello.txt bye.txt > /dev/null\n",
    "\n",
    "instances=$(ps -e | grep \"nvim\" | wc -l)"
   ]
  },
  {
   "cell_type": "code",
   "execution_count": 7,
   "id": "f59cbfad-4468-4db2-8fd7-f0bf001f185c",
   "metadata": {},
   "outputs": [
    {
     "name": "stdout",
     "output_type": "stream",
     "text": [
      "\n",
      "[1]+  Stopped                 git-difftool-plus \"$@\"\n",
      "0\n"
     ]
    }
   ],
   "source": [
    "# Assert there is an instance of nvim \n",
    "[ $instances -eq 1 ]; echo $?;"
   ]
  },
  {
   "cell_type": "code",
   "execution_count": 14,
   "id": "2d537ee8-0129-4e4b-bf4f-f636a1a62bf4",
   "metadata": {},
   "outputs": [
    {
     "name": "stdout",
     "output_type": "stream",
     "text": [
      " \u001b[31mM\u001b[m hello.txt\n",
      "\u001b[31m??\u001b[m _git-diff-list.4642.bash\n",
      "\u001b[31m??\u001b[m _git-diff.4642.list\n"
     ]
    }
   ],
   "source": [
    "# git-next-checkin tests\n",
    "rm -rf $(ls | grep '[.].*[.]')\n",
    "rm -f bye.txt\n",
    "git status -s\n",
    "previous_changes=$( git status -s | wc -l )"
   ]
  },
  {
   "cell_type": "code",
   "execution_count": 10,
   "id": "46dce0df-5f71-4206-9481-faf4082d6557",
   "metadata": {},
   "outputs": [
    {
     "name": "stdout",
     "output_type": "stream",
     "text": [
      "issuing: (sleep 5; git-difftool-plus \"hello.txt\") &\n",
      "[2] 9797\n",
      "TODO: modify the GIT_MESSAGE (escaping $'s, etc.) and verify read OK in commit confirmation.\n",
      "GIT_NO_CONFIRM set to 1, so skipping confirmation\n",
      "Not zipping changes because PRESERVE_GIT_STASH not 1\n",
      "issuing: git stash\n",
      "issuing: git pull --all\n",
      "issuing: git stash pop\n",
      "Not unzipping changes (because PRESERVE_GIT_STASH not 1)\n",
      "\tmodified:   hello.txt\n",
      "\n",
      "Untracked files:\n",
      "  (use \"git add <file>...\" to include in what will be committed)\n",
      "\t_git-diff-list.9568.bash\n",
      "\t_git-diff.9568.list\n",
      "\n",
      "no changes added to commit (use \"git add\" and/or \"git commit -a\")\n",
      "Dropped refs/stash@{0} (c754edf7339c566c59d96cfcb63326d17a94a7fe)\n",
      "\n",
      "issuing: git add hello.txt\n",
      "\n",
      "GIT_NO_CONFIRM set to 1, so skipping confirmation\n",
      "issuing: git commit -m 'default'\n",
      "    [main 8406c99] default\n",
      "     1 file changed, 1 insertion(+)\n",
      "GIT_NO_CONFIRM set to 1, so skipping confirmation\n",
      "issuing: git push --verbose\n",
      "Pushing to https://github.com/LorenzoFerraces/bash-test.git\n",
      "Enumerating objects: 5, done.\n",
      "Counting objects: 100% (5/5), done.\n",
      "Delta compression using up to 4 threads\n",
      "Compressing objects: 100% (2/2), done.\n",
      "Writing objects: 100% (3/3), 305 bytes | 305.00 KiB/s, done.\n",
      "Total 3 (delta 0), reused 2 (delta 0), pack-reused 0\n",
      "POST git-receive-pack (478 bytes)\n",
      "To https://github.com/LorenzoFerraces/bash-test.git\n",
      "   448c7c0..8406c99  main -> main\n",
      "updating local tracking ref 'refs/remotes/origin/main'\n",
      "[main 8406c99] default\n",
      " 1 file changed, 1 insertion(+)\n",
      "\n",
      "Warning: unable to infer modified file. Perhaps,\n",
      "    Tha-tha-that's all folks!\n",
      "\n",
      "................................................................................\n",
      "issuing: git status \n",
      "On branch main\n",
      "Your branch is up to date with 'origin/main'.\n",
      "\n",
      "Untracked files:\n",
      "  (use \"git add <file>...\" to include in what will be committed)\n",
      "\t_git-diff-list.9568.bash\n",
      "\t_git-diff.9568.list\n",
      "\n",
      "nothing added to commit but untracked files present (use \"git add\" to track)\n",
      "...\n"
     ]
    }
   ],
   "source": [
    "export GIT_MESSAGE=\"checkin\"\n",
    "previous=$GIT_NO_CONFIRM\n",
    "export GIT_NO_CONFIRM=\"1\"\n",
    "git-next-checkin hello.txt\n",
    "changes=$( git status -s | wc -l )"
   ]
  },
  {
   "cell_type": "code",
   "execution_count": null,
   "id": "575bd975-9c2d-429e-8df0-717b16353db8",
   "metadata": {},
   "outputs": [],
   "source": [
    "# Assert there were changes before, and no changes now\n",
    "[ $previous_changes -gt 0 ]; echo $?;\n",
    "[ $changes -eq 0 ]; echo $?;"
   ]
  },
  {
   "cell_type": "code",
   "execution_count": 11,
   "id": "e0b57d7f-17ea-4b3f-9734-636ac3b93693",
   "metadata": {},
   "outputs": [
    {
     "name": "stdout",
     "output_type": "stream",
     "text": [
      "removed '_git-diff-list.9568.bash'\n",
      "removed '_git-diff.9568.list'\n",
      "[main 754f5a0] cleanup test files\n",
      " 1 file changed, 2 deletions(-)\n",
      " delete mode 100644 hello.txt\n",
      "Enumerating objects: 3, done.\n",
      "Counting objects: 100% (3/3), done.\n",
      "Delta compression using up to 4 threads\n",
      "Compressing objects: 100% (1/1), done.\n",
      "Writing objects: 100% (2/2), 243 bytes | 243.00 KiB/s, done.\n",
      "Total 2 (delta 0), reused 1 (delta 0), pack-reused 0\n",
      "To https://github.com/LorenzoFerraces/bash-test.git\n",
      "   8406c99..754f5a0  main -> main\n"
     ]
    }
   ],
   "source": [
    "# undo changes and remove newly created files\n",
    "\n",
    "# TODO2:\n",
    "## also, converting unique ID's to codes like temp-git-test/.git/objects/pack/pack-HEX.idx\n",
    "## EX: cat $log | perl -pe 's/\\b[0-9]+\\b/NUM/g; s/\\b[a-f0-9]+\\b/HEX/g;'\n",
    "rm -f *.txt > /dev/null\n",
    "rm -rf $(ls | grep '[.].*[.]')\n",
    "git rm -f *.txt > /dev/null\n",
    "git add . > /dev/null\n",
    "git commit -m \"cleanup test files\"\n",
    "git push"
   ]
  },
  {
   "cell_type": "code",
   "execution_count": 12,
   "id": "738273ed-7b35-4942-8792-ab64b77a2a2a",
   "metadata": {},
   "outputs": [],
   "source": [
    "# delete test local repos\n",
    "\n",
    "command cd \"/tmp\"\n",
    "rm -rf temp-git-test > /dev/null\n",
    "export GIT_NO_CONFIRM=$previous\n"
   ]
  }
 ],
 "metadata": {
  "kernelspec": {
   "display_name": "Bash",
   "language": "bash",
   "name": "bash"
  },
  "language_info": {
   "codemirror_mode": "shell",
   "file_extension": ".sh",
   "mimetype": "text/x-sh",
   "name": "bash"
  }
 },
 "nbformat": 4,
 "nbformat_minor": 5
}
