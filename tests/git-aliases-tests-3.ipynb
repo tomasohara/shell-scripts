{
 "cells": [
  {
   "cell_type": "code",
   "execution_count": 1,
   "id": "6ffab7b3-f985-43c1-b44a-dc8d1ec92be0",
   "metadata": {},
   "outputs": [],
   "source": [
    "# Third test for git aliases (e.g., git-update-plus, git-next-checkin, etc)\n",
    "\n",
    "# Note: The aliases should be defined before Jupyter is invoked.\n",
    "# For BatsPP, they can loaded via '--source all-tomohara-aliases-etc.bash' option."
   ]
  },
  {
   "cell_type": "code",
   "execution_count": null,
   "id": "f61dcb6d-2217-4527-8f95-e1e0eb262795",
   "metadata": {},
   "outputs": [],
   "source": [
    "## TODO2: put common setup in helper script\n",
    "## ex: source git-aliases-tests-common.sh"
   ]
  },
  {
   "cell_type": "code",
   "execution_count": null,
   "id": "d041fdf6-f8bb-4fd0-93e1-0d766a9b7f3f",
   "metadata": {},
   "outputs": [],
   "source": [
    "# Global Setup\n",
    "# Creating temp local repos to test on\n",
    "## TODO2: Use something like TEMP_TEST_DIR becuase you are not changing system temp directory.\n",
    "TMP=/tmp/temp-git-test\n",
    "git clone https://github.com/tomasohara/git-bash-test.git \"$TMP\" > /dev/null 2>&1"
   ]
  },
  {
   "cell_type": "code",
   "execution_count": null,
   "id": "0d3b5aee-5218-49b7-9eb0-9386c35d09a7",
   "metadata": {},
   "outputs": [],
   "source": [
    "## BAD\n",
    "## git clone https://github.com/LorenzoFerraces/bash-test.git \"$TMP\"\n",
    "##\n",
    "## # Move to second local to push some changes\n",
    "## command cd \"$TMP\" \n",
    "## git pull origin main \n",
    "## echo \"hello second local\" > hello.txt\n",
    "## git add hello.txt\n",
    "## git commit -m \"first commit on second local\"\n",
    "## git push\n",
    "\n"
   ]
  },
  {
   "cell_type": "code",
   "execution_count": null,
   "id": "1a0c909f-e0d8-4e88-a107-ab15bf646f73",
   "metadata": {},
   "outputs": [],
   "source": [
    "## TODO1: fix changes so that all temp files use \"temp-\" prefix\n",
    "## NOTE: Please write these test scripts with an eye towards Murphy's Law!\n",
    "## ...   That is, what can go wrong will go wrong!\n",
    "## NOTE: bye.txt changed to temp-bye.txt, etc."
   ]
  },
  {
   "cell_type": "code",
   "execution_count": null,
   "id": "f4181905-de97-4f98-a4be-9a30469cd572",
   "metadata": {},
   "outputs": [],
   "source": [
    "## TODO1 Fix this following git-aliases-tests-1 as requested\n",
    "## Also follow git-aliases-tests-2.\n",
    "##\n",
    "## Use following Bash snippet to output .sh versions to facilitate comparisons\n",
    "## (e.g., git-aliases-tests-1 vs git-aliases-tests-2 vs git-aliases-tests-3).\n",
    "##\n",
    "## note:\n",
    "## - [batch] converting all Jupyter bash tests to .sh format (i.e., without expected output)\n",
    "##  \n",
    "## $ {\n",
    "##   # pre-init: CONV_OPTIONS=\"\"; CONV_EXTENSION=\"batspp\";\n",
    "##   # pre-init: CONV_GLOB=\"*tips*\"\n",
    "##   conv_options=\"${CONV_OPTIONS:-\"--just-code\"}\";\n",
    "##   conv_extension=\"${CONV_EXTENSION:-\"sh\"}\";\n",
    "##   conv_glob=\"${CONV_GLOB:-\"*\"}\";\n",
    "##   #\n",
    "##   mkdir -p tests/output-files;\n",
    "##   for f in tests/${conv_glob}.ipynb; do\n",
    "##       b=$(basename $f .ipynb);\n",
    "##       TRACE_INVOCATION=0 jupyter_to_batspp.py $conv_options --stdout $f >| tests/output-files/\"$b.$conv_extension\";\n",
    "##   done;\n",
    "## }\n",
    "## \n",
    "## $ pwd\n",
    "## /home/tomohara/programs/bash/tom-shell-scripts"
   ]
  },
  {
   "cell_type": "code",
   "execution_count": null,
   "id": "0625a301-9df1-423f-9b9d-2511374ee950",
   "metadata": {},
   "outputs": [],
   "source": [
    "# git-diff-plus tests\n",
    "cat temp-hello.txt > temp-bye.txt\n",
    "echo \"differ\" >> temp-hello.txt\n",
    "diffs=$(git-diff-plus temp-hello.txt temp-bye.txt | grep \"^\\+\\w\" | wc -l)"
   ]
  },
  {
   "cell_type": "code",
   "execution_count": 4,
   "id": "173f9f6f-0708-49ed-9743-08e527aa33f0",
   "metadata": {},
   "outputs": [
    {
     "name": "stdout",
     "output_type": "stream",
     "text": [
      "0\n"
     ]
    }
   ],
   "source": [
    "# Assert \n",
    "# there should only be one line of difference\n",
    "[ $diffs -eq 1 ]; echo $?;"
   ]
  },
  {
   "cell_type": "code",
   "execution_count": 5,
   "id": "42810d73-4062-40a8-98b3-0cc9f98a8bc8",
   "metadata": {},
   "outputs": [],
   "source": [
    "# git-diff-list tests\n",
    "changed=$(git-diff-list | wc -l)"
   ]
  },
  {
   "cell_type": "code",
   "execution_count": 6,
   "id": "3000e31c-e5ab-4652-adc8-882a85bf0b56",
   "metadata": {},
   "outputs": [
    {
     "name": "stdout",
     "output_type": "stream",
     "text": [
      "0\n"
     ]
    }
   ],
   "source": [
    "# Assert \n",
    "# there should be one file changed\n",
    "[ $changed -eq 1 ]; echo $?;"
   ]
  },
  {
   "cell_type": "code",
   "execution_count": 7,
   "id": "493ef6a9-6793-4408-9b64-fad95baf1e42",
   "metadata": {},
   "outputs": [
    {
     "name": "stdout",
     "output_type": "stream",
     "text": [
      "nvim: no process found\n",
      "[1] 15207\n",
      "\n",
      "[1]+  Stopped                 git-difftool-plus \"$@\"\n"
     ]
    }
   ],
   "source": [
    "# git-vdiff-alias tests\n",
    "# TODO2: what is nvim???\n",
    "killall nvim > /dev/null\n",
    "git-vdiff-alias \n",
    "\n",
    "instances=$(ps -e | grep \"nvim\" | wc -l)"
   ]
  },
  {
   "cell_type": "code",
   "execution_count": 8,
   "id": "f59cbfad-4468-4db2-8fd7-f0bf001f185c",
   "metadata": {},
   "outputs": [
    {
     "name": "stdout",
     "output_type": "stream",
     "text": [
      "0\n"
     ]
    }
   ],
   "source": [
    "# Assert there is an instance of nvim \n",
    "[ $instances -eq 1 ]; echo $?;"
   ]
  },
  {
   "cell_type": "code",
   "execution_count": 9,
   "id": "2d537ee8-0129-4e4b-bf4f-f636a1a62bf4",
   "metadata": {},
   "outputs": [
    {
     "name": "stdout",
     "output_type": "stream",
     "text": [
      "removed 'bye.txt'\n"
     ]
    }
   ],
   "source": [
    "# git-next-checkin tests\n",
    "rm -f temp-bye.txt\n",
    "previous_changes=$( git status -s | wc -l )"
   ]
  },
  {
   "cell_type": "code",
   "execution_count": null,
   "id": "46dce0df-5f71-4206-9481-faf4082d6557",
   "metadata": {},
   "outputs": [
    {
     "name": "stdout",
     "output_type": "stream",
     "text": [
      "fatal: Unable to read current working directory: No such file or directory\n",
      "[2]-  Exit 128                ( sleep $delay; git-difftool-plus \"$mod_file\" )  (wd: /tmp/temp-git-test)\n",
      "(wd now: /tmp)\n"
     ]
    }
   ],
   "source": [
    "# set env variables and run git-next-checkin\n",
    "export GIT_MESSAGE=\"checkin\"\n",
    "previous=$GIT_NO_CONFIRM\n",
    "export GIT_NO_CONFIRM=\"1\"\n",
    "git-next-checkin temp-hello.txt"
   ]
  },
  {
   "cell_type": "code",
   "execution_count": null,
   "id": "0b798a76-b02a-4f84-a488-ea86f09a49d1",
   "metadata": {},
   "outputs": [],
   "source": [
    "## TODO1: fixme!\n",
    "# delete new files created by git-next-cheking and count changes\n",
    "## BAD: rm -rf $(ls | grep '[.][0-9]*[.]')\n",
    "## TODO: changes=$( git status -s | wc -l )\n",
    "## NOTE: *** forces test to fail, so  dangerous 'rm -rf' above fixed ***\n",
    "changes=-1"
   ]
  },
  {
   "cell_type": "code",
   "execution_count": 11,
   "id": "575bd975-9c2d-429e-8df0-717b16353db8",
   "metadata": {},
   "outputs": [
    {
     "name": "stdout",
     "output_type": "stream",
     "text": [
      "0\n",
      "0\n"
     ]
    }
   ],
   "source": [
    "# Assert there were changes before, and no changes now\n",
    "[ $previous_changes -gt 1 ] && [ $changes -eq 0 ]; echo $?;"
   ]
  },
  {
   "cell_type": "code",
   "execution_count": 12,
   "id": "e0b57d7f-17ea-4b3f-9734-636ac3b93693",
   "metadata": {},
   "outputs": [
    {
     "name": "stdout",
     "output_type": "stream",
     "text": [
      "[main dca425a] cleanup test files\n",
      " 1 file changed, 2 deletions(-)\n",
      " delete mode 100644 hello.txt\n",
      "Enumerating objects: 3, done.\n",
      "Counting objects: 100% (3/3), done.\n",
      "Delta compression using up to 4 threads\n",
      "Compressing objects: 100% (1/1), done.\n",
      "Writing objects: 100% (2/2), 245 bytes | 245.00 KiB/s, done.\n",
      "Total 2 (delta 0), reused 1 (delta 0), pack-reused 0\n",
      "To https://github.com/LorenzoFerraces/bash-test.git\n",
      "   fa905c1..dca425a  main -> main\n"
     ]
    }
   ],
   "source": [
    "# undo changes and remove newly created files\n",
    "\n",
    "# TODO2:\n",
    "## also, converting unique ID's to codes like temp-git-test/.git/objects/pack/pack-HEX.idx\n",
    "## EX: cat $log | perl -pe 's/\\b[0-9]+\\b/NUM/g; s/\\b[a-f0-9]+\\b/HEX/g;'\n",
    "\n",
    "## TODO1: be more diligent about timely changes (FIXME asap!)\n",
    "## BAD: rm -f *.txt > /dev/null\n",
    "## BAD: rm -rf $(ls | grep '[.][0-9]*[.]')\n",
    "\n",
    "# Remove temporary git-log files\n",
    "# TODO1: use .gitingore!\n",
    "rm -f _*[0-9]*.log\n"
   ]
  },
  {
   "cell_type": "code",
   "execution_count": null,
   "id": "10fbe8f2-3d05-4267-bc52-455ecbd92156",
   "metadata": {},
   "outputs": [],
   "source": [
    "git rm -f temp-*.txt > /dev/null\n",
    "git add . > /dev/null\n",
    "git commit -m \"cleanup test files\"\n",
    "git push"
   ]
  },
  {
   "cell_type": "code",
   "execution_count": 2,
   "id": "be59be2d-3e80-4c18-9eb8-8d3aea5b7c31",
   "metadata": {},
   "outputs": [],
   "source": [
    "# delete test local repos\n",
    "\n",
    "command cd \"/tmp\"\n"
   ]
  },
  {
   "cell_type": "code",
   "execution_count": 3,
   "id": "fa5922cc-8c40-4c91-9695-16770ab6dd76",
   "metadata": {},
   "outputs": [],
   "source": [
    "## TODO1: rename using timestamp (e.g., to allow for posthoc analysis)!\n",
    "## BAD: rm -rf temp-git-test > /dev/null"
   ]
  },
  {
   "cell_type": "code",
   "execution_count": 6,
   "id": "b3441cc6-f773-4db2-b233-660a2c51beab",
   "metadata": {},
   "outputs": [],
   "source": [
    "## TODO: drop (no need to cleanup up environment in notebook)\n",
    "export GIT_NO_CONFIRM=$previous"
   ]
  }
 ],
 "metadata": {
  "kernelspec": {
   "display_name": "Bash",
   "language": "bash",
   "name": "bash"
  },
  "language_info": {
   "codemirror_mode": "shell",
   "file_extension": ".sh",
   "mimetype": "text/x-sh",
   "name": "bash"
  }
 },
 "nbformat": 4,
 "nbformat_minor": 5
}
