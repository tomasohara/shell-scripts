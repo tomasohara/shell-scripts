{
 "cells": [
  {
   "cell_type": "code",
   "execution_count": 1,
   "id": "6ffab7b3-f985-43c1-b44a-dc8d1ec92be0",
   "metadata": {},
   "outputs": [],
   "source": [
    "# Third test for git aliases (e.g., git-update-plus, git-next-checkin, etc)\n",
    "\n",
    "# Note: The aliases should be defined before Jupyter is invoked.\n",
    "# For BatsPP, they can loaded via '--source all-tomohara-aliases-etc.bash' option."
   ]
  },
  {
   "cell_type": "code",
   "execution_count": 2,
   "id": "fdb33c4d-1e6d-4b83-ad98-438645545565",
   "metadata": {},
   "outputs": [],
   "source": [
    "# Note:\n",
    "# - Need to be very careful to ensure that the output is reproducible.\n",
    "# - This can be done by encoding numbers as <num>, hex sequences as <hex>, etc.\n",
    "# - In addition, make sure standard error is redirected so that it doesn't confuse BatsPP.\n",
    "# - Uses one cell per output (to make this less brittle).\n",
    "# - For USE_SSH_AUTH usage, see summary_stats.bash.\n",
    "#\n",
    "# BatsPP quirks (circa Dec 2023):\n",
    "# - global setup should not have output, so redirect to /dev/null\n",
    "# - commands and comments cannot be mixed in a cell (i.e., only comments first and then commands)."
   ]
  },
  {
   "cell_type": "code",
   "execution_count": 3,
   "id": "e7c3cec9-aa35-4675-bf8f-ab2e21dacbc4",
   "metadata": {},
   "outputs": [],
   "source": [
    "## TODO2: put common setup in helper script\n",
    "## ex: source git-aliases-tests-common.sh"
   ]
  },
  {
   "cell_type": "code",
   "execution_count": 4,
   "id": "d041fdf6-f8bb-4fd0-93e1-0d766a9b7f3f",
   "metadata": {},
   "outputs": [],
   "source": [
    "# Global Setup\n",
    "# Creating temp local repos to test on\n",
    "# note: true at end is to avoid stderr status due to rename command failure, which also seems\n",
    "# to throw off the bash kernel (e.g., leading to halt during run-all-cells)\n",
    "TMP=${TMP:-/tmp}\n",
    "TMPA=$TMP/temp-git-test-3\n",
    "rename-with-file-date \"$TMPA\" > /dev/null 2>&1\n",
    "true"
   ]
  },
  {
   "cell_type": "code",
   "execution_count": 5,
   "id": "4c9d8477-f41c-4dd2-9f22-54ddd3f5a068",
   "metadata": {},
   "outputs": [],
   "source": [
    "# Global setup\n",
    "git clone https://github.com/scrappycito/git-bash-test.git \"$TMPA\" > /dev/null 2>&1"
   ]
  },
  {
   "cell_type": "code",
   "execution_count": 6,
   "id": "d0cb7725-29e9-4b43-8787-b7731a958c6b",
   "metadata": {},
   "outputs": [],
   "source": [
    "# Global setup\n",
    "# Move to local to push some changes\n",
    "command cd \"$TMPA\" > /dev/null 2>&1\n",
    "#\n",
    "# note: optionally setup SSH authentication (for use with Github runner and docker)\n",
    "if [ \"$USE_SSH_AUTH\" == \"1\" ]; then git remote set-url origin \"git@github.com:scrappycito/git-bash-test.git\"; fi\n",
    "#\n",
    "git pull origin main > /dev/null 2>&1\n",
    "echo \"hello second local\" > temp-hello.txt\n",
    "git add temp-hello.txt > /dev/null 2>&1\n",
    "git commit -m \"first commit on second local\" > /dev/null 2>&1\n",
    "git push  > /dev/null 2>&1"
   ]
  },
  {
   "cell_type": "code",
   "execution_count": 7,
   "id": "117c1469-13c2-4add-8bcf-dd7e3e311275",
   "metadata": {},
   "outputs": [],
   "source": [
    "# Note:\n",
    "# - changed so that all temp files use \"temp-\" prefix\n",
    "# - these test scripts are written with an eye towards Murphy's Law!\n",
    "# ...   That is, what can go wrong will go wrong!"
   ]
  },
  {
   "cell_type": "code",
   "execution_count": 8,
   "id": "f4181905-de97-4f98-a4be-9a30469cd572",
   "metadata": {},
   "outputs": [],
   "source": [
    "# Note:\n",
    "# Use following Bash snippet to output .sh versions to facilitate comparisons\n",
    "# (e.g., git-aliases-tests-1 vs git-aliases-tests-2 vs git-aliases-tests-3).\n",
    "#\n",
    "# note:\n",
    "# - [batch] converting all Jupyter bash tests to .sh format (i.e., without expected output)\n",
    "#  \n",
    "# $ {\n",
    "#   # pre-init: CONV_OPTIONS=\"\"; CONV_EXTENSION=\"batspp\";\n",
    "#   # pre-init: CONV_GLOB=\"*tips*\"\n",
    "#   conv_options=\"${CONV_OPTIONS:-\"--just-code\"}\";\n",
    "#   conv_extension=\"${CONV_EXTENSION:-\"sh\"}\";\n",
    "#   conv_glob=\"${CONV_GLOB:-\"*\"}\";\n",
    "#   #\n",
    "#   mkdir -p tests/output-files;\n",
    "#   for f in tests/${conv_glob}.ipynb; do\n",
    "#       b=$(basename $f .ipynb);\n",
    "#       TRACE_INVOCATION=0 jupyter_to_batspp.py $conv_options --stdout $f >| tests/output-files/\"$b.$conv_extension\";\n",
    "#   done;\n",
    "# }\n",
    "# \n",
    "# $ pwd\n",
    "# /home/tomohara/programs/bash/tom-shell-scripts"
   ]
  },
  {
   "cell_type": "code",
   "execution_count": 9,
   "id": "0625a301-9df1-423f-9b9d-2511374ee950",
   "metadata": {},
   "outputs": [],
   "source": [
    "# Setup\n",
    "# git-diff-plus tests\n",
    "cat temp-hello.txt > temp-bye.txt\n",
    "echo \"differ\" >> temp-hello.txt\n",
    "diffs=$(git-diff-plus temp-hello.txt temp-bye.txt | grep \"^\\+\\w\" | wc -l)"
   ]
  },
  {
   "cell_type": "code",
   "execution_count": 10,
   "id": "173f9f6f-0708-49ed-9743-08e527aa33f0",
   "metadata": {},
   "outputs": [
    {
     "name": "stdout",
     "output_type": "stream",
     "text": [
      "0\n"
     ]
    }
   ],
   "source": [
    "# Assert \n",
    "# there should only be one line of difference\n",
    "[ $diffs -eq 1 ]; echo $?;"
   ]
  },
  {
   "cell_type": "code",
   "execution_count": 11,
   "id": "42810d73-4062-40a8-98b3-0cc9f98a8bc8",
   "metadata": {},
   "outputs": [],
   "source": [
    "# Setup\n",
    "# git-diff-list tests\n",
    "changed=$(git-diff-list | wc -l)"
   ]
  },
  {
   "cell_type": "code",
   "execution_count": 12,
   "id": "3000e31c-e5ab-4652-adc8-882a85bf0b56",
   "metadata": {},
   "outputs": [
    {
     "name": "stdout",
     "output_type": "stream",
     "text": [
      "0\n"
     ]
    }
   ],
   "source": [
    "# Assert \n",
    "# there should be one file changed\n",
    "[ $changed -eq 1 ]; echo $?;"
   ]
  },
  {
   "cell_type": "code",
   "execution_count": 13,
   "id": "493ef6a9-6793-4408-9b64-fad95baf1e42",
   "metadata": {},
   "outputs": [
    {
     "name": "stdout",
     "output_type": "stream",
     "text": [
      "[1] 3842466\n",
      "[1]+  Done                    git-vdiff-alias temp-hello.txt\n"
     ]
    }
   ],
   "source": [
    "# Setup\n",
    "# git-vdiff-alias tests\n",
    "# TODO2: what is nvim???\n",
    "## OLD: \n",
    "## killall nvim > /dev/null 2>&1\n",
    "## git-vdiff-alias > /dev/null 2>&1\n",
    "kill-it diff.*temp > /dev/null 2>&1\n",
    "git-vdiff-alias temp-hello.txt &\n",
    "instances=$(ps -e | grep \"diff.*temp\" | wc -l)"
   ]
  },
  {
   "cell_type": "code",
   "execution_count": 14,
   "id": "f59cbfad-4468-4db2-8fd7-f0bf001f185c",
   "metadata": {
    "scrolled": true
   },
   "outputs": [
    {
     "name": "stdout",
     "output_type": "stream",
     "text": [
      "1\n"
     ]
    }
   ],
   "source": [
    "# Assert there is an instance of the visual diff \n",
    "[ $instances -eq 1 ]; echo $?;"
   ]
  },
  {
   "cell_type": "code",
   "execution_count": 15,
   "id": "db2d0e87-44a3-47a4-9cf3-756d043b721a",
   "metadata": {},
   "outputs": [],
   "source": [
    "# Setup\n",
    "# Kill diff\n",
    "kill-it diff.*temp > /dev/null 2>&1"
   ]
  },
  {
   "cell_type": "code",
   "execution_count": 16,
   "id": "76999b1d-9922-41a0-8e60-95d8285fbb10",
   "metadata": {},
   "outputs": [],
   "source": [
    "# Setup\n",
    "# git-next-checkin tests\n",
    "rm -f temp-bye.txt > /dev/null 2>&1\n",
    "previous_changes=$( git status -s | wc -l )"
   ]
  },
  {
   "cell_type": "code",
   "execution_count": 17,
   "id": "46dce0df-5f71-4206-9481-faf4082d6557",
   "metadata": {},
   "outputs": [
    {
     "name": "stdout",
     "output_type": "stream",
     "text": [
      "\u001b[01;31m\u001b[Kissuing:\u001b[m\u001b[K zip over changed files (for later restore)\n",
      "\u001b[01;31m\u001b[Kissuing:\u001b[m\u001b[K git stash\n",
      "\u001b[01;31m\u001b[Kissuing:\u001b[m\u001b[K git pull --all\n",
      "\u001b[01;31m\u001b[Kissuing:\u001b[m\u001b[K git stash pop\n",
      "\u001b[01;31m\u001b[Kissuing:\u001b[m\u001b[K unzip over _stash.zip (to restore timestamps)\n",
      "\u001b[01;31m\u001b[Kissuing:\u001b[m\u001b[K git add temp-hello.txt\n",
      "\u001b[01;31m\u001b[Kissuing:\u001b[m\u001b[K git commit -m 'default'\n",
      "\u001b[01;31m\u001b[Kissuing:\u001b[m\u001b[K git push --verbose\n",
      "\u001b[01;31m\u001b[Kissuing:\u001b[m\u001b[K zip over changed files (for later restore)\n",
      "\u001b[01;31m\u001b[Kissuing:\u001b[m\u001b[K git stash\n",
      "\u001b[01;31m\u001b[Kissuing:\u001b[m\u001b[K git pull --all\n",
      "\u001b[01;31m\u001b[Kissuing:\u001b[m\u001b[K git stash pop\n",
      "\u001b[01;31m\u001b[Kissuing:\u001b[m\u001b[K unzip over _stash.zip (to restore timestamps)\n",
      "\u001b[01;31m\u001b[Kissuing:\u001b[m\u001b[K git add temp-new-hello.txt\n",
      "\u001b[01;31m\u001b[Kissuing:\u001b[m\u001b[K git commit -m 'default'\n",
      "\u001b[01;31m\u001b[Kissuing:\u001b[m\u001b[K git push --verbose\n",
      "\u001b[01;31m\u001b[Kissuing:\u001b[m\u001b[K git status \n"
     ]
    }
   ],
   "source": [
    "# set env variables and run git-next-checkin\n",
    "export GIT_MESSAGE=\"checkin\"\n",
    "previous=$GIT_NO_CONFIRM\n",
    "export GIT_NO_CONFIRM=\"1\"\n",
    "git-next-checkin temp-hello.txt 2>&1 | grep issuing:"
   ]
  },
  {
   "cell_type": "code",
   "execution_count": 18,
   "id": "e0b57d7f-17ea-4b3f-9734-636ac3b93693",
   "metadata": {},
   "outputs": [],
   "source": [
    "# Setup\n",
    "# undo changes and remove newly created files\n",
    "rm -f _*[0-9]*.log"
   ]
  },
  {
   "cell_type": "code",
   "execution_count": 19,
   "id": "10fbe8f2-3d05-4267-bc52-455ecbd92156",
   "metadata": {},
   "outputs": [],
   "source": [
    "# Setup\n",
    "git rm -f temp-*.txt > /dev/null 2>&1\n",
    "git add . > /dev/null > /dev/null 2>&1\n",
    "git commit -m \"cleanup test files\" > /dev/null 2>&1\n",
    "git push > /dev/null 2>&1"
   ]
  },
  {
   "cell_type": "code",
   "execution_count": 20,
   "id": "b3441cc6-f773-4db2-b233-660a2c51beab",
   "metadata": {},
   "outputs": [],
   "source": [
    "## NOTE: no need to cleanup up environment in notebook\n",
    "## OLD: export GIT_NO_CONFIRM=$previous"
   ]
  }
 ],
 "metadata": {
  "kernelspec": {
   "display_name": "Bash",
   "language": "bash",
   "name": "bash"
  },
  "language_info": {
   "codemirror_mode": "shell",
   "file_extension": ".sh",
   "mimetype": "text/x-sh",
   "name": "bash"
  }
 },
 "nbformat": 4,
 "nbformat_minor": 5
}
