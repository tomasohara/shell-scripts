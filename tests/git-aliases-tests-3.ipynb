{
 "cells": [
  {
   "cell_type": "code",
   "execution_count": 1,
   "id": "6ffab7b3-f985-43c1-b44a-dc8d1ec92be0",
   "metadata": {},
   "outputs": [],
   "source": [
    "# Third test for git aliases (e.g., git-update-plus, git-next-checkin, etc)\n",
    "\n",
    "# Note: The aliases should be defined before Jupyter is invoked.\n",
    "# For BatsPP, they can loaded via '--source all-tomohara-aliases-etc.bash' option."
   ]
  },
  {
   "cell_type": "code",
   "execution_count": 2,
   "id": "f61dcb6d-2217-4527-8f95-e1e0eb262795",
   "metadata": {},
   "outputs": [],
   "source": [
    "## TODO2: put common setup in helper script\n",
    "## ex: source git-aliases-tests-common.sh"
   ]
  },
  {
   "cell_type": "code",
   "execution_count": 3,
   "id": "d041fdf6-f8bb-4fd0-93e1-0d766a9b7f3f",
   "metadata": {},
   "outputs": [],
   "source": [
    "# Global Setup\n",
    "# Creating temp local repos to test on\n",
    "# note: true at end is to avoid stderr status due to rename command failure, which also seems\n",
    "# to throw off the bash kernel (e.g., leading to halt during run-all-cells)\n",
    "TMP=/tmp/temp-git-test-3\n",
    "rename-with-file-date \"$TMP\" > /dev/null 2>&1\n",
    "true"
   ]
  },
  {
   "cell_type": "code",
   "execution_count": 4,
   "id": "4c9d8477-f41c-4dd2-9f22-54ddd3f5a068",
   "metadata": {},
   "outputs": [],
   "source": [
    "# Global setup\n",
    "git clone https://github.com/scrappycito/git-bash-test.git \"$TMP\" > /dev/null 2>&1"
   ]
  },
  {
   "cell_type": "code",
   "execution_count": 5,
   "id": "0ccf5a8b-76e4-4f20-9970-b550102121e4",
   "metadata": {},
   "outputs": [],
   "source": [
    "# Note:\n",
    "# - changed so that all temp files use \"temp-\" prefix\n",
    "# - these test scripts are written with an eye towards Murphy's Law!\n",
    "# ...   That is, what can go wrong will go wrong!"
   ]
  },
  {
   "cell_type": "code",
   "execution_count": 6,
   "id": "f4181905-de97-4f98-a4be-9a30469cd572",
   "metadata": {},
   "outputs": [],
   "source": [
    "# Note:\n",
    "# Use following Bash snippet to output .sh versions to facilitate comparisons\n",
    "# (e.g., git-aliases-tests-1 vs git-aliases-tests-2 vs git-aliases-tests-3).\n",
    "#\n",
    "# note:\n",
    "# - [batch] converting all Jupyter bash tests to .sh format (i.e., without expected output)\n",
    "#  \n",
    "# $ {\n",
    "#   # pre-init: CONV_OPTIONS=\"\"; CONV_EXTENSION=\"batspp\";\n",
    "#   # pre-init: CONV_GLOB=\"*tips*\"\n",
    "#   conv_options=\"${CONV_OPTIONS:-\"--just-code\"}\";\n",
    "#   conv_extension=\"${CONV_EXTENSION:-\"sh\"}\";\n",
    "#   conv_glob=\"${CONV_GLOB:-\"*\"}\";\n",
    "#   #\n",
    "#   mkdir -p tests/output-files;\n",
    "#   for f in tests/${conv_glob}.ipynb; do\n",
    "#       b=$(basename $f .ipynb);\n",
    "#       TRACE_INVOCATION=0 jupyter_to_batspp.py $conv_options --stdout $f >| tests/output-files/\"$b.$conv_extension\";\n",
    "#   done;\n",
    "# }\n",
    "# \n",
    "# $ pwd\n",
    "# /home/tomohara/programs/bash/tom-shell-scripts"
   ]
  },
  {
   "cell_type": "code",
   "execution_count": 7,
   "id": "0625a301-9df1-423f-9b9d-2511374ee950",
   "metadata": {},
   "outputs": [],
   "source": [
    "# Setup\n",
    "# git-diff-plus tests\n",
    "cat temp-hello.txt > temp-bye.txt\n",
    "echo \"differ\" >> temp-hello.txt\n",
    "diffs=$(git-diff-plus temp-hello.txt temp-bye.txt | grep \"^\\+\\w\" | wc -l)"
   ]
  },
  {
   "cell_type": "code",
   "execution_count": 8,
   "id": "173f9f6f-0708-49ed-9743-08e527aa33f0",
   "metadata": {},
   "outputs": [
    {
     "name": "stdout",
     "output_type": "stream",
     "text": [
      "0\n"
     ]
    }
   ],
   "source": [
    "# Assert \n",
    "# there should only be one line of difference\n",
    "[ $diffs -eq 1 ]; echo $?;"
   ]
  },
  {
   "cell_type": "code",
   "execution_count": 9,
   "id": "42810d73-4062-40a8-98b3-0cc9f98a8bc8",
   "metadata": {},
   "outputs": [],
   "source": [
    "# Setup\n",
    "# git-diff-list tests\n",
    "changed=$(git-diff-list | wc -l)"
   ]
  },
  {
   "cell_type": "code",
   "execution_count": 10,
   "id": "3000e31c-e5ab-4652-adc8-882a85bf0b56",
   "metadata": {},
   "outputs": [
    {
     "name": "stdout",
     "output_type": "stream",
     "text": [
      "1\n"
     ]
    }
   ],
   "source": [
    "# Assert \n",
    "# there should be one file changed\n",
    "[ $changed -eq 1 ]; echo $?;"
   ]
  },
  {
   "cell_type": "code",
   "execution_count": 11,
   "id": "493ef6a9-6793-4408-9b64-fad95baf1e42",
   "metadata": {},
   "outputs": [],
   "source": [
    "# Setup\n",
    "# git-vdiff-alias tests\n",
    "# TODO2: what is nvim???\n",
    "## OLD: \n",
    "## killall nvim > /dev/null 2>&1\n",
    "## git-vdiff-alias > /dev/null 2>&1\n",
    "killall diff.*temp > /dev/null 2>&1\n",
    "git-vdiff-alias temp-hello.txt > /dev/null 2>&1\n",
    "instances=$(ps -e | grep \"diff.*temp\" | wc -l)"
   ]
  },
  {
   "cell_type": "code",
   "execution_count": 12,
   "id": "f59cbfad-4468-4db2-8fd7-f0bf001f185c",
   "metadata": {
    "scrolled": true
   },
   "outputs": [
    {
     "name": "stdout",
     "output_type": "stream",
     "text": [
      "1\n"
     ]
    }
   ],
   "source": [
    "# Assert there is an instance of nvim \n",
    "[ $instances -eq 1 ]; echo $?;"
   ]
  },
  {
   "cell_type": "code",
   "execution_count": 13,
   "id": "2d537ee8-0129-4e4b-bf4f-f636a1a62bf4",
   "metadata": {},
   "outputs": [],
   "source": [
    "# Setup\n",
    "# git-next-checkin tests\n",
    "rm -f temp-bye.txt > /dev/null 2>&1\n",
    "previous_changes=$( git status -s | wc -l )"
   ]
  },
  {
   "cell_type": "code",
   "execution_count": 14,
   "id": "46dce0df-5f71-4206-9481-faf4082d6557",
   "metadata": {},
   "outputs": [
    {
     "name": "stdout",
     "output_type": "stream",
     "text": [
      "GIT_NO_CONFIRM enabled, so skipping difftool (e.g., for visual diff)\n",
      "TODO: modify the GIT_MESSAGE (escaping $'s, etc.) and verify read OK in commit confirmation.\n",
      "GIT_NO_CONFIRM set to 1, so skipping git-update-commit-push confirmation\n",
      "Temporarily changing working directory to root: /home/tpo/misc/programs/bash/lorenzo-shell-scripts\n",
      "\u001b]1;$ lorenzo-shell-scripts [/home/tpo/misc/programs/bash/lorenzo-shell-scripts]; Py3.10:(nlp-py-3-10) \u0007\u001b]2;$ lorenzo-shell-scripts [/home/tpo/misc/programs/bash/lorenzo-shell-scripts]; Py3.10:(nlp-py-3-10) \u0007issuing: zip over changed files (for later restore)\n",
      "issuing: git stash\n",
      "issuing: git pull --all\n",
      "error: Pulling is not possible because you have unmerged files.\n",
      "\u001b[33mhint: Fix them up in the work tree, and then use 'git add/rm <file>'\u001b[m\n",
      "\u001b[33mhint: as appropriate to mark resolution and make a commit.\u001b[m\n",
      "fatal: Exiting because of an unresolved conflict.\n",
      "Warning: problem with pull (status=0)\n",
      "issuing: git stash pop\n",
      "No stash entries found.\n",
      "issuing: unzip over _stash.zip (to restore timestamps)\n",
      "Restoring working directory: /usr/local/misc/programs/bash/lorenzo-shell-scripts/tests\n",
      "\u001b]1;$ tests [/usr/local/misc/programs/bash/lorenzo-shell-scripts/tests]; Py3.10:(nlp-py-3-10) \u0007\u001b]2;$ tests [/usr/local/misc/programs/bash/lorenzo-shell-scripts/tests]; Py3.10:(nlp-py-3-10) \u0007 Length   Method    Size  Cmpr    Date    Time   CRC-32   Name\n",
      "--------  ------  ------- ---- ---------- ----- --------  ----\n",
      "    6948  Defl:N     2689  61% 2024-01-27 18:54 c4d82e46  Dockerfile\n",
      "   34728  Defl:N    11125  68% 2024-01-27 22:33 f2420506  git-aliases.bash\n",
      "   63640  Defl:N    17321  73% 2024-01-27 21:53 672cda2f  simple_batspp.py\n",
      "    4003  Defl:N     1882  53% 2024-01-27 18:49 27275f23  tests/summary_stats.\n",
      "      26  Defl:N       21  19% 2024-01-27 23:06 8843009c  tests/temp-hello.txt\n",
      "--------          -------  ---                            -------\n",
      "  109345            33038  70%                            5 files\n",
      "\n",
      "issuing: git add temp-hello.txt\n",
      "\n",
      "GIT_NO_CONFIRM set to 1, so skipping confirmation\n",
      "issuing: git commit -m 'default'\n",
      "error: Committing is not possible because you have unmerged files.\n",
      "\u001b[33mhint: Fix them up in the work tree, and then use 'git add/rm <file>'\u001b[m\n",
      "\u001b[33mhint: as appropriate to mark resolution and make a commit.\u001b[m\n",
      "fatal: Exiting because of an unresolved conflict.\n",
      "    U\ttests/git-aliases-tests-1.ipynb\n",
      "    U\ttests/git-aliases-tests-2.ipynb\n",
      "    U\ttests/git-aliases-tests-3.ipynb\n",
      "GIT_NO_CONFIRM set to 1, so skipping confirmation\n",
      "issuing: git push --verbose\n",
      "Pushing to https://github.com/tomasohara/shell-scripts\n",
      "remote: Permission to tomasohara/shell-scripts.git denied to scrappycito.\n",
      "fatal: unable to access 'https://github.com/tomasohara/shell-scripts/': The requested URL returned error: 403\n",
      "U\ttests/git-aliases-tests-1.ipynb\n",
      "U\ttests/git-aliases-tests-2.ipynb\n",
      "U\ttests/git-aliases-tests-3.ipynb\n",
      "\n",
      "Note: binary file so bypassing diff\n",
      "fatal: ambiguous argument '$(git-root-alias)/Dockerfile': unknown revision or path not in the working tree.\n",
      "Use '--' to separate paths from revisions, like this:\n",
      "'git <command> [<revision>...] -- [<file>...]'\n",
      "TODO: modify the GIT_MESSAGE (escaping $'s, etc.) and verify read OK in commit confirmation.\n",
      "GIT_NO_CONFIRM set to 1, so skipping git-update-commit-push confirmation\n",
      "Temporarily changing working directory to root: /home/tpo/misc/programs/bash/lorenzo-shell-scripts\n",
      "\u001b]1;$ lorenzo-shell-scripts [/home/tpo/misc/programs/bash/lorenzo-shell-scripts]; Py3.10:(nlp-py-3-10) \u0007\u001b]2;$ lorenzo-shell-scripts [/home/tpo/misc/programs/bash/lorenzo-shell-scripts]; Py3.10:(nlp-py-3-10) \u0007issuing: zip over changed files (for later restore)\n",
      "issuing: git stash\n",
      "issuing: git pull --all\n",
      "error: Pulling is not possible because you have unmerged files.\n",
      "\u001b[33mhint: Fix them up in the work tree, and then use 'git add/rm <file>'\u001b[m\n",
      "\u001b[33mhint: as appropriate to mark resolution and make a commit.\u001b[m\n",
      "fatal: Exiting because of an unresolved conflict.\n",
      "Warning: problem with pull (status=0)\n",
      "issuing: git stash pop\n",
      "No stash entries found.\n",
      "issuing: unzip over _stash.zip (to restore timestamps)\n",
      "Restoring working directory: /usr/local/misc/programs/bash/lorenzo-shell-scripts/tests\n",
      "\u001b]1;$ tests [/usr/local/misc/programs/bash/lorenzo-shell-scripts/tests]; Py3.10:(nlp-py-3-10) \u0007\u001b]2;$ tests [/usr/local/misc/programs/bash/lorenzo-shell-scripts/tests]; Py3.10:(nlp-py-3-10) \u0007Archive:  _stash.zip\n",
      " Length   Method    Size  Cmpr    Date    Time   CRC-32   Name\n",
      "--------  ------  ------- ---- ---------- ----- --------  ----\n",
      "    6948  Defl:N     2689  61% 2024-01-27 18:54 c4d82e46  Dockerfile\n",
      "   34728  Defl:N    11125  68% 2024-01-27 22:33 f2420506  git-aliases.bash\n",
      "   63640  Defl:N    17321  73% 2024-01-27 21:53 672cda2f  simple_batspp.py\n",
      "    4003  Defl:N     1882  53% 2024-01-27 18:49 27275f23  tests/summary_stats.\n",
      "--------          -------  ---                            -------\n",
      "  109319            33017  70%                            4 files\n",
      "\n",
      "issuing: git add /home/tpo/misc/programs/bash/lorenzo-shell-scripts/Dockerfile\n",
      "\n",
      "GIT_NO_CONFIRM set to 1, so skipping confirmation\n",
      "issuing: git commit -m 'default'\n",
      "error: Committing is not possible because you have unmerged files.\n",
      "\u001b[33mhint: Fix them up in the work tree, and then use 'git add/rm <file>'\u001b[m\n",
      "\u001b[33mhint: as appropriate to mark resolution and make a commit.\u001b[m\n",
      "fatal: Exiting because of an unresolved conflict.\n",
      "    U\ttests/git-aliases-tests-1.ipynb\n",
      "    U\ttests/git-aliases-tests-2.ipynb\n",
      "    U\ttests/git-aliases-tests-3.ipynb\n",
      "GIT_NO_CONFIRM set to 1, so skipping confirmation\n",
      "issuing: git push --verbose\n",
      "Pushing to https://github.com/tomasohara/shell-scripts\n",
      "remote: Permission to tomasohara/shell-scripts.git denied to scrappycito.\n",
      "fatal: unable to access 'https://github.com/tomasohara/shell-scripts/': The requested URL returned error: 403\n",
      "U\ttests/git-aliases-tests-1.ipynb\n",
      "U\ttests/git-aliases-tests-2.ipynb\n",
      "U\ttests/git-aliases-tests-3.ipynb\n",
      "\n",
      "Special case hack for braindead file command (known program extension in $(git-root-alias)/git-aliases.bash)\n",
      "GIT_NO_CONFIRM enabled, so skipping difftool (e.g., for visual diff)\n",
      "TODO: modify the GIT_MESSAGE (escaping $'s, etc.) and verify read OK in commit confirmation.\n",
      "GIT_NO_CONFIRM set to 1, so skipping git-update-commit-push confirmation\n",
      "Temporarily changing working directory to root: /home/tpo/misc/programs/bash/lorenzo-shell-scripts\n",
      "\u001b]1;$ lorenzo-shell-scripts [/home/tpo/misc/programs/bash/lorenzo-shell-scripts]; Py3.10:(nlp-py-3-10) \u0007\u001b]2;$ lorenzo-shell-scripts [/home/tpo/misc/programs/bash/lorenzo-shell-scripts]; Py3.10:(nlp-py-3-10) \u0007issuing: zip over changed files (for later restore)\n",
      "issuing: git stash\n",
      "issuing: git pull --all\n",
      "error: Pulling is not possible because you have unmerged files.\n",
      "\u001b[33mhint: Fix them up in the work tree, and then use 'git add/rm <file>'\u001b[m\n",
      "\u001b[33mhint: as appropriate to mark resolution and make a commit.\u001b[m\n",
      "fatal: Exiting because of an unresolved conflict.\n",
      "Warning: problem with pull (status=0)\n",
      "issuing: git stash pop\n",
      "No stash entries found.\n",
      "issuing: unzip over _stash.zip (to restore timestamps)\n",
      "Restoring working directory: /usr/local/misc/programs/bash/lorenzo-shell-scripts/tests\n",
      "\u001b]1;$ tests [/usr/local/misc/programs/bash/lorenzo-shell-scripts/tests]; Py3.10:(nlp-py-3-10) \u0007\u001b]2;$ tests [/usr/local/misc/programs/bash/lorenzo-shell-scripts/tests]; Py3.10:(nlp-py-3-10) \u0007unzip -v -o _stash.zip\n",
      "Archive:  _stash.zip\n",
      " Length   Method    Size  Cmpr    Date    Time   CRC-32   Name\n",
      "--------  ------  ------- ---- ---------- ----- --------  ----\n",
      "   34728  Defl:N    11125  68% 2024-01-27 22:33 f2420506  git-aliases.bash\n",
      "   63640  Defl:N    17321  73% 2024-01-27 21:53 672cda2f  simple_batspp.py\n",
      "    4003  Defl:N     1882  53% 2024-01-27 18:49 27275f23  tests/summary_stats.\n",
      "--------          -------  ---                            -------\n",
      "  102371            30328  70%                            3 files\n",
      "\n",
      "issuing: git add /home/tpo/misc/programs/bash/lorenzo-shell-scripts/git-aliases.bash\n",
      "\n",
      "GIT_NO_CONFIRM set to 1, so skipping confirmation\n",
      "issuing: git commit -m 'default'\n",
      "error: Committing is not possible because you have unmerged files.\n",
      "\u001b[33mhint: Fix them up in the work tree, and then use 'git add/rm <file>'\u001b[m\n",
      "\u001b[33mhint: as appropriate to mark resolution and make a commit.\u001b[m\n",
      "fatal: Exiting because of an unresolved conflict.\n",
      "    U\ttests/git-aliases-tests-1.ipynb\n",
      "    U\ttests/git-aliases-tests-2.ipynb\n",
      "    U\ttests/git-aliases-tests-3.ipynb\n",
      "GIT_NO_CONFIRM set to 1, so skipping confirmation\n",
      "issuing: git push --verbose\n",
      "Pushing to https://github.com/tomasohara/shell-scripts\n",
      "remote: Permission to tomasohara/shell-scripts.git denied to scrappycito.\n",
      "fatal: unable to access 'https://github.com/tomasohara/shell-scripts/': The requested URL returned error: 403\n",
      "U\ttests/git-aliases-tests-1.ipynb\n",
      "U\ttests/git-aliases-tests-2.ipynb\n",
      "U\ttests/git-aliases-tests-3.ipynb\n",
      "\n",
      "Special case hack for braindead file command (known program extension in $(git-root-alias)/simple_batspp.py)\n",
      "GIT_NO_CONFIRM enabled, so skipping difftool (e.g., for visual diff)\n",
      "TODO: modify the GIT_MESSAGE (escaping $'s, etc.) and verify read OK in commit confirmation.\n",
      "GIT_NO_CONFIRM set to 1, so skipping git-update-commit-push confirmation\n",
      "Temporarily changing working directory to root: /home/tpo/misc/programs/bash/lorenzo-shell-scripts\n",
      "\u001b]1;$ lorenzo-shell-scripts [/home/tpo/misc/programs/bash/lorenzo-shell-scripts]; Py3.10:(nlp-py-3-10) \u0007\u001b]2;$ lorenzo-shell-scripts [/home/tpo/misc/programs/bash/lorenzo-shell-scripts]; Py3.10:(nlp-py-3-10) \u0007issuing: zip over changed files (for later restore)\n",
      "issuing: git stash\n",
      "issuing: git pull --all\n",
      "error: Pulling is not possible because you have unmerged files.\n",
      "\u001b[33mhint: Fix them up in the work tree, and then use 'git add/rm <file>'\u001b[m\n",
      "\u001b[33mhint: as appropriate to mark resolution and make a commit.\u001b[m\n",
      "fatal: Exiting because of an unresolved conflict.\n",
      "Warning: problem with pull (status=0)\n",
      "issuing: git stash pop\n",
      "No stash entries found.\n",
      "issuing: unzip over _stash.zip (to restore timestamps)\n",
      "Restoring working directory: /usr/local/misc/programs/bash/lorenzo-shell-scripts/tests\n",
      "\u001b]1;$ tests [/usr/local/misc/programs/bash/lorenzo-shell-scripts/tests]; Py3.10:(nlp-py-3-10) \u0007\u001b]2;$ tests [/usr/local/misc/programs/bash/lorenzo-shell-scripts/tests]; Py3.10:(nlp-py-3-10) \u0007tests/git-aliases-tests-3.ipynb: needs merge\n",
      "unzip -v -o _stash.zip\n",
      "Archive:  _stash.zip\n",
      " Length   Method    Size  Cmpr    Date    Time   CRC-32   Name\n",
      "--------  ------  ------- ---- ---------- ----- --------  ----\n",
      "   63640  Defl:N    17321  73% 2024-01-27 21:53 672cda2f  simple_batspp.py\n",
      "    4003  Defl:N     1882  53% 2024-01-27 18:49 27275f23  tests/summary_stats.\n",
      "--------          -------  ---                            -------\n",
      "   67643            19203  72%                            2 files\n",
      "\n",
      "issuing: git add /home/tpo/misc/programs/bash/lorenzo-shell-scripts/simple_batspp.py\n",
      "\n",
      "GIT_NO_CONFIRM set to 1, so skipping confirmation\n",
      "issuing: git commit -m 'default'\n",
      "error: Committing is not possible because you have unmerged files.\n",
      "\u001b[33mhint: Fix them up in the work tree, and then use 'git add/rm <file>'\u001b[m\n",
      "\u001b[33mhint: as appropriate to mark resolution and make a commit.\u001b[m\n",
      "fatal: Exiting because of an unresolved conflict.\n",
      "    U\ttests/git-aliases-tests-1.ipynb\n",
      "    U\ttests/git-aliases-tests-2.ipynb\n",
      "    U\ttests/git-aliases-tests-3.ipynb\n",
      "GIT_NO_CONFIRM set to 1, so skipping confirmation\n",
      "issuing: git push --verbose\n",
      "Pushing to https://github.com/tomasohara/shell-scripts\n",
      "remote: Permission to tomasohara/shell-scripts.git denied to scrappycito.\n",
      "fatal: unable to access 'https://github.com/tomasohara/shell-scripts/': The requested URL returned error: 403\n",
      "U\ttests/git-aliases-tests-1.ipynb\n",
      "U\ttests/git-aliases-tests-2.ipynb\n",
      "U\ttests/git-aliases-tests-3.ipynb\n",
      "\n",
      "GIT_NO_CONFIRM enabled, so skipping difftool (e.g., for visual diff)\n",
      "TODO: modify the GIT_MESSAGE (escaping $'s, etc.) and verify read OK in commit confirmation.\n",
      "GIT_NO_CONFIRM set to 1, so skipping git-update-commit-push confirmation\n",
      "Temporarily changing working directory to root: /home/tpo/misc/programs/bash/lorenzo-shell-scripts\n",
      "\u001b]1;$ lorenzo-shell-scripts [/home/tpo/misc/programs/bash/lorenzo-shell-scripts]; Py3.10:(nlp-py-3-10) \u0007\u001b]2;$ lorenzo-shell-scripts [/home/tpo/misc/programs/bash/lorenzo-shell-scripts]; Py3.10:(nlp-py-3-10) \u0007issuing: zip over changed files (for later restore)\n",
      "issuing: git stash\n",
      "issuing: git pull --all\n",
      "error: Pulling is not possible because you have unmerged files.\n",
      "\u001b[33mhint: Fix them up in the work tree, and then use 'git add/rm <file>'\u001b[m\n",
      "\u001b[33mhint: as appropriate to mark resolution and make a commit.\u001b[m\n",
      "fatal: Exiting because of an unresolved conflict.\n",
      "Warning: problem with pull (status=0)\n",
      "issuing: git stash pop\n",
      "No stash entries found.\n",
      "issuing: unzip over _stash.zip (to restore timestamps)\n",
      "Restoring working directory: /usr/local/misc/programs/bash/lorenzo-shell-scripts/tests\n",
      "\u001b]1;$ tests [/usr/local/misc/programs/bash/lorenzo-shell-scripts/tests]; Py3.10:(nlp-py-3-10) \u0007\u001b]2;$ tests [/usr/local/misc/programs/bash/lorenzo-shell-scripts/tests]; Py3.10:(nlp-py-3-10) \u0007tests/git-aliases-tests-2.ipynb: needs merge\n",
      "tests/git-aliases-tests-3.ipynb: needs merge\n",
      "unzip -v -o _stash.zip\n",
      "Archive:  _stash.zip\n",
      " Length   Method    Size  Cmpr    Date    Time   CRC-32   Name\n",
      "--------  ------  ------- ---- ---------- ----- --------  ----\n",
      "    4003  Defl:N     1882  53% 2024-01-27 18:49 27275f23  tests/summary_stats.\n",
      "--------          -------  ---                            -------\n",
      "    4003             1882  53%                            1 file\n",
      "\n",
      "issuing: git add summary_stats.bash\n",
      "\n",
      "GIT_NO_CONFIRM set to 1, so skipping confirmation\n",
      "issuing: git commit -m 'default'\n",
      "error: Committing is not possible because you have unmerged files.\n",
      "\u001b[33mhint: Fix them up in the work tree, and then use 'git add/rm <file>'\u001b[m\n",
      "\u001b[33mhint: as appropriate to mark resolution and make a commit.\u001b[m\n",
      "fatal: Exiting because of an unresolved conflict.\n",
      "    U\ttests/git-aliases-tests-1.ipynb\n",
      "    U\ttests/git-aliases-tests-2.ipynb\n",
      "    U\ttests/git-aliases-tests-3.ipynb\n",
      "GIT_NO_CONFIRM set to 1, so skipping confirmation\n",
      "issuing: git push --verbose\n",
      "Pushing to https://github.com/tomasohara/shell-scripts\n",
      "remote: Permission to tomasohara/shell-scripts.git denied to scrappycito.\n",
      "fatal: unable to access 'https://github.com/tomasohara/shell-scripts/': The requested URL returned error: 403\n",
      "U\ttests/git-aliases-tests-1.ipynb\n",
      "U\ttests/git-aliases-tests-2.ipynb\n",
      "U\ttests/git-aliases-tests-3.ipynb\n",
      "\n",
      "Warning: unable to infer modified file. Perhaps,\n",
      "    Tha-tha-that's all folks!\n",
      "\n",
      "................................................................................\n",
      "issuing: git status \n",
      "On branch lorenzo-dev\n",
      "Your branch is up to date with 'origin/lorenzo-dev'.\n",
      "\n",
      "You have unmerged paths.\n",
      "  (fix conflicts and run \"git commit\")\n",
      "  (use \"git merge --abort\" to abort the merge)\n",
      "\n",
      "Changes to be committed:\n",
      "\tmodified:   ../Dockerfile\n",
      "\tmodified:   ../README.md\n",
      "\tnew file:   ../__init__.py\n",
      "\tmodified:   ../all-tomohara-aliases-etc.bash\n",
      "\tmodified:   ../anaconda-aliases.bash\n",
      "\tmodified:   ../batch-nvidia-smi.sh\n",
      "\tmodified:   ../count_it.perl\n",
      "\tnew file:   ../examples/chatgpt-get-long-options-parsing.bash\n",
      "\tmodified:   ../examples/extract-all-git-versions.bash\n",
      "\tnew file:   ../examples/simple-get-long-options-parsing.bash\n",
      "\tmodified:   ../git-aliases.bash\n",
      "\tmodified:   ../local-workflows.sh\n",
      "\tmodified:   ../requirements.txt\n",
      "\tmodified:   ../simple_batspp.py\n",
      "\tmodified:   ../template.bash\n",
      "\tmodified:   ../template.py\n",
      "\tmodified:   README.ipynb\n",
      "\tnew file:   __init__.py\n",
      "\tmodified:   alias-grep-commands.ipynb\n",
      "\tnew file:   alias-sanity-checks.ipynb\n",
      "\tnew file:   aliases-for-testing.bash\n",
      "\tnew file:   automate_ipynb.py\n",
      "\tmodified:   batspp_report.py\n",
      "\tmodified:   batspp_to_jupyter.py\n",
      "\tmodified:   hello-world-basic.ipynb\n",
      "\tmodified:   json-related-alias.ipynb\n",
      "\tmodified:   misc-perl.batspp\n",
      "\tmodified:   summary_stats.bash\n",
      "\tnew file:   temp-hello.txt\n",
      "\tnew file:   test_automate_ipynb.py\n",
      "\tnew file:   test_mezclaless_automate_ipynb.py\n",
      "\tmodified:   test_simple_batspp.py\n",
      "\tnew file:   tests/__init__.py\n",
      "\tmodified:   tests/test_eval_condition.py\n",
      "\tmodified:   thresholds.yaml\n",
      "\tmodified:   trace-python-commands.ipynb\n",
      "\tnew file:   wip/automate_ipynb_experimental1.py\n",
      "\tnew file:   wip/automate_ipynb_experimental2.py\n",
      "\tnew file:   wip/batspp_to_jupyter.py.bad\n",
      "\tnew file:   wip/batspp_to_jupyter.py.old\n",
      "\tnew file:   wip/summary_stats_old.bash\n",
      "\tmodified:   ../tomohara-aliases.bash\n",
      "\tmodified:   ../tomohara-proper-aliases.bash\n",
      "\n",
      "Unmerged paths:\n",
      "  (use \"git add <file>...\" to mark resolution)\n",
      "\tboth modified:   git-aliases-tests-1.ipynb\n",
      "\tboth modified:   git-aliases-tests-2.ipynb\n",
      "\tboth modified:   git-aliases-tests-3.ipynb\n",
      "\n",
      "Untracked files:\n",
      "  (use \"git add <file>...\" to include in what will be committed)\n",
      "\told_git-aliases-tests-3.ipynb\n",
      "\ttom-re-git-aliases-tests.ipynb\n",
      "\n",
      "...\n"
     ]
    }
   ],
   "source": [
    "# set env variables and run git-next-checkin\n",
    "export GIT_MESSAGE=\"checkin\"\n",
    "previous=$GIT_NO_CONFIRM\n",
    "export GIT_NO_CONFIRM=\"1\"\n",
    "git-next-checkin temp-hello.txt"
   ]
  },
  {
   "cell_type": "code",
   "execution_count": 15,
   "id": "0b798a76-b02a-4f84-a488-ea86f09a49d1",
   "metadata": {},
   "outputs": [],
   "source": [
    "## TODO1: fixme!\n",
    "# delete new files created by git-next-cheking and count changes\n",
    "## BAD: rm -rf $(ls | grep '[.][0-9]*[.]')\n",
    "## TODO: changes=$( git status -s | wc -l )\n",
    "## NOTE: *** forces test to fail, so  dangerous 'rm -rf' above fixed ***\n",
    "changes=-1"
   ]
  },
  {
   "cell_type": "code",
   "execution_count": 16,
   "id": "575bd975-9c2d-429e-8df0-717b16353db8",
   "metadata": {},
   "outputs": [
    {
     "name": "stdout",
     "output_type": "stream",
     "text": [
      "1\n"
     ]
    }
   ],
   "source": [
    "# Assert there were changes before, and no changes now\n",
    "[ $previous_changes -gt 1 ] && [ $changes -eq 0 ]; echo $?;"
   ]
  },
  {
   "cell_type": "code",
   "execution_count": 17,
   "id": "e0b57d7f-17ea-4b3f-9734-636ac3b93693",
   "metadata": {},
   "outputs": [],
   "source": [
    "# undo changes and remove newly created files\n",
    "\n",
    "# TODO2:\n",
    "## also, converting unique ID's to codes like temp-git-test/.git/objects/pack/pack-HEX.idx\n",
    "## EX: cat $log | perl -pe 's/\\b[0-9]+\\b/NUM/g; s/\\b[a-f0-9]+\\b/HEX/g;'\n",
    "\n",
    "## TODO1: be more diligent about timely changes (FIXME asap!)\n",
    "## BAD: rm -f *.txt > /dev/null\n",
    "## BAD: rm -rf $(ls | grep '[.][0-9]*[.]')\n",
    "\n",
    "# Remove temporary git-log files\n",
    "# TODO1: use .gitingore!\n",
    "rm -f _*[0-9]*.log\n"
   ]
  },
  {
   "cell_type": "code",
   "execution_count": 18,
   "id": "10fbe8f2-3d05-4267-bc52-455ecbd92156",
   "metadata": {},
   "outputs": [
    {
     "name": "stdout",
     "output_type": "stream",
     "text": [
      "[lorenzo-dev 2bf52a15] cleanup test files\n",
      "remote: Permission to tomasohara/shell-scripts.git denied to scrappycito.\n",
      "fatal: unable to access 'https://github.com/tomasohara/shell-scripts/': The requested URL returned error: 403\n"
     ]
    },
    {
     "ename": "",
     "evalue": "128",
     "output_type": "error",
     "traceback": []
    }
   ],
   "source": [
    "git rm -f temp-*.txt > /dev/null\n",
    "git add . > /dev/null\n",
    "git commit -m \"cleanup test files\"\n",
    "git push"
   ]
  },
  {
   "cell_type": "code",
   "execution_count": null,
   "id": "be59be2d-3e80-4c18-9eb8-8d3aea5b7c31",
   "metadata": {},
   "outputs": [],
   "source": [
    "# delete test local repos\n",
    "\n",
    "command cd \"/tmp\"\n"
   ]
  },
  {
   "cell_type": "code",
   "execution_count": null,
   "id": "fa5922cc-8c40-4c91-9695-16770ab6dd76",
   "metadata": {},
   "outputs": [],
   "source": [
    "## TODO1: rename using timestamp (e.g., to allow for posthoc analysis)!\n",
    "## BAD: rm -rf temp-git-test > /dev/null"
   ]
  },
  {
   "cell_type": "code",
   "execution_count": null,
   "id": "b3441cc6-f773-4db2-b233-660a2c51beab",
   "metadata": {},
   "outputs": [],
   "source": [
    "## TODO: drop (no need to cleanup up environment in notebook)\n",
    "export GIT_NO_CONFIRM=$previous"
   ]
  }
 ],
 "metadata": {
  "kernelspec": {
   "display_name": "Bash",
   "language": "bash",
   "name": "bash"
  },
  "language_info": {
   "codemirror_mode": "shell",
   "file_extension": ".sh",
   "mimetype": "text/x-sh",
   "name": "bash"
  }
 },
 "nbformat": 4,
 "nbformat_minor": 5
}
