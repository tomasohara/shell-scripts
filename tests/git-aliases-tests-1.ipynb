{
 "cells": [
  {
   "cell_type": "code",
   "execution_count": 1,
   "id": "290fe5a4-8b43-41ae-ac44-969e412d7bdb",
   "metadata": {},
   "outputs": [],
   "source": [
    "#First test for git aliases (e.g., git-update-plus, git-next-checkin, etc)\n",
    "\n",
    "# Note: The aliases should be defined before Jupyter is invoked.\n",
    "# For BatsPP, they can loaded via '--source all-tomohara-aliases-etc.bash' option."
   ]
  },
  {
   "cell_type": "code",
   "execution_count": 2,
   "id": "e460edf9-35b9-44a8-be1f-4ba96544c6d2",
   "metadata": {},
   "outputs": [],
   "source": [
    "## Lorenzo-note:\n",
    "## Be very careful to ensure that the output is reproducible.\n",
    "## This can be done by encoding numbers as <num>, hex sequences as <hex>, etc.\n",
    "## In addition, make sure standard error is redirected so that it doesn't confuse BatsPP."
   ]
  },
  {
   "cell_type": "code",
   "execution_count": 3,
   "id": "ac37103e-7ed4-4be5-bbce-bf3d93b6c777",
   "metadata": {},
   "outputs": [],
   "source": [
    "# Global Setup\n",
    "# Creating temp local repos to test on\n",
    "#\n",
    "## Lorenzo-TODO3: Use TMPA for first case for consistency and becuase you are not changing system temp directory.\n",
    "TMP=/tmp/temp-git-test\n",
    "TMPB=/tmp/temp-git-test-B"
   ]
  },
  {
   "cell_type": "code",
   "execution_count": 4,
   "id": "106db2ab-a294-4003-859b-d11d5acceadb",
   "metadata": {},
   "outputs": [],
   "source": [
    "# Global setup\n",
    "# Define aliases for encoding output (e.g., to ensure output the same across runs).\n",
    "## OLD: alias encode-control-chars='perl -pe \"s/\\t/<tab>/g;  s/\\n/<nl>/g;  s/[\\x00-\\x31]/<cc>/g;\"'\n",
    "alias encode-control-chars='perl -pe \"s/\\t/<tab>/g;  s/[\\x00-\\x08\\x11\\x31]/<cc>/g;\"'\n",
    "alias encode-nums='perl -pe \"s/[0-9]+/N/g;\"'\n",
    "## TODO: define a better hex encoder to avoid false positives (e.g., abc).\n",
    "alias encode-hex='perl -pe \"s/[0-9A-F]{4,}/<hex>/ig;\"'\n",
    "function encode-text () { encode-control-chars | encode-nums | encode-hex; }"
   ]
  },
  {
   "cell_type": "code",
   "execution_count": 5,
   "id": "6f0c4d04-271f-469a-82fa-af3b8052f1c6",
   "metadata": {},
   "outputs": [],
   "source": [
    "# Global Setup\n",
    "## Lorenzo-Note: BatsPP has a problem with commands mixed with comments.\n",
    "# Warning: Due to BatpPP quirk, comments should not be placed within command sequence.\n",
    "# So make sure there is only one command sequence per cell\n",
    "## OLD:\n",
    "## git clone https://github.com/tomasohara/git-bash-test.git \"$TMP\"\n",
    "## git clone https://github.com/tomasohara/git-bash-test.git \"$TMPB\"\n",
    "## Lorenzo-note: output ignored due to difficulty obfuscating and since this is just a setup\n",
    "git clone https://github.com/tomasohara/git-bash-test.git \"$TMP\" > /dev/null 2>&1\n",
    "git clone https://github.com/tomasohara/git-bash-test.git \"$TMPB\" > /dev/null 2>&1"
   ]
  },
  {
   "cell_type": "code",
   "execution_count": 6,
   "id": "53997e78-72db-4a98-b528-7381353ad2e6",
   "metadata": {},
   "outputs": [
    {
     "name": "stdout",
     "output_type": "stream",
     "text": [
      "From https://github.com/tomasohara/git-bash-test\n",
      " * branch            main       -> FETCH_HEAD\n",
      "Already up to date.\n",
      "[main NcaNdc] first commit on second local\n",
      " <cc> file changed, <cc> insertion(+)\n",
      " create mode <cc>N hello.txt\n",
      "To https://github.com/tomasohara/git-bash-test.git\n",
      "   <hex>N..NcaNdc  main -> main\n"
     ]
    }
   ],
   "source": [
    "# Global Setup\n",
    "# Move to second local to push some changes\n",
    "command cd \"$TMPB\" \n",
    "git pull origin main \n",
    "echo \"hello second local\" > hello.txt\n",
    "git add hello.txt 2>&1 | encode-text\n",
    "git commit -m \"first commit on second local\" 2>&1 | encode-text\n",
    "git push 2>&1 | encode-text"
   ]
  },
  {
   "cell_type": "code",
   "execution_count": 7,
   "id": "369fd092-8ec5-4f0c-9ad5-83be80c8648f",
   "metadata": {},
   "outputs": [],
   "source": [
    "# Moving to first local\n",
    "command cd \"$TMP\""
   ]
  },
  {
   "cell_type": "code",
   "execution_count": 8,
   "id": "3e87355d-a872-4cb6-b293-baed57c08cf7",
   "metadata": {},
   "outputs": [
    {
     "name": "stdout",
     "output_type": "stream",
     "text": [
      "Switched to a new branch 'newBranch'\n"
     ]
    }
   ],
   "source": [
    "# git-branch-alias test\n",
    "# switch to new branch\n",
    "\n",
    "git checkout -b newBranch;\n",
    "actual_branch=$(git branch --show-current)\n"
   ]
  },
  {
   "cell_type": "code",
   "execution_count": 9,
   "id": "b1148a78-dace-4b0e-a4de-6b52638c43e6",
   "metadata": {},
   "outputs": [
    {
     "name": "stdout",
     "output_type": "stream",
     "text": [
      "0\n"
     ]
    }
   ],
   "source": [
    "# Assert\n",
    "[ $(echo $actual_branch) == \"$(git-branch-alias)\" ]; echo $?;"
   ]
  },
  {
   "cell_type": "code",
   "execution_count": 10,
   "id": "5f4c7df1-df95-48ab-9f71-241a739ec802",
   "metadata": {},
   "outputs": [
    {
     "name": "stdout",
     "output_type": "stream",
     "text": [
      "usage: git-checkout-branch [--help | branch]\n",
      "note: available branches:\n",
      "    main\n"
     ]
    }
   ],
   "source": [
    "#git-checkout-branch test\n",
    "git-checkout-branch --help\n"
   ]
  },
  {
   "cell_type": "code",
   "execution_count": 11,
   "id": "1b77bcde-0382-48bd-ad6c-45bbf2ac46fd",
   "metadata": {},
   "outputs": [
    {
     "name": "stdout",
     "output_type": "stream",
     "text": [
      "issuing: git checkout main --\n",
      "Switched to branch 'main'\n",
      "Your branch is up to date with 'origin/main'.\n"
     ]
    }
   ],
   "source": [
    "git-checkout-branch main\n",
    "actual_branch=$(git branch --show-current)"
   ]
  },
  {
   "cell_type": "code",
   "execution_count": 12,
   "id": "91bf6993-27ba-4b7e-8556-c1c84b83c3ed",
   "metadata": {},
   "outputs": [
    {
     "name": "stdout",
     "output_type": "stream",
     "text": [
      "0\n"
     ]
    }
   ],
   "source": [
    "# Assert\n",
    "[ $(echo $actual_branch) == \"main\" ]; echo $?;"
   ]
  },
  {
   "cell_type": "code",
   "execution_count": 13,
   "id": "01ccce52-4164-4370-8c79-85a9e72425ea",
   "metadata": {},
   "outputs": [
    {
     "name": "stdout",
     "output_type": "stream",
     "text": [
      "No changed files so no pre-stash-pop timestamp check\n",
      "issuing: git stash\n",
      "issuing: git pull --all\n",
      "From https://github.com/tomasohara/git-bash-test\n",
      "   <hex>N..NcaNdc  main       -> origin/main\n",
      "issuing: git stash pop\n",
      "No stash entries found.\n",
      "No changed files so no post-stash-pop timestamp check\n",
      "No local changes to save\n",
      "Fetching origin\n",
      "Updating <hex>N..NcaNdc\n",
      "Fast-forward\n",
      " hello.txt | <cc> +\n",
      " <cc> file changed, <cc> insertion(+)\n",
      " create mode <cc>N hello.txt\n",
      "\n"
     ]
    }
   ],
   "source": [
    "# git-update-plus test\n",
    "# *** Make sure you obfuscare the output; also make sure no control characters passed ***\n",
    "## BAD: git-update-plus\n",
    "git-update-plus 2>&1 | encode-text"
   ]
  },
  {
   "cell_type": "code",
   "execution_count": 14,
   "id": "e015f1fb-a1fc-4808-9e2a-8f982122f707",
   "metadata": {},
   "outputs": [
    {
     "name": "stdout",
     "output_type": "stream",
     "text": [
      "0\n"
     ]
    }
   ],
   "source": [
    "# Assert\n",
    "[ \"$(cat hello.txt)\" == \"hello second local\" ]; echo $?;"
   ]
  },
  {
   "cell_type": "code",
   "execution_count": 15,
   "id": "8839a602-831b-44de-b6f9-f2d79066a708",
   "metadata": {},
   "outputs": [
    {
     "name": "stdout",
     "output_type": "stream",
     "text": [
      "[main NcNaN] second commit\n",
      " <cc> file changed, <cc> insertion(+)\n",
      " create mode <cc>N helloN.txt\n",
      "To https://github.com/tomasohara/git-bash-test.git\n",
      "   NcaNdc..NcNaN  main -> main\n"
     ]
    }
   ],
   "source": [
    "# Setup\n",
    "# adding changes to not be able to pull\n",
    "command cd \"$TMPB\"\n",
    "echo \"second change\" > hello2.txt\n",
    "git add . 2>&1 | encode-text\n",
    "git commit -m \"second commit\" 2>&1 | encode-text\n",
    "git push 2>&1 | encode-text\n",
    "\n",
    "command cd \"$TMP\"\n",
    "echo \"second line\" >> hello.txt"
   ]
  },
  {
   "cell_type": "code",
   "execution_count": 16,
   "id": "b773fcd2-c5ed-42d4-8ca6-46353e405730",
   "metadata": {},
   "outputs": [
    {
     "name": "stdout",
     "output_type": "stream",
     "text": [
      "Error: Use 'git-update-force' to update with changed files (n.b., potential for conflicts)\n"
     ]
    }
   ],
   "source": [
    "# Should fail\n",
    "git-update-plus"
   ]
  },
  {
   "cell_type": "code",
   "execution_count": 17,
   "id": "3e8c4f3c-0b58-4a68-b2a4-32b03e46d054",
   "metadata": {},
   "outputs": [
    {
     "name": "stdout",
     "output_type": "stream",
     "text": [
      "issuing: zip over changed files (for later restore)\n",
      "issuing: git stash\n",
      "issuing: git pull --all\n",
      "From https://github.com/tomasohara/git-bash-test\n",
      "   NcaNdc..NcNaN  main       -> origin/main\n",
      "issuing: git stash pop\n",
      "issuing: unzip over _stash.zip (to restore timestamps)\n",
      "no changes <hex> to commit (use \"git add\" and/or \"git commit -a\")\n",
      "Dropped refs/stash@{N} (Nb<cc>N<hex>NbNcNefdNd<cc>cdNfNceN)\n",
      "unzip -v -o _stash.zip\n",
      "Archive:  _stash.zip\n",
      " Length   Method    Size  Cmpr    Date    Time   CRC-N   Name\n",
      "--------  ------  ------- ---- ---------- ----- --------  ----\n",
      "      N<cc>  Defl:N       N  <cc>N% N-<cc>N-N N<cc>:N NbecN  hello.txt\n",
      "--------          -------  ---                            -------\n",
      "      N<cc>               N  <cc>N%                            <cc> file\n",
      "\n"
     ]
    }
   ],
   "source": [
    "# git-update-force test \n",
    "# should pull\n",
    "## OLD: git-update-force\n",
    "## Lorenzo-note: hides the lines with hex\n",
    "git-update-force 2>&1 | encode-text"
   ]
  },
  {
   "cell_type": "code",
   "execution_count": 18,
   "id": "11ef9fdb-2f90-49fd-8550-595995b21be0",
   "metadata": {},
   "outputs": [
    {
     "name": "stdout",
     "output_type": "stream",
     "text": [
      "0\n"
     ]
    }
   ],
   "source": [
    "#assert\n",
    "[ \"$(cat hello2.txt)\" == \"second change\" ]; echo $?;"
   ]
  },
  {
   "cell_type": "code",
   "execution_count": 19,
   "id": "64e1cc7e-1771-4fe5-a7d0-95b53adccc07",
   "metadata": {},
   "outputs": [
    {
     "name": "stdout",
     "output_type": "stream",
     "text": [
      "On branch main\n",
      "Your branch is up to date with 'origin/main'.\n",
      "\n",
      "Changes not staged for commit:\n",
      "  (use \"git add <file>...\" to update what will be committed)\n",
      "  (use \"git restore <file>...\" to discard changes in working directory)\n",
      "<tab>modified:   hello.txt\n",
      "\n",
      "Untracked files:\n",
      "  (use \"git add <file>...\" to include in what will be committed)\n",
      "<tab>_git-diff-list.<cc><cc>N<cc><cc>.bash\n",
      "<tab>_git-diff.<cc><cc>N<cc><cc>.list\n",
      "<tab>_stash.zip\n",
      "<tab>push.txt\n",
      "\n",
      "no changes <hex> to commit (use \"git add\" and/or \"git commit -a\")\n"
     ]
    }
   ],
   "source": [
    "#git-commit-and-push test\n",
    "echo \"pushed\" > push.txt\n",
    "## OLD: git status\n",
    "git status 2>&1 | encode-text"
   ]
  },
  {
   "cell_type": "code",
   "execution_count": 20,
   "id": "ef603a0e-c057-4957-9a1b-5bc8c4385d8d",
   "metadata": {},
   "outputs": [
    {
     "name": "stdout",
     "output_type": "stream",
     "text": [
      "issuing: git add push.txt\n",
      "\n",
      "GIT_NO_CONFIRM set to <cc>, so skipping confirmation\n",
      "issuing: git commit -m 'hello'\n",
      "    [main NbN] hello\n",
      "     <cc> file changed, <cc> insertion(+)\n",
      "     create mode <cc>N push.txt\n",
      "GIT_NO_CONFIRM set to <cc>, so skipping confirmation\n",
      "issuing: git push --verbose\n",
      "Pushing to https://github.com/tomasohara/git-bash-test.git\n",
      "POST git-receive-pack (N bytes)\n",
      "To https://github.com/tomasohara/git-bash-test.git\n",
      "   NcNaN..NbN  main -> main\n",
      "updating local tracking ref 'refs/remotes/origin/main'\n",
      "[main NbN] hello\n",
      " <cc> file changed, <cc> insertion(+)\n",
      " create mode <cc>N push.txt\n",
      "\n"
     ]
    }
   ],
   "source": [
    "export GIT_MESSAGE=\"hello\"\n",
    "previous=$GIT_NO_CONFIRM\n",
    "export GIT_NO_CONFIRM=\"1\"\n",
    "## OLD: git-commit-and-push push.txt\n",
    "git-commit-and-push push.txt 2>&1 | encode-text"
   ]
  },
  {
   "cell_type": "code",
   "execution_count": 21,
   "id": "927d226a-bb68-4120-8078-6a6af0766e28",
   "metadata": {},
   "outputs": [
    {
     "name": "stdout",
     "output_type": "stream",
     "text": [
      "From https://github.com/tomasohara/git-bash-test\n",
      "   NcNaN..NbN  main       -> origin/main\n",
      "Updating NcNaN..NbN\n",
      "Fast-forward\n",
      " push.txt | <cc> +\n",
      " <cc> file changed, <cc> insertion(+)\n",
      " create mode <cc>N push.txt\n"
     ]
    }
   ],
   "source": [
    "command cd \"$TMPB\"\n",
    "git pull 2>&1 | encode-text"
   ]
  },
  {
   "cell_type": "code",
   "execution_count": 22,
   "id": "2ac0b1dd-2364-4259-a912-fb3527444a6a",
   "metadata": {},
   "outputs": [
    {
     "name": "stdout",
     "output_type": "stream",
     "text": [
      "0\n"
     ]
    }
   ],
   "source": [
    "#assert\n",
    "[ \"$(cat push.txt)\" == \"pushed\" ]; echo $?;"
   ]
  },
  {
   "cell_type": "code",
   "execution_count": 23,
   "id": "da6aef2f-5e07-4c9d-97bb-d8df6ed6f172",
   "metadata": {},
   "outputs": [],
   "source": [
    "# undo changes and remove newly created files\n",
    "\n",
    "## Lorenzo-TODO2: add more output encoding\n",
    "## also, converting unique ID's to codes like temp-git-test/.git/objects/pack/pack-HEX.idx\n",
    "## EX: cat $log | perl -pe 's/\\b[0-9]+\\b/NUM/g; s/\\b[a-f0-9]+\\b/HEX/g;'\n",
    "rm -f *.txt > /dev/null\n",
    "git rm -f *.txt > /dev/null\n",
    "git add . > /dev/null"
   ]
  },
  {
   "cell_type": "code",
   "execution_count": 24,
   "id": "b3bfb8a7-e4a4-4b5a-8266-473044819572",
   "metadata": {},
   "outputs": [
    {
     "name": "stdout",
     "output_type": "stream",
     "text": [
      "[main NbNaN] cleanup test files\n",
      " N files changed, N deletions(-)\n",
      " delete mode <cc>N hello.txt\n",
      " delete mode <cc>N helloN.txt\n",
      " delete mode <cc>N push.txt\n",
      "To https://github.com/tomasohara/git-bash-test.git\n",
      "   NbN..NbNaN  main -> main\n"
     ]
    }
   ],
   "source": [
    "## Lorenzo-TODO2: use one cell per output (to make this less brittle)\n",
    "git commit -m \"cleanup test files\" 2>&1 | encode-text\n",
    "git push 2>&1 | encode-text"
   ]
  },
  {
   "cell_type": "code",
   "execution_count": 25,
   "id": "36d9054a-b1e6-4da5-82e1-e54e370ec535",
   "metadata": {},
   "outputs": [],
   "source": [
    "## OLD: extraneous command as full path can be used as below\n",
    "## # delete test local repos\n",
    "## command cd \"/tmp\""
   ]
  },
  {
   "cell_type": "code",
   "execution_count": 26,
   "id": "a3029f9c-0b64-4212-9b82-339674b0d787",
   "metadata": {},
   "outputs": [],
   "source": [
    "## OLD:\n",
    "## rm -rf temp-git-test > /dev/null\n",
    "## rm -rf temp-git-test-B > /dev/null\n",
    "## Lorenzo-Note: useful for retaining directories for post-hoc analysis\n",
    "rename-with-file-date /tmp/temp-git-test* > /dev/null\n",
    "export GIT_NO_CONFIRM=$previous"
   ]
  }
 ],
 "metadata": {
  "kernelspec": {
   "display_name": "Bash",
   "language": "bash",
   "name": "bash"
  },
  "language_info": {
   "codemirror_mode": "shell",
   "file_extension": ".sh",
   "mimetype": "text/x-sh",
   "name": "bash"
  }
 },
 "nbformat": 4,
 "nbformat_minor": 5
}
