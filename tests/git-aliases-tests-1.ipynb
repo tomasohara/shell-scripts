{
 "cells": [
  {
   "cell_type": "code",
   "execution_count": null,
   "id": "290fe5a4-8b43-41ae-ac44-969e412d7bdb",
   "metadata": {},
   "outputs": [],
   "source": [
    "#First test for git aliases (e.g., git-update-plus, git-next-checkin, etc)\n",
    "\n",
    "# Note: The aliases should be defined before Jupyter is invoked.\n",
    "# For BatsPP, they can loaded via '--source all-tomohara-aliases-etc.bash' option."
   ]
  },
  {
   "cell_type": "code",
   "execution_count": null,
   "id": "ac37103e-7ed4-4be5-bbce-bf3d93b6c777",
   "metadata": {},
   "outputs": [],
   "source": [
    "# Global Setup\n",
    "# Creating temp local repos to test on\n",
    "#\n",
    "## Lorenzo-TODO3: Use TMPA for first case for consistency and becuase you are not changing system temp directory.\n",
    "TMPA=/tmp/temp-git-test\n",
    "TMPB=/tmp/temp-git-test-B"
   ]
  },
  {
   "cell_type": "code",
   "execution_count": null,
   "id": "106db2ab-a294-4003-859b-d11d5acceadb",
   "metadata": {},
   "outputs": [],
   "source": [
    "# Global setup\n",
    "# Define aliases for encoding output (e.g., to ensure output the same across runs).\n",
    "alias encode-control-chars='perl -pe \"s/\\t/<tab>/g;  s/[\\x00-\\x08\\x11\\x31]/<cc>/g;\"'\n",
    "alias encode-nums='perl -pe \"s/[0-9]+/N/g;\"'\n",
    "## TODO: define a better hex encoder to avoid false positives (e.g., abc).\n",
    "alias encode-hex='perl -pe \"s/[0-9A-F]{4,}/<hex>/ig;\"'\n",
    "# note: uses perl slurp mode (i.e., read entire file) to check for consecutive newlines\n",
    "alias encode-newlines='perl -0777 -pe \"while (/\\n\\n/) { s/\\n\\n/\\n<newline>\\n/g; }\"'\n",
    "function encode-text () { encode-control-chars | encode-nums | encode-hex | encode-newlines; }"
   ]
  },
  {
   "cell_type": "code",
   "execution_count": null,
   "id": "6f0c4d04-271f-469a-82fa-af3b8052f1c6",
   "metadata": {},
   "outputs": [],
   "source": [
    "# Global Setup\n",
    "# Warning: Due to BatpPP quirk, comments should not be placed within command sequence.\n",
    "# So make sure there is only one command sequence per cell\n",
    "git clone https://github.com/tomasohara/git-bash-test.git \"$TMPA\" > /dev/null 2>&1\n",
    "git clone https://github.com/tomasohara/git-bash-test.git \"$TMPB\" > /dev/null 2>&1"
   ]
  },
  {
   "cell_type": "code",
   "execution_count": null,
   "id": "53997e78-72db-4a98-b528-7381353ad2e6",
   "metadata": {},
   "outputs": [],
   "source": [
    "# Setup\n",
    "# Move to second local to push some changes\n",
    "command cd \"$TMPB\" > /dev/null 2>&1\n",
    "git pull origin main > /dev/null 2>&1\n",
    "echo \"hello second local\" > hello.txt\n",
    "git add hello.txt > /dev/null 2>&1\n",
    "git commit -m \"first commit on second local\" > /dev/null 2>&1\n",
    "git push > /dev/null 2>&1"
   ]
  },
  {
   "cell_type": "code",
   "execution_count": null,
   "id": "369fd092-8ec5-4f0c-9ad5-83be80c8648f",
   "metadata": {},
   "outputs": [],
   "source": [
    "# Setup\n",
    "command cd \"$TMPA\""
   ]
  },
  {
   "cell_type": "code",
   "execution_count": null,
   "id": "3e87355d-a872-4cb6-b293-baed57c08cf7",
   "metadata": {},
   "outputs": [],
   "source": [
    "# Setup\n",
    "# git-branch-alias test\n",
    "# switch to new branch\n",
    "git checkout -b newBranch > /dev/null 2>&1 \n",
    "actual_branch=$(git branch --show-current)"
   ]
  },
  {
   "cell_type": "code",
   "execution_count": null,
   "id": "b1148a78-dace-4b0e-a4de-6b52638c43e6",
   "metadata": {},
   "outputs": [],
   "source": [
    "# Assert\n",
    "[ $(echo $actual_branch) == \"$(git-branch-alias)\" ]; echo $?;"
   ]
  },
  {
   "cell_type": "code",
   "execution_count": null,
   "id": "1b77bcde-0382-48bd-ad6c-45bbf2ac46fd",
   "metadata": {},
   "outputs": [],
   "source": [
    "# Setup\n",
    "git-checkout-branch main > /dev/null 2>&1\n",
    "actual_branch=$(git branch --show-current)"
   ]
  },
  {
   "cell_type": "code",
   "execution_count": null,
   "id": "91bf6993-27ba-4b7e-8556-c1c84b83c3ed",
   "metadata": {},
   "outputs": [],
   "source": [
    "# Assert\n",
    "[ $(echo $actual_branch) == \"main\" ]; echo $?;"
   ]
  },
  {
   "cell_type": "code",
   "execution_count": null,
   "id": "01ccce52-4164-4370-8c79-85a9e72425ea",
   "metadata": {},
   "outputs": [],
   "source": [
    "# Setup\n",
    "git-update-plus > /dev/null 2>&1"
   ]
  },
  {
   "cell_type": "code",
   "execution_count": null,
   "id": "e015f1fb-a1fc-4808-9e2a-8f982122f707",
   "metadata": {},
   "outputs": [],
   "source": [
    "# Assert\n",
    "[ \"$(cat hello.txt)\" == \"hello second local\" ]; echo $?;"
   ]
  },
  {
   "cell_type": "code",
   "execution_count": null,
   "id": "8839a602-831b-44de-b6f9-f2d79066a708",
   "metadata": {},
   "outputs": [],
   "source": [
    "# Setup\n",
    "# adding changes to not be able to pull\n",
    "command cd \"$TMPB\" > /dev/null 2>&1\n",
    "echo \"second change\" > hello2.txt\n",
    "git add . > /dev/null 2>&1\n",
    "git commit -m \"second commit\" > /dev/null 2>&1\n",
    "git push > /dev/null 2>&1\n",
    "\n",
    "command cd \"$TMPA\" > /dev/null 2>&1\n",
    "echo \"second line\" >> hello.txt"
   ]
  },
  {
   "cell_type": "code",
   "execution_count": null,
   "id": "3e8c4f3c-0b58-4a68-b2a4-32b03e46d054",
   "metadata": {},
   "outputs": [],
   "source": [
    "# Setup\n",
    "# git-update-force test \n",
    "# should pull\n",
    "git-update-force > /dev/null 2>&1 "
   ]
  },
  {
   "cell_type": "code",
   "execution_count": null,
   "id": "11ef9fdb-2f90-49fd-8550-595995b21be0",
   "metadata": {},
   "outputs": [],
   "source": [
    "#assert\n",
    "[ \"$(cat hello2.txt)\" == \"second change\" ]; echo $?;"
   ]
  },
  {
   "cell_type": "code",
   "execution_count": null,
   "id": "64e1cc7e-1771-4fe5-a7d0-95b53adccc07",
   "metadata": {},
   "outputs": [],
   "source": [
    "# Setup\n",
    "#git-commit-and-push test\n",
    "echo \"pushed\" > push.txt\n",
    "git status > /dev/null 2>&1 "
   ]
  },
  {
   "cell_type": "code",
   "execution_count": null,
   "id": "ef603a0e-c057-4957-9a1b-5bc8c4385d8d",
   "metadata": {},
   "outputs": [],
   "source": [
    "# Setup\n",
    "export GIT_MESSAGE=\"hello\"\n",
    "previous=$GIT_NO_CONFIRM\n",
    "export GIT_NO_CONFIRM=\"1\"\n",
    "git-commit-and-push push.txt > /dev/null 2>&1 "
   ]
  },
  {
   "cell_type": "code",
   "execution_count": null,
   "id": "927d226a-bb68-4120-8078-6a6af0766e28",
   "metadata": {},
   "outputs": [],
   "source": [
    "# Setup\n",
    "command cd \"$TMPB\"\n",
    "git pull > /dev/null 2>&1 "
   ]
  },
  {
   "cell_type": "code",
   "execution_count": null,
   "id": "2ac0b1dd-2364-4259-a912-fb3527444a6a",
   "metadata": {},
   "outputs": [],
   "source": [
    "#assert\n",
    "[ \"$(cat push.txt)\" == \"pushed\" ]; echo $?;"
   ]
  },
  {
   "cell_type": "code",
   "execution_count": null,
   "id": "da6aef2f-5e07-4c9d-97bb-d8df6ed6f172",
   "metadata": {},
   "outputs": [],
   "source": [
    "# Setup\n",
    "# undo changes and remove newly created file\n",
    "## Lorenzo-TODO2: add more output encoding\n",
    "## also, converting unique ID's to codes like temp-git-test/.git/objects/pack/pack-HEX.idx\n",
    "## EX: cat $log | perl -pe 's/\\b[0-9]+\\b/NUM/g; s/\\b[a-f0-9]+\\b/HEX/g;'\n",
    "rm -f *.txt > /dev/null 2>&1\n",
    "git rm -f *.txt > /dev/null 2>&1\n",
    "git add . > /dev/null 2>&1"
   ]
  },
  {
   "cell_type": "code",
   "execution_count": null,
   "id": "b3bfb8a7-e4a4-4b5a-8266-473044819572",
   "metadata": {},
   "outputs": [],
   "source": [
    "# Setup\n",
    "## Lorenzo-TODO2: use one cell per output (to make this less brittle)\n",
    "git commit -m \"cleanup test files\" > /dev/null 2>&1\n",
    "git push > /dev/null 2>&1"
   ]
  },
  {
   "cell_type": "code",
   "execution_count": null,
   "id": "a3029f9c-0b64-4212-9b82-339674b0d787",
   "metadata": {},
   "outputs": [],
   "source": [
    "# Setup\n",
    "rename-with-file-date /tmp/temp-git-test* > /dev/null 2>&1\n",
    "export GIT_NO_CONFIRM=$previous"
   ]
  }
 ],
 "metadata": {
  "kernelspec": {
   "display_name": "Bash",
   "language": "bash",
   "name": "bash"
  },
  "language_info": {
   "codemirror_mode": "shell",
   "file_extension": ".sh",
   "mimetype": "text/x-sh",
   "name": "bash"
  }
 },
 "nbformat": 4,
 "nbformat_minor": 5
}
