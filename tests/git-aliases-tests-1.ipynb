{
 "cells": [
  {
   "cell_type": "code",
   "execution_count": 1,
   "id": "290fe5a4-8b43-41ae-ac44-969e412d7bdb",
   "metadata": {},
   "outputs": [],
   "source": [
    "# First test for git aliases (e.g., git-update-plus, git-next-checkin, etc)\n",
    "\n",
    "# Note: The aliases should be defined before Jupyter is invoked.\n",
    "# For BatsPP, they can loaded via '--source all-tomohara-aliases-etc.bash' option."
   ]
  },
  {
   "cell_type": "code",
   "execution_count": 2,
   "id": "e460edf9-35b9-44a8-be1f-4ba96544c6d2",
   "metadata": {},
   "outputs": [],
   "source": [
    "# Note:\n",
    "# - Need to be very careful to ensure that the output is reproducible.\n",
    "# - This can be done by encoding numbers as <num>, hex sequences as <hex>, etc.\n",
    "# - In addition, make sure standard error is redirected so that it doesn't confuse BatsPP.\n",
    "# - Uses one cell per output (to make this less brittle).\n",
    "# - For USE_SSH_AUTH usage, see summary_stats.bash.\n",
    "#\n",
    "# BatsPP quirks (circa Dec 2023):\n",
    "# - global setup should not have output, so redirect to /dev/null\n",
    "# - commands and comments cannot be mixed in a cell (i.e., only comments first and then commands)."
   ]
  },
  {
   "cell_type": "code",
   "execution_count": 3,
   "id": "e275e149-a770-4710-ba8c-9923e9c8a686",
   "metadata": {},
   "outputs": [],
   "source": [
    "# Note:\n",
    "# - All temp files use \"temp-\" prefix.\n",
    "# - This has an eye towards Murphy's Law!\n",
    "# ...   That is, what can go wrong will go wrong!"
   ]
  },
  {
   "cell_type": "code",
   "execution_count": 4,
   "id": "60a638cf-32a3-4ffa-8d05-67556dfd90a0",
   "metadata": {},
   "outputs": [],
   "source": [
    "# Global Setup\n",
    "# Creating temp local repos to test on\n",
    "# note: true at end is to avoid stderr status due to rename command failure, which also seems\n",
    "# to throw off the bash kernel (e.g., leading to halt during run-all-cells)\n",
    "#\n",
    "TMP=${TMP:-/tmp}\n",
    "stderr_log=\"$TMP/temp-git-stderr-$$.log\"\n",
    "touch \"$stderr_log\"\n",
    "TMPA=$TMP/temp-git-test-1-A\n",
    "TMPB=$TMP/temp-git-test-1-B\n",
    "rename-with-file-date \"$TMPA\" \"$TMPB\" >> \"$stderr_log\" 2>&1\n",
    "true"
   ]
  },
  {
   "cell_type": "code",
   "execution_count": 5,
   "id": "e03903bd-04cd-4449-8fc8-009cacf4c728",
   "metadata": {},
   "outputs": [],
   "source": [
    "# Global setup\n",
    "# Define aliases for encoding output (e.g., to ensure output the same across runs).\n",
    "alias encode-control-chars='perl -pe \"s/\\t/<tab>/g;  s/[\\x00-\\x08\\x11\\x31]/<cc>/g;\"'\n",
    "alias encode-nums='perl -pe \"s/[0-9]+/N/g;\"'\n",
    "## TODO: define a better hex encoder to avoid false positives (e.g., abc).\n",
    "alias encode-hex='perl -pe \"s/[0-9A-F]{4,}/<hex>/ig;\"'\n",
    "# note: uses perl slurp mode (i.e., read entire file) to check for consecutive newlines\n",
    "alias encode-newlines='perl -0777 -pe \"while (/\\n\\n/) { s/\\n\\n/\\n<newline>\\n/g; }\"'\n",
    "function encode-text () { encode-control-chars | encode-nums | encode-hex | encode-newlines; }"
   ]
  },
  {
   "cell_type": "code",
   "execution_count": 6,
   "id": "6f0c4d04-271f-469a-82fa-af3b8052f1c6",
   "metadata": {},
   "outputs": [],
   "source": [
    "# Global Setup\n",
    "# Warning: Due to BatpPP quirk, comments should not be placed within command sequence.\n",
    "# So make sure there is only one command sequence per cell\n",
    "git clone https://github.com/scrappycito/git-bash-test.git \"$TMPA\" >> \"$stderr_log\" 2>&1\n",
    "git clone https://github.com/scrappycito/git-bash-test.git \"$TMPB\" >> \"$stderr_log\" 2>&1"
   ]
  },
  {
   "cell_type": "code",
   "execution_count": 7,
   "id": "53997e78-72db-4a98-b528-7381353ad2e6",
   "metadata": {},
   "outputs": [],
   "source": [
    "# Global setup\n",
    "# Move to second local to push some changes\n",
    "command cd \"$TMPB\" >> \"$stderr_log\" 2>&1\n",
    "if [ \"$USE_SSH_AUTH\" == \"1\" ]; then git remote set-url origin \"git@github.com:scrappycito/git-bash-test.git\"; fi\n",
    "git pull origin main >> \"$stderr_log\" 2>&1\n",
    "echo \"hello second local\" > temp-hello.txt\n",
    "git add temp-hello.txt >> \"$stderr_log\" 2>&1\n",
    "git commit -m \"first commit on second local\" >> \"$stderr_log\" 2>&1\n",
    "git push  >> \"$stderr_log\" 2>&1"
   ]
  },
  {
   "cell_type": "code",
   "execution_count": 8,
   "id": "369fd092-8ec5-4f0c-9ad5-83be80c8648f",
   "metadata": {},
   "outputs": [],
   "source": [
    "# Moving to first local\n",
    "command cd \"$TMPA\"\n",
    "# note: optionally setup SSH authentication (for use with Github runner and docker)\n",
    "if [ \"$USE_SSH_AUTH\" == \"1\" ]; then git remote set-url origin \"git@github.com:scrappycito/git-bash-test.git\"; fi"
   ]
  },
  {
   "cell_type": "code",
   "execution_count": 9,
   "id": "3e87355d-a872-4cb6-b293-baed57c08cf7",
   "metadata": {},
   "outputs": [],
   "source": [
    "# Setup\n",
    "# git-branch-alias test\n",
    "# switch to new branch\n",
    "\n",
    "git checkout -b newBranch >> \"$stderr_log\" 2>&1\n",
    "actual_branch=$(git branch --show-current)"
   ]
  },
  {
   "cell_type": "code",
   "execution_count": 10,
   "id": "b1148a78-dace-4b0e-a4de-6b52638c43e6",
   "metadata": {},
   "outputs": [
    {
     "name": "stdout",
     "output_type": "stream",
     "text": [
      "0\n"
     ]
    }
   ],
   "source": [
    "# Assert\n",
    "[ $(echo $actual_branch) == \"$(git-branch-alias)\" ]; echo $?;"
   ]
  },
  {
   "cell_type": "code",
   "execution_count": 11,
   "id": "5f4c7df1-df95-48ab-9f71-241a739ec802",
   "metadata": {},
   "outputs": [
    {
     "name": "stdout",
     "output_type": "stream",
     "text": [
      "usage: git-checkout-branch [--help | branch]\n",
      "note: available branches:\n",
      "    main\n"
     ]
    }
   ],
   "source": [
    "#git-checkout-branch test\n",
    "git-checkout-branch --help\n"
   ]
  },
  {
   "cell_type": "code",
   "execution_count": 12,
   "id": "1b77bcde-0382-48bd-ad6c-45bbf2ac46fd",
   "metadata": {},
   "outputs": [
    {
     "name": "stdout",
     "output_type": "stream",
     "text": [
      "issuing: git checkout main --\n",
      "Switched to branch 'main'\n",
      "Your branch is up to date with 'origin/main'.\n"
     ]
    }
   ],
   "source": [
    "git-checkout-branch main\n",
    "actual_branch=$(git branch --show-current)"
   ]
  },
  {
   "cell_type": "code",
   "execution_count": 13,
   "id": "91bf6993-27ba-4b7e-8556-c1c84b83c3ed",
   "metadata": {},
   "outputs": [
    {
     "name": "stdout",
     "output_type": "stream",
     "text": [
      "0\n"
     ]
    }
   ],
   "source": [
    "# Assert\n",
    "[ $(echo $actual_branch) == \"main\" ]; echo $?;"
   ]
  },
  {
   "cell_type": "code",
   "execution_count": 14,
   "id": "01ccce52-4164-4370-8c79-85a9e72425ea",
   "metadata": {},
   "outputs": [
    {
     "name": "stdout",
     "output_type": "stream",
     "text": [
      "issuing: git stash\n",
      "issuing: git pull --all\n",
      "issuing: git stash pop\n",
      " temp-hello.txt | <cc> +\n",
      " create mode <cc>N temp-hello.txt\n"
     ]
    }
   ],
   "source": [
    "# git-update-plus test\n",
    "# note: obfuscate the output; makes sure no control characters passed\n",
    "## NOTE: limits the output to make less brittle (e.g., ignorable warnings)\n",
    "## OLD: git-update-plus 2>&1 | encode-text\n",
    "git-update-plus 2>&1 | egrep 'hello|issuing' | encode-text"
   ]
  },
  {
   "cell_type": "code",
   "execution_count": 15,
   "id": "e015f1fb-a1fc-4808-9e2a-8f982122f707",
   "metadata": {},
   "outputs": [
    {
     "name": "stdout",
     "output_type": "stream",
     "text": [
      "0\n"
     ]
    }
   ],
   "source": [
    "# Assert\n",
    "[ \"$(cat temp-hello.txt)\" == \"hello second local\" ]; echo $?;"
   ]
  },
  {
   "cell_type": "code",
   "execution_count": 16,
   "id": "8839a602-831b-44de-b6f9-f2d79066a708",
   "metadata": {},
   "outputs": [],
   "source": [
    "# Setup\n",
    "# adding changes to not be able to pull\n",
    "command cd \"$TMPB\" >> \"$stderr_log\" 2>&1\n",
    "echo \"second change\" > temp-hello2.txt\n",
    "git add temp-*.txt >> \"$stderr_log\" 2>&1\n",
    "git commit -m \"second commit\" >> \"$stderr_log\" 2>&1\n",
    "git push >> \"$stderr_log\" 2>&1\n",
    "\n"
   ]
  },
  {
   "cell_type": "code",
   "execution_count": 17,
   "id": "4802dbe6-2d1c-4432-b854-2d327d09dc47",
   "metadata": {},
   "outputs": [],
   "source": [
    "# Setup\n",
    "# Moving to first local\n",
    "command cd \"$TMPA\" >> \"$stderr_log\" 2>&1\n",
    "echo \"second line\" >> temp-hello.txt"
   ]
  },
  {
   "cell_type": "code",
   "execution_count": 18,
   "id": "d7086fd9-9bb6-47e2-9abc-3606395a3b1a",
   "metadata": {},
   "outputs": [
    {
     "name": "stdout",
     "output_type": "stream",
     "text": [
      "Error: Use 'git-update-force' to update with changed files (n.b., potential for conflicts)\n"
     ]
    }
   ],
   "source": [
    "# Should fail\n",
    "git-update-plus"
   ]
  },
  {
   "cell_type": "code",
   "execution_count": 19,
   "id": "3e8c4f3c-0b58-4a68-b2a4-32b03e46d054",
   "metadata": {},
   "outputs": [
    {
     "name": "stdout",
     "output_type": "stream",
     "text": [
      "issuing: git stash\n",
      "issuing: git pull --all\n",
      "issuing: git stash pop\n",
      "<tab>modified:   temp-hello.txt\n"
     ]
    }
   ],
   "source": [
    "# git-update-force test \n",
    "# should pull\n",
    "# note: hides the lines with hex\n",
    "## OLD: git-update-force 2>&1 | encode-text\n",
    "git-update-force 2>&1 | egrep 'hello|issuing' | encode-text"
   ]
  },
  {
   "cell_type": "code",
   "execution_count": 20,
   "id": "11ef9fdb-2f90-49fd-8550-595995b21be0",
   "metadata": {},
   "outputs": [
    {
     "name": "stdout",
     "output_type": "stream",
     "text": [
      "0\n"
     ]
    }
   ],
   "source": [
    "#assert\n",
    "[ \"$(cat temp-hello2.txt)\" == \"second change\" ]; echo $?;"
   ]
  },
  {
   "cell_type": "code",
   "execution_count": 21,
   "id": "64e1cc7e-1771-4fe5-a7d0-95b53adccc07",
   "metadata": {},
   "outputs": [],
   "source": [
    "# Setup\n",
    "#git-commit-and-push test\n",
    "echo \"pushed\" > temp-push.txt\n",
    "git status >> \"$stderr_log\" 2>&1"
   ]
  },
  {
   "cell_type": "code",
   "execution_count": 22,
   "id": "ef603a0e-c057-4957-9a1b-5bc8c4385d8d",
   "metadata": {},
   "outputs": [
    {
     "name": "stdout",
     "output_type": "stream",
     "text": [
      "issuing: git add temp-push.txt\n",
      "issuing: git commit -m 'hello'\n",
      "     create mode <cc>N temp-push.txt\n",
      "issuing: git push --verbose\n",
      " create mode <cc>N temp-push.txt\n"
     ]
    }
   ],
   "source": [
    "# Note: Bypasses confirmation in git-aliases.bash\n",
    "export GIT_MESSAGE=\"hello\"\n",
    "previous=$GIT_NO_CONFIRM\n",
    "export GIT_NO_CONFIRM=\"1\"\n",
    "## OLD: git-commit-and-push temp-push.txt 2>&1 | encode-text\n",
    "## NOTE: limits the output to make less brittle (e.g., ignorable warnings)\n",
    "git-commit-and-push temp-push.txt 2>&1 | egrep 'issuing|push' | encode-text"
   ]
  },
  {
   "cell_type": "code",
   "execution_count": 23,
   "id": "927d226a-bb68-4120-8078-6a6af0766e28",
   "metadata": {},
   "outputs": [],
   "source": [
    "# Setup\n",
    "command cd \"$TMPB\"\n",
    "git pull >> \"$stderr_log\" 2>&1"
   ]
  },
  {
   "cell_type": "code",
   "execution_count": 24,
   "id": "2ac0b1dd-2364-4259-a912-fb3527444a6a",
   "metadata": {},
   "outputs": [
    {
     "name": "stdout",
     "output_type": "stream",
     "text": [
      "0\n"
     ]
    }
   ],
   "source": [
    "#assert\n",
    "[ \"$(cat temp-push.txt)\" == \"pushed\" ]; echo $?;"
   ]
  },
  {
   "cell_type": "code",
   "execution_count": 25,
   "id": "da6aef2f-5e07-4c9d-97bb-d8df6ed6f172",
   "metadata": {},
   "outputs": [],
   "source": [
    "# Setup\n",
    "# undo changes and remove newly created files\n",
    "rm -f temp-*.txt >> \"$stderr_log\" 2>&1\n",
    "git rm -f temp-*.txt >> \"$stderr_log\" 2>&1\n",
    "git add . >> \"$stderr_log\" 2>&1"
   ]
  },
  {
   "cell_type": "code",
   "execution_count": 26,
   "id": "b3bfb8a7-e4a4-4b5a-8266-473044819572",
   "metadata": {},
   "outputs": [],
   "source": [
    "# Setup\n",
    "git commit -m \"cleanup test files\" >> \"$stderr_log\" 2>&1"
   ]
  },
  {
   "cell_type": "code",
   "execution_count": 27,
   "id": "e087d6ef-1cd3-4316-bae4-9d345fb981a7",
   "metadata": {},
   "outputs": [],
   "source": [
    "# Setup\n",
    "git push >> \"$stderr_log\" 2>&1"
   ]
  },
  {
   "cell_type": "code",
   "execution_count": 28,
   "id": "9e58a0e1-22c4-4291-832f-34f0620a0768",
   "metadata": {},
   "outputs": [],
   "source": [
    "# Setup\n",
    "## OLD (moved above)\n",
    "## # Note: dirs renamed nstead of deleted; useful for retaining directories for post-hoc analysis\n",
    "## # and, true used to avoid extraneous stdout output \n",
    "## rename-with-file-date /tmp/temp-git-test-1-* >> \"$stderr_log\" 2>&1\n",
    "## true"
   ]
  },
  {
   "cell_type": "code",
   "execution_count": 29,
   "id": "de9643d1-05ae-4a0c-b648-a04130aaad2c",
   "metadata": {},
   "outputs": [],
   "source": [
    "# Setup\n",
    "## OLD: export GIT_NO_CONFIRM=$previous"
   ]
  }
 ],
 "metadata": {
  "kernelspec": {
   "display_name": "Bash",
   "language": "bash",
   "name": "bash"
  },
  "language_info": {
   "codemirror_mode": "shell",
   "file_extension": ".sh",
   "mimetype": "text/x-sh",
   "name": "bash"
  }
 },
 "nbformat": 4,
 "nbformat_minor": 5
}
