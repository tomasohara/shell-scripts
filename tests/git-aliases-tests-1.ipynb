{
 "cells": [
  {
   "cell_type": "code",
   "execution_count": null,
   "id": "290fe5a4-8b43-41ae-ac44-969e412d7bdb",
   "metadata": {},
   "outputs": [],
   "source": [
    "#First test for git aliases (e.g., git-update-plus, git-next-checkin, etc)\n",
    "\n",
    "# Note: The aliases should be defined before Jupyter is invoked.\n",
    "# For BatsPP, they can loaded via '--source all-tomohara-aliases-etc.bash' option."
   ]
  },
  {
   "cell_type": "code",
   "execution_count": null,
   "id": "244c5c63-1ef6-45ec-9ab5-227d8cec7899",
   "metadata": {},
   "outputs": [],
   "source": [
    "# Global Setup\n",
    "# Creating temp local repos to test on\n",
    "\n",
    "TMP=/tmp/temp-git-test\n",
    "TMPB=/tmp/temp-git-test-B\n",
    "\n",
    "git clone https://github.com/LorenzoFerraces/bash-test.git \"$TMP\"\n",
    "git clone https://github.com/LorenzoFerraces/bash-test.git \"$TMPB\"\n",
    "\n",
    "# Move to second local to push some changes\n",
    "command cd \"$TMPB\" \n",
    "git pull origin main \n",
    "echo \"hello second local\" > hello.txt\n",
    "git add hello.txt\n",
    "git commit -m \"first commit on second local\"\n",
    "git push\n",
    "\n"
   ]
  },
  {
   "cell_type": "code",
   "execution_count": null,
   "id": "6388dfcf-87c8-4d66-89e4-b8cf06b5b76c",
   "metadata": {},
   "outputs": [],
   "source": [
    "# Moving to first local\n",
    "command cd \"$TMP\""
   ]
  },
  {
   "cell_type": "code",
   "execution_count": null,
   "id": "3e87355d-a872-4cb6-b293-baed57c08cf7",
   "metadata": {},
   "outputs": [],
   "source": [
    "# git-branch-alias test\n",
    "# switch to new branch\n",
    "\n",
    "git checkout -b newBranch;\n",
    "actual_branch=$(git branch --show-current)\n"
   ]
  },
  {
   "cell_type": "code",
   "execution_count": null,
   "id": "b1148a78-dace-4b0e-a4de-6b52638c43e6",
   "metadata": {},
   "outputs": [],
   "source": [
    "# Assert\n",
    "[ $(echo $actual_branch) == \"$(git-branch-alias)\" ]; echo $?;"
   ]
  },
  {
   "cell_type": "code",
   "execution_count": null,
   "id": "5f4c7df1-df95-48ab-9f71-241a739ec802",
   "metadata": {},
   "outputs": [],
   "source": [
    "#git-checkout-branch test\n",
    "git-checkout-branch --help\n"
   ]
  },
  {
   "cell_type": "code",
   "execution_count": null,
   "id": "1b77bcde-0382-48bd-ad6c-45bbf2ac46fd",
   "metadata": {},
   "outputs": [],
   "source": [
    "git-checkout-branch main\n",
    "actual_branch=$(git branch --show-current)"
   ]
  },
  {
   "cell_type": "code",
   "execution_count": null,
   "id": "91bf6993-27ba-4b7e-8556-c1c84b83c3ed",
   "metadata": {},
   "outputs": [],
   "source": [
    "# Assert\n",
    "[ $(echo $actual_branch) == \"main\" ]; echo $?;"
   ]
  },
  {
   "cell_type": "code",
   "execution_count": null,
   "id": "01ccce52-4164-4370-8c79-85a9e72425ea",
   "metadata": {},
   "outputs": [],
   "source": [
    "# git-update-plus test\n",
    "git-update-plus"
   ]
  },
  {
   "cell_type": "code",
   "execution_count": null,
   "id": "e015f1fb-a1fc-4808-9e2a-8f982122f707",
   "metadata": {},
   "outputs": [],
   "source": [
    "# Assert\n",
    "[ \"$(cat hello.txt)\" == \"hello second local\" ]; echo $?;"
   ]
  },
  {
   "cell_type": "code",
   "execution_count": null,
   "id": "8839a602-831b-44de-b6f9-f2d79066a708",
   "metadata": {},
   "outputs": [],
   "source": [
    "# Setup\n",
    "# adding changes to not be able to pull\n",
    "command cd \"$TMPB\"\n",
    "echo \"second change\" > hello2.txt\n",
    "git add . ; git commit -m \"second commit\"; git push \n",
    "\n",
    "command \"$TMP\"\n",
    "echo \"second line\" >> hello.txt\n"
   ]
  },
  {
   "cell_type": "code",
   "execution_count": null,
   "id": "b773fcd2-c5ed-42d4-8ca6-46353e405730",
   "metadata": {},
   "outputs": [],
   "source": [
    "# Should fail\n",
    "git-update-plus"
   ]
  },
  {
   "cell_type": "code",
   "execution_count": null,
   "id": "3e8c4f3c-0b58-4a68-b2a4-32b03e46d054",
   "metadata": {},
   "outputs": [],
   "source": [
    "# git-update-force test \n",
    "# should pull\n",
    "git-update-force"
   ]
  },
  {
   "cell_type": "code",
   "execution_count": null,
   "id": "11ef9fdb-2f90-49fd-8550-595995b21be0",
   "metadata": {},
   "outputs": [],
   "source": [
    "#assert\n",
    "[ \"$(cat hello2.txt)\" == \"second change\" ]; echo $?;"
   ]
  },
  {
   "cell_type": "code",
   "execution_count": null,
   "id": "64e1cc7e-1771-4fe5-a7d0-95b53adccc07",
   "metadata": {},
   "outputs": [],
   "source": [
    "#git-commit-and-push test\n",
    "echo \"pushed\" > push.txt\n",
    "git status"
   ]
  },
  {
   "cell_type": "code",
   "execution_count": null,
   "id": "ef603a0e-c057-4957-9a1b-5bc8c4385d8d",
   "metadata": {},
   "outputs": [],
   "source": [
    "export GIT_MESSAGE=\"hello\"\n",
    "previous=$GIT_NO_CONFIRM\n",
    "export GIT_NO_CONFIRM=\"1\"\n",
    "git-commit-and-push push.txt"
   ]
  },
  {
   "cell_type": "code",
   "execution_count": null,
   "id": "927d226a-bb68-4120-8078-6a6af0766e28",
   "metadata": {},
   "outputs": [],
   "source": [
    "command cd \"$TMPB\"\n",
    "git pull"
   ]
  },
  {
   "cell_type": "code",
   "execution_count": null,
   "id": "2ac0b1dd-2364-4259-a912-fb3527444a6a",
   "metadata": {},
   "outputs": [],
   "source": [
    "#assert\n",
    "[ \"$(cat push.txt)\" == \"pushed\" ]; echo $?;"
   ]
  },
  {
   "cell_type": "code",
   "execution_count": null,
   "id": "da6aef2f-5e07-4c9d-97bb-d8df6ed6f172",
   "metadata": {},
   "outputs": [],
   "source": [
    "# undo changes and remove newly created files\n",
    "\n",
    "# TODO2:\n",
    "## also, converting unique ID's to codes like temp-git-test/.git/objects/pack/pack-HEX.idx\n",
    "## EX: cat $log | perl -pe 's/\\b[0-9]+\\b/NUM/g; s/\\b[a-f0-9]+\\b/HEX/g;'\n",
    "rm -f *.txt > /dev/null\n",
    "git rm -f *.txt > /dev/null\n",
    "git add . > /dev/null\n",
    "git commit -m \"cleanup test files\"\n",
    "git push"
   ]
  },
  {
   "cell_type": "code",
   "execution_count": null,
   "id": "cd048009-fc11-4e25-9f9d-86828662f5fd",
   "metadata": {},
   "outputs": [],
   "source": [
    "# delete test local repos\n",
    "\n",
    "command cd \"/tmp\"\n",
    "rm -rf temp-git-test > /dev/null\n",
    "rm -rf temp-git-test-B > /dev/null\n",
    "export GIT_NO_CONFIRM=$previous\n",
    "\n"
   ]
  }
 ],
 "metadata": {
  "kernelspec": {
   "display_name": "Bash",
   "language": "bash",
   "name": "bash"
  },
  "language_info": {
   "codemirror_mode": "shell",
   "file_extension": ".sh",
   "mimetype": "text/x-sh",
   "name": "bash"
  }
 },
 "nbformat": 4,
 "nbformat_minor": 5
}
