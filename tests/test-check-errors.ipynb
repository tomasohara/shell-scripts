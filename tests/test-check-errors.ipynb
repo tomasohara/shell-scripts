{
 "cells": [
  {
   "cell_type": "code",
   "execution_count": 1,
   "id": "a8eacedb",
   "metadata": {
    "scrolled": true
   },
   "outputs": [],
   "source": [
    "## Bracketed Paste is disabled to prevent characters after output\n",
    "## Example: \n",
    "## $ echo 'Hi'\n",
    "## | Hi?2004l\n",
    "\n",
    "# bind 'set enable-bracketed-paste off'"
   ]
  },
  {
   "cell_type": "code",
   "execution_count": 2,
   "id": "ab1de4e1",
   "metadata": {},
   "outputs": [
    {
     "name": "stdout",
     "output_type": "stream",
     "text": [
      "[PEXP\\[\\]ECT_PROMPT>\n"
     ]
    }
   ],
   "source": [
    "## TEST:  Make sure simple prompt used (e.g., no escapes that might contaminate output)\n",
    "## PS1=\"$ \"\n",
    "## TODO: PS1=\"> \"\n",
    "\n",
    "## NOTE: The Jupyter bash kernel requires that PS1 not be modified as they customize it. \n",
    "echo $PS1"
   ]
  },
  {
   "cell_type": "code",
   "execution_count": 3,
   "id": "f2fdf1c6",
   "metadata": {},
   "outputs": [],
   "source": [
    "# Delete all aliases and function\n",
    "# TODO: Instead start from pristine environment\n",
    "unalias -a\n",
    "for f in $(typeset -f | egrep '^\\w+'); do unset -f $f; done\n",
    "BIN_DIR=$PWD/..\n"
   ]
  },
  {
   "cell_type": "code",
   "execution_count": 4,
   "id": "d1c92493",
   "metadata": {},
   "outputs": [],
   "source": [
    "# Setting a temp directory for tests\n",
    "TMP=/tmp/test-check-errors\n",
    "\n",
    "## NOTE: Source it directly from the ./tests directory.\n",
    "BIN_DIR=$PWD/.."
   ]
  },
  {
   "cell_type": "code",
   "execution_count": 5,
   "id": "da176b40",
   "metadata": {},
   "outputs": [
    {
     "name": "stdout",
     "output_type": "stream",
     "text": [
      "/tmp/test-check-errors/test-2334\n"
     ]
    }
   ],
   "source": [
    "temp_dir=$TMP/test-2334\n",
    "\n",
    "mkdir -p \"$temp_dir\"\n",
    "# TODO: /bin/rm -rvf \"$temp_dir\"\n",
    "cd \"$temp_dir\"\n",
    "pwd\n",
    "\n",
    "#ALIAS FOR PRINTING SEPERATION LINES (FOR JUPYTER)\n",
    "alias linebr=\"printf '%*s\\n' \"${COLUMNS:-$(tput cols)}\" '' | tr ' ' -\""
   ]
  },
  {
   "cell_type": "code",
   "execution_count": 6,
   "id": "eb29a5b2",
   "metadata": {},
   "outputs": [],
   "source": [
    "alias testnum=\"sed -r \"s/[0-9]/X/g\"\" \n",
    "alias testuser=\"sed -r \"s/\"$USER\"+/user/g\"\""
   ]
  },
  {
   "cell_type": "code",
   "execution_count": 7,
   "id": "9de59cca",
   "metadata": {
    "scrolled": true
   },
   "outputs": [
    {
     "name": "stdout",
     "output_type": "stream",
     "text": [
      "/tmp/test-check-errors/test-2334\n"
     ]
    }
   ],
   "source": [
    "pwd | testuser"
   ]
  },
  {
   "cell_type": "code",
   "execution_count": 8,
   "id": "9abcb30c",
   "metadata": {
    "scrolled": true
   },
   "outputs": [
    {
     "name": "stdout",
     "output_type": "stream",
     "text": [
      "usage: check_errors.py [-h] [--warning] [--warnings] [--skip_warnings]\n",
      "                       [--no_asterisks] [--ruby] [--skip_ruby_lib] [--relaxed]\n",
      "                       [--strict] [--verbose] [--context CONTEXT]\n",
      "                       [filename]\n",
      "\n",
      "Scan the error log for errors, warnings and other suspicious results.\n",
      "This prints the offending line bracketted by >>> and <<< along with N\n",
      "lines before and after to provide context.\n",
      "\n",
      "ex: check_errors.py whatever\n",
      "\n",
      "Notes:\n",
      "\n",
      "- The default context is 1\n",
      "\n",
      "- Warnings are skipped by default\n",
      "\n",
      "- Use -no_astericks if input uses ***'s outside of error contexts\n",
      "\n",
      "Use -relaxed to exclude special cases (e.g., xyz='error')\n",
      "\n",
      "positional arguments:\n",
      "  filename           Input filename\n",
      "\n",
      "options:\n",
      "  -h, --help         show this help message and exit\n",
      "  --warning          alias for -warnings\n",
      "  --warnings         include warnings?\n",
      "  --skip_warnings    omit warnings?\n",
      "  --no_asterisks     skip warnings for \"***\" in text\n",
      "  --ruby             alias for -skip_ruby_lib\n",
      "  --skip_ruby_lib    skip Ruby library related errors\n",
      "  --relaxed          relaxed for special cases\n",
      "  --strict           alias for relaxed=0\n",
      "  --verbose          show more details\n",
      "  --context CONTEXT  context lines before and after\n",
      "\n",
      "Notes: \n",
      "- Use - for filename to skip usage (i.e., a la stdin).\n",
      "- Use \"ENV1='v1' ENV2='v2' python .../check_errors.py ...\" for environment options.\n"
     ]
    }
   ],
   "source": [
    "check_errors.py"
   ]
  },
  {
   "cell_type": "code",
   "execution_count": 9,
   "id": "f965b950",
   "metadata": {},
   "outputs": [],
   "source": [
    "pip3 install mezcla | testnum > /dev/null"
   ]
  },
  {
   "cell_type": "code",
   "execution_count": 10,
   "id": "91d951af",
   "metadata": {},
   "outputs": [
    {
     "name": "stdout",
     "output_type": "stream",
     "text": [
      "usage: check_errors.py [-h] [--warning] [--warnings] [--skip_warnings]\n",
      "                       [--no_asterisks] [--ruby] [--skip_ruby_lib] [--relaxed]\n",
      "                       [--strict] [--verbose] [--context CONTEXT]\n",
      "                       [filename]\n",
      "\n",
      "Scan the error log for errors, warnings and other suspicious results.\n",
      "This prints the offending line bracketted by >>> and <<< along with N\n",
      "lines before and after to provide context.\n",
      "\n",
      "ex: check_errors.py whatever\n",
      "\n",
      "Notes:\n",
      "\n",
      "- The default context is 1\n",
      "\n",
      "- Warnings are skipped by default\n",
      "\n",
      "- Use -no_astericks if input uses ***'s outside of error contexts\n",
      "\n",
      "Use -relaxed to exclude special cases (e.g., xyz='error')\n",
      "\n",
      "positional arguments:\n",
      "  filename           Input filename\n",
      "\n",
      "options:\n",
      "  -h, --help         show this help message and exit\n",
      "  --warning          alias for -warnings\n",
      "  --warnings         include warnings?\n",
      "  --skip_warnings    omit warnings?\n",
      "  --no_asterisks     skip warnings for \"***\" in text\n",
      "  --ruby             alias for -skip_ruby_lib\n",
      "  --skip_ruby_lib    skip Ruby library related errors\n",
      "  --relaxed          relaxed for special cases\n",
      "  --strict           alias for relaxed=0\n",
      "  --verbose          show more details\n",
      "  --context CONTEXT  context lines before and after\n",
      "\n",
      "Notes: \n",
      "- Use - for filename to skip usage (i.e., a la stdin).\n",
      "- Use \"ENV1='v1' ENV2='v2' python .../check_errors.py ...\" for environment options.\n"
     ]
    }
   ],
   "source": [
    "check_errors.py"
   ]
  },
  {
   "cell_type": "code",
   "execution_count": 11,
   "id": "5705f9dd",
   "metadata": {},
   "outputs": [],
   "source": [
    "# python3 $BIN_DIR/check_errors.py ./test_check_errors.py\n",
    "# # Error: TypeError: 'NoneType' object is not iterable"
   ]
  },
  {
   "cell_type": "code",
   "execution_count": 12,
   "id": "3ff3937e",
   "metadata": {},
   "outputs": [],
   "source": [
    "# check_errors.py ./test_check_errors.py --verbose\n",
    "# # Error: TypeError: 'NoneType' object is not iterable"
   ]
  },
  {
   "cell_type": "code",
   "execution_count": 13,
   "id": "46dcd2c5",
   "metadata": {},
   "outputs": [
    {
     "name": "stdout",
     "output_type": "stream",
     "text": [
      "usage: check_errors.py [-h] [--warning] [--warnings] [--skip_warnings]\n",
      "                       [--no_asterisks] [--ruby] [--skip_ruby_lib] [--relaxed]\n",
      "                       [--strict] [--verbose] [--context CONTEXT]\n",
      "                       [filename]\n",
      "\n",
      "Scan the error log for errors, warnings and other suspicious results.\n",
      "This prints the offending line bracketted by >>> and <<< along with N\n",
      "lines before and after to provide context.\n",
      "\n",
      "ex: check_errors.py whatever\n",
      "\n",
      "Notes:\n",
      "\n",
      "- The default context is 1\n",
      "\n",
      "- Warnings are skipped by default\n",
      "\n",
      "- Use -no_asterisks if input uses ***'s outside of error contexts\n",
      "\n",
      "Use -relaxed to exclude special cases (e.g., xyz='error')\n",
      "\n",
      "positional arguments:\n",
      "  filename           Input filename\n",
      "\n",
      "options:\n",
      "  -h, --help         show this help message and exit\n",
      "  --warning          alias for -warnings\n",
      "  --warnings         include warnings?\n",
      "  --skip_warnings    omit warnings?\n",
      "  --no_asterisks     skip warnings for \"***\" in text\n",
      "  --ruby             alias for -skip_ruby_lib\n",
      "  --skip_ruby_lib    skip Ruby library related errors\n",
      "  --relaxed          relaxed for special cases\n",
      "  --strict           alias for relaxed=0\n",
      "  --verbose          show more details\n",
      "  --context CONTEXT  context lines before and after\n",
      "\n",
      "Notes: \n",
      "- Use - for filename to skip usage (i.e., a la stdin).\n",
      "- Use \"ENV1='v1' ENV2='v2' python .../check_errors.py ...\" for environment options.\n"
     ]
    }
   ],
   "source": [
    "python3 $BIN_DIR/check_errors.py -h"
   ]
  },
  {
   "cell_type": "code",
   "execution_count": 14,
   "id": "e73248ec",
   "metadata": {},
   "outputs": [],
   "source": [
    "# check_errors.py ./test_extract_matches.py --verbose | testuser\n",
    "# # Error: TypeError: 'NoneType' object is not iterable"
   ]
  },
  {
   "cell_type": "code",
   "execution_count": 15,
   "id": "51a64432",
   "metadata": {},
   "outputs": [],
   "source": [
    "# check_errors.py --warning ./test_extract_matches.py | testuser | testnum\n",
    "# # Error: TypeError: 'NoneType' object is not iterable"
   ]
  },
  {
   "cell_type": "code",
   "execution_count": 16,
   "id": "16dbbf36",
   "metadata": {},
   "outputs": [],
   "source": [
    "# EXPECTED OUTPUT FOR ABOVE COMMAND \n",
    "\n",
    "# Processing input\n",
    "# 26           def test_python_error(self):\n",
    "# 27               \"\"\"check python error\"\"\"\n",
    "# 28               input_string    = 'python -c \"print(1\\\\2)\" 2>&1'\n",
    "# 29   >>>         expected_result = '1          File \"<string>\", line 1\\n2            print(1\\\\2)\\n3                     ^\\n4    >>> SyntaxError: unexpected character after line continuation character <<<' <<<\n",
    "# 30               self.assertEqual(gh.run(f'{input_string} | {SCRIPT} -'), expected_result)\n",
    "# 31       \n",
    "# 32       \n",
    "\n",
    "# 48           def test_context_lines(self):\n",
    "# 49               \"\"\"test context lines\"\"\"\n",
    "# 50               input_string     = 'python -c \"print(1\\\\2)\" 2>&1'\n",
    "# 51   >>>         result_context_1 = '3                     ^\\n4    >>> SyntaxError: unexpected character after line continuation character <<<' <<<\n",
    "# 52   >>>         result_context_2 = '2            print(1\\\\2)\\n3                     ^\\n4    >>> SyntaxError: unexpected character after line continuation character <<<' <<<\n",
    "# 53               self.assertEqual(gh.run(f'{input_string} | {SCRIPT} --context 1 -'), result_context_1)\n",
    "# 54               self.assertEqual(gh.run(f'{input_string} | {SCRIPT} --context 2 -'), result_context_2)\n",
    "# 55 "
   ]
  },
  {
   "cell_type": "code",
   "execution_count": 17,
   "id": "664a28ac",
   "metadata": {
    "scrolled": false
   },
   "outputs": [],
   "source": [
    "# # WORKS FOR test_check_errors.py\n",
    "\n",
    "# # WORKS FINE (ERROR PRONE ON BATSPP)\n",
    "# # $ python3 $BIN_DIR/check_errors.py --warning ./test_check_errors.py\n",
    "# check_errors.py --warning ./test_check_errors.py | testuser | testnum\n",
    "\n",
    "# # Error: TypeError: 'NoneType' object is not iterable"
   ]
  },
  {
   "cell_type": "code",
   "execution_count": null,
   "id": "45202c4b",
   "metadata": {},
   "outputs": [],
   "source": []
  },
  {
   "cell_type": "code",
   "execution_count": null,
   "id": "31b643d2",
   "metadata": {},
   "outputs": [],
   "source": []
  }
 ],
 "metadata": {
  "kernelspec": {
   "display_name": "Bash",
   "language": "bash",
   "name": "bash"
  },
  "language_info": {
   "codemirror_mode": "shell",
   "file_extension": ".sh",
   "mimetype": "text/x-sh",
   "name": "bash"
  }
 },
 "nbformat": 4,
 "nbformat_minor": 5
}
