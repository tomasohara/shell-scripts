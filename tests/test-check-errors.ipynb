{
 "cells": [
  {
   "cell_type": "code",
   "execution_count": 1,
   "id": "a8eacedb",
   "metadata": {
    "scrolled": true
   },
   "outputs": [],
   "source": [
    "## Bracketed Paste is disabled to prevent characters after output\n",
    "## Example: \n",
    "## $ echo 'Hi'\n",
    "## | Hi?2004l\n",
    "\n",
    "# bind 'set enable-bracketed-paste off'"
   ]
  },
  {
   "cell_type": "code",
   "execution_count": 2,
   "id": "ab1de4e1",
   "metadata": {},
   "outputs": [
    {
     "name": "stdout",
     "output_type": "stream",
     "text": [
      "PROMPT_NSGMXBMINMVZ\\[\\]>\n"
     ]
    }
   ],
   "source": [
    "## TEST:  Make sure simple prompt used (e.g., no escapes that might contaminate output)\n",
    "## PS1=\"$ \"\n",
    "## TODO: PS1=\"> \"\n",
    "\n",
    "## NOTE: The Jupyter bash kernel requires that PS1 not be modified as they customize it. \n",
    "echo $PS1"
   ]
  },
  {
   "cell_type": "code",
   "execution_count": 3,
   "id": "f2fdf1c6",
   "metadata": {},
   "outputs": [],
   "source": [
    "## BAD (SUPER BAD)\n",
    "# # Delete all aliases and function\n",
    "# # TODO: Instead start from pristine environment\n",
    "# unalias -a\n",
    "# for f in $(typeset -f | egrep '^\\w+'); do unset -f $f; done\n",
    "# BIN_DIR=$PWD/..\n"
   ]
  },
  {
   "cell_type": "code",
   "execution_count": 4,
   "id": "d1c92493",
   "metadata": {},
   "outputs": [],
   "source": [
    "# Setting a temp directory for tests\n",
    "TMP=/tmp/test-check-errors\n",
    "\n",
    "## NOTE: Source it directly from the ./tests directory.\n",
    "BIN_DIR=$PWD/.."
   ]
  },
  {
   "cell_type": "code",
   "execution_count": 5,
   "id": "da176b40",
   "metadata": {},
   "outputs": [],
   "source": [
    "## OLD\n",
    "# temp_dir=$TMP/test-2334\n",
    "# mkdir -p \"$temp_dir\"\n",
    "# # TODO: /bin/rm -rvf \"$temp_dir\"\n",
    "# cd \"$temp_dir\"\n",
    "# pwd\n",
    "\n",
    "temp_dir=$TMP/test-2334\n",
    "trash_dir=$TMP/\"_temp-trash-$(date \"+%Y%m%d%H%M%S\")\"\n",
    "\n",
    "command mkdir -p \"$temp_dir\"\n",
    "command mkdir -p \"$trash_dir\"\n",
    "# TODO: /bin/rm -rvf \"$temp_dir\"\n",
    "command cd \"$temp_dir\"\n",
    "\n",
    "## OLD: Debug\n",
    "# command pwd\n",
    "\n",
    "## OLD\n",
    "## ALIAS FOR PRINTING SEPERATION LINES (FOR JUPYTER)\n",
    "# alias linebr=\"printf '%*s\\n' \"${COLUMNS:-$(tput cols)}\" '' | tr ' ' -\""
   ]
  },
  {
   "cell_type": "code",
   "execution_count": 6,
   "id": "eb29a5b2",
   "metadata": {},
   "outputs": [],
   "source": [
    "# Global Setup\n",
    "# alias testnum=\"sed -r \"s/[0-9]/X/g\"\" \n",
    "alias testuser=\"sed -r \"s/\"$USER\"+/user/g\"\"\n",
    "## For number of digits not being critical\n",
    "alias testnum=\"sed -r \"s/[0-9][0-9]*/N/g\"\""
   ]
  },
  {
   "cell_type": "code",
   "execution_count": 7,
   "id": "9de59cca",
   "metadata": {
    "scrolled": true
   },
   "outputs": [
    {
     "name": "stdout",
     "output_type": "stream",
     "text": [
      "/tmp/test-check-errors/test-2334\n"
     ]
    }
   ],
   "source": [
    "## OLD\n",
    "# command pwd | testuser\n",
    "command pwd"
   ]
  },
  {
   "cell_type": "code",
   "execution_count": 8,
   "id": "9abcb30c",
   "metadata": {
    "scrolled": true
   },
   "outputs": [
    {
     "name": "stdout",
     "output_type": "stream",
     "text": [
      "True\n"
     ]
    }
   ],
   "source": [
    "## TODO: Find a way to remove the full path \n",
    "# python $BIN_DIR/check_errors.py | grep -q \"ruby\" && echo \"True\" || echo \"False\" > /dev/null \n",
    "python $BIN_DIR/check_errors.py 2>&1 | grep -q \"ruby\" && echo \"True\" || echo \"False\" > /dev/null "
   ]
  },
  {
   "cell_type": "code",
   "execution_count": 9,
   "id": "f965b950",
   "metadata": {},
   "outputs": [
    {
     "name": "stdout",
     "output_type": "stream",
     "text": [
      "Defaulting to user installation because normal site-packages is not writeable\n",
      "Requirement already satisfied: mezcla in /home/aveey/.local/lib/python3.10/site-packages (1.3.9.6)\n"
     ]
    }
   ],
   "source": [
    "## OLD\n",
    "## pip3 install mezcla | testnum > /dev/null\n",
    "## Explicit approach (debian-like): pip3 install mezcla --break-system-packages > /dev/null\n",
    "pip3 install mezcla 2> /dev/null"
   ]
  },
  {
   "cell_type": "code",
   "execution_count": 10,
   "id": "1f464ae8",
   "metadata": {},
   "outputs": [
    {
     "name": "stdout",
     "output_type": "stream",
     "text": [
      "True\n"
     ]
    }
   ],
   "source": [
    "## NEW\n",
    "pip3 show mezcla | grep -q \"tomasohara@gmail.com\" && echo \"True\" || echo \"False\""
   ]
  },
  {
   "cell_type": "code",
   "execution_count": 11,
   "id": "91d951af",
   "metadata": {},
   "outputs": [],
   "source": [
    "## BAD\n",
    "# check_errors.py"
   ]
  },
  {
   "cell_type": "code",
   "execution_count": 12,
   "id": "5705f9dd",
   "metadata": {},
   "outputs": [],
   "source": [
    "# python3 $BIN_DIR/check_errors.py ./test_check_errors.py\n",
    "# # Error: TypeError: 'NoneType' object is not iterable"
   ]
  },
  {
   "cell_type": "code",
   "execution_count": 13,
   "id": "3ff3937e",
   "metadata": {},
   "outputs": [],
   "source": [
    "# check_errors.py ./test_check_errors.py --verbose\n",
    "# # Error: TypeError: 'NoneType' object is not iterable"
   ]
  },
  {
   "cell_type": "code",
   "execution_count": 14,
   "id": "46dcd2c5",
   "metadata": {},
   "outputs": [
    {
     "name": "stdout",
     "output_type": "stream",
     "text": [
      "True\n"
     ]
    }
   ],
   "source": [
    "## TODO: testuser doesn't work below\n",
    "## TODO: Find a way to remove the full path \n",
    "\n",
    "## OLD\n",
    "# python3 $BIN_DIR/check_errors.py -h | testuser\n",
    "\n",
    "python3 $BIN_DIR/check_errors.py -h 2>&1 | grep -q \"ruby\" && echo \"True\" || echo \"False\"\n",
    "## TODO: Remove the complete path (along with user) of the check_errors.py script"
   ]
  },
  {
   "cell_type": "code",
   "execution_count": 15,
   "id": "e73248ec",
   "metadata": {},
   "outputs": [],
   "source": [
    "## OLD\n",
    "# check_errors.py ./test_extract_matches.py --verbose | testuser\n",
    "## Error: TypeError: 'NoneType' object is not iterable\n",
    "\n",
    "## TODO: \n",
    "\n",
    "# command python3 $BIN_DIR/check_errors.py $BIN_DIR/tests/test_extract_matches.py --verbose | testuser\n",
    "\n",
    "python3 $BIN_DIR/check_errors.py $BIN_DIR/tests/test_extract_matches.py --verbose > test_extract_matches_verbose.out 2>&1"
   ]
  },
  {
   "cell_type": "code",
   "execution_count": 16,
   "id": "51a64432",
   "metadata": {},
   "outputs": [
    {
     "name": "stdout",
     "output_type": "stream",
     "text": [
      "False\n"
     ]
    }
   ],
   "source": [
    "# check_errors.py --warning ./test_extract_matches.py | testuser | testnum\n",
    "# # Error: TypeError: 'NoneType' object is not iterable\n",
    "\n",
    "cat test_extract_matches_verbose.out | grep -q \"Deleting any temporary files\" && echo \"True\" || echo \"False\""
   ]
  },
  {
   "cell_type": "code",
   "execution_count": 17,
   "id": "022992db",
   "metadata": {},
   "outputs": [
    {
     "name": "stdout",
     "output_type": "stream",
     "text": [
      "False\n"
     ]
    }
   ],
   "source": [
    "cat test_extract_matches_verbose.out | grep -q \"himom\" && echo \"True\" || echo \"False\""
   ]
  },
  {
   "cell_type": "code",
   "execution_count": 18,
   "id": "16dbbf36",
   "metadata": {},
   "outputs": [],
   "source": [
    "# EXPECTED OUTPUT FOR ABOVE COMMAND \n",
    "\n",
    "# Processing input\n",
    "# 26           def test_python_error(self):\n",
    "# 27               \"\"\"check python error\"\"\"\n",
    "# 28               input_string    = 'python -c \"print(1\\\\2)\" 2>&1'\n",
    "# 29   >>>         expected_result = '1          File \"<string>\", line 1\\n2            print(1\\\\2)\\n3                     ^\\n4    >>> SyntaxError: unexpected character after line continuation character <<<' <<<\n",
    "# 30               self.assertEqual(gh.run(f'{input_string} | {SCRIPT} -'), expected_result)\n",
    "# 31       \n",
    "# 32       \n",
    "\n",
    "# 48           def test_context_lines(self):\n",
    "# 49               \"\"\"test context lines\"\"\"\n",
    "# 50               input_string     = 'python -c \"print(1\\\\2)\" 2>&1'\n",
    "# 51   >>>         result_context_1 = '3                     ^\\n4    >>> SyntaxError: unexpected character after line continuation character <<<' <<<\n",
    "# 52   >>>         result_context_2 = '2            print(1\\\\2)\\n3                     ^\\n4    >>> SyntaxError: unexpected character after line continuation character <<<' <<<\n",
    "# 53               self.assertEqual(gh.run(f'{input_string} | {SCRIPT} --context 1 -'), result_context_1)\n",
    "# 54               self.assertEqual(gh.run(f'{input_string} | {SCRIPT} --context 2 -'), result_context_2)\n",
    "# 55"
   ]
  },
  {
   "cell_type": "code",
   "execution_count": 19,
   "id": "664a28ac",
   "metadata": {
    "scrolled": true
   },
   "outputs": [],
   "source": [
    "# # WORKS FOR test_check_errors.py\n",
    "\n",
    "# # WORKS FINE (ERROR PRONE ON BATSPP)\n",
    "# # $ python3 $BIN_DIR/check_errors.py --warning ./test_check_errors.py\n",
    "# check_errors.py --warning ./test_check_errors.py | testuser | testnum\n",
    "\n",
    "# # Error: TypeError: 'NoneType' object is not iterable\n",
    "## OLD\n",
    "# python $BIN_DIR/check_errors.py --warning $BIN_DIR/tests/test_check_errors.py > check_errors.output\n",
    "python $BIN_DIR/check_errors.py --warning $BIN_DIR/tests/test_check_errors.py > check_errors.output 2>&1"
   ]
  },
  {
   "cell_type": "code",
   "execution_count": 20,
   "id": "b200bada",
   "metadata": {},
   "outputs": [
    {
     "name": "stdout",
     "output_type": "stream",
     "text": [
      "True\n"
     ]
    }
   ],
   "source": [
    "cat check_errors.output | grep -q \"test_python_error\" && echo \"True\" || echo \"False\""
   ]
  },
  {
   "cell_type": "code",
   "execution_count": 21,
   "id": "f8a387ac",
   "metadata": {},
   "outputs": [],
   "source": [
    "# BAD: /bin/rm -rf $temp_dir > /dev/null\n",
    "command mv -f * \"$trash_dir\""
   ]
  }
 ],
 "metadata": {
  "kernelspec": {
   "display_name": "Bash",
   "language": "bash",
   "name": "bash"
  },
  "language_info": {
   "codemirror_mode": "shell",
   "file_extension": ".sh",
   "mimetype": "text/x-sh",
   "name": "bash"
  }
 },
 "nbformat": 4,
 "nbformat_minor": 5
}
