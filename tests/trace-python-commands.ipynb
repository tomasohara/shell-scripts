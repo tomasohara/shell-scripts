{
 "cells": [
  {
   "cell_type": "code",
   "execution_count": 1,
   "id": "6cc6dd0b-d935-4918-a02a-dff0b8c92b77",
   "metadata": {},
   "outputs": [],
   "source": [
    "# Test python related aliases\n",
    "#\n",
    "## NOTE: I fixed most of the tests and left old versions as OLD or BAD--Tom\n",
    "## TODO2: cleanup up the test (e.g., remove old comments)\n",
    "## TODO1: split multi-part tests that use linebr: see curl example at end for details"
   ]
  },
  {
   "cell_type": "code",
   "execution_count": 2,
   "id": "914d42a9-da83-4954-b105-2d82994dd064",
   "metadata": {},
   "outputs": [],
   "source": [
    "# *** Note: pro tips ***\n",
    "# - See randomize-datafile for new preferred way of preparing tests.\n",
    "# - See README.ipynb for more details.\n",
    "# - See the new \"poster child\" json-related-alias.ipynb for other examples.\n",
    "# - Use operators group for testing user and run that account (e.g., testuser)."
   ]
  },
  {
   "cell_type": "code",
   "execution_count": 3,
   "id": "177c9e8b-7d60-48a9-b5ae-f58c8732e1cb",
   "metadata": {},
   "outputs": [
    {
     "name": "stdout",
     "output_type": "stream",
     "text": [
      "testuser\n",
      "testuser operator docker\n"
     ]
    }
   ],
   "source": [
    "# Setup\n",
    "# Show user groups\n",
    "(whoami; groups)"
   ]
  },
  {
   "cell_type": "code",
   "execution_count": 4,
   "id": "6e085f64-e505-458b-af13-9d46d12913cc",
   "metadata": {},
   "outputs": [],
   "source": [
    "# Warn if user not in operators group\n",
    "# note: The bash kernel restarts, \n",
    "is_operator=$(groups | grep -c operator)\n",
    "if [ $is_operator -eq 0 ]; then\n",
    "    echo \"*** Warning: should be run as operator ***\" 1>&2\n",
    "fi"
   ]
  },
  {
   "cell_type": "code",
   "execution_count": 5,
   "id": "76e3d870-b4e7-457e-af7b-bcd0beb5f74c",
   "metadata": {},
   "outputs": [],
   "source": [
    "# Setup\n",
    "# Abort if user in admin-like group unless FORCE_RUN env var set\n",
    "# note: The bash kernel restarts, so this \n",
    "# TODO1: * add script for use here and in batspp_report.py!\n",
    "force_run=\"${FORCE_RUN:-0}\"\n",
    "is_admin=$(groups $USER | egrep -c \"root|admin|adm\")\n",
    "jupyter_session=${JPY_SESSION_NAME:-\"\"}\n",
    "## DEBUG: trace-vars force_run is_admin jupyter_session\n",
    "if [ $is_admin -eq 1 ]; then\n",
    "    if [ \"$force_run\" == \"0\" ]; then\n",
    "        echo \"*** Error: should not be run as operator unless FORCE_RUN ***\" 1>&2\n",
    "        if [ \"$jupyter_session\" != \"\" ]; then\n",
    "            exit\n",
    "        fi\n",
    "    fi\n",
    "    echo \"FYI: not recommended to run under admin account\"\n",
    "fi"
   ]
  },
  {
   "cell_type": "code",
   "execution_count": 6,
   "id": "79248c1c-7d65-46c3-abbd-7fecb18e4073",
   "metadata": {},
   "outputs": [],
   "source": [
    "# Setup (OPTIONAL - USED IF NEEDED)\n",
    "## bind 'set enable-bracketed-paste off'"
   ]
  },
  {
   "cell_type": "code",
   "execution_count": 7,
   "id": "65d43538",
   "metadata": {},
   "outputs": [],
   "source": [
    "## OLD\n",
    "## ## TEST:  Make sure simple prompt used (e.g., no escapes that might contaminate output)\n",
    "## ## PS1=\"$ \"\n",
    "## ## TODO: PS1=\"> \"\"\n",
    "## ## NOTE: The Jupyter bash kernel requires that PS1 not be modified as they customize it. \n",
    "## echo $PS1"
   ]
  },
  {
   "cell_type": "code",
   "execution_count": 8,
   "id": "1da73b27",
   "metadata": {},
   "outputs": [],
   "source": [
    "## BAD (SUPER BAD)\n",
    "\n",
    "## # Delete all aliases and function\n",
    "## # TODO: Instead start from pristine environment\n",
    "## unalias -a\n",
    "## alias | wc -l\n",
    "## for f in $(typeset -f | egrep '^\\w+'); do unset -f $f; done\n",
    "## typeset -f | egrep '^\\w+' | wc -l"
   ]
  },
  {
   "cell_type": "code",
   "execution_count": 9,
   "id": "0ff8f157",
   "metadata": {},
   "outputs": [],
   "source": [
    "## OLD\n",
    "## ## NOTE: Source it directly from the ./tests directory.\n",
    "## # Setting a temp directory for tests\n",
    "## TMP=/tmp/test-py-commands\n",
    "## BIN_DIR=$PWD/..\n",
    "## ## You will need to run jupyter from that directory.\n",
    "## ## source $TEMP_BIN/_dir-aliases.bash\n",
    "## alias | wc -l"
   ]
  },
  {
   "cell_type": "code",
   "execution_count": 10,
   "id": "ab954c7f",
   "metadata": {},
   "outputs": [
    {
     "name": "stdout",
     "output_type": "stream",
     "text": [
      "renamed '/home/testuser/temp/tmp/trace-python-commands' -> '/home/testuser/temp/tmp/trace-python-commands.03Feb24.11'\n",
      "/home/testuser/temp/tmp/trace-python-commands\n"
     ]
    }
   ],
   "source": [
    "# Global Setup\n",
    "##\n",
    "## BAD: BIN_DIR=$PWD/..\n",
    "## NOTE: $PWD is the temporary test dir, such as following:\n",
    "##    /home/testuser/temp/tmp/batspp/tmp_subprocess_/global-test-dir\n",
    "## TODO2: make use the following in the other tests as well (see tomohara-aliases.bash)\n",
    "BIN_DIR=$TOM_BIN\n",
    "##\n",
    "## NOTE: For reproducability, the directory name needs to be fixed\n",
    "## In place of $$, use a psuedo random number (e,g., 7766)\n",
    "## *** All output from one run to the next needs to be the same ***\n",
    "\n",
    "## OLD:\n",
    "## if [ \"$DEBUG_LEVEL\" -lt 4 ]; then \n",
    "##     TMP=/tmp/trace-python-commands; \n",
    "##     # note: a little redundancy is to avoid a lot of catastrophe!\n",
    "##     /bin/rm -rf /tmp/trace-python-commands/*;\n",
    "## fi\n",
    "## ## temp_dir=$TMP/test-$$\n",
    "## temp_dir=$TMP/test-7766\n",
    "##\n",
    "\n",
    "TMP=${TMP:-/tmp}\n",
    "temp_dir=$TMP/trace-python-commands\n",
    "rename-with-file-date \"$temp_dir\"\n",
    "\n",
    "mkdir -p \"$temp_dir\"\n",
    "\n",
    "## BAD: # TODO: /bin/rm -rvf \"$temp_dir\"\n",
    "## NOTE: do not use rm without explicit base to avoid inadvertent deletions!\n",
    "## ALSO: in addition, tests can be reworked so that deletion not needed (e.g., using distinct subdir)\n",
    "\n",
    "## OLD: cd \"$temp_dir\"\n",
    "command cd \"$temp_dir\"\n",
    "pwd\n",
    "\n",
    "#ALIAS FOR PRINTING SEPERATION LINES (FOR JUPYTER)\n",
    "alias linebr=\"printf '%*s\\n' \"${COLUMNS:-$(tput cols)}\" '' | tr ' ' -\""
   ]
  },
  {
   "cell_type": "code",
   "execution_count": 11,
   "id": "bb14e4df",
   "metadata": {},
   "outputs": [],
   "source": [
    "# Global Setup\n",
    "alias testuser=\"sed -r \"s/\"$USER\"+/userxf333/g\"\"\n",
    "alias testnum=\"sed -r \"s/[0-9]/N/g\"\"\n",
    "## BAD: alias linebr=\"printf '%*s\\n' \"${COLUMNS:-$(tput cols)}\" '' | tr ' ' -\"\n",
    "## NOTE: COLUMNS based on size of terminal invoking jupyter\n",
    "alias linebr=\"printf '%132s\\n' ' ' | tr ' ' '-'\"\n",
    "# alias testmonth=\"sed -r \"s/['Jan','Feb','Mar','Apr','May','Jun','Jul','Aug','Sep','Oct','Nov','Dec']/M/g\"\"\n",
    "#\n",
    "# NOTE: filter outs escape sequences for colors (TODO4: put above)\n",
    "# See git-aliases-tests-2.ipynb for other usages.\n",
    "alias remove-control-chars='perl -pe \"s/\\t/<tab>/g;  s/[\\x00-\\x08\\x11\\x31]//g;\"'"
   ]
  },
  {
   "cell_type": "code",
   "execution_count": 12,
   "id": "a918c4f3",
   "metadata": {},
   "outputs": [],
   "source": [
    "## BAD: source $BIN_DIR/tomohara-aliases.bash"
   ]
  },
  {
   "cell_type": "code",
   "execution_count": 13,
   "id": "0359b346",
   "metadata": {},
   "outputs": [],
   "source": [
    "# Setup\n",
    "## OLD (put expected output comments before command--Batspp quirk)\n",
    "## ps-python-full | wc -l | testnum\n",
    "# Sample Output: 23\n",
    "## BAD: ps-python-full | wc -l | testnum\n",
    "## NOTE: this differs based on running processes\n",
    "full=$(ps-python-full | wc -l)"
   ]
  },
  {
   "cell_type": "code",
   "execution_count": 14,
   "id": "e7d436e5",
   "metadata": {},
   "outputs": [
    {
     "name": "stdout",
     "output_type": "stream",
     "text": [
      "0\n"
     ]
    }
   ],
   "source": [
    "# Make sure fewer processes shown with regular ps-python\n",
    "## OLD: ps-python | wc -l | testnum\n",
    "# Sample Output: 22\n",
    "## BAD: ps-python | wc -l | testnum\n",
    "regular=$(ps-python | wc -l)\n",
    "[ $regular -lt $full ]; echo $?"
   ]
  },
  {
   "cell_type": "code",
   "execution_count": 66,
   "id": "3c7a4a1d-83ec-4bb0-9556-7abc80e3a5e5",
   "metadata": {},
   "outputs": [],
   "source": [
    "## DEBUG:\n",
    "## show-python-path | head -4"
   ]
  },
  {
   "cell_type": "code",
   "execution_count": 16,
   "id": "f7249c59-054a-4382-af5c-6119b323bff7",
   "metadata": {},
   "outputs": [
    {
     "name": "stdout",
     "output_type": "stream",
     "text": [
      "PYTHONPATH:\n"
     ]
    }
   ],
   "source": [
    "# show-python-path DISPLAYS ALL THE AVAILABLE PATHS OF PYTHON\n",
    "## OLD: show-python-path | testuser\n",
    "show-python-path 2>&1 | head -1"
   ]
  },
  {
   "cell_type": "code",
   "execution_count": 64,
   "id": "17e83d2a-cf5c-48bd-b4d2-302b4b0a140c",
   "metadata": {},
   "outputs": [
    {
     "name": "stdout",
     "output_type": "stream",
     "text": [
      "1\n"
     ]
    }
   ],
   "source": [
    "# Mezcla should be in the path\n",
    "show-python-path | sort -u | grep -c 'mezcla'"
   ]
  },
  {
   "cell_type": "code",
   "execution_count": 18,
   "id": "bbb90e81-74ac-4634-a9d2-0b632d824bf4",
   "metadata": {},
   "outputs": [
    {
     "name": "stdout",
     "output_type": "stream",
     "text": [
      "NN\n"
     ]
    }
   ],
   "source": [
    "# function python-lint() { python-lint-work \"$@\" 2>&1 | $EGREP -v '(Exactly one space required)|\\((bad-continuation|bad-whitespace|bad-indentation|bare-except|c-extension-no-member|consider-using-enumerate|consider-using-with|global-statement|global-variable-not-assigned|keyword-arg-before-vararg|len-as-condition|line-too-long|logging-not-lazy|misplaced-comparison-constant|missing-final-newline|redefined-variable-type|redundant-keyword-arg|superfluous-parens|too-many-arguments|too-many-instance-attributes|trailing-newlines|useless-\\S+|wrong-import-order|wrong-import-position)\\)' | $PAGER; }\n",
    "## OLD: python-lint os | testnum | testuser\n",
    "## BAD: python-lint os | head | testnum | testuser\n",
    "python-lint os | grep -c Redefining | testnum"
   ]
  },
  {
   "cell_type": "code",
   "execution_count": 19,
   "id": "5039b234",
   "metadata": {
    "scrolled": true
   },
   "outputs": [
    {
     "name": "stdout",
     "output_type": "stream",
     "text": [
      "0\n",
      "N\n"
     ]
    }
   ],
   "source": [
    "# Takes time for execution\n",
    "# TODO2: rework link test using small python program put in test resources dir (e.g., test/resources/bad_lint.py)\n",
    "## BAD: # function python-lint-work() { python-lint-full \"$@\" 2>&1 | $EGREP -v '\\((bad-continuation|bad-option-value|fixme|invalid-name|locally-disabled|too-few-public-methods|too-many-\\S+|trailing-whitespace|star-args|unnecessary-pass)\\)' | $EGREP -v '^(([A-Z]:[0-9]+)|(Your code has been rated)|(No config file found)|(\\-\\-\\-\\-\\-))' | $PAGER; }\n",
    "## BAD: python-lint-work os | head | testnum\n",
    "python-lint os | grep -c bare-except\n",
    "python-lint-work os | grep -c bare-except | testnum"
   ]
  },
  {
   "cell_type": "code",
   "execution_count": 65,
   "id": "cab9db0c",
   "metadata": {},
   "outputs": [
    {
     "name": "stdout",
     "output_type": "stream",
     "text": [
      "C0116:\n",
      "R1705:\n",
      "W0621:\n"
     ]
    }
   ],
   "source": [
    "# May take some time\n",
    "## OLD: python-lint os | testnum\n",
    "## BAD: python-lint os 2>&1 | head | testnum\n",
    "python-lint os 2>&1 | count-it \": (\\S+)\" | cut -f1 | head -3 | sort"
   ]
  },
  {
   "cell_type": "code",
   "execution_count": 21,
   "id": "207d98f0",
   "metadata": {},
   "outputs": [],
   "source": [
    "## NOTE (Skipped for now as a little too complicated)\n",
    "## TODO4: generate small test set of scripts and run\n",
    "## # ERROR: Pattern not found  (press RETURN)## run-python-lint-batched $BIN_DIR/tests/auto_batspp.py | testuser | testnum"
   ]
  },
  {
   "cell_type": "code",
   "execution_count": 22,
   "id": "6e4b2871",
   "metadata": {},
   "outputs": [],
   "source": [
    "## NOTE: skipped as too dangerous\n",
    "\n",
    "## REQUIRES setup.py (TBC)\n",
    "\n",
    "# python-setup-install\n",
    "# linebr\n",
    "# python-uninstall-setup"
   ]
  },
  {
   "cell_type": "code",
   "execution_count": 23,
   "id": "4a313b5a-c666-4890-9655-c6f9850bf653",
   "metadata": {},
   "outputs": [
    {
     "name": "stdout",
     "output_type": "stream",
     "text": [
      "0\n"
     ]
    }
   ],
   "source": [
    "# mezcla MODULE IS USED FOR TEST\n",
    "\n",
    "## BAD: python-import-path 'mezcla' | testnum\n",
    "python-import-path 'mezcla' | perl-grep -c \"matches \\S+/Mezcla/mezcla/__init__.py\"\n",
    "## OLD: linebr"
   ]
  },
  {
   "cell_type": "code",
   "execution_count": 24,
   "id": "dd9e32d2-2f31-4049-b0a1-4b65dd2df006",
   "metadata": {},
   "outputs": [
    {
     "name": "stdout",
     "output_type": "stream",
     "text": [
      "debug\t1\n",
      "glue_helpers\t1\n",
      "system\t1\n"
     ]
    }
   ],
   "source": [
    "## BAD: python-import-path-full 'mezcla' | testnum\n",
    "python-import-path-full 'mezcla' | count-it \"matches \\S+/(debug|glue_helpers|system).py\" | sort\n",
    "## OLD: linebr"
   ]
  },
  {
   "cell_type": "code",
   "execution_count": 25,
   "id": "c83d89b2-c550-4430-a770-50facaba14c3",
   "metadata": {},
   "outputs": [
    {
     "name": "stdout",
     "output_type": "stream",
     "text": [
      "NN\n"
     ]
    }
   ],
   "source": [
    "# WORKS WELL, SHOWS SOME ISSUES ON BATSPP 2.1.X\n",
    "## BAD: python-import-path-all 'mezcla' | grep mezcla | head -n 5 | testnum\n",
    "python-import-path-all 'mezcla' | grep -c mezcla | testnum"
   ]
  },
  {
   "cell_type": "code",
   "execution_count": 26,
   "id": "852d5ab4",
   "metadata": {},
   "outputs": [],
   "source": [
    "## OLD (doesn't testing any aliases):\n",
    "## # RETURNS A LIST OF PYTHON MODULES\n",
    "## ## BAD: rm -rf ./* > /dev/null\n",
    "## pip3 freeze | grep ipython | wc -l"
   ]
  },
  {
   "cell_type": "code",
   "execution_count": 27,
   "id": "e82509c6",
   "metadata": {},
   "outputs": [
    {
     "name": "stdout",
     "output_type": "stream",
     "text": [
      "N.N.N.N\n",
      "------------------------------------------------------------------------------------------------------------------------------------\n",
      "N.N.N.N\n",
      "------------------------------------------------------------------------------------------------------------------------------------\n",
      "['PYTHONN_PLUS', 'TL', '__VERSION__', '__all__', '__builtins__', '__cached__', '__doc__', '__file__', '__loader__', '__name__', '__package__', '__path__', '__spec__', '__version__', 'debug', 'gh', 'glue_helpers', 'my_re', 'my_regex', 'sys', 'system', 'tpo_common', 'version']\n",
      "------------------------------------------------------------------------------------------------------------------------------------\n"
     ]
    }
   ],
   "source": [
    "# MODULE USED: mezcla | sed filter replaces versin number with XX\n",
    "python-module-version-full mezcla | testnum\n",
    "linebr\n",
    "python-module-version mezcla | testnum\n",
    "linebr\n",
    "python-package-members mezcla | testnum\n",
    "linebr"
   ]
  },
  {
   "cell_type": "code",
   "execution_count": 28,
   "id": "caf8bfd0",
   "metadata": {},
   "outputs": [],
   "source": [
    "# ## rename-with-file-date REQUIRED\n",
    "# function rename-with-file-date() {\n",
    "#     local f new_f\n",
    "#     local move_command=\"move\"\n",
    "#     if [ \"$1\" = \"--copy\" ]; then\n",
    "\n",
    "#         move_command=\"command cp --interactive --verbose --preserve\"\n",
    "#         shift\n",
    "#     fi\n",
    "#     for f in \"$@\"; do\n",
    "    \n",
    "#         if [ -e \"$f\" ]; then\n",
    "#            new_f=$(get-free-filename \"$f\".$(date --reference=\"$f\" '+%d%b%y') \".\")\n",
    "\n",
    "#            eval \"$move_command\" \"$f\" \"$new_f\";\n",
    "#         fi\n",
    "#     done;\n",
    "\n",
    "# }\n",
    "\n",
    "# function get-free-filename() {\n",
    "#     local base=\"$1\"\n",
    "#     local sep=\"$2\"\n",
    "#     local L=1\n",
    "#     local filename=\"$base\"\n",
    "#     while [ -e \"$filename\" ]; do\n",
    "#         let L++\n",
    "#         filename=\"$base$sep$L\"\n",
    "#     done;\n",
    "#     echo \"$filename\"\n",
    "# }\n",
    "\n",
    "# alias move='mv'\n",
    "# export PAGER=less\n",
    "# export PAGER_CHOPPED=\"less -S\"\n",
    "# export PAGER_NOEXIT=\"less -+F\"\n",
    "# function zless () { zcat \"$@\" | $PAGER; }\n",
    "\n",
    "# function zhead () {\n",
    "#     local file=\"$1\"\n",
    "#     shift\n",
    "#     zcat \"$file\" | head \"$@\"\n",
    "# }\n",
    "\n",
    "# alias less-='$PAGER_NOEXIT'\n",
    "# alias less-clipped='$PAGER_NOEXIT -S'\n",
    "# alias less-tail='$PAGER_NOEXIT +G'\n",
    "# alias less-tail-clipped='$PAGER_NOEXIT +G -S'\n",
    "# alias ltc=less-tail-clipped"
   ]
  },
  {
   "cell_type": "code",
   "execution_count": 29,
   "id": "1912bb79-d984-4788-84d6-3759caf3383d",
   "metadata": {},
   "outputs": [],
   "source": [
    "## DEBUG:\n",
    "## pwd"
   ]
  },
  {
   "cell_type": "code",
   "execution_count": 30,
   "id": "30fc8ae2-fb50-4f19-908e-1178ef19776e",
   "metadata": {
    "scrolled": true
   },
   "outputs": [
    {
     "name": "stdout",
     "output_type": "stream",
     "text": [
      " 8 15 48\n"
     ]
    }
   ],
   "source": [
    "# Setup\n",
    "# BAD: printf \"THIS IS THE HEAD\\n1\\n2\\n3\\n4\\n5\\n6\\n7\\nTHIS IS THE TAIL.\" >> testless.txt\n",
    "printf \"THIS IS THE HEAD\\n1\\n2\\n3\\n4\\n5\\n6\\n7\\nTHIS IS THE TAIL.\" > testless.txt\n",
    "wc < testless.txt"
   ]
  },
  {
   "cell_type": "code",
   "execution_count": 31,
   "id": "d98b6d58",
   "metadata": {},
   "outputs": [
    {
     "name": "stdout",
     "output_type": "stream",
     "text": [
      "THIS IS THE HEAD\n",
      "N\n",
      "N\n",
      "N\n",
      "N\n",
      "N\n",
      "N\n",
      "N\n",
      "THIS IS THE TAIL.\n"
     ]
    }
   ],
   "source": [
    "## TODO3: remove testnum (as file contents are known)\n",
    "ltc testless.txt | testnum"
   ]
  },
  {
   "cell_type": "code",
   "execution_count": 32,
   "id": "93146b8d",
   "metadata": {},
   "outputs": [
    {
     "name": "stdout",
     "output_type": "stream",
     "text": [
      "THIS IS THE HEAD\n",
      "N\n",
      "N\n",
      "N\n",
      "N\n",
      "N\n",
      "N\n",
      "N\n",
      "THIS IS THE TAIL.\n"
     ]
    }
   ],
   "source": [
    "less-tail testless.txt | testnum"
   ]
  },
  {
   "cell_type": "code",
   "execution_count": 33,
   "id": "9dcb601f",
   "metadata": {},
   "outputs": [
    {
     "name": "stdout",
     "output_type": "stream",
     "text": [
      "THIS IS THE HEAD\n",
      "N\n",
      "N\n",
      "N\n",
      "N\n",
      "N\n",
      "N\n",
      "N\n",
      "THIS IS THE TAIL.\n"
     ]
    }
   ],
   "source": [
    "## TODO2: COLUMNS=5 less-tail-clipped testless.txt | testnum\n",
    "## NOTE: less seems to be ignoring COLUMNS\n",
    "less-tail-clipped testless.txt | testnum"
   ]
  },
  {
   "cell_type": "code",
   "execution_count": 34,
   "id": "8080d06d",
   "metadata": {},
   "outputs": [
    {
     "name": "stdout",
     "output_type": "stream",
     "text": [
      "THIS IS THE HEAD\n",
      "N\n",
      "N\n",
      "N\n",
      "N\n",
      "N\n",
      "N\n",
      "N\n",
      "THIS IS THE TAIL.\n"
     ]
    }
   ],
   "source": [
    "less-clipped testless.txt | testnum"
   ]
  },
  {
   "cell_type": "code",
   "execution_count": 35,
   "id": "b8c1c892",
   "metadata": {
    "scrolled": true
   },
   "outputs": [
    {
     "name": "stdout",
     "output_type": "stream",
     "text": [
      "THIS IS THE HEAD\n",
      "N\n",
      "N\n",
      "N\n",
      "N\n",
      "N\n",
      "N\n",
      "N\n",
      "THIS IS THE TAIL.\n"
     ]
    }
   ],
   "source": [
    "less- testless.txt | testnum"
   ]
  },
  {
   "cell_type": "code",
   "execution_count": null,
   "id": "488f8718-37d7-46e7-9b09-bb5ba822b55b",
   "metadata": {},
   "outputs": [],
   "source": [
    "## THIS PART IS SLOW IN EXECUTION\n",
    "\n",
    "## OLD: ipython --version | testuser | testnum\n",
    "## NOTE: garbage due to xterm title escapes\n",
    "command ipython --version | testuser | testnum\n",
    "## OLD: linebr"
   ]
  },
  {
   "cell_type": "code",
   "execution_count": null,
   "id": "0cc12ce8-2a70-4cc6-b31d-32f6a4b222fd",
   "metadata": {},
   "outputs": [],
   "source": [
    "# STATEMENT TRACING WORKS WELL / ISSUES WITH TESTUSER\n",
    "## BAD: python-trace l $BIN_DIR/tests/auto_batspp.py | testuser | testnum\n",
    "## NOTE: use head to speed up\n",
    "## BAD: python-trace python-trace $BIN_DIR//simple_batspp.py --help 2>&1 | head | testnum\n",
    "python-trace $BIN_DIR/template.py --help 2>&1 | head -5 | testnum"
   ]
  },
  {
   "cell_type": "code",
   "execution_count": 74,
   "id": "c0b6f931",
   "metadata": {},
   "outputs": [
    {
     "name": "stdout",
     "output_type": "stream",
     "text": [
      "NN\n"
     ]
    }
   ],
   "source": [
    "# which-python SHOWS THE PATH OF PYTHON\n",
    "#\n",
    "## OLD: which-python\n",
    "## TEST: wc < $(which-python) | testnum\n",
    "#\n",
    "# Make sure \"python\" occurs in file frequently\n",
    "# $ strings $(which-python) | grep -c python\n",
    "# 77\n",
    "#\n",
    "strings $(which-python) | grep -c python | testnum"
   ]
  },
  {
   "cell_type": "code",
   "execution_count": 38,
   "id": "2e0b2a50-1897-4828-aafc-e743b1b95a4f",
   "metadata": {},
   "outputs": [],
   "source": [
    "## DEBUG (not an alias from $BIN_DIR)\n",
    "# # #(ADDED FOR PYTHON3)\n",
    "## alias which-py3='which python3' \n",
    "## wc < $(which-py3) | testnum"
   ]
  },
  {
   "cell_type": "code",
   "execution_count": 39,
   "id": "218b4eda-a344-432e-a2cc-4bbe6003c61f",
   "metadata": {},
   "outputs": [],
   "source": [
    "## DEBUG:\n",
    "## pwd"
   ]
  },
  {
   "cell_type": "code",
   "execution_count": 40,
   "id": "cdd86ce9-6fb4-4c6f-98f8-e34d75f77942",
   "metadata": {},
   "outputs": [
    {
     "name": "stdout",
     "output_type": "stream",
     "text": [
      "NN% differences for template.py\n",
      "-N% differences for *.mako\n"
     ]
    }
   ],
   "source": [
    "## BAD: rm -rf ./* > /dev/null\n",
    "## OLD:\n",
    "## printf \"print('THIS IS A TEST')\" > atest.py\n",
    "## printf \"print('THIS IS A TEST')\" > xyz.py\n",
    "## printf \"print('THIS IS A TEST11')\" > abc1.py\n",
    "## OLD:\n",
    "## printf \"print('THIS IS A TEST\\n')\\n\" > atest.py\n",
    "## printf \"print('THIS IS A TEST\\n')\\n\" > xyz.py\n",
    "## printf \"print('THIS IS A TEST11\\n')\\n\" > abc1.py\n",
    "\n",
    "mkdir temp-dir\n",
    "grep debug $BIN_DIR/template.py > temp-dir/template.py\n",
    "command cp $BIN_DIR/__init__.py temp-dir\n",
    "\n",
    "# SHOWS ALL THE DIFFERENCES BETWEEN THE PYTHON SCRIPTS\n",
    "# WORKS FINE - HALTS TESTS\n",
    "\n",
    "## OLD: py-diff atest.py xyz.py | testuser | testnum | awk '!($6=\"\")'\n",
    "## TODO2: use cmd-trace to see what's going on behind the scenes;\n",
    "##   cmd-trace py-diff ...\n",
    "## also check the comments:\n",
    "##   # py-diff(dir): check for difference in python scripts versus those in target\n",
    "##   function py-diff () { do_diff.bash --no-glob '*.py *.mako' \"$@\" 2>&1 | $PAGER; }\n",
    "\n",
    "command cd temp-dir > /dev/null\n",
    "py-diff $BIN_DIR 2> /dev/null | grep differences | tail --lines=2 | testnum\n",
    "command cd .. > /dev/null"
   ]
  },
  {
   "cell_type": "code",
   "execution_count": 41,
   "id": "9a40ffff",
   "metadata": {},
   "outputs": [],
   "source": [
    "# # TEST NOT APPLICABLE RN \n",
    "# function kivy-win32-env {\n",
    "#    export PYTHONPATH='c:/cartera-de-tomas/python;c:/Program-Misc/python/kivy-1-9-0/kivy27'\n",
    "#    kivy_dir=\"/c/Program-Misc/python/kivy-1-9-0\"\n",
    "#    python_dir=\"$kivy_dir/Python27\"\n",
    "#    prepend-path \"$kivy_dir:$kivy_dir/Python27:$kivy_dir/tools:$kivy_dir/Python27/Scripts:$kivy_dir/gstreamer/bin:$kivy_dir/MinGW/bin:$kivy_dir/SDL2/bin\"\n",
    "# }"
   ]
  },
  {
   "cell_type": "code",
   "execution_count": 42,
   "id": "b6e7b1d1",
   "metadata": {},
   "outputs": [],
   "source": [
    "# # NEED HELP - MAYBE APPLICABLE?\n",
    "# alias elide-data='python -m transpose_data --elide'\n",
    "# alias kill-python=\"kill_em.sh --filter 'ipython|emacs' python\"\n",
    "# alias kill-python-all=\"kill_em.sh python\""
   ]
  },
  {
   "cell_type": "code",
   "execution_count": 43,
   "id": "5dbc85eb",
   "metadata": {},
   "outputs": [],
   "source": [
    "# # ERRORS = OSTYPE is 'undefined variable' \n",
    "# # NOTE: elide-data shows RuntimeError if any testfile is named abc.py\n",
    "\n",
    "# $ echo $OSTYPE\n",
    "#   linebr\n",
    "#   elide-data $BIN_DIR/template.py\n",
    "#   linebr\n",
    "#   kill-python\n",
    "#   linebr\n",
    "#   kill-python-all\n",
    "\n",
    "# | linux-gnu\n",
    "# | --------------------------------------------------------------------------------\n",
    "# | /home/xaea12/miniconda3/bin/python: No module named transpose_data\n",
    "# | --------------------------------------------------------------------------------\n",
    "# | pattern=/:[0-9][0-9] [^ ]*python/\n",
    "# | filter=/ipython|emacs/\n",
    "# | OSTYPE: Undefined variable.\n",
    "# | --------------------------------------------------------------------------------\n",
    "# | pattern=/:[0-9][0-9] [^ ]*python/\n",
    "# | filter=/($)(^)/\n",
    "# | OSTYPE: Undefined variable.\n"
   ]
  },
  {
   "cell_type": "code",
   "execution_count": 44,
   "id": "9322aa5a",
   "metadata": {},
   "outputs": [],
   "source": [
    "# alias TODAY='date'\n",
    "# alias extract-matches='extract_matches.perl'\n",
    "\n",
    "# function run-jupyter-notebook () {\n",
    "#     local port=\"$1\"; if [ \"$port\" = \"\" ]; then port=8888; fi\n",
    "#     local ip=\"$2\"; if [ \"$ip\" = \"\" ]; then ip=\"127.0.0.1\"; fi\n",
    "#     local log=\"$TEMP/jupyter-$(TODAY).log\"\n",
    "#     jupyter notebook --NotebookApp.token='' --no-browser --port $port --ip $ip >> \"$log\" 2>&1 &\n",
    "#     echo \"$log\"\n",
    "#     local delay=5\n",
    "#     echo \"sleeping $delay seconds for log to stabalize (effing jupyter)\"\n",
    "#     sleep $delay\n",
    "#     tail \"$log\"\n",
    "#     echo -n \"URL: \"\n",
    "#     extract-matches 'http:\\S+' \"$log\" | sort -u\n",
    "# }\n",
    "# alias jupyter-notebook-redir=run-jupyter-notebook\n",
    "# alias jupyter-notebook-redir-open='run-jupyter-notebook 8888 0.0.0.0'"
   ]
  },
  {
   "cell_type": "code",
   "execution_count": 45,
   "id": "caa3332b",
   "metadata": {},
   "outputs": [],
   "source": [
    "## OLD: too complicated for command-line testing\n",
    "\n",
    "# # ERROR GENERATED (see below)\n",
    "# $ jupyter-notebook-redir-open\n",
    "\n",
    "# | [1] 5335\n",
    "# | /jupyter-Sun Aug 28 08:13:40 AM +0545 2022.log\n",
    "# | sleeping 5 seconds for log to stabalize (effing jupyter)\n",
    "# | bash: /jupyter-Sun Aug 28 08:13:40 AM +0545 2022.log: Permission denied\n",
    "# | [1]+  Exit 1                  jupyter notebook --NotebookApp.token='' --no-browser --port $port --ip $ip >> \"$log\" 2>&1\n",
    "# | tail: cannot open '/jupyter-Sun Aug 28 08:13:40 AM +0545 2022.log' for reading: No such file or directory\n",
    "# | URL: Can't open /jupyter-Sun Aug 28 08:13:40 AM +0545 2022.log: No such file or directory at /home/xaea12/bin/extract_matches.perl line 132.\n",
    "## OLD: jupyter-notebook-redir-open | testnum | testuser | head -n 5"
   ]
  },
  {
   "cell_type": "code",
   "execution_count": 46,
   "id": "9c155aa3",
   "metadata": {},
   "outputs": [],
   "source": [
    "# # ERROR - MODULE NOT FOUND - NEED HELP\n",
    "\n",
    "## BAD: # $ rm -rf ./*\n",
    "#   printf \"print('THIS IS A TEST FOR TEXT EXTRACT ALIAS.')\" > textex.py\n",
    "#   xtract-text ./textex.py\n",
    "\n",
    "# | /home/xaea12/miniconda3/bin/python: No module named extract_document_text\n",
    "#\n",
    "## TODO2: retry as tomohara-aliases.bash was revised after test drafted"
   ]
  },
  {
   "cell_type": "code",
   "execution_count": 47,
   "id": "53136103",
   "metadata": {},
   "outputs": [],
   "source": [
    "## OLD: obsolete alias\n",
    "# # ERROR (LOG FILE NOT FOUND) - NEED HELP\n",
    "# $ test-script ./textex.py\n",
    "# | abort: no repository found in '/tmp/test-py-commands/test-3443' (.hg not found)\n",
    "# | bash: tests/_test_textex.03sep22.log: No such file or directory\n",
    "# | tests/_test_textex.03sep22.log: No such file or directory"
   ]
  },
  {
   "cell_type": "code",
   "execution_count": 48,
   "id": "31d1b151",
   "metadata": {},
   "outputs": [],
   "source": [
    "## OLD:\n",
    "## # TESTING A PYTHON SCRIPT\n",
    "## printf \"print('THIS IS A TEST10')\\nprint('THIS IS A TEST11')\\nprint('THIS IS A TEST12')\\nprint('THIS IS A TEST13')\" > random_line_test.py"
   ]
  },
  {
   "cell_type": "code",
   "execution_count": 49,
   "id": "3b6aab89",
   "metadata": {},
   "outputs": [],
   "source": [
    "## TODO2:\n",
    "##    header l1 l2 .. l10 > _l1-10.data_\n",
    "##    filter-random 10 > _l1-10.data_ > _r1pct-l1-10.data_\n",
    "##    ...\n",
    "\n",
    "# # Need Help (TBF - NEED HELP OPERATING)\n",
    "# filter-random _r10pct-fubar.data"
   ]
  },
  {
   "cell_type": "code",
   "execution_count": 50,
   "id": "88b697b0-82c6-48c2-8b0d-96d922b177b6",
   "metadata": {},
   "outputs": [],
   "source": [
    "## OLD\n",
    "## # # ERROR : MISSING MODULE (No module named randomize_lines) / TAKES TIME OF EXECUTION\n",
    "## # # NEED HELP\n",
    "## # randomize-datafile atest.py"
   ]
  },
  {
   "cell_type": "code",
   "execution_count": 51,
   "id": "c3845ce6-bf26-423c-81f3-356acca66f8d",
   "metadata": {},
   "outputs": [
    {
     "name": "stdout",
     "output_type": "stream",
     "text": [
      "1\n",
      "2\n",
      "3\n",
      "4\n",
      "5\n",
      "6\n",
      "7\n",
      "8\n",
      "9\n"
     ]
    }
   ],
   "source": [
    "# Setup\n",
    "## BAD:\n",
    "## randomize-datafile random_line_test.py\n",
    "\n",
    "## NOTE: This 3-step test illustrates new preferred way for testing\n",
    "## run command showing output (steps 1 & 2); test for specific condition (step 3)\n",
    "\n",
    "# Generate sorted data\n",
    "echo -e \"1 2 3 4 5 6 7 8 9\" | tr \" \" \"\\n\" > random_line_test.data\n",
    "cat random_line_test.data"
   ]
  },
  {
   "cell_type": "code",
   "execution_count": 52,
   "id": "833520df-e503-4131-bbdd-98bd990a9d2f",
   "metadata": {},
   "outputs": [
    {
     "name": "stdout",
     "output_type": "stream",
     "text": [
      "1\n",
      "2\n",
      "6\n",
      "3\n",
      "9\n",
      "5\n",
      "8\n",
      "4\n",
      "7\n"
     ]
    }
   ],
   "source": [
    "# Randomize data\n",
    "randomize-datafile random_line_test.data > random_line_test.data.random\n",
    "cat random_line_test.data.random"
   ]
  },
  {
   "cell_type": "code",
   "execution_count": 53,
   "id": "4f226d82-2376-4caf-9b40-49a742a06980",
   "metadata": {},
   "outputs": [
    {
     "name": "stdout",
     "output_type": "stream",
     "text": [
      "0\n"
     ]
    }
   ],
   "source": [
    "# Make sure at least 10 lines in diff listing\n",
    "num_diffs=$(command diff random_line_test.data random_line_test.data.random | wc -l)\n",
    "[ $num_diffs -gt 10 ]; echo $?"
   ]
  },
  {
   "cell_type": "code",
   "execution_count": 54,
   "id": "4a08ccc0-4d02-49a9-9744-ff4d2707f812",
   "metadata": {},
   "outputs": [
    {
     "name": "stdout",
     "output_type": "stream",
     "text": [
      "'link1' -> 'file1'\n"
     ]
    }
   ],
   "source": [
    "## BAD: conditional-source $BIN_DIR/tests/_dir-aliases.bash\n",
    "\n",
    "touch file1\n",
    "ln-symbolic file1 link1\n",
    "## OLD: linebr"
   ]
  },
  {
   "cell_type": "code",
   "execution_count": 55,
   "id": "59e5fe12-c47b-4600-9487-e1a746aece67",
   "metadata": {},
   "outputs": [
    {
     "name": "stdout",
     "output_type": "stream",
     "text": [
      "file1\n",
      "link1\n",
      "random_line_test.data\n",
      "random_line_test.data.random\n",
      "temp-dir\n",
      "testless.txt\n"
     ]
    }
   ],
   "source": [
    "## OLD: ls\n",
    "command ls | cat"
   ]
  },
  {
   "cell_type": "code",
   "execution_count": 56,
   "id": "2c5ba0e4-e09e-4703-856c-5b5c436f6d7c",
   "metadata": {},
   "outputs": [],
   "source": [
    "# TESTS FOR curl-dump AND url-path"
   ]
  },
  {
   "cell_type": "code",
   "execution_count": 57,
   "id": "df7835ca-a1c2-4ad9-9acb-4bb8a63afcbc",
   "metadata": {},
   "outputs": [
    {
     "name": "stdout",
     "output_type": "stream",
     "text": [
      "scrappycito\tN\n",
      "scrappy cito\tN\n"
     ]
    }
   ],
   "source": [
    "## ***: don't join distinct tests together, because if one case fails the entire cell fails!\n",
    "## OLD: curl-dump https://www.example.com/ \n",
    "## TEST: curl-dump https://www.example.com/ 2>&1 | testnum | remove-control-chars\n",
    "curl-dump http://www.tomasohara.trade 2> /dev/null\n",
    "grep -i scrap www.tomasohara.trade | count-it -i 'Scrappy *Cito' | testnum\n",
    "## OLD: linebr"
   ]
  },
  {
   "cell_type": "code",
   "execution_count": 69,
   "id": "4c49d849-0dfe-484e-ba6c-8ee27ca755ff",
   "metadata": {},
   "outputs": [
    {
     "name": "stdout",
     "output_type": "stream",
     "text": [
      " NNN  NNN NNNN\n"
     ]
    }
   ],
   "source": [
    "## OLD: ls -l | testnum | testuser | awk '!($6=\"\")'\n",
    "## TEST: command ls -l | testnum | testuser | remove-control-chars | awk '!($6=\"\")'\n",
    "## OLD linebr\n",
    "## NOTE: ls -l too bittle (e.g., write perms) and not needed for test anyway\n",
    "wc < *tomas* | testnum"
   ]
  },
  {
   "cell_type": "code",
   "execution_count": 70,
   "id": "d1ea335b-91bd-4016-8456-6dbfb6f0aaf3",
   "metadata": {},
   "outputs": [
    {
     "name": "stdout",
     "output_type": "stream",
     "text": [
      "1\n"
     ]
    }
   ],
   "source": [
    "# Test url-path:\n",
    "#    file:////home/shell-scripts/tests/auto_batspp.py\n",
    "## OLD: url-path $BIN_DIR/tests/auto_batspp.py | testuser\n",
    "## OLD: url-path $BIN_DIR/tests/auto_batspp.py | testuser | remove-control-chars\n",
    "url-path $BIN_DIR/tests/auto_batspp.py | grep -c \"file:////.*/tests/auto_batspp.py\""
   ]
  },
  {
   "cell_type": "code",
   "execution_count": 60,
   "id": "b49f6117-3b7a-47e5-a51f-5456514a1353",
   "metadata": {},
   "outputs": [],
   "source": [
    "# # WORKS WELL - CANNOT USE testnum & testuser (halts test)\n",
    "# firefox"
   ]
  },
  {
   "cell_type": "code",
   "execution_count": 61,
   "id": "c57545c5",
   "metadata": {},
   "outputs": [],
   "source": [
    "## OLD:\n",
    "## pwd |  sed -r \"s/\"$USER\"+/user/g\"\n",
    "## BAD: rm -rf * > /dev/null\n",
    "\n",
    "## DEBUG:\n",
    "## command pwd |  sed -r \"s/\"$USER\"+/user/g\""
   ]
  }
 ],
 "metadata": {
  "kernelspec": {
   "display_name": "Bash",
   "language": "bash",
   "name": "bash"
  },
  "language_info": {
   "codemirror_mode": "shell",
   "file_extension": ".sh",
   "mimetype": "text/x-sh",
   "name": "bash"
  }
 },
 "nbformat": 4,
 "nbformat_minor": 5
}
