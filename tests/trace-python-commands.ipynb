{
 "cells": [
  {
   "cell_type": "code",
   "execution_count": 1,
   "id": "6cc6dd0b-d935-4918-a02a-dff0b8c92b77",
   "metadata": {},
   "outputs": [],
   "source": [
    "# Test python related aliases"
   ]
  },
  {
   "cell_type": "code",
   "execution_count": 2,
   "id": "914d42a9-da83-4954-b105-2d82994dd064",
   "metadata": {},
   "outputs": [],
   "source": [
    "# *** Note: pro tips ***\n",
    "# - See randomize-datafile for new preferred way of preparing tests.\n",
    "# - See README.ipynb for more details.\n",
    "# - See the new \"poster child\" json-related-alias.ipynb for other examples.\n",
    "# - User operators group for testing user and run that account (e.g., testuser)."
   ]
  },
  {
   "cell_type": "code",
   "execution_count": 3,
   "id": "177c9e8b-7d60-48a9-b5ae-f58c8732e1cb",
   "metadata": {},
   "outputs": [
    {
     "name": "stdout",
     "output_type": "stream",
     "text": [
      "aveey\n",
      "aveey adm sudo lpadmin docker\n"
     ]
    }
   ],
   "source": [
    "# Show user groups\n",
    "(whoami; groups)"
   ]
  },
  {
   "cell_type": "code",
   "execution_count": 4,
   "id": "6e085f64-e505-458b-af13-9d46d12913cc",
   "metadata": {},
   "outputs": [
    {
     "name": "stdout",
     "output_type": "stream",
     "text": [
      "*** Warning: should be run as operator ***\n"
     ]
    }
   ],
   "source": [
    "# Warn if user not in operators group\n",
    "# note: The bash kernel restarts, \n",
    "is_operator=$(groups | grep -c operator)\n",
    "if [ $is_operator -eq 0 ]; then\n",
    "    echo \"*** Warning: should be run as operator ***\" 1>&2\n",
    "fi"
   ]
  },
  {
   "cell_type": "code",
   "execution_count": 5,
   "id": "76e3d870-b4e7-457e-af7b-bcd0beb5f74c",
   "metadata": {},
   "outputs": [
    {
     "name": "stdout",
     "output_type": "stream",
     "text": [
      "*** Error: should not be run as operator unless FORCE_RUN ***\n",
      "exit\n",
      "Restarting Bash\n"
     ]
    }
   ],
   "source": [
    "# Abort if user in admin-like group unless FORCE_RUN env var set\n",
    "# note: The bash kernel restarts, so this \n",
    "# TODO1: * add script for use here and in batspp_report.py!\n",
    "force_run=\"${FORCE_RUN:-0}\"\n",
    "is_admin=$(groups $USER | egrep -c \"root|admin|adm\")\n",
    "jupyter_session=${JPY_SESSION_NAME:-\"\"}\n",
    "## DEBUG: trace-vars force_run is_admin jupyter_session\n",
    "if [ $is_admin -eq 1 ]; then\n",
    "    if [ \"$force_run\" == \"0\" ]; then\n",
    "        echo \"*** Error: should not be run as operator unless FORCE_RUN ***\" 1>&2\n",
    "        if [ \"$jupyter_session\" != \"\" ]; then\n",
    "            exit\n",
    "        fi\n",
    "    fi\n",
    "    echo \"FYI: not recommended to run under admin account\"\n",
    "fi"
   ]
  },
  {
   "cell_type": "code",
   "execution_count": 6,
   "id": "79248c1c-7d65-46c3-abbd-7fecb18e4073",
   "metadata": {},
   "outputs": [],
   "source": [
    "# Setup (OPTIONAL - USED IF NEEDED)\n",
    "## bind 'set enable-bracketed-paste off'"
   ]
  },
  {
   "cell_type": "code",
   "execution_count": 7,
   "id": "65d43538",
   "metadata": {},
   "outputs": [],
   "source": [
    "## OLD\n",
    "## ## TEST:  Make sure simple prompt used (e.g., no escapes that might contaminate output)\n",
    "## ## PS1=\"$ \"\n",
    "## ## TODO: PS1=\"> \"\"\n",
    "## ## NOTE: The Jupyter bash kernel requires that PS1 not be modified as they customize it. \n",
    "## echo $PS1"
   ]
  },
  {
   "cell_type": "code",
   "execution_count": 8,
   "id": "1da73b27",
   "metadata": {},
   "outputs": [],
   "source": [
    "## BAD (SUPER BAD)\n",
    "\n",
    "## # Delete all aliases and function\n",
    "## # TODO: Instead start from pristine environment\n",
    "## unalias -a\n",
    "## alias | wc -l\n",
    "## for f in $(typeset -f | egrep '^\\w+'); do unset -f $f; done\n",
    "## typeset -f | egrep '^\\w+' | wc -l"
   ]
  },
  {
   "cell_type": "code",
   "execution_count": 9,
   "id": "0ff8f157",
   "metadata": {},
   "outputs": [],
   "source": [
    "## OLD\n",
    "## ## NOTE: Source it directly from the ./tests directory.\n",
    "## # Setting a temp directory for tests\n",
    "## TMP=/tmp/test-py-commands\n",
    "## BIN_DIR=$PWD/..\n",
    "## ## You will need to run jupyter from that directory.\n",
    "## ## source $TEMP_BIN/_dir-aliases.bash\n",
    "## alias | wc -l"
   ]
  },
  {
   "cell_type": "code",
   "execution_count": 10,
   "id": "7b9a14cc",
   "metadata": {},
   "outputs": [],
   "source": [
    "BIN_DIR=$PWD/..\n",
    "TMP=/tmp/trace-python-commands\n",
    "temp_dir=$TMP/test-7766\n",
    "trash_dir=$TMP/\"_temp-trash-$(date \"+%Y%m%d%H%M%S\")\"\n",
    "command mkdir -p \"$temp_dir\"\n",
    "command mkdir -p \"$trash_dir\"\n",
    "command cd "
   ]
  },
  {
   "cell_type": "code",
   "execution_count": 11,
   "id": "ab954c7f",
   "metadata": {},
   "outputs": [],
   "source": [
    "# Global Setup\n",
    "\n",
    "## NOTE: For reproducability, the directory name needs to be fixed\n",
    "## In place of $$, use a psuedo random number (e,g., 7766)\n",
    "## *** All output from one run to the next needs to be the same ***\n",
    "\n",
    "if [ \"$DEBUG_LEVEL\" -lt 4 ]; then \n",
    "    TMP=/tmp/trace-python-commands; \n",
    "    # note: a little redundancy is to avoid a lot of catastrophe!\n",
    "    # BAD: /bin/rm -rf /tmp/trace-python-commands/*;\n",
    "    # command mv -f $TMP \"$trash_dir\"\n",
    "fi\n",
    "\n",
    "## temp_dir=$TMP/test-$$\n",
    "# temp_dir=$TMP/test-7766\n",
    "# trash_dir=$TMP/\"_temp-trash-$(date \"+%Y%m%d%H%M%S\")\"\n",
    "\n",
    "\n",
    "## BAD: # TODO: /bin/rm -rvf \"$temp_dir\"\n",
    "## NOTE: do not use rm without explicit base to avoid inadvertent deletions!\n",
    "## ALSO: in addition, tests can be reworked so that deletion not needed (e.g., using distinct subdir)\n",
    "\n",
    "## OLD: cd \"$temp_dir\"\n",
    "command cd \"$temp_dir\"\n",
    "# pwd\n",
    "\n",
    "#ALIAS FOR PRINTING SEPERATION LINES (FOR JUPYTER)\n",
    "alias linebr=\"printf '%*s\\n' \"${COLUMNS:-$(tput cols)}\" '' | tr ' ' -\""
   ]
  },
  {
   "cell_type": "code",
   "execution_count": 12,
   "id": "bb14e4df",
   "metadata": {},
   "outputs": [],
   "source": [
    "# Global Setup\n",
    "alias testuser=\"sed -r \"s/\"$USER\"+/userxf333/g\"\"\n",
    "alias testnum=\"sed -r \"s/[0-9]/N/g\"\"\n",
    "## BAD: alias linebr=\"printf '%*s\\n' \"${COLUMNS:-$(tput cols)}\" '' | tr ' ' -\"\n",
    "## NOTE: COLUMNS based on size of terminal invoking jupyter\n",
    "alias linebr=\"printf '%132s\\n' ' ' | tr ' ' '-'\"\n",
    "# alias testmonth=\"sed -r \"s/['Jan','Feb','Mar','Apr','May','Jun','Jul','Aug','Sep','Oct','Nov','Dec']/M/g\"\""
   ]
  },
  {
   "cell_type": "code",
   "execution_count": 13,
   "id": "a918c4f3",
   "metadata": {},
   "outputs": [],
   "source": [
    "## BAD: source $BIN_DIR/tomohara-aliases.bash"
   ]
  },
  {
   "cell_type": "code",
   "execution_count": 14,
   "id": "0359b346",
   "metadata": {},
   "outputs": [
    {
     "name": "stdout",
     "output_type": "stream",
     "text": [
      "ps_mine.sh: command not found\n",
      "N\n"
     ]
    }
   ],
   "source": [
    "## OLD (put expected output comments before command--Batspp quirk)\n",
    "## ps-python-full | wc -l | testnum\n",
    "# Sample Output: 23\n",
    "ps-python-full | wc -l | testnum"
   ]
  },
  {
   "cell_type": "code",
   "execution_count": 15,
   "id": "e7d436e5",
   "metadata": {},
   "outputs": [
    {
     "name": "stdout",
     "output_type": "stream",
     "text": [
      "ps_mine.sh: command not found\n",
      "N\n"
     ]
    }
   ],
   "source": [
    "## OLD: ps-python | wc -l | testnum\n",
    "# Sample Output: 22\n",
    "ps-python | wc -l | testnum"
   ]
  },
  {
   "cell_type": "code",
   "execution_count": 16,
   "id": "6c5b8d28",
   "metadata": {},
   "outputs": [
    {
     "name": "stdout",
     "output_type": "stream",
     "text": [
      "PYTHONPATH:\n",
      "/home/userxf333/python\n",
      "/home/userxf333/python\n",
      "/home/userxf333/python\n",
      "\n"
     ]
    }
   ],
   "source": [
    "## show-python-path DISPLAYS ALL THE AVAILABLE PATHS OF PYTHON\n",
    "show-python-path | testuser"
   ]
  },
  {
   "cell_type": "code",
   "execution_count": 17,
   "id": "ff01fc98",
   "metadata": {},
   "outputs": [
    {
     "name": "stdout",
     "output_type": "stream",
     "text": [
      "************* Module os\n",
      "/usr/lib/pythonN.NN/os.py:NN:N: WNNNN: Redefining built-in 'open' (redefined-builtin)\n",
      "/usr/lib/pythonN.NN/os.py:NN:NN: WNNNN: Redefining name 'name' from outer scope (line NN) (redefined-outer-name)\n",
      "/usr/lib/pythonN.NN/os.py:NN:N: WNNNN: Wildcard import posix (wildcard-import)\n",
      "/usr/lib/pythonN.NN/os.py:NN:N: ENNNN: Unable to import 'nt' (import-error)\n",
      "/usr/lib/pythonN.NN/os.py:NN:N: WNNNN: Wildcard import nt (wildcard-import)\n",
      "/usr/lib/pythonN.NN/os.py:NN:N: ENNNN: Unable to import 'nt' (import-error)\n",
      "/usr/lib/pythonN.NN/os.py:NNN:NN: WNNNN: Redefining built-in 'str' (redefined-builtin)\n",
      "/usr/lib/pythonN.NN/os.py:NNN:NN: WNNNN: Redefining name 'name' from outer scope (line NN) (redefined-outer-name)\n",
      "/usr/lib/pythonN.NN/os.py:NNN:NN: WNNNN: Redefining name 'name' from outer scope (line NN) (redefined-outer-name)\n"
     ]
    }
   ],
   "source": [
    "# function python-lint() { python-lint-work \"$@\" 2>&1 | $EGREP -v '(Exactly one space required)|\\((bad-continuation|bad-whitespace|bad-indentation|bare-except|c-extension-no-member|consider-using-enumerate|consider-using-with|global-statement|global-variable-not-assigned|keyword-arg-before-vararg|len-as-condition|line-too-long|logging-not-lazy|misplaced-comparison-constant|missing-final-newline|redefined-variable-type|redundant-keyword-arg|superfluous-parens|too-many-arguments|too-many-instance-attributes|trailing-newlines|useless-\\S+|wrong-import-order|wrong-import-position)\\)' | $PAGER; }\n",
    "## OLD: python-lint os | testnum | testuser\n",
    "python-lint os | head | testnum | testuser"
   ]
  },
  {
   "cell_type": "code",
   "execution_count": 18,
   "id": "5039b234",
   "metadata": {
    "scrolled": true
   },
   "outputs": [
    {
     "name": "stdout",
     "output_type": "stream",
     "text": [
      "************* Module os\n",
      "/usr/lib/pythonN.NN/os.py:NN:N: WNNNN: Redefining built-in 'open' (redefined-builtin)\n",
      "/usr/lib/pythonN.NN/os.py:NN:NN: WNNNN: Redefining name 'name' from outer scope (line NN) (redefined-outer-name)\n",
      "/usr/lib/pythonN.NN/os.py:NN:N: WNNNN: Wildcard import posix (wildcard-import)\n",
      "/usr/lib/pythonN.NN/os.py:NN:N: ENNNN: Unable to import 'nt' (import-error)\n",
      "/usr/lib/pythonN.NN/os.py:NN:N: WNNNN: Wildcard import nt (wildcard-import)\n",
      "/usr/lib/pythonN.NN/os.py:NN:N: ENNNN: Unable to import 'nt' (import-error)\n",
      "/usr/lib/pythonN.NN/os.py:NN:N: CNNNN: Import \"from os.path import curdir, pardir, sep, pathsep, defpath, extsep, altsep, devnull\" should be placed at the top of the module (wrong-import-position)\n",
      "/usr/lib/pythonN.NN/os.py:NNN:NN: WNNNN: Redefining built-in 'str' (redefined-builtin)\n",
      "/usr/lib/pythonN.NN/os.py:NNN:NN: WNNNN: Redefining name 'name' from outer scope (line NN) (redefined-outer-name)\n"
     ]
    }
   ],
   "source": [
    "# Takes time for execution\n",
    "# TODO2: rework link test using small python program put in test resources dir (e.g., test/resources/bad_lint.py)\n",
    "## BAD: # function python-lint-work() { python-lint-full \"$@\" 2>&1 | $EGREP -v '\\((bad-continuation|bad-option-value|fixme|invalid-name|locally-disabled|too-few-public-methods|too-many-\\S+|trailing-whitespace|star-args|unnecessary-pass)\\)' | $EGREP -v '^(([A-Z]:[0-9]+)|(Your code has been rated)|(No config file found)|(\\-\\-\\-\\-\\-))' | $PAGER; }\n",
    "python-lint-work os | head | testnum"
   ]
  },
  {
   "cell_type": "code",
   "execution_count": 19,
   "id": "cab9db0c",
   "metadata": {},
   "outputs": [
    {
     "name": "stdout",
     "output_type": "stream",
     "text": [
      "************* Module os\n",
      "/usr/lib/pythonN.NN/os.py:NN:N: WNNNN: Redefining built-in 'open' (redefined-builtin)\n",
      "/usr/lib/pythonN.NN/os.py:NN:NN: WNNNN: Redefining name 'name' from outer scope (line NN) (redefined-outer-name)\n",
      "/usr/lib/pythonN.NN/os.py:NN:N: WNNNN: Wildcard import posix (wildcard-import)\n",
      "/usr/lib/pythonN.NN/os.py:NN:N: ENNNN: Unable to import 'nt' (import-error)\n",
      "/usr/lib/pythonN.NN/os.py:NN:N: WNNNN: Wildcard import nt (wildcard-import)\n",
      "/usr/lib/pythonN.NN/os.py:NN:N: ENNNN: Unable to import 'nt' (import-error)\n",
      "/usr/lib/pythonN.NN/os.py:NNN:NN: WNNNN: Redefining built-in 'str' (redefined-builtin)\n",
      "/usr/lib/pythonN.NN/os.py:NNN:NN: WNNNN: Redefining name 'name' from outer scope (line NN) (redefined-outer-name)\n",
      "/usr/lib/pythonN.NN/os.py:NNN:NN: WNNNN: Redefining name 'name' from outer scope (line NN) (redefined-outer-name)\n"
     ]
    }
   ],
   "source": [
    "# May take some time\n",
    "## OLD: python-lint os | testnum\n",
    "python-lint os 2>&1 | head | testnum"
   ]
  },
  {
   "cell_type": "code",
   "execution_count": 20,
   "id": "207d98f0",
   "metadata": {},
   "outputs": [],
   "source": [
    "## NOTE (Skipped for now as a little too complicated)\n",
    "## TODO4: generate small test set of scripts and run\n",
    "## # ERROR: Pattern not found  (press RETURN)## run-python-lint-batched $BIN_DIR/tests/auto_batspp.py | testuser | testnum"
   ]
  },
  {
   "cell_type": "code",
   "execution_count": 21,
   "id": "6e4b2871",
   "metadata": {},
   "outputs": [],
   "source": [
    "## NOTE: skipped as too dangerous\n",
    "\n",
    "## REQUIRES setup.py (TBC)\n",
    "\n",
    "# python-setup-install\n",
    "# linebr\n",
    "# python-uninstall-setup"
   ]
  },
  {
   "cell_type": "code",
   "execution_count": 22,
   "id": "1a220eac",
   "metadata": {},
   "outputs": [
    {
     "name": "stdout",
     "output_type": "stream",
     "text": [
      "matches /home/aveey/.local/lib/pythonN.NN/site-packages/mezcla/__init__.py\n",
      "------------------------------------------------------------------------------------------------------------------------------------\n",
      "matches /home/aveey/.local/lib/pythonN.NN/site-packages/mezcla/__init__.py\n",
      "matches /home/aveey/.local/lib/pythonN.NN/site-packages/mezcla/debug.py\n",
      "matches /home/aveey/.local/lib/pythonN.NN/site-packages/mezcla/glue_helpers.py\n",
      "matches /home/aveey/.local/lib/pythonN.NN/site-packages/mezcla/system.py\n",
      "matches /home/aveey/.local/lib/pythonN.NN/site-packages/mezcla/tpo_common.py\n",
      "matches /home/aveey/.local/lib/pythonN.NN/site-packages/mezcla/my_regex.py\n",
      "------------------------------------------------------------------------------------------------------------------------------------\n",
      "# /home/aveey/.local/lib/pythonN.NN/site-packages/mezcla/__pycache__/__init__.cpython-NNN.pyc matches /home/aveey/.local/lib/pythonN.NN/site-packages/mezcla/__init__.py\n",
      "# code object from '/home/aveey/.local/lib/pythonN.NN/site-packages/mezcla/__pycache__/__init__.cpython-NNN.pyc'\n",
      "# /home/aveey/.local/lib/pythonN.NN/site-packages/mezcla/__pycache__/debug.cpython-NNN.pyc matches /home/aveey/.local/lib/pythonN.NN/site-packages/mezcla/debug.py\n",
      "# code object from '/home/aveey/.local/lib/pythonN.NN/site-packages/mezcla/__pycache__/debug.cpython-NNN.pyc'\n",
      "import 'mezcla.debug' # <_frozen_importlib_external.SourceFileLoader object at NxNeNaNNaNdNaN>\n"
     ]
    }
   ],
   "source": [
    "# mezcla MODULE IS USED FOR TEST\n",
    "\n",
    "python-import-path 'mezcla' | testnum\n",
    "linebr\n",
    "python-import-path-full 'mezcla' | testnum\n",
    "linebr\n",
    "\n",
    "# WORKS WELL, SHOWS SOME ISSUES ON BATSPP 2.1.X\n",
    "python-import-path-all 'mezcla' | grep mezcla | head -n 5 | testnum"
   ]
  },
  {
   "cell_type": "code",
   "execution_count": 23,
   "id": "852d5ab4",
   "metadata": {},
   "outputs": [
    {
     "name": "stdout",
     "output_type": "stream",
     "text": [
      "2\n"
     ]
    }
   ],
   "source": [
    "# RETURNS A LIST OF PYTHON MODULES\n",
    "## BAD: rm -rf ./* > /dev/null\n",
    "pip3 freeze | grep ipython | wc -l"
   ]
  },
  {
   "cell_type": "code",
   "execution_count": 24,
   "id": "e82509c6",
   "metadata": {},
   "outputs": [
    {
     "name": "stdout",
     "output_type": "stream",
     "text": [
      "N.N.N.N\n",
      "------------------------------------------------------------------------------------------------------------------------------------\n",
      "N.N.N.N\n",
      "------------------------------------------------------------------------------------------------------------------------------------\n",
      "['PYTHONN_PLUS', 'TL', '__VERSION__', '__all__', '__builtins__', '__cached__', '__doc__', '__file__', '__loader__', '__name__', '__package__', '__path__', '__spec__', '__version__', 'debug', 'gh', 'glue_helpers', 'my_re', 'my_regex', 'sys', 'system', 'tpo_common', 'version']\n",
      "------------------------------------------------------------------------------------------------------------------------------------\n"
     ]
    }
   ],
   "source": [
    "# MODULE USED: mezcla | sed filter replaces versin number with XX\n",
    "python-module-version-full mezcla | testnum\n",
    "linebr\n",
    "python-module-version mezcla | testnum\n",
    "linebr\n",
    "python-package-members mezcla | testnum\n",
    "linebr"
   ]
  },
  {
   "cell_type": "code",
   "execution_count": 25,
   "id": "caf8bfd0",
   "metadata": {},
   "outputs": [],
   "source": [
    "# ## rename-with-file-date REQUIRED\n",
    "# function rename-with-file-date() {\n",
    "#     local f new_f\n",
    "#     local move_command=\"move\"\n",
    "#     if [ \"$1\" = \"--copy\" ]; then\n",
    "\n",
    "#         move_command=\"command cp --interactive --verbose --preserve\"\n",
    "#         shift\n",
    "#     fi\n",
    "#     for f in \"$@\"; do\n",
    "    \n",
    "#         if [ -e \"$f\" ]; then\n",
    "#            new_f=$(get-free-filename \"$f\".$(date --reference=\"$f\" '+%d%b%y') \".\")\n",
    "\n",
    "#            eval \"$move_command\" \"$f\" \"$new_f\";\n",
    "#         fi\n",
    "#     done;\n",
    "\n",
    "# }\n",
    "\n",
    "# function get-free-filename() {\n",
    "#     local base=\"$1\"\n",
    "#     local sep=\"$2\"\n",
    "#     local L=1\n",
    "#     local filename=\"$base\"\n",
    "#     while [ -e \"$filename\" ]; do\n",
    "#         let L++\n",
    "#         filename=\"$base$sep$L\"\n",
    "#     done;\n",
    "#     echo \"$filename\"\n",
    "# }\n",
    "\n",
    "# alias move='mv'\n",
    "# export PAGER=less\n",
    "# export PAGER_CHOPPED=\"less -S\"\n",
    "# export PAGER_NOEXIT=\"less -+F\"\n",
    "# function zless () { zcat \"$@\" | $PAGER; }\n",
    "\n",
    "# function zhead () {\n",
    "#     local file=\"$1\"\n",
    "#     shift\n",
    "#     zcat \"$file\" | head \"$@\"\n",
    "# }\n",
    "\n",
    "# alias less-='$PAGER_NOEXIT'\n",
    "# alias less-clipped='$PAGER_NOEXIT -S'\n",
    "# alias less-tail='$PAGER_NOEXIT +G'\n",
    "# alias less-tail-clipped='$PAGER_NOEXIT +G -S'\n",
    "# alias ltc=less-tail-clipped"
   ]
  },
  {
   "cell_type": "code",
   "execution_count": 26,
   "id": "1912bb79-d984-4788-84d6-3759caf3383d",
   "metadata": {},
   "outputs": [
    {
     "name": "stdout",
     "output_type": "stream",
     "text": [
      "/tmp/trace-python-commands/test-7766\n"
     ]
    }
   ],
   "source": [
    "pwd"
   ]
  },
  {
   "cell_type": "code",
   "execution_count": 27,
   "id": "30fc8ae2-fb50-4f19-908e-1178ef19776e",
   "metadata": {
    "scrolled": true
   },
   "outputs": [
    {
     "name": "stdout",
     "output_type": "stream",
     "text": [
      " 8 15 48\n"
     ]
    }
   ],
   "source": [
    "## BAD: printf \"THIS IS THE HEAD\\n1\\n2\\n3\\n4\\n5\\n6\\n7\\nTHIS IS THE TAIL.\" >> testless.txt\n",
    "printf \"THIS IS THE HEAD\\n1\\n2\\n3\\n4\\n5\\n6\\n7\\nTHIS IS THE TAIL.\" > testless.txt\n",
    "wc < testless.txt"
   ]
  },
  {
   "cell_type": "code",
   "execution_count": 28,
   "id": "d98b6d58",
   "metadata": {},
   "outputs": [
    {
     "name": "stdout",
     "output_type": "stream",
     "text": [
      "THIS IS THE HEAD\n",
      "N\n",
      "N\n",
      "N\n",
      "N\n",
      "N\n",
      "N\n",
      "N\n",
      "THIS IS THE TAIL.\n"
     ]
    }
   ],
   "source": [
    "ltc testless.txt | testnum"
   ]
  },
  {
   "cell_type": "code",
   "execution_count": 29,
   "id": "93146b8d",
   "metadata": {},
   "outputs": [
    {
     "name": "stdout",
     "output_type": "stream",
     "text": [
      "THIS IS THE HEAD\n",
      "N\n",
      "N\n",
      "N\n",
      "N\n",
      "N\n",
      "N\n",
      "N\n",
      "THIS IS THE TAIL.\n"
     ]
    }
   ],
   "source": [
    "less-tail testless.txt | testnum"
   ]
  },
  {
   "cell_type": "code",
   "execution_count": 30,
   "id": "9dcb601f",
   "metadata": {},
   "outputs": [
    {
     "name": "stdout",
     "output_type": "stream",
     "text": [
      "THIS IS THE HEAD\n",
      "N\n",
      "N\n",
      "N\n",
      "N\n",
      "N\n",
      "N\n",
      "N\n",
      "THIS IS THE TAIL.\n"
     ]
    }
   ],
   "source": [
    "less-tail-clipped testless.txt | testnum"
   ]
  },
  {
   "cell_type": "code",
   "execution_count": 31,
   "id": "8080d06d",
   "metadata": {},
   "outputs": [
    {
     "name": "stdout",
     "output_type": "stream",
     "text": [
      "THIS IS THE HEAD\n",
      "N\n",
      "N\n",
      "N\n",
      "N\n",
      "N\n",
      "N\n",
      "N\n",
      "THIS IS THE TAIL.\n"
     ]
    }
   ],
   "source": [
    "less-clipped testless.txt | testnum"
   ]
  },
  {
   "cell_type": "code",
   "execution_count": 32,
   "id": "b8c1c892",
   "metadata": {
    "scrolled": true
   },
   "outputs": [
    {
     "name": "stdout",
     "output_type": "stream",
     "text": [
      "THIS IS THE HEAD\n",
      "N\n",
      "N\n",
      "N\n",
      "N\n",
      "N\n",
      "N\n",
      "N\n",
      "THIS IS THE TAIL.\n"
     ]
    }
   ],
   "source": [
    "less- testless.txt | testnum"
   ]
  },
  {
   "cell_type": "code",
   "execution_count": 33,
   "id": "7d6ffb96",
   "metadata": {},
   "outputs": [
    {
     "name": "stdout",
     "output_type": "stream",
     "text": [
      "N.NN.N\n",
      "------------------------------------------------------------------------------------------------------------------------------------\n",
      "Cannot run file '' because: [Errno N] No such file or directory: ''\n",
      "Command exited with non-zero status N\n",
      "N.NNuser N.NNsystem N:NN.NNelapsed NN%CPU (Navgtext+Navgdata NNNNNmaxresident)k\n",
      "Ninputs+Noutputs (Nmajor+NNNNminor)pagefaults Nswaps\n"
     ]
    }
   ],
   "source": [
    "## THIS PART IS SLOW IN EXECUTION\n",
    "\n",
    "## OLD: ipython --version | testuser | testnum\n",
    "## NOTE: garbage due to xterm title escapes\n",
    "command ipython --version | testuser | testnum\n",
    "linebr\n",
    "# STATEMENT TRACING WORKS WELL / ISSUES WITH TESTUSER\n",
    "## BAD: python-trace l $BIN_DIR/tests/auto_batspp.py | testuser | testnum\n",
    "## NOTE: use head to speed up\n",
    "python-trace python-trace $BIN_DIR//simple_batspp.py --help 2>&1 | head | testnum\n"
   ]
  },
  {
   "cell_type": "code",
   "execution_count": 34,
   "id": "c0b6f931",
   "metadata": {},
   "outputs": [
    {
     "name": "stdout",
     "output_type": "stream",
     "text": [
      "/usr/bin/python\n",
      "/usr/bin/python3\n"
     ]
    }
   ],
   "source": [
    "# which-python SHOWS THE PATH OF PYTHON\n",
    "which-python\n",
    "#(ADDED FOR PYTHON3)\n",
    "alias which-py3='which python3' \n",
    "which-py3"
   ]
  },
  {
   "cell_type": "code",
   "execution_count": 35,
   "id": "273938b4",
   "metadata": {},
   "outputs": [
    {
     "name": "stdout",
     "output_type": "stream",
     "text": [
      "abcN.py vs. atest.py   \n",
      "Differences: abcN.py atest.py   \n",
      "-rw-rw-r-- N userxfNNN userxfNNN NN  NN NN:NN abcN.py\n",
      "-rw-rw-r-- N userxfNNN userxfNNN NN  NN NN:NN atest.py\n",
      "NNN% differences for abcN.py  \n",
      "NcN     \n",
      "< print('THIS IS A TESTNN \n",
      "---     \n",
      "> print('THIS IS A TEST \n",
      "------------------------------------------------------------------------     \n",
      "     \n",
      "atest.py vs. atest.py   \n",
      "------------------------------------------------------------------------     \n",
      "     \n",
      "xyz.py vs. atest.py   \n",
      "------------------------------------------------------------------------     \n",
      "     \n",
      "*.mako vs. atest.py   \n",
      "diff: *.mako: No such file  directory\n",
      "ls: cannot access '*.mako': No  file or directory\n",
      "-rw-rw-r-- N userxfNNN userxfNNN NN  NN NN:NN atest.py\n",
      "/home/userxfNNN/tomProject/shell-scripts/do_diff.bash: line NNN: *.mako: No  file or directory\n",
      "NN% differences for *.mako  \n",
      "diff: *.mako: No such file  directory\n",
      "------------------------------------------------------------------------     \n",
      "     \n"
     ]
    }
   ],
   "source": [
    "## BAD: rm -rf ./* > /dev/null\n",
    "## OLD:\n",
    "## printf \"print('THIS IS A TEST')\" > atest.py\n",
    "## printf \"print('THIS IS A TEST')\" > xyz.py\n",
    "## printf \"print('THIS IS A TEST11')\" > abc1.py\n",
    "printf \"print('THIS IS A TEST\\n')\\n\" > atest.py\n",
    "printf \"print('THIS IS A TEST\\n')\\n\" > xyz.py\n",
    "printf \"print('THIS IS A TEST11\\n')\\n\" > abc1.py\n",
    "\n",
    "# SHOWS ALL THE DIFFERENCES BETWEEN THE PYTHON SCRIPTS\n",
    "# WORKS FINE - HALTS TESTS\n",
    "\n",
    "py-diff atest.py xyz.py | testuser | testnum | awk '!($6=\"\")'"
   ]
  },
  {
   "cell_type": "code",
   "execution_count": 36,
   "id": "9a40ffff",
   "metadata": {},
   "outputs": [],
   "source": [
    "# # TEST NOT APPLICABLE RN \n",
    "# function kivy-win32-env {\n",
    "#    export PYTHONPATH='c:/cartera-de-tomas/python;c:/Program-Misc/python/kivy-1-9-0/kivy27'\n",
    "#    kivy_dir=\"/c/Program-Misc/python/kivy-1-9-0\"\n",
    "#    python_dir=\"$kivy_dir/Python27\"\n",
    "#    prepend-path \"$kivy_dir:$kivy_dir/Python27:$kivy_dir/tools:$kivy_dir/Python27/Scripts:$kivy_dir/gstreamer/bin:$kivy_dir/MinGW/bin:$kivy_dir/SDL2/bin\"\n",
    "# }"
   ]
  },
  {
   "cell_type": "code",
   "execution_count": 37,
   "id": "b6e7b1d1",
   "metadata": {},
   "outputs": [],
   "source": [
    "# # NEED HELP - MAYBE APPLICABLE?\n",
    "# alias elide-data='python -m transpose_data --elide'\n",
    "# alias kill-python=\"kill_em.sh --filter 'ipython|emacs' python\"\n",
    "# alias kill-python-all=\"kill_em.sh python\""
   ]
  },
  {
   "cell_type": "code",
   "execution_count": 38,
   "id": "5dbc85eb",
   "metadata": {},
   "outputs": [],
   "source": [
    "# # ERRORS = OSTYPE is 'undefined variable' \n",
    "# # NOTE: elide-data shows RuntimeError if any testfile is named abc.py\n",
    "\n",
    "# $ echo $OSTYPE\n",
    "#   linebr\n",
    "#   elide-data $BIN_DIR/template.py\n",
    "#   linebr\n",
    "#   kill-python\n",
    "#   linebr\n",
    "#   kill-python-all\n",
    "\n",
    "# | linux-gnu\n",
    "# | --------------------------------------------------------------------------------\n",
    "# | /home/xaea12/miniconda3/bin/python: No module named transpose_data\n",
    "# | --------------------------------------------------------------------------------\n",
    "# | pattern=/:[0-9][0-9] [^ ]*python/\n",
    "# | filter=/ipython|emacs/\n",
    "# | OSTYPE: Undefined variable.\n",
    "# | --------------------------------------------------------------------------------\n",
    "# | pattern=/:[0-9][0-9] [^ ]*python/\n",
    "# | filter=/($)(^)/\n",
    "# | OSTYPE: Undefined variable.\n"
   ]
  },
  {
   "cell_type": "code",
   "execution_count": 39,
   "id": "9322aa5a",
   "metadata": {},
   "outputs": [],
   "source": [
    "# alias TODAY='date'\n",
    "# alias extract-matches='extract_matches.perl'\n",
    "\n",
    "# function run-jupyter-notebook () {\n",
    "#     local port=\"$1\"; if [ \"$port\" = \"\" ]; then port=8888; fi\n",
    "#     local ip=\"$2\"; if [ \"$ip\" = \"\" ]; then ip=\"127.0.0.1\"; fi\n",
    "#     local log=\"$TEMP/jupyter-$(TODAY).log\"\n",
    "#     jupyter notebook --NotebookApp.token='' --no-browser --port $port --ip $ip >> \"$log\" 2>&1 &\n",
    "#     echo \"$log\"\n",
    "#     local delay=5\n",
    "#     echo \"sleeping $delay seconds for log to stabalize (effing jupyter)\"\n",
    "#     sleep $delay\n",
    "#     tail \"$log\"\n",
    "#     echo -n \"URL: \"\n",
    "#     extract-matches 'http:\\S+' \"$log\" | sort -u\n",
    "# }\n",
    "# alias jupyter-notebook-redir=run-jupyter-notebook\n",
    "# alias jupyter-notebook-redir-open='run-jupyter-notebook 8888 0.0.0.0'"
   ]
  },
  {
   "cell_type": "code",
   "execution_count": 40,
   "id": "caa3332b",
   "metadata": {},
   "outputs": [],
   "source": [
    "## OLD: too complicated for command-line testing\n",
    "\n",
    "# # ERROR GENERATED (see below)\n",
    "# $ jupyter-notebook-redir-open\n",
    "\n",
    "# | [1] 5335\n",
    "# | /jupyter-Sun Aug 28 08:13:40 AM +0545 2022.log\n",
    "# | sleeping 5 seconds for log to stabalize (effing jupyter)\n",
    "# | bash: /jupyter-Sun Aug 28 08:13:40 AM +0545 2022.log: Permission denied\n",
    "# | [1]+  Exit 1                  jupyter notebook --NotebookApp.token='' --no-browser --port $port --ip $ip >> \"$log\" 2>&1\n",
    "# | tail: cannot open '/jupyter-Sun Aug 28 08:13:40 AM +0545 2022.log' for reading: No such file or directory\n",
    "# | URL: Can't open /jupyter-Sun Aug 28 08:13:40 AM +0545 2022.log: No such file or directory at /home/xaea12/bin/extract_matches.perl line 132.\n",
    "## OLD: jupyter-notebook-redir-open | testnum | testuser | head -n 5"
   ]
  },
  {
   "cell_type": "code",
   "execution_count": 41,
   "id": "9c155aa3",
   "metadata": {},
   "outputs": [],
   "source": [
    "# # ERROR - MODULE NOT FOUND - NEED HELP\n",
    "\n",
    "## BAD: # $ rm -rf ./*\n",
    "#   printf \"print('THIS IS A TEST FOR TEXT EXTRACT ALIAS.')\" > textex.py\n",
    "#   xtract-text ./textex.py\n",
    "\n",
    "# | /home/xaea12/miniconda3/bin/python: No module named extract_document_text\n",
    "#\n",
    "## TODO2: retry as tomohara-aliases.bash was revised after test drafted"
   ]
  },
  {
   "cell_type": "code",
   "execution_count": 42,
   "id": "53136103",
   "metadata": {},
   "outputs": [],
   "source": [
    "## OLD: obsolete alias\n",
    "# # ERROR (LOG FILE NOT FOUND) - NEED HELP\n",
    "# $ test-script ./textex.py\n",
    "# | abort: no repository found in '/tmp/test-py-commands/test-3443' (.hg not found)\n",
    "# | bash: tests/_test_textex.03sep22.log: No such file or directory\n",
    "# | tests/_test_textex.03sep22.log: No such file or directory"
   ]
  },
  {
   "cell_type": "code",
   "execution_count": 43,
   "id": "31d1b151",
   "metadata": {},
   "outputs": [],
   "source": [
    "## OLD:\n",
    "## # TESTING A PYTHON SCRIPT\n",
    "## printf \"print('THIS IS A TEST10')\\nprint('THIS IS A TEST11')\\nprint('THIS IS A TEST12')\\nprint('THIS IS A TEST13')\" > random_line_test.py"
   ]
  },
  {
   "cell_type": "code",
   "execution_count": 44,
   "id": "3b6aab89",
   "metadata": {},
   "outputs": [],
   "source": [
    "## TODO2:\n",
    "##    header l1 l2 .. l10 > _l1-10.data_\n",
    "##    filter-random 10 > _l1-10.data_ > _r1pct-l1-10.data_\n",
    "##    ...\n",
    "\n",
    "# # Need Help (TBF - NEED HELP OPERATING)\n",
    "# filter-random _r10pct-fubar.data"
   ]
  },
  {
   "cell_type": "code",
   "execution_count": 45,
   "id": "88b697b0-82c6-48c2-8b0d-96d922b177b6",
   "metadata": {},
   "outputs": [],
   "source": [
    "## OLD\n",
    "## # # ERROR : MISSING MODULE (No module named randomize_lines) / TAKES TIME OF EXECUTION\n",
    "## # # NEED HELP\n",
    "## # randomize-datafile atest.py"
   ]
  },
  {
   "cell_type": "code",
   "execution_count": 46,
   "id": "c3845ce6-bf26-423c-81f3-356acca66f8d",
   "metadata": {},
   "outputs": [
    {
     "name": "stdout",
     "output_type": "stream",
     "text": [
      "1\n",
      "2\n",
      "3\n",
      "4\n",
      "5\n",
      "6\n",
      "7\n",
      "8\n",
      "9\n"
     ]
    }
   ],
   "source": [
    "## BAD:\n",
    "## randomize-datafile random_line_test.py\n",
    "\n",
    "## NOTE: This 3-step test illustrates new preferred way for testing\n",
    "## run command showing output (steps 1 & 2); test for specific condition (step 3)\n",
    "\n",
    "# Generate sorted data\n",
    "echo -e \"1 2 3 4 5 6 7 8 9\" | tr \" \" \"\\n\" > random_line_test.data\n",
    "cat random_line_test.data"
   ]
  },
  {
   "cell_type": "code",
   "execution_count": 47,
   "id": "833520df-e503-4131-bbdd-98bd990a9d2f",
   "metadata": {},
   "outputs": [
    {
     "name": "stdout",
     "output_type": "stream",
     "text": [
      "1\n",
      "2\n",
      "6\n",
      "3\n",
      "9\n",
      "5\n",
      "8\n",
      "4\n",
      "7\n"
     ]
    }
   ],
   "source": [
    "# Randomize data\n",
    "randomize-datafile random_line_test.data > random_line_test.data.random\n",
    "cat random_line_test.data.random"
   ]
  },
  {
   "cell_type": "code",
   "execution_count": 48,
   "id": "4f226d82-2376-4caf-9b40-49a742a06980",
   "metadata": {},
   "outputs": [
    {
     "name": "stdout",
     "output_type": "stream",
     "text": [
      "0\n"
     ]
    }
   ],
   "source": [
    "# Make sure at least 10 lines in diff listing\n",
    "num_diffs=$(command diff random_line_test.data random_line_test.data.random | wc -l)\n",
    "[ $num_diffs -gt 10 ]; echo $?"
   ]
  },
  {
   "cell_type": "code",
   "execution_count": 49,
   "id": "4db32912-ca91-4791-b4d6-658674ad8403",
   "metadata": {},
   "outputs": [
    {
     "name": "stdout",
     "output_type": "stream",
     "text": [
      "'link1' -> 'file1'\n",
      "------------------------------------------------------------------------------------------------------------------------------------\n",
      "abc1.py   file1  random_line_test.data         testless.txt\n",
      "atest.py  \u001b[0m\u001b[01;36mlink1\u001b[0m  random_line_test.data.random  xyz.py\n"
     ]
    }
   ],
   "source": [
    "## BAD: conditional-source $BIN_DIR/tests/_dir-aliases.bash\n",
    "\n",
    "touch file1\n",
    "ln-symbolic file1 link1\n",
    "linebr\n",
    "ls"
   ]
  },
  {
   "cell_type": "code",
   "execution_count": 50,
   "id": "89a01a21",
   "metadata": {},
   "outputs": [
    {
     "name": "stdout",
     "output_type": "stream",
     "text": [
      "  % Total    % Received % Xferd  Average Speed   Time    Time     Time  Current\n",
      "                                 Dload  Upload   Total   Spent    Left  Speed\n",
      "100  1256  100  1256    0     0    672      0  0:00:01  0:00:01 --:--:--   672\n",
      "------------------------------------------------------------------------------------------------------------------------------------\n",
      "total NN    \n",
      "-rw-rw-r-- N userxf333 userxf333 NN  NN NN:NN abcN.py\n",
      "-rw-rw-r-- N userxf333 userxf333 NN  NN NN:NN atest.py\n",
      "-rw-rw-r-- N userxf333 userxf333 N  NN NN:NN fileN\n",
      "lrwxrwxrwx N userxf333 userxf333 N  NN NN:NN linkN -> fileN\n",
      "-rw-rw-r-- N userxf333 userxf333 NN  NN NN:NN random_line_test.data\n",
      "-rw-rw-r-- N userxf333 userxf333 NN  NN NN:NN random_line_test.data.random\n",
      "-rw-rw-r-- N userxf333 userxf333 NN  NN NN:NN testless.txt\n",
      "-rw-rw-r-- N userxf333 userxf333 NNNN  NN NN:NN www.example.com\n",
      "-rw-rw-r-- N userxf333 userxf333 NN  NN NN:NN xyz.py\n",
      "------------------------------------------------------------------------------------------------------------------------------------\n",
      "file:////home/userxf333/tomProject/shell-scripts/tests/auto_batspp.py\n"
     ]
    }
   ],
   "source": [
    "# TESTS FOR curl-dump AND url-path\n",
    "curl-dump https://www.example.com/\n",
    "linebr\n",
    "ls -l | testnum | testuser | awk '!($6=\"\")'\n",
    "linebr\n",
    "url-path $BIN_DIR/tests/auto_batspp.py | testuser"
   ]
  },
  {
   "cell_type": "code",
   "execution_count": 51,
   "id": "3777aa4a",
   "metadata": {},
   "outputs": [],
   "source": [
    "# # WORKS WELL - CANNOT USE testnum & testuser (halts test)\n",
    "# firefox"
   ]
  },
  {
   "cell_type": "code",
   "execution_count": 52,
   "id": "292f5558",
   "metadata": {},
   "outputs": [
    {
     "name": "stdout",
     "output_type": "stream",
     "text": [
      "/tmp/trace-python-commands/test-7766\n"
     ]
    }
   ],
   "source": [
    "pwd"
   ]
  },
  {
   "cell_type": "code",
   "execution_count": 53,
   "id": "c57545c5",
   "metadata": {},
   "outputs": [],
   "source": [
    "## OLD:\n",
    "## pwd |  sed -r \"s/\"$USER\"+/user/g\"\n",
    "## BAD: rm -rf * > /dev/null\n",
    "\n",
    "## DEBUG:\n",
    "## command pwd |  sed -r \"s/\"$USER\"+/user/g\""
   ]
  },
  {
   "cell_type": "code",
   "execution_count": 54,
   "id": "a3d18560",
   "metadata": {},
   "outputs": [],
   "source": [
    "command mv -f * \"$trash_dir\""
   ]
  }
 ],
 "metadata": {
  "kernelspec": {
   "display_name": "Bash",
   "language": "bash",
   "name": "bash"
  },
  "language_info": {
   "codemirror_mode": "shell",
   "file_extension": ".sh",
   "mimetype": "text/x-sh",
   "name": "bash"
  }
 },
 "nbformat": 4,
 "nbformat_minor": 5
}
