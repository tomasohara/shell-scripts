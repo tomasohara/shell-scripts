{
 "cells": [
  {
   "cell_type": "code",
   "execution_count": 1,
   "id": "7cb29952-f87f-4874-bb8e-9416fcdf3827",
   "metadata": {},
   "outputs": [],
   "source": [
    "# Miscellaenous tests for scripts used in alias testing"
   ]
  },
  {
   "cell_type": "code",
   "execution_count": 2,
   "id": "c071734b-2447-4d61-883a-cfe6b0a3001e",
   "metadata": {},
   "outputs": [],
   "source": [
    "# Global Setup\n",
    "# TODO"
   ]
  },
  {
   "cell_type": "code",
   "execution_count": 3,
   "id": "286f9780-c223-4eab-b57a-f593efe59d3b",
   "metadata": {},
   "outputs": [],
   "source": [
    "#-------------------------------------------------------------------------------\n",
    "# simple_batspp.py"
   ]
  },
  {
   "cell_type": "code",
   "execution_count": 4,
   "id": "ddfd9f55-9a4d-49be-8de7-cced0d1bf3fc",
   "metadata": {},
   "outputs": [],
   "source": [
    "# Setup\n",
    "log=$TMP/_simple-alias-test_.log\n",
    "MATCH_SENTINELS=1 PARA_BLOCKS=1 BASH_EVAL=1 ../simple_batspp.py simple-alias-test.batspp >| $log 2>&1"
   ]
  },
  {
   "cell_type": "code",
   "execution_count": 5,
   "id": "477cf63b-2675-4e54-ba4c-4a6e91be5f14",
   "metadata": {},
   "outputs": [
    {
     "name": "stdout",
     "output_type": "stream",
     "text": [
      "2 tests, 1 \u001b[01;31m\u001b[Kfailure\u001b[m\u001b[K(s)\n"
     ]
    }
   ],
   "source": [
    "# Show results\n",
    "grep failure $log"
   ]
  },
  {
   "cell_type": "code",
   "execution_count": 6,
   "id": "9911adb1-b9f6-44a4-a820-0afdaea2cc52",
   "metadata": {},
   "outputs": [
    {
     "name": "stdout",
     "output_type": "stream",
     "text": [
      "1\n"
     ]
    }
   ],
   "source": [
    "# Make sure no failures\n",
    "[ \"1\" = \"$(grep -c '0 failure(s)' $log)\" ]; echo $?"
   ]
  },
  {
   "cell_type": "code",
   "execution_count": 7,
   "id": "e96fd637-4ca4-4f8f-a939-8e91d0135596",
   "metadata": {},
   "outputs": [],
   "source": [
    "#-------------------------------------------------------------------------------\n",
    "# jupyter_to_batspp.py"
   ]
  },
  {
   "cell_type": "code",
   "execution_count": 8,
   "id": "a32d21fc-11e0-4204-9b59-f891f397ba27",
   "metadata": {},
   "outputs": [],
   "source": [
    "# Setup\n",
    "log=$TMP/_jupyter_to_batspp_.log\n",
    "../jupyter_to_batspp.py README.ipynb >| $log 2>&1 "
   ]
  },
  {
   "cell_type": "code",
   "execution_count": 9,
   "id": "a8d93dcb-c2ad-4fcd-9fad-9ec2633dadc0",
   "metadata": {},
   "outputs": [
    {
     "name": "stdout",
     "output_type": "stream",
     "text": [
      "0\n"
     ]
    }
   ],
   "source": [
    "# Show sample\n",
    "[ \"$(tail --lines=15 $log | wc -l)\" -eq 15 ]; echo $? "
   ]
  },
  {
   "cell_type": "code",
   "execution_count": 10,
   "id": "6c110d76-9927-4bb9-8c6c-ed7ba76db9a1",
   "metadata": {},
   "outputs": [
    {
     "name": "stdout",
     "output_type": "stream",
     "text": [
      "0\n"
     ]
    }
   ],
   "source": [
    "# Make sure cat command and output present\n",
    "[ \"a b c D E F\" = \"$(grep -A1 '\\$ cat _abcDEF_' $log | tail -1)\" ]; echo $?"
   ]
  },
  {
   "cell_type": "code",
   "execution_count": 11,
   "id": "e2289fa3-4545-45a6-aa02-f8a1ac7864f6",
   "metadata": {},
   "outputs": [
    {
     "name": "stdout",
     "output_type": "stream",
     "text": [
      "0\n"
     ]
    }
   ],
   "source": [
    "# Make sure status check ($?) present\n",
    "[ \"0\" = \"$(grep -A1 'num_lower -eq 3' $log | tail -1)\" ]; echo $?"
   ]
  }
 ],
 "metadata": {
  "kernelspec": {
   "display_name": "Bash",
   "language": "bash",
   "name": "bash"
  },
  "language_info": {
   "codemirror_mode": "shell",
   "file_extension": ".sh",
   "mimetype": "text/x-sh",
   "name": "bash"
  }
 },
 "nbformat": 4,
 "nbformat_minor": 5
}
