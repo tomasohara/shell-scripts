{
 "cells": [
  {
   "cell_type": "code",
   "execution_count": 1,
   "id": "3d3ddf65-8036-4923-ac32-45f5d98e91e6",
   "metadata": {},
   "outputs": [],
   "source": [
    "# Tests for JSON aliases"
   ]
  },
  {
   "cell_type": "code",
   "execution_count": 2,
   "id": "f4eebb4d-93e2-4c21-b0e5-13b1914fa0d7",
   "metadata": {},
   "outputs": [],
   "source": [
    "# NOTE: Work-in-progress revision to testing paradigm.\n",
    "# *** Remember to \"Keep It Simple, Sam\" (i.e., KISS principle). \n",
    "# That is, test for simple things that can be verified with grep -c or similar commands.\n",
    "# \n",
    "# For simplicity, the output can still be done as before. However, we will need to\n",
    "# add a mechanism so that the test target doesn't change to match the alias revision.\n",
    "#\n",
    "# We will extend bats_pp to allow for special case tests of the following format:\n",
    "#    condition; echo $?\n",
    "# The test will be considered passing if and only if the output is 0.\n",
    "# For example,\n",
    "#    num_lines=$(my-alias | grep -c \"pattern\")\n",
    "#    [ $num_lines -gt 2 ]; echo $?\n",
    "#\n",
    "# Therefore, one cell can show the command output as done before, and the next cell\n",
    "# show the test. For example,\n",
    "#    cell 1:\n",
    "#       code: \n",
    "#           echo \"a b c D E F\" > _abcDEF_.txt_\n",
    "#           cat _abcDEF_.txt_\n",
    "#       output:\n",
    "#           a b c D E F\n",
    "#    cell 2:\n",
    "#       code:\n",
    "#           num_lower=$(tr \" \" \"\\n\" _abcDEF_.txt_ | grep -c \"[a-z]\")\n",
    "#           [ $num_lower -eq 3 ]; echo $?\n",
    "#       output:\n",
    "#           0\n",
    "#"
   ]
  },
  {
   "cell_type": "code",
   "execution_count": 3,
   "id": "f98b217c-248e-4b31-ac94-680d7ce9167e",
   "metadata": {},
   "outputs": [],
   "source": [
    "# TEMP: \n",
    "# To avoid issues with 'rm -r' the file clobber operator is used (i.e., \">|\")\n",
    "# That itself is dangerous, so the filenames start and end with _ to minimize conflict.\n",
    "# For example, \"file.txt\" => \"_file.txt_\")."
   ]
  },
  {
   "cell_type": "code",
   "execution_count": 4,
   "id": "6606f75c-a15b-48d9-9c55-5fac8d45d86e",
   "metadata": {},
   "outputs": [],
   "source": [
    "## Bracketed Paste is disabled to prevent characters after output\n",
    "## TODO1: Make sure this is needed (e.g., run jupyter under Bash shell not zsh)\n",
    "\n",
    "## Example: \n",
    "# $ echo 'Hi'\n",
    "# | Hi?2004l\n",
    "\n",
    "bind 'set enable-bracketed-paste off'"
   ]
  },
  {
   "cell_type": "code",
   "execution_count": 5,
   "id": "0ff295df",
   "metadata": {},
   "outputs": [],
   "source": [
    "## TEST:  Make sure simple prompt used (e.g., no escapes that might contaminate output)\n",
    "## PS1=\"$ \"\n",
    "## TODO: PS1=\"> \"\n",
    "\n",
    "## NOTE: The Jupyter bash kernel requires that PS1 not be modified as they customize it. \n",
    "## OLD: echo $PS1"
   ]
  },
  {
   "cell_type": "code",
   "execution_count": 6,
   "id": "503cf120",
   "metadata": {},
   "outputs": [],
   "source": [
    "## BAD (SUPER BAD)\n",
    "# # Delete all aliases and function\n",
    "# # TODO: Instead start from pristine environment\n",
    "# unalias -a\n",
    "# alias | wc -l\n",
    "# for f in $(typeset -f | egrep '^\\w+'); do unset -f $f; done\n",
    "# typeset -f | egrep '^\\w+' | wc -l"
   ]
  },
  {
   "cell_type": "code",
   "execution_count": 7,
   "id": "87325c19",
   "metadata": {},
   "outputs": [
    {
     "name": "stdout",
     "output_type": "stream",
     "text": [
      "renamed '/tmp/test-json-alias/json-related-alias' -> '/tmp/test-json-alias/json-related-alias.16Apr24'\n"
     ]
    }
   ],
   "source": [
    "# Global setup\n",
    "## NOTE: For reproducability, the directory name needs to be fixed\n",
    "## In place of $$, use a psuedo random number (e,g., 1210)\n",
    "## *** All output from one run to the next needs to be the same ***\n",
    "# Setting a temp directory for tests\n",
    "\n",
    "## OLD: TMP=/tmp/test-json-alias\n",
    "\n",
    "## OLD:0\n",
    "## NOTE: Source it directly from the ./tests directory.\n",
    "## BIN_DIR=$PWD/..\n",
    "\n",
    "\n",
    "TMP=${TMP:-/tmp}\n",
    "if [ \"$DEBUG_LEVEL\" -lt 4 ]; then TMP=/tmp/test-json-alias; fi\n",
    "## temp_dir=$TMP/test-$$\n",
    "temp_dir=$TMP/json-related-alias\n",
    "rename-with-file-date \"$temp_dir\"\n",
    "command mkdir -p \"$temp_dir\"\n",
    "command cd \"$temp_dir\"\n",
    "## OLD\n",
    "# mkdir -p \"$temp_dir\"\n",
    "# # TODO: /bin/rm -rvf \"$temp_dir\"\n",
    "# cd \"$temp_dir\"\n",
    "# pwd\n",
    "\n",
    "#ALIAS FOR PRINTING SEPERATION LINES (FOR JUPYTER)\n",
    "alias linebr=\"printf '%*s\\n' \"${COLUMNS:-$(tput cols)}\" '' | tr ' ' -\""
   ]
  },
  {
   "cell_type": "code",
   "execution_count": 8,
   "id": "9a135b2b",
   "metadata": {},
   "outputs": [],
   "source": [
    "## Moved contents from Global Setup that creates output (leads to Assertion failed)\n",
    "\n",
    "## OLD: Moved all contents to above cell\n",
    "# mkdir -p \"$temp_dir\"\n",
    "# # TODO: /bin/rm -rvf \"$temp_dir\"\n",
    "# command cd \"$temp_dir\"\n",
    "# command pwd\n"
   ]
  },
  {
   "cell_type": "code",
   "execution_count": 9,
   "id": "2b788ea0",
   "metadata": {},
   "outputs": [],
   "source": [
    "## BAD: don't count aliases because they change too often\n",
    "## # Count aliases proper\n",
    "## alias | wc -l\n",
    "## # Count functions\n",
    "## typeset -f | egrep '^\\w+' | wc -l"
   ]
  },
  {
   "cell_type": "code",
   "execution_count": 10,
   "id": "6c08163d",
   "metadata": {},
   "outputs": [],
   "source": [
    "## BAD: this should have been cleaned up by now\n",
    "## source $BIN_DIR/tomohara-aliases.bash"
   ]
  },
  {
   "cell_type": "code",
   "execution_count": 11,
   "id": "924902bb-0a88-4288-a77b-befb0059313b",
   "metadata": {},
   "outputs": [],
   "source": [
    "## TODO: test for expected condition using grep\n",
    "## ASIDE: grep issues escape codes for color so use \"command grep\"\n",
    "## NOTE: otherwise the test can succeed if jupyter output is updated along with bad alias definition\n",
    "## ex: ... | command grep 'foo => \"123...:"
   ]
  },
  {
   "cell_type": "code",
   "execution_count": 12,
   "id": "e5887c23-9a4d-4c13-b844-08668c53c942",
   "metadata": {},
   "outputs": [
    {
     "name": "stdout",
     "output_type": "stream",
     "text": [
      "  4   9  65 _hi-mom.pp-json_\n",
      "  1   2  50 _hi-mom.txt_\n",
      "  5  11 115 total\n"
     ]
    }
   ],
   "source": [
    "# Test JSON pretty printing\n",
    "\n",
    "## OLD:\n",
    "## EXAMPLES FOR TEST 1 - FROM https://metacpan.org/dist/JSON-PP/view/bin/json_pp\n",
    "## OLD: perl -e 'print q|{\"foo\":\"HI MOM!\",\"bar\":1234567890000000000000000}|' | pp-json -f json -t dumper\n",
    "## Expected output\n",
    "## {\n",
    "##   bar => \"1234567890000000000000000\",\n",
    "##   foo => \"HI MOM!\"\n",
    "## }\n",
    "\n",
    "perl -e 'print q|{\"foo\":\"HI MOM!\",\"bar\":1234567890000000000000000}|, \"\\n\"' >| _hi-mom.txt_\n",
    "pp-json < _hi-mom.txt_ >| _hi-mom.pp-json_\n",
    "wc _hi-mom.*"
   ]
  },
  {
   "cell_type": "code",
   "execution_count": 13,
   "id": "b7b6e740-f9f6-41eb-8482-064187c8e45e",
   "metadata": {},
   "outputs": [
    {
     "name": "stdout",
     "output_type": "stream",
     "text": [
      "0\n"
     ]
    }
   ],
   "source": [
    "# Check for above line count (status should be 0)\n",
    "num_lines=$(wc -l < _hi-mom.pp-json_)\n",
    "[ $num_lines -eq 4 ]; echo \"$?\""
   ]
  },
  {
   "cell_type": "code",
   "execution_count": 14,
   "id": "834867c4-d235-4c77-9123-a3455917416c",
   "metadata": {},
   "outputs": [
    {
     "name": "stdout",
     "output_type": "stream",
     "text": [
      "0\n"
     ]
    }
   ],
   "source": [
    "# Test JSON with for foreign text\n",
    "#\n",
    "## TODO: *** Review me carefully: for example on updating tests for maintainability ***\n",
    "#\n",
    "# json-pp WORKS SAME AS pp-json\n",
    "#\n",
    "## OLD\n",
    "## perl -e'print q|{\"foo\":\"あい\",\"bar\":1234567890000000000000000}|' | json-pp -f json -t dumper -json_opt pretty,utf8,allow_bignum\n",
    "##\n",
    "## OUTPUT\n",
    "## {\n",
    "##  bar => bless( {\n",
    "##    sign => \"+\",\n",
    "##     value => bless( [\n",
    "##       0,\n",
    "##       890000000,\n",
    "##       1234567\n",
    "##     ], 'Math::BigInt::Calc' )\n",
    "##   }, 'Math::BigInt' ),\n",
    "## foo => \"\\x{3042}\\x{3044}\"\n",
    "## }\n",
    "## NEW: make sure the hex representation shows up\n",
    "## TODO: perl -e 'print q|{\"foo\":\"あい\",\"bar\":123456789}|, \"\\n\"' | json-pp  2>&1 | grep -c '\\x{3042}\\x{3044}'\n",
    "#\n",
    "## NOTE: *** Keep it simple Sam (i.e., KISS principle): just ensure pretty printed!\n",
    "## KISS: make sure foo on single line\n",
    "## TEMP: Uses >| to avoid rm issue\n",
    "#\n",
    "perl -e 'print q|{\"foo\":\"あい\",\"bar\":123}|, \"\\n\"' >| _foo-bar-123.txt_\n",
    "result=$(grep foo _foo-bar-123.txt_ | grep -c bar)\n",
    "[ $result -eq 1 ]; echo $?"
   ]
  },
  {
   "cell_type": "code",
   "execution_count": 15,
   "id": "6e461b80-7a92-498c-a110-a714ea1df5e6",
   "metadata": {},
   "outputs": [
    {
     "name": "stdout",
     "output_type": "stream",
     "text": [
      "0\n"
     ]
    }
   ],
   "source": [
    "json-pp < _foo-bar-123.txt_ >| _foo-bar-123.txt.pp_\n",
    "result=$(grep foo _foo-bar-123.txt.pp_ | grep -c bar)\n",
    "[ $result -eq 0 ]; echo $?"
   ]
  },
  {
   "cell_type": "code",
   "execution_count": 16,
   "id": "288799b9-a0f3-4540-9145-b8bfa63dc2b1",
   "metadata": {},
   "outputs": [
    {
     "name": "stdout",
     "output_type": "stream",
     "text": [
      "{\"z\":1, \"a\":2}\n"
     ]
    }
   ],
   "source": [
    "# note: canonical sorts the keys of hashes (utf8 avoids warning and pretty might be the default\n",
    "## OLD: perl -e'print q|{\"foo\":\"あい\",\"bar\":1234567890000000000000000}|' | pp-json-sorted -f json -t dumper\n",
    "## KISS: just verify sorting done\n",
    "perl -e 'print q|{\"z\":1, \"a\":2}|, \"\\n\"' >| _foo-bar-za.txt_\n",
    "cat _foo-bar-za.txt_\n",
    "pp-json-sorted < _foo-bar-za.txt_ >| _foo-bar-za.sorted_"
   ]
  },
  {
   "cell_type": "code",
   "execution_count": 17,
   "id": "fad52445-44fa-4dd8-84d9-faa014a8a3b4",
   "metadata": {},
   "outputs": [
    {
     "name": "stdout",
     "output_type": "stream",
     "text": [
      "0\n"
     ]
    }
   ],
   "source": [
    "count_z_before_a_unsorted=$(echo \"$(cat _foo-bar-za.txt_)\" | grep -c \"z.*a\")\n",
    "[ $count_z_before_a_unsorted -eq 1 ]; echo $?"
   ]
  },
  {
   "cell_type": "code",
   "execution_count": 18,
   "id": "007989e8-1b37-43c3-a371-41e1f179088b",
   "metadata": {},
   "outputs": [
    {
     "name": "stdout",
     "output_type": "stream",
     "text": [
      "0\n"
     ]
    }
   ],
   "source": [
    "count_z_before_a_sorted=$(echo \"$(cat _foo-bar-za.sorted_)\" | grep -c \"z.*a\")\n",
    "[ $count_z_before_a_sorted -eq 0 ]; echo $?"
   ]
  },
  {
   "cell_type": "code",
   "execution_count": 19,
   "id": "c9e9e47c-3c76-47b5-bd8c-96fba12df59c",
   "metadata": {},
   "outputs": [],
   "source": [
    "## TEST 2 - TEXT MANIPULATION\n",
    "# Text manipulation\n",
    "# alias intersection=intersection.perl\n",
    "# alias difference=intersection.perl -diff\n",
    "# alias 'line-intersection=intersection.perl -line'\n",
    "# alias 'line-difference=intersection.perl -diff -line'"
   ]
  },
  {
   "cell_type": "code",
   "execution_count": 20,
   "id": "d1e269cf",
   "metadata": {
    "scrolled": true
   },
   "outputs": [],
   "source": [
    "## OLD: pwd"
   ]
  },
  {
   "cell_type": "code",
   "execution_count": 21,
   "id": "5afed100",
   "metadata": {},
   "outputs": [],
   "source": [
    "## TEST 2 - TEXT MANIPULATION\n",
    "\n",
    "## BAD: rm -rf ./* > /dev/null\n",
    "## TODO1: rework without need to delete files (too dangerous and complicates debugging)\n",
    "## TEMP (n.b., uses full path to avoid catastrophe):\n",
    "\n",
    "## BAD: rm -rf is bad; better to delete specific files\n",
    "## if [ \"$DEBUG_LEVEL\" -lt 4 ]; then rm -rf /tmp/test-json-alias/test-3214/*; fi\n",
    "## printf \"This is Line A.\\n1 2 3 4 5\" > file_a.txt\n",
    "## printf \"This is Line B.\\n1 3 5 7 9\" > file_b.txt"
   ]
  },
  {
   "cell_type": "code",
   "execution_count": 22,
   "id": "2d80e9a2-8abc-4f1c-b1e7-02d30f9d189b",
   "metadata": {},
   "outputs": [
    {
     "name": "stdout",
     "output_type": "stream",
     "text": [
      "==> ./_file_a.txt_ <==\n",
      "This is Line A.\n",
      "1 2 3 4 5\n",
      "\n",
      "==> ./_file_b.txt_ <==\n",
      "This is Line B.\n",
      "1 3 5 7 9\n"
     ]
    }
   ],
   "source": [
    "# Output text for testing intersection, etc.\n",
    "# TEMP: Uses clobber to avoid use of rm\n",
    "## OLD\n",
    "## printf \"This is Line A.\\n1 2 3 4 5\" >| \"$temp_dir\"/file_a.txt\n",
    "## printf \"This is Line B.\\n1 3 5 7 9\" >| \"$temp_dir\"/file_b.txt\n",
    "printf \"This is Line A.\\n1 2 3 4 5\\n\" >| \"$temp_dir\"/_file_a.txt_\n",
    "printf \"This is Line B.\\n1 3 5 7 9\\n\" >| \"$temp_dir\"/_file_b.txt_\n",
    "head ./_file_a.txt_ ./_file_b.txt_"
   ]
  },
  {
   "cell_type": "code",
   "execution_count": 23,
   "id": "4e90cda8-b46b-4723-b81e-936184e7ac9f",
   "metadata": {},
   "outputs": [
    {
     "name": "stdout",
     "output_type": "stream",
     "text": [
      "This\n",
      "is\n",
      "Line\n",
      "1\n",
      "3\n",
      "5\n"
     ]
    }
   ],
   "source": [
    "intersection ./_file_a.txt_ ./_file_b.txt_ >| _intersection.out_\n",
    "cat _intersection.out_"
   ]
  },
  {
   "cell_type": "code",
   "execution_count": 24,
   "id": "5dfaf200-acf0-4b93-a3fc-f7d88a763746",
   "metadata": {},
   "outputs": [
    {
     "name": "stdout",
     "output_type": "stream",
     "text": [
      "0\n"
     ]
    }
   ],
   "source": [
    "num_lines=$(wc -l < _intersection.out_)\n",
    "[ $num_lines -eq 6 ]; echo $?"
   ]
  },
  {
   "cell_type": "code",
   "execution_count": 25,
   "id": "41667376-26de-4bc8-a363-a0e3b041b76d",
   "metadata": {},
   "outputs": [
    {
     "name": "stdout",
     "output_type": "stream",
     "text": [
      "7\n",
      "9\n",
      "B.\n"
     ]
    }
   ],
   "source": [
    "difference ./_file_b.txt_ ./_file_a.txt_ >| _difference.out_\n",
    "## OLD: Wrong Filename\n",
    "# cat _intersection.txt\n",
    "cat _difference.out_"
   ]
  },
  {
   "cell_type": "code",
   "execution_count": 26,
   "id": "40f93411-77b6-42f6-a8a4-6bc607692660",
   "metadata": {},
   "outputs": [
    {
     "name": "stdout",
     "output_type": "stream",
     "text": [
      "0\n"
     ]
    }
   ],
   "source": [
    "num_lines=$( wc -l < _difference.out_)\n",
    "[ $num_lines -eq 3 ]; echo $?"
   ]
  },
  {
   "cell_type": "code",
   "execution_count": 27,
   "id": "aa26c75f",
   "metadata": {},
   "outputs": [
    {
     "name": "stdout",
     "output_type": "stream",
     "text": [
      "1 3 5 7 9\n",
      "This is Line B.\n"
     ]
    }
   ],
   "source": [
    "line-difference ./_file_b.txt_ ./_file_a.txt_ >| _line-difference.out_\n",
    "cat _line-difference.out_"
   ]
  },
  {
   "cell_type": "code",
   "execution_count": 28,
   "id": "a64d2b6c-16ce-477c-a8b5-5a4920daa295",
   "metadata": {},
   "outputs": [
    {
     "name": "stdout",
     "output_type": "stream",
     "text": [
      "0\n"
     ]
    }
   ],
   "source": [
    "num_lines=$(wc -l < _line-difference.out_)\n",
    "[ $num_lines -eq 2 ]; echo $?"
   ]
  },
  {
   "cell_type": "code",
   "execution_count": 29,
   "id": "7b4e1f9f-1038-439c-b30f-428af855c53e",
   "metadata": {},
   "outputs": [
    {
     "name": "stdout",
     "output_type": "stream",
     "text": [
      "00000000  48 69 20 4D 6F 6D 2C 20 - 0D 49 20 61 6D 20 75 73  Hi Mom, .I am us\n",
      "00000010  69 6E 67 20 55 62 75 6E - 74 75 0A                 ing Ubuntu.\n",
      " 1  6 27 _ubuntu-with-cr.out_\n"
     ]
    }
   ],
   "source": [
    "# THIS IS THE DEFAULT PRINT STATEMENT WITH /r (RETURN)\n",
    "printf \"Hi Mom, \\rI am using Ubuntu\\n\" >| _ubuntu-with-cr.out_\n",
    "# Note: there should be 27 characters\n",
    "hexview.perl _ubuntu-with-cr.out_\n",
    "wc _ubuntu-with-cr.out_"
   ]
  },
  {
   "cell_type": "code",
   "execution_count": 30,
   "id": "67b91bef-c18f-4acf-b269-824909eef00c",
   "metadata": {},
   "outputs": [
    {
     "name": "stdout",
     "output_type": "stream",
     "text": [
      "0\n"
     ]
    }
   ],
   "source": [
    "num_chars=$(wc -c < _ubuntu-with-cr.out_)\n",
    "[ $num_chars -eq 27 ];  echo $?"
   ]
  },
  {
   "cell_type": "code",
   "execution_count": 31,
   "id": "8648f684-f32c-42d1-9133-d080e1e31058",
   "metadata": {},
   "outputs": [
    {
     "name": "stdout",
     "output_type": "stream",
     "text": [
      "00000000  48 69 20 4D 6F 6D 2C 20 - 49 20 61 6D 20 75 73 69  Hi Mom, I am usi\n",
      "00000010  6E 67 20 55 62 75 6E 74 - 75 0A                    ng Ubuntu.\n",
      " 1  6 26 _ubuntu-without-cr.out_\n"
     ]
    }
   ],
   "source": [
    "# remove-cr REMOVES RETURNS (or /r)\n",
    "printf \"Hi Mom,\\r I am using Ubuntu\\n\" | remove-cr >| _ubuntu-without-cr.out_\n",
    "# Note: there should be 26 characters\n",
    "hexview.perl _ubuntu-without-cr.out_\n",
    "wc _ubuntu-without-cr.out_"
   ]
  },
  {
   "cell_type": "code",
   "execution_count": 32,
   "id": "23304c50-b412-4bfa-8646-dcc22e1d0aa2",
   "metadata": {},
   "outputs": [
    {
     "name": "stdout",
     "output_type": "stream",
     "text": [
      "0\n"
     ]
    }
   ],
   "source": [
    "num_chars=$(wc -c < _ubuntu-without-cr.out_)\n",
    "[ $num_chars -eq 26 ];  echo $?"
   ]
  },
  {
   "cell_type": "code",
   "execution_count": 33,
   "id": "a3b91159-fc02-434b-9fd9-ab3109023d21",
   "metadata": {},
   "outputs": [
    {
     "name": "stdout",
     "output_type": "stream",
     "text": [
      "00000000  48 69 20 4D 6F 6D 2C 20 - 49 20 61 6D 20 75 73 69  Hi Mom, I am usi\n",
      "00000010  6E 67 20 55 62 75 6E 74 - 75 0A                    ng Ubuntu.\n",
      " 1  6 26 _alt-remove-cr.out_\n"
     ]
    }
   ],
   "source": [
    "# alt-remove-cr IS AN ALTERNATIVE OF remove-cr\n",
    "printf \"Hi Mom,\\r I am using Ubuntu\\n\" | alt-remove-cr >| _alt-remove-cr.out_\n",
    "# Note: there should be 26 characters\n",
    "hexview.perl _alt-remove-cr.out_\n",
    "wc _alt-remove-cr.out_"
   ]
  },
  {
   "cell_type": "code",
   "execution_count": 34,
   "id": "5ee58759-a547-455d-aba0-7b28c7cea681",
   "metadata": {},
   "outputs": [
    {
     "name": "stdout",
     "output_type": "stream",
     "text": [
      "0\n"
     ]
    }
   ],
   "source": [
    "num_chars=$(wc -c < _alt-remove-cr.out_)\n",
    "[ $num_chars -eq 26 ];  echo $?"
   ]
  },
  {
   "cell_type": "code",
   "execution_count": 35,
   "id": "80c1fca1-4f38-4510-b122-8b8bbbeadbf7",
   "metadata": {},
   "outputs": [
    {
     "name": "stdout",
     "output_type": "stream",
     "text": [
      " 1  6 26 _another-cr.txt_\n",
      " 1  6 27 _another-cr.txt_.bak\n",
      " 2 12 53 total\n"
     ]
    }
   ],
   "source": [
    "# perl-remove-cr ACTS AS remove-cr USING PERL\n",
    "##: OLD: printf \"Hi Mom,\\r I am using Ubuntu\\n\" | perl-remove-cr\n",
    "printf \"Hi Mom,\\r I am using Ubuntu\\n\" >| _another-cr.txt_\n",
    "perl-remove-cr _another-cr.txt_\n",
    "wc _another-cr.txt*"
   ]
  },
  {
   "cell_type": "code",
   "execution_count": 36,
   "id": "2bcad8e0-8a08-4abc-a2dc-7462469208e1",
   "metadata": {
    "scrolled": true
   },
   "outputs": [
    {
     "name": "stdout",
     "output_type": "stream",
     "text": [
      "0\n"
     ]
    }
   ],
   "source": [
    "num_chars_backup=$(wc -c < _another-cr.txt_.bak)\n",
    "num_chars_final=$(wc -c < _another-cr.txt_)\n",
    "[ $num_chars_backup -gt $num_chars_final ]; echo $?"
   ]
  },
  {
   "cell_type": "code",
   "execution_count": 37,
   "id": "7f9b05b1-4ce9-449b-ab24-aa0bd9e45d26",
   "metadata": {
    "scrolled": true
   },
   "outputs": [
    {
     "name": "stdout",
     "output_type": "stream",
     "text": [
      "/tmp/test-json-alias/json-related-alias\n"
     ]
    }
   ],
   "source": [
    "## DEBUG\n",
    "command pwd"
   ]
  },
  {
   "cell_type": "code",
   "execution_count": 38,
   "id": "7d03d39c-e43a-4a6f-ad02-9eefe5e1a4db",
   "metadata": {
    "scrolled": true
   },
   "outputs": [],
   "source": [
    "## OLD: pwd\n",
    "## BAD: rm -rf ./* > /dev/null\n",
    "## TODO1: rework without need to delete files (too dangerous and complicates debugging)\n",
    "## TEMP (n.b., uses full path to avoid catastrophe):\n",
    "## OLD: if [ \"$DEBUG_LEVEL\" -lt 4 ]; then rm -rf /tmp/test-json-alias/test-3214/*; fi\n",
    "## OLD: printf \"Hi Mom,\\nThs is the use of printf\\nI can use a backslash n to start a new line.\\n1\\n2\\n3\"> abc-test.txt"
   ]
  },
  {
   "cell_type": "code",
   "execution_count": 39,
   "id": "32d94e3e-c440-424c-a8d0-5aaa82205b94",
   "metadata": {
    "scrolled": true
   },
   "outputs": [
    {
     "name": "stdout",
     "output_type": "stream",
     "text": [
      "     1\tHi Mom,\n",
      "     2\tThs is the use of printf\n",
      "     3\tI can use a backslash n to start a new line.\n",
      "     4\t1\n",
      "     5\t2\n",
      "     6\t3\n"
     ]
    }
   ],
   "source": [
    "# Test last-n-with-header via printf with backslash\n",
    "\n",
    "## TEMP: Uses >| to work around rm issue\n",
    "printf \"Hi Mom,\\nThs is the use of printf\\nI can use a backslash n to start a new line.\\n1\\n2\\n3\\n\" >| _abc-test.txt_\n",
    "##\n",
    "## DEBUG:\n",
    "   cat -n _abc-test.txt_"
   ]
  },
  {
   "cell_type": "code",
   "execution_count": 40,
   "id": "c6d95d7d-1f79-48be-9662-9f947a8b4e60",
   "metadata": {},
   "outputs": [
    {
     "name": "stdout",
     "output_type": "stream",
     "text": [
      "Hi Mom,\n",
      "1\n",
      "2\n",
      "3\n"
     ]
    }
   ],
   "source": [
    "# Make sure 'last-n-with-header 1 file' includes only first and last line\n",
    "## TEMP: Uses >| to avoid rm issue\n",
    "last-n-with-header 3 _abc-test.txt_ >| _abc-test.last-3-with-header_\n",
    "## OLD: Invalid filename (from commit:9409f655)\n",
    "# cat _abc-test.last-1-with-header_\n",
    "cat _abc-test.last-3-with-header_"
   ]
  },
  {
   "cell_type": "code",
   "execution_count": 41,
   "id": "b1061edc-a3d4-4e76-af81-e2bf81bd1b45",
   "metadata": {},
   "outputs": [
    {
     "name": "stdout",
     "output_type": "stream",
     "text": [
      "letters=1 digits=3\n",
      "0\n"
     ]
    }
   ],
   "source": [
    "num_with_letters=$(grep -c '[a-z]' < _abc-test.last-3-with-header_)\n",
    "num_with_digits=$(grep -c '[0-9]' < _abc-test.last-3-with-header_)\n",
    "## DEBUG:\n",
    "   echo \"letters=$num_with_letters digits=$num_with_digits\"\n",
    "[ $num_with_letters -lt $num_with_digits ]; echo $?"
   ]
  },
  {
   "cell_type": "code",
   "execution_count": 42,
   "id": "09d321bf-3719-4a53-b52e-8523724bc30a",
   "metadata": {},
   "outputs": [
    {
     "name": "stdout",
     "output_type": "stream",
     "text": [
      "I can use a backslash n to start a new line.\n"
     ]
    }
   ],
   "source": [
    "show-line 3 _abc-test.txt_"
   ]
  },
  {
   "cell_type": "code",
   "execution_count": 43,
   "id": "e41ad3b8",
   "metadata": {},
   "outputs": [
    {
     "name": "stdout",
     "output_type": "stream",
     "text": [
      "0\n"
     ]
    }
   ],
   "source": [
    "num_lines=$(grep -c \"backslash\" _abc-test.txt_)\n",
    "[ $num_lines -eq 1 ]; echo $?"
   ]
  }
 ],
 "metadata": {
  "kernelspec": {
   "display_name": "Bash",
   "language": "bash",
   "name": "bash"
  },
  "language_info": {
   "codemirror_mode": "shell",
   "file_extension": ".sh",
   "mimetype": "text/x-sh",
   "name": "bash"
  }
 },
 "nbformat": 4,
 "nbformat_minor": 5
}
