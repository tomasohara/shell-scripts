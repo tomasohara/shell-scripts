{
 "cells": [
  {
   "cell_type": "code",
   "execution_count": 1,
   "id": "a03c1f14",
   "metadata": {
    "scrolled": false
   },
   "outputs": [],
   "source": [
    "# Global Setup\n",
    "bind 'set enable-bracketed-paste off'\n",
    "## OLD: echo 'BIND ON!' returns assertion failed (unexpected header file)"
   ]
  },
  {
   "cell_type": "code",
   "execution_count": 2,
   "id": "619ceccf",
   "metadata": {},
   "outputs": [
    {
     "name": "stdout",
     "output_type": "stream",
     "text": [
      "BIND ON!\n"
     ]
    }
   ],
   "source": [
    "## This is how a simple command works\n",
    "echo 'BIND ON!'"
   ]
  },
  {
   "cell_type": "code",
   "execution_count": 3,
   "id": "93dfcf88",
   "metadata": {
    "scrolled": true
   },
   "outputs": [
    {
     "name": "stdout",
     "output_type": "stream",
     "text": [
      "1\n"
     ]
    }
   ],
   "source": [
    "## Here's an example of pipeline\n",
    "echo 'Hello world' | wc -l"
   ]
  },
  {
   "cell_type": "code",
   "execution_count": 4,
   "id": "adb5fa38",
   "metadata": {},
   "outputs": [
    {
     "name": "stdout",
     "output_type": "stream",
     "text": [
      "0\n"
     ]
    }
   ],
   "source": [
    "## Tests using single line conditions and echo\n",
    "[ \"$(echo 'Hi Mom!' | wc -c)\" -eq 8 ]; echo $? "
   ]
  }
 ],
 "metadata": {
  "kernelspec": {
   "display_name": "Bash",
   "language": "bash",
   "name": "bash"
  },
  "language_info": {
   "codemirror_mode": "shell",
   "file_extension": ".sh",
   "mimetype": "text/x-sh",
   "name": "bash"
  }
 },
 "nbformat": 4,
 "nbformat_minor": 5
}
