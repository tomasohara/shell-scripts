{
 "cells": [
  {
   "cell_type": "code",
   "execution_count": 1,
   "id": "8be02fe7",
   "metadata": {},
   "outputs": [],
   "source": [
    "## SETUP (OPTIONAL - USE IF REQUIRED)\n",
    "## Bracketed Paste is disabled to prevent characters after output\n",
    "## Example: \n",
    "## $ echo 'Hii'\n",
    "## | Hi?2004l\n",
    "# bind 'set enable-bracketed-paste off'"
   ]
  },
  {
   "cell_type": "code",
   "execution_count": 2,
   "id": "5d49fe75",
   "metadata": {},
   "outputs": [
    {
     "name": "stdout",
     "output_type": "stream",
     "text": [
      "0\n"
     ]
    }
   ],
   "source": [
    "## TEST:  Make sure simple prompt used (e.g., no escapes that might contaminate output)\n",
    "## PS1=\"$ \"\n",
    "## TODO: PS1=\"> \"\n",
    "\n",
    "## NOTE: The Jupyter bash kernel requires that PS1 not be modified as they customize it.\n",
    "# echo \"TODO:\"\n",
    "# echo \"  echo \\\"\\$PS1\\\" | command grep --count --perl-regexp '[\\x00-\\x1f]'\"\n",
    "\n",
    "actual=${PS1: -1}\n",
    "[ \"$actual\" = \">\" ]; echo $?"
   ]
  },
  {
   "cell_type": "code",
   "execution_count": 3,
   "id": "cddb7968",
   "metadata": {},
   "outputs": [
    {
     "name": "stdout",
     "output_type": "stream",
     "text": [
      "0\n"
     ]
    }
   ],
   "source": [
    "## OLD: For debug\n",
    "# alias | wc -l\n",
    "\n",
    "# The debugging level should be at most 3\n",
    "# Note: this affects output as bash_kernel conflates stderr w/ stdout\n",
    "## TODO: echo \"DEBUG_LEVEL=$DEBUG_LEVEL\" 1>&2\n",
    "[ \"$DEBUG_LEVEL\" -lt 4 ]; echo \"$?\""
   ]
  },
  {
   "cell_type": "code",
   "execution_count": 4,
   "id": "17618199",
   "metadata": {},
   "outputs": [],
   "source": [
    "# Global setup\n",
    "# Setting a temp directory for tests\n",
    "# NOTE: If debugging uses $TMP\n",
    "TMP=${TMP:-/tmp}\n",
    "if [ \"$DEBUG_LEVEL\" -lt 4 ]; then TMP=/tmp/test-calc-commands; fi\n",
    "mkdir --parents \"$TMP\""
   ]
  },
  {
   "cell_type": "code",
   "execution_count": 5,
   "id": "c10b6bb2",
   "metadata": {},
   "outputs": [
    {
     "name": "stdout",
     "output_type": "stream",
     "text": [
      "0\n"
     ]
    }
   ],
   "source": [
    "## OLD\n",
    "## Count aliases proper\n",
    "# alias | wc -l\n",
    "\n",
    "# Count aliases w/ -dir in name\n",
    "# Example:\n",
    "#   $ alias | egrep '\\-dir\\b' | wc -l\n",
    "#   29\n",
    "\n",
    "dir_aliases=$(alias | egrep '\\-dir\\b' | wc -l)\n",
    "[ \"$dir_aliases\" -gt 20 ]; echo \"$?\""
   ]
  },
  {
   "cell_type": "code",
   "execution_count": 6,
   "id": "09763c6c",
   "metadata": {},
   "outputs": [
    {
     "name": "stdout",
     "output_type": "stream",
     "text": [
      "0\n"
     ]
    }
   ],
   "source": [
    "## OLD\n",
    "## Count functions\n",
    "# typeset -f | egrep '^\\w+' | wc -l\n",
    "\n",
    "dir_functions=$(typeset -f | egrep '\\-dir\\b' | wc -l)\n",
    "[ \"$dir_functions\" -gt 35 ]; echo \"$?\""
   ]
  },
  {
   "cell_type": "code",
   "execution_count": 7,
   "id": "feccc2bf",
   "metadata": {},
   "outputs": [],
   "source": [
    "# Global Setup\n",
    "\n",
    "## Aliases for censoring any number or username\n",
    "alias testnumhex=\"sed -r \"s/[0-9,A-F,a-f]/N/g\"\" \n",
    "alias testuser=\"sed -r \"s/\"$USER\"+/userxf333/g\"\" "
   ]
  },
  {
   "cell_type": "code",
   "execution_count": 8,
   "id": "64b58554",
   "metadata": {
    "scrolled": true
   },
   "outputs": [
    {
     "name": "stdout",
     "output_type": "stream",
     "text": [
      "0\n"
     ]
    }
   ],
   "source": [
    "# Actual/Expected comparision to be used for floating points\n",
    "\n",
    "actual=$(old-calc \"24 / 4 - (35 / 7) * 5\")\n",
    "expected=-19.0\n",
    "[ \"$(echo \"$actual == $expected\" | bc)\" -eq 1 ]; echo $?\n"
   ]
  },
  {
   "cell_type": "code",
   "execution_count": 9,
   "id": "829c5541",
   "metadata": {},
   "outputs": [
    {
     "name": "stdout",
     "output_type": "stream",
     "text": [
      "0\n"
     ]
    }
   ],
   "source": [
    "[ \"$(old-calc \"(2^3)*(2^2)\")\" -gt 2 ]; echo $?"
   ]
  },
  {
   "cell_type": "code",
   "execution_count": 10,
   "id": "aa669541",
   "metadata": {},
   "outputs": [
    {
     "name": "stdout",
     "output_type": "stream",
     "text": [
      "0\n"
     ]
    }
   ],
   "source": [
    "[ \"$(old-calc \"5*4*3*2*1+1\")\" -gt 0 ]; echo $? "
   ]
  },
  {
   "cell_type": "code",
   "execution_count": 11,
   "id": "ed1a5eb4",
   "metadata": {},
   "outputs": [
    {
     "name": "stdout",
     "output_type": "stream",
     "text": [
      "0\n"
     ]
    }
   ],
   "source": [
    "[ $(old-perl-calc \"70 + 69 + 68\") -eq 207 ]; echo $?"
   ]
  },
  {
   "cell_type": "code",
   "execution_count": 12,
   "id": "04fce435",
   "metadata": {},
   "outputs": [
    {
     "name": "stdout",
     "output_type": "stream",
     "text": [
      "0\n"
     ]
    }
   ],
   "source": [
    "actual=$(old-perl-calc \"8/8/8/8/8\")\n",
    "expected=0.001953125\n",
    "[ $actual = $expected ]; echo $?"
   ]
  },
  {
   "cell_type": "code",
   "execution_count": 13,
   "id": "e92321e0",
   "metadata": {},
   "outputs": [
    {
     "name": "stdout",
     "output_type": "stream",
     "text": [
      "0\n"
     ]
    }
   ],
   "source": [
    "[ $(hex2dec \"42Df5D144\") = \"17950953796\" ]; echo $? "
   ]
  },
  {
   "cell_type": "code",
   "execution_count": 14,
   "id": "118fe218",
   "metadata": {},
   "outputs": [
    {
     "name": "stdout",
     "output_type": "stream",
     "text": [
      "0\n"
     ]
    }
   ],
   "source": [
    "# (F)16 = (15)10\n",
    "[ $(hex2dec \"F\") -eq 15 ]; echo $?"
   ]
  },
  {
   "cell_type": "code",
   "execution_count": 15,
   "id": "3fee2eef",
   "metadata": {},
   "outputs": [
    {
     "name": "stdout",
     "output_type": "stream",
     "text": [
      "0\n"
     ]
    }
   ],
   "source": [
    "[ $(dec2hex \"128\") -eq \"80\" ]; echo $?"
   ]
  },
  {
   "cell_type": "code",
   "execution_count": 16,
   "id": "94774cdc",
   "metadata": {},
   "outputs": [
    {
     "name": "stdout",
     "output_type": "stream",
     "text": [
      "0\n"
     ]
    }
   ],
   "source": [
    "#inclusion of non-decimal numbers yield 0 as a result\n",
    "[ $(dec2hex \"A12\") -eq 0 ]; echo $? "
   ]
  },
  {
   "cell_type": "code",
   "execution_count": 17,
   "id": "1dc08dcd",
   "metadata": {},
   "outputs": [
    {
     "name": "stdout",
     "output_type": "stream",
     "text": [
      "0\n"
     ]
    }
   ],
   "source": [
    "[ $(bin2dec \"11110011\") -eq 243 ]; echo $?"
   ]
  },
  {
   "cell_type": "code",
   "execution_count": 18,
   "id": "44b20f00",
   "metadata": {},
   "outputs": [
    {
     "name": "stdout",
     "output_type": "stream",
     "text": [
      "0\n"
     ]
    }
   ],
   "source": [
    "#inclusion of non-binary numbers leads to error\n",
    "[ $(bin2dec \"0110\") -lt 8 ]; echo $? "
   ]
  },
  {
   "cell_type": "code",
   "execution_count": 19,
   "id": "8f172b7c",
   "metadata": {},
   "outputs": [
    {
     "name": "stdout",
     "output_type": "stream",
     "text": [
      "0\n"
     ]
    }
   ],
   "source": [
    "# Due to longer binary number\n",
    "[ $(dec2bin \"70419\" | wc -c) -eq 18 ]; echo $?"
   ]
  },
  {
   "cell_type": "code",
   "execution_count": 20,
   "id": "ae402a7b",
   "metadata": {},
   "outputs": [
    {
     "name": "stdout",
     "output_type": "stream",
     "text": [
      "0\n"
     ]
    }
   ],
   "source": [
    "#inclusion of non-decimal number leads to error\n",
    "[ $(dec2bin \"10\") -eq 1010 ]; echo $? "
   ]
  },
  {
   "cell_type": "code",
   "execution_count": 21,
   "id": "167a8dc9",
   "metadata": {},
   "outputs": [
    {
     "name": "stdout",
     "output_type": "stream",
     "text": [
      "0\n"
     ]
    }
   ],
   "source": [
    "actual=$(dec2bin \"7\" | testnumhex)\n",
    "expected=\"NNN\"\n",
    "[ \"$actual\" == \"$expected\" ]; echo $?"
   ]
  },
  {
   "cell_type": "code",
   "execution_count": 22,
   "id": "6b66e5d9",
   "metadata": {},
   "outputs": [
    {
     "name": "stdout",
     "output_type": "stream",
     "text": [
      "0\n"
     ]
    }
   ],
   "source": [
    "actual=$(calc \"100/(24*5)\")\n",
    "expected=0.833\n",
    "[ $actual = $expected ]; echo $?"
   ]
  },
  {
   "cell_type": "code",
   "execution_count": 23,
   "id": "d3238213",
   "metadata": {},
   "outputs": [
    {
     "name": "stdout",
     "output_type": "stream",
     "text": [
      "0\n"
     ]
    }
   ],
   "source": [
    "# Sets precisions to 6 places of decimal\n",
    "actual=$(calc-prec6 \"49/3\")\n",
    "expected=\"16.333333\"\n",
    "[ $actual = $expected ]; echo $?"
   ]
  },
  {
   "cell_type": "code",
   "execution_count": 24,
   "id": "939c678f",
   "metadata": {},
   "outputs": [
    {
     "name": "stdout",
     "output_type": "stream",
     "text": [
      "0\n"
     ]
    }
   ],
   "source": [
    "[ \"$(calc-init \"+\" \"100/3\")\" = \"33.333\" ]; echo $? "
   ]
  },
  {
   "cell_type": "code",
   "execution_count": 25,
   "id": "ad1bf020",
   "metadata": {},
   "outputs": [
    {
     "name": "stdout",
     "output_type": "stream",
     "text": [
      "0\n"
     ]
    }
   ],
   "source": [
    "[ \"$(calc-int \"100/23\")\" -eq 4 ]; echo $?"
   ]
  },
  {
   "cell_type": "code",
   "execution_count": 26,
   "id": "ef676520",
   "metadata": {
    "scrolled": true
   },
   "outputs": [],
   "source": [
    "## OLD: hv commented on tomohara-aliases.bash\n",
    "# ps -l > testforhv.txt\n",
    "# hv testforhv.txt | testnumhex"
   ]
  }
 ],
 "metadata": {
  "kernelspec": {
   "display_name": "Bash",
   "language": "bash",
   "name": "bash"
  },
  "language_info": {
   "codemirror_mode": "shell",
   "file_extension": ".sh",
   "mimetype": "text/x-sh",
   "name": "bash"
  }
 },
 "nbformat": 4,
 "nbformat_minor": 5
}
