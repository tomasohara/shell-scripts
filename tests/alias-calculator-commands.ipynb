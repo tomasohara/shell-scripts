{
 "cells": [
  {
   "cell_type": "code",
   "execution_count": 1,
   "id": "8be02fe7",
   "metadata": {},
   "outputs": [],
   "source": [
    "## SETUP (OPTIONAL - USE IF REQUIRED)\n",
    "## Bracketed Paste is disabled to prevent characters after output\n",
    "## Example: \n",
    "## $ echo 'Hii'\n",
    "## | Hi?2004l\n",
    "# bind 'set enable-bracketed-paste off'"
   ]
  },
  {
   "cell_type": "code",
   "execution_count": 2,
   "id": "5d49fe75",
   "metadata": {},
   "outputs": [
    {
     "name": "stdout",
     "output_type": "stream",
     "text": [
      "PROMPT_YIUVRJMWQEQQ\\[\\]>\n"
     ]
    }
   ],
   "source": [
    "## TEST:  Make sure simple prompt used (e.g., no escapes that might contaminate output)\n",
    "## PS1=\"$ \"\n",
    "## TODO: PS1=\"> \"\n",
    "\n",
    "## NOTE: The Jupyter bash kernel requires that PS1 not be modified as they customize it.\n",
    "echo $PS1"
   ]
  },
  {
   "cell_type": "code",
   "execution_count": 3,
   "id": "9d4c30cc",
   "metadata": {},
   "outputs": [
    {
     "name": "stdout",
     "output_type": "stream",
     "text": [
      "0\n",
      "0\n"
     ]
    }
   ],
   "source": [
    "# Delete all aliases and function\n",
    "# TODO: Instead start from pristine environment\n",
    "unalias -a\n",
    "alias | wc -l\n",
    "for f in $(typeset -f | egrep '^\\w+'); do unset -f $f; done\n",
    "typeset -f | egrep '^\\w+' | wc -l"
   ]
  },
  {
   "cell_type": "code",
   "execution_count": 4,
   "id": "cddb7968",
   "metadata": {},
   "outputs": [
    {
     "name": "stdout",
     "output_type": "stream",
     "text": [
      "0\n"
     ]
    }
   ],
   "source": [
    "alias | wc -l"
   ]
  },
  {
   "cell_type": "code",
   "execution_count": 5,
   "id": "89a4f57b",
   "metadata": {},
   "outputs": [
    {
     "name": "stdout",
     "output_type": "stream",
     "text": [
      "/tmp/test-calc/test-1210\n"
     ]
    }
   ],
   "source": [
    "## NOTE: For reproducability, the directory name needs to be fixed\n",
    "## In place of $$, use a psuedo random number (e,g., 1210)\n",
    "## *** All output from one run to the next needs to be the same ***\n",
    "# Setting a temp directory for tests\n",
    "TMP=/tmp/test-calc\n",
    "\n",
    "## NOTE: Source it directly from the ./tests directory.\n",
    "BIN_DIR=$PWD/..\n",
    "\n",
    "## temp_dir=$TMP/test-$$\n",
    "temp_dir=$TMP/test-1210\n",
    "\n",
    "mkdir -p \"$temp_dir\"\n",
    "# TODO: /bin/rm -rvf \"$temp_dir\"\n",
    "cd \"$temp_dir\"\n",
    "pwd\n",
    "\n",
    "#ALIAS FOR PRINTING SEPERATION LINES (FOR JUPYTER)\n",
    "alias linebr=\"printf '%*s\\n' \"${COLUMNS:-$(tput cols)}\" '' | tr ' ' -\""
   ]
  },
  {
   "cell_type": "code",
   "execution_count": 6,
   "id": "c10b6bb2",
   "metadata": {},
   "outputs": [
    {
     "name": "stdout",
     "output_type": "stream",
     "text": [
      "1\n"
     ]
    }
   ],
   "source": [
    "# Count aliases proper\n",
    "alias | wc -l"
   ]
  },
  {
   "cell_type": "code",
   "execution_count": 7,
   "id": "09763c6c",
   "metadata": {},
   "outputs": [
    {
     "name": "stdout",
     "output_type": "stream",
     "text": [
      "0\n"
     ]
    }
   ],
   "source": [
    "# Count functions\n",
    "typeset -f | egrep '^\\w+' | wc -l"
   ]
  },
  {
   "cell_type": "code",
   "execution_count": 8,
   "id": "feccc2bf",
   "metadata": {},
   "outputs": [],
   "source": [
    "# Aliases for censoring any number or username\n",
    "alias testnumhex=\"sed -r \"s/[0-9,A-F,a-f]/N/g\"\" \n",
    "alias testuser=\"sed -r \"s/\"$USER\"+/userxf333/g\"\" "
   ]
  },
  {
   "cell_type": "code",
   "execution_count": 18,
   "id": "5efe828f",
   "metadata": {},
   "outputs": [
    {
     "name": "stdout",
     "output_type": "stream",
     "text": [
      "bash: hv: command not found\n"
     ]
    },
    {
     "ename": "",
     "evalue": "127",
     "output_type": "error",
     "traceback": []
    }
   ],
   "source": [
    "# Making sure that the tests run from ./tests directory\n",
    "source $BIN_DIR/tomohara-aliases.bash"
   ]
  },
  {
   "cell_type": "code",
   "execution_count": 10,
   "id": "64b58554",
   "metadata": {},
   "outputs": [
    {
     "name": "stdout",
     "output_type": "stream",
     "text": [
      "-19.00000000000000000000\n",
      "--------------------------------------------------------------------------------\n",
      "32\n",
      "--------------------------------------------------------------------------------\n",
      "121\n"
     ]
    }
   ],
   "source": [
    "## TEST 1 - old-calc SEEMS TO WORK PRETTY WELL\n",
    "# returns -19 as float\n",
    "old-calc \"24 / 4.0 - (35 / 7.0) * 5\" \n",
    "linebr\n",
    "# returns 32\n",
    "old-calc \"(2^3)*(2^2)\"\n",
    "# returns 121\n",
    "linebr\n",
    "old-calc \"5*4*3*2*1+1\" "
   ]
  },
  {
   "cell_type": "code",
   "execution_count": 11,
   "id": "ed1a5eb4",
   "metadata": {},
   "outputs": [
    {
     "name": "stdout",
     "output_type": "stream",
     "text": [
      "207\n",
      "\n",
      "--------------------------------------------------------------------------------\n",
      "0.001953125\n",
      "\n",
      "--------------------------------------------------------------------------------\n"
     ]
    }
   ],
   "source": [
    "## TEST 2 - old-perl-calc WORKS TOO\n",
    "old-perl-calc \"70 + 69 + 68\"\n",
    "printf \"\\n\"\n",
    "linebr\n",
    "old-perl-calc \"8/8/8/8/8\"\n",
    "printf \"\\n\"\n",
    "linebr"
   ]
  },
  {
   "cell_type": "code",
   "execution_count": 12,
   "id": "e92321e0",
   "metadata": {},
   "outputs": [
    {
     "name": "stdout",
     "output_type": "stream",
     "text": [
      "17950953796\n",
      "--------------------------------------------------------------------------------\n",
      "15\n"
     ]
    }
   ],
   "source": [
    "## TEST 3A - hex2dec\n",
    "hex2dec 42Df5D144 \n",
    "#cases don't matter in the number\n",
    "linebr\n",
    "hex2dec \"F\""
   ]
  },
  {
   "cell_type": "code",
   "execution_count": 13,
   "id": "3fee2eef",
   "metadata": {},
   "outputs": [
    {
     "name": "stdout",
     "output_type": "stream",
     "text": [
      "80\n",
      "0\n"
     ]
    }
   ],
   "source": [
    "## TEST 3B - hex2dec\n",
    "dec2hex \"128\"\n",
    "#inclusion of non-decimal numbers yield 0 as a result\n",
    "dec2hex \"A12\" "
   ]
  },
  {
   "cell_type": "code",
   "execution_count": 14,
   "id": "1dc08dcd",
   "metadata": {},
   "outputs": [
    {
     "name": "stdout",
     "output_type": "stream",
     "text": [
      "243\n",
      "--------------------------------------------------------------------------------\n",
      "6\n"
     ]
    }
   ],
   "source": [
    "## TEST 3C - bin2dec\n",
    "bin2dec \"11110011\"\n",
    "linebr\n",
    "#inclusion of non-binary numbers leads to error\n",
    "bin2dec \"0110\" "
   ]
  },
  {
   "cell_type": "code",
   "execution_count": 15,
   "id": "8f172b7c",
   "metadata": {},
   "outputs": [
    {
     "name": "stdout",
     "output_type": "stream",
     "text": [
      "10001001100010011\n",
      "1010\n",
      "NNN\n"
     ]
    }
   ],
   "source": [
    "## TEST 3D - dec2bin\n",
    "dec2bin \"70419\"\n",
    "#inclusion of non-decimal number leads to error\n",
    "dec2bin \"10\" \n",
    "dec2bin \"7\" | testnumhex"
   ]
  },
  {
   "cell_type": "code",
   "execution_count": 16,
   "id": "ef676520",
   "metadata": {
    "scrolled": true
   },
   "outputs": [
    {
     "name": "stdout",
     "output_type": "stream",
     "text": [
      "/tmp/test-calc/test-1210\n",
      "bash: hv: command not found\n"
     ]
    }
   ],
   "source": [
    "pwd\n",
    "rm -rf ./* > /dev/null\n",
    "ps -l > testforhv.txt\n",
    "hv testforhv.txt | testnumhex"
   ]
  },
  {
   "cell_type": "code",
   "execution_count": 17,
   "id": "7f81af10",
   "metadata": {},
   "outputs": [
    {
     "name": "stdout",
     "output_type": "stream",
     "text": [
      "0.833\n",
      "--------------------------------------------------------------------------------\n",
      "16.333333\n",
      "--------------------------------------------------------------------------------\n",
      "33.333\n",
      "--------------------------------------------------------------------------------\n",
      "4\n"
     ]
    }
   ],
   "source": [
    "## TEST 5 - calc AND ITS ALIASES\n",
    "\n",
    "calc \"100/(24*5)\"\n",
    "linebr\n",
    "calc-prec6 \"49/3\"\n",
    "linebr\n",
    "# NEED HELP\n",
    "calc-init \"+\" \"100/3\"\n",
    "linebr\n",
    "calc-int \"100/23\""
   ]
  },
  {
   "cell_type": "code",
   "execution_count": null,
   "id": "1492d828",
   "metadata": {},
   "outputs": [],
   "source": []
  }
 ],
 "metadata": {
  "kernelspec": {
   "display_name": "Bash",
   "language": "bash",
   "name": "bash"
  },
  "language_info": {
   "codemirror_mode": "shell",
   "file_extension": ".sh",
   "mimetype": "text/x-sh",
   "name": "bash"
  }
 },
 "nbformat": 4,
 "nbformat_minor": 5
}
