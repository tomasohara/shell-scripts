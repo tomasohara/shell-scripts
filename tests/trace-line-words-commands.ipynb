{
 "cells": [
  {
   "cell_type": "code",
   "execution_count": 1,
   "id": "6dcea75d",
   "metadata": {},
   "outputs": [],
   "source": [
    "## SETUP (OPTIONAL - USE IF REQUIRED)\n",
    "## Bracketed Paste is disabled to prevent characters after output\n",
    "## Example: \n",
    "## $ echo 'Hii'\n",
    "## | Hi?2004l\n",
    "# bind 'set enable-bracketed-paste off'"
   ]
  },
  {
   "cell_type": "code",
   "execution_count": 2,
   "id": "65d43538",
   "metadata": {},
   "outputs": [
    {
     "name": "stdout",
     "output_type": "stream",
     "text": [
      "PROMPT_MOMQYZNZZMVP\\[\\]>\n"
     ]
    }
   ],
   "source": [
    "## TEST:  Make sure simple prompt used (e.g., no escapes that might contaminate output)\n",
    "## PS1=\"$ \"\n",
    "## TODO: PS1=\"> \"\n",
    "\n",
    "## NOTE: The Jupyter bash kernel requires that PS1 not be modified as they customize it. \n",
    "echo $PS1"
   ]
  },
  {
   "cell_type": "code",
   "execution_count": 3,
   "id": "d623c9a9",
   "metadata": {},
   "outputs": [],
   "source": [
    "## BAD\n",
    "# # Delete all aliases and function\n",
    "# # TODO: Instead start from pristine environment\n",
    "# unalias -a\n",
    "# alias | wc -l\n",
    "# for f in $(typeset -f | egrep '^\\w+'); do unset -f $f; done\n",
    "# typeset -f | egrep '^\\w+' | wc -l"
   ]
  },
  {
   "cell_type": "code",
   "execution_count": 4,
   "id": "0ff8f157",
   "metadata": {},
   "outputs": [],
   "source": [
    "# Setting a temp directory for tests\n",
    "## OLD: TMP=/tmp/test-linewords\n",
    "\n",
    "## NOTE: Source it directly from the ./tests directory.\n",
    "## OLD: BIN_DIR=$PWD/.."
   ]
  },
  {
   "cell_type": "code",
   "execution_count": 5,
   "id": "ab954c7f",
   "metadata": {},
   "outputs": [
    {
     "name": "stdout",
     "output_type": "stream",
     "text": [
      "renamed '/tmp/test-trace-line-words/trace-line-words-commands' -> '/tmp/test-trace-line-words/trace-line-words-commands.16Apr24'\n"
     ]
    }
   ],
   "source": [
    "## NOTE: For reproducability, the directory name needs to be fixed\n",
    "## In place of $$, use a psuedo random number (e,g., 6439)\n",
    "## *** All output from one run to the next needs to be the same ***\n",
    "\n",
    "## OLD: Used the concept of trash-dir, instead use unique temp_dirs\n",
    "## temp_dir=$TMP/test-$$\n",
    "# temp_dir=$TMP/test-6439\n",
    "# trash_dir=$TMP/\"_temp-trash-$(date \"+%Y%m%d%H%M%S\")\"\n",
    "# command mkdir -p \"$trash_dir\"\n",
    "# command mkdir -p \"$temp_dir\"\n",
    "# command cd \"$temp_dir\"\n",
    "\n",
    "TMP=${TMP:-/tmp}\n",
    "if [ \"$DEBUG_LEVEL\" -lt 4 ]; then TMP=/tmp/test-trace-line-words; fi\n",
    "temp_dir=$TMP/trace-line-words-commands\n",
    "rename-with-file-date \"$temp_dir\"\n",
    "command mkdir -p \"$temp_dir\"\n",
    "command cd $temp_dir\n",
    "\n",
    "## OLD\n",
    "# mkdir -p \"$temp_dir\"\n",
    "# # TODO: /bin/rm -rvf \"$temp_dir\"\n",
    "# cd \"$temp_dir\"\n",
    "# pwd\n",
    "\n",
    "# #ALIAS FOR PRINTING SEPERATION LINES (FOR JUPYTER)\n",
    "# alias linebr=\"printf '%*s\\n' \"${COLUMNS:-$(tput cols)}\" '' | tr ' ' -\""
   ]
  },
  {
   "cell_type": "code",
   "execution_count": 6,
   "id": "b34ce805",
   "metadata": {},
   "outputs": [],
   "source": [
    "# Global Setup\n",
    "alias testuser=\"sed -r \"s/\"$USER\"+/userxf333/g\"\"\n",
    "# alias testnum=\"sed -r \"s/[0-9]/N/g\"\"  \n",
    "## For number of digits not being critical\n",
    "alias testnum=\"sed -r \"s/[0-9][0-9]*/N/g\"\""
   ]
  },
  {
   "cell_type": "code",
   "execution_count": 7,
   "id": "ec6df159",
   "metadata": {},
   "outputs": [
    {
     "name": "stdout",
     "output_type": "stream",
     "text": [
      "N\n"
     ]
    }
   ],
   "source": [
    "# Count aliases proper\n",
    "alias | wc -l | testnum"
   ]
  },
  {
   "cell_type": "code",
   "execution_count": 8,
   "id": "aa40fd1c",
   "metadata": {},
   "outputs": [
    {
     "name": "stdout",
     "output_type": "stream",
     "text": [
      "N\n"
     ]
    }
   ],
   "source": [
    "# Count functions\n",
    "typeset -f | egrep '^\\w+' | wc -l | testnum"
   ]
  },
  {
   "cell_type": "code",
   "execution_count": 9,
   "id": "1a81a0db",
   "metadata": {},
   "outputs": [],
   "source": [
    "## BAD\n",
    "# source $BIN_DIR/tomohara-aliases.bash"
   ]
  },
  {
   "cell_type": "code",
   "execution_count": 10,
   "id": "bbcd9a49",
   "metadata": {},
   "outputs": [],
   "source": [
    "## OLD & BAD\n",
    "# # GENERATES A PARAGRAPH WITH MULTIPLE LINES\n",
    "# rm -rf ./*\n",
    "# printf \"Hi Mom,\\nThis is the use of printf\\nI can use a backslash n to start a new line\\n1\\n2\\n3\" >> abc-test.txt\n",
    "# printf \"This is another-test file\" >> test2.txt\n",
    "# printf \"This is test-file 3\" >> test3.txt\n",
    "# printf \"This is a test-file 4\" >> test4.txt\n",
    "\n",
    "printf \"Hi Mom,\\nThis is the use of printf\\nI can use a backslash n to start a new line\\n1\\n2\\n3\" > abc-test.txt\n",
    "printf \"This is another-test file\" > test2.txt\n",
    "printf \"This is test-file 3\" > test3.txt\n",
    "printf \"This is a test-file 4\" > test4.txt"
   ]
  },
  {
   "cell_type": "code",
   "execution_count": 11,
   "id": "1f9ba9a1",
   "metadata": {},
   "outputs": [
    {
     "name": "stdout",
     "output_type": "stream",
     "text": [
      "txt\t4\n"
     ]
    }
   ],
   "source": [
    "ls | count-it '\\.([^\\.]+)$'"
   ]
  },
  {
   "cell_type": "code",
   "execution_count": 12,
   "id": "9f34ee1c",
   "metadata": {},
   "outputs": [
    {
     "name": "stdout",
     "output_type": "stream",
     "text": [
      "N\tHi Mom,\n",
      "N\tThis is the use of printf\n",
      "N\tI can use a backslash n to start a new line\n",
      "N\tN\n",
      "N\tN\n",
      "N\tN\n"
     ]
    }
   ],
   "source": [
    "# line-wc | COUNTS WORD FOR EACH LINE\n",
    "cat abc-test.txt | line-wc | testnum"
   ]
  },
  {
   "cell_type": "code",
   "execution_count": 13,
   "id": "6c6506f8",
   "metadata": {},
   "outputs": [
    {
     "name": "stdout",
     "output_type": "stream",
     "text": [
      "N\tHi Mom,\n",
      "N\tThis is the use of printf\n",
      "N\tI can use a backslash n to start a new line\n",
      "N\tN\n",
      "N\tN\n",
      "N\tN\n"
     ]
    }
   ],
   "source": [
    "# line-len | COUNTS CHARACTERS FOR EACH LINE\n",
    "cat abc-test.txt | line-len | testnum"
   ]
  },
  {
   "cell_type": "code",
   "execution_count": 14,
   "id": "06a0841f",
   "metadata": {},
   "outputs": [
    {
     "name": "stdout",
     "output_type": "stream",
     "text": [
      "N\tHi Mom,\n",
      "This is the use of printf\n",
      "I can use a backslash n to start a new line\n",
      "N\n",
      "N\n",
      "N\n"
     ]
    }
   ],
   "source": [
    "# para-len | COUNTS CHARACTERS FOR EACH PARAGRAPH\n",
    "cat abc-test.txt | para-len | testnum"
   ]
  },
  {
   "cell_type": "code",
   "execution_count": 15,
   "id": "c50a7083",
   "metadata": {},
   "outputs": [
    {
     "name": "stdout",
     "output_type": "stream",
     "text": [
      "N\tHi Mom,\n",
      "N\tThis is the use of printf\n",
      "N\tI can use a backslash n to start a new line\n",
      "N\tN\n",
      "N\tN\n",
      "N\tN\n"
     ]
    }
   ],
   "source": [
    "# line-word-len | COUNTS WORDS FOR EACH LINE\n",
    "cat abc-test.txt | line-word-len | testnum"
   ]
  },
  {
   "cell_type": "code",
   "execution_count": 16,
   "id": "9c1a26c6",
   "metadata": {
    "scrolled": false
   },
   "outputs": [
    {
     "name": "stdout",
     "output_type": "stream",
     "text": [
      "NotZero\n"
     ]
    }
   ],
   "source": [
    "## PROCESS DOESN'T END FOR ls-line-len\n",
    "## EXAMPLE: \n",
    "## $ls-line-len\n",
    "## |12      abc-test.txt1h=\n",
    "\n",
    "\n",
    "ls-line-len | { [ $(wc -l < /dev/stdin) -ne 0 ] && echo \"NotZero\" || echo \"Zero\"; }"
   ]
  },
  {
   "cell_type": "code",
   "execution_count": 17,
   "id": "07e67b85",
   "metadata": {},
   "outputs": [],
   "source": [
    "# ## ERROR-GENERATED : check-class-dist\n",
    "# $ cat abc-test.txt | check-class-dist\n",
    "# | Can't open : No such file or directory at /home/xaea12/bin/count_it.perl line 171.\n",
    "# | WARNING: unexpected distribution for FREQ (all 0)\n"
   ]
  },
  {
   "cell_type": "code",
   "execution_count": 18,
   "id": "93c128a3",
   "metadata": {},
   "outputs": [],
   "source": [
    "# $ cat abc-test.txt | 2bib\n",
    "# | bash: bibitem2bib: command not found\n",
    "# | cat: write error: Broken pipe"
   ]
  },
  {
   "cell_type": "code",
   "execution_count": 19,
   "id": "85a87403",
   "metadata": {},
   "outputs": [
    {
     "name": "stdout",
     "output_type": "stream",
     "text": [
      "Done\n"
     ]
    }
   ],
   "source": [
    "## OLD & BAD\n",
    "# rm -rf ./* > /dev/null\n",
    "# command mv -f * \"$trash_dir\"\n",
    "echo \"Done\""
   ]
  }
 ],
 "metadata": {
  "kernelspec": {
   "display_name": "Bash",
   "language": "bash",
   "name": "bash"
  },
  "language_info": {
   "codemirror_mode": "shell",
   "file_extension": ".sh",
   "mimetype": "text/x-sh",
   "name": "bash"
  }
 },
 "nbformat": 4,
 "nbformat_minor": 5
}
