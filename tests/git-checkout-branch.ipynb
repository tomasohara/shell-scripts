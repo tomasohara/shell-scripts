{
 "cells": [
  {
   "cell_type": "code",
   "execution_count": 3,
   "id": "7a0b26bc-bc9f-43fc-a069-cca65cd50dec",
   "metadata": {},
   "outputs": [
    {
     "name": "stdout",
     "output_type": "stream",
     "text": [
      "\u001b]1;$ lolo [~]\u0007\u001b]2;$ lolo [~]\u0007\n",
      "\u001b[33mhint: Using 'master' as the name for the initial branch. This default branch name\u001b[m\n",
      "\u001b[33mhint: is subject to change. To configure the initial branch name to use in all\u001b[m\n",
      "\u001b[33mhint: of your new repositories, which will suppress this warning, call:\u001b[m\n",
      "\u001b[33mhint: \u001b[m\n",
      "\u001b[33mhint: \tgit config --global init.defaultBranch <name>\u001b[m\n",
      "\u001b[33mhint: \u001b[m\n",
      "\u001b[33mhint: Names commonly chosen instead of 'master' are 'main', 'trunk' and\u001b[m\n",
      "\u001b[33mhint: 'development'. The just-created branch can be renamed via this command:\u001b[m\n",
      "\u001b[33mhint: \u001b[m\n",
      "\u001b[33mhint: \tgit branch -m <name>\u001b[m\n",
      "remote: Enumerating objects: 43, done.\u001b[K\n",
      "remote: Counting objects: 100% (43/43), done.\u001b[K\n",
      "remote: Compressing objects: 100% (28/28), done.\u001b[K\n",
      "remote: Total 43 (delta 7), reused 42 (delta 6), pack-reused 0\u001b[K\n",
      "Unpacking objects: 100% (43/43), 3.68 KiB | 251.00 KiB/s, done.\n",
      "From https://github.com/LorenzoFerraces/bash-test\n",
      " * branch            master     -> FETCH_HEAD\n",
      " * [new branch]      master     -> origin/master\n"
     ]
    }
   ],
   "source": [
    "#creating temp repo to test on\n",
    "cd \n",
    "mkdir temp-update-git-test >/dev/null\n",
    "cd temp-update-git-test >/dev/null\n",
    "git init >/dev/null \n",
    "git remote add origin https://github.com/LorenzoFerraces/bash-test.git >/dev/null\n",
    "git pull -r origin main"
   ]
  },
  {
   "cell_type": "code",
   "execution_count": 4,
   "id": "58dbdbb6-072f-405e-8b38-c6bf5921a4d0",
   "metadata": {},
   "outputs": [
    {
     "name": "stdout",
     "output_type": "stream",
     "text": [
      "usage: git-checkout-branch [--help | branch]\n",
      "note: available branches:\n",
      "    master\n"
     ]
    }
   ],
   "source": [
    "#show available branches\n",
    "git-checkout-branch --help"
   ]
  },
  {
   "cell_type": "code",
   "execution_count": 5,
   "id": "a3192b03-52c3-48f3-b3e2-104a5bbb4943",
   "metadata": {},
   "outputs": [
    {
     "name": "stdout",
     "output_type": "stream",
     "text": [
      "issuing: git checkout master --\n",
      "Switched to branch 'master'\n"
     ]
    }
   ],
   "source": [
    "#switch to available branch\n",
    "git-checkout-branch main"
   ]
  },
  {
   "cell_type": "code",
   "execution_count": 6,
   "id": "4a6692a7-e70c-493e-9310-99efbc8fbf3f",
   "metadata": {},
   "outputs": [
    {
     "name": "stdout",
     "output_type": "stream",
     "text": [
      "\u001b[01;31m\u001b[K*\u001b[m\u001b[K master\n"
     ]
    }
   ],
   "source": [
    "#show the actual branch\n",
    "git branch | grep \"*\""
   ]
  },
  {
   "cell_type": "code",
   "execution_count": 4,
   "id": "fbbbbe64-d053-4118-a8d4-445fa308a392",
   "metadata": {},
   "outputs": [
    {
     "name": "stdout",
     "output_type": "stream",
     "text": [
      "branch 'master' set up to track 'origin/master'.\n",
      "Everything up-to-date\n",
      "\u001b]1;$ lolo [~]\u0007\u001b]2;$ lolo [~]\u0007\n"
     ]
    }
   ],
   "source": [
    "#cleanup\n",
    "cd \n",
    "rm -rf temp-update-git-test > /dev/null"
   ]
  }
 ],
 "metadata": {
  "kernelspec": {
   "display_name": "Bash",
   "language": "bash",
   "name": "bash"
  },
  "language_info": {
   "codemirror_mode": "shell",
   "file_extension": ".sh",
   "mimetype": "text/x-sh",
   "name": "bash"
  }
 },
 "nbformat": 4,
 "nbformat_minor": 5
}
