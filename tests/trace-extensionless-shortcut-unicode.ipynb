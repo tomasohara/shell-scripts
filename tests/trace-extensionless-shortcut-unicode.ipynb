{
 "cells": [
  {
   "cell_type": "code",
   "execution_count": 1,
   "id": "65d43538",
   "metadata": {},
   "outputs": [
    {
     "name": "stdout",
     "output_type": "stream",
     "text": [
      "PROMPT_YBFCLBLVSGJA\\[\\]>\n"
     ]
    }
   ],
   "source": [
    "echo $PS1"
   ]
  },
  {
   "cell_type": "code",
   "execution_count": 2,
   "id": "d623c9a9",
   "metadata": {},
   "outputs": [],
   "source": [
    "## BAD\n",
    "# # Delete all aliases and function\n",
    "# # TODO: Instead start from pristine environment\n",
    "# unalias -a\n",
    "# alias | wc -l\n",
    "# for f in $(typeset -f | egrep '^\\w+'); do unset -f $f; done\n",
    "# typeset -f | egrep '^\\w+' | wc -l\n",
    "# Setting a temp directory for tests\n",
    "\n",
    "## OLD\n",
    "# TMP=/tmp/test-extensionless\n",
    "# BIN_DIR=$PWD/.."
   ]
  },
  {
   "cell_type": "code",
   "execution_count": 3,
   "id": "0ff8f157",
   "metadata": {},
   "outputs": [
    {
     "name": "stdout",
     "output_type": "stream",
     "text": [
      "438\n"
     ]
    }
   ],
   "source": [
    "## OLD: For debuging\n",
    "# alias | wc -l"
   ]
  },
  {
   "cell_type": "code",
   "execution_count": 4,
   "id": "ab954c7f",
   "metadata": {},
   "outputs": [],
   "source": [
    "\n",
    "## OLD\n",
    "# mkdir -p \"$temp_dir\"\n",
    "# cd \"$temp_dir\"\n",
    "# pwd\n",
    "\n",
    "## OLD: Used the concept of trash-dir, instead use unique temp-dirs\n",
    "# temp_dir=$TMP/test-3570\n",
    "# trash_dir=$TMP/\"_temp-trash-$(date \"+%Y%m%d%H%M%S\")\"\n",
    "# command mkdir -p \"$temp_dir\"\n",
    "# command mkdir -p \"$trash_dir\"\n",
    "# command cd \"$temp_dir\"\n",
    "\n",
    "TMP=${TMP:-/tmp}\n",
    "if [ \"$DEBUG_LEVEL\" -lt 4 ]; then TMP=/tmp/trace-extensionless-shortcut-unicode; fi\n",
    "temp_dir=$TMP/extensionless-shortcut-unicode\n",
    "rename-with-file-date \"$temp_dir\"\n",
    "command mkdir -p \"$temp_dir\"\n",
    "command cd $temp_dir\n",
    "## OLD\n",
    "# #ALIAS FOR PRINTING SEPERATION LINES (FOR JUPYTER)\n",
    "# alias linebr=\"printf '%*s\\n' \"${COLUMNS:-$(tput cols)}\" '' | tr ' ' -\""
   ]
  },
  {
   "cell_type": "code",
   "execution_count": 5,
   "id": "bfd630e0",
   "metadata": {},
   "outputs": [],
   "source": [
    "# Global Setup\n",
    "\n",
    "alias testnum=\"sed -r \"s/[0-9,A-F,a-f]/X/g\"\" \n",
    "alias testuser=\"sed -r \"s/\"$USER\"+/user/g\"\""
   ]
  },
  {
   "cell_type": "code",
   "execution_count": 6,
   "id": "ec6df159",
   "metadata": {},
   "outputs": [
    {
     "name": "stdout",
     "output_type": "stream",
     "text": [
      "XXX\n"
     ]
    }
   ],
   "source": [
    "# Count aliases proper\n",
    "alias | wc -l | testnum"
   ]
  },
  {
   "cell_type": "code",
   "execution_count": 7,
   "id": "bbd76505",
   "metadata": {},
   "outputs": [
    {
     "name": "stdout",
     "output_type": "stream",
     "text": [
      "XXX\n"
     ]
    }
   ],
   "source": [
    "# Count functions\n",
    "typeset -f | egrep '^\\w+' | wc -l | testnum"
   ]
  },
  {
   "cell_type": "code",
   "execution_count": 8,
   "id": "2b491d21",
   "metadata": {},
   "outputs": [
    {
     "name": "stdout",
     "output_type": "stream",
     "text": [
      "mv: cannot stat '*': No such file or directory\n"
     ]
    }
   ],
   "source": [
    "## OLD\n",
    "# pwd\n",
    "# rm -rf ./*\n",
    "## BAD: rm -rf ./* > /dev/null\n",
    "## BAD TOO: command mv -f * \"$trash_dir\"\n",
    "uname -r > version1.txt"
   ]
  },
  {
   "cell_type": "code",
   "execution_count": 9,
   "id": "a5135f1c",
   "metadata": {},
   "outputs": [],
   "source": [
    "## BAD\n",
    "# source $BIN_DIR/tomohara-aliases.bash"
   ]
  },
  {
   "cell_type": "code",
   "execution_count": 10,
   "id": "42696142",
   "metadata": {},
   "outputs": [],
   "source": [
    "# function show-unicode-code-info-aux() { perl -CIOE   -e 'use Encode \"encode_utf8\"; print \"char\\tord\\toffset\\tencoding\\n\";'    -ne 'chomp;  printf \"%s: %d\\n\", $_, length($_); foreach $c (split(//, $_)) { $encoding = encode_utf8($c); printf \"%s\\t%04X\\t%d\\t%s\\n\", $c, ord($c), $offset, unpack(\"H*\", $encoding); $offset += length($encoding); }   $offset += length($/); print \"\\n\"; ' < \"$1\"; }\n",
    "# function show-unicode-code-info { show-unicode-code-info-aux \"$@\"; }\n",
    "# function show-unicode-code-info-stdin() { in_file=\"$TEMP/show-unicode-code-info.$$\"; cat >| $in_file;  show-unicode-code-info-aux $in_file; }\n",
    "# function output-BOM { perl -e 'print \"\\xEF\\xBB\\xBF\\n\";'; }\n",
    "# function show-unicode-control-chars { perl -pe 'use open \":std\", \":encoding(UTF-8)\"; s/[\\x00-\\x1F]/chr(ord($&) + 0x2400)/eg;'; }"
   ]
  },
  {
   "cell_type": "code",
   "execution_count": 11,
   "id": "bec27579",
   "metadata": {
    "scrolled": false
   },
   "outputs": [
    {
     "name": "stdout",
     "output_type": "stream",
     "text": [
      "XhXr\torX\toXXsXt\tXnXoXing\n",
      "X.X.X-XXXXXXXX-gXnXriX: XX\n",
      "X\tXXXX\tX\tXX\n",
      ".\tXXXX\tX\tXX\n",
      "X\tXXXX\tX\tXX\n",
      ".\tXXXX\tX\tXX\n",
      "X\tXXXX\tX\tXX\n",
      "-\tXXXX\tX\tXX\n",
      "X\tXXXX\tX\tXX\n",
      "X\tXXXX\tX\tXX\n",
      "X\tXXXX\tX\tXX\n",
      "X\tXXXX\tX\tXX\n",
      "X\tXXXX\tXX\tXX\n",
      "X\tXXXX\tXX\tXX\n",
      "X\tXXXX\tXX\tXX\n",
      "X\tXXXX\tXX\tXX\n",
      "-\tXXXX\tXX\tXX\n",
      "g\tXXXX\tXX\tXX\n",
      "X\tXXXX\tXX\tXX\n",
      "n\tXXXX\tXX\tXX\n",
      "X\tXXXX\tXX\tXX\n",
      "r\tXXXX\tXX\tXX\n",
      "i\tXXXX\tXX\tXX\n",
      "X\tXXXX\tXX\tXX\n",
      "\n"
     ]
    }
   ],
   "source": [
    "show-unicode-code-info-aux ./version1.txt | testnum "
   ]
  },
  {
   "cell_type": "code",
   "execution_count": 12,
   "id": "2de08407",
   "metadata": {},
   "outputs": [
    {
     "name": "stdout",
     "output_type": "stream",
     "text": [
      "XhXr\torX\toXXsXt\tXnXoXing\n",
      "X.X.X-XXXXXXXX-gXnXriX: XX\n",
      "X\tXXXX\tX\tXX\n",
      ".\tXXXX\tX\tXX\n",
      "X\tXXXX\tX\tXX\n",
      ".\tXXXX\tX\tXX\n",
      "X\tXXXX\tX\tXX\n",
      "-\tXXXX\tX\tXX\n",
      "X\tXXXX\tX\tXX\n",
      "X\tXXXX\tX\tXX\n",
      "X\tXXXX\tX\tXX\n",
      "X\tXXXX\tX\tXX\n",
      "X\tXXXX\tXX\tXX\n",
      "X\tXXXX\tXX\tXX\n",
      "X\tXXXX\tXX\tXX\n",
      "X\tXXXX\tXX\tXX\n",
      "-\tXXXX\tXX\tXX\n",
      "g\tXXXX\tXX\tXX\n",
      "X\tXXXX\tXX\tXX\n",
      "n\tXXXX\tXX\tXX\n",
      "X\tXXXX\tXX\tXX\n",
      "r\tXXXX\tXX\tXX\n",
      "i\tXXXX\tXX\tXX\n",
      "X\tXXXX\tXX\tXX\n",
      "\n"
     ]
    }
   ],
   "source": [
    "show-unicode-code-info ./version1.txt | testnum"
   ]
  },
  {
   "cell_type": "code",
   "execution_count": 13,
   "id": "3544f813",
   "metadata": {},
   "outputs": [],
   "source": [
    "## Need Help\n",
    "# show-unicode-code-info-stdin ./version1.txt"
   ]
  },
  {
   "cell_type": "code",
   "execution_count": 14,
   "id": "45f82241",
   "metadata": {},
   "outputs": [],
   "source": [
    "## Need Help (output-BOM shows no output)\n",
    "# output-BOM"
   ]
  },
  {
   "cell_type": "code",
   "execution_count": 15,
   "id": "93acec92",
   "metadata": {},
   "outputs": [],
   "source": [
    "## Issue (non ending process) \n",
    "# show-unicode-control-chars version1.txt "
   ]
  },
  {
   "cell_type": "code",
   "execution_count": 16,
   "id": "50fe14f7",
   "metadata": {},
   "outputs": [],
   "source": [
    "# # ERROR GENERATED (shown below) [0LD]\n",
    "\n",
    "# $ show-unicode-code-info-stdin ./catmanual.txt\n",
    "\n",
    "# | bash: /show-unicode-code-info.5292: Permission denied\n",
    "# | bash: /show-unicode-code-info.5292: No such file or directory\n"
   ]
  },
  {
   "cell_type": "code",
   "execution_count": 17,
   "id": "a54fa112",
   "metadata": {},
   "outputs": [
    {
     "name": "stdout",
     "output_type": "stream",
     "text": [
      "END\n"
     ]
    }
   ],
   "source": [
    "echo \"END\"\n",
    "## OLD: command mv -f * \"$trash_dir\""
   ]
  }
 ],
 "metadata": {
  "kernelspec": {
   "display_name": "Bash",
   "language": "bash",
   "name": "bash"
  },
  "language_info": {
   "codemirror_mode": "shell",
   "file_extension": ".sh",
   "mimetype": "text/x-sh",
   "name": "bash"
  }
 },
 "nbformat": 4,
 "nbformat_minor": 5
}
