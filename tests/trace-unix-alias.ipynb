{
 "cells": [
  {
   "cell_type": "code",
   "execution_count": 1,
   "id": "782d47d4",
   "metadata": {},
   "outputs": [],
   "source": [
    "## SETUP (OPTIONAL - USE IF REQUIRED)\n",
    "## Bracketed Paste is disabled to prevent characters after output\n",
    "## Example: \n",
    "## $ echo 'Hii'\n",
    "## | Hi?2004l\n",
    "# bind 'set enable-bracketed-paste off'"
   ]
  },
  {
   "cell_type": "code",
   "execution_count": 2,
   "id": "65d43538",
   "metadata": {},
   "outputs": [
    {
     "name": "stdout",
     "output_type": "stream",
     "text": [
      "PROMPT_QPSFEBRZHROH\\[\\]>\n"
     ]
    }
   ],
   "source": [
    "## TEST:  Make sure simple prompt used (e.g., no escapes that might contaminate output)\n",
    "## PS1=\"$ \"\n",
    "## TODO: PS1=\"> \"\n",
    "\n",
    "## NOTE: The Jupyter bash kernel requires that PS1 not be modified as they customize it. \n",
    "echo $PS1"
   ]
  },
  {
   "cell_type": "code",
   "execution_count": 3,
   "id": "d623c9a9",
   "metadata": {},
   "outputs": [],
   "source": [
    "## BAD (SUPER BAD)\n",
    "\n",
    "# unalias -a\n",
    "# alias | wc -l\n",
    "# for f in $(typeset -f | egrep '^\\w+'); do unset -f $f; done\n",
    "# typeset -f | egrep '^\\w+' | wc -l"
   ]
  },
  {
   "cell_type": "code",
   "execution_count": 4,
   "id": "ab954c7f",
   "metadata": {},
   "outputs": [],
   "source": [
    "TMP=/tmp/test-unix-alias\n",
    "BIN_DIR=$PWD/..\n",
    "temp_dir=$TMP/test-2899\n",
    "trash_dir=$TMP/\"_temp-trash-$(date \"+%Y%m%d%H%M%S\")\"\n",
    "\n",
    "## OLD\n",
    "# mkdir -p \"$temp_dir\"\n",
    "# cd \"$temp_dir\"\n",
    "# pwd\n",
    "\n",
    "command mkdir -p \"$temp_dir\"\n",
    "command mkdir -p \"$trash_dir\"\n",
    "command cd \"$temp_dir\"\n",
    "\n",
    "## OLD\n",
    "## ALIAS FOR PRINTING SEPERATION LINES (FOR JUPYTER)\n",
    "# alias linebr=\"printf '%*s\\n' \"${COLUMNS:-$(tput cols)}\" '' | tr ' ' -\""
   ]
  },
  {
   "cell_type": "code",
   "execution_count": 5,
   "id": "ec6df159",
   "metadata": {},
   "outputs": [],
   "source": [
    "# Global Setup\n",
    "\n",
    "alias testuser=\"sed -r \"s/\"$USER\"+/userxf333/g\"\"\n",
    "## For number of digits not being critical\n",
    "alias testnum=\"sed -r \"s/[0-9][0-9]*/N/g\"\"\n",
    "## OLD\n",
    "# alias testnum=\"sed -r \"s/[0-9]/N/g\"\" "
   ]
  },
  {
   "cell_type": "code",
   "execution_count": 6,
   "id": "ff290d73",
   "metadata": {},
   "outputs": [
    {
     "name": "stdout",
     "output_type": "stream",
     "text": [
      "N\n"
     ]
    }
   ],
   "source": [
    "# Count aliases proper\n",
    "alias | wc -l | testnum"
   ]
  },
  {
   "cell_type": "code",
   "execution_count": 7,
   "id": "f71fdf21",
   "metadata": {},
   "outputs": [
    {
     "name": "stdout",
     "output_type": "stream",
     "text": [
      "N\n"
     ]
    }
   ],
   "source": [
    "# Count functions\n",
    "typeset -f | egrep '^\\w+' | wc -l | testnum"
   ]
  },
  {
   "cell_type": "code",
   "execution_count": 8,
   "id": "760a7389",
   "metadata": {},
   "outputs": [],
   "source": [
    "## BAD\n",
    "# source $BIN_DIR/tomohara-aliases.bash"
   ]
  },
  {
   "cell_type": "code",
   "execution_count": 9,
   "id": "b4af87a1",
   "metadata": {},
   "outputs": [],
   "source": [
    "# ## NEED HELP for ypcat \n",
    "# $ group-members\n",
    "# | ypcat: can't get local yp domain: Local domain name not set"
   ]
  },
  {
   "cell_type": "code",
   "execution_count": 10,
   "id": "3591194c",
   "metadata": {
    "scrolled": true
   },
   "outputs": [
    {
     "name": "stdout",
     "output_type": "stream",
     "text": [
      "mv: cannot stat '*': No such file or directory\n",
      "do-make: command not found\n",
      "cat: _make.log: No such file or directory\n"
     ]
    },
    {
     "ename": "",
     "evalue": "1",
     "output_type": "error",
     "traceback": []
    }
   ],
   "source": [
    "## 1A) do-make \n",
    "# BAD: rm -rf ./* > /dev/null\n",
    "# command mv -f * \"$trash_dir\"\n",
    "\n",
    "mkdir testfolder\n",
    "echo \"Hi Mom!\" > himom.txt\n",
    "echo \"Hi Dad!\" > hidad.txt\n",
    "\n",
    "do-make \"himom.txt\"\n",
    "cat _make.log\n",
    "# do-make \"hidad.txt\"\n",
    "# cat _make.log\n",
    "\n",
    "# ls -l | awk '!($6=\"\")' | testuser | testnum"
   ]
  },
  {
   "cell_type": "code",
   "execution_count": null,
   "id": "0198effb",
   "metadata": {},
   "outputs": [],
   "source": [
    "do-make \"hidad.txt\"\n",
    "cat _make.log"
   ]
  },
  {
   "cell_type": "code",
   "execution_count": null,
   "id": "cb7f48dc",
   "metadata": {},
   "outputs": [],
   "source": [
    "ls -l | awk '!($6=\"\")' | testnum | testuser"
   ]
  },
  {
   "cell_type": "code",
   "execution_count": null,
   "id": "cd0c80db",
   "metadata": {},
   "outputs": [],
   "source": [
    "# 2A) merge REPLACED BY do-merge \n",
    "\n",
    "## INITIAL FILES TO TEST THE ALIASES\n",
    "printf \"THIS IS THE 1ST FILE.\" > tf1.txt\n",
    "printf \"THIS IS THE 2ND FILE.\" > tf2.txt\n",
    "printf \"THIS IS THE 3RD FILE.\" > tf3.txt\n",
    "\n",
    "# MESSAGE SHOWN IF MERGE IS USED\n",
    "merge tf1.txt tf2.txt"
   ]
  },
  {
   "cell_type": "code",
   "execution_count": null,
   "id": "c0c74f75",
   "metadata": {},
   "outputs": [],
   "source": [
    "# # 2B) do-merge (halts proces)\n",
    "# $ do-merge tf1.txt tf2.txt tf3.txt\n",
    "# | <<<<<<< tf1.txt\n",
    "# | THIS IS THE 1ST FILE.=======\n",
    "# | THIS IS THE 3RD FILE.>>>>>>> tf3.txt\n",
    "# | merge: warning: conflicts during merge\n"
   ]
  },
  {
   "cell_type": "code",
   "execution_count": null,
   "id": "d6f37399",
   "metadata": {},
   "outputs": [],
   "source": [
    "# # 2C) diff3-merge (halts process)\n",
    "\n",
    "# $ diff3-merge tf1.txt tf2.txt tf3.txt -A\n",
    "# | <<<<<<< tf1.txt\n",
    "# | THIS IS THE 1ST FILE.||||||| tf2.txt\n",
    "# | THIS IS THE 2ND FILE.=======\n",
    "# | THIS IS THE 3RD FILE.>>>>>>> tf3.txt\n"
   ]
  },
  {
   "cell_type": "code",
   "execution_count": null,
   "id": "b535f2eb",
   "metadata": {},
   "outputs": [],
   "source": [
    "# # 2D) kdiff-merge (opens kdiff window)\n",
    "# kdiff-merge tf1.txt tf.txt tf3.txt | testnum"
   ]
  },
  {
   "cell_type": "code",
   "execution_count": null,
   "id": "761a2cd8",
   "metadata": {},
   "outputs": [],
   "source": [
    "### TO FIX THE ERROR USE \"himom.txt\" --> himom.txt ###\n",
    "\n",
    "## OLD\n",
    "# which\n",
    "which python | grep -q \"python\" && echo \"PY-TRUE\" || echo \"PY-FALSE\"\n",
    "\n",
    "# # 3A) full-dirname RETURNS THE FULL PATH OF THE FILE\n",
    "# full-dirname himom.txt | testuser\n",
    "\n",
    "# # 3B) base-name-with-dir RETURNS THE BASENAME INCLUDING dir\n",
    "# basename-with-dir himom.txt"
   ]
  },
  {
   "cell_type": "code",
   "execution_count": null,
   "id": "8f904a21",
   "metadata": {},
   "outputs": [],
   "source": [
    "full-dirname himom.txt"
   ]
  },
  {
   "cell_type": "code",
   "execution_count": null,
   "id": "e38e8554",
   "metadata": {},
   "outputs": [],
   "source": [
    "basename-with-dir himom.txt"
   ]
  },
  {
   "cell_type": "code",
   "execution_count": null,
   "id": "d792021b",
   "metadata": {},
   "outputs": [],
   "source": [
    "# ## 3C) rpm-extract IS USED FOR RED HAT BASED DISTROS (RHEL, Fedora) - NEED HELP\n",
    "\n",
    "# # ERROR V:\n",
    "# # $ rpm-extract himom.txt\n",
    "# # | argument is not an RPM package\n",
    "# # | cpio: premature end of archive"
   ]
  },
  {
   "cell_type": "code",
   "execution_count": null,
   "id": "5cdac362",
   "metadata": {},
   "outputs": [],
   "source": [
    "## 4A) dump-url GIVES ERROR FOR BATSPP 2.1.X (can't use testnum) \n",
    "# dump-url https://www.example.com/"
   ]
  },
  {
   "cell_type": "code",
   "execution_count": null,
   "id": "49da8c7e",
   "metadata": {},
   "outputs": [],
   "source": [
    "## 4B) gtime (Need help to run commands)\n",
    "# ERROR - VI \n",
    "\n",
    "# $ gtime\n",
    "# | /usr/bin/time: missing program to run\n",
    "# | Try '/usr/bin/time --help' for more information\n",
    "\n",
    "## OLD\n",
    "# gtime -V | testnum\n",
    "\n",
    "gtime -f \"Real: %e seconds\\nUser: %U seconds\\nSys: %S seconds\" uname | testnum"
   ]
  },
  {
   "cell_type": "code",
   "execution_count": null,
   "id": "9bea16c5",
   "metadata": {},
   "outputs": [],
   "source": [
    "## 4C) linux-version GIVES INFO ALL INFO ABOUT THE OS INSTALLED\n",
    "linux-version | grep VERSION_ID | testnum\n",
    "# os-release ALSO WORKS SAME AS linux-version"
   ]
  },
  {
   "cell_type": "code",
   "execution_count": null,
   "id": "e0e10406",
   "metadata": {},
   "outputs": [],
   "source": [
    "## 4D) system-status - (awk removes the session-name)\n",
    "system-status | testnum | testuser | tail -n +2 | awk '!($8=\"\")'"
   ]
  },
  {
   "cell_type": "code",
   "execution_count": null,
   "id": "28e700ce",
   "metadata": {},
   "outputs": [],
   "source": [
    "apropos-command time | grep asctime | wc -l | testnum"
   ]
  },
  {
   "cell_type": "code",
   "execution_count": null,
   "id": "e3e42a18",
   "metadata": {
    "scrolled": true
   },
   "outputs": [],
   "source": [
    "## How split-tokens work\n",
    "## OLD\n",
    "cat hidad.txt\n",
    "# linebr\n",
    "# split-tokens hidad.txt"
   ]
  },
  {
   "cell_type": "code",
   "execution_count": null,
   "id": "43c24ea0",
   "metadata": {},
   "outputs": [],
   "source": [
    "split-tokens hidad.txt"
   ]
  },
  {
   "cell_type": "code",
   "execution_count": null,
   "id": "73ea76b9",
   "metadata": {},
   "outputs": [],
   "source": [
    "# tokenize SPLITS THE CONTENTS IN SEVERAL LINES ()\n",
    "## OLD\n",
    "# tokenize _old_make.log\n",
    "tokenize hidad.txt"
   ]
  },
  {
   "cell_type": "code",
   "execution_count": null,
   "id": "0ee7e74e",
   "metadata": {},
   "outputs": [],
   "source": [
    "# perl-echo ONLY PRINTS OUT THE 1ST ARGUMENT\n",
    "PERL_PRINT='This is Ubuntu!'\n",
    "perl-echo $PERL_PRINT\n",
    "## MOVED: TO NEXT CELL\n",
    "# perl-echo-sans-newline $PERL_PRINT"
   ]
  },
  {
   "cell_type": "code",
   "execution_count": null,
   "id": "212ef1c9",
   "metadata": {},
   "outputs": [],
   "source": [
    "perl-echo-sans-newline $PERL_PRINT"
   ]
  },
  {
   "cell_type": "code",
   "execution_count": null,
   "id": "a5d6b066",
   "metadata": {},
   "outputs": [],
   "source": [
    "# Several print commands (perl-based)\n",
    "perl-printf 'ONE KISS IS ALL IT TAKES\\n'\n",
    "# perl-print '2\\n3\\n5\\n7\\n11'\n",
    "# perl-print-n 'A B C D E F G\\n'\n",
    "# quote-tokens 'HELP ME!'"
   ]
  },
  {
   "cell_type": "code",
   "execution_count": null,
   "id": "c32526fd",
   "metadata": {},
   "outputs": [],
   "source": [
    "perl-print '2\\n3\\n5\\n7\\n11'"
   ]
  },
  {
   "cell_type": "code",
   "execution_count": null,
   "id": "9ab09848",
   "metadata": {},
   "outputs": [],
   "source": [
    "perl-print-n 'A B C D E F G\\n'"
   ]
  },
  {
   "cell_type": "code",
   "execution_count": null,
   "id": "efd7f828",
   "metadata": {},
   "outputs": [],
   "source": [
    "quote-tokens 'HELP ME!'"
   ]
  },
  {
   "cell_type": "code",
   "execution_count": null,
   "id": "b4502821",
   "metadata": {},
   "outputs": [],
   "source": [
    "# # 6A)\n",
    "# # Unix/Win32 networking aliases\n",
    "# if [ \"$OSTYPE\" != \"cygwin\" ]; then alias ipconfig=ifconfig; fi\n",
    "# alias set-display-local='export DISPLAY=localhost:0.0'\n",
    "\n",
    "set-display-local\n",
    "echo $DISPLAY | testnum"
   ]
  },
  {
   "cell_type": "code",
   "execution_count": null,
   "id": "2919fe8f",
   "metadata": {},
   "outputs": [],
   "source": [
    "## Need a filter to sensor day and month\n",
    "## bash-trace-on ENABLES bash tracing\n",
    "bash-trace-on | testuser | testnum\n",
    "## trace-cmd TRACES COMMANDS AND STATS (TIME) OF THE USER\n",
    "trace-cmd | testuser | testnum\n",
    "\n",
    "## MOVED: NEXT CELL\n",
    "# ## bash-trace-on DISABLES bash tracing\n",
    "# bash-trace-off | testuser | testnum\n",
    "# trace-cmd | testuser | testnum"
   ]
  },
  {
   "cell_type": "code",
   "execution_count": null,
   "id": "943f1eb0",
   "metadata": {},
   "outputs": [],
   "source": [
    "## bash-trace-on DISABLES bash tracing\n",
    "bash-trace-off | testuser | testnum\n",
    "trace-cmd | testuser | testnum"
   ]
  },
  {
   "cell_type": "code",
   "execution_count": null,
   "id": "ef8e82ea",
   "metadata": {
    "scrolled": true
   },
   "outputs": [],
   "source": [
    "# testing compression and extraction of dirs\n",
    "ls\n",
    "cp tf2.txt testfolder/\n",
    "## OLD: MOVED TO NEXT CELLS\n",
    "# linebr\n",
    "# compress-this-dir ./testfolder | testnum\n",
    "# linebr\n",
    "# ls\n",
    "# linebr\n",
    "# ununcompress-this-dir ./testfolder | testnum"
   ]
  },
  {
   "cell_type": "code",
   "execution_count": null,
   "id": "fa9577fa",
   "metadata": {},
   "outputs": [],
   "source": [
    "compress-this-dir ./testfolder | { [ $(wc -l < /dev/stdin) -ne 0 ] && echo \"NotZero\" || echo \"Zero\"; }"
   ]
  },
  {
   "cell_type": "code",
   "execution_count": null,
   "id": "e3e61188",
   "metadata": {},
   "outputs": [],
   "source": [
    "command ls"
   ]
  },
  {
   "cell_type": "code",
   "execution_count": null,
   "id": "2adacf28",
   "metadata": {},
   "outputs": [],
   "source": [
    "ununcompress-this-dir ./testfolder | { [ $(wc -l < /dev/stdin) -ne 0 ] && echo \"NotZero\" || echo \"Zero\"; }"
   ]
  },
  {
   "cell_type": "code",
   "execution_count": null,
   "id": "2646670b",
   "metadata": {},
   "outputs": [],
   "source": [
    "command ls"
   ]
  },
  {
   "cell_type": "code",
   "execution_count": null,
   "id": "caa6e9af",
   "metadata": {
    "scrolled": true
   },
   "outputs": [],
   "source": [
    "## You need to use iceweasel to kill it.\n",
    "## If iceweasel is not installed, you get this:\n",
    "\n",
    "# $ kill-iceweasel\n",
    "# | pattern=/:[0-9][0-9] [^ ]*iceweasel/\n",
    "# | filter=/($)(^)/\n",
    "# | Warning: No processes matched the pattern\n"
   ]
  },
  {
   "cell_type": "code",
   "execution_count": null,
   "id": "34bd5b99",
   "metadata": {},
   "outputs": [],
   "source": [
    "# count-exts counts extensions\n",
    "old-count-exts | testnum\n",
    "## OLD\n",
    "# linebr\n",
    "# count-exts | testnum"
   ]
  },
  {
   "cell_type": "code",
   "execution_count": null,
   "id": "ae4f0131",
   "metadata": {},
   "outputs": [],
   "source": [
    "count-exts | testnum"
   ]
  },
  {
   "cell_type": "code",
   "execution_count": null,
   "id": "1b9bea43",
   "metadata": {},
   "outputs": [],
   "source": [
    "## cmd-usage (HELP REQUIRED | HALTS PROCESS)"
   ]
  },
  {
   "cell_type": "code",
   "execution_count": null,
   "id": "c87c3dce",
   "metadata": {},
   "outputs": [],
   "source": [
    "echo \"Done!\"\n",
    "command mv -f * \"$trash_dir\""
   ]
  }
 ],
 "metadata": {
  "kernelspec": {
   "display_name": "Bash",
   "language": "bash",
   "name": "bash"
  },
  "language_info": {
   "codemirror_mode": "shell",
   "file_extension": ".sh",
   "mimetype": "text/x-sh",
   "name": "bash"
  }
 },
 "nbformat": 4,
 "nbformat_minor": 5
}
