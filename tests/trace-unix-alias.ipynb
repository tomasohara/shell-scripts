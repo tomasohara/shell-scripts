{
 "cells": [
  {
   "cell_type": "code",
   "execution_count": 1,
   "id": "782d47d4",
   "metadata": {},
   "outputs": [],
   "source": [
    "## SETUP (OPTIONAL - USE IF REQUIRED)\n",
    "## Bracketed Paste is disabled to prevent characters after output\n",
    "## Example: \n",
    "## $ echo 'Hii'\n",
    "## | Hi?2004l\n",
    "# bind 'set enable-bracketed-paste off'"
   ]
  },
  {
   "cell_type": "code",
   "execution_count": 2,
   "id": "65d43538",
   "metadata": {},
   "outputs": [
    {
     "name": "stdout",
     "output_type": "stream",
     "text": [
      "0\n"
     ]
    }
   ],
   "source": [
    "## TEST:  Make sure simple prompt used (e.g., no escapes that might contaminate output)\n",
    "## PS1=\"$ \"\n",
    "## TODO: PS1=\"> \"\n",
    "\n",
    "## NOTE: The Jupyter bash kernel requires that PS1 not be modified as they customize it.\n",
    "# echo \"TODO:\"\n",
    "# echo \"  echo \\\"\\$PS1\\\" | command grep --count --perl-regexp '[\\x00-\\x1f]'\"\n",
    "\n",
    "actual=${PS1: -1}\n",
    "[ \"$actual\" = \">\" ]; echo $?"
   ]
  },
  {
   "cell_type": "code",
   "execution_count": 3,
   "id": "d623c9a9",
   "metadata": {},
   "outputs": [
    {
     "name": "stdout",
     "output_type": "stream",
     "text": [
      "0\n"
     ]
    }
   ],
   "source": [
    "## OLD: For debug\n",
    "# alias | wc -l\n",
    "\n",
    "# The debugging level should be at most 3\n",
    "# Note: this affects output as bash_kernel conflates stderr w/ stdout\n",
    "## TODO: echo \"DEBUG_LEVEL=$DEBUG_LEVEL\" 1>&2\n",
    "[ \"$DEBUG_LEVEL\" -lt 4 ]; echo \"$?\""
   ]
  },
  {
   "cell_type": "code",
   "execution_count": 4,
   "id": "ab954c7f",
   "metadata": {},
   "outputs": [],
   "source": [
    "# Global Setup\n",
    "TMP=${TMP:-/tmp}\n",
    "if [ \"$DEBUG_LEVEL\" -lt 4 ]; then \n",
    "    TMP=/tmp/trace-unix-alias\n",
    "fi\n",
    "temp_dir=$TMP/test-unix-alias\n",
    "## OLD: trash_dir=$TMP/\"_temp-trash-$(date \"+%Y%m%d%H%M%S\")\"\n",
    "command mkdir -p \"$temp_dir\"\n",
    "## OLD: command mkdir -p \"$trash_dir\"\n",
    "command cd \"$temp_dir\""
   ]
  },
  {
   "cell_type": "code",
   "execution_count": 5,
   "id": "ec6df159",
   "metadata": {},
   "outputs": [],
   "source": [
    "# Global Setup\n",
    "\n",
    "alias testuser=\"sed -r \"s/\"$USER\"+/userxf333/g\"\"\n",
    "alias testnum=\"sed -r \"s/[0-9][0-9]*/N/g\"\"\n",
    "alias linebr=\"printf '%132s\\n' ' ' | tr ' ' '-'\""
   ]
  },
  {
   "cell_type": "code",
   "execution_count": 6,
   "id": "ff290d73",
   "metadata": {},
   "outputs": [
    {
     "name": "stdout",
     "output_type": "stream",
     "text": [
      "0\n"
     ]
    }
   ],
   "source": [
    "## OLD\n",
    "## Count aliases proper\n",
    "# alias | wc -l\n",
    "\n",
    "# Count aliases w/ -dir in name\n",
    "# Example:\n",
    "#   $ alias | egrep '\\-dir\\b' | wc -l\n",
    "#   29\n",
    "\n",
    "dir_aliases=$(alias | egrep '\\-dir\\b' | wc -l)\n",
    "[ \"$dir_aliases\" -gt 20 ]; echo \"$?\""
   ]
  },
  {
   "cell_type": "code",
   "execution_count": 7,
   "id": "f71fdf21",
   "metadata": {},
   "outputs": [
    {
     "name": "stdout",
     "output_type": "stream",
     "text": [
      "0\n"
     ]
    }
   ],
   "source": [
    "## OLD\n",
    "## Count functions\n",
    "# typeset -f | egrep '^\\w+' | wc -l\n",
    "\n",
    "dir_functions=$(typeset -f | egrep '\\-dir\\b' | wc -l)\n",
    "[ \"$dir_functions\" -gt 35 ]; echo \"$?\""
   ]
  },
  {
   "cell_type": "code",
   "execution_count": 8,
   "id": "760a7389",
   "metadata": {},
   "outputs": [],
   "source": [
    "## BAD\n",
    "# source $BIN_DIR/tomohara-aliases.bash"
   ]
  },
  {
   "cell_type": "code",
   "execution_count": 9,
   "id": "b4af87a1",
   "metadata": {},
   "outputs": [],
   "source": [
    "# ## NEED HELP for ypcat \n",
    "# $ group-members\n",
    "# | ypcat: can't get local yp domain: Local domain name not set"
   ]
  },
  {
   "cell_type": "code",
   "execution_count": 10,
   "id": "3591194c",
   "metadata": {
    "scrolled": true
   },
   "outputs": [],
   "source": [
    "## 1A) do-make \n",
    "# BAD: rm -rf ./* > /dev/null\n",
    "# command mv -f * \"$trash_dir\"\n",
    "\n",
    "mkdir testfolder\n",
    "echo \"Hi Mom!\" > himom.txt\n",
    "echo \"Hi Dad!\" > hidad.txt"
   ]
  },
  {
   "cell_type": "code",
   "execution_count": 11,
   "id": "0198effb",
   "metadata": {},
   "outputs": [],
   "source": [
    "## Dropped support\n",
    "# do-make \"hidad.txt\"\n",
    "# cat _make.log"
   ]
  },
  {
   "cell_type": "code",
   "execution_count": 12,
   "id": "cb7f48dc",
   "metadata": {},
   "outputs": [
    {
     "name": "stdout",
     "output_type": "stream",
     "text": [
      "0\n"
     ]
    }
   ],
   "source": [
    "## OLD: ls -l | awk '!($6=\"\")' | testnum | testuser\n",
    "[ \"$(ls | grep -E \"himom.txt|hidad.txt|testfolder\" | wc -l)\" -eq 3 ]; echo $?"
   ]
  },
  {
   "cell_type": "code",
   "execution_count": 13,
   "id": "cd0c80db",
   "metadata": {},
   "outputs": [
    {
     "name": "stdout",
     "output_type": "stream",
     "text": [
      "0\n"
     ]
    }
   ],
   "source": [
    "# 2A) merge REPLACED BY do-merge \n",
    "\n",
    "## INITIAL FILES TO TEST THE ALIASES\n",
    "printf \"THIS IS THE 1ST FILE.\" > tf1.txt\n",
    "printf \"THIS IS THE 2ND FILE.\" > tf2.txt\n",
    "printf \"THIS IS THE 3RD FILE.\" > tf3.txt\n",
    "\n",
    "# MESSAGE SHOWN IF MERGE IS USED\n",
    "## OLD: merge tf1.txt tf2.txt\n",
    "[ \"$(merge tf1.txt tf2.txt)\" = \"do-merge MODFILE1 OLDFILE MODFILE2 > NEWFILE tf1.txt tf2.txt\" ]; echo $?"
   ]
  },
  {
   "cell_type": "code",
   "execution_count": 14,
   "id": "c0c74f75",
   "metadata": {},
   "outputs": [],
   "source": [
    "# # 2B) do-merge (halts proces)\n",
    "# $ do-merge tf1.txt tf2.txt tf3.txt\n",
    "# | <<<<<<< tf1.txt\n",
    "# | THIS IS THE 1ST FILE.=======\n",
    "# | THIS IS THE 3RD FILE.>>>>>>> tf3.txt\n",
    "# | merge: warning: conflicts during merge\n"
   ]
  },
  {
   "cell_type": "code",
   "execution_count": 15,
   "id": "d6f37399",
   "metadata": {},
   "outputs": [],
   "source": [
    "# # 2C) diff3-merge (halts process)\n",
    "\n",
    "# $ diff3-merge tf1.txt tf2.txt tf3.txt -A\n",
    "# | <<<<<<< tf1.txt\n",
    "# | THIS IS THE 1ST FILE.||||||| tf2.txt\n",
    "# | THIS IS THE 2ND FILE.=======\n",
    "# | THIS IS THE 3RD FILE.>>>>>>> tf3.txt\n"
   ]
  },
  {
   "cell_type": "code",
   "execution_count": 16,
   "id": "b535f2eb",
   "metadata": {},
   "outputs": [],
   "source": [
    "# # 2D) kdiff-merge (opens kdiff window)\n",
    "# kdiff-merge tf1.txt tf.txt tf3.txt | testnum"
   ]
  },
  {
   "cell_type": "code",
   "execution_count": 17,
   "id": "761a2cd8",
   "metadata": {},
   "outputs": [
    {
     "name": "stdout",
     "output_type": "stream",
     "text": [
      "PY-TRUE\n"
     ]
    }
   ],
   "source": [
    "### TO FIX THE ERROR USE \"himom.txt\" --> himom.txt ###\n",
    "\n",
    "## OLD\n",
    "# which\n",
    "which python | grep -q \"python\" && echo \"PY-TRUE\" || echo \"PY-FALSE\"\n",
    "# [ \"$(which python | grep -q \"python\")\" ]; echo $?\n",
    "# # 3A) full-dirname RETURNS THE FULL PATH OF THE FILE\n",
    "# full-dirname himom.txt | testuser\n",
    "\n",
    "# # 3B) base-name-with-dir RETURNS THE BASENAME INCLUDING dir\n",
    "# basename-with-dir himom.txt"
   ]
  },
  {
   "cell_type": "code",
   "execution_count": 18,
   "id": "8f904a21",
   "metadata": {},
   "outputs": [
    {
     "name": "stdout",
     "output_type": "stream",
     "text": [
      "1\n"
     ]
    }
   ],
   "source": [
    "## OLD: full-dirname himom.txt\n",
    "[ \"$(full-dirname himom.txt)\" = \"/tmp/trace-unix-commands/test-7766/himom.txt\" ]; echo $?"
   ]
  },
  {
   "cell_type": "code",
   "execution_count": 19,
   "id": "e38e8554",
   "metadata": {},
   "outputs": [
    {
     "name": "stdout",
     "output_type": "stream",
     "text": [
      "0\n"
     ]
    }
   ],
   "source": [
    "## OLD: basename-with-dir himom.txt\n",
    "[ \"$(basename-with-dir himom.txt)\" = \"./himom.txt\" ]; echo $?"
   ]
  },
  {
   "cell_type": "code",
   "execution_count": 20,
   "id": "d792021b",
   "metadata": {},
   "outputs": [],
   "source": [
    "# ## 3C) rpm-extract IS USED FOR RED HAT BASED DISTROS (RHEL, Fedora) - NEED HELP\n",
    "\n",
    "# # ERROR V:\n",
    "# # $ rpm-extract himom.txt\n",
    "# # | argument is not an RPM package\n",
    "# # | cpio: premature end of archive"
   ]
  },
  {
   "cell_type": "code",
   "execution_count": 21,
   "id": "5cdac362",
   "metadata": {},
   "outputs": [],
   "source": [
    "## 4A) dump-url GIVES ERROR FOR BATSPP 2.1.X (can't use testnum) \n",
    "# dump-url https://www.example.com/"
   ]
  },
  {
   "cell_type": "code",
   "execution_count": 22,
   "id": "49da8c7e",
   "metadata": {},
   "outputs": [
    {
     "name": "stdout",
     "output_type": "stream",
     "text": [
      "Linux\n",
      "Real: 0.00 seconds\n",
      "User: 0.00 seconds\n",
      "Sys: 0.00 seconds\n"
     ]
    }
   ],
   "source": [
    "## 4B) gtime (Need help to run commands)\n",
    "# ERROR - VI \n",
    "\n",
    "# $ gtime\n",
    "# | /usr/bin/time: missing program to run\n",
    "# | Try '/usr/bin/time --help' for more information\n",
    "\n",
    "## OLD\n",
    "# gtime -V | testnum\n",
    "\n",
    "gtime -f \"Real: %e seconds\\nUser: %U seconds\\nSys: %S seconds\" uname | testnum"
   ]
  },
  {
   "cell_type": "code",
   "execution_count": 23,
   "id": "9bea16c5",
   "metadata": {},
   "outputs": [
    {
     "name": "stdout",
     "output_type": "stream",
     "text": [
      "VERSION_ID=\"N.N\"\n"
     ]
    }
   ],
   "source": [
    "## 4C) linux-version GIVES INFO ALL INFO ABOUT THE OS INSTALLED\n",
    "linux-version | grep VERSION_ID | testnum\n",
    "# os-release ALSO WORKS SAME AS linux-version"
   ]
  },
  {
   "cell_type": "code",
   "execution_count": 24,
   "id": "e0e10406",
   "metadata": {},
   "outputs": [
    {
     "name": "stdout",
     "output_type": "stream",
     "text": [
      "system_status.sh: command not found\n"
     ]
    }
   ],
   "source": [
    "## 4D) system-status - (awk removes the session-name)\n",
    "system-status | testnum | testuser | tail -n +2 | awk '!($8=\"\")'"
   ]
  },
  {
   "cell_type": "code",
   "execution_count": 25,
   "id": "28e700ce",
   "metadata": {},
   "outputs": [
    {
     "name": "stdout",
     "output_type": "stream",
     "text": [
      "N\n"
     ]
    }
   ],
   "source": [
    "apropos-command time | grep asctime | wc -l | testnum"
   ]
  },
  {
   "cell_type": "code",
   "execution_count": 26,
   "id": "e3e42a18",
   "metadata": {
    "scrolled": true
   },
   "outputs": [
    {
     "name": "stdout",
     "output_type": "stream",
     "text": [
      "Hi Dad!\n"
     ]
    }
   ],
   "source": [
    "## How split-tokens work\n",
    "## OLD\n",
    "cat hidad.txt\n",
    "# linebr\n",
    "# split-tokens hidad.txt"
   ]
  },
  {
   "cell_type": "code",
   "execution_count": 27,
   "id": "43c24ea0",
   "metadata": {},
   "outputs": [
    {
     "name": "stdout",
     "output_type": "stream",
     "text": [
      "Hi\n",
      "Dad!\n"
     ]
    }
   ],
   "source": [
    "split-tokens hidad.txt"
   ]
  },
  {
   "cell_type": "code",
   "execution_count": 28,
   "id": "73ea76b9",
   "metadata": {},
   "outputs": [
    {
     "name": "stdout",
     "output_type": "stream",
     "text": [
      "Hi\n",
      "Dad!\n"
     ]
    }
   ],
   "source": [
    "# tokenize SPLITS THE CONTENTS IN SEVERAL LINES ()\n",
    "## OLD\n",
    "# tokenize _old_make.log\n",
    "tokenize hidad.txt"
   ]
  },
  {
   "cell_type": "code",
   "execution_count": 29,
   "id": "0ee7e74e",
   "metadata": {},
   "outputs": [
    {
     "name": "stdout",
     "output_type": "stream",
     "text": [
      "0\n"
     ]
    }
   ],
   "source": [
    "# perl-echo ONLY PRINTS OUT THE 1ST ARGUMENT\n",
    "PERL_PRINT='This is Ubuntu!'\n",
    "## OLD: perl-echo $PERL_PRINT\n",
    "[ \"$(perl-echo \"$PERL_PRINT\")\" = \"$PERL_PRINT\" ]; echo $?\n",
    "## MOVED: TO NEXT CELL\n",
    "# perl-echo-sans-newline $PERL_PRINT\n"
   ]
  },
  {
   "cell_type": "code",
   "execution_count": 30,
   "id": "212ef1c9",
   "metadata": {},
   "outputs": [
    {
     "name": "stdout",
     "output_type": "stream",
     "text": [
      "0\n"
     ]
    }
   ],
   "source": [
    "## OLD: perl-echo-sans-newline $PERL_PRINT\n",
    "[ \"$(perl-echo-sans-newline $PERL_PRINT)\" = \"This\" ]; echo $?"
   ]
  },
  {
   "cell_type": "code",
   "execution_count": 31,
   "id": "a5d6b066",
   "metadata": {},
   "outputs": [
    {
     "name": "stdout",
     "output_type": "stream",
     "text": [
      "0\n"
     ]
    }
   ],
   "source": [
    "# Several print commands (perl-based)\n",
    "## OLD: perl-printf 'ONE KISS IS ALL IT TAKES\\n'\n",
    "[ \"$(perl-printf 'ONE KISS IS ALL IT TAKES\\n' | wc -c)\" -eq 25 ]; echo $? \n",
    "# perl-print '2\\n3\\n5\\n7\\n11'\n",
    "# perl-print-n 'A B C D E F G\\n'\n",
    "# quote-tokens 'HELP ME!'"
   ]
  },
  {
   "cell_type": "code",
   "execution_count": 32,
   "id": "c32526fd",
   "metadata": {},
   "outputs": [
    {
     "name": "stdout",
     "output_type": "stream",
     "text": [
      "2\n",
      "3\n",
      "5\n",
      "7\n",
      "11\n"
     ]
    }
   ],
   "source": [
    "# OLD: perl-print '2\\n3\\n5\\n7\\n11'\n",
    "perl-print '2\\n3\\n5\\n7\\n11'"
   ]
  },
  {
   "cell_type": "code",
   "execution_count": 33,
   "id": "9ab09848",
   "metadata": {},
   "outputs": [
    {
     "name": "stdout",
     "output_type": "stream",
     "text": [
      "0\n"
     ]
    }
   ],
   "source": [
    "# OLD: perl-print-n 'A B C D E F G\\n'\n",
    "[ \"$(perl-print-n 'A B C D E F G\\n')\" = \"A B C D E F G\" ]; echo $? "
   ]
  },
  {
   "cell_type": "code",
   "execution_count": 34,
   "id": "efd7f828",
   "metadata": {},
   "outputs": [
    {
     "name": "stdout",
     "output_type": "stream",
     "text": [
      "0\n"
     ]
    }
   ],
   "source": [
    "# OLD: quote-tokens 'HELP ME!'\n",
    "[ \"$(quote-tokens 'HELP ME!')\" = '\"HELP\" \"ME!\"' ]; echo $? "
   ]
  },
  {
   "cell_type": "code",
   "execution_count": 35,
   "id": "b4502821",
   "metadata": {},
   "outputs": [
    {
     "name": "stdout",
     "output_type": "stream",
     "text": [
      "localhost:N.N\n"
     ]
    }
   ],
   "source": [
    "# # 6A)\n",
    "# # Unix/Win32 networking aliases\n",
    "# if [ \"$OSTYPE\" != \"cygwin\" ]; then alias ipconfig=ifconfig; fi\n",
    "# alias set-display-local='export DISPLAY=localhost:0.0'\n",
    "\n",
    "set-display-local\n",
    "echo $DISPLAY | testnum"
   ]
  },
  {
   "cell_type": "code",
   "execution_count": 36,
   "id": "2919fe8f",
   "metadata": {},
   "outputs": [
    {
     "name": "stdout",
     "output_type": "stream",
     "text": [
      "start: Tue Apr N N:N:N PM +N N\n",
      "+ eval ''\n",
      "+ set - -o xtrace\n",
      "end: Tue Apr N N:N:N PM +N N\n"
     ]
    }
   ],
   "source": [
    "## Need a filter to sensor day and month\n",
    "## bash-trace-on ENABLES bash tracing\n",
    "bash-trace-on | testuser | testnum\n",
    "## trace-cmd TRACES COMMANDS AND STATS (TIME) OF THE USER\n",
    "trace-cmd | testuser | testnum\n",
    "\n",
    "## MOVED: NEXT CELL\n",
    "# ## bash-trace-on DISABLES bash tracing\n",
    "# bash-trace-off | testuser | testnum\n",
    "# trace-cmd | testuser | testnum"
   ]
  },
  {
   "cell_type": "code",
   "execution_count": 37,
   "id": "943f1eb0",
   "metadata": {},
   "outputs": [
    {
     "name": "stdout",
     "output_type": "stream",
     "text": [
      "start: Tue Apr N N:N:N PM +N N\n",
      "+ eval ''\n",
      "+ set - -o xtrace\n",
      "end: Tue Apr N N:N:N PM +N N\n"
     ]
    }
   ],
   "source": [
    "## bash-trace-on DISABLES bash tracing\n",
    "bash-trace-off | testuser | testnum\n",
    "trace-cmd | testuser | testnum"
   ]
  },
  {
   "cell_type": "code",
   "execution_count": 38,
   "id": "ef8e82ea",
   "metadata": {
    "scrolled": true
   },
   "outputs": [
    {
     "name": "stdout",
     "output_type": "stream",
     "text": [
      "hidad.txt  himom.txt  \u001b[0m\u001b[01;34mtestfolder\u001b[0m  tf1.txt  tf2.txt  tf3.txt\n",
      "'tf2.txt' -> 'testfolder/tf2.txt'\n"
     ]
    }
   ],
   "source": [
    "# testing compression and extraction of dirs\n",
    "ls\n",
    "cp tf2.txt testfolder/\n",
    "## OLD: MOVED TO NEXT CELLS\n",
    "# linebr\n",
    "# compress-this-dir ./testfolder | testnum\n",
    "# linebr\n",
    "# ls\n",
    "# linebr\n",
    "# ununcompress-this-dir ./testfolder | testnum"
   ]
  },
  {
   "cell_type": "code",
   "execution_count": 39,
   "id": "fa9577fa",
   "metadata": {},
   "outputs": [
    {
     "name": "stdout",
     "output_type": "stream",
     "text": [
      "NotZero\n"
     ]
    }
   ],
   "source": [
    "compress-this-dir ./testfolder | { [ $(wc -l < /dev/stdin) -ne 0 ] && echo \"NotZero\" || echo \"Zero\"; }"
   ]
  },
  {
   "cell_type": "code",
   "execution_count": 40,
   "id": "e3e61188",
   "metadata": {},
   "outputs": [
    {
     "name": "stdout",
     "output_type": "stream",
     "text": [
      "hidad.txt.gz  himom.txt.gz  testfolder\ttf1.txt.gz  tf2.txt.gz\ttf3.txt.gz\n"
     ]
    }
   ],
   "source": [
    "command ls"
   ]
  },
  {
   "cell_type": "code",
   "execution_count": 41,
   "id": "2adacf28",
   "metadata": {},
   "outputs": [
    {
     "name": "stdout",
     "output_type": "stream",
     "text": [
      "NotZero\n"
     ]
    }
   ],
   "source": [
    "ununcompress-this-dir ./testfolder | { [ $(wc -l < /dev/stdin) -ne 0 ] && echo \"NotZero\" || echo \"Zero\"; }"
   ]
  },
  {
   "cell_type": "code",
   "execution_count": 42,
   "id": "2646670b",
   "metadata": {},
   "outputs": [
    {
     "name": "stdout",
     "output_type": "stream",
     "text": [
      "hidad.txt  himom.txt  testfolder  tf1.txt  tf2.txt  tf3.txt\n"
     ]
    }
   ],
   "source": [
    "command ls"
   ]
  },
  {
   "cell_type": "code",
   "execution_count": 43,
   "id": "caa6e9af",
   "metadata": {
    "scrolled": true
   },
   "outputs": [],
   "source": [
    "## You need to use iceweasel to kill it.\n",
    "## If iceweasel is not installed, you get this:\n",
    "\n",
    "# $ kill-iceweasel\n",
    "# | pattern=/:[0-9][0-9] [^ ]*iceweasel/\n",
    "# | filter=/($)(^)/\n",
    "# | Warning: No processes matched the pattern\n"
   ]
  },
  {
   "cell_type": "code",
   "execution_count": 44,
   "id": "34bd5b99",
   "metadata": {},
   "outputs": [
    {
     "name": "stdout",
     "output_type": "stream",
     "text": [
      ".txt\tN\n"
     ]
    }
   ],
   "source": [
    "# count-exts counts extensions\n",
    "old-count-exts | testnum\n",
    "## OLD\n",
    "# linebr\n",
    "# count-exts | testnum"
   ]
  },
  {
   "cell_type": "code",
   "execution_count": 45,
   "id": "ae4f0131",
   "metadata": {},
   "outputs": [
    {
     "name": "stdout",
     "output_type": "stream",
     "text": [
      ".txt\tN\n"
     ]
    }
   ],
   "source": [
    "count-exts | testnum"
   ]
  },
  {
   "cell_type": "code",
   "execution_count": 46,
   "id": "1b9bea43",
   "metadata": {},
   "outputs": [],
   "source": [
    "## cmd-usage (HELP REQUIRED | HALTS PROCESS)"
   ]
  },
  {
   "cell_type": "code",
   "execution_count": 47,
   "id": "c87c3dce",
   "metadata": {},
   "outputs": [
    {
     "name": "stdout",
     "output_type": "stream",
     "text": [
      "Done\n"
     ]
    }
   ],
   "source": [
    "## OLD: No use of trash_dir\n",
    "# if [[ \"$PWD\" = *\"/tmp/\"* ]]; then\n",
    "#     command mv -f * \"$trash_dir\"\n",
    "#     echo \"Successfully moved to trash\"\n",
    "# else\n",
    "#     echo \"Warning: Current directory not in TMP\"\n",
    "# fi\n",
    "echo \"Done\""
   ]
  }
 ],
 "metadata": {
  "kernelspec": {
   "display_name": "Bash",
   "language": "bash",
   "name": "bash"
  },
  "language_info": {
   "codemirror_mode": "shell",
   "file_extension": ".sh",
   "mimetype": "text/x-sh",
   "name": "bash"
  }
 },
 "nbformat": 4,
 "nbformat_minor": 5
}
