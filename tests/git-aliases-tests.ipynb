{
 "cells": [
  {
   "cell_type": "code",
   "execution_count": null,
   "id": "244c5c63-1ef6-45ec-9ab5-227d8cec7899",
   "metadata": {},
   "outputs": [
    {
     "name": "stdout",
     "output_type": "stream",
     "text": [
      "\u001b]1;$ lolo [~]\u0007\u001b]2;$ lolo [~]\u0007\n",
      "mkdir: cannot create directory ‘temp-git-test’: File exists\n",
      "/home/lolo/temp-git-test\n",
      "\u001b]1;$ temp-git-test [~/temp-git-test]\u0007\u001b]2;$ temp-git-test [~/temp-git-test]\u0007\n",
      "Reinitialized existing Git repository in /home/lolo/temp-git-test/.git/\n",
      "error: remote origin already exists.\n",
      "From https://github.com/LorenzoFerraces/bash-test\n",
      " * branch            main       -> FETCH_HEAD\n",
      "Already up to date.\n",
      "\u001b]1;$ lolo [~]\u0007\u001b]2;$ lolo [~]\u0007\n",
      "mkdir: cannot create directory ‘temp-git-test-B’: File exists\n",
      "/home/lolo/temp-git-test-B\n",
      "\u001b]1;$ temp-git-test-B [~/temp-git-test-B]\u0007\u001b]2;$ temp-git-test-B [~/temp-git-test-B]\u0007\n"
     ]
    }
   ],
   "source": [
    "# Setup\n",
    "\n",
    "\n",
    "\n",
    "# Creating temp repo to test on\n",
    "cd \n",
    "mkdir temp-git-test \n",
    "cd temp-git-test \n",
    "git init \n",
    "git remote add origin https://github.com/LorenzoFerraces/bash-test.git \n",
    "git pull origin main\n",
    "\n",
    "# Creating repo to test pulling changes from\n",
    "cd \n",
    "mkdir temp-git-test-B \n",
    "cd temp-git-test-B \n",
    "git init \n",
    "git remote add origin https://github.com/LorenzoFerraces/bash-test.git\n",
    "git fetch origin main\n",
    "git pull -r origin main \n",
    "echo \"hello second local\" >| hello.txt\n",
    "git add hello.txt\n",
    "git commit -m \"first commit on second local\"\n",
    "git push\n",
    "\n",
    "# Moving to first repo\n",
    "cd \n",
    "cd temp-git-test\n"
   ]
  },
  {
   "cell_type": "code",
   "execution_count": 2,
   "id": "3e87355d-a872-4cb6-b293-baed57c08cf7",
   "metadata": {},
   "outputs": [
    {
     "name": "stdout",
     "output_type": "stream",
     "text": [
      "Switched to a new branch 'newBranch'\n"
     ]
    }
   ],
   "source": [
    "# git-branch-alias test\n",
    "# switch to new branch\n",
    "git checkout -b newBranch;\n",
    "actual_branch=$(git branch --show-current)\n"
   ]
  },
  {
   "cell_type": "code",
   "execution_count": 3,
   "id": "b1148a78-dace-4b0e-a4de-6b52638c43e6",
   "metadata": {},
   "outputs": [
    {
     "name": "stdout",
     "output_type": "stream",
     "text": [
      "0\n"
     ]
    }
   ],
   "source": [
    "# Assert\n",
    "[ $(echo $actual_branch) == \"$(git-branch-alias)\" ]; echo $?;"
   ]
  },
  {
   "cell_type": "code",
   "execution_count": 4,
   "id": "5f4c7df1-df95-48ab-9f71-241a739ec802",
   "metadata": {},
   "outputs": [
    {
     "name": "stdout",
     "output_type": "stream",
     "text": [
      "usage: git-checkout-branch [--help | branch]\n",
      "note: available branches:\n",
      "    main\n"
     ]
    }
   ],
   "source": [
    "#git-checkout-branch test\n",
    "git-checkout-branch --help\n"
   ]
  },
  {
   "cell_type": "code",
   "execution_count": 5,
   "id": "1b77bcde-0382-48bd-ad6c-45bbf2ac46fd",
   "metadata": {},
   "outputs": [
    {
     "name": "stdout",
     "output_type": "stream",
     "text": [
      "issuing: git checkout main --\n",
      "Switched to branch 'main'\n"
     ]
    }
   ],
   "source": [
    "git-checkout-branch main\n",
    "actual_branch=$(git branch --show-current)"
   ]
  },
  {
   "cell_type": "code",
   "execution_count": 6,
   "id": "91bf6993-27ba-4b7e-8556-c1c84b83c3ed",
   "metadata": {},
   "outputs": [
    {
     "name": "stdout",
     "output_type": "stream",
     "text": [
      "0\n"
     ]
    }
   ],
   "source": [
    "# Assert\n",
    "[ $(echo $actual_branch) == \"main\" ]; echo $?;"
   ]
  },
  {
   "cell_type": "code",
   "execution_count": 7,
   "id": "01ccce52-4164-4370-8c79-85a9e72425ea",
   "metadata": {},
   "outputs": [
    {
     "name": "stdout",
     "output_type": "stream",
     "text": [
      "diff.txt  file.txt  hello.txt  \u001b[0m\u001b[01;34mlog-files\u001b[0m\n"
     ]
    }
   ],
   "source": [
    "# git-update-plus test\n",
    "git-update-plus-test"
   ]
  },
  {
   "cell_type": "code",
   "execution_count": null,
   "id": "e015f1fb-a1fc-4808-9e2a-8f982122f707",
   "metadata": {},
   "outputs": [],
   "source": [
    "[ $(cat hello.txt) == \"hello second local\" ]; echo $?;"
   ]
  },
  {
   "cell_type": "code",
   "execution_count": 8,
   "id": "da6aef2f-5e07-4c9d-97bb-d8df6ed6f172",
   "metadata": {},
   "outputs": [
    {
     "name": "stdout",
     "output_type": "stream",
     "text": [
      "rm 'hello.txt'\n",
      "The following paths are ignored by one of your .gitignore files:\n",
      "log-files\n",
      "\u001b[33mhint: Use -f if you really want to add them.\u001b[m\n",
      "\u001b[33mhint: Turn this message off by running\u001b[m\n",
      "\u001b[33mhint: \"git config advice.addIgnoredFile false\"\u001b[m\n",
      "[main 8dac562] cleanup test files\n",
      " 1 file changed, 1 deletion(-)\n",
      " delete mode 100644 hello.txt\n",
      "To https://github.com/LorenzoFerraces/bash-test.git\n",
      " \u001b[31m! [rejected]       \u001b[m main -> main (fetch first)\n",
      "\u001b[31merror: failed to push some refs to 'https://github.com/LorenzoFerraces/bash-test.git'\n",
      "\u001b[m\u001b[33mhint: Updates were rejected because the remote contains work that you do\u001b[m\n",
      "\u001b[33mhint: not have locally. This is usually caused by another repository pushing\u001b[m\n",
      "\u001b[33mhint: to the same ref. You may want to first integrate the remote changes\u001b[m\n",
      "\u001b[33mhint: (e.g., 'git pull ...') before pushing again.\u001b[m\n",
      "\u001b[33mhint: See the 'Note about fast-forwards' in 'git push --help' for details.\u001b[m\n",
      "\u001b]1;$ lolo [~]\u0007\u001b]2;$ lolo [~]\u0007\n",
      "removed 'temp-git-test/file.txt'\n",
      "removed 'temp-git-test/log-files/_git-checkout-28nov23-1540-qzH.log'\n",
      "removed directory 'temp-git-test/log-files'\n",
      "removed 'temp-git-test/diff.txt'\n",
      "removed 'temp-git-test/.git/objects/pack/pack-c897d72a48065ec639ad690b9cd5d5856be4d86f.idx'\n",
      "removed 'temp-git-test/.git/objects/pack/pack-c897d72a48065ec639ad690b9cd5d5856be4d86f.pack'\n",
      "removed directory 'temp-git-test/.git/objects/pack'\n",
      "removed directory 'temp-git-test/.git/objects/info'\n",
      "removed 'temp-git-test/.git/objects/8d/ac5621b843b67c22c9199495cffecc71a2bce7'\n",
      "removed directory 'temp-git-test/.git/objects/8d'\n",
      "removed 'temp-git-test/.git/objects/a1/9d835250add4e5959b8630bfbbff79fc5d82eb'\n",
      "removed directory 'temp-git-test/.git/objects/a1'\n",
      "removed directory 'temp-git-test/.git/objects'\n",
      "removed 'temp-git-test/.git/hooks/pre-applypatch.sample'\n",
      "removed 'temp-git-test/.git/hooks/pre-rebase.sample'\n",
      "removed 'temp-git-test/.git/hooks/applypatch-msg.sample'\n",
      "removed 'temp-git-test/.git/hooks/post-update.sample'\n",
      "removed 'temp-git-test/.git/hooks/pre-commit.sample'\n",
      "removed 'temp-git-test/.git/hooks/pre-merge-commit.sample'\n",
      "removed 'temp-git-test/.git/hooks/commit-msg.sample'\n",
      "removed 'temp-git-test/.git/hooks/prepare-commit-msg.sample'\n",
      "removed 'temp-git-test/.git/hooks/pre-receive.sample'\n",
      "removed 'temp-git-test/.git/hooks/push-to-checkout.sample'\n",
      "removed 'temp-git-test/.git/hooks/pre-push.sample'\n",
      "removed 'temp-git-test/.git/hooks/update.sample'\n",
      "removed 'temp-git-test/.git/hooks/fsmonitor-watchman.sample'\n",
      "removed directory 'temp-git-test/.git/hooks'\n",
      "removed 'temp-git-test/.git/HEAD'\n",
      "removed 'temp-git-test/.git/logs/HEAD'\n",
      "removed 'temp-git-test/.git/logs/refs/remotes/origin/main'\n",
      "removed directory 'temp-git-test/.git/logs/refs/remotes/origin'\n",
      "removed directory 'temp-git-test/.git/logs/refs/remotes'\n",
      "removed 'temp-git-test/.git/logs/refs/heads/main'\n",
      "removed 'temp-git-test/.git/logs/refs/heads/newBranch'\n",
      "removed directory 'temp-git-test/.git/logs/refs/heads'\n",
      "removed directory 'temp-git-test/.git/logs/refs'\n",
      "removed directory 'temp-git-test/.git/logs'\n",
      "removed 'temp-git-test/.git/index'\n",
      "removed directory 'temp-git-test/.git/branches'\n",
      "removed 'temp-git-test/.git/COMMIT_EDITMSG'\n",
      "removed 'temp-git-test/.git/FETCH_HEAD'\n",
      "removed 'temp-git-test/.git/description'\n",
      "removed directory 'temp-git-test/.git/refs/tags'\n",
      "removed 'temp-git-test/.git/refs/remotes/origin/main'\n",
      "removed directory 'temp-git-test/.git/refs/remotes/origin'\n",
      "removed directory 'temp-git-test/.git/refs/remotes'\n",
      "removed 'temp-git-test/.git/refs/heads/main'\n",
      "removed 'temp-git-test/.git/refs/heads/newBranch'\n",
      "removed directory 'temp-git-test/.git/refs/heads'\n",
      "removed directory 'temp-git-test/.git/refs'\n",
      "removed 'temp-git-test/.git/info/exclude'\n",
      "removed directory 'temp-git-test/.git/info'\n",
      "removed 'temp-git-test/.git/config'\n",
      "removed directory 'temp-git-test/.git'\n",
      "removed 'temp-git-test/.gitignore'\n",
      "removed directory 'temp-git-test'\n",
      "removed 'temp-git-test-B/file.txt'\n",
      "removed 'temp-git-test-B/diff.txt'\n",
      "removed 'temp-git-test-B/hello.txt'\n",
      "removed 'temp-git-test-B/.git/objects/pack/pack-c897d72a48065ec639ad690b9cd5d5856be4d86f.idx'\n",
      "removed 'temp-git-test-B/.git/objects/pack/pack-c897d72a48065ec639ad690b9cd5d5856be4d86f.pack'\n",
      "removed directory 'temp-git-test-B/.git/objects/pack'\n",
      "removed 'temp-git-test-B/.git/objects/17/0ca66cf7ed82f3be081e9f5b8742ea449a01c6'\n",
      "removed directory 'temp-git-test-B/.git/objects/17'\n",
      "removed 'temp-git-test-B/.git/objects/60/96ecf9f2306e6e4062b7c488d9f3534b178aff'\n",
      "removed directory 'temp-git-test-B/.git/objects/60'\n",
      "removed directory 'temp-git-test-B/.git/objects/info'\n",
      "removed 'temp-git-test-B/.git/objects/d6/d6af2b365a306c4dbf5920e0fc66453ec037ec'\n",
      "removed directory 'temp-git-test-B/.git/objects/d6'\n",
      "removed directory 'temp-git-test-B/.git/objects'\n",
      "removed 'temp-git-test-B/.git/hooks/pre-applypatch.sample'\n",
      "removed 'temp-git-test-B/.git/hooks/pre-rebase.sample'\n",
      "removed 'temp-git-test-B/.git/hooks/applypatch-msg.sample'\n",
      "removed 'temp-git-test-B/.git/hooks/post-update.sample'\n",
      "removed 'temp-git-test-B/.git/hooks/pre-commit.sample'\n",
      "removed 'temp-git-test-B/.git/hooks/pre-merge-commit.sample'\n",
      "removed 'temp-git-test-B/.git/hooks/commit-msg.sample'\n",
      "removed 'temp-git-test-B/.git/hooks/prepare-commit-msg.sample'\n",
      "removed 'temp-git-test-B/.git/hooks/pre-receive.sample'\n",
      "removed 'temp-git-test-B/.git/hooks/push-to-checkout.sample'\n",
      "removed 'temp-git-test-B/.git/hooks/pre-push.sample'\n",
      "removed 'temp-git-test-B/.git/hooks/update.sample'\n",
      "removed 'temp-git-test-B/.git/hooks/fsmonitor-watchman.sample'\n",
      "removed directory 'temp-git-test-B/.git/hooks'\n",
      "removed 'temp-git-test-B/.git/HEAD'\n",
      "removed 'temp-git-test-B/.git/logs/HEAD'\n",
      "removed 'temp-git-test-B/.git/logs/refs/remotes/origin/main'\n",
      "removed directory 'temp-git-test-B/.git/logs/refs/remotes/origin'\n",
      "removed directory 'temp-git-test-B/.git/logs/refs/remotes'\n",
      "removed 'temp-git-test-B/.git/logs/refs/heads/main'\n",
      "removed directory 'temp-git-test-B/.git/logs/refs/heads'\n",
      "removed directory 'temp-git-test-B/.git/logs/refs'\n",
      "removed directory 'temp-git-test-B/.git/logs'\n",
      "removed 'temp-git-test-B/.git/index'\n",
      "removed directory 'temp-git-test-B/.git/branches'\n",
      "removed 'temp-git-test-B/.git/COMMIT_EDITMSG'\n",
      "removed 'temp-git-test-B/.git/FETCH_HEAD'\n",
      "removed 'temp-git-test-B/.git/description'\n",
      "removed directory 'temp-git-test-B/.git/refs/tags'\n",
      "removed 'temp-git-test-B/.git/refs/remotes/origin/main'\n",
      "removed directory 'temp-git-test-B/.git/refs/remotes/origin'\n",
      "removed directory 'temp-git-test-B/.git/refs/remotes'\n",
      "removed 'temp-git-test-B/.git/refs/heads/main'\n",
      "removed directory 'temp-git-test-B/.git/refs/heads'\n",
      "removed directory 'temp-git-test-B/.git/refs'\n",
      "removed 'temp-git-test-B/.git/info/exclude'\n",
      "removed directory 'temp-git-test-B/.git/info'\n",
      "removed 'temp-git-test-B/.git/config'\n",
      "removed directory 'temp-git-test-B/.git'\n",
      "removed 'temp-git-test-B/.gitignore'\n",
      "removed directory 'temp-git-test-B'\n"
     ]
    }
   ],
   "source": [
    "# cleanup\n",
    "git rm -f hello.txt\n",
    "git add *\n",
    "git commit -m \"cleanup test files\"\n",
    "git push\n",
    "cd \n",
    "rm -rf temp-git-test > /dev/null\n",
    "rm -rf temp-git-test-B /dev/null\n"
   ]
  }
 ],
 "metadata": {
  "kernelspec": {
   "display_name": "Bash",
   "language": "bash",
   "name": "bash"
  },
  "language_info": {
   "codemirror_mode": "shell",
   "file_extension": ".sh",
   "mimetype": "text/x-sh",
   "name": "bash"
  }
 },
 "nbformat": 4,
 "nbformat_minor": 5
}
