{
 "cells": [
  {
   "cell_type": "code",
   "execution_count": 1,
   "id": "290fe5a4-8b43-41ae-ac44-969e412d7bdb",
   "metadata": {},
   "outputs": [],
   "source": [
    "#Test for git aliases (e.g., git-update-plus, git-next-checkin, etc)\n",
    "\n",
    "# Note: The aliases should be defined before Jupyter is invoked.\n",
    "# For BatsPP, they can loaded via '--source all-tomohara-aliases-etc.bash' option."
   ]
  },
  {
   "cell_type": "code",
   "execution_count": 2,
   "id": "244c5c63-1ef6-45ec-9ab5-227d8cec7899",
   "metadata": {},
   "outputs": [
    {
     "name": "stdout",
     "output_type": "stream",
     "text": [
      "Cloning into '/tmp/temp-git-test'...\n",
      "remote: Enumerating objects: 162, done.\u001b[K\n",
      "remote: Counting objects: 100% (49/49), done.\u001b[K\n",
      "remote: Compressing objects: 100% (44/44), done.\u001b[K\n",
      "remote: Total 162 (delta 36), reused 13 (delta 0), pack-reused 113\u001b[K\n",
      "Receiving objects: 100% (162/162), 13.83 KiB | 354.00 KiB/s, done.\n",
      "Resolving deltas: 100% (61/61), done.\n",
      "Cloning into '/tmp/temp-git-test-B'...\n",
      "remote: Enumerating objects: 162, done.\u001b[K\n",
      "remote: Counting objects: 100% (49/49), done.\u001b[K\n",
      "remote: Compressing objects: 100% (44/44), done.\u001b[K\n",
      "remote: Total 162 (delta 36), reused 13 (delta 0), pack-reused 113\u001b[K\n",
      "Receiving objects: 100% (162/162), 13.83 KiB | 1.54 MiB/s, done.\n",
      "Resolving deltas: 100% (61/61), done.\n",
      "From https://github.com/LorenzoFerraces/bash-test\n",
      " * branch            main       -> FETCH_HEAD\n",
      "Already up to date.\n",
      "[main 114f984] first commit on second local\n",
      " 1 file changed, 1 insertion(+)\n",
      " create mode 100644 hello.txt\n",
      "Enumerating objects: 4, done.\n",
      "Counting objects: 100% (4/4), done.\n",
      "Delta compression using up to 6 threads\n",
      "Compressing objects: 100% (2/2), done.\n",
      "Writing objects: 100% (3/3), 310 bytes | 310.00 KiB/s, done.\n",
      "Total 3 (delta 0), reused 2 (delta 0), pack-reused 0\n",
      "To https://github.com/LorenzoFerraces/bash-test.git\n",
      "   8bf8801..114f984  main -> main\n"
     ]
    }
   ],
   "source": [
    "# Global Setup\n",
    "# Creating temp local repos to test on\n",
    "\n",
    "TMP=/tmp/temp-git-test\n",
    "TMPB=/tmp/temp-git-test-B\n",
    "\n",
    "git clone https://github.com/LorenzoFerraces/bash-test.git \"$TMP\"\n",
    "git clone https://github.com/LorenzoFerraces/bash-test.git \"$TMPB\"\n",
    "\n",
    "# Move to second local to push some changes\n",
    "command cd \"$TMPB\" \n",
    "git pull origin main \n",
    "echo \"hello second local\" > hello.txt\n",
    "git add hello.txt\n",
    "git commit -m \"first commit on second local\"\n",
    "git push\n",
    "\n"
   ]
  },
  {
   "cell_type": "code",
   "execution_count": 3,
   "id": "6388dfcf-87c8-4d66-89e4-b8cf06b5b76c",
   "metadata": {},
   "outputs": [],
   "source": [
    "# Moving to first local\n",
    "command cd \"$TMP\""
   ]
  },
  {
   "cell_type": "code",
   "execution_count": 4,
   "id": "3e87355d-a872-4cb6-b293-baed57c08cf7",
   "metadata": {},
   "outputs": [
    {
     "name": "stdout",
     "output_type": "stream",
     "text": [
      "Switched to a new branch 'newBranch'\n"
     ]
    }
   ],
   "source": [
    "# git-branch-alias test\n",
    "# switch to new branch\n",
    "\n",
    "git checkout -b newBranch;\n",
    "actual_branch=$(git branch --show-current)\n"
   ]
  },
  {
   "cell_type": "code",
   "execution_count": 5,
   "id": "b1148a78-dace-4b0e-a4de-6b52638c43e6",
   "metadata": {},
   "outputs": [
    {
     "name": "stdout",
     "output_type": "stream",
     "text": [
      "0\n"
     ]
    }
   ],
   "source": [
    "# Assert\n",
    "[ $(echo $actual_branch) == \"$(git-branch-alias)\" ]; echo $?;"
   ]
  },
  {
   "cell_type": "code",
   "execution_count": 6,
   "id": "5f4c7df1-df95-48ab-9f71-241a739ec802",
   "metadata": {},
   "outputs": [
    {
     "name": "stdout",
     "output_type": "stream",
     "text": [
      "usage: git-checkout-branch [--help | branch]\n",
      "note: available branches:\n",
      "    main\n"
     ]
    }
   ],
   "source": [
    "#git-checkout-branch test\n",
    "git-checkout-branch --help\n"
   ]
  },
  {
   "cell_type": "code",
   "execution_count": 7,
   "id": "1b77bcde-0382-48bd-ad6c-45bbf2ac46fd",
   "metadata": {},
   "outputs": [
    {
     "name": "stdout",
     "output_type": "stream",
     "text": [
      "issuing: git checkout main --\n",
      "Switched to branch 'main'\n",
      "Your branch is up to date with 'origin/main'.\n"
     ]
    }
   ],
   "source": [
    "git-checkout-branch main\n",
    "actual_branch=$(git branch --show-current)"
   ]
  },
  {
   "cell_type": "code",
   "execution_count": 8,
   "id": "91bf6993-27ba-4b7e-8556-c1c84b83c3ed",
   "metadata": {},
   "outputs": [
    {
     "name": "stdout",
     "output_type": "stream",
     "text": [
      "0\n"
     ]
    }
   ],
   "source": [
    "# Assert\n",
    "[ $(echo $actual_branch) == \"main\" ]; echo $?;"
   ]
  },
  {
   "cell_type": "code",
   "execution_count": 9,
   "id": "01ccce52-4164-4370-8c79-85a9e72425ea",
   "metadata": {},
   "outputs": [
    {
     "name": "stdout",
     "output_type": "stream",
     "text": [
      "No changed files so no pre-stash-pop timestamp check\n",
      "issuing: git stash\n",
      "issuing: git pull --all\n",
      "remote: Enumerating objects: 4, done.\u001b[K\n",
      "remote: Counting objects: 100% (4/4), done.\u001b[K\n",
      "remote: Compressing objects: 100% (2/2), done.\u001b[K\n",
      "remote: Total 3 (delta 0), reused 3 (delta 0), pack-reused 0\u001b[K\n",
      "Unpacking objects: 100% (3/3), 290 bytes | 290.00 KiB/s, done.\n",
      "From https://github.com/LorenzoFerraces/bash-test\n",
      "   8bf8801..114f984  main       -> origin/main\n",
      "issuing: git stash pop\n",
      "No stash entries found.\n",
      "No changed files so no post-stash-pop timestamp check\n",
      "No local changes to save\n",
      "Updating 8bf8801..114f984\n",
      "Fast-forward\n",
      " hello.txt | 1 +\n",
      " 1 file changed, 1 insertion(+)\n",
      " create mode 100644 hello.txt\n",
      "\n"
     ]
    }
   ],
   "source": [
    "# git-update-plus test\n",
    "git-update-plus"
   ]
  },
  {
   "cell_type": "code",
   "execution_count": 10,
   "id": "e015f1fb-a1fc-4808-9e2a-8f982122f707",
   "metadata": {},
   "outputs": [
    {
     "name": "stdout",
     "output_type": "stream",
     "text": [
      "0\n"
     ]
    }
   ],
   "source": [
    "# Assert\n",
    "[ \"$(cat hello.txt)\" == \"hello second local\" ]; echo $?;"
   ]
  },
  {
   "cell_type": "code",
   "execution_count": 11,
   "id": "8839a602-831b-44de-b6f9-f2d79066a708",
   "metadata": {},
   "outputs": [
    {
     "name": "stdout",
     "output_type": "stream",
     "text": [
      "[main 8eb108a] second commit\n",
      " 1 file changed, 1 insertion(+)\n",
      " create mode 100644 hello2.txt\n",
      "Enumerating objects: 4, done.\n",
      "Counting objects: 100% (4/4), done.\n",
      "Delta compression using up to 6 threads\n",
      "Compressing objects: 100% (2/2), done.\n",
      "Writing objects: 100% (3/3), 319 bytes | 319.00 KiB/s, done.\n",
      "Total 3 (delta 0), reused 2 (delta 0), pack-reused 0\n",
      "To https://github.com/LorenzoFerraces/bash-test.git\n",
      "   114f984..8eb108a  main -> main\n",
      "bash: /tmp/temp-git-test: Is a directory\n"
     ]
    }
   ],
   "source": [
    "# Setup\n",
    "# adding changes to not be able to pull\n",
    "command cd \"$TMPB\"\n",
    "echo \"second change\" > hello2.txt\n",
    "git add . ; git commit -m \"second commit\"; git push \n",
    "\n",
    "command \"$TMP\"\n",
    "echo \"second line\" >> hello.txt\n"
   ]
  },
  {
   "cell_type": "code",
   "execution_count": 12,
   "id": "b773fcd2-c5ed-42d4-8ca6-46353e405730",
   "metadata": {},
   "outputs": [
    {
     "name": "stdout",
     "output_type": "stream",
     "text": [
      "Error: Use 'git-update-force' to update with changed files (n.b., potential for conflicts)\n"
     ]
    }
   ],
   "source": [
    "# Should fail\n",
    "git-update-plus"
   ]
  },
  {
   "cell_type": "code",
   "execution_count": 13,
   "id": "3e8c4f3c-0b58-4a68-b2a4-32b03e46d054",
   "metadata": {},
   "outputs": [
    {
     "name": "stdout",
     "output_type": "stream",
     "text": [
      "Not zipping changes because PRESERVE_GIT_STASH not 1\n",
      "issuing: git stash\n",
      "issuing: git pull --all\n",
      "issuing: git stash pop\n",
      "Not unzipping changes (because PRESERVE_GIT_STASH not 1)\n",
      "Your branch is up to date with 'origin/main'.\n",
      "\n",
      "Changes not staged for commit:\n",
      "  (use \"git add <file>...\" to update what will be committed)\n",
      "  (use \"git restore <file>...\" to discard changes in working directory)\n",
      "\tmodified:   hello.txt\n",
      "\n",
      "no changes added to commit (use \"git add\" and/or \"git commit -a\")\n",
      "Dropped refs/stash@{0} (31d1b895ca7e289a8b25532019cadab40576de4a)\n",
      "\n"
     ]
    }
   ],
   "source": [
    "# git-update-force test \n",
    "# should pull\n",
    "git-update-force"
   ]
  },
  {
   "cell_type": "code",
   "execution_count": 14,
   "id": "11ef9fdb-2f90-49fd-8550-595995b21be0",
   "metadata": {},
   "outputs": [
    {
     "name": "stdout",
     "output_type": "stream",
     "text": [
      "0\n"
     ]
    }
   ],
   "source": [
    "#assert\n",
    "[ \"$(cat hello2.txt)\" == \"second change\" ]; echo $?;"
   ]
  },
  {
   "cell_type": "code",
   "execution_count": 15,
   "id": "64e1cc7e-1771-4fe5-a7d0-95b53adccc07",
   "metadata": {},
   "outputs": [
    {
     "name": "stdout",
     "output_type": "stream",
     "text": [
      "On branch main\n",
      "Your branch is up to date with 'origin/main'.\n",
      "\n",
      "Changes not staged for commit:\n",
      "  (use \"git add <file>...\" to update what will be committed)\n",
      "  (use \"git restore <file>...\" to discard changes in working directory)\n",
      "\t\u001b[31mmodified:   hello.txt\u001b[m\n",
      "\n",
      "Untracked files:\n",
      "  (use \"git add <file>...\" to include in what will be committed)\n",
      "\t\u001b[31mpush.txt\u001b[m\n",
      "\n",
      "no changes added to commit (use \"git add\" and/or \"git commit -a\")\n"
     ]
    }
   ],
   "source": [
    "#git-commit-and-push test\n",
    "echo \"pushed\" > push.txt\n",
    "git status"
   ]
  },
  {
   "cell_type": "code",
   "execution_count": 16,
   "id": "ef603a0e-c057-4957-9a1b-5bc8c4385d8d",
   "metadata": {},
   "outputs": [
    {
     "name": "stdout",
     "output_type": "stream",
     "text": [
      "issuing: git add push.txt\n",
      "\n",
      "GIT_NO_CONFIRM set to 1, so skipping confirmation\n",
      "issuing: git commit -m 'hello'\n",
      "    [main dc4b0fc] hello\n",
      "     1 file changed, 1 insertion(+)\n",
      "     create mode 100644 push.txt\n",
      "GIT_NO_CONFIRM set to 1, so skipping confirmation\n",
      "issuing: git push --verbose\n",
      "Pushing to https://github.com/LorenzoFerraces/bash-test.git\n",
      "Enumerating objects: 4, done.\n",
      "Counting objects: 100% (4/4), done.\n",
      "Delta compression using up to 6 threads\n",
      "Compressing objects: 100% (2/2), done.\n",
      "Writing objects: 100% (3/3), 275 bytes | 275.00 KiB/s, done.\n",
      "Total 3 (delta 1), reused 0 (delta 0), pack-reused 0\n",
      "POST git-receive-pack (448 bytes)\n",
      "remote: Resolving deltas: 100% (1/1), completed with 1 local object.\u001b[K\n",
      "To https://github.com/LorenzoFerraces/bash-test.git\n",
      "   8eb108a..dc4b0fc  main -> main\n",
      "updating local tracking ref 'refs/remotes/origin/main'\n",
      "[main dc4b0fc] hello\n",
      " 1 file changed, 1 insertion(+)\n",
      " create mode 100644 push.txt\n",
      "\n"
     ]
    }
   ],
   "source": [
    "export GIT_MESSAGE=\"hello\"\n",
    "export GIT_NO_CONFIRM=\"1\"\n",
    "git-commit-and-push push.txt"
   ]
  },
  {
   "cell_type": "code",
   "execution_count": 17,
   "id": "927d226a-bb68-4120-8078-6a6af0766e28",
   "metadata": {},
   "outputs": [
    {
     "name": "stdout",
     "output_type": "stream",
     "text": [
      "Already up to date.\n"
     ]
    }
   ],
   "source": [
    "command cd \"$TMPB\"\n",
    "git pull"
   ]
  },
  {
   "cell_type": "code",
   "execution_count": 18,
   "id": "2ac0b1dd-2364-4259-a912-fb3527444a6a",
   "metadata": {},
   "outputs": [
    {
     "name": "stdout",
     "output_type": "stream",
     "text": [
      "0\n"
     ]
    }
   ],
   "source": [
    "#assert\n",
    "[ \"$(cat push.txt)\" == \"pushed\" ]; echo $?;"
   ]
  },
  {
   "cell_type": "code",
   "execution_count": 19,
   "id": "da6aef2f-5e07-4c9d-97bb-d8df6ed6f172",
   "metadata": {},
   "outputs": [
    {
     "name": "stdout",
     "output_type": "stream",
     "text": [
      "[main c3d8558] cleanup test files\n",
      " 3 files changed, 3 deletions(-)\n",
      " delete mode 100644 hello.txt\n",
      " delete mode 100644 hello2.txt\n",
      " delete mode 100644 push.txt\n",
      "Enumerating objects: 3, done.\n",
      "Counting objects: 100% (3/3), done.\n",
      "Delta compression using up to 6 threads\n",
      "Compressing objects: 100% (1/1), done.\n",
      "Writing objects: 100% (2/2), 243 bytes | 243.00 KiB/s, done.\n",
      "Total 2 (delta 0), reused 1 (delta 0), pack-reused 0\n",
      "To https://github.com/LorenzoFerraces/bash-test.git\n",
      "   dc4b0fc..c3d8558  main -> main\n"
     ]
    }
   ],
   "source": [
    "# undo changes and remove newly created files\n",
    "\n",
    "# TODO2:\n",
    "## also, converting unique ID's to codes like temp-git-test/.git/objects/pack/pack-HEX.idx\n",
    "## EX: cat $log | perl -pe 's/\\b[0-9]+\\b/NUM/g; s/\\b[a-f0-9]+\\b/HEX/g;'\n",
    "rm -f *.txt > /dev/null\n",
    "git rm -f *.txt > /dev/null\n",
    "git add . > /dev/null\n",
    "git commit -m \"cleanup test files\"\n",
    "git push"
   ]
  },
  {
   "cell_type": "code",
   "execution_count": 20,
   "id": "cd048009-fc11-4e25-9f9d-86828662f5fd",
   "metadata": {},
   "outputs": [],
   "source": [
    "# delete test local repos\n",
    "\n",
    "command cd \"/tmp\"\n",
    "rm -rf temp-git-test > /dev/null\n",
    "rm -rf temp-git-test-B > /dev/null\n"
   ]
  }
 ],
 "metadata": {
  "kernelspec": {
   "display_name": "Bash",
   "language": "bash",
   "name": "bash"
  },
  "language_info": {
   "codemirror_mode": "shell",
   "file_extension": ".sh",
   "mimetype": "text/x-sh",
   "name": "bash"
  }
 },
 "nbformat": 4,
 "nbformat_minor": 5
}
