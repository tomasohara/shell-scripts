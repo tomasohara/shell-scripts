{
 "cells": [
  {
   "cell_type": "code",
   "execution_count": 1,
   "id": "91a402ff",
   "metadata": {},
   "outputs": [],
   "source": [
    "## SETUP (OPTIONAL - USE IF REQUIRED)\n",
    "## Bracketed Paste is disabled to prevent characters after output\n",
    "## Example: \n",
    "## $ echo 'Hii'\n",
    "## | Hi?2004l\n",
    "# bind 'set enable-bracketed-paste off'"
   ]
  },
  {
   "cell_type": "code",
   "execution_count": 2,
   "id": "c33c5c15",
   "metadata": {},
   "outputs": [
    {
     "name": "stdout",
     "output_type": "stream",
     "text": [
      "PROMPT_LVTIODRVTGVY\\[\\]>\n"
     ]
    }
   ],
   "source": [
    "## TEST:  Make sure simple prompt used (e.g., no escapes that might contaminate output)\n",
    "## PS1=\"$ \"\n",
    "## TODO: PS1=\"> \"\n",
    "## NOTE: The Jupyter bash kernel requires that PS1 not be modified as they customize it. \n",
    "echo $PS1"
   ]
  },
  {
   "cell_type": "code",
   "execution_count": 3,
   "id": "be8ef5b9",
   "metadata": {},
   "outputs": [],
   "source": [
    "## BAD (SUPER )\n",
    "# # Delete all aliases and function\n",
    "# # TODO: Instead start from pristine environment\n",
    "# unalias -a\n",
    "# alias | wc -l\n",
    "# for f in $(typeset -f | egrep '^\\w+'); do unset -f $f; done\n",
    "# typeset -f | egrep '^\\w+' | wc -l"
   ]
  },
  {
   "cell_type": "code",
   "execution_count": 4,
   "id": "8a0854c8",
   "metadata": {},
   "outputs": [],
   "source": [
    "# Global Setup\n",
    "alias testuser=\"sed -r \"s/\"$USER\"+/userxf333/g\"\"\n",
    "alias testnum=\"sed -r \"s/[0-9]/N/g\"\"\n",
    "alias linebr=\"printf '%132s\\n' ' ' | tr ' ' '-'\""
   ]
  },
  {
   "cell_type": "code",
   "execution_count": 5,
   "id": "8093ffd1",
   "metadata": {},
   "outputs": [
    {
     "name": "stdout",
     "output_type": "stream",
     "text": [
      "441\n"
     ]
    }
   ],
   "source": [
    "## NOTE: For reproducability, the directory name needs to be fixed\n",
    "## In place of $$, use a psuedo random number (e,g., 1210)\n",
    "## *** All output from one run to the next needs to be the same ***\n",
    "\n",
    "TMP=/tmp/test-cp-mv\n",
    "temp_dir=$TMP/test-1210\n",
    "trash_dir=$TMP/\"_temp-trash-$(date \"+%Y%m%d%H%M%S\")\"\n",
    "\n",
    "## OLD\n",
    "# mkdir -p \"$temp_dir\"\n",
    "# # TODO: /bin/rm -rvf \"$temp_dir\"\n",
    "# cd \"$temp_dir\"\n",
    "# pwd | testuser\n",
    "\n",
    "command mkdir -p \"$trash_dir\"\n",
    "command mkdir -p \"$temp_dir\"\n",
    "command cd \"$temp_dir\"\n",
    "\n",
    "alias | wc -l\n",
    "\n",
    "## ALIAS FOR PRINTING SEPERATION LINES (FOR JUPYTER)\n",
    "## OLD\n",
    "# alias linebr=\"printf '%*s\\n' \"${COLUMNS:-$(tput cols)}\" '' | tr ' ' -\""
   ]
  },
  {
   "cell_type": "code",
   "execution_count": 6,
   "id": "723a939c",
   "metadata": {},
   "outputs": [
    {
     "name": "stdout",
     "output_type": "stream",
     "text": [
      "441\n"
     ]
    }
   ],
   "source": [
    "# Count aliases proper\n",
    "alias | wc -l"
   ]
  },
  {
   "cell_type": "code",
   "execution_count": 7,
   "id": "f1d01696",
   "metadata": {},
   "outputs": [
    {
     "name": "stdout",
     "output_type": "stream",
     "text": [
      "475\n"
     ]
    }
   ],
   "source": [
    "# Count functions\n",
    "typeset -f | egrep '^\\w+' | wc -l"
   ]
  },
  {
   "cell_type": "code",
   "execution_count": 8,
   "id": "c053e45f",
   "metadata": {},
   "outputs": [],
   "source": [
    "## BAD\n",
    "# source $BIN_DIR/tomohara-aliases.bash"
   ]
  },
  {
   "cell_type": "code",
   "execution_count": 9,
   "id": "e0d732b4",
   "metadata": {},
   "outputs": [],
   "source": [
    "## OLD\n",
    "## Shows that cls must be used instead of clear\n",
    "# clear"
   ]
  },
  {
   "cell_type": "code",
   "execution_count": 10,
   "id": "92e05aed",
   "metadata": {},
   "outputs": [],
   "source": [
    "# TEST 1 - MOVE ALIASES\n",
    "\n",
    "## CLEARS TEST FOLDER\n",
    "\n",
    "## OLD\n",
    "# rm -rf ./*\n",
    "# linebr\n",
    "\n",
    "# ## CREATES TEST SUBJECTS\n",
    "# touch abc def ghi\n",
    "# mkdir mvtest_dir1\n",
    "\n",
    "# ## WORK OF ALIASES\n",
    "# mv abc ./mvtest_dir1\n",
    "# move def ./mvtest_dir1\n",
    "# move-force ghi ./mvtest_dir1\n",
    "# linebr\n",
    "\n",
    "# ## VIEWING THE CHANGES MADE\n",
    "# ls -l | awk '!($6=\"\")' | testnum | testuser\n",
    "# linebr\n",
    "# ls -l ./mvtest_dir1 | awk '!($6=\"\")' | testnum | testuser\n",
    "# linebr\n",
    "\n",
    "# BAD: rm -rf ./* > /dev/null\n",
    "# command mv -f * \"$trash_dir\""
   ]
  },
  {
   "cell_type": "code",
   "execution_count": 11,
   "id": "01f003bf",
   "metadata": {},
   "outputs": [
    {
     "name": "stdout",
     "output_type": "stream",
     "text": [
      "renamed 'testdir1' -> '/tmp/test-cp-mv/_temp-trash-20240130214644/testdir1'\n"
     ]
    }
   ],
   "source": [
    "## WORK OF ALIASES\n",
    "## CREATES TEST SUBJECTS\n",
    "mv -f * $trash_dir\n",
    "touch abc def ghi\n",
    "mkdir mvtest_dir1"
   ]
  },
  {
   "cell_type": "code",
   "execution_count": 12,
   "id": "86397b57",
   "metadata": {},
   "outputs": [
    {
     "name": "stdout",
     "output_type": "stream",
     "text": [
      "renamed 'abc' -> './mvtest_dir1/abc'\n",
      "renamed 'def' -> './mvtest_dir1/def'\n",
      "renamed 'ghi' -> './mvtest_dir1/ghi'\n"
     ]
    }
   ],
   "source": [
    "mv abc ./mvtest_dir1\n",
    "move def ./mvtest_dir1\n",
    "move-force ghi ./mvtest_dir1"
   ]
  },
  {
   "cell_type": "code",
   "execution_count": 13,
   "id": "a5fe54a2",
   "metadata": {},
   "outputs": [
    {
     "name": "stdout",
     "output_type": "stream",
     "text": [
      "total N    \n",
      "drwxrwsr-x N userxf333 userxf333 NNNN  NN NN:NN mvtest_dirN\n"
     ]
    }
   ],
   "source": [
    "## VIEWING THE CHANGES MADE\n",
    "ls -l | awk '!($6=\"\")' | testnum | testuser"
   ]
  },
  {
   "cell_type": "code",
   "execution_count": 14,
   "id": "72f7b672",
   "metadata": {},
   "outputs": [
    {
     "name": "stdout",
     "output_type": "stream",
     "text": [
      "total N    \n",
      "-rw-rw-r-- N userxf333 userxf333 N  NN NN:NN abc\n",
      "-rw-rw-r-- N userxf333 userxf333 N  NN NN:NN def\n",
      "-rw-rw-r-- N userxf333 userxf333 N  NN NN:NN ghi\n"
     ]
    }
   ],
   "source": [
    "ls -l ./mvtest_dir1 | awk '!($6=\"\")' | testnum | testuser"
   ]
  },
  {
   "cell_type": "code",
   "execution_count": 15,
   "id": "29f6f198",
   "metadata": {},
   "outputs": [],
   "source": [
    "# # TEST 2 - COPY ALIASES\n",
    "## OLD\n",
    "\n",
    "# ## CLEARS TEST FOLDER\n",
    "# rm -rf ./*\n",
    "# linebr\n",
    "\n",
    "# ## CREATES TEST SUBJECTS\n",
    "# touch abc def ghi\n",
    "# mkdir cptest_dir1\n",
    "\n",
    "# ## WORK OF ALIASES\n",
    "# cp abc ./cptest_dir1\n",
    "# copy def ./cptest_dir1\n",
    "# copy-force ghi ./cptest_dir1\n",
    "# linebr\n",
    "\n",
    "# ## VIEWING THE CHANGES MADE\n",
    "# ls -l | awk '!($6=\"\")' | testnum | testuser\n",
    "# linebr\n",
    "# ls -l ./cptest_dir1 | awk '!($6=\"\")' | testnum | testuser\n",
    "# linebr"
   ]
  },
  {
   "cell_type": "code",
   "execution_count": 16,
   "id": "117d6e03",
   "metadata": {},
   "outputs": [
    {
     "name": "stdout",
     "output_type": "stream",
     "text": [
      "\u001b[0m\u001b[01;34mmvtest_dir1\u001b[0m\n"
     ]
    }
   ],
   "source": [
    "# BAD: rm -rf ./* > /dev/null\n",
    "ls\n",
    "command mv -f * \"$trash_dir\""
   ]
  },
  {
   "cell_type": "code",
   "execution_count": 17,
   "id": "e1e7e397",
   "metadata": {},
   "outputs": [],
   "source": [
    "touch abc def ghi\n",
    "command mkdir cptest_dir1"
   ]
  },
  {
   "cell_type": "code",
   "execution_count": 18,
   "id": "bcd37f6e",
   "metadata": {},
   "outputs": [
    {
     "name": "stdout",
     "output_type": "stream",
     "text": [
      "'abc' -> './cptest_dir1/abc'\n",
      "'def' -> './cptest_dir1/def'\n",
      "'ghi' -> './cptest_dir1/ghi'\n",
      "------------------------------------------------------------------------------------------------------------------------------------\n"
     ]
    }
   ],
   "source": [
    "## WORK OF ALIASES\n",
    "cp abc ./cptest_dir1\n",
    "copy def ./cptest_dir1\n",
    "copy-force ghi ./cptest_dir1\n",
    "linebr"
   ]
  },
  {
   "cell_type": "code",
   "execution_count": 19,
   "id": "30f2250d",
   "metadata": {},
   "outputs": [
    {
     "name": "stdout",
     "output_type": "stream",
     "text": [
      "total N    \n",
      "-rw-rw-r-- N userxf333 userxf333 N  NN NN:NN abc\n",
      "drwxrwsr-x N userxf333 userxf333 NNNN  NN NN:NN cptest_dirN\n",
      "-rw-rw-r-- N userxf333 userxf333 N  NN NN:NN def\n",
      "-rw-rw-r-- N userxf333 userxf333 N  NN NN:NN ghi\n"
     ]
    }
   ],
   "source": [
    "## VIEWING THE CHANGES MADE - 1\n",
    "ls -l | awk '!($6=\"\")' | testnum | testuser"
   ]
  },
  {
   "cell_type": "code",
   "execution_count": 20,
   "id": "f9aebe4f",
   "metadata": {},
   "outputs": [
    {
     "name": "stdout",
     "output_type": "stream",
     "text": [
      "total N    \n",
      "-rw-rw-r-- N userxf333 userxf333 N  NN NN:NN abc\n",
      "-rw-rw-r-- N userxf333 userxf333 N  NN NN:NN def\n",
      "-rw-rw-r-- N userxf333 userxf333 N  NN NN:NN ghi\n"
     ]
    }
   ],
   "source": [
    "## VIEWING THE CHANGES MADE - 2\n",
    "ls -l ./cptest_dir1 | awk '!($6=\"\")' | testnum | testuser"
   ]
  },
  {
   "cell_type": "code",
   "execution_count": 21,
   "id": "a3149319",
   "metadata": {},
   "outputs": [],
   "source": [
    "# #=================(TEST ERROR: \"/bin/rm: remove regular empty file 'f1'?\")=========================#\n",
    "# # TEST 3 - REMOVE/DELETE ALIASES\n",
    "\n",
    "# ## CLEARS TEST FOLDER\n",
    "# rm -rf ./*\n",
    "# linebr\n",
    "\n",
    "# ## CREATES TEST SUBJECTS\n",
    "# touch f1 f2 f3 f4 f5\n",
    "\n",
    "# ## WORK OF ALIASES\n",
    "# rm f1\n",
    "# delete f2\n",
    "# remove-force f3\n",
    "\n",
    "# linebr\n",
    "\n",
    "# ## VIEWING THE CHANGES MADE\n",
    "# ls -l\n",
    "# linebr"
   ]
  },
  {
   "cell_type": "code",
   "execution_count": 22,
   "id": "9ce01462",
   "metadata": {},
   "outputs": [],
   "source": [
    "# TEST 4 - REMOVE DIRECTORY ALIASES\n",
    "\n",
    "## OLD:\n",
    "\n",
    "## CLEARS TEST FOLDER\n",
    "# rm -rf ./* > /dev/null\n",
    "# linebr\n",
    "\n",
    "## CREATES TEST SUBJECTS\n",
    "# touch abc def ghi\n",
    "# mkdir TDIR1 TDIR2 TDIR3 TDIR4\n",
    "# ls -l | awk '!($6=\"\")' | testnum | testuser\n",
    "# linebr\n",
    "\n",
    "## WORK OF ALIASES (OLD - halts the test)\n",
    "# $ remove-dir \"TDIR1\"\n",
    "# | rm: remove directory 'TDIR1'? \n",
    "# $ delete-dir \"TDIR2\"\n",
    "# | rm: remove directory 'TDIR1'? \n",
    "# $ remove-dir-force TDIR3\n",
    "# | Warning: run enable-forced-deletions or issue: command rm -rfv hello\n",
    "# $ delete-dir-force TDIR4\n",
    "# | Warning: run enable-forced-deletions or issue: command rm -rfv hello\n",
    "# linebr\n",
    "\n",
    "## VIEWING THE CHANGES MADE\n",
    "# ls -l | awk '!($6=\"\")' | testnum | testuser\n",
    "# linebr"
   ]
  },
  {
   "cell_type": "code",
   "execution_count": 23,
   "id": "bcea3648",
   "metadata": {},
   "outputs": [
    {
     "name": "stdout",
     "output_type": "stream",
     "text": [
      "total NN    \n",
      "-rw-rw-r-- N userxf333 userxf333 N  NN NN:NN abc\n",
      "drwxrwsr-x N userxf333 userxf333 NNNN  NN NN:NN cptest_dirN\n",
      "-rw-rw-r-- N userxf333 userxf333 N  NN NN:NN def\n",
      "-rw-rw-r-- N userxf333 userxf333 N  NN NN:NN ghi\n",
      "drwxrwsr-x N userxf333 userxf333 NNNN  NN NN:NN TDIRN\n",
      "drwxrwsr-x N userxf333 userxf333 NNNN  NN NN:NN TDIRN\n",
      "drwxrwsr-x N userxf333 userxf333 NNNN  NN NN:NN TDIRN\n",
      "drwxrwsr-x N userxf333 userxf333 NNNN  NN NN:NN TDIRN\n"
     ]
    }
   ],
   "source": [
    "## CREATES TEST SUBJECTS\n",
    "touch abc def ghi\n",
    "command mkdir TDIR1 TDIR2 TDIR3 TDIR4\n",
    "ls -l | awk '!($6=\"\")' | testnum | testuser"
   ]
  },
  {
   "cell_type": "code",
   "execution_count": 24,
   "id": "753c1ba2",
   "metadata": {},
   "outputs": [
    {
     "name": "stdout",
     "output_type": "stream",
     "text": [
      "total NN    \n",
      "-rw-rw-r-- N userxf333 userxf333 N  NN NN:NN abc\n",
      "drwxrwsr-x N userxf333 userxf333 NNNN  NN NN:NN cptest_dirN\n",
      "-rw-rw-r-- N userxf333 userxf333 N  NN NN:NN def\n",
      "-rw-rw-r-- N userxf333 userxf333 N  NN NN:NN ghi\n",
      "drwxrwsr-x N userxf333 userxf333 NNNN  NN NN:NN TDIRN\n",
      "drwxrwsr-x N userxf333 userxf333 NNNN  NN NN:NN TDIRN\n",
      "drwxrwsr-x N userxf333 userxf333 NNNN  NN NN:NN TDIRN\n",
      "drwxrwsr-x N userxf333 userxf333 NNNN  NN NN:NN TDIRN\n"
     ]
    }
   ],
   "source": [
    "ls -l | awk '!($6=\"\")' | testnum | testuser"
   ]
  },
  {
   "cell_type": "code",
   "execution_count": 25,
   "id": "ff3ef38f",
   "metadata": {
    "scrolled": true
   },
   "outputs": [],
   "source": [
    "## OLD\n",
    "\n",
    "# # RUNNING FOR DETAILS\n",
    "# copy-readonly | testuser\n",
    "# linebr\n",
    "# # COPYING .bashrc TO TEST DIRECTORY\n",
    "# rm -rf ./* > /dev/null\n",
    "# mkdir testdir1\n",
    "# linebr\n",
    "# copy-readonly ~/.bashrc ./testdir1/ | awk '!($6=\"\")' | testnum | testuser\n",
    "# linebr\n",
    "# # VIEWING THE COPIED FILE (IN DIR AND CAT)\n",
    "# cat ./testdir1/.bashrc | head "
   ]
  },
  {
   "cell_type": "code",
   "execution_count": 26,
   "id": "29b8b028",
   "metadata": {},
   "outputs": [
    {
     "name": "stdout",
     "output_type": "stream",
     "text": [
      "copy-readonly.sh: command not found\n"
     ]
    }
   ],
   "source": [
    "# RUNNING FOR DETAILS\n",
    "copy-readonly | testuser"
   ]
  },
  {
   "cell_type": "code",
   "execution_count": 27,
   "id": "2c31c450",
   "metadata": {},
   "outputs": [],
   "source": [
    "# BAD: rm -rf ./* > /dev/null\n",
    "command mv -f * \"$trash_dir\"\n",
    "mkdir testdir1"
   ]
  },
  {
   "cell_type": "code",
   "execution_count": 28,
   "id": "453d4af0",
   "metadata": {},
   "outputs": [
    {
     "name": "stdout",
     "output_type": "stream",
     "text": [
      "copy-readonly.sh: command not found\n"
     ]
    }
   ],
   "source": [
    "copy-readonly ~/.bashrc testdir1 | awk '!($6=\"\")' | testnum | testuser"
   ]
  },
  {
   "cell_type": "code",
   "execution_count": 29,
   "id": "167288de",
   "metadata": {},
   "outputs": [
    {
     "name": "stdout",
     "output_type": "stream",
     "text": [
      "cat: testdir1/.bashrc: No such file or directory\n"
     ]
    }
   ],
   "source": [
    "cat testdir1/.bashrc | head -n 1"
   ]
  },
  {
   "cell_type": "code",
   "execution_count": 30,
   "id": "a18198b4",
   "metadata": {},
   "outputs": [],
   "source": [
    "# # BEFORE fix-dir-permissions \n",
    "# $ ls -l  \n",
    "# | total 4\n",
    "# | drwxrwxr-x 2 xaea12 xaea12 4096 Jul  4 21:41 testdir1\n",
    "fix-dir-permissions\n",
    "\n",
    "## OLD\n",
    "# ## AFTER fix-dir-permissions\n",
    "# ls -l | awk '!($6=\"\")' | testnum | testuser"
   ]
  },
  {
   "cell_type": "code",
   "execution_count": 31,
   "id": "d6cf3aca",
   "metadata": {},
   "outputs": [
    {
     "name": "stdout",
     "output_type": "stream",
     "text": [
      "total N    \n",
      "drwxrwsr-x N userxf333 userxf333 NNNN  NN NN:NN testdirN\n"
     ]
    }
   ],
   "source": [
    "# AFTER fix-dir-permissions\n",
    "ls -l | awk '!($6=\"\")' | testnum | testuser"
   ]
  }
 ],
 "metadata": {
  "kernelspec": {
   "display_name": "Bash",
   "language": "bash",
   "name": "bash"
  },
  "language_info": {
   "codemirror_mode": "shell",
   "file_extension": ".sh",
   "mimetype": "text/x-sh",
   "name": "bash"
  }
 },
 "nbformat": 4,
 "nbformat_minor": 5
}
