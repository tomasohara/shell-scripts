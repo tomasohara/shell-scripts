{
 "cells": [
  {
   "cell_type": "code",
   "execution_count": 1,
   "id": "91a402ff",
   "metadata": {},
   "outputs": [],
   "source": [
    "## SETUP (OPTIONAL - USE IF REQUIRED)\n",
    "## Bracketed Paste is disabled to prevent characters after output\n",
    "## Example: \n",
    "## $ echo 'Hii'\n",
    "## | Hi?2004l\n",
    "# bind 'set enable-bracketed-paste off'"
   ]
  },
  {
   "cell_type": "code",
   "execution_count": 2,
   "id": "c33c5c15",
   "metadata": {},
   "outputs": [
    {
     "name": "stdout",
     "output_type": "stream",
     "text": [
      "0\n"
     ]
    }
   ],
   "source": [
    "## TEST:  Make sure simple prompt used (e.g., no escapes that might contaminate output)\n",
    "## PS1=\"$ \"\n",
    "## TODO: PS1=\"> \"\n",
    "\n",
    "## NOTE: The Jupyter bash kernel requires that PS1 not be modified as they customize it.\n",
    "# echo \"TODO:\"\n",
    "# echo \"  echo \\\"\\$PS1\\\" | command grep --count --perl-regexp '[\\x00-\\x1f]'\"\n",
    "\n",
    "actual=${PS1: -1}\n",
    "[ \"$actual\" = \">\" ]; echo $?"
   ]
  },
  {
   "cell_type": "code",
   "execution_count": 3,
   "id": "be8ef5b9",
   "metadata": {},
   "outputs": [
    {
     "name": "stdout",
     "output_type": "stream",
     "text": [
      "0\n"
     ]
    }
   ],
   "source": [
    "## OLD: For debug\n",
    "# alias | wc -l\n",
    "\n",
    "# The debugging level should be at most 3\n",
    "# Note: this affects output as bash_kernel conflates stderr w/ stdout\n",
    "## TODO: echo \"DEBUG_LEVEL=$DEBUG_LEVEL\" 1>&2\n",
    "[ \"$DEBUG_LEVEL\" -lt 4 ]; echo \"$?\""
   ]
  },
  {
   "cell_type": "code",
   "execution_count": 4,
   "id": "1f0c6191",
   "metadata": {},
   "outputs": [
    {
     "name": "stdout",
     "output_type": "stream",
     "text": [
      "renamed '/tmp/trace-python-commands/trace-python-commands' -> '/tmp/trace-python-commands/trace-python-commands.29Apr24.11'\n"
     ]
    }
   ],
   "source": [
    "# Global Setup\n",
    "\n",
    "TMP=${TMP:-/tmp}\n",
    "if [ \"$DEBUG_LEVEL\" -lt 4 ]; then \n",
    "    TMP=/tmp/trace-python-commands\n",
    "fi\n",
    "temp_dir=$TMP/trace-python-commands\n",
    "## OLD: No use of trash: trash_dir=$TMP/\"_temp-trash-$(date \"+%Y%m%d%H%M%S\")\"\n",
    "rename-with-file-date \"$temp_dir\"\n",
    "command mkdir -p \"$temp_dir\"\n",
    "# command mkdir -p \"$trash_dir\"\n",
    "command cd \"$temp_dir\""
   ]
  },
  {
   "cell_type": "code",
   "execution_count": 5,
   "id": "8a0854c8",
   "metadata": {},
   "outputs": [],
   "source": [
    "# Global Setup\n",
    "alias testuser=\"sed -r \"s/\"$USER\"+/userxf333/g\"\"\n",
    "alias testnum=\"sed -r \"s/[0-9]/N/g\"\"\n",
    "alias testuserpath=\"sed 's|/home/[^/]\\+/|USER_PATH/|'\"\n",
    "alias linebr=\"printf '%132s\\n' ' ' | tr ' ' '-'\""
   ]
  },
  {
   "cell_type": "code",
   "execution_count": 6,
   "id": "723a939c",
   "metadata": {},
   "outputs": [
    {
     "name": "stdout",
     "output_type": "stream",
     "text": [
      "0\n"
     ]
    }
   ],
   "source": [
    "## OLD\n",
    "## Count aliases proper\n",
    "# alias | wc -l\n",
    "\n",
    "# Count aliases w/ -dir in name\n",
    "# Example:\n",
    "#   $ alias | egrep '\\-dir\\b' | wc -l\n",
    "#   29\n",
    "\n",
    "dir_aliases=$(alias | egrep '\\-dir\\b' | wc -l)\n",
    "[ \"$dir_aliases\" -gt 20 ]; echo \"$?\""
   ]
  },
  {
   "cell_type": "code",
   "execution_count": 7,
   "id": "f1d01696",
   "metadata": {},
   "outputs": [
    {
     "name": "stdout",
     "output_type": "stream",
     "text": [
      "0\n"
     ]
    }
   ],
   "source": [
    "## OLD\n",
    "## Count functions\n",
    "# typeset -f | egrep '^\\w+' | wc -l\n",
    "\n",
    "dir_functions=$(typeset -f | egrep '\\-dir\\b' | wc -l)\n",
    "[ \"$dir_functions\" -gt 35 ]; echo \"$?\""
   ]
  },
  {
   "cell_type": "code",
   "execution_count": 8,
   "id": "c053e45f",
   "metadata": {},
   "outputs": [],
   "source": [
    "## BAD\n",
    "# source $BIN_DIR/tomohara-aliases.bash"
   ]
  },
  {
   "cell_type": "code",
   "execution_count": 9,
   "id": "e0d732b4",
   "metadata": {},
   "outputs": [],
   "source": [
    "## OLD\n",
    "## Shows that cls must be used instead of clear\n",
    "# clear"
   ]
  },
  {
   "cell_type": "code",
   "execution_count": 10,
   "id": "92e05aed",
   "metadata": {},
   "outputs": [],
   "source": [
    "# TEST 1 - MOVE ALIASES\n",
    "\n",
    "## CLEARS TEST FOLDER\n",
    "\n",
    "## OLD\n",
    "# rm -rf ./*\n",
    "# linebr\n",
    "\n",
    "# ## CREATES TEST SUBJECTS\n",
    "# touch abc def ghi\n",
    "# mkdir mvtest_dir1\n",
    "\n",
    "# ## WORK OF ALIASES\n",
    "# mv abc ./mvtest_dir1\n",
    "# move def ./mvtest_dir1\n",
    "# move-force ghi ./mvtest_dir1\n",
    "# linebr\n",
    "\n",
    "# ## VIEWING THE CHANGES MADE\n",
    "# ls -l | awk '!($6=\"\")' | testnum | testuser\n",
    "# linebr\n",
    "# ls -l ./mvtest_dir1 | awk '!($6=\"\")' | testnum | testuser\n",
    "# linebr\n",
    "\n",
    "# BAD: rm -rf ./* > /dev/null\n",
    "# command mv -f * \"$trash_dir\""
   ]
  },
  {
   "cell_type": "code",
   "execution_count": 11,
   "id": "01f003bf",
   "metadata": {},
   "outputs": [],
   "source": [
    "## WORK OF ALIASES\n",
    "## CREATES TEST SUBJECTS\n",
    "touch abc def ghi\n",
    "mkdir mvtest_dir1"
   ]
  },
  {
   "cell_type": "code",
   "execution_count": 12,
   "id": "86397b57",
   "metadata": {},
   "outputs": [
    {
     "name": "stdout",
     "output_type": "stream",
     "text": [
      "renamed 'abc' -> './mvtest_dir1/abc'\n",
      "renamed 'def' -> './mvtest_dir1/def'\n",
      "renamed 'ghi' -> './mvtest_dir1/ghi'\n"
     ]
    }
   ],
   "source": [
    "mv abc ./mvtest_dir1\n",
    "move def ./mvtest_dir1\n",
    "move-force ghi ./mvtest_dir1"
   ]
  },
  {
   "cell_type": "code",
   "execution_count": 13,
   "id": "a5fe54a2",
   "metadata": {},
   "outputs": [
    {
     "name": "stdout",
     "output_type": "stream",
     "text": [
      "0\n"
     ]
    }
   ],
   "source": [
    "## VIEWING THE CHANGES MADE\n",
    "# OLD: ls -l | awk '!($6=\"\")' | testnum | testuser\n",
    "[[ \"$(ls)\" == *\"mvtest_dir1\"* && \"$(ls mvtest_dir1)\" == *\"abc\"* && \"$(ls mvtest_dir1)\" == *\"def\"* && \"$(ls mvtest_dir1)\" == *\"ghi\"* ]]; echo $?"
   ]
  },
  {
   "cell_type": "code",
   "execution_count": 14,
   "id": "72f7b672",
   "metadata": {},
   "outputs": [
    {
     "name": "stdout",
     "output_type": "stream",
     "text": [
      "total N    \n",
      "-rw-rw-r-- N userxf333 userxf333 N  NN NN:NN abc\n",
      "-rw-rw-r-- N userxf333 userxf333 N  NN NN:NN def\n",
      "-rw-rw-r-- N userxf333 userxf333 N  NN NN:NN ghi\n"
     ]
    }
   ],
   "source": [
    "ls -l ./mvtest_dir1 | awk '!($6=\"\")' | testnum | testuser"
   ]
  },
  {
   "cell_type": "code",
   "execution_count": 15,
   "id": "29f6f198",
   "metadata": {},
   "outputs": [],
   "source": [
    "# # TEST 2 - COPY ALIASES\n",
    "## OLD\n",
    "\n",
    "# ## CLEARS TEST FOLDER\n",
    "# rm -rf ./*\n",
    "# linebr\n",
    "\n",
    "# ## CREATES TEST SUBJECTS\n",
    "# touch abc def ghi\n",
    "# mkdir cptest_dir1\n",
    "\n",
    "# ## WORK OF ALIASES\n",
    "# cp abc ./cptest_dir1\n",
    "# copy def ./cptest_dir1\n",
    "# copy-force ghi ./cptest_dir1\n",
    "# linebr\n",
    "\n",
    "# ## VIEWING THE CHANGES MADE\n",
    "# ls -l | awk '!($6=\"\")' | testnum | testuser\n",
    "# linebr\n",
    "# ls -l ./cptest_dir1 | awk '!($6=\"\")' | testnum | testuser\n",
    "# linebr"
   ]
  },
  {
   "cell_type": "code",
   "execution_count": 16,
   "id": "117d6e03",
   "metadata": {},
   "outputs": [],
   "source": [
    "# BAD: rm -rf ./* > /dev/null\n",
    "## OLD: command mv -f * \"$trash_dir\""
   ]
  },
  {
   "cell_type": "code",
   "execution_count": 17,
   "id": "e1e7e397",
   "metadata": {},
   "outputs": [],
   "source": [
    "touch abc def ghi\n",
    "command mkdir cptest_dir1"
   ]
  },
  {
   "cell_type": "code",
   "execution_count": 18,
   "id": "bcd37f6e",
   "metadata": {},
   "outputs": [
    {
     "name": "stdout",
     "output_type": "stream",
     "text": [
      "'abc' -> './cptest_dir1/abc'\n",
      "'def' -> './cptest_dir1/def'\n",
      "'ghi' -> './cptest_dir1/ghi'\n",
      "abc  \u001b[0m\u001b[01;34mcptest_dir1\u001b[0m  def  ghi  \u001b[01;34mmvtest_dir1\u001b[0m\n"
     ]
    }
   ],
   "source": [
    "## WORK OF ALIASES\n",
    "cp abc ./cptest_dir1\n",
    "copy def ./cptest_dir1\n",
    "copy-force ghi ./cptest_dir1\n",
    "# linebr\n",
    "ls"
   ]
  },
  {
   "cell_type": "code",
   "execution_count": 19,
   "id": "30f2250d",
   "metadata": {},
   "outputs": [
    {
     "name": "stdout",
     "output_type": "stream",
     "text": [
      "0\n"
     ]
    }
   ],
   "source": [
    "## VIEWING THE CHANGES MADE - 1\n",
    "## OLD: Inconsistent patterns in resutl\n",
    "# ls -l | awk '!($6=\"\")' | testnum | testuser\n",
    "[[ -n \"$(ls | grep \"cptest_dir1\")\" && -n \"$(ls | grep \"abc\")\" && -n \"$(ls | grep \"def\")\" && -n \"$(ls | grep \"ghi\")\" ]]\n",
    "expected1=$?\n",
    "\n",
    "[[ -n \"$(ls cptest_dir1 | grep \"abc\")\" && -n \"$(ls cptest_dir1 | grep \"def\")\" && -n \"$(ls cptest_dir1 | grep \"ghi\")\" ]]\n",
    "expected2=$?\n",
    "\n",
    "[ $excepted1 -eq $excepted2 ]; echo $?\n"
   ]
  },
  {
   "cell_type": "code",
   "execution_count": 20,
   "id": "f9aebe4f",
   "metadata": {},
   "outputs": [
    {
     "name": "stdout",
     "output_type": "stream",
     "text": [
      "total N    \n",
      "-rw-rw-r-- N userxf333 userxf333 N  NN NN:NN abc\n",
      "-rw-rw-r-- N userxf333 userxf333 N  NN NN:NN def\n",
      "-rw-rw-r-- N userxf333 userxf333 N  NN NN:NN ghi\n"
     ]
    }
   ],
   "source": [
    "## VIEWING THE CHANGES MADE - 2\n",
    "ls -l ./cptest_dir1 | awk '!($6=\"\")' | testnum | testuser"
   ]
  },
  {
   "cell_type": "code",
   "execution_count": 21,
   "id": "a3149319",
   "metadata": {},
   "outputs": [],
   "source": [
    "# #=================(TEST ERROR: \"/bin/rm: remove regular empty file 'f1'?\")=========================#\n",
    "# # TEST 3 - REMOVE/DELETE ALIASES\n",
    "\n",
    "# ## CLEARS TEST FOLDER\n",
    "# rm -rf ./*\n",
    "# linebr\n",
    "\n",
    "# ## CREATES TEST SUBJECTS\n",
    "# touch f1 f2 f3 f4 f5\n",
    "\n",
    "# ## WORK OF ALIASES\n",
    "# rm f1\n",
    "# delete f2\n",
    "# remove-force f3\n",
    "\n",
    "# linebr\n",
    "\n",
    "# ## VIEWING THE CHANGES MADE\n",
    "# ls -l\n",
    "# linebr"
   ]
  },
  {
   "cell_type": "code",
   "execution_count": 22,
   "id": "9ce01462",
   "metadata": {},
   "outputs": [],
   "source": [
    "# TEST 4 - REMOVE DIRECTORY ALIASES\n",
    "\n",
    "## OLD:\n",
    "\n",
    "## CLEARS TEST FOLDER\n",
    "# rm -rf ./* > /dev/null\n",
    "# linebr\n",
    "\n",
    "## CREATES TEST SUBJECTS\n",
    "# touch abc def ghi\n",
    "# mkdir TDIR1 TDIR2 TDIR3 TDIR4\n",
    "# ls -l | awk '!($6=\"\")' | testnum | testuser\n",
    "# linebr\n",
    "\n",
    "## WORK OF ALIASES (OLD - halts the test)\n",
    "# $ remove-dir \"TDIR1\"\n",
    "# | rm: remove directory 'TDIR1'? \n",
    "# $ delete-dir \"TDIR2\"\n",
    "# | rm: remove directory 'TDIR1'? \n",
    "# $ remove-dir-force TDIR3\n",
    "# | Warning: run enable-forced-deletions or issue: command rm -rfv hello\n",
    "# $ delete-dir-force TDIR4\n",
    "# | Warning: run enable-forced-deletions or issue: command rm -rfv hello\n",
    "# linebr\n",
    "\n",
    "## VIEWING THE CHANGES MADE\n",
    "# ls -l | awk '!($6=\"\")' | testnum | testuser\n",
    "# linebr"
   ]
  },
  {
   "cell_type": "code",
   "execution_count": 23,
   "id": "bcea3648",
   "metadata": {},
   "outputs": [
    {
     "name": "stdout",
     "output_type": "stream",
     "text": [
      "abc  \u001b[0m\u001b[01;34mcptest_dir1\u001b[0m  def  ghi  \u001b[01;34mmvtest_dir1\u001b[0m  \u001b[01;34mTDIR1\u001b[0m  \u001b[01;34mTDIR2\u001b[0m  \u001b[01;34mTDIR3\u001b[0m  \u001b[01;34mTDIR4\u001b[0m\n"
     ]
    }
   ],
   "source": [
    "## CREATES TEST SUBJECTS\n",
    "touch abc def ghi\n",
    "command mkdir TDIR1 TDIR2 TDIR3 TDIR4\n",
    "ls\n",
    "# ls -l | awk '!($6=\"\")' | testnum | testuser"
   ]
  },
  {
   "cell_type": "code",
   "execution_count": 24,
   "id": "753c1ba2",
   "metadata": {},
   "outputs": [
    {
     "name": "stdout",
     "output_type": "stream",
     "text": [
      "total NN    \n",
      "-rw-rw-r-- N userxf333 userxf333 N  NN NN:NN abc\n",
      "drwxrwxr-x N userxf333 userxf333 NNNN  NN NN:NN cptest_dirN\n",
      "-rw-rw-r-- N userxf333 userxf333 N  NN NN:NN def\n",
      "-rw-rw-r-- N userxf333 userxf333 N  NN NN:NN ghi\n",
      "drwxrwxr-x N userxf333 userxf333 NNNN  NN NN:NN mvtest_dirN\n",
      "drwxrwxr-x N userxf333 userxf333 NNNN  NN NN:NN TDIRN\n",
      "drwxrwxr-x N userxf333 userxf333 NNNN  NN NN:NN TDIRN\n",
      "drwxrwxr-x N userxf333 userxf333 NNNN  NN NN:NN TDIRN\n",
      "drwxrwxr-x N userxf333 userxf333 NNNN  NN NN:NN TDIRN\n"
     ]
    }
   ],
   "source": [
    "ls -l | awk '!($6=\"\")' | testnum | testuser"
   ]
  },
  {
   "cell_type": "code",
   "execution_count": 25,
   "id": "ff3ef38f",
   "metadata": {
    "scrolled": true
   },
   "outputs": [
    {
     "name": "stdout",
     "output_type": "stream",
     "text": [
      "-r--r--r-- 1 ricekiller ricekiller 4050 Apr 28 14:34 ./TDIR1/.bashrc\n"
     ]
    }
   ],
   "source": [
    "## OLD\n",
    "\n",
    "# # RUNNING FOR DETAILS\n",
    "# copy-readonly | testuser\n",
    "# linebr\n",
    "# # COPYING .bashrc TO TEST DIRECTORY\n",
    "# rm -rf ./* > /dev/null\n",
    "# mkdir testdir1\n",
    "# linebr\n",
    "# copy-readonly ~/.bashrc ./testdir1/ | awk '!($6=\"\")' | testnum | testuser\n",
    "# linebr\n",
    "# # VIEWING THE COPIED FILE (IN DIR AND CAT)\n",
    "# cat ./testdir1/.bashrc | head \n",
    "\n",
    "# copy-readonly\n",
    "copy-readonly ~/.bashrc ./TDIR1 2>&1"
   ]
  },
  {
   "cell_type": "code",
   "execution_count": 26,
   "id": "29b8b028",
   "metadata": {},
   "outputs": [
    {
     "name": "stdout",
     "output_type": "stream",
     "text": [
      "0\n"
     ]
    }
   ],
   "source": [
    "## RUNNING FOR DETAILS\n",
    "\n",
    "## [OLD] Error: copy-readonly.sh: command not found\n",
    "# copy-readonly\n",
    "\n",
    "## The permission string of a readonly file is 444\n",
    "[ \"$(stat -c %a \"./TDIR1/.bashrc\" | tail -c 4)\" -eq 444 ]; echo $?"
   ]
  },
  {
   "cell_type": "code",
   "execution_count": 27,
   "id": "2c31c450",
   "metadata": {},
   "outputs": [],
   "source": [
    "# BAD: rm -rf ./* > /dev/null\n",
    "# command mv -f * \"$trash_dir\"\n",
    "# mkdir testdir1"
   ]
  },
  {
   "cell_type": "code",
   "execution_count": 28,
   "id": "453d4af0",
   "metadata": {},
   "outputs": [],
   "source": [
    "# copy-readonly ~/.bashrc testdir1 | awk '!($6=\"\")' | testnum | testuser"
   ]
  },
  {
   "cell_type": "code",
   "execution_count": 29,
   "id": "167288de",
   "metadata": {},
   "outputs": [],
   "source": [
    "# cat testdir1/.bashrc | head -n 1"
   ]
  },
  {
   "cell_type": "code",
   "execution_count": 30,
   "id": "a18198b4",
   "metadata": {},
   "outputs": [
    {
     "name": "stdout",
     "output_type": "stream",
     "text": [
      "/tmp/trace-python-commands/trace-python-commands/parent_directory\n",
      "0\n"
     ]
    }
   ],
   "source": [
    "# # BEFORE fix-dir-permissions \n",
    "# $ ls -l  \n",
    "# | total 4\n",
    "# | drwxrwxr-x 2 xaea12 xaea12 4096 Jul  4 21:41 testdir1\n",
    "\n",
    "## TODO: Need help with fix-dir-permissions\n",
    "command mkdir -p parent_directory/dir{1,2,2/subdir{1,2}}\n",
    "command touch parent_directory/{dir1/{file1.txt,file2.txt},dir2/subdir1/{file3.txt,file4.txt},dir2/subdir2/{file5.txt,file6.txt},file7.txt}\n",
    "command cd parent_directory\n",
    "\n",
    "# Fix directory permissions\n",
    "fix-dir-permissions\n",
    "\n",
    "# List only directories\n",
    "[ \"$(stat -c %a \"dir1\" | tail -c 4)\" -eq 775 ]\n",
    "expected1=$?\n",
    "[ \"$(stat -c %a \"dir2\" | tail -c 4)\" -eq 775 ]\n",
    "expected2=$?\n",
    "\n",
    "[ $expected1 -eq $expected2 ]; echo $?\n",
    "\n",
    "\n",
    "## OLD\n",
    "# ## AFTER fix-dir-permissions\n",
    "# ls -l | awk '!($6=\"\")' | testnum | testuser"
   ]
  },
  {
   "cell_type": "code",
   "execution_count": 31,
   "id": "d6cf3aca",
   "metadata": {
    "scrolled": true
   },
   "outputs": [
    {
     "name": "stdout",
     "output_type": "stream",
     "text": [
      "total N    \n",
      "drwxrwsr-x N userxf333 userxf333 NNNN  NN NN:NN dirN\n",
      "drwxrwsr-x N userxf333 userxf333 NNNN  NN NN:NN dirN\n",
      "-rw-rw-r-- N userxf333 userxf333 N  NN NN:NN fileN.txt\n"
     ]
    }
   ],
   "source": [
    "# AFTER fix-dir-permissions\n",
    "ls -l | awk '!($6=\"\")' | testnum | testuser"
   ]
  },
  {
   "cell_type": "code",
   "execution_count": 32,
   "id": "5d4aef31",
   "metadata": {},
   "outputs": [],
   "source": [
    "## OLD: No use of trash_dir\n",
    "# if [[ \"$PWD\" = *\"/tmp/\"* ]]; then\n",
    "#     command mv -f * \"$trash_dir\"\n",
    "#     echo \"Successfully moved to trash\"\n",
    "# else\n",
    "#     echo \"Warning: Current directory not in TMP\"\n",
    "# fi"
   ]
  }
 ],
 "metadata": {
  "kernelspec": {
   "display_name": "Bash",
   "language": "bash",
   "name": "bash"
  },
  "language_info": {
   "codemirror_mode": "shell",
   "file_extension": ".sh",
   "mimetype": "text/x-sh",
   "name": "bash"
  }
 },
 "nbformat": 4,
 "nbformat_minor": 5
}
