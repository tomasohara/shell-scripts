{
 "cells": [
  {
   "cell_type": "code",
   "execution_count": 1,
   "metadata": {
    "vscode": {
     "languageId": "shellscript"
    }
   },
   "outputs": [],
   "source": [
    "# SETUP - OPTIONAL (USE ONLY IF YOU NEED TO SOURCE THE ALIASES)\n",
    "source ../test-aliases.bash"
   ]
  },
  {
   "cell_type": "code",
   "execution_count": 2,
   "metadata": {
    "vscode": {
     "languageId": "shellscript"
    }
   },
   "outputs": [
    {
     "name": "stdout",
     "output_type": "stream",
     "text": [
      "Image generation via HF Stable Diffusion (SD) API\n"
     ]
    }
   ],
   "source": [
    "# SETUP TEST - STABLE DIFFUSION ALIAS IS WORKING\n",
    "stable-diffusion | grep \"generation\""
   ]
  },
  {
   "cell_type": "code",
   "execution_count": 3,
   "metadata": {
    "vscode": {
     "languageId": "shellscript"
    }
   },
   "outputs": [],
   "source": [
    "# SETUP FUNCTION TO FORMAT THE DESCRIPTION OUTPUT\n",
    "function format_description {\n",
    "    # Quitar tambien los caracteres especiales como comillas, guiones, etc\n",
    "    output=$(echo \"$1\"  | rev | cut -d '.' -f1 | rev | sed \"s/, / /g\" | sed \"s/\\\"//g\" | sed \"s/-//g\" | sed \"s/'//g\")\n",
    "    output=${output:1}\n",
    "    echo $output\n",
    "}"
   ]
  },
  {
   "cell_type": "code",
   "execution_count": 4,
   "metadata": {
    "vscode": {
     "languageId": "shellscript"
    }
   },
   "outputs": [],
   "source": [
    "# SETUP FUNCTION TO CLEAN GPU MEMORY BEFORE RUN A NEW TEST\n",
    "function clean_memory {\n",
    "    echo \"Cleaning GPU memory\"\n",
    "    python3 -c \"import torch; torch.cuda.empty_cache()\"\n",
    "    nvidia-smi | grep python | awk '{print $3}' | xargs -I {} kill {}\n",
    "}"
   ]
  },
  {
   "cell_type": "code",
   "execution_count": 5,
   "metadata": {
    "vscode": {
     "languageId": "shellscript"
    }
   },
   "outputs": [
    {
     "name": "stdout",
     "output_type": "stream",
     "text": [
      "a group of turtles sitting on a branch flying around the bird elaborated depth of field sparring reallife photograph meditating in lotus position two small horn on the head tilt shift butterflies flying robin eley flying debris long tail\n"
     ]
    }
   ],
   "source": [
    "# SETUP TEST - STABLE DIFFUSION IMG2TXT ACURACCY\n",
    "# Format the description after the img2txt command in a example image\n",
    "description=\"$(format_description \"$(sd-description resources/example.jpg 2> /dev/null)\")\"\n",
    "keywords=\"turtles branch sitting butterfly jungle tree\"\n",
    "not_contained=\"dog cat angry desert ocean mountain snow city\"\n",
    "echo $description"
   ]
  },
  {
   "cell_type": "code",
   "execution_count": 6,
   "metadata": {
    "vscode": {
     "languageId": "shellscript"
    }
   },
   "outputs": [
    {
     "name": "stdout",
     "output_type": "stream",
     "text": [
      "Processing entire input\n",
      "True\n"
     ]
    }
   ],
   "source": [
    "# TEST 1 - STABLE DIFFUSION IMG2TXT ACURACCY (contains some keywords)\n",
    "echo $description | eval-condition \"3 <= len(set(stdin.split()).intersection(set('$keywords'.split())))\""
   ]
  },
  {
   "cell_type": "code",
   "execution_count": 7,
   "metadata": {
    "vscode": {
     "languageId": "shellscript"
    }
   },
   "outputs": [
    {
     "name": "stdout",
     "output_type": "stream",
     "text": [
      "Processing entire input\n",
      "True\n"
     ]
    }
   ],
   "source": [
    "# TEST 2 - STABLE DIFFUSION img2txt ACURACCY (not contain some words)\n",
    "echo $description | eval-condition \"0 == len(set(stdin.split()).intersection(set('$not_contained'.split())))\""
   ]
  },
  {
   "cell_type": "code",
   "execution_count": 8,
   "metadata": {
    "vscode": {
     "languageId": "shellscript"
    }
   },
   "outputs": [
    {
     "name": "stdout",
     "output_type": "stream",
     "text": [
      "Cleaning GPU memory\n",
      "/home/geb/.local/lib/python3.11/site-packages/diffusers/utils/outputs.py:63: UserWarning: torch.utils._pytree._register_pytree_node is deprecated. Please use torch.utils._pytree.register_pytree_node instead.\n",
      "  torch.utils._pytree._register_pytree_node(\n",
      "/home/geb/.local/lib/python3.11/site-packages/diffusers/utils/outputs.py:63: UserWarning: torch.utils._pytree._register_pytree_node is deprecated. Please use torch.utils._pytree.register_pytree_node instead.\n",
      "  torch.utils._pytree._register_pytree_node(\n",
      "Loading pipeline components...: 100%|█████████████| 7/7 [00:10<00:00,  1.51s/it]\n",
      "Traceback (most recent call last):\n",
      "  File \"/home/geb/Repos/mezcla/mezcla/examples/hf_stable_diffusion.py\", line 1148, in <module>\n",
      "    main()\n",
      "  File \"/home/geb/Repos/mezcla/mezcla/examples/hf_stable_diffusion.py\", line 1122, in main\n",
      "    else infer_img2img(b64_image_encoding, denoising_factor, prompt, negative_prompt, guidance, skip_img_spec=True))\n",
      "         ^^^^^^^^^^^^^^^^^^^^^^^^^^^^^^^^^^^^^^^^^^^^^^^^^^^^^^^^^^^^^^^^^^^^^^^^^^^^^^^^^^^^^^^^^^^^^^^^^^^^^^^^^^\n",
      "  File \"/home/geb/Repos/mezcla/mezcla/examples/hf_stable_diffusion.py\", line 599, in infer_img2img\n",
      "    return sd_instance.infer_img2img(image_b64=image_b64, denoise=denoise, prompt=prompt, negative_prompt=negative_prompt, scale=scale, num_images=num_images, skip_img_spec=skip_img_spec)\n",
      "           ^^^^^^^^^^^^^^^^^^^^^^^^^^^^^^^^^^^^^^^^^^^^^^^^^^^^^^^^^^^^^^^^^^^^^^^^^^^^^^^^^^^^^^^^^^^^^^^^^^^^^^^^^^^^^^^^^^^^^^^^^^^^^^^^^^^^^^^^^^^^^^^^^^^^^^^^^^^^^^^^^^^^^^^^^^^^^^^^\n",
      "  File \"/home/geb/Repos/mezcla/mezcla/examples/hf_stable_diffusion.py\", line 401, in infer_img2img\n",
      "    images = self.infer_img2img_non_cached(*params)\n",
      "             ^^^^^^^^^^^^^^^^^^^^^^^^^^^^^^^^^^^^^^\n",
      "  File \"/home/geb/Repos/mezcla/mezcla/examples/hf_stable_diffusion.py\", line 427, in infer_img2img_non_cached\n",
      "    image_info = self.pipe(image=input_image, strength=denoise, prompt=prompt, negative_prompt=negative_prompt, guidance_scale=scale,\n",
      "                 ^^^^^^^^^^^^^^^^^^^^^^^^^^^^^^^^^^^^^^^^^^^^^^^^^^^^^^^^^^^^^^^^^^^^^^^^^^^^^^^^^^^^^^^^^^^^^^^^^^^^^^^^^^^^^^^^^^^^\n",
      "  File \"/home/geb/.local/lib/python3.11/site-packages/torch/utils/_contextlib.py\", line 115, in decorate_context\n",
      "    return func(*args, **kwargs)\n",
      "           ^^^^^^^^^^^^^^^^^^^^^\n",
      "  File \"/home/geb/.local/lib/python3.11/site-packages/diffusers/pipelines/stable_diffusion/pipeline_stable_diffusion_img2img.py\", line 1046, in __call__\n",
      "    latents = self.prepare_latents(\n",
      "              ^^^^^^^^^^^^^^^^^^^^^\n",
      "  File \"/home/geb/.local/lib/python3.11/site-packages/diffusers/pipelines/stable_diffusion/pipeline_stable_diffusion_img2img.py\", line 692, in prepare_latents\n",
      "    init_latents = retrieve_latents(self.vae.encode(image), generator=generator)\n",
      "                                    ^^^^^^^^^^^^^^^^^^^^^^\n",
      "  File \"/home/geb/.local/lib/python3.11/site-packages/diffusers/utils/accelerate_utils.py\", line 46, in wrapper\n",
      "    return method(self, *args, **kwargs)\n",
      "           ^^^^^^^^^^^^^^^^^^^^^^^^^^^^^\n",
      "  File \"/home/geb/.local/lib/python3.11/site-packages/diffusers/models/autoencoders/autoencoder_kl.py\", line 258, in encode\n",
      "    h = self.encoder(x)\n",
      "        ^^^^^^^^^^^^^^^\n",
      "  File \"/home/geb/.local/lib/python3.11/site-packages/torch/nn/modules/module.py\", line 1511, in _wrapped_call_impl\n",
      "    return self._call_impl(*args, **kwargs)\n",
      "           ^^^^^^^^^^^^^^^^^^^^^^^^^^^^^^^^\n",
      "  File \"/home/geb/.local/lib/python3.11/site-packages/torch/nn/modules/module.py\", line 1520, in _call_impl\n",
      "    return forward_call(*args, **kwargs)\n",
      "           ^^^^^^^^^^^^^^^^^^^^^^^^^^^^^\n",
      "  File \"/home/geb/.local/lib/python3.11/site-packages/diffusers/models/autoencoders/vae.py\", line 172, in forward\n",
      "    sample = down_block(sample)\n",
      "             ^^^^^^^^^^^^^^^^^^\n",
      "  File \"/home/geb/.local/lib/python3.11/site-packages/torch/nn/modules/module.py\", line 1511, in _wrapped_call_impl\n",
      "    return self._call_impl(*args, **kwargs)\n",
      "           ^^^^^^^^^^^^^^^^^^^^^^^^^^^^^^^^\n",
      "  File \"/home/geb/.local/lib/python3.11/site-packages/torch/nn/modules/module.py\", line 1520, in _call_impl\n",
      "    return forward_call(*args, **kwargs)\n",
      "           ^^^^^^^^^^^^^^^^^^^^^^^^^^^^^\n",
      "  File \"/home/geb/.local/lib/python3.11/site-packages/diffusers/models/unets/unet_2d_blocks.py\", line 1377, in forward\n",
      "    hidden_states = resnet(hidden_states, temb=None, scale=scale)\n",
      "                    ^^^^^^^^^^^^^^^^^^^^^^^^^^^^^^^^^^^^^^^^^^^^^\n",
      "  File \"/home/geb/.local/lib/python3.11/site-packages/torch/nn/modules/module.py\", line 1511, in _wrapped_call_impl\n",
      "    return self._call_impl(*args, **kwargs)\n",
      "           ^^^^^^^^^^^^^^^^^^^^^^^^^^^^^^^^\n",
      "  File \"/home/geb/.local/lib/python3.11/site-packages/torch/nn/modules/module.py\", line 1520, in _call_impl\n",
      "    return forward_call(*args, **kwargs)\n",
      "           ^^^^^^^^^^^^^^^^^^^^^^^^^^^^^\n",
      "  File \"/home/geb/.local/lib/python3.11/site-packages/diffusers/models/resnet.py\", line 403, in forward\n",
      "    output_tensor = (input_tensor + hidden_states) / self.output_scale_factor\n",
      "                    ~~~~~~~~~~~~~~~~~~~~~~~~~~~~~^~~~~~~~~~~~~~~~~~~~~~~~~~~~\n",
      "torch.cuda.OutOfMemoryError: CUDA out of memory. Tried to allocate 600.00 MiB. GPU 0 has a total capacity of 5.93 GiB of which 552.38 MiB is free. Including non-PyTorch memory, this process has 5.05 GiB memory in use. Of the allocated memory 4.95 GiB is allocated by PyTorch, and 7.22 MiB is reserved by PyTorch but unallocated. If reserved but unallocated memory is large try setting PYTORCH_CUDA_ALLOC_CONF=expandable_segments:True to avoid fragmentation.  See documentation for Memory Management  (https://pytorch.org/docs/stable/notes/cuda.html#environment-variables)\n",
      "mv: no se puede efectuar `stat' sobre 'sd-app-image-1.png': No existe el fichero o el directorio\n",
      "Original description: a group of turtles sitting on a branch flying around the bird elaborated depth of field sparring reallife photograph meditating in lotus position two small horn on the head tilt shift butterflies flying robin eley flying debris long tail\n",
      "New description: \n",
      "Processing entire input\n",
      "False\n"
     ]
    }
   ],
   "source": [
    "# TEST 3 - STABLE DIFFUSION img2img + img2txt ACURACCY\n",
    "# Original description = $description\n",
    "clean_memory\n",
    "stable-diffusion --batch --img2img resources/example.jpg\n",
    "mv sd-app-image-1.png imgfromimg.png.log\n",
    "new_description=$(format_description \"$(sd-description imgfromimg.png.log 2> /dev/null)\")\n",
    "echo \"Original description: $description\"\n",
    "echo \"New description: $new_description\"\n",
    "echo $new_description | eval-condition \"2 <= len(set(stdin.split()).intersection(set('$new_description'.split())))\"\n"
   ]
  },
  {
   "cell_type": "code",
   "execution_count": 9,
   "metadata": {
    "vscode": {
     "languageId": "shellscript"
    }
   },
   "outputs": [
    {
     "name": "stdout",
     "output_type": "stream",
     "text": [
      "Original description: a group of turtles sitting on a branch flying around the bird elaborated depth of field sparring reallife photograph meditating in lotus position two small horn on the head tilt shift butterflies flying robin eley flying debris long tail\n",
      "New description: two turtles on a branch alamy stock photo rainbow road tilt shift photography three animals speculative evolution by Herman van Swanevelt connections long necks rule of threes potbellied sunny environment panoramic photography status icons vibrant and matching colors petrol photo taken in 2 0 2 0 slowtime\n",
      "Processing entire input\n",
      "True\n"
     ]
    }
   ],
   "source": [
    "# TEST 4 - STABLE DIFFUSION txt2img + img2txt ACURACCY\n",
    "stable-diffusion --batch --prompt \"$(cat resources/prompt.txt)\" --negative \"$not_contain\" - &>/dev/null\n",
    "mv sd-app-image-1.png imgfromtxt.png.log\n",
    "new_description=\"$(format_description \"$(sd-description imgfromtxt.png.log 2> /dev/null)\")\"\n",
    "echo \"Original description: $description\"\n",
    "echo \"New description: $new_description\"\n",
    "echo $description | eval-condition \"3 <= len(set(stdin.split()).intersection(set(\\\"$new_description\\\".split())))\""
   ]
  }
 ],
 "metadata": {
  "kernelspec": {
   "display_name": "Bash",
   "language": "bash",
   "name": "bash"
  },
  "language_info": {
   "codemirror_mode": "shell",
   "file_extension": ".sh",
   "mimetype": "text/x-sh",
   "name": "bash"
  }
 },
 "nbformat": 4,
 "nbformat_minor": 2
}
