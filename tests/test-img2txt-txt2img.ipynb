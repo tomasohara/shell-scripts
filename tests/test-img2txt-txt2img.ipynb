{
 "cells": [
  {
   "cell_type": "code",
   "execution_count": 1,
   "metadata": {
    "vscode": {
     "languageId": "shellscript"
    }
   },
   "outputs": [],
   "source": [
    "# SETUP - OPTIONAL (USE ONLY IF YOU NEED TO SOURCE THE ALIASES)\n",
    "source ../test-aliases.bash"
   ]
  },
  {
   "cell_type": "code",
   "execution_count": 2,
   "metadata": {
    "vscode": {
     "languageId": "shellscript"
    }
   },
   "outputs": [
    {
     "name": "stdout",
     "output_type": "stream",
     "text": [
      "Image generation via HF Stable Diffusion (SD) API\n"
     ]
    }
   ],
   "source": [
    "# SETUP TEST - STABLE DIFFUSION ALIAS IS WORKING\n",
    "stable-diffusion | grep \"generation\""
   ]
  },
  {
   "cell_type": "code",
   "execution_count": 3,
   "metadata": {
    "vscode": {
     "languageId": "shellscript"
    }
   },
   "outputs": [
    {
     "name": "stdout",
     "output_type": "stream",
     "text": [
      "Processing entire input\n",
      "Loading caption model blip-base...\n",
      "/home/geb/.local/lib/python3.11/site-packages/torch/_utils.py:831: UserWarning: TypedStorage is deprecated. It will be removed in the future and UntypedStorage will be the only storage class. This should only matter to you if you are using storages directly.  To access UntypedStorage directly, use tensor.untyped_storage() instead of tensor.storage()\n",
      "  return self.fget.__get__(instance, owner)()\n",
      "Loading CLIP model ViT-B-16/openai...\n",
      "Loaded CLIP model and data in 2.77 seconds.\n",
      "100%|████████████████████████████████████████| 110/110 [00:00<00:00, 602.58it/s]\n",
      "Flavor chain:  41%|███████████▊                 | 13/32 [01:27<02:07,  6.73s/it]\n",
      "100%|████████████████████████████████████████| 110/110 [00:00<00:00, 372.90it/s]\n",
      "100%|██████████████████████████████████████████| 11/11 [00:00<00:00, 449.16it/s]\n",
      "100%|██████████████████████████████████████████| 99/99 [00:00<00:00, 377.20it/s]\n",
      "a mouse in an astronaut suit, wes anderson), stellaris, trending on artstation.', gopro footage, by Silvia Dimitrova, from guardians of the galaxy, dream animal cute eyes, starfield, artist rendition, guinea pig looking up at the sky, he can ’ t believe his eyes, twitter pfp, passengers\n",
      "True\n"
     ]
    }
   ],
   "source": [
    "# TEST 1 - STABLE DIFFUSION img2txt ACURACCY\n",
    "sd-description resources/example.png | tee >(eval-condition \"2 <= len(set(stdin.split()).intersection(set('mouse astronaut galaxy sky'.split())))\")"
   ]
  },
  {
   "cell_type": "code",
   "execution_count": 4,
   "metadata": {
    "vscode": {
     "languageId": "shellscript"
    }
   },
   "outputs": [
    {
     "name": "stdout",
     "output_type": "stream",
     "text": [
      "Processing entire input\n",
      "Loading caption model blip-base...\n",
      "/home/geb/.local/lib/python3.11/site-packages/torch/_utils.py:831: UserWarning: TypedStorage is deprecated. It will be removed in the future and UntypedStorage will be the only storage class. This should only matter to you if you are using storages directly.  To access UntypedStorage directly, use tensor.untyped_storage() instead of tensor.storage()\n",
      "  return self.fget.__get__(instance, owner)()\n",
      "Loading CLIP model ViT-B-16/openai...\n",
      "Loaded CLIP model and data in 2.77 seconds.\n",
      "100%|████████████████████████████████████████| 110/110 [00:00<00:00, 698.63it/s]\n",
      "Flavor chain:  41%|███████████▊                 | 13/32 [01:27<02:07,  6.72s/it]\n",
      "100%|████████████████████████████████████████| 110/110 [00:00<00:00, 592.27it/s]\n",
      "100%|██████████████████████████████████████████| 11/11 [00:00<00:00, 575.21it/s]\n",
      "100%|██████████████████████████████████████████| 99/99 [00:00<00:00, 455.13it/s]\n",
      "a mouse in an astronaut suit, wes anderson), stellaris, trending on artstation.', gopro footage, by Silvia Dimitrova, from guardians of the galaxy, dream animal cute eyes, starfield, artist rendition, guinea pig looking up at the sky, he can ’ t believe his eyes, twitter pfp, passengers\n",
      "True\n"
     ]
    }
   ],
   "source": [
    "# TEST 2 - STABLE DIFFUSION img2txt ACURACCY (not contain)\n",
    "sd-description resources/example.png | tee >(eval-condition \"0 == len(set(stdin.split()).intersection(set('dog cat sea angry'.split())))\")"
   ]
  },
  {
   "cell_type": "code",
   "execution_count": 5,
   "metadata": {
    "vscode": {
     "languageId": "shellscript"
    }
   },
   "outputs": [
    {
     "name": "stdout",
     "output_type": "stream",
     "text": [
      "/home/geb/.local/lib/python3.11/site-packages/torch/_utils.py:831: UserWarning: TypedStorage is deprecated. It will be removed in the future and UntypedStorage will be the only storage class. This should only matter to you if you are using storages directly.  To access UntypedStorage directly, use tensor.untyped_storage() instead of tensor.storage()\n",
      "  return self.fget.__get__(instance, owner)()\n",
      "100%|████████████████████████████████████████| 110/110 [00:00<00:00, 716.26it/s]\n",
      "Flavor chain:  41%|███████████▊                 | 13/32 [01:27<02:07,  6.72s/it]\n",
      "100%|████████████████████████████████████████| 110/110 [00:00<00:00, 583.72it/s]\n",
      "100%|██████████████████████████████████████████| 11/11 [00:00<00:00, 597.66it/s]\n",
      "100%|██████████████████████████████████████████| 99/99 [00:00<00:00, 448.44it/s]\n"
     ]
    }
   ],
   "source": [
    "# TEST 3 - STABLE DIFFUSION img2img + img2txt ACURACCY\n",
    "original_description=$(sd-description resources/example.png)\n",
    "#new_image=$(stable-diffusion --img2img resources/example.png)\n",
    "#new_description=$(sd-description $new_image)\n",
    "#echo $original_description\n",
    "#echo $new_description\n",
    "#eval-condition \"set($original_description.split()).intersection(set($new_description.split())) >= 3\"\n"
   ]
  }
 ],
 "metadata": {
  "kernelspec": {
   "display_name": "Bash",
   "language": "bash",
   "name": "bash"
  },
  "language_info": {
   "codemirror_mode": "shell",
   "file_extension": ".sh",
   "mimetype": "text/x-sh",
   "name": "bash"
  }
 },
 "nbformat": 4,
 "nbformat_minor": 2
}
