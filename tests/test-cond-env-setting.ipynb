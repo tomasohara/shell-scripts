{
 "cells": [
  {
   "cell_type": "code",
   "execution_count": 1,
   "id": "1a928559",
   "metadata": {},
   "outputs": [],
   "source": [
    "## SETUP (OPTIONAL - USE IF REQUIRED)\n",
    "## Bracketed Paste is disabled to prevent characters after output\n",
    "## Example: \n",
    "## $ echo 'Hii'\n",
    "## | Hi?2004l\n",
    "# bind 'set enable-bracketed-paste off'"
   ]
  },
  {
   "cell_type": "code",
   "execution_count": 2,
   "id": "93ec4a3f",
   "metadata": {},
   "outputs": [
    {
     "name": "stdout",
     "output_type": "stream",
     "text": [
      "0\n"
     ]
    }
   ],
   "source": [
    "## TEST:  Make sure simple prompt used (e.g., no escapes that might contaminate output)\n",
    "## PS1=\"$ \"\n",
    "## TODO: PS1=\"> \"\n",
    "\n",
    "## NOTE: The Jupyter bash kernel requires that PS1 not be modified as they customize it. \n",
    "# echo $PS1\n",
    "actual=${PS1: -1}\n",
    "[ \"$actual\" = \">\" ]; echo $?"
   ]
  },
  {
   "cell_type": "code",
   "execution_count": 3,
   "id": "c6ffbc59",
   "metadata": {},
   "outputs": [],
   "source": [
    "## BAD (SUPER BAD)\n",
    "# # Delete all aliases and function\n",
    "# # TODO: Instead start from pristine environment\n",
    "# unalias -a\n",
    "# alias | wc -l\n",
    "# for f in $(typeset -f | egrep '^\\w+'); do unset -f $f; done\n",
    "# typeset -f | egrep '^\\w+' | wc -l"
   ]
  },
  {
   "cell_type": "code",
   "execution_count": 4,
   "id": "452a278e",
   "metadata": {},
   "outputs": [],
   "source": [
    "# Global Setup\n",
    "alias testuser=\"sed -r \"s/\"$USER\"+/userxf333/g\"\"\n",
    "## For number of digits not being critical\n",
    "alias testnum=\"sed -r \"s/[0-9][0-9]*/N/g\"\""
   ]
  },
  {
   "cell_type": "code",
   "execution_count": 5,
   "id": "233f11ac",
   "metadata": {},
   "outputs": [],
   "source": [
    "# Setting a temp directory for tests\n",
    "## OLD: TMP=/tmp/test-cond-env\n",
    "\n",
    "# OLD\n",
    "# ## NOTE: Source it directly from the ./tests directory.\n",
    "# BIN_DIR=$PWD/..\n",
    "# ## You will need to run jupyter from that directory.\n",
    "# ## source $TEMP_BIN/_dir-aliases.bash\n",
    "# source _dir-aliases.bash\n",
    "# alias | wc -l"
   ]
  },
  {
   "cell_type": "code",
   "execution_count": 6,
   "id": "be943c71",
   "metadata": {},
   "outputs": [
    {
     "name": "stdout",
     "output_type": "stream",
     "text": [
      "renamed '/tmp/test-cond-env-setting/cond-env-settings' -> '/tmp/test-cond-env-setting/cond-env-settings.01May24.7'\n"
     ]
    }
   ],
   "source": [
    "## NOTE: For reproducability, the directory name needs to be fixed\n",
    "## In place of $$, use a psuedo random number (e,g., 1710)\n",
    "## *** All output from one run to the next needs to be the same ***\n",
    "\n",
    "# # temp_dir=$TMP/test-$$\n",
    "# temp_dir=$TMP/test-1710\n",
    "# trash_dir=$TMP/\"_temp-trash-$(date \"+%Y%m%d%H%M%S\")\"\n",
    "# ## OLD\n",
    "# # mkdir -p \"$temp_dir\"\n",
    "# # # TODO: /bin/rm -rvf \"$temp_dir\"\n",
    "# # cd \"$temp_dir\"\n",
    "# command mkdir -p \"$temp_dir\"\n",
    "# command mkdir -p \"$trash_dir\"\n",
    "# # # TODO: /bin/rm -rvf \"$temp_dir\"\n",
    "# command cd \"$temp_dir\"\n",
    "\n",
    "TMP=${TMP:-/tmp}\n",
    "if [ \"$DEBUG_LEVEL\" -lt 4 ]; then TMP=/tmp/test-cond-env-setting; fi\n",
    "\n",
    "temp_dir=$TMP/cond-env-settings\n",
    "rename-with-file-date \"$temp_dir\"\n",
    "command mkdir -p \"$temp_dir\"\n",
    "command cd $temp_dir\n",
    "\n",
    "## OLD: For debugging\n",
    "# pwd\n",
    "\n",
    "## OLD\n",
    "## ALIAS FOR PRINTING SEPERATION LINES (FOR JUPYTER)\n",
    "# alias linebr=\"printf '%*s\\n' \"${COLUMNS:-$(tput cols)}\" '' | tr ' ' -\""
   ]
  },
  {
   "cell_type": "code",
   "execution_count": 7,
   "id": "a67f36df",
   "metadata": {},
   "outputs": [
    {
     "name": "stdout",
     "output_type": "stream",
     "text": [
      "0\n"
     ]
    }
   ],
   "source": [
    "# Count aliases proper\n",
    "## OLD: alias | wc -l | testnum\n",
    "[ \"$(alias | wc -l)\" -gt 440 ]; echo $?"
   ]
  },
  {
   "cell_type": "code",
   "execution_count": 8,
   "id": "c39f70a7",
   "metadata": {},
   "outputs": [
    {
     "name": "stdout",
     "output_type": "stream",
     "text": [
      "0\n"
     ]
    }
   ],
   "source": [
    "# Count functions\n",
    "## OLD: typeset -f | egrep '^\\w+' | wc -l | testnum\n",
    "[ \"$(typeset -f | egrep '^\\w+' | wc -l)\" -gt 480 ]; echo $?"
   ]
  },
  {
   "cell_type": "code",
   "execution_count": 9,
   "id": "e54c2879",
   "metadata": {},
   "outputs": [],
   "source": [
    "## BAD\n",
    "# source $BIN_DIR/tomohara-aliases.bash"
   ]
  },
  {
   "cell_type": "code",
   "execution_count": 10,
   "id": "bb9f1941",
   "metadata": {},
   "outputs": [
    {
     "name": "stdout",
     "output_type": "stream",
     "text": [
      "0\n"
     ]
    }
   ],
   "source": [
    "# SETTING A ENVIRONMENT VARIABLE NAMED COND_ENV_TEST_TEMP\n",
    "\n",
    "cond-setenv COND_ENV_TEST_TEMP tmp/cond-env-test-temp\n",
    "[ \"$COND_ENV_TEST_TEMP\" == \"tmp/cond-env-test-temp\" ]; echo $?"
   ]
  },
  {
   "cell_type": "code",
   "execution_count": 11,
   "id": "a59bf7fd",
   "metadata": {
    "scrolled": true
   },
   "outputs": [
    {
     "name": "stdout",
     "output_type": "stream",
     "text": [
      "0\n"
     ]
    }
   ],
   "source": [
    "# USE OF ENV VARIABLE TO CREATE A SUB-DIRECTORY\n",
    "# BAD: rm -rf ./* > /dev/null\n",
    "mkdir -p $COND_ENV_TEST_TEMP\n",
    "# OLD: ls -l | awk '!($6=$7=$8=\"\")' | testnum | testuser\n",
    "[[ \"$(ls | grep -c tmp)\" -eq 1 && \"$(ls tmp | grep -c cond-env-test-temp)\" -eq 1 ]]; echo $?"
   ]
  },
  {
   "cell_type": "code",
   "execution_count": 12,
   "id": "3d1256f7",
   "metadata": {
    "scrolled": true
   },
   "outputs": [
    {
     "name": "stdout",
     "output_type": "stream",
     "text": [
      "0\n"
     ]
    }
   ],
   "source": [
    "# THE OUTPUT OF printenv IS STORED IN temp-env-1.tmp CREATED IN THE DIRECTORY SPECIFIED BY $COND_ENV_TEST_TEMP\n",
    "## OLD: For debug\n",
    "# pwd\n",
    "printenv > $COND_ENV_TEST_TEMP/temp-env-1.tmp\n",
    "# cat $COND_ENV_TEST_TEMP/temp-env-1.tmp | grep -c \"shell-scripts\"\n",
    "[ \"$(cat $COND_ENV_TEST_TEMP/temp-env-1.tmp | grep -c \"shell-scripts\")\" ]; echo $?"
   ]
  },
  {
   "cell_type": "code",
   "execution_count": 13,
   "id": "3bb906ad",
   "metadata": {},
   "outputs": [],
   "source": [
    "## OLD: Reworked and moved the validation to above cell\n",
    "# cat $COND_ENV_TEST_TEMP/temp-env-1.tmp | grep -q \"shell-scripts\" && echo \"True\" || echo \"False\""
   ]
  },
  {
   "cell_type": "code",
   "execution_count": 14,
   "id": "4f67b1aa",
   "metadata": {},
   "outputs": [
    {
     "name": "stdout",
     "output_type": "stream",
     "text": [
      "Done!\n"
     ]
    }
   ],
   "source": [
    "## OLD: No use og trash_dir: command mv -f * \"$trash_dir\"\n",
    "echo \"Done!\""
   ]
  }
 ],
 "metadata": {
  "kernelspec": {
   "display_name": "Bash",
   "language": "bash",
   "name": "bash"
  },
  "language_info": {
   "codemirror_mode": "shell",
   "file_extension": ".sh",
   "mimetype": "text/x-sh",
   "name": "bash"
  }
 },
 "nbformat": 4,
 "nbformat_minor": 5
}
